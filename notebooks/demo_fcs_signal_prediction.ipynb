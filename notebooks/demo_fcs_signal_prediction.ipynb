{
 "cells": [
  {
   "cell_type": "code",
   "execution_count": null,
   "metadata": {},
   "outputs": [],
   "source": [
    "import os\n",
    "import numpy as np\n",
    "from os.path import expanduser\n",
    "from fcs_signal_prediction.predict import predict_signal\n",
    "from fcs_signal_prediction.utils import data_utils as du\n",
    "\n",
    "\n",
    "%load_ext autoreload\n",
    "%reload_ext autoreload\n",
    "%autoreload 2\n"
   ]
  },
  {
   "cell_type": "code",
   "execution_count": null,
   "metadata": {},
   "outputs": [],
   "source": [
    "DATA_CONVERGE_PROJECT=\"sd2e-project-43\"\n",
    "\n",
    "data_converge_base = os.path.join(expanduser(\"~\"), 'sd2e-projects', DATA_CONVERGE_PROJECT)\n",
    "experiment_dir = os.path.realpath(os.path.join(data_converge_base, 'reactor_outputs', 'complete'))\n",
    "experiment_dir_contents = [os.path.realpath(os.path.join(experiment_dir, x)) for x in os.listdir(experiment_dir)]\n",
    "\n",
    "experiment_dir_contents"
   ]
  },
  {
   "cell_type": "code",
   "execution_count": null,
   "metadata": {},
   "outputs": [],
   "source": [
    "#experiment_id = \"YeastSTATES-CRISPR-Short-Duration-Time-Series-20191208\"\n",
    "experiment_id=\"YeastSTATES-OR-Gate-CRISPR-Dose-Response\"\n",
    "process_dir = os.path.join(experiment_dir, experiment_id)\n",
    "experiment_id_dir_contents = [os.path.realpath(os.path.join(process_dir, x)) for x in os.listdir(process_dir)]\n",
    "experiment_id_dir_contents.sort()\n",
    "last_process = experiment_id_dir_contents[-1]"
   ]
  },
  {
   "cell_type": "code",
   "execution_count": null,
   "metadata": {},
   "outputs": [],
   "source": [
    "id_col = 'sample_id'\n",
    "df = du.get_data(last_process, du.get_record(last_process))\n",
    "meta = du.get_meta(last_process, du.get_record(last_process))\n",
    "#df = du.get_meta(last_process, du.get_record(last_process))\n",
    "df = df.merge(meta[[id_col, 'strain_name']])"
   ]
  },
  {
   "cell_type": "code",
   "execution_count": null,
   "metadata": {},
   "outputs": [],
   "source": [
    "channels = list(df.columns)\n",
    "channels.remove(id_col)\n",
    "channels.remove(\"strain_name\")\n",
    "\n",
    "high_control = 'CRISPR_CEN.PK2_positive_control_NOR_00_24864'\n",
    "low_control = 'CRISPR_CEN.PK2_negative_control_23970'\n",
    "strain_col = \"strain_name\""
   ]
  },
  {
   "cell_type": "code",
   "execution_count": null,
   "metadata": {},
   "outputs": [],
   "source": [
    "predictions = predict_signal(df, experiment_id, low_control, high_control, id_col, channels, strain_col)\n",
    "mean_prediction = predictions.groupby([id_col]).agg({\"predicted_output\" : [np.mean, np.std]}).reset_index()\n",
    "mean_prediction.columns  = mean_prediction.columns.map('_'.join)\n",
    "mean_prediction = mean_prediction.rename(columns={id_col+\"_\": id_col})\n",
    "result = meta.merge(mean_prediction, on=id_col)\n",
    "result"
   ]
  },
  {
   "cell_type": "code",
   "execution_count": null,
   "metadata": {},
   "outputs": [],
   "source": [
    "def get_log_gfp(df):\n",
    "    df['log BL1-A'] = df['BL1-A'].apply(lambda x: x+1.0).apply(np.log10)\n",
    "    return df.replace([np.inf, -np.inf], np.nan).dropna()\n",
    "\n",
    "\n",
    "log_df = get_log_gfp(df).sample(n=int(10e5))"
   ]
  },
  {
   "cell_type": "code",
   "execution_count": null,
   "metadata": {},
   "outputs": [],
   "source": [
    "import matplotlib.pyplot as plt\n",
    "\n",
    "samples = log_df.sample_id.unique()\n",
    "num_samples = len(samples)\n",
    "\n",
    "fig, ax = plt.subplots(num_samples, 1, figsize=(3, 3*num_samples))\n",
    "\n",
    "num=100000\n",
    "\n",
    "high_df = log_df.loc[log_df.strain_name == high_control]#.sample(n=num)\n",
    "low_df = log_df.loc[log_df.strain_name == low_control]#.sample(n=num)\n",
    "\n",
    "for i, sample in enumerate(samples):\n",
    "    #print(i)\n",
    "    sample_df = log_df.loc[log_df.sample_id == sample]\n",
    "    \n",
    "    #sample_df = sample_df.sample(n=min(num, len(sample_df)))\n",
    "\n",
    "    ax[i].hist(high_df['log BL1-A'], label=\"high\")\n",
    "    ax[i].hist(low_df['log BL1-A'], label=\"low\")\n",
    "    ax[i].hist(sample_df['log BL1-A'], label=\"sample\")\n",
    "    ax[i].set_xlim(0, 5)\n",
    "    ax[i].text(6, 0, \"\\n\".join(result[result.sample_id==sample][[\"predicted_output_mean\", \"predicted_output_std\"]].transpose()[0:].to_string().split(\"\\n\")[1:]))\n",
    "    ax[i].set_title(sample)\n",
    "\n",
    "#    if i >= 9: \n",
    "#        break\n",
    "#fig.legend()\n",
    "\n",
    "#result[result.sample_id==sample][[\"predicted_output_mean\", \"predicted_output_std\"]]\n",
    "\n"
   ]
  },
  {
   "cell_type": "code",
   "execution_count": null,
   "metadata": {},
   "outputs": [],
   "source": []
  }
 ],
 "metadata": {
  "kernelspec": {
   "display_name": "Python 3",
   "language": "python",
   "name": "python3"
  }
 },
 "nbformat": 4,
 "nbformat_minor": 2
}
