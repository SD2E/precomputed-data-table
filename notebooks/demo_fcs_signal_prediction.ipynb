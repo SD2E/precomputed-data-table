{
 "cells": [
  {
   "cell_type": "code",
   "execution_count": null,
   "metadata": {},
   "outputs": [],
   "source": [
    "import os\n",
    "import numpy as np\n",
    "from os.path import expanduser\n",
    "from fcs_signal_prediction.main import main\n",
    "\n",
    "%load_ext autoreload\n",
    "%reload_ext autoreload\n",
    "%autoreload 2"
   ]
  },
  {
   "cell_type": "code",
   "execution_count": null,
   "metadata": {},
   "outputs": [],
   "source": [
    "DATA_CONVERGE_PROJECT=\"sd2e-project-43\"\n",
    "\n",
    "data_converge_base = os.path.join(expanduser(\"~\"), 'sd2e-projects', DATA_CONVERGE_PROJECT)\n",
    "experiment_dir = os.path.realpath(os.path.join(data_converge_base, 'reactor_outputs', 'complete'))\n",
    "experiment_dir_contents = [os.path.realpath(os.path.join(experiment_dir, x)) for x in os.listdir(experiment_dir)]\n",
    "\n",
    "experiment_id=\"YeastSTATES-OR-Gate-CRISPR-Dose-Response\"\n",
    "\n",
    "process_dir = os.path.join(experiment_dir, experiment_id)\n",
    "experiment_id_dir_contents = [os.path.realpath(os.path.join(process_dir, x)) for x in os.listdir(process_dir)]\n",
    "experiment_id_dir_contents.sort()\n",
    "\n",
    "last_process = experiment_id_dir_contents[-1]"
   ]
  },
  {
   "cell_type": "code",
   "execution_count": null,
   "metadata": {},
   "outputs": [],
   "source": [
    "high_control = 'CRISPR_CEN.PK2_positive_control_NOR_00_24864'\n",
    "low_control = 'CRISPR_CEN.PK2_negative_control_23970'\n",
    "\n",
    "result, timeseries_fig, samples_and_controls_fig = main(last_process,\n",
    "              experiment_id,\n",
    "              low_control,\n",
    "              high_control)"
   ]
  }
 ],
 "metadata": {
  "kernelspec": {
   "display_name": "Python 3",
   "language": "python",
   "name": "python3"
  },
  "language_info": {
   "codemirror_mode": {
    "name": "ipython",
    "version": 3
   },
   "file_extension": ".py",
   "mimetype": "text/x-python",
   "name": "python",
   "nbconvert_exporter": "python",
   "pygments_lexer": "ipython3",
   "version": "3.6.8"
  }
 },
 "nbformat": 4,
 "nbformat_minor": 2
}
