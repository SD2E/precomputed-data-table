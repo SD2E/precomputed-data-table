{
 "cells": [
  {
   "cell_type": "code",
   "execution_count": 1,
   "metadata": {},
   "outputs": [
    {
     "name": "stderr",
     "output_type": "stream",
     "text": [
      "/work/07431/rmahtab/jupyter_packages/lib/python3.6/site-packages/FlowCytometryTools-0.5.0-py3.6.egg/FlowCytometryTools/core/docstring.py:56: MatplotlibDeprecationWarning: \n",
      "The dedent function was deprecated in Matplotlib 3.1 and will be removed in 3.3. Use inspect.cleandoc instead.\n",
      "  doc = dedent(doc)\n",
      "/work/07431/rmahtab/jupyter_packages/lib/python3.6/site-packages/test_harness-3.3.2-py3.6.egg/harness/test_harness_class.py:23: FutureWarning: Passing a negative integer is deprecated in version 1.0 and will not be supported in future version. Instead, use None to not limit the column width.\n",
      "  pd.set_option('display.max_colwidth', -1)\n"
     ]
    }
   ],
   "source": [
    "import os\n",
    "from os.path import expanduser\n",
    "from grouped_control_prediction.eval import main\n",
    "from grouped_control_prediction.utils import data_utils as du\n",
    "import pandas as pd\n",
    "import numpy as np\n",
    "import pickle\n",
    "import matplotlib.pyplot as plt"
   ]
  },
  {
   "cell_type": "code",
   "execution_count": 2,
   "metadata": {},
   "outputs": [
    {
     "name": "stdout",
     "output_type": "stream",
     "text": [
      "Prediction Dataset: YeastSTATES-OR-Gate-CRISPR-Dose-Response_20200625204022\n"
     ]
    }
   ],
   "source": [
    "# Set up data path\n",
    "DATA_CONVERGE_PROJECT=\"sd2e-project-43\"\n",
    "data_converge_base = os.path.join(expanduser(\"~\"), 'sd2e-projects', DATA_CONVERGE_PROJECT)\n",
    "experiment_dir = os.path.realpath(os.path.join(data_converge_base, 'reactor_outputs', 'complete'))\n",
    "experiment_dir_contents = [os.path.realpath(os.path.join(experiment_dir, x)) for x in os.listdir(experiment_dir)]\n",
    "\n",
    "# Prediction Data\n",
    "experiment_id=\"YeastSTATES-OR-Gate-CRISPR-Dose-Response\"\n",
    "process_dir = os.path.join(experiment_dir, experiment_id)\n",
    "experiment_id_dir_contents = [os.path.realpath(os.path.join(process_dir, x)) for x in os.listdir(process_dir)]\n",
    "experiment_id_dir_contents.sort()\n",
    "last_process = experiment_id_dir_contents[-1]\n",
    "prediction_dataset = last_process[last_process.find(experiment_id):].replace(\"/\", \"_\")\n",
    "print(\"Prediction Dataset: \" + prediction_dataset)"
   ]
  },
  {
   "cell_type": "code",
   "execution_count": 3,
   "metadata": {},
   "outputs": [],
   "source": [
    "# Get the data and metadata\n",
    "df = du.get_data_and_metadata(last_process)\n",
    "meta = du.get_meta(last_process, du.get_record(last_process))\n",
    "meta = meta.rename(columns={'well':'well_id'})\n",
    "\n",
    "# Inspect dataframe shape and experiment IDs\n",
    "print(df.shape)\n",
    "print(df.experiment_id.unique())"
   ]
  },
  {
   "cell_type": "code",
   "execution_count": 5,
   "metadata": {
    "scrolled": true
   },
   "outputs": [
    {
     "name": "stdout",
     "output_type": "stream",
     "text": [
      "Size 5\n",
      "Replicate 1\n",
      "top_n\n",
      "Average control distance: 72.58067239031156\n",
      "Grouping sampled control sets...\n"
     ]
    },
    {
     "name": "stderr",
     "output_type": "stream",
     "text": [
      "/opt/conda/lib/python3.6/site-packages/IPython/core/interactiveshell.py:3296: DtypeWarning: Columns (13) have mixed types.Specify dtype option on import or set low_memory=False.\n",
      "  exec(code_obj, self.user_global_ns, self.user_ns)\n",
      "/work/07431/rmahtab/jupyter_packages/lib/python3.6/site-packages/numpy/lib/arraysetops.py:569: FutureWarning: elementwise comparison failed; returning scalar instead, but in the future will perform elementwise comparison\n",
      "  mask |= (ar1 == a)\n"
     ]
    },
    {
     "name": "stdout",
     "output_type": "stream",
     "text": [
      "1/5(r1dfxeycahns9y_r1dg8u3z9yzuuq.csv)\n",
      "2/5(r1ce3p3p7j77n_r1ceevbnsqku2.csv)\n",
      "3/5(r1dgppew9w7j7p_r1dgwudtwth732.csv)\n",
      "4/5(r1ce3p4vgfu3p_r1ceebve8d6tc.csv)\n",
      "5/5(r1dgppdqbd2mmk_r1dgwy63p8x5uz.csv)\n",
      "\n",
      "----------------------------------------------------------------------------------------------------\n",
      "Starting run of model 17:11:50 at time random_forest_classification\n",
      "Normalizing training and testing splits...\n",
      "Starting Classification training...\n",
      "Training time was: 12.13 seconds\n",
      "Testing time was: 0.45 seconds\n",
      "Prediction time of untested data was: 50.79637622833252\n",
      "Run finished at 17:13:42. Total run time = 112.31 seconds\n",
      "^^^^^^^^^^^^^^^^^^^^^^^^^^^^^^^^^^^^^^^^^^^^^^^^^^^^^^^^^^^^^^^^^^^^^^^^^^^^^^^^^^^^^^^^^^^^^^^^^^^^\n",
      "\n",
      "\n",
      "\n",
      "\n"
     ]
    },
    {
     "name": "stderr",
     "output_type": "stream",
     "text": [
      "/work/07431/rmahtab/jupyter_packages/lib/python3.6/site-packages/pandas/core/indexing.py:966: SettingWithCopyWarning: \n",
      "A value is trying to be set on a copy of a slice from a DataFrame.\n",
      "Try using .loc[row_indexer,col_indexer] = value instead\n",
      "\n",
      "See the caveats in the documentation: https://pandas.pydata.org/pandas-docs/stable/user_guide/indexing.html#returning-a-view-versus-a-copy\n",
      "  self.obj[item] = s\n"
     ]
    },
    {
     "name": "stdout",
     "output_type": "stream",
     "text": [
      "Replicate 2\n",
      "top_n\n",
      "Average control distance: 72.58067239031156\n",
      "Grouping sampled control sets...\n"
     ]
    },
    {
     "name": "stderr",
     "output_type": "stream",
     "text": [
      "/opt/conda/lib/python3.6/site-packages/IPython/core/interactiveshell.py:3296: DtypeWarning: Columns (13) have mixed types.Specify dtype option on import or set low_memory=False.\n",
      "  exec(code_obj, self.user_global_ns, self.user_ns)\n",
      "/work/07431/rmahtab/jupyter_packages/lib/python3.6/site-packages/numpy/lib/arraysetops.py:569: FutureWarning: elementwise comparison failed; returning scalar instead, but in the future will perform elementwise comparison\n",
      "  mask |= (ar1 == a)\n"
     ]
    },
    {
     "name": "stdout",
     "output_type": "stream",
     "text": [
      "1/5(r1dfxeycahns9y_r1dg8u3z9yzuuq.csv)\n",
      "2/5(r1ce3p3p7j77n_r1ceevbnsqku2.csv)\n",
      "3/5(r1dgppew9w7j7p_r1dgwudtwth732.csv)\n",
      "4/5(r1ce3p4vgfu3p_r1ceebve8d6tc.csv)\n",
      "5/5(r1dgppdqbd2mmk_r1dgwy63p8x5uz.csv)\n",
      "\n",
      "----------------------------------------------------------------------------------------------------\n",
      "Starting run of model 17:14:50 at time random_forest_classification\n",
      "Normalizing training and testing splits...\n",
      "Starting Classification training...\n",
      "Training time was: 11.94 seconds\n",
      "Testing time was: 0.45 seconds\n",
      "Prediction time of untested data was: 66.16795468330383\n",
      "Run finished at 17:17:06. Total run time = 135.37 seconds\n",
      "^^^^^^^^^^^^^^^^^^^^^^^^^^^^^^^^^^^^^^^^^^^^^^^^^^^^^^^^^^^^^^^^^^^^^^^^^^^^^^^^^^^^^^^^^^^^^^^^^^^^\n",
      "\n",
      "\n",
      "\n",
      "\n"
     ]
    },
    {
     "name": "stderr",
     "output_type": "stream",
     "text": [
      "/work/07431/rmahtab/jupyter_packages/lib/python3.6/site-packages/pandas/core/indexing.py:966: SettingWithCopyWarning: \n",
      "A value is trying to be set on a copy of a slice from a DataFrame.\n",
      "Try using .loc[row_indexer,col_indexer] = value instead\n",
      "\n",
      "See the caveats in the documentation: https://pandas.pydata.org/pandas-docs/stable/user_guide/indexing.html#returning-a-view-versus-a-copy\n",
      "  self.obj[item] = s\n"
     ]
    },
    {
     "name": "stdout",
     "output_type": "stream",
     "text": [
      "Replicate 3\n",
      "top_n\n",
      "Average control distance: 72.58067239031156\n",
      "Grouping sampled control sets...\n"
     ]
    },
    {
     "name": "stderr",
     "output_type": "stream",
     "text": [
      "/opt/conda/lib/python3.6/site-packages/IPython/core/interactiveshell.py:3296: DtypeWarning: Columns (13) have mixed types.Specify dtype option on import or set low_memory=False.\n",
      "  exec(code_obj, self.user_global_ns, self.user_ns)\n",
      "/work/07431/rmahtab/jupyter_packages/lib/python3.6/site-packages/numpy/lib/arraysetops.py:569: FutureWarning: elementwise comparison failed; returning scalar instead, but in the future will perform elementwise comparison\n",
      "  mask |= (ar1 == a)\n"
     ]
    },
    {
     "name": "stdout",
     "output_type": "stream",
     "text": [
      "1/5(r1dfxeycahns9y_r1dg8u3z9yzuuq.csv)\n",
      "2/5(r1ce3p3p7j77n_r1ceevbnsqku2.csv)\n",
      "3/5(r1dgppew9w7j7p_r1dgwudtwth732.csv)\n",
      "4/5(r1ce3p4vgfu3p_r1ceebve8d6tc.csv)\n",
      "5/5(r1dgppdqbd2mmk_r1dgwy63p8x5uz.csv)\n",
      "\n",
      "----------------------------------------------------------------------------------------------------\n",
      "Starting run of model 17:18:18 at time random_forest_classification\n",
      "Normalizing training and testing splits...\n",
      "Starting Classification training...\n",
      "Training time was: 12.35 seconds\n",
      "Testing time was: 0.55 seconds\n",
      "Prediction time of untested data was: 57.60216474533081\n",
      "Run finished at 17:20:31. Total run time = 133.08 seconds\n",
      "^^^^^^^^^^^^^^^^^^^^^^^^^^^^^^^^^^^^^^^^^^^^^^^^^^^^^^^^^^^^^^^^^^^^^^^^^^^^^^^^^^^^^^^^^^^^^^^^^^^^\n",
      "\n",
      "\n",
      "\n",
      "\n"
     ]
    },
    {
     "name": "stderr",
     "output_type": "stream",
     "text": [
      "/work/07431/rmahtab/jupyter_packages/lib/python3.6/site-packages/pandas/core/indexing.py:966: SettingWithCopyWarning: \n",
      "A value is trying to be set on a copy of a slice from a DataFrame.\n",
      "Try using .loc[row_indexer,col_indexer] = value instead\n",
      "\n",
      "See the caveats in the documentation: https://pandas.pydata.org/pandas-docs/stable/user_guide/indexing.html#returning-a-view-versus-a-copy\n",
      "  self.obj[item] = s\n"
     ]
    },
    {
     "name": "stdout",
     "output_type": "stream",
     "text": [
      "Replicate 4\n",
      "top_n\n",
      "Average control distance: 72.58067239031156\n",
      "Grouping sampled control sets...\n"
     ]
    },
    {
     "name": "stderr",
     "output_type": "stream",
     "text": [
      "/opt/conda/lib/python3.6/site-packages/IPython/core/interactiveshell.py:3296: DtypeWarning: Columns (13) have mixed types.Specify dtype option on import or set low_memory=False.\n",
      "  exec(code_obj, self.user_global_ns, self.user_ns)\n",
      "/work/07431/rmahtab/jupyter_packages/lib/python3.6/site-packages/numpy/lib/arraysetops.py:569: FutureWarning: elementwise comparison failed; returning scalar instead, but in the future will perform elementwise comparison\n",
      "  mask |= (ar1 == a)\n"
     ]
    },
    {
     "name": "stdout",
     "output_type": "stream",
     "text": [
      "1/5(r1dfxeycahns9y_r1dg8u3z9yzuuq.csv)\n",
      "2/5(r1ce3p3p7j77n_r1ceevbnsqku2.csv)\n",
      "3/5(r1dgppew9w7j7p_r1dgwudtwth732.csv)\n",
      "4/5(r1ce3p4vgfu3p_r1ceebve8d6tc.csv)\n",
      "5/5(r1dgppdqbd2mmk_r1dgwy63p8x5uz.csv)\n",
      "\n",
      "----------------------------------------------------------------------------------------------------\n",
      "Starting run of model 17:21:55 at time random_forest_classification\n",
      "Normalizing training and testing splits...\n",
      "Starting Classification training...\n",
      "Training time was: 12.14 seconds\n",
      "Testing time was: 0.56 seconds\n",
      "Prediction time of untested data was: 52.16849493980408\n",
      "Run finished at 17:23:50. Total run time = 114.94 seconds\n",
      "^^^^^^^^^^^^^^^^^^^^^^^^^^^^^^^^^^^^^^^^^^^^^^^^^^^^^^^^^^^^^^^^^^^^^^^^^^^^^^^^^^^^^^^^^^^^^^^^^^^^\n",
      "\n",
      "\n",
      "\n",
      "\n"
     ]
    },
    {
     "name": "stderr",
     "output_type": "stream",
     "text": [
      "/work/07431/rmahtab/jupyter_packages/lib/python3.6/site-packages/pandas/core/indexing.py:966: SettingWithCopyWarning: \n",
      "A value is trying to be set on a copy of a slice from a DataFrame.\n",
      "Try using .loc[row_indexer,col_indexer] = value instead\n",
      "\n",
      "See the caveats in the documentation: https://pandas.pydata.org/pandas-docs/stable/user_guide/indexing.html#returning-a-view-versus-a-copy\n",
      "  self.obj[item] = s\n"
     ]
    },
    {
     "name": "stdout",
     "output_type": "stream",
     "text": [
      "Replicate 5\n",
      "top_n\n",
      "Average control distance: 72.58067239031156\n",
      "Grouping sampled control sets...\n"
     ]
    },
    {
     "name": "stderr",
     "output_type": "stream",
     "text": [
      "/opt/conda/lib/python3.6/site-packages/IPython/core/interactiveshell.py:3296: DtypeWarning: Columns (13) have mixed types.Specify dtype option on import or set low_memory=False.\n",
      "  exec(code_obj, self.user_global_ns, self.user_ns)\n",
      "/work/07431/rmahtab/jupyter_packages/lib/python3.6/site-packages/numpy/lib/arraysetops.py:569: FutureWarning: elementwise comparison failed; returning scalar instead, but in the future will perform elementwise comparison\n",
      "  mask |= (ar1 == a)\n"
     ]
    },
    {
     "name": "stdout",
     "output_type": "stream",
     "text": [
      "1/5(r1dfxeycahns9y_r1dg8u3z9yzuuq.csv)\n",
      "2/5(r1ce3p3p7j77n_r1ceevbnsqku2.csv)\n",
      "3/5(r1dgppew9w7j7p_r1dgwudtwth732.csv)\n",
      "4/5(r1ce3p4vgfu3p_r1ceebve8d6tc.csv)\n",
      "5/5(r1dgppdqbd2mmk_r1dgwy63p8x5uz.csv)\n",
      "\n",
      "----------------------------------------------------------------------------------------------------\n",
      "Starting run of model 17:25:00 at time random_forest_classification\n",
      "Normalizing training and testing splits...\n",
      "Starting Classification training...\n",
      "Training time was: 11.84 seconds\n",
      "Testing time was: 0.45 seconds\n",
      "Prediction time of untested data was: 65.93587446212769\n",
      "Run finished at 17:27:12. Total run time = 132.50 seconds\n",
      "^^^^^^^^^^^^^^^^^^^^^^^^^^^^^^^^^^^^^^^^^^^^^^^^^^^^^^^^^^^^^^^^^^^^^^^^^^^^^^^^^^^^^^^^^^^^^^^^^^^^\n",
      "\n",
      "\n",
      "\n",
      "\n"
     ]
    },
    {
     "name": "stderr",
     "output_type": "stream",
     "text": [
      "/work/07431/rmahtab/jupyter_packages/lib/python3.6/site-packages/pandas/core/indexing.py:966: SettingWithCopyWarning: \n",
      "A value is trying to be set on a copy of a slice from a DataFrame.\n",
      "Try using .loc[row_indexer,col_indexer] = value instead\n",
      "\n",
      "See the caveats in the documentation: https://pandas.pydata.org/pandas-docs/stable/user_guide/indexing.html#returning-a-view-versus-a-copy\n",
      "  self.obj[item] = s\n"
     ]
    },
    {
     "name": "stdout",
     "output_type": "stream",
     "text": [
      "Size 10\n",
      "Replicate 1\n",
      "top_n\n",
      "Average control distance: 73.45163779851973\n",
      "Grouping sampled control sets...\n"
     ]
    },
    {
     "name": "stderr",
     "output_type": "stream",
     "text": [
      "/opt/conda/lib/python3.6/site-packages/IPython/core/interactiveshell.py:3296: DtypeWarning: Columns (13) have mixed types.Specify dtype option on import or set low_memory=False.\n",
      "  exec(code_obj, self.user_global_ns, self.user_ns)\n",
      "/work/07431/rmahtab/jupyter_packages/lib/python3.6/site-packages/numpy/lib/arraysetops.py:569: FutureWarning: elementwise comparison failed; returning scalar instead, but in the future will perform elementwise comparison\n",
      "  mask |= (ar1 == a)\n"
     ]
    },
    {
     "name": "stdout",
     "output_type": "stream",
     "text": [
      "1/10(r1dfxeycahns9y_r1dg8u3z9yzuuq.csv)\n",
      "2/10(r1ce3p3p7j77n_r1ceevbnsqku2.csv)\n",
      "3/10(r1dgppew9w7j7p_r1dgwudtwth732.csv)\n",
      "4/10(r1ce3p4vgfu3p_r1ceebve8d6tc.csv)\n",
      "5/10(r1dgppdqbd2mmk_r1dgwy63p8x5uz.csv)\n",
      "6/10(r1cckyeq9r358_r1ccqgmy5ffcd.csv)\n",
      "7/10(r1dgppg46aeknn_r1dgwpywx6rtc8.csv)\n",
      "8/10(r1cfkpq8n84aj_r1cftg78pbqd7.csv)\n",
      "9/10(r1df5qs7jb4fwq_r1dff64wwmq4gt.csv)\n",
      "10/10(r1dfxezj7aae4s_r1dg5dthycwjb7.csv)\n",
      "\n",
      "----------------------------------------------------------------------------------------------------\n",
      "Starting run of model 17:29:46 at time random_forest_classification\n",
      "Normalizing training and testing splits...\n",
      "Starting Classification training...\n",
      "Training time was: 28.28 seconds\n",
      "Testing time was: 0.88 seconds\n",
      "Prediction time of untested data was: 58.288310527801514\n",
      "Run finished at 17:32:18. Total run time = 152.15 seconds\n",
      "^^^^^^^^^^^^^^^^^^^^^^^^^^^^^^^^^^^^^^^^^^^^^^^^^^^^^^^^^^^^^^^^^^^^^^^^^^^^^^^^^^^^^^^^^^^^^^^^^^^^\n",
      "\n",
      "\n",
      "\n",
      "\n"
     ]
    },
    {
     "name": "stderr",
     "output_type": "stream",
     "text": [
      "/work/07431/rmahtab/jupyter_packages/lib/python3.6/site-packages/pandas/core/indexing.py:966: SettingWithCopyWarning: \n",
      "A value is trying to be set on a copy of a slice from a DataFrame.\n",
      "Try using .loc[row_indexer,col_indexer] = value instead\n",
      "\n",
      "See the caveats in the documentation: https://pandas.pydata.org/pandas-docs/stable/user_guide/indexing.html#returning-a-view-versus-a-copy\n",
      "  self.obj[item] = s\n"
     ]
    },
    {
     "name": "stdout",
     "output_type": "stream",
     "text": [
      "Replicate 2\n",
      "top_n\n",
      "Average control distance: 73.45163779851973\n",
      "Grouping sampled control sets...\n"
     ]
    },
    {
     "name": "stderr",
     "output_type": "stream",
     "text": [
      "/opt/conda/lib/python3.6/site-packages/IPython/core/interactiveshell.py:3296: DtypeWarning: Columns (13) have mixed types.Specify dtype option on import or set low_memory=False.\n",
      "  exec(code_obj, self.user_global_ns, self.user_ns)\n",
      "/work/07431/rmahtab/jupyter_packages/lib/python3.6/site-packages/numpy/lib/arraysetops.py:569: FutureWarning: elementwise comparison failed; returning scalar instead, but in the future will perform elementwise comparison\n",
      "  mask |= (ar1 == a)\n"
     ]
    },
    {
     "name": "stdout",
     "output_type": "stream",
     "text": [
      "1/10(r1dfxeycahns9y_r1dg8u3z9yzuuq.csv)\n",
      "2/10(r1ce3p3p7j77n_r1ceevbnsqku2.csv)\n",
      "3/10(r1dgppew9w7j7p_r1dgwudtwth732.csv)\n",
      "4/10(r1ce3p4vgfu3p_r1ceebve8d6tc.csv)\n",
      "5/10(r1dgppdqbd2mmk_r1dgwy63p8x5uz.csv)\n",
      "6/10(r1cckyeq9r358_r1ccqgmy5ffcd.csv)\n",
      "7/10(r1dgppg46aeknn_r1dgwpywx6rtc8.csv)\n",
      "8/10(r1cfkpq8n84aj_r1cftg78pbqd7.csv)\n",
      "9/10(r1df5qs7jb4fwq_r1dff64wwmq4gt.csv)\n",
      "10/10(r1dfxezj7aae4s_r1dg5dthycwjb7.csv)\n",
      "\n",
      "----------------------------------------------------------------------------------------------------\n",
      "Starting run of model 17:34:58 at time random_forest_classification\n",
      "Normalizing training and testing splits...\n",
      "Starting Classification training...\n",
      "Training time was: 26.69 seconds\n",
      "Testing time was: 0.92 seconds\n",
      "Prediction time of untested data was: 54.831249952316284\n",
      "Run finished at 17:37:16. Total run time = 137.84 seconds\n",
      "^^^^^^^^^^^^^^^^^^^^^^^^^^^^^^^^^^^^^^^^^^^^^^^^^^^^^^^^^^^^^^^^^^^^^^^^^^^^^^^^^^^^^^^^^^^^^^^^^^^^\n",
      "\n",
      "\n",
      "\n",
      "\n"
     ]
    },
    {
     "name": "stderr",
     "output_type": "stream",
     "text": [
      "/work/07431/rmahtab/jupyter_packages/lib/python3.6/site-packages/pandas/core/indexing.py:966: SettingWithCopyWarning: \n",
      "A value is trying to be set on a copy of a slice from a DataFrame.\n",
      "Try using .loc[row_indexer,col_indexer] = value instead\n",
      "\n",
      "See the caveats in the documentation: https://pandas.pydata.org/pandas-docs/stable/user_guide/indexing.html#returning-a-view-versus-a-copy\n",
      "  self.obj[item] = s\n"
     ]
    },
    {
     "name": "stdout",
     "output_type": "stream",
     "text": [
      "Replicate 3\n",
      "top_n\n",
      "Average control distance: 73.45163779851973\n",
      "Grouping sampled control sets...\n"
     ]
    },
    {
     "name": "stderr",
     "output_type": "stream",
     "text": [
      "/opt/conda/lib/python3.6/site-packages/IPython/core/interactiveshell.py:3296: DtypeWarning: Columns (13) have mixed types.Specify dtype option on import or set low_memory=False.\n",
      "  exec(code_obj, self.user_global_ns, self.user_ns)\n",
      "/work/07431/rmahtab/jupyter_packages/lib/python3.6/site-packages/numpy/lib/arraysetops.py:569: FutureWarning: elementwise comparison failed; returning scalar instead, but in the future will perform elementwise comparison\n",
      "  mask |= (ar1 == a)\n"
     ]
    },
    {
     "name": "stdout",
     "output_type": "stream",
     "text": [
      "1/10(r1dfxeycahns9y_r1dg8u3z9yzuuq.csv)\n",
      "2/10(r1ce3p3p7j77n_r1ceevbnsqku2.csv)\n",
      "3/10(r1dgppew9w7j7p_r1dgwudtwth732.csv)\n",
      "4/10(r1ce3p4vgfu3p_r1ceebve8d6tc.csv)\n",
      "5/10(r1dgppdqbd2mmk_r1dgwy63p8x5uz.csv)\n",
      "6/10(r1cckyeq9r358_r1ccqgmy5ffcd.csv)\n",
      "7/10(r1dgppg46aeknn_r1dgwpywx6rtc8.csv)\n",
      "8/10(r1cfkpq8n84aj_r1cftg78pbqd7.csv)\n",
      "9/10(r1df5qs7jb4fwq_r1dff64wwmq4gt.csv)\n",
      "10/10(r1dfxezj7aae4s_r1dg5dthycwjb7.csv)\n",
      "\n",
      "----------------------------------------------------------------------------------------------------\n",
      "Starting run of model 17:39:40 at time random_forest_classification\n",
      "Normalizing training and testing splits...\n",
      "Starting Classification training...\n",
      "Training time was: 26.78 seconds\n",
      "Testing time was: 0.89 seconds\n",
      "Prediction time of untested data was: 51.38151526451111\n",
      "Run finished at 17:41:50. Total run time = 130.06 seconds\n",
      "^^^^^^^^^^^^^^^^^^^^^^^^^^^^^^^^^^^^^^^^^^^^^^^^^^^^^^^^^^^^^^^^^^^^^^^^^^^^^^^^^^^^^^^^^^^^^^^^^^^^\n",
      "\n",
      "\n",
      "\n",
      "\n"
     ]
    },
    {
     "name": "stderr",
     "output_type": "stream",
     "text": [
      "/work/07431/rmahtab/jupyter_packages/lib/python3.6/site-packages/pandas/core/indexing.py:966: SettingWithCopyWarning: \n",
      "A value is trying to be set on a copy of a slice from a DataFrame.\n",
      "Try using .loc[row_indexer,col_indexer] = value instead\n",
      "\n",
      "See the caveats in the documentation: https://pandas.pydata.org/pandas-docs/stable/user_guide/indexing.html#returning-a-view-versus-a-copy\n",
      "  self.obj[item] = s\n"
     ]
    },
    {
     "name": "stdout",
     "output_type": "stream",
     "text": [
      "Replicate 4\n",
      "top_n\n",
      "Average control distance: 73.45163779851973\n",
      "Grouping sampled control sets...\n"
     ]
    },
    {
     "name": "stderr",
     "output_type": "stream",
     "text": [
      "/opt/conda/lib/python3.6/site-packages/IPython/core/interactiveshell.py:3296: DtypeWarning: Columns (13) have mixed types.Specify dtype option on import or set low_memory=False.\n",
      "  exec(code_obj, self.user_global_ns, self.user_ns)\n",
      "/work/07431/rmahtab/jupyter_packages/lib/python3.6/site-packages/numpy/lib/arraysetops.py:569: FutureWarning: elementwise comparison failed; returning scalar instead, but in the future will perform elementwise comparison\n",
      "  mask |= (ar1 == a)\n"
     ]
    },
    {
     "name": "stdout",
     "output_type": "stream",
     "text": [
      "1/10(r1dfxeycahns9y_r1dg8u3z9yzuuq.csv)\n",
      "2/10(r1ce3p3p7j77n_r1ceevbnsqku2.csv)\n",
      "3/10(r1dgppew9w7j7p_r1dgwudtwth732.csv)\n",
      "4/10(r1ce3p4vgfu3p_r1ceebve8d6tc.csv)\n",
      "5/10(r1dgppdqbd2mmk_r1dgwy63p8x5uz.csv)\n",
      "6/10(r1cckyeq9r358_r1ccqgmy5ffcd.csv)\n",
      "7/10(r1dgppg46aeknn_r1dgwpywx6rtc8.csv)\n",
      "8/10(r1cfkpq8n84aj_r1cftg78pbqd7.csv)\n",
      "9/10(r1df5qs7jb4fwq_r1dff64wwmq4gt.csv)\n",
      "10/10(r1dfxezj7aae4s_r1dg5dthycwjb7.csv)\n",
      "\n",
      "----------------------------------------------------------------------------------------------------\n",
      "Starting run of model 17:44:14 at time random_forest_classification\n",
      "Normalizing training and testing splits...\n",
      "Starting Classification training...\n",
      "Training time was: 26.50 seconds\n",
      "Testing time was: 9.77 seconds\n",
      "Prediction time of untested data was: 54.84161829948425\n",
      "Run finished at 17:46:44. Total run time = 150.46 seconds\n",
      "^^^^^^^^^^^^^^^^^^^^^^^^^^^^^^^^^^^^^^^^^^^^^^^^^^^^^^^^^^^^^^^^^^^^^^^^^^^^^^^^^^^^^^^^^^^^^^^^^^^^\n",
      "\n",
      "\n",
      "\n",
      "\n"
     ]
    },
    {
     "name": "stderr",
     "output_type": "stream",
     "text": [
      "/work/07431/rmahtab/jupyter_packages/lib/python3.6/site-packages/pandas/core/indexing.py:966: SettingWithCopyWarning: \n",
      "A value is trying to be set on a copy of a slice from a DataFrame.\n",
      "Try using .loc[row_indexer,col_indexer] = value instead\n",
      "\n",
      "See the caveats in the documentation: https://pandas.pydata.org/pandas-docs/stable/user_guide/indexing.html#returning-a-view-versus-a-copy\n",
      "  self.obj[item] = s\n"
     ]
    },
    {
     "name": "stdout",
     "output_type": "stream",
     "text": [
      "Replicate 5\n",
      "top_n\n",
      "Average control distance: 73.45163779851973\n",
      "Grouping sampled control sets...\n"
     ]
    },
    {
     "name": "stderr",
     "output_type": "stream",
     "text": [
      "/opt/conda/lib/python3.6/site-packages/IPython/core/interactiveshell.py:3296: DtypeWarning: Columns (13) have mixed types.Specify dtype option on import or set low_memory=False.\n",
      "  exec(code_obj, self.user_global_ns, self.user_ns)\n",
      "/work/07431/rmahtab/jupyter_packages/lib/python3.6/site-packages/numpy/lib/arraysetops.py:569: FutureWarning: elementwise comparison failed; returning scalar instead, but in the future will perform elementwise comparison\n",
      "  mask |= (ar1 == a)\n"
     ]
    },
    {
     "name": "stdout",
     "output_type": "stream",
     "text": [
      "1/10(r1dfxeycahns9y_r1dg8u3z9yzuuq.csv)\n",
      "2/10(r1ce3p3p7j77n_r1ceevbnsqku2.csv)\n",
      "3/10(r1dgppew9w7j7p_r1dgwudtwth732.csv)\n",
      "4/10(r1ce3p4vgfu3p_r1ceebve8d6tc.csv)\n",
      "5/10(r1dgppdqbd2mmk_r1dgwy63p8x5uz.csv)\n",
      "6/10(r1cckyeq9r358_r1ccqgmy5ffcd.csv)\n",
      "7/10(r1dgppg46aeknn_r1dgwpywx6rtc8.csv)\n",
      "8/10(r1cfkpq8n84aj_r1cftg78pbqd7.csv)\n",
      "9/10(r1df5qs7jb4fwq_r1dff64wwmq4gt.csv)\n",
      "10/10(r1dfxezj7aae4s_r1dg5dthycwjb7.csv)\n",
      "\n",
      "----------------------------------------------------------------------------------------------------\n",
      "Starting run of model 17:49:13 at time random_forest_classification\n",
      "Normalizing training and testing splits...\n",
      "Starting Classification training...\n",
      "Training time was: 26.65 seconds\n",
      "Testing time was: 0.88 seconds\n",
      "Prediction time of untested data was: 54.051851987838745\n",
      "Run finished at 17:51:26. Total run time = 133.33 seconds\n",
      "^^^^^^^^^^^^^^^^^^^^^^^^^^^^^^^^^^^^^^^^^^^^^^^^^^^^^^^^^^^^^^^^^^^^^^^^^^^^^^^^^^^^^^^^^^^^^^^^^^^^\n",
      "\n",
      "\n",
      "\n",
      "\n"
     ]
    },
    {
     "name": "stderr",
     "output_type": "stream",
     "text": [
      "/work/07431/rmahtab/jupyter_packages/lib/python3.6/site-packages/pandas/core/indexing.py:966: SettingWithCopyWarning: \n",
      "A value is trying to be set on a copy of a slice from a DataFrame.\n",
      "Try using .loc[row_indexer,col_indexer] = value instead\n",
      "\n",
      "See the caveats in the documentation: https://pandas.pydata.org/pandas-docs/stable/user_guide/indexing.html#returning-a-view-versus-a-copy\n",
      "  self.obj[item] = s\n"
     ]
    },
    {
     "name": "stdout",
     "output_type": "stream",
     "text": [
      "Size 15\n",
      "Replicate 1\n",
      "top_n\n",
      "Average control distance: 73.8902440303581\n",
      "Grouping sampled control sets...\n"
     ]
    },
    {
     "name": "stderr",
     "output_type": "stream",
     "text": [
      "/opt/conda/lib/python3.6/site-packages/IPython/core/interactiveshell.py:3296: DtypeWarning: Columns (13) have mixed types.Specify dtype option on import or set low_memory=False.\n",
      "  exec(code_obj, self.user_global_ns, self.user_ns)\n",
      "/work/07431/rmahtab/jupyter_packages/lib/python3.6/site-packages/numpy/lib/arraysetops.py:569: FutureWarning: elementwise comparison failed; returning scalar instead, but in the future will perform elementwise comparison\n",
      "  mask |= (ar1 == a)\n"
     ]
    },
    {
     "name": "stdout",
     "output_type": "stream",
     "text": [
      "1/15(r1dfxeycahns9y_r1dg8u3z9yzuuq.csv)\n",
      "2/15(r1ce3p3p7j77n_r1ceevbnsqku2.csv)\n",
      "3/15(r1dgppew9w7j7p_r1dgwudtwth732.csv)\n",
      "4/15(r1ce3p4vgfu3p_r1ceebve8d6tc.csv)\n",
      "5/15(r1dgppdqbd2mmk_r1dgwy63p8x5uz.csv)\n",
      "6/15(r1cckyeq9r358_r1ccqgmy5ffcd.csv)\n",
      "7/15(r1dgppg46aeknn_r1dgwpywx6rtc8.csv)\n",
      "8/15(r1cfkpq8n84aj_r1cftg78pbqd7.csv)\n",
      "9/15(r1df5qs7jb4fwq_r1dff64wwmq4gt.csv)\n",
      "10/15(r1dfxezj7aae4s_r1dg5dthycwjb7.csv)\n",
      "11/15(r1cdfr4bjcnrg_r1cdnuqex83dm.csv)\n",
      "12/15(r1d6r8mvznxxme_r1d8jxmssfag5w.csv)\n",
      "13/15(r1cwvvwryt3q49_r1cx4ux3zcdt4w.csv)\n",
      "14/15(r1cdhymqfs6b3_r1cdnzf4hbuz2.csv)\n",
      "15/15(r1cfkpuz2kr6c_r1cfpvk5hjkzb.csv)\n",
      "\n",
      "----------------------------------------------------------------------------------------------------\n",
      "Starting run of model 17:54:59 at time random_forest_classification\n",
      "Normalizing training and testing splits...\n",
      "Starting Classification training...\n",
      "Training time was: 44.67 seconds\n",
      "Testing time was: 1.31 seconds\n",
      "Prediction time of untested data was: 58.41665816307068\n",
      "Run finished at 17:57:48. Total run time = 169.62 seconds\n",
      "^^^^^^^^^^^^^^^^^^^^^^^^^^^^^^^^^^^^^^^^^^^^^^^^^^^^^^^^^^^^^^^^^^^^^^^^^^^^^^^^^^^^^^^^^^^^^^^^^^^^\n",
      "\n",
      "\n",
      "\n",
      "\n"
     ]
    },
    {
     "name": "stderr",
     "output_type": "stream",
     "text": [
      "/work/07431/rmahtab/jupyter_packages/lib/python3.6/site-packages/pandas/core/indexing.py:966: SettingWithCopyWarning: \n",
      "A value is trying to be set on a copy of a slice from a DataFrame.\n",
      "Try using .loc[row_indexer,col_indexer] = value instead\n",
      "\n",
      "See the caveats in the documentation: https://pandas.pydata.org/pandas-docs/stable/user_guide/indexing.html#returning-a-view-versus-a-copy\n",
      "  self.obj[item] = s\n"
     ]
    },
    {
     "name": "stdout",
     "output_type": "stream",
     "text": [
      "Replicate 2\n",
      "top_n\n",
      "Average control distance: 73.8902440303581\n",
      "Grouping sampled control sets...\n"
     ]
    },
    {
     "name": "stderr",
     "output_type": "stream",
     "text": [
      "/opt/conda/lib/python3.6/site-packages/IPython/core/interactiveshell.py:3296: DtypeWarning: Columns (13) have mixed types.Specify dtype option on import or set low_memory=False.\n",
      "  exec(code_obj, self.user_global_ns, self.user_ns)\n",
      "/work/07431/rmahtab/jupyter_packages/lib/python3.6/site-packages/numpy/lib/arraysetops.py:569: FutureWarning: elementwise comparison failed; returning scalar instead, but in the future will perform elementwise comparison\n",
      "  mask |= (ar1 == a)\n"
     ]
    },
    {
     "name": "stdout",
     "output_type": "stream",
     "text": [
      "1/15(r1dfxeycahns9y_r1dg8u3z9yzuuq.csv)\n",
      "2/15(r1ce3p3p7j77n_r1ceevbnsqku2.csv)\n",
      "3/15(r1dgppew9w7j7p_r1dgwudtwth732.csv)\n",
      "4/15(r1ce3p4vgfu3p_r1ceebve8d6tc.csv)\n",
      "5/15(r1dgppdqbd2mmk_r1dgwy63p8x5uz.csv)\n",
      "6/15(r1cckyeq9r358_r1ccqgmy5ffcd.csv)\n",
      "7/15(r1dgppg46aeknn_r1dgwpywx6rtc8.csv)\n",
      "8/15(r1cfkpq8n84aj_r1cftg78pbqd7.csv)\n",
      "9/15(r1df5qs7jb4fwq_r1dff64wwmq4gt.csv)\n",
      "10/15(r1dfxezj7aae4s_r1dg5dthycwjb7.csv)\n",
      "11/15(r1cdfr4bjcnrg_r1cdnuqex83dm.csv)\n",
      "12/15(r1d6r8mvznxxme_r1d8jxmssfag5w.csv)\n",
      "13/15(r1cwvvwryt3q49_r1cx4ux3zcdt4w.csv)\n",
      "14/15(r1cdhymqfs6b3_r1cdnzf4hbuz2.csv)\n",
      "15/15(r1cfkpuz2kr6c_r1cfpvk5hjkzb.csv)\n",
      "\n",
      "----------------------------------------------------------------------------------------------------\n",
      "Starting run of model 18:01:41 at time random_forest_classification\n",
      "Normalizing training and testing splits...\n",
      "Starting Classification training...\n",
      "Training time was: 44.27 seconds\n",
      "Testing time was: 1.31 seconds\n",
      "Prediction time of untested data was: 53.49380087852478\n",
      "Run finished at 18:04:13. Total run time = 152.29 seconds\n",
      "^^^^^^^^^^^^^^^^^^^^^^^^^^^^^^^^^^^^^^^^^^^^^^^^^^^^^^^^^^^^^^^^^^^^^^^^^^^^^^^^^^^^^^^^^^^^^^^^^^^^\n",
      "\n",
      "\n",
      "\n",
      "\n"
     ]
    },
    {
     "name": "stderr",
     "output_type": "stream",
     "text": [
      "/work/07431/rmahtab/jupyter_packages/lib/python3.6/site-packages/pandas/core/indexing.py:966: SettingWithCopyWarning: \n",
      "A value is trying to be set on a copy of a slice from a DataFrame.\n",
      "Try using .loc[row_indexer,col_indexer] = value instead\n",
      "\n",
      "See the caveats in the documentation: https://pandas.pydata.org/pandas-docs/stable/user_guide/indexing.html#returning-a-view-versus-a-copy\n",
      "  self.obj[item] = s\n"
     ]
    },
    {
     "name": "stdout",
     "output_type": "stream",
     "text": [
      "Replicate 3\n",
      "top_n\n",
      "Average control distance: 73.8902440303581\n",
      "Grouping sampled control sets...\n"
     ]
    },
    {
     "name": "stderr",
     "output_type": "stream",
     "text": [
      "/opt/conda/lib/python3.6/site-packages/IPython/core/interactiveshell.py:3296: DtypeWarning: Columns (13) have mixed types.Specify dtype option on import or set low_memory=False.\n",
      "  exec(code_obj, self.user_global_ns, self.user_ns)\n",
      "/work/07431/rmahtab/jupyter_packages/lib/python3.6/site-packages/numpy/lib/arraysetops.py:569: FutureWarning: elementwise comparison failed; returning scalar instead, but in the future will perform elementwise comparison\n",
      "  mask |= (ar1 == a)\n"
     ]
    },
    {
     "name": "stdout",
     "output_type": "stream",
     "text": [
      "1/15(r1dfxeycahns9y_r1dg8u3z9yzuuq.csv)\n",
      "2/15(r1ce3p3p7j77n_r1ceevbnsqku2.csv)\n",
      "3/15(r1dgppew9w7j7p_r1dgwudtwth732.csv)\n",
      "4/15(r1ce3p4vgfu3p_r1ceebve8d6tc.csv)\n",
      "5/15(r1dgppdqbd2mmk_r1dgwy63p8x5uz.csv)\n",
      "6/15(r1cckyeq9r358_r1ccqgmy5ffcd.csv)\n",
      "7/15(r1dgppg46aeknn_r1dgwpywx6rtc8.csv)\n",
      "8/15(r1cfkpq8n84aj_r1cftg78pbqd7.csv)\n",
      "9/15(r1df5qs7jb4fwq_r1dff64wwmq4gt.csv)\n",
      "10/15(r1dfxezj7aae4s_r1dg5dthycwjb7.csv)\n",
      "11/15(r1cdfr4bjcnrg_r1cdnuqex83dm.csv)\n",
      "12/15(r1d6r8mvznxxme_r1d8jxmssfag5w.csv)\n",
      "13/15(r1cwvvwryt3q49_r1cx4ux3zcdt4w.csv)\n",
      "14/15(r1cdhymqfs6b3_r1cdnzf4hbuz2.csv)\n",
      "15/15(r1cfkpuz2kr6c_r1cfpvk5hjkzb.csv)\n",
      "\n",
      "----------------------------------------------------------------------------------------------------\n",
      "Starting run of model 18:07:39 at time random_forest_classification\n",
      "Normalizing training and testing splits...\n",
      "Starting Classification training...\n",
      "Training time was: 43.66 seconds\n",
      "Testing time was: 1.31 seconds\n",
      "Prediction time of untested data was: 71.90865850448608\n",
      "Run finished at 18:10:39. Total run time = 179.89 seconds\n",
      "^^^^^^^^^^^^^^^^^^^^^^^^^^^^^^^^^^^^^^^^^^^^^^^^^^^^^^^^^^^^^^^^^^^^^^^^^^^^^^^^^^^^^^^^^^^^^^^^^^^^\n",
      "\n",
      "\n",
      "\n",
      "\n"
     ]
    },
    {
     "name": "stderr",
     "output_type": "stream",
     "text": [
      "/work/07431/rmahtab/jupyter_packages/lib/python3.6/site-packages/pandas/core/indexing.py:966: SettingWithCopyWarning: \n",
      "A value is trying to be set on a copy of a slice from a DataFrame.\n",
      "Try using .loc[row_indexer,col_indexer] = value instead\n",
      "\n",
      "See the caveats in the documentation: https://pandas.pydata.org/pandas-docs/stable/user_guide/indexing.html#returning-a-view-versus-a-copy\n",
      "  self.obj[item] = s\n"
     ]
    },
    {
     "name": "stdout",
     "output_type": "stream",
     "text": [
      "Replicate 4\n",
      "top_n\n",
      "Average control distance: 73.8902440303581\n",
      "Grouping sampled control sets...\n"
     ]
    },
    {
     "name": "stderr",
     "output_type": "stream",
     "text": [
      "/opt/conda/lib/python3.6/site-packages/IPython/core/interactiveshell.py:3296: DtypeWarning: Columns (13) have mixed types.Specify dtype option on import or set low_memory=False.\n",
      "  exec(code_obj, self.user_global_ns, self.user_ns)\n",
      "/work/07431/rmahtab/jupyter_packages/lib/python3.6/site-packages/numpy/lib/arraysetops.py:569: FutureWarning: elementwise comparison failed; returning scalar instead, but in the future will perform elementwise comparison\n",
      "  mask |= (ar1 == a)\n"
     ]
    },
    {
     "name": "stdout",
     "output_type": "stream",
     "text": [
      "1/15(r1dfxeycahns9y_r1dg8u3z9yzuuq.csv)\n",
      "2/15(r1ce3p3p7j77n_r1ceevbnsqku2.csv)\n",
      "3/15(r1dgppew9w7j7p_r1dgwudtwth732.csv)\n",
      "4/15(r1ce3p4vgfu3p_r1ceebve8d6tc.csv)\n",
      "5/15(r1dgppdqbd2mmk_r1dgwy63p8x5uz.csv)\n",
      "6/15(r1cckyeq9r358_r1ccqgmy5ffcd.csv)\n",
      "7/15(r1dgppg46aeknn_r1dgwpywx6rtc8.csv)\n",
      "8/15(r1cfkpq8n84aj_r1cftg78pbqd7.csv)\n",
      "9/15(r1df5qs7jb4fwq_r1dff64wwmq4gt.csv)\n",
      "10/15(r1dfxezj7aae4s_r1dg5dthycwjb7.csv)\n",
      "11/15(r1cdfr4bjcnrg_r1cdnuqex83dm.csv)\n",
      "12/15(r1d6r8mvznxxme_r1d8jxmssfag5w.csv)\n",
      "13/15(r1cwvvwryt3q49_r1cx4ux3zcdt4w.csv)\n",
      "14/15(r1cdhymqfs6b3_r1cdnzf4hbuz2.csv)\n",
      "15/15(r1cfkpuz2kr6c_r1cfpvk5hjkzb.csv)\n",
      "\n",
      "----------------------------------------------------------------------------------------------------\n",
      "Starting run of model 18:14:21 at time random_forest_classification\n",
      "Normalizing training and testing splits...\n",
      "Starting Classification training...\n",
      "Training time was: 53.76 seconds\n",
      "Testing time was: 1.33 seconds\n",
      "Prediction time of untested data was: 57.7439751625061\n",
      "Run finished at 18:17:20. Total run time = 179.84 seconds\n",
      "^^^^^^^^^^^^^^^^^^^^^^^^^^^^^^^^^^^^^^^^^^^^^^^^^^^^^^^^^^^^^^^^^^^^^^^^^^^^^^^^^^^^^^^^^^^^^^^^^^^^\n",
      "\n",
      "\n",
      "\n",
      "\n"
     ]
    },
    {
     "name": "stderr",
     "output_type": "stream",
     "text": [
      "/work/07431/rmahtab/jupyter_packages/lib/python3.6/site-packages/pandas/core/indexing.py:966: SettingWithCopyWarning: \n",
      "A value is trying to be set on a copy of a slice from a DataFrame.\n",
      "Try using .loc[row_indexer,col_indexer] = value instead\n",
      "\n",
      "See the caveats in the documentation: https://pandas.pydata.org/pandas-docs/stable/user_guide/indexing.html#returning-a-view-versus-a-copy\n",
      "  self.obj[item] = s\n"
     ]
    },
    {
     "name": "stdout",
     "output_type": "stream",
     "text": [
      "Replicate 5\n",
      "top_n\n",
      "Average control distance: 73.8902440303581\n",
      "Grouping sampled control sets...\n"
     ]
    },
    {
     "name": "stderr",
     "output_type": "stream",
     "text": [
      "/opt/conda/lib/python3.6/site-packages/IPython/core/interactiveshell.py:3296: DtypeWarning: Columns (13) have mixed types.Specify dtype option on import or set low_memory=False.\n",
      "  exec(code_obj, self.user_global_ns, self.user_ns)\n",
      "/work/07431/rmahtab/jupyter_packages/lib/python3.6/site-packages/numpy/lib/arraysetops.py:569: FutureWarning: elementwise comparison failed; returning scalar instead, but in the future will perform elementwise comparison\n",
      "  mask |= (ar1 == a)\n"
     ]
    },
    {
     "name": "stdout",
     "output_type": "stream",
     "text": [
      "1/15(r1dfxeycahns9y_r1dg8u3z9yzuuq.csv)\n",
      "2/15(r1ce3p3p7j77n_r1ceevbnsqku2.csv)\n",
      "3/15(r1dgppew9w7j7p_r1dgwudtwth732.csv)\n",
      "4/15(r1ce3p4vgfu3p_r1ceebve8d6tc.csv)\n",
      "5/15(r1dgppdqbd2mmk_r1dgwy63p8x5uz.csv)\n",
      "6/15(r1cckyeq9r358_r1ccqgmy5ffcd.csv)\n",
      "7/15(r1dgppg46aeknn_r1dgwpywx6rtc8.csv)\n",
      "8/15(r1cfkpq8n84aj_r1cftg78pbqd7.csv)\n",
      "9/15(r1df5qs7jb4fwq_r1dff64wwmq4gt.csv)\n",
      "10/15(r1dfxezj7aae4s_r1dg5dthycwjb7.csv)\n",
      "11/15(r1cdfr4bjcnrg_r1cdnuqex83dm.csv)\n",
      "12/15(r1d6r8mvznxxme_r1d8jxmssfag5w.csv)\n",
      "13/15(r1cwvvwryt3q49_r1cx4ux3zcdt4w.csv)\n",
      "14/15(r1cdhymqfs6b3_r1cdnzf4hbuz2.csv)\n",
      "15/15(r1cfkpuz2kr6c_r1cfpvk5hjkzb.csv)\n",
      "\n",
      "----------------------------------------------------------------------------------------------------\n",
      "Starting run of model 18:20:51 at time random_forest_classification\n",
      "Normalizing training and testing splits...\n",
      "Starting Classification training...\n",
      "Training time was: 43.94 seconds\n",
      "Testing time was: 1.32 seconds\n",
      "Prediction time of untested data was: 64.01357245445251\n",
      "Run finished at 18:23:38. Total run time = 167.36 seconds\n",
      "^^^^^^^^^^^^^^^^^^^^^^^^^^^^^^^^^^^^^^^^^^^^^^^^^^^^^^^^^^^^^^^^^^^^^^^^^^^^^^^^^^^^^^^^^^^^^^^^^^^^\n",
      "\n",
      "\n",
      "\n",
      "\n"
     ]
    },
    {
     "name": "stderr",
     "output_type": "stream",
     "text": [
      "/work/07431/rmahtab/jupyter_packages/lib/python3.6/site-packages/pandas/core/indexing.py:966: SettingWithCopyWarning: \n",
      "A value is trying to be set on a copy of a slice from a DataFrame.\n",
      "Try using .loc[row_indexer,col_indexer] = value instead\n",
      "\n",
      "See the caveats in the documentation: https://pandas.pydata.org/pandas-docs/stable/user_guide/indexing.html#returning-a-view-versus-a-copy\n",
      "  self.obj[item] = s\n"
     ]
    },
    {
     "name": "stdout",
     "output_type": "stream",
     "text": [
      "Size 20\n",
      "Replicate 1\n",
      "top_n\n",
      "Average control distance: 74.2745113784085\n",
      "Grouping sampled control sets...\n"
     ]
    },
    {
     "name": "stderr",
     "output_type": "stream",
     "text": [
      "/opt/conda/lib/python3.6/site-packages/IPython/core/interactiveshell.py:3296: DtypeWarning: Columns (13) have mixed types.Specify dtype option on import or set low_memory=False.\n",
      "  exec(code_obj, self.user_global_ns, self.user_ns)\n",
      "/work/07431/rmahtab/jupyter_packages/lib/python3.6/site-packages/numpy/lib/arraysetops.py:569: FutureWarning: elementwise comparison failed; returning scalar instead, but in the future will perform elementwise comparison\n",
      "  mask |= (ar1 == a)\n"
     ]
    },
    {
     "name": "stdout",
     "output_type": "stream",
     "text": [
      "1/20(r1dfxeycahns9y_r1dg8u3z9yzuuq.csv)\n",
      "2/20(r1ce3p3p7j77n_r1ceevbnsqku2.csv)\n",
      "3/20(r1dgppew9w7j7p_r1dgwudtwth732.csv)\n",
      "4/20(r1ce3p4vgfu3p_r1ceebve8d6tc.csv)\n",
      "5/20(r1dgppdqbd2mmk_r1dgwy63p8x5uz.csv)\n",
      "6/20(r1cckyeq9r358_r1ccqgmy5ffcd.csv)\n",
      "7/20(r1dgppg46aeknn_r1dgwpywx6rtc8.csv)\n",
      "8/20(r1cfkpq8n84aj_r1cftg78pbqd7.csv)\n",
      "9/20(r1df5qs7jb4fwq_r1dff64wwmq4gt.csv)\n",
      "10/20(r1dfxezj7aae4s_r1dg5dthycwjb7.csv)\n",
      "11/20(r1cdfr4bjcnrg_r1cdnuqex83dm.csv)\n",
      "12/20(r1d6r8mvznxxme_r1d8jxmssfag5w.csv)\n",
      "13/20(r1cwvvwryt3q49_r1cx4ux3zcdt4w.csv)\n",
      "14/20(r1cdhymqfs6b3_r1cdnzf4hbuz2.csv)\n",
      "15/20(r1cfkpuz2kr6c_r1cfpvk5hjkzb.csv)\n",
      "16/20(r1dfxex6e5ekjv_r1dg94zgbvxe7r.csv)\n",
      "17/20(r1ce3p63vnpzq_r1cee5f7knupg.csv)\n",
      "18/20(r1ceuhu9enre5_r1cf33y4j6dyg.csv)\n",
      "19/20(r1d6r932unhafk_r1d93nuytthhp4.csv)\n",
      "20/20(r1ce3pqt45vfe_r1ce7qf5e483u.csv)\n",
      "\n",
      "----------------------------------------------------------------------------------------------------\n",
      "Starting run of model 18:28:37 at time random_forest_classification\n",
      "Normalizing training and testing splits...\n",
      "Starting Classification training...\n",
      "Training time was: 67.96 seconds\n",
      "Testing time was: 1.90 seconds\n",
      "Prediction time of untested data was: 74.23630833625793\n",
      "Run finished at 18:32:13. Total run time = 215.44 seconds\n",
      "^^^^^^^^^^^^^^^^^^^^^^^^^^^^^^^^^^^^^^^^^^^^^^^^^^^^^^^^^^^^^^^^^^^^^^^^^^^^^^^^^^^^^^^^^^^^^^^^^^^^\n",
      "\n",
      "\n",
      "\n",
      "\n"
     ]
    },
    {
     "name": "stderr",
     "output_type": "stream",
     "text": [
      "/work/07431/rmahtab/jupyter_packages/lib/python3.6/site-packages/pandas/core/indexing.py:966: SettingWithCopyWarning: \n",
      "A value is trying to be set on a copy of a slice from a DataFrame.\n",
      "Try using .loc[row_indexer,col_indexer] = value instead\n",
      "\n",
      "See the caveats in the documentation: https://pandas.pydata.org/pandas-docs/stable/user_guide/indexing.html#returning-a-view-versus-a-copy\n",
      "  self.obj[item] = s\n"
     ]
    },
    {
     "name": "stdout",
     "output_type": "stream",
     "text": [
      "Replicate 2\n",
      "top_n\n",
      "Average control distance: 74.2745113784085\n",
      "Grouping sampled control sets...\n"
     ]
    },
    {
     "name": "stderr",
     "output_type": "stream",
     "text": [
      "/opt/conda/lib/python3.6/site-packages/IPython/core/interactiveshell.py:3296: DtypeWarning: Columns (13) have mixed types.Specify dtype option on import or set low_memory=False.\n",
      "  exec(code_obj, self.user_global_ns, self.user_ns)\n",
      "/work/07431/rmahtab/jupyter_packages/lib/python3.6/site-packages/numpy/lib/arraysetops.py:569: FutureWarning: elementwise comparison failed; returning scalar instead, but in the future will perform elementwise comparison\n",
      "  mask |= (ar1 == a)\n"
     ]
    },
    {
     "name": "stdout",
     "output_type": "stream",
     "text": [
      "1/20(r1dfxeycahns9y_r1dg8u3z9yzuuq.csv)\n",
      "2/20(r1ce3p3p7j77n_r1ceevbnsqku2.csv)\n",
      "3/20(r1dgppew9w7j7p_r1dgwudtwth732.csv)\n",
      "4/20(r1ce3p4vgfu3p_r1ceebve8d6tc.csv)\n",
      "5/20(r1dgppdqbd2mmk_r1dgwy63p8x5uz.csv)\n",
      "6/20(r1cckyeq9r358_r1ccqgmy5ffcd.csv)\n",
      "7/20(r1dgppg46aeknn_r1dgwpywx6rtc8.csv)\n",
      "8/20(r1cfkpq8n84aj_r1cftg78pbqd7.csv)\n",
      "9/20(r1df5qs7jb4fwq_r1dff64wwmq4gt.csv)\n",
      "10/20(r1dfxezj7aae4s_r1dg5dthycwjb7.csv)\n",
      "11/20(r1cdfr4bjcnrg_r1cdnuqex83dm.csv)\n",
      "12/20(r1d6r8mvznxxme_r1d8jxmssfag5w.csv)\n",
      "13/20(r1cwvvwryt3q49_r1cx4ux3zcdt4w.csv)\n",
      "14/20(r1cdhymqfs6b3_r1cdnzf4hbuz2.csv)\n",
      "15/20(r1cfkpuz2kr6c_r1cfpvk5hjkzb.csv)\n",
      "16/20(r1dfxex6e5ekjv_r1dg94zgbvxe7r.csv)\n",
      "17/20(r1ce3p63vnpzq_r1cee5f7knupg.csv)\n",
      "18/20(r1ceuhu9enre5_r1cf33y4j6dyg.csv)\n",
      "19/20(r1d6r932unhafk_r1d93nuytthhp4.csv)\n",
      "20/20(r1ce3pqt45vfe_r1ce7qf5e483u.csv)\n",
      "\n",
      "----------------------------------------------------------------------------------------------------\n",
      "Starting run of model 18:37:01 at time random_forest_classification\n",
      "Normalizing training and testing splits...\n",
      "Starting Classification training...\n",
      "Training time was: 68.06 seconds\n",
      "Testing time was: 1.95 seconds\n",
      "Prediction time of untested data was: 57.954689264297485\n",
      "Run finished at 18:40:07. Total run time = 185.99 seconds\n",
      "^^^^^^^^^^^^^^^^^^^^^^^^^^^^^^^^^^^^^^^^^^^^^^^^^^^^^^^^^^^^^^^^^^^^^^^^^^^^^^^^^^^^^^^^^^^^^^^^^^^^\n",
      "\n",
      "\n",
      "\n",
      "\n"
     ]
    },
    {
     "name": "stderr",
     "output_type": "stream",
     "text": [
      "/work/07431/rmahtab/jupyter_packages/lib/python3.6/site-packages/pandas/core/indexing.py:966: SettingWithCopyWarning: \n",
      "A value is trying to be set on a copy of a slice from a DataFrame.\n",
      "Try using .loc[row_indexer,col_indexer] = value instead\n",
      "\n",
      "See the caveats in the documentation: https://pandas.pydata.org/pandas-docs/stable/user_guide/indexing.html#returning-a-view-versus-a-copy\n",
      "  self.obj[item] = s\n"
     ]
    },
    {
     "name": "stdout",
     "output_type": "stream",
     "text": [
      "Replicate 3\n",
      "top_n\n",
      "Average control distance: 74.2745113784085\n",
      "Grouping sampled control sets...\n"
     ]
    },
    {
     "name": "stderr",
     "output_type": "stream",
     "text": [
      "/opt/conda/lib/python3.6/site-packages/IPython/core/interactiveshell.py:3296: DtypeWarning: Columns (13) have mixed types.Specify dtype option on import or set low_memory=False.\n",
      "  exec(code_obj, self.user_global_ns, self.user_ns)\n",
      "/work/07431/rmahtab/jupyter_packages/lib/python3.6/site-packages/numpy/lib/arraysetops.py:569: FutureWarning: elementwise comparison failed; returning scalar instead, but in the future will perform elementwise comparison\n",
      "  mask |= (ar1 == a)\n"
     ]
    },
    {
     "name": "stdout",
     "output_type": "stream",
     "text": [
      "1/20(r1dfxeycahns9y_r1dg8u3z9yzuuq.csv)\n",
      "2/20(r1ce3p3p7j77n_r1ceevbnsqku2.csv)\n",
      "3/20(r1dgppew9w7j7p_r1dgwudtwth732.csv)\n",
      "4/20(r1ce3p4vgfu3p_r1ceebve8d6tc.csv)\n",
      "5/20(r1dgppdqbd2mmk_r1dgwy63p8x5uz.csv)\n",
      "6/20(r1cckyeq9r358_r1ccqgmy5ffcd.csv)\n",
      "7/20(r1dgppg46aeknn_r1dgwpywx6rtc8.csv)\n",
      "8/20(r1cfkpq8n84aj_r1cftg78pbqd7.csv)\n",
      "9/20(r1df5qs7jb4fwq_r1dff64wwmq4gt.csv)\n",
      "10/20(r1dfxezj7aae4s_r1dg5dthycwjb7.csv)\n",
      "11/20(r1cdfr4bjcnrg_r1cdnuqex83dm.csv)\n",
      "12/20(r1d6r8mvznxxme_r1d8jxmssfag5w.csv)\n",
      "13/20(r1cwvvwryt3q49_r1cx4ux3zcdt4w.csv)\n",
      "14/20(r1cdhymqfs6b3_r1cdnzf4hbuz2.csv)\n",
      "15/20(r1cfkpuz2kr6c_r1cfpvk5hjkzb.csv)\n",
      "16/20(r1dfxex6e5ekjv_r1dg94zgbvxe7r.csv)\n",
      "17/20(r1ce3p63vnpzq_r1cee5f7knupg.csv)\n",
      "18/20(r1ceuhu9enre5_r1cf33y4j6dyg.csv)\n",
      "19/20(r1d6r932unhafk_r1d93nuytthhp4.csv)\n",
      "20/20(r1ce3pqt45vfe_r1ce7qf5e483u.csv)\n",
      "\n",
      "----------------------------------------------------------------------------------------------------\n",
      "Starting run of model 18:44:44 at time random_forest_classification\n",
      "Normalizing training and testing splits...\n",
      "Starting Classification training...\n",
      "Training time was: 68.94 seconds\n",
      "Testing time was: 1.97 seconds\n",
      "Prediction time of untested data was: 65.12942266464233\n",
      "Run finished at 18:48:10. Total run time = 205.56 seconds\n",
      "^^^^^^^^^^^^^^^^^^^^^^^^^^^^^^^^^^^^^^^^^^^^^^^^^^^^^^^^^^^^^^^^^^^^^^^^^^^^^^^^^^^^^^^^^^^^^^^^^^^^\n",
      "\n",
      "\n",
      "\n",
      "\n"
     ]
    },
    {
     "name": "stderr",
     "output_type": "stream",
     "text": [
      "/work/07431/rmahtab/jupyter_packages/lib/python3.6/site-packages/pandas/core/indexing.py:966: SettingWithCopyWarning: \n",
      "A value is trying to be set on a copy of a slice from a DataFrame.\n",
      "Try using .loc[row_indexer,col_indexer] = value instead\n",
      "\n",
      "See the caveats in the documentation: https://pandas.pydata.org/pandas-docs/stable/user_guide/indexing.html#returning-a-view-versus-a-copy\n",
      "  self.obj[item] = s\n"
     ]
    },
    {
     "name": "stdout",
     "output_type": "stream",
     "text": [
      "Replicate 4\n",
      "top_n\n",
      "Average control distance: 74.2745113784085\n",
      "Grouping sampled control sets...\n"
     ]
    },
    {
     "name": "stderr",
     "output_type": "stream",
     "text": [
      "/opt/conda/lib/python3.6/site-packages/IPython/core/interactiveshell.py:3296: DtypeWarning: Columns (13) have mixed types.Specify dtype option on import or set low_memory=False.\n",
      "  exec(code_obj, self.user_global_ns, self.user_ns)\n",
      "/work/07431/rmahtab/jupyter_packages/lib/python3.6/site-packages/numpy/lib/arraysetops.py:569: FutureWarning: elementwise comparison failed; returning scalar instead, but in the future will perform elementwise comparison\n",
      "  mask |= (ar1 == a)\n"
     ]
    },
    {
     "name": "stdout",
     "output_type": "stream",
     "text": [
      "1/20(r1dfxeycahns9y_r1dg8u3z9yzuuq.csv)\n",
      "2/20(r1ce3p3p7j77n_r1ceevbnsqku2.csv)\n",
      "3/20(r1dgppew9w7j7p_r1dgwudtwth732.csv)\n",
      "4/20(r1ce3p4vgfu3p_r1ceebve8d6tc.csv)\n",
      "5/20(r1dgppdqbd2mmk_r1dgwy63p8x5uz.csv)\n",
      "6/20(r1cckyeq9r358_r1ccqgmy5ffcd.csv)\n",
      "7/20(r1dgppg46aeknn_r1dgwpywx6rtc8.csv)\n",
      "8/20(r1cfkpq8n84aj_r1cftg78pbqd7.csv)\n",
      "9/20(r1df5qs7jb4fwq_r1dff64wwmq4gt.csv)\n",
      "10/20(r1dfxezj7aae4s_r1dg5dthycwjb7.csv)\n",
      "11/20(r1cdfr4bjcnrg_r1cdnuqex83dm.csv)\n",
      "12/20(r1d6r8mvznxxme_r1d8jxmssfag5w.csv)\n",
      "13/20(r1cwvvwryt3q49_r1cx4ux3zcdt4w.csv)\n",
      "14/20(r1cdhymqfs6b3_r1cdnzf4hbuz2.csv)\n",
      "15/20(r1cfkpuz2kr6c_r1cfpvk5hjkzb.csv)\n",
      "16/20(r1dfxex6e5ekjv_r1dg94zgbvxe7r.csv)\n",
      "17/20(r1ce3p63vnpzq_r1cee5f7knupg.csv)\n",
      "18/20(r1ceuhu9enre5_r1cf33y4j6dyg.csv)\n",
      "19/20(r1d6r932unhafk_r1d93nuytthhp4.csv)\n",
      "20/20(r1ce3pqt45vfe_r1ce7qf5e483u.csv)\n",
      "\n",
      "----------------------------------------------------------------------------------------------------\n",
      "Starting run of model 18:53:10 at time random_forest_classification\n",
      "Normalizing training and testing splits...\n",
      "Starting Classification training...\n",
      "Training time was: 65.20 seconds\n",
      "Testing time was: 1.73 seconds\n",
      "Prediction time of untested data was: 61.51128268241882\n",
      "Run finished at 18:56:16. Total run time = 186.25 seconds\n",
      "^^^^^^^^^^^^^^^^^^^^^^^^^^^^^^^^^^^^^^^^^^^^^^^^^^^^^^^^^^^^^^^^^^^^^^^^^^^^^^^^^^^^^^^^^^^^^^^^^^^^\n",
      "\n",
      "\n",
      "\n",
      "\n"
     ]
    },
    {
     "name": "stderr",
     "output_type": "stream",
     "text": [
      "/work/07431/rmahtab/jupyter_packages/lib/python3.6/site-packages/pandas/core/indexing.py:966: SettingWithCopyWarning: \n",
      "A value is trying to be set on a copy of a slice from a DataFrame.\n",
      "Try using .loc[row_indexer,col_indexer] = value instead\n",
      "\n",
      "See the caveats in the documentation: https://pandas.pydata.org/pandas-docs/stable/user_guide/indexing.html#returning-a-view-versus-a-copy\n",
      "  self.obj[item] = s\n"
     ]
    },
    {
     "name": "stdout",
     "output_type": "stream",
     "text": [
      "Replicate 5\n",
      "top_n\n",
      "Average control distance: 74.2745113784085\n",
      "Grouping sampled control sets...\n"
     ]
    },
    {
     "name": "stderr",
     "output_type": "stream",
     "text": [
      "/opt/conda/lib/python3.6/site-packages/IPython/core/interactiveshell.py:3296: DtypeWarning: Columns (13) have mixed types.Specify dtype option on import or set low_memory=False.\n",
      "  exec(code_obj, self.user_global_ns, self.user_ns)\n",
      "/work/07431/rmahtab/jupyter_packages/lib/python3.6/site-packages/numpy/lib/arraysetops.py:569: FutureWarning: elementwise comparison failed; returning scalar instead, but in the future will perform elementwise comparison\n",
      "  mask |= (ar1 == a)\n"
     ]
    },
    {
     "name": "stdout",
     "output_type": "stream",
     "text": [
      "1/20(r1dfxeycahns9y_r1dg8u3z9yzuuq.csv)\n",
      "2/20(r1ce3p3p7j77n_r1ceevbnsqku2.csv)\n",
      "3/20(r1dgppew9w7j7p_r1dgwudtwth732.csv)\n",
      "4/20(r1ce3p4vgfu3p_r1ceebve8d6tc.csv)\n",
      "5/20(r1dgppdqbd2mmk_r1dgwy63p8x5uz.csv)\n",
      "6/20(r1cckyeq9r358_r1ccqgmy5ffcd.csv)\n",
      "7/20(r1dgppg46aeknn_r1dgwpywx6rtc8.csv)\n",
      "8/20(r1cfkpq8n84aj_r1cftg78pbqd7.csv)\n",
      "9/20(r1df5qs7jb4fwq_r1dff64wwmq4gt.csv)\n",
      "10/20(r1dfxezj7aae4s_r1dg5dthycwjb7.csv)\n",
      "11/20(r1cdfr4bjcnrg_r1cdnuqex83dm.csv)\n",
      "12/20(r1d6r8mvznxxme_r1d8jxmssfag5w.csv)\n",
      "13/20(r1cwvvwryt3q49_r1cx4ux3zcdt4w.csv)\n",
      "14/20(r1cdhymqfs6b3_r1cdnzf4hbuz2.csv)\n",
      "15/20(r1cfkpuz2kr6c_r1cfpvk5hjkzb.csv)\n",
      "16/20(r1dfxex6e5ekjv_r1dg94zgbvxe7r.csv)\n",
      "17/20(r1ce3p63vnpzq_r1cee5f7knupg.csv)\n",
      "18/20(r1ceuhu9enre5_r1cf33y4j6dyg.csv)\n",
      "19/20(r1d6r932unhafk_r1d93nuytthhp4.csv)\n",
      "20/20(r1ce3pqt45vfe_r1ce7qf5e483u.csv)\n",
      "\n",
      "----------------------------------------------------------------------------------------------------\n",
      "Starting run of model 19:00:54 at time random_forest_classification\n",
      "Normalizing training and testing splits...\n",
      "Starting Classification training...\n",
      "Training time was: 66.28 seconds\n",
      "Testing time was: 1.82 seconds\n",
      "Prediction time of untested data was: 65.95307302474976\n",
      "Run finished at 19:04:17. Total run time = 202.33 seconds\n",
      "^^^^^^^^^^^^^^^^^^^^^^^^^^^^^^^^^^^^^^^^^^^^^^^^^^^^^^^^^^^^^^^^^^^^^^^^^^^^^^^^^^^^^^^^^^^^^^^^^^^^\n",
      "\n",
      "\n",
      "\n",
      "\n"
     ]
    },
    {
     "name": "stderr",
     "output_type": "stream",
     "text": [
      "/work/07431/rmahtab/jupyter_packages/lib/python3.6/site-packages/pandas/core/indexing.py:966: SettingWithCopyWarning: \n",
      "A value is trying to be set on a copy of a slice from a DataFrame.\n",
      "Try using .loc[row_indexer,col_indexer] = value instead\n",
      "\n",
      "See the caveats in the documentation: https://pandas.pydata.org/pandas-docs/stable/user_guide/indexing.html#returning-a-view-versus-a-copy\n",
      "  self.obj[item] = s\n"
     ]
    },
    {
     "name": "stdout",
     "output_type": "stream",
     "text": [
      "Size 25\n",
      "Replicate 1\n",
      "top_n\n",
      "Average control distance: 74.63708622212877\n",
      "Grouping sampled control sets...\n"
     ]
    },
    {
     "name": "stderr",
     "output_type": "stream",
     "text": [
      "/opt/conda/lib/python3.6/site-packages/IPython/core/interactiveshell.py:3296: DtypeWarning: Columns (13) have mixed types.Specify dtype option on import or set low_memory=False.\n",
      "  exec(code_obj, self.user_global_ns, self.user_ns)\n",
      "/work/07431/rmahtab/jupyter_packages/lib/python3.6/site-packages/numpy/lib/arraysetops.py:569: FutureWarning: elementwise comparison failed; returning scalar instead, but in the future will perform elementwise comparison\n",
      "  mask |= (ar1 == a)\n"
     ]
    },
    {
     "name": "stdout",
     "output_type": "stream",
     "text": [
      "1/25(r1dfxeycahns9y_r1dg8u3z9yzuuq.csv)\n",
      "2/25(r1ce3p3p7j77n_r1ceevbnsqku2.csv)\n",
      "3/25(r1dgppew9w7j7p_r1dgwudtwth732.csv)\n",
      "4/25(r1ce3p4vgfu3p_r1ceebve8d6tc.csv)\n",
      "5/25(r1dgppdqbd2mmk_r1dgwy63p8x5uz.csv)\n",
      "6/25(r1cckyeq9r358_r1ccqgmy5ffcd.csv)\n",
      "7/25(r1dgppg46aeknn_r1dgwpywx6rtc8.csv)\n",
      "8/25(r1cfkpq8n84aj_r1cftg78pbqd7.csv)\n",
      "9/25(r1df5qs7jb4fwq_r1dff64wwmq4gt.csv)\n",
      "10/25(r1dfxezj7aae4s_r1dg5dthycwjb7.csv)\n",
      "11/25(r1cdfr4bjcnrg_r1cdnuqex83dm.csv)\n",
      "12/25(r1d6r8mvznxxme_r1d8jxmssfag5w.csv)\n",
      "13/25(r1cwvvwryt3q49_r1cx4ux3zcdt4w.csv)\n",
      "14/25(r1cdhymqfs6b3_r1cdnzf4hbuz2.csv)\n",
      "15/25(r1cfkpuz2kr6c_r1cfpvk5hjkzb.csv)\n",
      "16/25(r1dfxex6e5ekjv_r1dg94zgbvxe7r.csv)\n",
      "17/25(r1ce3p63vnpzq_r1cee5f7knupg.csv)\n",
      "18/25(r1ceuhu9enre5_r1cf33y4j6dyg.csv)\n",
      "19/25(r1d6r932unhafk_r1d93nuytthhp4.csv)\n",
      "20/25(r1ce3pqt45vfe_r1ce7qf5e483u.csv)\n",
      "21/25(r1c5vad8u7ve2_r1c66q7cru28u.csv)\n",
      "22/25(r1c5vac658fxn_r1c66qw595ydy.csv)\n",
      "23/25(r1ce3ppkyswxf_r1ce7qk6h482m.csv)\n",
      "24/25(r1d6r8ztq8zfa7_r1d952nn9xk753.csv)\n",
      "25/25(r1c7cppfr7yp6_r1c7jnv3pkbsj.csv)\n",
      "\n",
      "----------------------------------------------------------------------------------------------------\n",
      "Starting run of model 19:10:13 at time random_forest_classification\n",
      "Normalizing training and testing splits...\n",
      "Starting Classification training...\n",
      "Training time was: 78.86 seconds\n",
      "Testing time was: 12.87 seconds\n",
      "Prediction time of untested data was: 56.56820464134216\n",
      "Run finished at 19:13:50. Total run time = 216.57 seconds\n",
      "^^^^^^^^^^^^^^^^^^^^^^^^^^^^^^^^^^^^^^^^^^^^^^^^^^^^^^^^^^^^^^^^^^^^^^^^^^^^^^^^^^^^^^^^^^^^^^^^^^^^\n",
      "\n",
      "\n",
      "\n",
      "\n"
     ]
    },
    {
     "name": "stderr",
     "output_type": "stream",
     "text": [
      "/work/07431/rmahtab/jupyter_packages/lib/python3.6/site-packages/pandas/core/indexing.py:966: SettingWithCopyWarning: \n",
      "A value is trying to be set on a copy of a slice from a DataFrame.\n",
      "Try using .loc[row_indexer,col_indexer] = value instead\n",
      "\n",
      "See the caveats in the documentation: https://pandas.pydata.org/pandas-docs/stable/user_guide/indexing.html#returning-a-view-versus-a-copy\n",
      "  self.obj[item] = s\n"
     ]
    },
    {
     "name": "stdout",
     "output_type": "stream",
     "text": [
      "Replicate 2\n",
      "top_n\n",
      "Average control distance: 74.63708622212877\n",
      "Grouping sampled control sets...\n"
     ]
    },
    {
     "name": "stderr",
     "output_type": "stream",
     "text": [
      "/opt/conda/lib/python3.6/site-packages/IPython/core/interactiveshell.py:3296: DtypeWarning: Columns (13) have mixed types.Specify dtype option on import or set low_memory=False.\n",
      "  exec(code_obj, self.user_global_ns, self.user_ns)\n",
      "/work/07431/rmahtab/jupyter_packages/lib/python3.6/site-packages/numpy/lib/arraysetops.py:569: FutureWarning: elementwise comparison failed; returning scalar instead, but in the future will perform elementwise comparison\n",
      "  mask |= (ar1 == a)\n"
     ]
    },
    {
     "name": "stdout",
     "output_type": "stream",
     "text": [
      "1/25(r1dfxeycahns9y_r1dg8u3z9yzuuq.csv)\n",
      "2/25(r1ce3p3p7j77n_r1ceevbnsqku2.csv)\n",
      "3/25(r1dgppew9w7j7p_r1dgwudtwth732.csv)\n",
      "4/25(r1ce3p4vgfu3p_r1ceebve8d6tc.csv)\n",
      "5/25(r1dgppdqbd2mmk_r1dgwy63p8x5uz.csv)\n",
      "6/25(r1cckyeq9r358_r1ccqgmy5ffcd.csv)\n",
      "7/25(r1dgppg46aeknn_r1dgwpywx6rtc8.csv)\n",
      "8/25(r1cfkpq8n84aj_r1cftg78pbqd7.csv)\n",
      "9/25(r1df5qs7jb4fwq_r1dff64wwmq4gt.csv)\n",
      "10/25(r1dfxezj7aae4s_r1dg5dthycwjb7.csv)\n",
      "11/25(r1cdfr4bjcnrg_r1cdnuqex83dm.csv)\n",
      "12/25(r1d6r8mvznxxme_r1d8jxmssfag5w.csv)\n",
      "13/25(r1cwvvwryt3q49_r1cx4ux3zcdt4w.csv)\n",
      "14/25(r1cdhymqfs6b3_r1cdnzf4hbuz2.csv)\n",
      "15/25(r1cfkpuz2kr6c_r1cfpvk5hjkzb.csv)\n",
      "16/25(r1dfxex6e5ekjv_r1dg94zgbvxe7r.csv)\n",
      "17/25(r1ce3p63vnpzq_r1cee5f7knupg.csv)\n",
      "18/25(r1ceuhu9enre5_r1cf33y4j6dyg.csv)\n",
      "19/25(r1d6r932unhafk_r1d93nuytthhp4.csv)\n",
      "20/25(r1ce3pqt45vfe_r1ce7qf5e483u.csv)\n",
      "21/25(r1c5vad8u7ve2_r1c66q7cru28u.csv)\n",
      "22/25(r1c5vac658fxn_r1c66qw595ydy.csv)\n",
      "23/25(r1ce3ppkyswxf_r1ce7qk6h482m.csv)\n",
      "24/25(r1d6r8ztq8zfa7_r1d952nn9xk753.csv)\n",
      "25/25(r1c7cppfr7yp6_r1c7jnv3pkbsj.csv)\n",
      "\n",
      "----------------------------------------------------------------------------------------------------\n",
      "Starting run of model 19:19:51 at time random_forest_classification\n",
      "Normalizing training and testing splits...\n",
      "Starting Classification training...\n",
      "Training time was: 78.62 seconds\n",
      "Testing time was: 2.13 seconds\n",
      "Prediction time of untested data was: 75.13775658607483\n",
      "Run finished at 19:23:33. Total run time = 221.99 seconds\n",
      "^^^^^^^^^^^^^^^^^^^^^^^^^^^^^^^^^^^^^^^^^^^^^^^^^^^^^^^^^^^^^^^^^^^^^^^^^^^^^^^^^^^^^^^^^^^^^^^^^^^^\n",
      "\n",
      "\n",
      "\n",
      "\n"
     ]
    },
    {
     "name": "stderr",
     "output_type": "stream",
     "text": [
      "/work/07431/rmahtab/jupyter_packages/lib/python3.6/site-packages/pandas/core/indexing.py:966: SettingWithCopyWarning: \n",
      "A value is trying to be set on a copy of a slice from a DataFrame.\n",
      "Try using .loc[row_indexer,col_indexer] = value instead\n",
      "\n",
      "See the caveats in the documentation: https://pandas.pydata.org/pandas-docs/stable/user_guide/indexing.html#returning-a-view-versus-a-copy\n",
      "  self.obj[item] = s\n"
     ]
    },
    {
     "name": "stdout",
     "output_type": "stream",
     "text": [
      "Replicate 3\n",
      "top_n\n",
      "Average control distance: 74.63708622212877\n",
      "Grouping sampled control sets...\n"
     ]
    },
    {
     "name": "stderr",
     "output_type": "stream",
     "text": [
      "/opt/conda/lib/python3.6/site-packages/IPython/core/interactiveshell.py:3296: DtypeWarning: Columns (13) have mixed types.Specify dtype option on import or set low_memory=False.\n",
      "  exec(code_obj, self.user_global_ns, self.user_ns)\n",
      "/work/07431/rmahtab/jupyter_packages/lib/python3.6/site-packages/numpy/lib/arraysetops.py:569: FutureWarning: elementwise comparison failed; returning scalar instead, but in the future will perform elementwise comparison\n",
      "  mask |= (ar1 == a)\n"
     ]
    },
    {
     "name": "stdout",
     "output_type": "stream",
     "text": [
      "1/25(r1dfxeycahns9y_r1dg8u3z9yzuuq.csv)\n",
      "2/25(r1ce3p3p7j77n_r1ceevbnsqku2.csv)\n",
      "3/25(r1dgppew9w7j7p_r1dgwudtwth732.csv)\n",
      "4/25(r1ce3p4vgfu3p_r1ceebve8d6tc.csv)\n",
      "5/25(r1dgppdqbd2mmk_r1dgwy63p8x5uz.csv)\n",
      "6/25(r1cckyeq9r358_r1ccqgmy5ffcd.csv)\n",
      "7/25(r1dgppg46aeknn_r1dgwpywx6rtc8.csv)\n",
      "8/25(r1cfkpq8n84aj_r1cftg78pbqd7.csv)\n",
      "9/25(r1df5qs7jb4fwq_r1dff64wwmq4gt.csv)\n",
      "10/25(r1dfxezj7aae4s_r1dg5dthycwjb7.csv)\n",
      "11/25(r1cdfr4bjcnrg_r1cdnuqex83dm.csv)\n",
      "12/25(r1d6r8mvznxxme_r1d8jxmssfag5w.csv)\n",
      "13/25(r1cwvvwryt3q49_r1cx4ux3zcdt4w.csv)\n",
      "14/25(r1cdhymqfs6b3_r1cdnzf4hbuz2.csv)\n",
      "15/25(r1cfkpuz2kr6c_r1cfpvk5hjkzb.csv)\n",
      "16/25(r1dfxex6e5ekjv_r1dg94zgbvxe7r.csv)\n",
      "17/25(r1ce3p63vnpzq_r1cee5f7knupg.csv)\n",
      "18/25(r1ceuhu9enre5_r1cf33y4j6dyg.csv)\n",
      "19/25(r1d6r932unhafk_r1d93nuytthhp4.csv)\n",
      "20/25(r1ce3pqt45vfe_r1ce7qf5e483u.csv)\n",
      "21/25(r1c5vad8u7ve2_r1c66q7cru28u.csv)\n",
      "22/25(r1c5vac658fxn_r1c66qw595ydy.csv)\n",
      "23/25(r1ce3ppkyswxf_r1ce7qk6h482m.csv)\n",
      "24/25(r1d6r8ztq8zfa7_r1d952nn9xk753.csv)\n",
      "25/25(r1c7cppfr7yp6_r1c7jnv3pkbsj.csv)\n",
      "\n",
      "----------------------------------------------------------------------------------------------------\n",
      "Starting run of model 19:29:58 at time random_forest_classification\n",
      "Normalizing training and testing splits...\n",
      "Starting Classification training...\n",
      "Training time was: 79.12 seconds\n",
      "Testing time was: 14.45 seconds\n",
      "Prediction time of untested data was: 57.19337296485901\n",
      "Run finished at 19:33:38. Total run time = 220.26 seconds\n",
      "^^^^^^^^^^^^^^^^^^^^^^^^^^^^^^^^^^^^^^^^^^^^^^^^^^^^^^^^^^^^^^^^^^^^^^^^^^^^^^^^^^^^^^^^^^^^^^^^^^^^\n",
      "\n",
      "\n",
      "\n",
      "\n"
     ]
    },
    {
     "name": "stderr",
     "output_type": "stream",
     "text": [
      "/work/07431/rmahtab/jupyter_packages/lib/python3.6/site-packages/pandas/core/indexing.py:966: SettingWithCopyWarning: \n",
      "A value is trying to be set on a copy of a slice from a DataFrame.\n",
      "Try using .loc[row_indexer,col_indexer] = value instead\n",
      "\n",
      "See the caveats in the documentation: https://pandas.pydata.org/pandas-docs/stable/user_guide/indexing.html#returning-a-view-versus-a-copy\n",
      "  self.obj[item] = s\n"
     ]
    },
    {
     "name": "stdout",
     "output_type": "stream",
     "text": [
      "Replicate 4\n",
      "top_n\n",
      "Average control distance: 74.63708622212877\n",
      "Grouping sampled control sets...\n"
     ]
    },
    {
     "name": "stderr",
     "output_type": "stream",
     "text": [
      "/opt/conda/lib/python3.6/site-packages/IPython/core/interactiveshell.py:3296: DtypeWarning: Columns (13) have mixed types.Specify dtype option on import or set low_memory=False.\n",
      "  exec(code_obj, self.user_global_ns, self.user_ns)\n",
      "/work/07431/rmahtab/jupyter_packages/lib/python3.6/site-packages/numpy/lib/arraysetops.py:569: FutureWarning: elementwise comparison failed; returning scalar instead, but in the future will perform elementwise comparison\n",
      "  mask |= (ar1 == a)\n"
     ]
    },
    {
     "name": "stdout",
     "output_type": "stream",
     "text": [
      "1/25(r1dfxeycahns9y_r1dg8u3z9yzuuq.csv)\n",
      "2/25(r1ce3p3p7j77n_r1ceevbnsqku2.csv)\n",
      "3/25(r1dgppew9w7j7p_r1dgwudtwth732.csv)\n",
      "4/25(r1ce3p4vgfu3p_r1ceebve8d6tc.csv)\n",
      "5/25(r1dgppdqbd2mmk_r1dgwy63p8x5uz.csv)\n",
      "6/25(r1cckyeq9r358_r1ccqgmy5ffcd.csv)\n",
      "7/25(r1dgppg46aeknn_r1dgwpywx6rtc8.csv)\n",
      "8/25(r1cfkpq8n84aj_r1cftg78pbqd7.csv)\n",
      "9/25(r1df5qs7jb4fwq_r1dff64wwmq4gt.csv)\n",
      "10/25(r1dfxezj7aae4s_r1dg5dthycwjb7.csv)\n",
      "11/25(r1cdfr4bjcnrg_r1cdnuqex83dm.csv)\n",
      "12/25(r1d6r8mvznxxme_r1d8jxmssfag5w.csv)\n",
      "13/25(r1cwvvwryt3q49_r1cx4ux3zcdt4w.csv)\n",
      "14/25(r1cdhymqfs6b3_r1cdnzf4hbuz2.csv)\n",
      "15/25(r1cfkpuz2kr6c_r1cfpvk5hjkzb.csv)\n",
      "16/25(r1dfxex6e5ekjv_r1dg94zgbvxe7r.csv)\n",
      "17/25(r1ce3p63vnpzq_r1cee5f7knupg.csv)\n",
      "18/25(r1ceuhu9enre5_r1cf33y4j6dyg.csv)\n",
      "19/25(r1d6r932unhafk_r1d93nuytthhp4.csv)\n",
      "20/25(r1ce3pqt45vfe_r1ce7qf5e483u.csv)\n",
      "21/25(r1c5vad8u7ve2_r1c66q7cru28u.csv)\n",
      "22/25(r1c5vac658fxn_r1c66qw595ydy.csv)\n",
      "23/25(r1ce3ppkyswxf_r1ce7qk6h482m.csv)\n",
      "24/25(r1d6r8ztq8zfa7_r1d952nn9xk753.csv)\n",
      "25/25(r1c7cppfr7yp6_r1c7jnv3pkbsj.csv)\n",
      "\n",
      "----------------------------------------------------------------------------------------------------\n",
      "Starting run of model 19:39:34 at time random_forest_classification\n",
      "Normalizing training and testing splits...\n",
      "Starting Classification training...\n",
      "Training time was: 78.48 seconds\n",
      "Testing time was: 2.16 seconds\n",
      "Prediction time of untested data was: 72.34519600868225\n",
      "Run finished at 19:43:10. Total run time = 216.44 seconds\n",
      "^^^^^^^^^^^^^^^^^^^^^^^^^^^^^^^^^^^^^^^^^^^^^^^^^^^^^^^^^^^^^^^^^^^^^^^^^^^^^^^^^^^^^^^^^^^^^^^^^^^^\n",
      "\n",
      "\n",
      "\n",
      "\n"
     ]
    },
    {
     "name": "stderr",
     "output_type": "stream",
     "text": [
      "/work/07431/rmahtab/jupyter_packages/lib/python3.6/site-packages/pandas/core/indexing.py:966: SettingWithCopyWarning: \n",
      "A value is trying to be set on a copy of a slice from a DataFrame.\n",
      "Try using .loc[row_indexer,col_indexer] = value instead\n",
      "\n",
      "See the caveats in the documentation: https://pandas.pydata.org/pandas-docs/stable/user_guide/indexing.html#returning-a-view-versus-a-copy\n",
      "  self.obj[item] = s\n"
     ]
    },
    {
     "name": "stdout",
     "output_type": "stream",
     "text": [
      "Replicate 5\n",
      "top_n\n",
      "Average control distance: 74.63708622212877\n",
      "Grouping sampled control sets...\n"
     ]
    },
    {
     "name": "stderr",
     "output_type": "stream",
     "text": [
      "/opt/conda/lib/python3.6/site-packages/IPython/core/interactiveshell.py:3296: DtypeWarning: Columns (13) have mixed types.Specify dtype option on import or set low_memory=False.\n",
      "  exec(code_obj, self.user_global_ns, self.user_ns)\n",
      "/work/07431/rmahtab/jupyter_packages/lib/python3.6/site-packages/numpy/lib/arraysetops.py:569: FutureWarning: elementwise comparison failed; returning scalar instead, but in the future will perform elementwise comparison\n",
      "  mask |= (ar1 == a)\n"
     ]
    },
    {
     "name": "stdout",
     "output_type": "stream",
     "text": [
      "1/25(r1dfxeycahns9y_r1dg8u3z9yzuuq.csv)\n",
      "2/25(r1ce3p3p7j77n_r1ceevbnsqku2.csv)\n",
      "3/25(r1dgppew9w7j7p_r1dgwudtwth732.csv)\n",
      "4/25(r1ce3p4vgfu3p_r1ceebve8d6tc.csv)\n",
      "5/25(r1dgppdqbd2mmk_r1dgwy63p8x5uz.csv)\n",
      "6/25(r1cckyeq9r358_r1ccqgmy5ffcd.csv)\n",
      "7/25(r1dgppg46aeknn_r1dgwpywx6rtc8.csv)\n",
      "8/25(r1cfkpq8n84aj_r1cftg78pbqd7.csv)\n",
      "9/25(r1df5qs7jb4fwq_r1dff64wwmq4gt.csv)\n",
      "10/25(r1dfxezj7aae4s_r1dg5dthycwjb7.csv)\n",
      "11/25(r1cdfr4bjcnrg_r1cdnuqex83dm.csv)\n",
      "12/25(r1d6r8mvznxxme_r1d8jxmssfag5w.csv)\n",
      "13/25(r1cwvvwryt3q49_r1cx4ux3zcdt4w.csv)\n",
      "14/25(r1cdhymqfs6b3_r1cdnzf4hbuz2.csv)\n",
      "15/25(r1cfkpuz2kr6c_r1cfpvk5hjkzb.csv)\n",
      "16/25(r1dfxex6e5ekjv_r1dg94zgbvxe7r.csv)\n",
      "17/25(r1ce3p63vnpzq_r1cee5f7knupg.csv)\n",
      "18/25(r1ceuhu9enre5_r1cf33y4j6dyg.csv)\n",
      "19/25(r1d6r932unhafk_r1d93nuytthhp4.csv)\n",
      "20/25(r1ce3pqt45vfe_r1ce7qf5e483u.csv)\n",
      "21/25(r1c5vad8u7ve2_r1c66q7cru28u.csv)\n",
      "22/25(r1c5vac658fxn_r1c66qw595ydy.csv)\n",
      "23/25(r1ce3ppkyswxf_r1ce7qk6h482m.csv)\n",
      "24/25(r1d6r8ztq8zfa7_r1d952nn9xk753.csv)\n",
      "25/25(r1c7cppfr7yp6_r1c7jnv3pkbsj.csv)\n",
      "\n",
      "----------------------------------------------------------------------------------------------------\n",
      "Starting run of model 19:49:16 at time random_forest_classification\n",
      "Normalizing training and testing splits...\n",
      "Starting Classification training...\n",
      "Training time was: 76.94 seconds\n",
      "Testing time was: 2.22 seconds\n",
      "Prediction time of untested data was: 70.7831163406372\n",
      "Run finished at 19:52:59. Total run time = 222.85 seconds\n",
      "^^^^^^^^^^^^^^^^^^^^^^^^^^^^^^^^^^^^^^^^^^^^^^^^^^^^^^^^^^^^^^^^^^^^^^^^^^^^^^^^^^^^^^^^^^^^^^^^^^^^\n",
      "\n",
      "\n",
      "\n",
      "\n"
     ]
    },
    {
     "name": "stderr",
     "output_type": "stream",
     "text": [
      "/work/07431/rmahtab/jupyter_packages/lib/python3.6/site-packages/pandas/core/indexing.py:966: SettingWithCopyWarning: \n",
      "A value is trying to be set on a copy of a slice from a DataFrame.\n",
      "Try using .loc[row_indexer,col_indexer] = value instead\n",
      "\n",
      "See the caveats in the documentation: https://pandas.pydata.org/pandas-docs/stable/user_guide/indexing.html#returning-a-view-versus-a-copy\n",
      "  self.obj[item] = s\n"
     ]
    }
   ],
   "source": [
    "avg_distances = []\n",
    "test_accuracies = []\n",
    "od_losses = []\n",
    "od_accuracies = []\n",
    "sample_size = []\n",
    "\n",
    "# Run grouped control prediction\n",
    "project_id = \"sd2e-project-14\"\n",
    "low_control = \"CRISPR_CEN.PK2_negative_control_23970\"\n",
    "high_control = \"CRISPR_CEN.PK2_positive_control_NOR_00_24864\"\n",
    "weighted_controls = True\n",
    "wass_path = \"data/\" + prediction_dataset + \".pkl\"\n",
    "\n",
    "sizes = [5,10,15,20,25]\n",
    "replicates = 5\n",
    "\n",
    "for control_size in sizes:\n",
    "    print(\"Size \" + str(control_size))\n",
    "    for i in range(replicates):\n",
    "        print(\"Replicate \" + str(i+1))\n",
    "        result, avg_dist, test_accuracy, od_loss, od_accuracy = main(last_process,\n",
    "                             df,\n",
    "                             meta,\n",
    "                             project_id,\n",
    "                             low_control,\n",
    "                             high_control,\n",
    "                             weighted_controls,\n",
    "                             wass_path,\n",
    "                             control_size)\n",
    "        \n",
    "        avg_distances.append(avg_dist)\n",
    "        test_accuracies.append(test_accuracy)\n",
    "        od_losses.append(od_loss)\n",
    "        od_accuracies.append(od_accuracy)\n",
    "        sample_size.append(control_size)"
   ]
  },
  {
   "cell_type": "code",
   "execution_count": 6,
   "metadata": {},
   "outputs": [],
   "source": [
    "# Store output in dataframe\n",
    "output = pd.DataFrame()\n",
    "output['Average Distance'] = avg_distances\n",
    "output['Test Accuracy'] = test_accuracies\n",
    "output['Optical Density Mean Loss'] = od_losses\n",
    "output['Optical Density Accuracy'] = od_accuracies\n",
    "output['Sample Size'] = sample_size\n",
    "output"
   ]
  },
  {
   "cell_type": "code",
   "execution_count": 8,
   "metadata": {},
   "outputs": [],
   "source": [
    "# Save output as pickled file\n",
    "output.to_pickle(\"notebook_data/sample_size_eval/weighted/top_n_\" + prediction_dataset + \".pkl\")"
   ]
  },
  {
   "cell_type": "code",
   "execution_count": 9,
   "metadata": {},
   "outputs": [],
   "source": [
    "# Read in pickled data to generate plots\n",
    "all_output = pd.DataFrame()\n",
    "folder = \"notebook_data/sample_size_eval/weighted/\"\n",
    "all_output = pickle.load(open(folder + \"top_n_\" + prediction_dataset + \".pkl\", \"rb\"))"
   ]
  },
  {
   "cell_type": "code",
   "execution_count": 10,
   "metadata": {
    "scrolled": true
   },
   "outputs": [
    {
     "data": {
      "text/html": [
       "<div>\n",
       "<style scoped>\n",
       "    .dataframe tbody tr th:only-of-type {\n",
       "        vertical-align: middle;\n",
       "    }\n",
       "\n",
       "    .dataframe tbody tr th {\n",
       "        vertical-align: top;\n",
       "    }\n",
       "\n",
       "    .dataframe thead th {\n",
       "        text-align: right;\n",
       "    }\n",
       "</style>\n",
       "<table border=\"1\" class=\"dataframe\">\n",
       "  <thead>\n",
       "    <tr style=\"text-align: right;\">\n",
       "      <th></th>\n",
       "      <th>Average Distance</th>\n",
       "      <th>Test Accuracy</th>\n",
       "      <th>Optical Density Mean Loss</th>\n",
       "      <th>Optical Density Accuracy</th>\n",
       "      <th>Sample Size</th>\n",
       "    </tr>\n",
       "  </thead>\n",
       "  <tbody>\n",
       "    <tr>\n",
       "      <th>0</th>\n",
       "      <td>72.580672</td>\n",
       "      <td>0.973</td>\n",
       "      <td>7.673923</td>\n",
       "      <td>0.913793</td>\n",
       "      <td>5</td>\n",
       "    </tr>\n",
       "    <tr>\n",
       "      <th>1</th>\n",
       "      <td>72.580672</td>\n",
       "      <td>0.973</td>\n",
       "      <td>7.700273</td>\n",
       "      <td>0.913793</td>\n",
       "      <td>5</td>\n",
       "    </tr>\n",
       "    <tr>\n",
       "      <th>2</th>\n",
       "      <td>72.580672</td>\n",
       "      <td>0.973</td>\n",
       "      <td>7.673091</td>\n",
       "      <td>0.913793</td>\n",
       "      <td>5</td>\n",
       "    </tr>\n",
       "    <tr>\n",
       "      <th>3</th>\n",
       "      <td>72.580672</td>\n",
       "      <td>0.973</td>\n",
       "      <td>7.655225</td>\n",
       "      <td>0.913793</td>\n",
       "      <td>5</td>\n",
       "    </tr>\n",
       "    <tr>\n",
       "      <th>4</th>\n",
       "      <td>72.580672</td>\n",
       "      <td>0.973</td>\n",
       "      <td>7.714015</td>\n",
       "      <td>0.913793</td>\n",
       "      <td>5</td>\n",
       "    </tr>\n",
       "    <tr>\n",
       "      <th>5</th>\n",
       "      <td>73.451638</td>\n",
       "      <td>0.969</td>\n",
       "      <td>6.761507</td>\n",
       "      <td>0.913793</td>\n",
       "      <td>10</td>\n",
       "    </tr>\n",
       "    <tr>\n",
       "      <th>6</th>\n",
       "      <td>73.451638</td>\n",
       "      <td>0.970</td>\n",
       "      <td>6.801721</td>\n",
       "      <td>0.913793</td>\n",
       "      <td>10</td>\n",
       "    </tr>\n",
       "    <tr>\n",
       "      <th>7</th>\n",
       "      <td>73.451638</td>\n",
       "      <td>0.970</td>\n",
       "      <td>6.796469</td>\n",
       "      <td>0.913793</td>\n",
       "      <td>10</td>\n",
       "    </tr>\n",
       "    <tr>\n",
       "      <th>8</th>\n",
       "      <td>73.451638</td>\n",
       "      <td>0.970</td>\n",
       "      <td>6.827517</td>\n",
       "      <td>0.913793</td>\n",
       "      <td>10</td>\n",
       "    </tr>\n",
       "    <tr>\n",
       "      <th>9</th>\n",
       "      <td>73.451638</td>\n",
       "      <td>0.969</td>\n",
       "      <td>6.758107</td>\n",
       "      <td>0.913793</td>\n",
       "      <td>10</td>\n",
       "    </tr>\n",
       "    <tr>\n",
       "      <th>10</th>\n",
       "      <td>73.890244</td>\n",
       "      <td>0.967</td>\n",
       "      <td>6.596305</td>\n",
       "      <td>0.913793</td>\n",
       "      <td>15</td>\n",
       "    </tr>\n",
       "    <tr>\n",
       "      <th>11</th>\n",
       "      <td>73.890244</td>\n",
       "      <td>0.967</td>\n",
       "      <td>6.597198</td>\n",
       "      <td>0.913793</td>\n",
       "      <td>15</td>\n",
       "    </tr>\n",
       "    <tr>\n",
       "      <th>12</th>\n",
       "      <td>73.890244</td>\n",
       "      <td>0.967</td>\n",
       "      <td>6.609202</td>\n",
       "      <td>0.913793</td>\n",
       "      <td>15</td>\n",
       "    </tr>\n",
       "    <tr>\n",
       "      <th>13</th>\n",
       "      <td>73.890244</td>\n",
       "      <td>0.967</td>\n",
       "      <td>6.596481</td>\n",
       "      <td>0.913793</td>\n",
       "      <td>15</td>\n",
       "    </tr>\n",
       "    <tr>\n",
       "      <th>14</th>\n",
       "      <td>73.890244</td>\n",
       "      <td>0.967</td>\n",
       "      <td>6.577875</td>\n",
       "      <td>0.913793</td>\n",
       "      <td>15</td>\n",
       "    </tr>\n",
       "    <tr>\n",
       "      <th>15</th>\n",
       "      <td>74.274511</td>\n",
       "      <td>0.970</td>\n",
       "      <td>6.462414</td>\n",
       "      <td>0.913793</td>\n",
       "      <td>20</td>\n",
       "    </tr>\n",
       "    <tr>\n",
       "      <th>16</th>\n",
       "      <td>74.274511</td>\n",
       "      <td>0.970</td>\n",
       "      <td>6.463111</td>\n",
       "      <td>0.913793</td>\n",
       "      <td>20</td>\n",
       "    </tr>\n",
       "    <tr>\n",
       "      <th>17</th>\n",
       "      <td>74.274511</td>\n",
       "      <td>0.970</td>\n",
       "      <td>6.459699</td>\n",
       "      <td>0.913793</td>\n",
       "      <td>20</td>\n",
       "    </tr>\n",
       "    <tr>\n",
       "      <th>18</th>\n",
       "      <td>74.274511</td>\n",
       "      <td>0.970</td>\n",
       "      <td>6.469936</td>\n",
       "      <td>0.913793</td>\n",
       "      <td>20</td>\n",
       "    </tr>\n",
       "    <tr>\n",
       "      <th>19</th>\n",
       "      <td>74.274511</td>\n",
       "      <td>0.970</td>\n",
       "      <td>6.475038</td>\n",
       "      <td>0.913793</td>\n",
       "      <td>20</td>\n",
       "    </tr>\n",
       "    <tr>\n",
       "      <th>20</th>\n",
       "      <td>74.637086</td>\n",
       "      <td>0.970</td>\n",
       "      <td>6.480820</td>\n",
       "      <td>0.913793</td>\n",
       "      <td>25</td>\n",
       "    </tr>\n",
       "    <tr>\n",
       "      <th>21</th>\n",
       "      <td>74.637086</td>\n",
       "      <td>0.970</td>\n",
       "      <td>6.461620</td>\n",
       "      <td>0.913793</td>\n",
       "      <td>25</td>\n",
       "    </tr>\n",
       "    <tr>\n",
       "      <th>22</th>\n",
       "      <td>74.637086</td>\n",
       "      <td>0.970</td>\n",
       "      <td>6.471499</td>\n",
       "      <td>0.913793</td>\n",
       "      <td>25</td>\n",
       "    </tr>\n",
       "    <tr>\n",
       "      <th>23</th>\n",
       "      <td>74.637086</td>\n",
       "      <td>0.970</td>\n",
       "      <td>6.489329</td>\n",
       "      <td>0.913793</td>\n",
       "      <td>25</td>\n",
       "    </tr>\n",
       "    <tr>\n",
       "      <th>24</th>\n",
       "      <td>74.637086</td>\n",
       "      <td>0.970</td>\n",
       "      <td>6.478587</td>\n",
       "      <td>0.913793</td>\n",
       "      <td>25</td>\n",
       "    </tr>\n",
       "  </tbody>\n",
       "</table>\n",
       "</div>"
      ],
      "text/plain": [
       "    Average Distance  Test Accuracy  Optical Density Mean Loss  Optical Density Accuracy  Sample Size\n",
       "0   72.580672         0.973          7.673923                   0.913793                  5          \n",
       "1   72.580672         0.973          7.700273                   0.913793                  5          \n",
       "2   72.580672         0.973          7.673091                   0.913793                  5          \n",
       "3   72.580672         0.973          7.655225                   0.913793                  5          \n",
       "4   72.580672         0.973          7.714015                   0.913793                  5          \n",
       "5   73.451638         0.969          6.761507                   0.913793                  10         \n",
       "6   73.451638         0.970          6.801721                   0.913793                  10         \n",
       "7   73.451638         0.970          6.796469                   0.913793                  10         \n",
       "8   73.451638         0.970          6.827517                   0.913793                  10         \n",
       "9   73.451638         0.969          6.758107                   0.913793                  10         \n",
       "10  73.890244         0.967          6.596305                   0.913793                  15         \n",
       "11  73.890244         0.967          6.597198                   0.913793                  15         \n",
       "12  73.890244         0.967          6.609202                   0.913793                  15         \n",
       "13  73.890244         0.967          6.596481                   0.913793                  15         \n",
       "14  73.890244         0.967          6.577875                   0.913793                  15         \n",
       "15  74.274511         0.970          6.462414                   0.913793                  20         \n",
       "16  74.274511         0.970          6.463111                   0.913793                  20         \n",
       "17  74.274511         0.970          6.459699                   0.913793                  20         \n",
       "18  74.274511         0.970          6.469936                   0.913793                  20         \n",
       "19  74.274511         0.970          6.475038                   0.913793                  20         \n",
       "20  74.637086         0.970          6.480820                   0.913793                  25         \n",
       "21  74.637086         0.970          6.461620                   0.913793                  25         \n",
       "22  74.637086         0.970          6.471499                   0.913793                  25         \n",
       "23  74.637086         0.970          6.489329                   0.913793                  25         \n",
       "24  74.637086         0.970          6.478587                   0.913793                  25         "
      ]
     },
     "execution_count": 10,
     "metadata": {},
     "output_type": "execute_result"
    }
   ],
   "source": [
    "all_output"
   ]
  },
  {
   "cell_type": "code",
   "execution_count": 11,
   "metadata": {},
   "outputs": [
    {
     "data": {
      "text/html": [
       "<div>\n",
       "<style scoped>\n",
       "    .dataframe tbody tr th:only-of-type {\n",
       "        vertical-align: middle;\n",
       "    }\n",
       "\n",
       "    .dataframe tbody tr th {\n",
       "        vertical-align: top;\n",
       "    }\n",
       "\n",
       "    .dataframe thead tr th {\n",
       "        text-align: left;\n",
       "    }\n",
       "\n",
       "    .dataframe thead tr:last-of-type th {\n",
       "        text-align: right;\n",
       "    }\n",
       "</style>\n",
       "<table border=\"1\" class=\"dataframe\">\n",
       "  <thead>\n",
       "    <tr>\n",
       "      <th></th>\n",
       "      <th colspan=\"2\" halign=\"left\">Average Distance</th>\n",
       "      <th colspan=\"2\" halign=\"left\">Test Accuracy</th>\n",
       "      <th colspan=\"2\" halign=\"left\">Optical Density Mean Loss</th>\n",
       "      <th colspan=\"2\" halign=\"left\">Optical Density Accuracy</th>\n",
       "    </tr>\n",
       "    <tr>\n",
       "      <th></th>\n",
       "      <th>mean</th>\n",
       "      <th>std</th>\n",
       "      <th>mean</th>\n",
       "      <th>std</th>\n",
       "      <th>mean</th>\n",
       "      <th>std</th>\n",
       "      <th>mean</th>\n",
       "      <th>std</th>\n",
       "    </tr>\n",
       "    <tr>\n",
       "      <th>Sample Size</th>\n",
       "      <th></th>\n",
       "      <th></th>\n",
       "      <th></th>\n",
       "      <th></th>\n",
       "      <th></th>\n",
       "      <th></th>\n",
       "      <th></th>\n",
       "      <th></th>\n",
       "    </tr>\n",
       "  </thead>\n",
       "  <tbody>\n",
       "    <tr>\n",
       "      <th>5</th>\n",
       "      <td>72.580672</td>\n",
       "      <td>0.0</td>\n",
       "      <td>0.9730</td>\n",
       "      <td>0.000000</td>\n",
       "      <td>7.683306</td>\n",
       "      <td>0.023515</td>\n",
       "      <td>0.913793</td>\n",
       "      <td>0.0</td>\n",
       "    </tr>\n",
       "    <tr>\n",
       "      <th>10</th>\n",
       "      <td>73.451638</td>\n",
       "      <td>0.0</td>\n",
       "      <td>0.9696</td>\n",
       "      <td>0.000548</td>\n",
       "      <td>6.789064</td>\n",
       "      <td>0.029204</td>\n",
       "      <td>0.913793</td>\n",
       "      <td>0.0</td>\n",
       "    </tr>\n",
       "    <tr>\n",
       "      <th>15</th>\n",
       "      <td>73.890244</td>\n",
       "      <td>0.0</td>\n",
       "      <td>0.9670</td>\n",
       "      <td>0.000000</td>\n",
       "      <td>6.595412</td>\n",
       "      <td>0.011212</td>\n",
       "      <td>0.913793</td>\n",
       "      <td>0.0</td>\n",
       "    </tr>\n",
       "    <tr>\n",
       "      <th>20</th>\n",
       "      <td>74.274511</td>\n",
       "      <td>0.0</td>\n",
       "      <td>0.9700</td>\n",
       "      <td>0.000000</td>\n",
       "      <td>6.466040</td>\n",
       "      <td>0.006286</td>\n",
       "      <td>0.913793</td>\n",
       "      <td>0.0</td>\n",
       "    </tr>\n",
       "    <tr>\n",
       "      <th>25</th>\n",
       "      <td>74.637086</td>\n",
       "      <td>0.0</td>\n",
       "      <td>0.9700</td>\n",
       "      <td>0.000000</td>\n",
       "      <td>6.476371</td>\n",
       "      <td>0.010416</td>\n",
       "      <td>0.913793</td>\n",
       "      <td>0.0</td>\n",
       "    </tr>\n",
       "  </tbody>\n",
       "</table>\n",
       "</div>"
      ],
      "text/plain": [
       "            Average Distance      Test Accuracy           Optical Density Mean Loss           Optical Density Accuracy     \n",
       "                        mean  std          mean       std                      mean       std                     mean  std\n",
       "Sample Size                                                                                                                \n",
       "5            72.580672        0.0  0.9730        0.000000  7.683306                  0.023515  0.913793                 0.0\n",
       "10           73.451638        0.0  0.9696        0.000548  6.789064                  0.029204  0.913793                 0.0\n",
       "15           73.890244        0.0  0.9670        0.000000  6.595412                  0.011212  0.913793                 0.0\n",
       "20           74.274511        0.0  0.9700        0.000000  6.466040                  0.006286  0.913793                 0.0\n",
       "25           74.637086        0.0  0.9700        0.000000  6.476371                  0.010416  0.913793                 0.0"
      ]
     },
     "execution_count": 11,
     "metadata": {},
     "output_type": "execute_result"
    }
   ],
   "source": [
    "sample_size_weighted_grouped = all_output.groupby(['Sample Size']).agg([np.mean, np.std])\n",
    "sample_size_weighted_grouped"
   ]
  },
  {
   "cell_type": "code",
   "execution_count": 12,
   "metadata": {},
   "outputs": [
    {
     "data": {
      "image/png": "[encoded data removed]",
      "text/plain": [
       "<Figure size 432x288 with 1 Axes>"
      ]
     },
     "metadata": {
      "needs_background": "light"
     },
     "output_type": "display_data"
    },
    {
     "data": {
      "image/png": "[encoded data removed]",
      "text/plain": [
       "<Figure size 432x288 with 1 Axes>"
      ]
     },
     "metadata": {
      "needs_background": "light"
     },
     "output_type": "display_data"
    },
    {
     "data": {
      "image/png": "[encoded data removed]",
      "text/plain": [
       "<Figure size 432x288 with 1 Axes>"
      ]
     },
     "metadata": {
      "needs_background": "light"
     },
     "output_type": "display_data"
    }
   ],
   "source": [
    "plt.errorbar(sample_size_weighted_grouped.index,\n",
    "             sample_size_weighted_grouped['Test Accuracy']['mean'],\n",
    "             yerr=sample_size_weighted_grouped['Test Accuracy']['std'])\n",
    "plt.title('Top-N Weighted Model: ' + prediction_dataset)\n",
    "plt.xlabel('Control Sample Size')\n",
    "plt.ylabel('Test Accuracy')\n",
    "plt.xticks(np.arange(5, 30, step=5))\n",
    "plt.show()\n",
    "\n",
    "plt.errorbar(sample_size_weighted_grouped.index,\n",
    "             sample_size_weighted_grouped['Optical Density Mean Loss']['mean'],\n",
    "             yerr=sample_size_weighted_grouped['Optical Density Mean Loss']['std'])\n",
    "plt.title('Top-N Weighted Model: ' + prediction_dataset)\n",
    "plt.xlabel('Control Sample Size')\n",
    "plt.ylabel('Optical Density Mean Loss')\n",
    "plt.xticks(np.arange(5, 30, step=5))\n",
    "plt.show()\n",
    "\n",
    "plt.errorbar(sample_size_weighted_grouped.index,\n",
    "             sample_size_weighted_grouped['Optical Density Accuracy']['mean'],\n",
    "             yerr=sample_size_weighted_grouped['Optical Density Accuracy']['std'])\n",
    "plt.title('Top-N Weighted Model: ' + prediction_dataset)\n",
    "plt.xlabel('Control Sample Size')\n",
    "plt.ylabel('Optical Density Accuracy')\n",
    "plt.xticks(np.arange(5, 30, step=5))\n",
    "plt.show()"
   ]
  },
  {
   "cell_type": "code",
   "execution_count": 13,
   "metadata": {},
   "outputs": [
    {
     "data": {
      "text/plain": [
       "(25, 5)"
      ]
     },
     "execution_count": 13,
     "metadata": {},
     "output_type": "execute_result"
    }
   ],
   "source": [
    "all_output.shape"
   ]
  },
  {
   "cell_type": "code",
   "execution_count": 14,
   "metadata": {},
   "outputs": [
    {
     "data": {
      "text/plain": [
       "(5, 8)"
      ]
     },
     "execution_count": 14,
     "metadata": {},
     "output_type": "execute_result"
    }
   ],
   "source": [
    "sample_size_weighted_grouped.shape"
   ]
  }
 ],
 "metadata": {
  "kernelspec": {
   "display_name": "Python 3",
   "language": "python",
   "name": "python3"
  },
  "language_info": {
   "codemirror_mode": {
    "name": "ipython",
    "version": 3
   },
   "file_extension": ".py",
   "mimetype": "text/x-python",
   "name": "python",
   "nbconvert_exporter": "python",
   "pygments_lexer": "ipython3",
   "version": "3.6.8"
  }
 },
 "nbformat": 4,
 "nbformat_minor": 2
}
