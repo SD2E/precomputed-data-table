{
 "cells": [
  {
   "cell_type": "code",
   "execution_count": 1,
   "metadata": {},
   "outputs": [
    {
     "data": {
      "text/plain": [
       "'/work/05258/bcummins/GIT/flow_cytometry_scoring/notebooks'"
      ]
     },
     "execution_count": 1,
     "metadata": {},
     "output_type": "execute_result"
    }
   ],
   "source": [
    "%pwd"
   ]
  },
  {
   "cell_type": "code",
   "execution_count": 2,
   "metadata": {},
   "outputs": [
    {
     "name": "stdout",
     "output_type": "stream",
     "text": [
      "/opt/conda/lib/python3.6/distutils/dist.py:261: UserWarning: Unknown distribution option: 'install_requires'\n",
      "  warnings.warn(msg)\n",
      "running install\n",
      "running build\n",
      "running build_py\n",
      "running install_lib\n",
      "running install_egg_info\n",
      "Removing /work/05258/bcummins/jupyter_packages/lib/python3.6/site-packages/flow_cytometry_scoring-0.0.1-py3.6.egg-info\n",
      "Writing /work/05258/bcummins/jupyter_packages/lib/python3.6/site-packages/flow_cytometry_scoring-0.0.1-py3.6.egg-info\n"
     ]
    }
   ],
   "source": [
    "import pandas as pd\n",
    "import os\n",
    "import json\n",
    "import sys\n",
    "from os.path import expanduser\n",
    "import numpy as np\n",
    "import matplotlib.pyplot as plt\n",
    "\n",
    "\n",
    "## Assumes we are inside flow_cytometry_scoring/notebooks\n",
    "os.chdir(\"../\")\n",
    "# !{sys.executable} setup.py develop --user --uninstall\n",
    "!{sys.executable} setup.py install --user \n",
    "# %pip uninstall -y flow_cytometry_scoring &> /dev/null || True\n",
    "# %pip install . --user\n",
    "os.chdir(\"notebooks/\")\n"
   ]
  },
  {
   "cell_type": "code",
   "execution_count": 3,
   "metadata": {},
   "outputs": [
    {
     "data": {
      "text/plain": [
       "['/work/projects/SD2E-Community/prod/projects/sd2e-project-43/test/dc_YeastSTATES-CRISPR-Short-Duration-Time-Series-20191208_20200423194115',\n",
       " '/work/projects/SD2E-Community/prod/projects/sd2e-project-43/test/dc_YeastSTATES-CRISPR-Short-Duration-Time-Series-35C_20200423195648']"
      ]
     },
     "execution_count": 3,
     "metadata": {},
     "output_type": "execute_result"
    }
   ],
   "source": [
    "from flow_cytometry_scoring import rank_order_truth_tables as rank\n",
    "\n",
    "%load_ext autoreload\n",
    "%reload_ext autoreload\n",
    "%autoreload 2\n",
    " \n",
    "\n",
    "\n",
    "DATA_CONVERGE_PROJECT=\"sd2e-project-43\"\n",
    "\n",
    "data_converge_base = os.path.join(expanduser(\"~\"), 'sd2e-projects', DATA_CONVERGE_PROJECT)\n",
    "experiment_dir = os.path.realpath(os.path.join(data_converge_base, 'test'))\n",
    "experiment_dir_contents = [os.path.realpath(os.path.join(experiment_dir, x)) for x in os.listdir(experiment_dir)]\n",
    "\n",
    "experiments = [x for x in  experiment_dir_contents \n",
    "               if os.path.isdir(x) and \"CRISPR-Short-Duration\" in x]\n",
    "\n",
    "experiments = {x.split('_')[1]:x for x in sorted(experiments)}\n",
    "experiments = list(experiments.values())\n",
    "\n",
    "experiments\n"
   ]
  },
  {
   "cell_type": "code",
   "execution_count": 4,
   "metadata": {},
   "outputs": [],
   "source": [
    "## Data Helper functions\n",
    "\n",
    "def get_record(experiment):\n",
    "    record = json.load(open(os.path.join(experiment, \"record.json\")))\n",
    "    return record\n",
    "\n",
    "def get_record_file(record, file_type=\"fc_meta\"):\n",
    "    files = record['files']\n",
    "    files_of_type = [ x for x in files if file_type in x['name']]\n",
    "    if len(files_of_type) > 0:\n",
    "        return files_of_type[0]\n",
    "    else:\n",
    "        return None\n",
    "\n",
    "def get_data(experiment, record, file_type):\n",
    "    fc_raw_file = get_record_file(record, file_type)\n",
    "    if fc_raw_file:\n",
    "        data_df = pd.read_csv(os.path.join(experiment, fc_raw_file['name']))\n",
    "        return data_df\n",
    "    else:\n",
    "        return None\n",
    "\n",
    "def get_bins(df):\n",
    "    return [float(x.split(\"_\")[1]) for x in df.columns if \"bin\" in x]\n",
    "\n",
    "def get_row_values(df,row_name,id_col):\n",
    "    df_j = df.loc[df[id_col] == row_name]\n",
    "    df_j = df_j[[x for x in df_j.columns if \"bin\" in x]]\n",
    "    return df_j.values[0]\n",
    "   \n",
    "    "
   ]
  },
  {
   "cell_type": "code",
   "execution_count": 5,
   "metadata": {},
   "outputs": [],
   "source": [
    "def do_analysis(experiment,datafile,id_col=\"sample_id\",channel_col=\"channel\",channel_val=\"BL1-A\"):\n",
    "    # datafile is \"fc_raw_log10_stats.csv\" or \"fc_etl_stats.csv\"\n",
    "\n",
    "    ## load dataset from data converge \n",
    "    record = get_record(experiment)\n",
    "    df = get_data(experiment, record, datafile)\n",
    "    \n",
    "    if df is None:\n",
    "        return None\n",
    "        \n",
    "    # handle difference between etl and log10 histogram filesS\n",
    "    if channel_col in df.columns:\n",
    "        df = df.loc[df[channel_col] == channel_val]\n",
    "\n",
    "#     ## Truncated for testing\n",
    "#     df = df.iloc[:5]\n",
    "\n",
    "    bins = get_bins(df)   \n",
    "    ids = list(df[id_col].values)   \n",
    "    res = np.zeros([len(ids),len(ids)])\n",
    "    \n",
    "    for j,s in enumerate(ids):\n",
    "        s_bin_vals = get_row_values(df,s,id_col)\n",
    "        for k,t in enumerate(ids[j+1:]):\n",
    "            t_bin_vals = get_row_values(df,t,id_col)\n",
    "            score = rank.emdist(s_bin_vals, t_bin_vals, bins)\n",
    "            res[j,j+k+1] = 10**score\n",
    "            res[j+k+1,j] = 10**score\n",
    "    df_results = pd.DataFrame(data=res, index=ids, columns=ids)\n",
    "    return df_results\n",
    "\n"
   ]
  },
  {
   "cell_type": "code",
   "execution_count": 6,
   "metadata": {},
   "outputs": [
    {
     "name": "stdout",
     "output_type": "stream",
     "text": [
      "dc_YeastSTATES-CRISPR-Short-Duration-Time-Series-20191208_20200423194115\n",
      "fc_raw_log10_stats.csv\n",
      "dc_YeastSTATES-CRISPR-Short-Duration-Time-Series-20191208_20200423194115\n",
      "fc_etl_stats.csv\n"
     ]
    },
    {
     "name": "stderr",
     "output_type": "stream",
     "text": [
      "/work/05258/bcummins/jupyter_packages/lib/python3.6/site-packages/flow_cytometry_scoring/rank_order_truth_tables.py:37: RuntimeWarning: invalid value encountered in true_divide\n",
      "  return pyemd.emd(np.asarray(h1)/float(sum(h1)), np.asarray(h2)/float(sum(h2)), bin_dist)\n"
     ]
    },
    {
     "name": "stdout",
     "output_type": "stream",
     "text": [
      "dc_YeastSTATES-CRISPR-Short-Duration-Time-Series-35C_20200423195648\n",
      "fc_raw_log10_stats.csv\n",
      "dc_YeastSTATES-CRISPR-Short-Duration-Time-Series-35C_20200423195648\n",
      "fc_etl_stats.csv\n"
     ]
    }
   ],
   "source": [
    "## Run Wasserstein analysis on all processed data sets\n",
    "\n",
    "for experiment in experiments:\n",
    "    for datafile in [\"fc_raw_log10_stats.csv\",\"fc_etl_stats.csv\"]:\n",
    "        experiment_name = experiment.split(\"/\")[-1]\n",
    "        print(experiment_name)\n",
    "        print(datafile)\n",
    "        fname = experiment_name+\"_\"+datafile.split(\".\")[0]+\"_wasserstein_dists.csv\"\n",
    "        if not os.path.exists(fname):\n",
    "            df = do_analysis(experiment,datafile)\n",
    "            df.to_csv(fname)\n"
   ]
  },
  {
   "cell_type": "code",
   "execution_count": null,
   "metadata": {},
   "outputs": [],
   "source": []
  }
 ],
 "metadata": {
  "kernelspec": {
   "display_name": "Python 3",
   "language": "python",
   "name": "python3"
  },
  "language_info": {
   "codemirror_mode": {
    "name": "ipython",
    "version": 3
   },
   "file_extension": ".py",
   "mimetype": "text/x-python",
   "name": "python",
   "nbconvert_exporter": "python",
   "pygments_lexer": "ipython3",
   "version": "3.6.8"
  }
 },
 "nbformat": 4,
 "nbformat_minor": 2
}
