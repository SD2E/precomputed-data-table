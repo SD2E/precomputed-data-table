{
 "cells": [
  {
   "cell_type": "code",
   "execution_count": 1,
   "metadata": {},
   "outputs": [],
   "source": [
    "import pandas as pd"
   ]
  },
  {
   "cell_type": "code",
   "execution_count": 13,
   "metadata": {},
   "outputs": [],
   "source": [
    "folder = 'notebook_data/RF+OD/'"
   ]
  },
  {
   "cell_type": "code",
   "execution_count": 2,
   "metadata": {},
   "outputs": [
    {
     "data": {
      "text/plain": [
       "(92, 23)"
      ]
     },
     "execution_count": 2,
     "metadata": {},
     "output_type": "execute_result"
    }
   ],
   "source": [
    "df1 = pd.read_csv(folder+'RF_OD_CEN-PK-Inducible-CRISPR-4-Day-Obstacle-Course_20200721164700.csv', index_col=0)\n",
    "df1.shape"
   ]
  },
  {
   "cell_type": "code",
   "execution_count": 3,
   "metadata": {},
   "outputs": [
    {
     "data": {
      "text/plain": [
       "(276, 23)"
      ]
     },
     "execution_count": 3,
     "metadata": {},
     "output_type": "execute_result"
    }
   ],
   "source": [
    "df2 = pd.read_csv(folder+'RF_OD_YeastSTATES-CRISPR-Short-Duration-Time-Series-20191208_20200610192131.csv', index_col=0)\n",
    "df2.shape"
   ]
  },
  {
   "cell_type": "code",
   "execution_count": 4,
   "metadata": {},
   "outputs": [
    {
     "data": {
      "text/plain": [
       "(93, 23)"
      ]
     },
     "execution_count": 4,
     "metadata": {},
     "output_type": "execute_result"
    }
   ],
   "source": [
    "df3 = pd.read_csv(folder+'RF_OD_YeastSTATES-CRISPR-Short-Duration-Time-Series-35C_20200625205807.csv', index_col=0)\n",
    "df3.shape"
   ]
  },
  {
   "cell_type": "code",
   "execution_count": 5,
   "metadata": {},
   "outputs": [
    {
     "data": {
      "text/plain": [
       "(58, 18)"
      ]
     },
     "execution_count": 5,
     "metadata": {},
     "output_type": "execute_result"
    }
   ],
   "source": [
    "df4 = pd.read_csv(folder+'RF_OD_YeastSTATES-OR-Gate-CRISPR-Dose-Response_20200625204022.csv', index_col=0)\n",
    "df4.shape"
   ]
  },
  {
   "cell_type": "code",
   "execution_count": 6,
   "metadata": {},
   "outputs": [],
   "source": [
    "extra_cols = ['experiment_reference', 'strain_class', 'standard_type', 'control_type', 'sample_contents']"
   ]
  },
  {
   "cell_type": "code",
   "execution_count": 12,
   "metadata": {},
   "outputs": [
    {
     "data": {
      "text/plain": [
       "Index(['experiment_id', 'well', 'strain', 'experiment_reference', 'lab',\n",
       "       'strain_name', 'strain_class', 'standard_type', 'control_type',\n",
       "       'media_type', 'inducer_type', 'inducer_concentration',\n",
       "       'inducer_concentration_unit', 'sample_contents', 'temperature',\n",
       "       'temperature_unit', 'od', 'dead', 'ungrowing', 'doubling_time', 'n0',\n",
       "       'RF_prediction_mean', 'RF_prediction_std'],\n",
       "      dtype='object')"
      ]
     },
     "execution_count": 12,
     "metadata": {},
     "output_type": "execute_result"
    }
   ],
   "source": [
    "df1.columns"
   ]
  },
  {
   "cell_type": "code",
   "execution_count": 8,
   "metadata": {},
   "outputs": [
    {
     "data": {
      "text/plain": [
       "Index(['experiment_id', 'well', 'strain', 'lab', 'strain_name', 'media_type',\n",
       "       'inducer_type', 'inducer_concentration', 'inducer_concentration_unit',\n",
       "       'temperature', 'temperature_unit', 'od', 'dead', 'ungrowing',\n",
       "       'doubling_time', 'n0', 'RF_prediction_mean', 'RF_prediction_std'],\n",
       "      dtype='object')"
      ]
     },
     "execution_count": 8,
     "metadata": {},
     "output_type": "execute_result"
    }
   ],
   "source": [
    "df4.columns"
   ]
  }
 ],
 "metadata": {
  "kernelspec": {
   "display_name": "Python 3",
   "language": "python",
   "name": "python3"
  },
  "language_info": {
   "codemirror_mode": {
    "name": "ipython",
    "version": 3
   },
   "file_extension": ".py",
   "mimetype": "text/x-python",
   "name": "python",
   "nbconvert_exporter": "python",
   "pygments_lexer": "ipython3",
   "version": "3.7.3"
  }
 },
 "nbformat": 4,
 "nbformat_minor": 2
}
