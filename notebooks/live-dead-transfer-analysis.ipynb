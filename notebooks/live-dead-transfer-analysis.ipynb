{
 "cells": [
  {
   "cell_type": "code",
   "execution_count": 39,
   "metadata": {},
   "outputs": [
    {
     "name": "stdout",
     "output_type": "stream",
     "text": [
      "The autoreload extension is already loaded. To reload it, use:\n",
      "  %reload_ext autoreload\n"
     ]
    },
    {
     "data": {
      "text/plain": [
       "['/work/projects/SD2E-Community/prod/projects/sd2e-project-43/test/dc_CEN-PK-Inducible-CRISPR-4-Day-Obstacle-Course_20200506021137',\n",
       " '/work/projects/SD2E-Community/prod/projects/sd2e-project-43/test/dc_CEN-PK-Inducible-CRISPR-Characterization_20200426200027',\n",
       " '/work/projects/SD2E-Community/prod/projects/sd2e-project-43/test/dc_YeastSTATES-Beta-Estradiol-OR-Gate-Plant-TF-Dose-Response_20200414091814',\n",
       " '/work/projects/SD2E-Community/prod/projects/sd2e-project-43/test/dc_YeastSTATES-Beta-Estradiol-OR-Gate-Plant-TF-Dose-Response_20200423200308',\n",
       " '/work/projects/SD2E-Community/prod/projects/sd2e-project-43/test/dc_YeastSTATES-Beta-Estradiol-OR-Gate-Plant-TF-Growth-Curves_20200327174254',\n",
       " '/work/projects/SD2E-Community/prod/projects/sd2e-project-43/test/dc_YeastSTATES-Beta-Estradiol-OR-Gate-Plant-TF-Growth-Curves_20200414150010',\n",
       " '/work/projects/SD2E-Community/prod/projects/sd2e-project-43/test/dc_YeastSTATES-Beta-Estradiol-OR-Gate-Plant-TF-Growth-Curves_20200423201016',\n",
       " '/work/projects/SD2E-Community/prod/projects/sd2e-project-43/test/dc_YeastSTATES-CRISPR-Dose-Response_20200327165322',\n",
       " '/work/projects/SD2E-Community/prod/projects/sd2e-project-43/test/dc_YeastSTATES-CRISPR-Dose-Response_20200414151033',\n",
       " '/work/projects/SD2E-Community/prod/projects/sd2e-project-43/test/dc_YeastSTATES-CRISPR-Dose-Response_20200423194728',\n",
       " '/work/projects/SD2E-Community/prod/projects/sd2e-project-43/test/dc_YeastSTATES-CRISPR-Growth-Curves-35C_20200414152809',\n",
       " '/work/projects/SD2E-Community/prod/projects/sd2e-project-43/test/dc_YeastSTATES-CRISPR-Growth-Curves-35C_20200423200123',\n",
       " '/work/projects/SD2E-Community/prod/projects/sd2e-project-43/test/dc_YeastSTATES-CRISPR-Growth-Curves-with-Plate-Reader-Optimization_20200414151551',\n",
       " '/work/projects/SD2E-Community/prod/projects/sd2e-project-43/test/dc_YeastSTATES-CRISPR-Growth-Curves-with-Plate-Reader-Optimization_20200423194854',\n",
       " '/work/projects/SD2E-Community/prod/projects/sd2e-project-43/test/dc_YeastSTATES-CRISPR-Long-Duration-Time-Series-20191208_20200328071458',\n",
       " '/work/projects/SD2E-Community/prod/projects/sd2e-project-43/test/dc_YeastSTATES-CRISPR-Long-Duration-Time-Series-20191208_20200414085017',\n",
       " '/work/projects/SD2E-Community/prod/projects/sd2e-project-43/test/dc_YeastSTATES-CRISPR-Long-Duration-Time-Series-20191208_20200423193808',\n",
       " '/work/projects/SD2E-Community/prod/projects/sd2e-project-43/test/dc_YeastSTATES-CRISPR-Short-Duration-Time-Series-20191208_20200328030858',\n",
       " '/work/projects/SD2E-Community/prod/projects/sd2e-project-43/test/dc_YeastSTATES-CRISPR-Short-Duration-Time-Series-20191208_20200414095504',\n",
       " '/work/projects/SD2E-Community/prod/projects/sd2e-project-43/test/dc_YeastSTATES-CRISPR-Short-Duration-Time-Series-20191208_20200423194115',\n",
       " '/work/projects/SD2E-Community/prod/projects/sd2e-project-43/test/dc_YeastSTATES-CRISPR-Short-Duration-Time-Series-35C_20200414152048',\n",
       " '/work/projects/SD2E-Community/prod/projects/sd2e-project-43/test/dc_YeastSTATES-CRISPR-Short-Duration-Time-Series-35C_20200423195648',\n",
       " '/work/projects/SD2E-Community/prod/projects/sd2e-project-43/test/dc_YeastSTATES-Doxycycline-OR-Gate-Plant-TF-Dose-Response_20200423201302',\n",
       " '/work/projects/SD2E-Community/prod/projects/sd2e-project-43/test/dc_YeastSTATES-Doxycycline-OR-Gate-Plant-TF-Dose-Response_20200426192144',\n",
       " '/work/projects/SD2E-Community/prod/projects/sd2e-project-43/test/dc_YeastSTATES-Doxycycline-OR-Gate-Plant-TF-Growth-Curves_20200327174015',\n",
       " '/work/projects/SD2E-Community/prod/projects/sd2e-project-43/test/dc_YeastSTATES-Doxycycline-OR-Gate-Plant-TF-Growth-Curves_20200414144659',\n",
       " '/work/projects/SD2E-Community/prod/projects/sd2e-project-43/test/dc_YeastSTATES-Doxycycline-OR-Gate-Plant-TF-Growth-Curves_20200423201744',\n",
       " '/work/projects/SD2E-Community/prod/projects/sd2e-project-43/test/dc_YeastSTATES-OR-Gate-CRISPR-Dose-Response_20200423202039',\n",
       " '/work/projects/SD2E-Community/prod/projects/sd2e-project-43/test/dc_YeastSTATES-OR-Gate-CRISPR-Dose-Response_20200427004659',\n",
       " '/work/projects/SD2E-Community/prod/projects/sd2e-project-43/test/dc_YeastSTATES-OR-Gate-CRISPR-Growth-Curves_20200327171330',\n",
       " '/work/projects/SD2E-Community/prod/projects/sd2e-project-43/test/dc_YeastSTATES-OR-Gate-CRISPR-Growth-Curves_20200414145352',\n",
       " '/work/projects/SD2E-Community/prod/projects/sd2e-project-43/test/dc_YeastSTATES-OR-Gate-CRISPR-Growth-Curves_20200417214333',\n",
       " '/work/projects/SD2E-Community/prod/projects/sd2e-project-43/test/dc_YeastSTATES-OR-Gate-CRISPR-Growth-Curves_20200423202428']"
      ]
     },
     "execution_count": 39,
     "metadata": {},
     "output_type": "execute_result"
    }
   ],
   "source": [
    "import pandas as pd\n",
    "import os\n",
    "import json\n",
    "import sys\n",
    "from os.path import expanduser\n",
    "import numpy as np\n",
    "import seaborn as sns\n",
    "import matplotlib.pyplot as plt\n",
    "\n",
    "\n",
    "from pysd2cat.data import pipeline\n",
    "from pysd2cat.analysis import correctness \n",
    "\n",
    "from data_converge.util import data_utils as du\n",
    "\n",
    "from agavepy.agave import Agave, AgaveError\n",
    "ag = Agave.restore()\n",
    "\n",
    "%load_ext autoreload\n",
    "%reload_ext autoreload\n",
    "%autoreload 2\n",
    "\n",
    "\n",
    "DATA_CONVERGE_PROJECT=\"sd2e-project-43\"\n",
    "\n",
    "data_converge_base = os.path.join(expanduser(\"~\"), 'sd2e-projects', DATA_CONVERGE_PROJECT)\n",
    "experiment_dir = os.path.realpath(os.path.join(data_converge_base, 'test'))\n",
    "experiment_dir_contents = [os.path.realpath(os.path.join(experiment_dir, x)) for x in os.listdir(experiment_dir)]\n",
    "\n",
    "experiments = [x for x in  experiment_dir_contents \n",
    "               if os.path.isdir(x) and \"dc_\" in x]\n",
    "\n",
    "DATA_CONVERGE_CORRECTNESS_DATA_PROJECT=\"sd2e-project-45\"\n",
    "DATA_CONVERGE_CORRECTNESS_DATA_PROJECT_ID=\"data-sd2e-projects.sd2e-project-45\"\n",
    "data_converge_correctness_data_base = os.path.join(expanduser(\"~\"), 'sd2e-projects', DATA_CONVERGE_CORRECTNESS_DATA_PROJECT)\n",
    "\n",
    "correctness_dir = os.path.join(data_converge_correctness_data_base, 'correctness')\n",
    "correctness_dir_contents = [os.path.realpath(os.path.join(correctness_dir, x)) for x in os.listdir(correctness_dir)]\n",
    "\n",
    "\n",
    "\n",
    "experiments.sort()\n",
    "experiments\n",
    "\n"
   ]
  },
  {
   "cell_type": "code",
   "execution_count": 2,
   "metadata": {},
   "outputs": [
    {
     "name": "stderr",
     "output_type": "stream",
     "text": [
      "/opt/conda/lib/python3.6/site-packages/IPython/core/interactiveshell.py:3049: DtypeWarning: Columns (13) have mixed types. Specify dtype option on import or set low_memory=False.\n",
      "  interactivity=interactivity, compiler=compiler, result=result)\n",
      "/opt/conda/lib/python3.6/site-packages/numpy/lib/arraysetops.py:472: FutureWarning: elementwise comparison failed; returning scalar instead, but in the future will perform elementwise comparison\n",
      "  mask |= (ar1 == a)\n"
     ]
    }
   ],
   "source": [
    "experiment_id  = \"r1dag7xpmgar9k_r1dakfqtk7hpzb\"\n",
    "XPLAN_PROJECT=\"sd2e-project-14\"\n",
    "xplan_base = os.path.join(expanduser(\"~\"), 'sd2e-projects', XPLAN_PROJECT)\n",
    "data_file = os.path.join(xplan_base, 'xplan-reactor', 'data', 'transcriptic', experiment_id + '.csv' )\n",
    "\n",
    "\n",
    "experiment_flow = pd.read_csv(data_file, index_col=0)\n",
    "#experiment_flow"
   ]
  },
  {
   "cell_type": "code",
   "execution_count": 3,
   "metadata": {},
   "outputs": [],
   "source": [
    "controls = experiment_flow.loc[(experiment_flow.strain_name == \"WT-Live-Control\") | (experiment_flow.strain_name == \"WT-Dead-Control\")]\n",
    "channels = ['FSC-A', 'SSC-A', 'BL1-A', 'FSC-W', 'FSC-H', 'SSC-W', 'SSC-H']\n",
    "channels_under = [ x.replace('-', '_') for x in channels]\n",
    "renaming = dict(zip(channels_under, channels))\n",
    "controls = controls.rename(columns=renaming)\n",
    "\n"
   ]
  },
  {
   "cell_type": "code",
   "execution_count": 46,
   "metadata": {},
   "outputs": [
    {
     "name": "stdout",
     "output_type": "stream",
     "text": [
      "dc_YeastSTATES-CRISPR-Short-Duration-Time-Series-35C_20200423195648\n"
     ]
    }
   ],
   "source": [
    "def do_analysis_wrapper(experiment_path):\n",
    "    experiment_name = experiment_path.split(\"/\")[-1]\n",
    "    print(experiment_name)\n",
    "    #print(experiment_path)\n",
    "    df = du.get_data_and_metadata(experiment_path)\n",
    "\n",
    "    return df\n",
    "\n",
    "\n",
    "experiment_path = '/work/projects/SD2E-Community/prod/projects/sd2e-project-43/test/dc_YeastSTATES-CRISPR-Short-Duration-Time-Series-35C_20200423195648'\n",
    "#experiments[4]\n",
    "\n",
    "experiment_df = do_analysis_wrapper(experiment_path)"
   ]
  },
  {
   "cell_type": "code",
   "execution_count": 41,
   "metadata": {},
   "outputs": [
    {
     "data": {
      "text/plain": [
       "array([[<matplotlib.axes._subplots.AxesSubplot object at 0x2b10527ecdd8>,\n",
       "        <matplotlib.axes._subplots.AxesSubplot object at 0x2b10c77e5e80>,\n",
       "        <matplotlib.axes._subplots.AxesSubplot object at 0x2b103f9f5208>],\n",
       "       [<matplotlib.axes._subplots.AxesSubplot object at 0x2b1025415940>,\n",
       "        <matplotlib.axes._subplots.AxesSubplot object at 0x2b1025424a90>,\n",
       "        <matplotlib.axes._subplots.AxesSubplot object at 0x2b0ffd691be0>],\n",
       "       [<matplotlib.axes._subplots.AxesSubplot object at 0x2b104f1dbe80>,\n",
       "        <matplotlib.axes._subplots.AxesSubplot object at 0x2b1045fe44a8>,\n",
       "        <matplotlib.axes._subplots.AxesSubplot object at 0x2b1045fe44e0>]],\n",
       "      dtype=object)"
      ]
     },
     "execution_count": 41,
     "metadata": {},
     "output_type": "execute_result"
    },
    {
     "data": {
      "image/png": "[encoded data removed]",
      "text/plain": [
       "<Figure size 432x288 with 9 Axes>"
      ]
     },
     "metadata": {
      "needs_background": "light"
     },
     "output_type": "display_data"
    }
   ],
   "source": [
    "\n",
    "#controls[channels].hist()\n",
    "controls[channels].apply(np.log10).replace([np.inf, -np.inf], 0.0).hist()"
   ]
  },
  {
   "cell_type": "code",
   "execution_count": 47,
   "metadata": {},
   "outputs": [
    {
     "data": {
      "text/plain": [
       "array([[<matplotlib.axes._subplots.AxesSubplot object at 0x2b0ffc900b38>,\n",
       "        <matplotlib.axes._subplots.AxesSubplot object at 0x2b10974b1048>,\n",
       "        <matplotlib.axes._subplots.AxesSubplot object at 0x2b10974ee198>],\n",
       "       [<matplotlib.axes._subplots.AxesSubplot object at 0x2b0ffc9e02e8>,\n",
       "        <matplotlib.axes._subplots.AxesSubplot object at 0x2b1097498438>,\n",
       "        <matplotlib.axes._subplots.AxesSubplot object at 0x2b1093f0e588>],\n",
       "       [<matplotlib.axes._subplots.AxesSubplot object at 0x2b10960fe5f8>,\n",
       "        <matplotlib.axes._subplots.AxesSubplot object at 0x2b109612dac8>,\n",
       "        <matplotlib.axes._subplots.AxesSubplot object at 0x2b109612db00>]],\n",
       "      dtype=object)"
      ]
     },
     "execution_count": 47,
     "metadata": {},
     "output_type": "execute_result"
    },
    {
     "data": {
      "image/png": "[encoded data removed]",
      "text/plain": [
       "<Figure size 432x288 with 9 Axes>"
      ]
     },
     "metadata": {
      "needs_background": "light"
     },
     "output_type": "display_data"
    }
   ],
   "source": [
    "#experiment_df[channels].hist()\n",
    "experiment_df[channels].apply(np.log10).replace([np.inf, -np.inf], 0.0).hist()"
   ]
  },
  {
   "cell_type": "code",
   "execution_count": 48,
   "metadata": {},
   "outputs": [
    {
     "data": {
      "text/html": [
       "<div>\n",
       "<style scoped>\n",
       "    .dataframe tbody tr th:only-of-type {\n",
       "        vertical-align: middle;\n",
       "    }\n",
       "\n",
       "    .dataframe tbody tr th {\n",
       "        vertical-align: top;\n",
       "    }\n",
       "\n",
       "    .dataframe thead th {\n",
       "        text-align: right;\n",
       "    }\n",
       "</style>\n",
       "<table border=\"1\" class=\"dataframe\">\n",
       "  <thead>\n",
       "    <tr style=\"text-align: right;\">\n",
       "      <th></th>\n",
       "      <th>FSC-A</th>\n",
       "      <th>SSC-A</th>\n",
       "      <th>BL1-A</th>\n",
       "      <th>FSC-W</th>\n",
       "      <th>FSC-H</th>\n",
       "      <th>SSC-W</th>\n",
       "      <th>SSC-H</th>\n",
       "    </tr>\n",
       "  </thead>\n",
       "  <tbody>\n",
       "    <tr>\n",
       "      <th>count</th>\n",
       "      <td>9398118.000</td>\n",
       "      <td>9387476.000</td>\n",
       "      <td>8990220.000</td>\n",
       "      <td>9397279.000</td>\n",
       "      <td>9397279.000</td>\n",
       "      <td>9397279.000</td>\n",
       "      <td>9397279.000</td>\n",
       "    </tr>\n",
       "    <tr>\n",
       "      <th>mean</th>\n",
       "      <td>0.198</td>\n",
       "      <td>0.761</td>\n",
       "      <td>0.650</td>\n",
       "      <td>0.607</td>\n",
       "      <td>0.689</td>\n",
       "      <td>0.999</td>\n",
       "      <td>1.436</td>\n",
       "    </tr>\n",
       "    <tr>\n",
       "      <th>std</th>\n",
       "      <td>-0.475</td>\n",
       "      <td>-0.754</td>\n",
       "      <td>-0.124</td>\n",
       "      <td>-0.829</td>\n",
       "      <td>-0.534</td>\n",
       "      <td>-0.710</td>\n",
       "      <td>-1.350</td>\n",
       "    </tr>\n",
       "    <tr>\n",
       "      <th>min</th>\n",
       "      <td>-0.802</td>\n",
       "      <td>0.000</td>\n",
       "      <td>0.000</td>\n",
       "      <td>0.000</td>\n",
       "      <td>-0.000</td>\n",
       "      <td>0.000</td>\n",
       "      <td>0.000</td>\n",
       "    </tr>\n",
       "    <tr>\n",
       "      <th>25%</th>\n",
       "      <td>0.805</td>\n",
       "      <td>1.417</td>\n",
       "      <td>0.770</td>\n",
       "      <td>1.580</td>\n",
       "      <td>1.381</td>\n",
       "      <td>1.724</td>\n",
       "      <td>2.148</td>\n",
       "    </tr>\n",
       "    <tr>\n",
       "      <th>50%</th>\n",
       "      <td>0.107</td>\n",
       "      <td>0.499</td>\n",
       "      <td>0.682</td>\n",
       "      <td>0.283</td>\n",
       "      <td>0.798</td>\n",
       "      <td>1.934</td>\n",
       "      <td>1.415</td>\n",
       "    </tr>\n",
       "    <tr>\n",
       "      <th>75%</th>\n",
       "      <td>-0.479</td>\n",
       "      <td>-0.034</td>\n",
       "      <td>0.516</td>\n",
       "      <td>-0.335</td>\n",
       "      <td>0.085</td>\n",
       "      <td>0.185</td>\n",
       "      <td>0.158</td>\n",
       "    </tr>\n",
       "    <tr>\n",
       "      <th>max</th>\n",
       "      <td>0.000</td>\n",
       "      <td>0.000</td>\n",
       "      <td>1.223</td>\n",
       "      <td>0.000</td>\n",
       "      <td>-0.133</td>\n",
       "      <td>0.000</td>\n",
       "      <td>0.000</td>\n",
       "    </tr>\n",
       "  </tbody>\n",
       "</table>\n",
       "</div>"
      ],
      "text/plain": [
       "            FSC-A       SSC-A       BL1-A       FSC-W       FSC-H       SSC-W       SSC-H\n",
       "count 9398118.000 9387476.000 8990220.000 9397279.000 9397279.000 9397279.000 9397279.000\n",
       "mean  0.198       0.761       0.650       0.607       0.689       0.999       1.436      \n",
       "std   -0.475      -0.754      -0.124      -0.829      -0.534      -0.710      -1.350     \n",
       "min   -0.802      0.000       0.000       0.000       -0.000      0.000       0.000      \n",
       "25%   0.805       1.417       0.770       1.580       1.381       1.724       2.148      \n",
       "50%   0.107       0.499       0.682       0.283       0.798       1.934       1.415      \n",
       "75%   -0.479      -0.034      0.516       -0.335      0.085       0.185       0.158      \n",
       "max   0.000       0.000       1.223       0.000       -0.133      0.000       0.000      "
      ]
     },
     "execution_count": 48,
     "metadata": {},
     "output_type": "execute_result"
    }
   ],
   "source": [
    "pd.set_option('display.float_format', lambda x: '%.3f' % x)\n",
    "c_d = controls[channels].apply(np.log10).replace([np.inf, -np.inf], 0.0).describe()\n",
    "e_d = experiment_df[channels].apply(np.log10).replace([np.inf, -np.inf], 0.0).describe()\n",
    "e_d - c_d"
   ]
  },
  {
   "cell_type": "code",
   "execution_count": 49,
   "metadata": {},
   "outputs": [
    {
     "data": {
      "text/plain": [
       "FSC-A   nan  \n",
       "SSC-A   nan  \n",
       "BL1-A   nan  \n",
       "FSC-W   0.909\n",
       "FSC-H   0.743\n",
       "SSC-W   0.999\n",
       "SSC-H   1.492\n",
       "dtype: float64"
      ]
     },
     "execution_count": 49,
     "metadata": {},
     "output_type": "execute_result"
    }
   ],
   "source": [
    "from scipy.stats import wasserstein_distance as wd\n",
    "from scipy.special import kl_div as kl\n",
    "\n",
    "c_d = controls[channels].apply(np.log10).replace([np.inf, -np.inf], 0.0)\n",
    "e_d = experiment_df[channels].apply(np.log10).replace([np.inf, -np.inf], 0.0)\n",
    "\n",
    "diff = pd.Series()\n",
    "for channel in channels:\n",
    "    diff[channel] = wd(c_d[channel], e_d[channel])\n",
    "    #diff[channel] = kl(c_d[channel], e_d[channel])\n",
    "diff\n"
   ]
  },
  {
   "cell_type": "code",
   "execution_count": 50,
   "metadata": {},
   "outputs": [
    {
     "data": {
      "text/html": [
       "<div>\n",
       "<style scoped>\n",
       "    .dataframe tbody tr th:only-of-type {\n",
       "        vertical-align: middle;\n",
       "    }\n",
       "\n",
       "    .dataframe tbody tr th {\n",
       "        vertical-align: top;\n",
       "    }\n",
       "\n",
       "    .dataframe thead th {\n",
       "        text-align: right;\n",
       "    }\n",
       "</style>\n",
       "<table border=\"1\" class=\"dataframe\">\n",
       "  <thead>\n",
       "    <tr style=\"text-align: right;\">\n",
       "      <th></th>\n",
       "      <th>live</th>\n",
       "      <th>strain_name</th>\n",
       "    </tr>\n",
       "  </thead>\n",
       "  <tbody>\n",
       "    <tr>\n",
       "      <th>2435943</th>\n",
       "      <td>0</td>\n",
       "      <td>WT-Live-Control</td>\n",
       "    </tr>\n",
       "    <tr>\n",
       "      <th>2435944</th>\n",
       "      <td>1</td>\n",
       "      <td>WT-Live-Control</td>\n",
       "    </tr>\n",
       "    <tr>\n",
       "      <th>2437547</th>\n",
       "      <td>0</td>\n",
       "      <td>WT-Dead-Control</td>\n",
       "    </tr>\n",
       "    <tr>\n",
       "      <th>2438610</th>\n",
       "      <td>1</td>\n",
       "      <td>WT-Dead-Control</td>\n",
       "    </tr>\n",
       "  </tbody>\n",
       "</table>\n",
       "</div>"
      ],
      "text/plain": [
       "         live      strain_name\n",
       "2435943  0     WT-Live-Control\n",
       "2435944  1     WT-Live-Control\n",
       "2437547  0     WT-Dead-Control\n",
       "2438610  1     WT-Dead-Control"
      ]
     },
     "execution_count": 50,
     "metadata": {},
     "output_type": "execute_result"
    }
   ],
   "source": [
    "controls[['live', 'strain_name']].drop_duplicates()\n",
    "#controls.columns"
   ]
  },
  {
   "cell_type": "code",
   "execution_count": 51,
   "metadata": {},
   "outputs": [],
   "source": [
    "def do_analysis(experiment, controls):\n",
    "\n",
    "    ## load dataset from data converge\n",
    "    df = du.get_data_and_metadata(experiment)\n",
    "    \n",
    "    if df is None:\n",
    "        print(\"Failed to get Data and Metadata\")\n",
    "        return None, None\n",
    "    \n",
    "    print(df.strain_name.unique())\n",
    "\n",
    "\n",
    "    \n",
    "    ## Setup parameters\n",
    "    out_dir = '.'\n",
    "    \n",
    "    high_control = \"WT-Live-Control\"\n",
    "    low_control = \"WT-Dead-Control\"\n",
    "    \n",
    "    controls['class_label'] = controls.apply(lambda x: 1 if x.strain_name == high_control else 0, axis=1)\n",
    "    df.loc[:, 'output'] = 1 #assume alive\n",
    "    \n",
    "    strain_col = 'strain_name'  \n",
    "    \n",
    "    ## TODO get channels automatically from dataset\n",
    "    channels = ['FSC-A', 'SSC-A', 'BL1-A', 'FSC-W', 'FSC-H', 'SSC-W', 'SSC-H']\n",
    "\n",
    "    ## res will be a per-sample calculation of its correctness (and related stats)\n",
    "    res = correctness.compute_correctness_classifier(df,\n",
    "                                                training_df=controls,\n",
    "                                                out_dir = out_dir,\n",
    "                                                mean_output_label='mean_correct_classifier',\n",
    "                                                std_output_label='std_correct_classifier',\n",
    "                                                mean_correct_high_name='mean_correct_high_classifier',\n",
    "                                                std_correct_high_name='std_correct_high_classifier',\n",
    "                                                mean_correct_low_name='mean_correct_low_classifier',\n",
    "                                                std_correct_low_name='std_correct_low_classifier',\n",
    "                                                description = str(experiment)+\"_live_dead\",\n",
    "                                                high_control=high_control,\n",
    "                                                low_control=low_control,\n",
    "                                                strain_col=strain_col,\n",
    "                                                add_predictions=True,\n",
    "                                                id_col=\"sample_id\",\n",
    "                                                use_harness=True,\n",
    "                                                channels=channels)\n",
    "    \n",
    "    ## save to current directory\n",
    "    #res.to_csv(experiment.split(\"/\")[-1] + \".csv\")\n",
    "    return (res, df)\n",
    "\n",
    "def do_analysis_wrapper(experiment_path, controls):\n",
    "    experiment_name = experiment_path.split(\"/\")[-1]\n",
    "    print(experiment_name)\n",
    "    (res, df) = do_analysis(experiment_path, controls)\n",
    "    return res, df\n",
    "    \n",
    "\n"
   ]
  },
  {
   "cell_type": "code",
   "execution_count": 53,
   "metadata": {},
   "outputs": [
    {
     "name": "stdout",
     "output_type": "stream",
     "text": [
      "dc_YeastSTATES-CRISPR-Short-Duration-Time-Series-35C_20200423195648\n"
     ]
    },
    {
     "ename": "MemoryError",
     "evalue": "",
     "output_type": "error",
     "traceback": [
      "\u001b[0;31m---------------------------------------------------------------------------\u001b[0m",
      "\u001b[0;31mMemoryError\u001b[0m                               Traceback (most recent call last)",
      "\u001b[0;32m<ipython-input-53-91a45252e10c>\u001b[0m in \u001b[0;36m<module>\u001b[0;34m\u001b[0m\n\u001b[0;32m----> 1\u001b[0;31m \u001b[0mres\u001b[0m\u001b[0;34m,\u001b[0m \u001b[0mdf\u001b[0m \u001b[0;34m=\u001b[0m \u001b[0mdo_analysis_wrapper\u001b[0m\u001b[0;34m(\u001b[0m\u001b[0mexperiment_path\u001b[0m\u001b[0;34m,\u001b[0m \u001b[0mcontrols\u001b[0m\u001b[0;34m)\u001b[0m\u001b[0;34m\u001b[0m\u001b[0;34m\u001b[0m\u001b[0m\n\u001b[0m",
      "\u001b[0;32m<ipython-input-51-d2c7b13b568d>\u001b[0m in \u001b[0;36mdo_analysis_wrapper\u001b[0;34m(experiment_path, controls)\u001b[0m\n\u001b[1;32m     52\u001b[0m     \u001b[0mexperiment_name\u001b[0m \u001b[0;34m=\u001b[0m \u001b[0mexperiment_path\u001b[0m\u001b[0;34m.\u001b[0m\u001b[0msplit\u001b[0m\u001b[0;34m(\u001b[0m\u001b[0;34m\"/\"\u001b[0m\u001b[0;34m)\u001b[0m\u001b[0;34m[\u001b[0m\u001b[0;34m-\u001b[0m\u001b[0;36m1\u001b[0m\u001b[0;34m]\u001b[0m\u001b[0;34m\u001b[0m\u001b[0;34m\u001b[0m\u001b[0m\n\u001b[1;32m     53\u001b[0m     \u001b[0mprint\u001b[0m\u001b[0;34m(\u001b[0m\u001b[0mexperiment_name\u001b[0m\u001b[0;34m)\u001b[0m\u001b[0;34m\u001b[0m\u001b[0;34m\u001b[0m\u001b[0m\n\u001b[0;32m---> 54\u001b[0;31m     \u001b[0;34m(\u001b[0m\u001b[0mres\u001b[0m\u001b[0;34m,\u001b[0m \u001b[0mdf\u001b[0m\u001b[0;34m)\u001b[0m \u001b[0;34m=\u001b[0m \u001b[0mdo_analysis\u001b[0m\u001b[0;34m(\u001b[0m\u001b[0mexperiment_path\u001b[0m\u001b[0;34m,\u001b[0m \u001b[0mcontrols\u001b[0m\u001b[0;34m)\u001b[0m\u001b[0;34m\u001b[0m\u001b[0;34m\u001b[0m\u001b[0m\n\u001b[0m\u001b[1;32m     55\u001b[0m     \u001b[0;32mreturn\u001b[0m \u001b[0mres\u001b[0m\u001b[0;34m,\u001b[0m \u001b[0mdf\u001b[0m\u001b[0;34m\u001b[0m\u001b[0;34m\u001b[0m\u001b[0m\n\u001b[1;32m     56\u001b[0m \u001b[0;34m\u001b[0m\u001b[0m\n",
      "\u001b[0;32m<ipython-input-51-d2c7b13b568d>\u001b[0m in \u001b[0;36mdo_analysis\u001b[0;34m(experiment, controls)\u001b[0m\n\u001b[1;32m      2\u001b[0m \u001b[0;34m\u001b[0m\u001b[0m\n\u001b[1;32m      3\u001b[0m     \u001b[0;31m## load dataset from data converge\u001b[0m\u001b[0;34m\u001b[0m\u001b[0;34m\u001b[0m\u001b[0;34m\u001b[0m\u001b[0m\n\u001b[0;32m----> 4\u001b[0;31m     \u001b[0mdf\u001b[0m \u001b[0;34m=\u001b[0m \u001b[0mdu\u001b[0m\u001b[0;34m.\u001b[0m\u001b[0mget_data_and_metadata\u001b[0m\u001b[0;34m(\u001b[0m\u001b[0mexperiment\u001b[0m\u001b[0;34m)\u001b[0m\u001b[0;34m\u001b[0m\u001b[0;34m\u001b[0m\u001b[0m\n\u001b[0m\u001b[1;32m      5\u001b[0m \u001b[0;34m\u001b[0m\u001b[0m\n\u001b[1;32m      6\u001b[0m     \u001b[0;32mif\u001b[0m \u001b[0mdf\u001b[0m \u001b[0;32mis\u001b[0m \u001b[0;32mNone\u001b[0m\u001b[0;34m:\u001b[0m\u001b[0;34m\u001b[0m\u001b[0;34m\u001b[0m\u001b[0m\n",
      "\u001b[0;32m/work/05202/dbryce/sd2nb/data_converge/src/data_converge/util/data_utils.py\u001b[0m in \u001b[0;36mget_data_and_metadata\u001b[0;34m(experiment)\u001b[0m\n\u001b[1;32m     46\u001b[0m \u001b[0;32mdef\u001b[0m \u001b[0mget_data_and_metadata\u001b[0m\u001b[0;34m(\u001b[0m\u001b[0mexperiment\u001b[0m\u001b[0;34m)\u001b[0m\u001b[0;34m:\u001b[0m\u001b[0;34m\u001b[0m\u001b[0;34m\u001b[0m\u001b[0m\n\u001b[1;32m     47\u001b[0m     \u001b[0mrecord\u001b[0m \u001b[0;34m=\u001b[0m \u001b[0mget_record\u001b[0m\u001b[0;34m(\u001b[0m\u001b[0mexperiment\u001b[0m\u001b[0;34m)\u001b[0m\u001b[0;34m\u001b[0m\u001b[0;34m\u001b[0m\u001b[0m\n\u001b[0;32m---> 48\u001b[0;31m     \u001b[0mdata\u001b[0m \u001b[0;34m=\u001b[0m \u001b[0mget_data\u001b[0m\u001b[0;34m(\u001b[0m\u001b[0mexperiment\u001b[0m\u001b[0;34m,\u001b[0m \u001b[0mrecord\u001b[0m\u001b[0;34m)\u001b[0m\u001b[0;34m\u001b[0m\u001b[0;34m\u001b[0m\u001b[0m\n\u001b[0m\u001b[1;32m     49\u001b[0m     \u001b[0mmeta\u001b[0m \u001b[0;34m=\u001b[0m \u001b[0mget_meta\u001b[0m\u001b[0;34m(\u001b[0m\u001b[0mexperiment\u001b[0m\u001b[0;34m,\u001b[0m \u001b[0mrecord\u001b[0m\u001b[0;34m)\u001b[0m\u001b[0;34m\u001b[0m\u001b[0;34m\u001b[0m\u001b[0m\n\u001b[1;32m     50\u001b[0m     \u001b[0;32mif\u001b[0m \u001b[0mdata\u001b[0m \u001b[0;32mis\u001b[0m \u001b[0;32mnot\u001b[0m \u001b[0;32mNone\u001b[0m \u001b[0;32mand\u001b[0m \u001b[0mmeta\u001b[0m \u001b[0;32mis\u001b[0m \u001b[0;32mnot\u001b[0m \u001b[0;32mNone\u001b[0m\u001b[0;34m:\u001b[0m\u001b[0;34m\u001b[0m\u001b[0;34m\u001b[0m\u001b[0m\n",
      "\u001b[0;32m/work/05202/dbryce/sd2nb/data_converge/src/data_converge/util/data_utils.py\u001b[0m in \u001b[0;36mget_data\u001b[0;34m(experiment, record)\u001b[0m\n\u001b[1;32m     39\u001b[0m     \u001b[0mfc_raw_file\u001b[0m \u001b[0;34m=\u001b[0m \u001b[0mget_record_file\u001b[0m\u001b[0;34m(\u001b[0m\u001b[0mrecord\u001b[0m\u001b[0;34m,\u001b[0m \u001b[0mfile_type\u001b[0m\u001b[0;34m=\u001b[0m\u001b[0;34m\"fc_raw_events\"\u001b[0m\u001b[0;34m)\u001b[0m\u001b[0;34m\u001b[0m\u001b[0;34m\u001b[0m\u001b[0m\n\u001b[1;32m     40\u001b[0m     \u001b[0;32mif\u001b[0m \u001b[0mfc_raw_file\u001b[0m\u001b[0;34m:\u001b[0m\u001b[0;34m\u001b[0m\u001b[0;34m\u001b[0m\u001b[0m\n\u001b[0;32m---> 41\u001b[0;31m         \u001b[0mfc_raw_data\u001b[0m \u001b[0;34m=\u001b[0m \u001b[0mjson\u001b[0m\u001b[0;34m.\u001b[0m\u001b[0mload\u001b[0m\u001b[0;34m(\u001b[0m\u001b[0mopen\u001b[0m\u001b[0;34m(\u001b[0m\u001b[0mos\u001b[0m\u001b[0;34m.\u001b[0m\u001b[0mpath\u001b[0m\u001b[0;34m.\u001b[0m\u001b[0mjoin\u001b[0m\u001b[0;34m(\u001b[0m\u001b[0mexperiment\u001b[0m\u001b[0;34m,\u001b[0m \u001b[0mfc_raw_file\u001b[0m\u001b[0;34m[\u001b[0m\u001b[0;34m'name'\u001b[0m\u001b[0;34m]\u001b[0m\u001b[0;34m)\u001b[0m\u001b[0;34m)\u001b[0m\u001b[0;34m)\u001b[0m\u001b[0;34m\u001b[0m\u001b[0;34m\u001b[0m\u001b[0m\n\u001b[0m\u001b[1;32m     42\u001b[0m         \u001b[0;32mreturn\u001b[0m \u001b[0mjson_to_pd\u001b[0m\u001b[0;34m(\u001b[0m\u001b[0mfc_raw_data\u001b[0m\u001b[0;34m)\u001b[0m\u001b[0;34m\u001b[0m\u001b[0;34m\u001b[0m\u001b[0m\n\u001b[1;32m     43\u001b[0m     \u001b[0;32melse\u001b[0m\u001b[0;34m:\u001b[0m\u001b[0;34m\u001b[0m\u001b[0;34m\u001b[0m\u001b[0m\n",
      "\u001b[0;32m/opt/conda/lib/python3.6/json/__init__.py\u001b[0m in \u001b[0;36mload\u001b[0;34m(fp, cls, object_hook, parse_float, parse_int, parse_constant, object_pairs_hook, **kw)\u001b[0m\n\u001b[1;32m    297\u001b[0m         \u001b[0mcls\u001b[0m\u001b[0;34m=\u001b[0m\u001b[0mcls\u001b[0m\u001b[0;34m,\u001b[0m \u001b[0mobject_hook\u001b[0m\u001b[0;34m=\u001b[0m\u001b[0mobject_hook\u001b[0m\u001b[0;34m,\u001b[0m\u001b[0;34m\u001b[0m\u001b[0;34m\u001b[0m\u001b[0m\n\u001b[1;32m    298\u001b[0m         \u001b[0mparse_float\u001b[0m\u001b[0;34m=\u001b[0m\u001b[0mparse_float\u001b[0m\u001b[0;34m,\u001b[0m \u001b[0mparse_int\u001b[0m\u001b[0;34m=\u001b[0m\u001b[0mparse_int\u001b[0m\u001b[0;34m,\u001b[0m\u001b[0;34m\u001b[0m\u001b[0;34m\u001b[0m\u001b[0m\n\u001b[0;32m--> 299\u001b[0;31m         parse_constant=parse_constant, object_pairs_hook=object_pairs_hook, **kw)\n\u001b[0m\u001b[1;32m    300\u001b[0m \u001b[0;34m\u001b[0m\u001b[0m\n\u001b[1;32m    301\u001b[0m \u001b[0;34m\u001b[0m\u001b[0m\n",
      "\u001b[0;32m/opt/conda/lib/python3.6/json/__init__.py\u001b[0m in \u001b[0;36mloads\u001b[0;34m(s, encoding, cls, object_hook, parse_float, parse_int, parse_constant, object_pairs_hook, **kw)\u001b[0m\n\u001b[1;32m    352\u001b[0m             \u001b[0mparse_int\u001b[0m \u001b[0;32mis\u001b[0m \u001b[0;32mNone\u001b[0m \u001b[0;32mand\u001b[0m \u001b[0mparse_float\u001b[0m \u001b[0;32mis\u001b[0m \u001b[0;32mNone\u001b[0m \u001b[0;32mand\u001b[0m\u001b[0;34m\u001b[0m\u001b[0;34m\u001b[0m\u001b[0m\n\u001b[1;32m    353\u001b[0m             parse_constant is None and object_pairs_hook is None and not kw):\n\u001b[0;32m--> 354\u001b[0;31m         \u001b[0;32mreturn\u001b[0m \u001b[0m_default_decoder\u001b[0m\u001b[0;34m.\u001b[0m\u001b[0mdecode\u001b[0m\u001b[0;34m(\u001b[0m\u001b[0ms\u001b[0m\u001b[0;34m)\u001b[0m\u001b[0;34m\u001b[0m\u001b[0;34m\u001b[0m\u001b[0m\n\u001b[0m\u001b[1;32m    355\u001b[0m     \u001b[0;32mif\u001b[0m \u001b[0mcls\u001b[0m \u001b[0;32mis\u001b[0m \u001b[0;32mNone\u001b[0m\u001b[0;34m:\u001b[0m\u001b[0;34m\u001b[0m\u001b[0;34m\u001b[0m\u001b[0m\n\u001b[1;32m    356\u001b[0m         \u001b[0mcls\u001b[0m \u001b[0;34m=\u001b[0m \u001b[0mJSONDecoder\u001b[0m\u001b[0;34m\u001b[0m\u001b[0;34m\u001b[0m\u001b[0m\n",
      "\u001b[0;32m/opt/conda/lib/python3.6/json/decoder.py\u001b[0m in \u001b[0;36mdecode\u001b[0;34m(self, s, _w)\u001b[0m\n\u001b[1;32m    337\u001b[0m \u001b[0;34m\u001b[0m\u001b[0m\n\u001b[1;32m    338\u001b[0m         \"\"\"\n\u001b[0;32m--> 339\u001b[0;31m         \u001b[0mobj\u001b[0m\u001b[0;34m,\u001b[0m \u001b[0mend\u001b[0m \u001b[0;34m=\u001b[0m \u001b[0mself\u001b[0m\u001b[0;34m.\u001b[0m\u001b[0mraw_decode\u001b[0m\u001b[0;34m(\u001b[0m\u001b[0ms\u001b[0m\u001b[0;34m,\u001b[0m \u001b[0midx\u001b[0m\u001b[0;34m=\u001b[0m\u001b[0m_w\u001b[0m\u001b[0;34m(\u001b[0m\u001b[0ms\u001b[0m\u001b[0;34m,\u001b[0m \u001b[0;36m0\u001b[0m\u001b[0;34m)\u001b[0m\u001b[0;34m.\u001b[0m\u001b[0mend\u001b[0m\u001b[0;34m(\u001b[0m\u001b[0;34m)\u001b[0m\u001b[0;34m)\u001b[0m\u001b[0;34m\u001b[0m\u001b[0;34m\u001b[0m\u001b[0m\n\u001b[0m\u001b[1;32m    340\u001b[0m         \u001b[0mend\u001b[0m \u001b[0;34m=\u001b[0m \u001b[0m_w\u001b[0m\u001b[0;34m(\u001b[0m\u001b[0ms\u001b[0m\u001b[0;34m,\u001b[0m \u001b[0mend\u001b[0m\u001b[0;34m)\u001b[0m\u001b[0;34m.\u001b[0m\u001b[0mend\u001b[0m\u001b[0;34m(\u001b[0m\u001b[0;34m)\u001b[0m\u001b[0;34m\u001b[0m\u001b[0;34m\u001b[0m\u001b[0m\n\u001b[1;32m    341\u001b[0m         \u001b[0;32mif\u001b[0m \u001b[0mend\u001b[0m \u001b[0;34m!=\u001b[0m \u001b[0mlen\u001b[0m\u001b[0;34m(\u001b[0m\u001b[0ms\u001b[0m\u001b[0;34m)\u001b[0m\u001b[0;34m:\u001b[0m\u001b[0;34m\u001b[0m\u001b[0;34m\u001b[0m\u001b[0m\n",
      "\u001b[0;32m/opt/conda/lib/python3.6/json/decoder.py\u001b[0m in \u001b[0;36mraw_decode\u001b[0;34m(self, s, idx)\u001b[0m\n\u001b[1;32m    353\u001b[0m         \"\"\"\n\u001b[1;32m    354\u001b[0m         \u001b[0;32mtry\u001b[0m\u001b[0;34m:\u001b[0m\u001b[0;34m\u001b[0m\u001b[0;34m\u001b[0m\u001b[0m\n\u001b[0;32m--> 355\u001b[0;31m             \u001b[0mobj\u001b[0m\u001b[0;34m,\u001b[0m \u001b[0mend\u001b[0m \u001b[0;34m=\u001b[0m \u001b[0mself\u001b[0m\u001b[0;34m.\u001b[0m\u001b[0mscan_once\u001b[0m\u001b[0;34m(\u001b[0m\u001b[0ms\u001b[0m\u001b[0;34m,\u001b[0m \u001b[0midx\u001b[0m\u001b[0;34m)\u001b[0m\u001b[0;34m\u001b[0m\u001b[0;34m\u001b[0m\u001b[0m\n\u001b[0m\u001b[1;32m    356\u001b[0m         \u001b[0;32mexcept\u001b[0m \u001b[0mStopIteration\u001b[0m \u001b[0;32mas\u001b[0m \u001b[0merr\u001b[0m\u001b[0;34m:\u001b[0m\u001b[0;34m\u001b[0m\u001b[0;34m\u001b[0m\u001b[0m\n\u001b[1;32m    357\u001b[0m             \u001b[0;32mraise\u001b[0m \u001b[0mJSONDecodeError\u001b[0m\u001b[0;34m(\u001b[0m\u001b[0;34m\"Expecting value\"\u001b[0m\u001b[0;34m,\u001b[0m \u001b[0ms\u001b[0m\u001b[0;34m,\u001b[0m \u001b[0merr\u001b[0m\u001b[0;34m.\u001b[0m\u001b[0mvalue\u001b[0m\u001b[0;34m)\u001b[0m \u001b[0;32mfrom\u001b[0m \u001b[0;32mNone\u001b[0m\u001b[0;34m\u001b[0m\u001b[0;34m\u001b[0m\u001b[0m\n",
      "\u001b[0;31mMemoryError\u001b[0m: "
     ]
    }
   ],
   "source": [
    "res, df = do_analysis_wrapper(experiment_path, controls)"
   ]
  },
  {
   "cell_type": "code",
   "execution_count": null,
   "metadata": {
    "scrolled": true
   },
   "outputs": [],
   "source": [
    "pd.set_option('display.max_rows', None)\n",
    "mean_live = df.groupby(['strain_name', 'timepoint', 'inducer_concentration'])['predicted_output'].agg(np.mean).reset_index()\n",
    "mean_live"
   ]
  },
  {
   "cell_type": "code",
   "execution_count": null,
   "metadata": {
    "scrolled": false
   },
   "outputs": [],
   "source": [
    "import seaborn as sns\n",
    "import matplotlib.pyplot as plt\n",
    "\n",
    "\n",
    "g = sns.FacetGrid(mean_live, col=\"timepoint\", hue='strain_name', height=4, margin_titles=True)\n",
    "g.map(sns.lineplot, 'inducer_concentration', 'predicted_output')\n",
    "[plt.setp(ax.texts, text=\"\") for ax in g.axes.flat] # remove the original texts\n",
    "                                                # important to add this before setting titles\n",
    "g.set_titles(row_template = '{row_name}', col_template = '{col_name}')       \n",
    "\n",
    "\n",
    "#sns.scatterplot(mean_live.timepoint, mean_live.inducer_concentration, size=mean_live.predicted_output, hue=mean_live.strain_name)\n",
    "#plt.legend(bbox_to_anchor=(1.05, 1), ncol=1, loc='upper left')       \n",
    "\n"
   ]
  },
  {
   "cell_type": "code",
   "execution_count": null,
   "metadata": {},
   "outputs": [],
   "source": [
    "mean_live.groupby(['strain_name', 'timepoint'])['predicted_output'].agg(np.mean)"
   ]
  },
  {
   "cell_type": "code",
   "execution_count": 37,
   "metadata": {},
   "outputs": [
    {
     "data": {
      "text/plain": [
       "<matplotlib.legend.Legend at 0x2b103f2d2080>"
      ]
     },
     "execution_count": 37,
     "metadata": {},
     "output_type": "execute_result"
    },
    {
     "data": {
      "image/png": "[encoded data removed]",
      "text/plain": [
       "<Figure size 432x288 with 1 Axes>"
      ]
     },
     "metadata": {
      "needs_background": "light"
     },
     "output_type": "display_data"
    }
   ],
   "source": [
    "replicate_num_events = df.groupby(['strain_name', 'timepoint', 'inducer_concentration', 'replicate'])['FSC-A'].agg(len) #.reset_index()\n",
    "#mean_events_strain = replicate_num_events.groupby(['strain_name', 'timepoint','inducer_concentration'])['FSC-A'].agg(np.mean)\n",
    "#mean_events_strain\n",
    "mean_live = df.groupby(['strain_name', 'timepoint', 'inducer_concentration', 'replicate'])['predicted_output'].agg(np.mean)\n",
    "live_num = pd.DataFrame([mean_live, replicate_num_events]).transpose().reset_index()\n",
    "sns.scatterplot( live_num.timepoint, live_num['FSC-A'],  hue=live_num.strain_name, size=10*live_num.predicted_output)\n",
    "plt.xlabel(\"Time\")\n",
    "plt.ylabel(\"Total Events\")\n",
    "plt.legend(bbox_to_anchor=(1.05, 1), ncol=1, loc='upper left')\n",
    "#live_num"
   ]
  }
 ],
 "metadata": {
  "kernelspec": {
   "display_name": "Python 3",
   "language": "python",
   "name": "python3"
  },
  "language_info": {
   "codemirror_mode": {
    "name": "ipython",
    "version": 3
   },
   "file_extension": ".py",
   "mimetype": "text/x-python",
   "name": "python",
   "nbconvert_exporter": "python",
   "pygments_lexer": "ipython3",
   "version": "3.6.8"
  }
 },
 "nbformat": 4,
 "nbformat_minor": 2
}
