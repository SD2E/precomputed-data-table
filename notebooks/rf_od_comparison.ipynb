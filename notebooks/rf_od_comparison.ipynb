{
 "cells": [
  {
   "cell_type": "code",
   "execution_count": 7,
   "metadata": {},
   "outputs": [],
   "source": [
    "import pandas as pd\n",
    "import os\n",
    "from matplotlib import pyplot as plt\n",
    "import numpy as np\n",
    "import statsmodels.api as sm"
   ]
  },
  {
   "cell_type": "markdown",
   "metadata": {
    "pycharm": {
     "name": "#%% md\n"
    }
   },
   "source": [
    "# Set up and Inspect the Data"
   ]
  },
  {
   "cell_type": "code",
   "execution_count": 8,
   "metadata": {},
   "outputs": [],
   "source": [
    "df = pd.read_csv(os.path.expanduser(\"notebook_data/RF+OD/RF_OD_YeastSTATES-OR-Gate-CRISPR-Dose-Response_20200625204022.csv\"))\n",
    "\n",
    "# Drop extra index column\n",
    "if 'Unnamed: 0' in df.columns:\n",
    "    df.drop(columns=['Unnamed: 0'], inplace=True)\n",
    "\n",
    "# Add integer column for OD predictions\n",
    "df['OD_prediction'] = np.invert(df['dead']).astype(int)\n",
    "\n",
    "# Filter out controls\n",
    "if 'standard_type' in df.columns:\n",
    "    df = df[pd.isna(df['standard_type'])]\n",
    "\n",
    "if 'control_type' in df.columns:\n",
    "    df = df[df['control_type'] != 'EMPTY_VECTOR']"
   ]
  },
  {
   "cell_type": "code",
   "execution_count": 9,
   "metadata": {},
   "outputs": [],
   "source": [
    "df['growing'] = np.invert(df['ungrowing']).astype(int)"
   ]
  },
  {
   "cell_type": "code",
   "execution_count": 10,
   "metadata": {},
   "outputs": [
    {
     "data": {
      "text/plain": [
       "Index(['experiment_id', 'well', 'strain', 'lab', 'strain_name', 'media_type',\n",
       "       'inducer_type', 'inducer_concentration', 'inducer_concentration_unit',\n",
       "       'temperature', 'temperature_unit', 'od', 'dead', 'ungrowing',\n",
       "       'doubling_time', 'n0', 'RF_prediction_mean', 'RF_prediction_std',\n",
       "       'OD_prediction', 'growing'],\n",
       "      dtype='object')"
      ]
     },
     "execution_count": 10,
     "metadata": {},
     "output_type": "execute_result"
    }
   ],
   "source": [
    "df.columns"
   ]
  },
  {
   "cell_type": "code",
   "execution_count": 11,
   "metadata": {
    "scrolled": true
   },
   "outputs": [],
   "source": [
    "#cells_ml = pd.read_csv(\"notebook_data/cellsML_YeastSTATES-CRISPR-Short-Duration-Time-Series-20191208_20200610192131.csv\")\n",
    "#cells_ml"
   ]
  },
  {
   "cell_type": "code",
   "execution_count": 12,
   "metadata": {},
   "outputs": [],
   "source": [
    "#df['cells_mL_mean'] = cells_ml['mean']\n",
    "#df['cells_mL_std'] = cells_ml['std']"
   ]
  },
  {
   "cell_type": "code",
   "execution_count": null,
   "metadata": {},
   "outputs": [],
   "source": []
  },
  {
   "cell_type": "code",
   "execution_count": 13,
   "metadata": {},
   "outputs": [],
   "source": [
    "#df = df[df['cells_mL_mean'] > 100000]"
   ]
  },
  {
   "cell_type": "code",
   "execution_count": 14,
   "metadata": {},
   "outputs": [
    {
     "data": {
      "text/plain": [
       "(58, 20)"
      ]
     },
     "execution_count": 14,
     "metadata": {},
     "output_type": "execute_result"
    }
   ],
   "source": [
    "df.shape"
   ]
  },
  {
   "cell_type": "code",
   "execution_count": 15,
   "metadata": {
    "pycharm": {
     "name": "#%%\n"
    }
   },
   "outputs": [
    {
     "data": {
      "text/html": [
       "<div>\n",
       "<style scoped>\n",
       "    .dataframe tbody tr th:only-of-type {\n",
       "        vertical-align: middle;\n",
       "    }\n",
       "\n",
       "    .dataframe tbody tr th {\n",
       "        vertical-align: top;\n",
       "    }\n",
       "\n",
       "    .dataframe thead th {\n",
       "        text-align: right;\n",
       "    }\n",
       "</style>\n",
       "<table border=\"1\" class=\"dataframe\">\n",
       "  <thead>\n",
       "    <tr style=\"text-align: right;\">\n",
       "      <th></th>\n",
       "      <th>inducer_concentration</th>\n",
       "      <th>temperature</th>\n",
       "      <th>od</th>\n",
       "      <th>doubling_time</th>\n",
       "      <th>n0</th>\n",
       "      <th>RF_prediction_mean</th>\n",
       "      <th>RF_prediction_std</th>\n",
       "      <th>OD_prediction</th>\n",
       "      <th>growing</th>\n",
       "    </tr>\n",
       "  </thead>\n",
       "  <tbody>\n",
       "    <tr>\n",
       "      <th>count</th>\n",
       "      <td>58.000000</td>\n",
       "      <td>58.0</td>\n",
       "      <td>58.000000</td>\n",
       "      <td>48.000000</td>\n",
       "      <td>48.000000</td>\n",
       "      <td>58.000000</td>\n",
       "      <td>58.000000</td>\n",
       "      <td>58.000000</td>\n",
       "      <td>58.000000</td>\n",
       "    </tr>\n",
       "    <tr>\n",
       "      <th>mean</th>\n",
       "      <td>13.793103</td>\n",
       "      <td>35.0</td>\n",
       "      <td>0.056559</td>\n",
       "      <td>1.793490</td>\n",
       "      <td>0.076859</td>\n",
       "      <td>0.898293</td>\n",
       "      <td>0.064754</td>\n",
       "      <td>0.827586</td>\n",
       "      <td>0.827586</td>\n",
       "    </tr>\n",
       "    <tr>\n",
       "      <th>std</th>\n",
       "      <td>15.081950</td>\n",
       "      <td>0.0</td>\n",
       "      <td>0.056479</td>\n",
       "      <td>0.872300</td>\n",
       "      <td>0.081552</td>\n",
       "      <td>0.185904</td>\n",
       "      <td>0.111846</td>\n",
       "      <td>0.381039</td>\n",
       "      <td>0.381039</td>\n",
       "    </tr>\n",
       "    <tr>\n",
       "      <th>min</th>\n",
       "      <td>0.000000</td>\n",
       "      <td>35.0</td>\n",
       "      <td>0.034490</td>\n",
       "      <td>0.695815</td>\n",
       "      <td>0.001314</td>\n",
       "      <td>0.281757</td>\n",
       "      <td>0.006027</td>\n",
       "      <td>0.000000</td>\n",
       "      <td>0.000000</td>\n",
       "    </tr>\n",
       "    <tr>\n",
       "      <th>25%</th>\n",
       "      <td>0.000000</td>\n",
       "      <td>35.0</td>\n",
       "      <td>0.038035</td>\n",
       "      <td>1.193188</td>\n",
       "      <td>0.017596</td>\n",
       "      <td>0.955389</td>\n",
       "      <td>0.008841</td>\n",
       "      <td>1.000000</td>\n",
       "      <td>1.000000</td>\n",
       "    </tr>\n",
       "    <tr>\n",
       "      <th>50%</th>\n",
       "      <td>10.000000</td>\n",
       "      <td>35.0</td>\n",
       "      <td>0.039676</td>\n",
       "      <td>1.540528</td>\n",
       "      <td>0.037472</td>\n",
       "      <td>0.980879</td>\n",
       "      <td>0.011961</td>\n",
       "      <td>1.000000</td>\n",
       "      <td>1.000000</td>\n",
       "    </tr>\n",
       "    <tr>\n",
       "      <th>75%</th>\n",
       "      <td>30.000000</td>\n",
       "      <td>35.0</td>\n",
       "      <td>0.047606</td>\n",
       "      <td>2.260617</td>\n",
       "      <td>0.143364</td>\n",
       "      <td>0.984645</td>\n",
       "      <td>0.028363</td>\n",
       "      <td>1.000000</td>\n",
       "      <td>1.000000</td>\n",
       "    </tr>\n",
       "    <tr>\n",
       "      <th>max</th>\n",
       "      <td>40.000000</td>\n",
       "      <td>35.0</td>\n",
       "      <td>0.333972</td>\n",
       "      <td>4.386800</td>\n",
       "      <td>0.297670</td>\n",
       "      <td>0.986558</td>\n",
       "      <td>0.475343</td>\n",
       "      <td>1.000000</td>\n",
       "      <td>1.000000</td>\n",
       "    </tr>\n",
       "  </tbody>\n",
       "</table>\n",
       "</div>"
      ],
      "text/plain": [
       "       inducer_concentration  temperature         od  doubling_time  \\\n",
       "count              58.000000         58.0  58.000000      48.000000   \n",
       "mean               13.793103         35.0   0.056559       1.793490   \n",
       "std                15.081950          0.0   0.056479       0.872300   \n",
       "min                 0.000000         35.0   0.034490       0.695815   \n",
       "25%                 0.000000         35.0   0.038035       1.193188   \n",
       "50%                10.000000         35.0   0.039676       1.540528   \n",
       "75%                30.000000         35.0   0.047606       2.260617   \n",
       "max                40.000000         35.0   0.333972       4.386800   \n",
       "\n",
       "              n0  RF_prediction_mean  RF_prediction_std  OD_prediction  \\\n",
       "count  48.000000           58.000000          58.000000      58.000000   \n",
       "mean    0.076859            0.898293           0.064754       0.827586   \n",
       "std     0.081552            0.185904           0.111846       0.381039   \n",
       "min     0.001314            0.281757           0.006027       0.000000   \n",
       "25%     0.017596            0.955389           0.008841       1.000000   \n",
       "50%     0.037472            0.980879           0.011961       1.000000   \n",
       "75%     0.143364            0.984645           0.028363       1.000000   \n",
       "max     0.297670            0.986558           0.475343       1.000000   \n",
       "\n",
       "         growing  \n",
       "count  58.000000  \n",
       "mean    0.827586  \n",
       "std     0.381039  \n",
       "min     0.000000  \n",
       "25%     1.000000  \n",
       "50%     1.000000  \n",
       "75%     1.000000  \n",
       "max     1.000000  "
      ]
     },
     "execution_count": 15,
     "metadata": {},
     "output_type": "execute_result"
    }
   ],
   "source": [
    "df.describe()"
   ]
  },
  {
   "cell_type": "code",
   "execution_count": 16,
   "metadata": {
    "pycharm": {
     "name": "#%%\n"
    }
   },
   "outputs": [
    {
     "data": {
      "text/plain": [
       "array([[<matplotlib.axes._subplots.AxesSubplot object at 0x1c2082b9e8>]],\n",
       "      dtype=object)"
      ]
     },
     "execution_count": 16,
     "metadata": {},
     "output_type": "execute_result"
    },
    {
     "data": {
      "image/png": "[encoded data removed]",
      "text/plain": [
       "<Figure size 432x288 with 1 Axes>"
      ]
     },
     "metadata": {
      "needs_background": "light"
     },
     "output_type": "display_data"
    }
   ],
   "source": [
    "pd.DataFrame.hist(df, column='OD_prediction')"
   ]
  },
  {
   "cell_type": "code",
   "execution_count": 17,
   "metadata": {},
   "outputs": [],
   "source": [
    "df['dead_num'] = df.dead.astype(int)"
   ]
  },
  {
   "cell_type": "code",
   "execution_count": 18,
   "metadata": {
    "pycharm": {
     "name": "#%%\n"
    }
   },
   "outputs": [
    {
     "data": {
      "text/plain": [
       "<matplotlib.axes._subplots.AxesSubplot at 0x10c573a90>"
      ]
     },
     "execution_count": 18,
     "metadata": {},
     "output_type": "execute_result"
    },
    {
     "data": {
      "image/png": "[encoded data removed]",
      "text/plain": [
       "<Figure size 432x288 with 1 Axes>"
      ]
     },
     "metadata": {
      "needs_background": "light"
     },
     "output_type": "display_data"
    }
   ],
   "source": [
    "df.plot.scatter(x='RF_prediction_mean', y='OD_prediction')"
   ]
  },
  {
   "cell_type": "code",
   "execution_count": 19,
   "metadata": {},
   "outputs": [
    {
     "name": "stdout",
     "output_type": "stream",
     "text": [
      "OD Loss: 0.11743067220178494\n",
      "OD Accuracy: 0.9137931034482759\n"
     ]
    }
   ],
   "source": [
    "num_preds = df.shape[0]\n",
    "od_loss = sum(abs(df['OD_prediction']-df['RF_prediction_mean']))/num_preds\n",
    "od_accuracy = sum(np.round(df['RF_prediction_mean']).astype(int) == df['OD_prediction'])/num_preds\n",
    "print(\"OD Loss: \" + str(od_loss))\n",
    "print(\"OD Accuracy: \" + str(od_accuracy))"
   ]
  },
  {
   "cell_type": "markdown",
   "metadata": {
    "pycharm": {
     "name": "#%% md\n"
    }
   },
   "source": [
    "# Using Statsmodels\n"
   ]
  },
  {
   "cell_type": "code",
   "execution_count": 20,
   "metadata": {
    "pycharm": {
     "name": "#%%\n"
    }
   },
   "outputs": [
    {
     "name": "stderr",
     "output_type": "stream",
     "text": [
      "/anaconda3/lib/python3.7/site-packages/numpy/core/fromnumeric.py:2389: FutureWarning: Method .ptp is deprecated and will be removed in a future version. Use numpy.ptp instead.\n",
      "  return ptp(axis=axis, out=out, **kwargs)\n"
     ]
    }
   ],
   "source": [
    "smx = sm.add_constant(df['RF_prediction_mean'])\n",
    "reg_log = sm.Logit(df['OD_prediction'], smx)"
   ]
  },
  {
   "cell_type": "code",
   "execution_count": 21,
   "metadata": {
    "pycharm": {
     "name": "#%%\n"
    }
   },
   "outputs": [
    {
     "name": "stdout",
     "output_type": "stream",
     "text": [
      "Optimization terminated successfully.\n",
      "         Current function value: 0.087562\n",
      "         Iterations 9\n"
     ]
    }
   ],
   "source": [
    "results_log = reg_log.fit()"
   ]
  },
  {
   "cell_type": "code",
   "execution_count": 22,
   "metadata": {
    "pycharm": {
     "name": "#%%\n"
    }
   },
   "outputs": [
    {
     "data": {
      "text/html": [
       "<table class=\"simpletable\">\n",
       "<caption>Logit Regression Results</caption>\n",
       "<tr>\n",
       "  <th>Dep. Variable:</th>   <td>OD_prediction</td>  <th>  No. Observations:  </th>  <td>    58</td>  \n",
       "</tr>\n",
       "<tr>\n",
       "  <th>Model:</th>               <td>Logit</td>      <th>  Df Residuals:      </th>  <td>    56</td>  \n",
       "</tr>\n",
       "<tr>\n",
       "  <th>Method:</th>               <td>MLE</td>       <th>  Df Model:          </th>  <td>     1</td>  \n",
       "</tr>\n",
       "<tr>\n",
       "  <th>Date:</th>          <td>Thu, 13 Aug 2020</td> <th>  Pseudo R-squ.:     </th>  <td>0.8095</td>  \n",
       "</tr>\n",
       "<tr>\n",
       "  <th>Time:</th>              <td>08:36:29</td>     <th>  Log-Likelihood:    </th> <td> -5.0786</td> \n",
       "</tr>\n",
       "<tr>\n",
       "  <th>converged:</th>           <td>True</td>       <th>  LL-Null:           </th> <td> -26.662</td> \n",
       "</tr>\n",
       "<tr>\n",
       "  <th> </th>                      <td> </td>        <th>  LLR p-value:       </th> <td>5.026e-11</td>\n",
       "</tr>\n",
       "</table>\n",
       "<table class=\"simpletable\">\n",
       "<tr>\n",
       "           <td></td>             <th>coef</th>     <th>std err</th>      <th>z</th>      <th>P>|z|</th>  <th>[0.025</th>    <th>0.975]</th>  \n",
       "</tr>\n",
       "<tr>\n",
       "  <th>const</th>              <td>  -20.0382</td> <td>    7.013</td> <td>   -2.857</td> <td> 0.004</td> <td>  -33.782</td> <td>   -6.294</td>\n",
       "</tr>\n",
       "<tr>\n",
       "  <th>RF_prediction_mean</th> <td>   25.1977</td> <td>    8.182</td> <td>    3.080</td> <td> 0.002</td> <td>    9.162</td> <td>   41.234</td>\n",
       "</tr>\n",
       "</table>"
      ],
      "text/plain": [
       "<class 'statsmodels.iolib.summary.Summary'>\n",
       "\"\"\"\n",
       "                           Logit Regression Results                           \n",
       "==============================================================================\n",
       "Dep. Variable:          OD_prediction   No. Observations:                   58\n",
       "Model:                          Logit   Df Residuals:                       56\n",
       "Method:                           MLE   Df Model:                            1\n",
       "Date:                Thu, 13 Aug 2020   Pseudo R-squ.:                  0.8095\n",
       "Time:                        08:36:29   Log-Likelihood:                -5.0786\n",
       "converged:                       True   LL-Null:                       -26.662\n",
       "                                        LLR p-value:                 5.026e-11\n",
       "======================================================================================\n",
       "                         coef    std err          z      P>|z|      [0.025      0.975]\n",
       "--------------------------------------------------------------------------------------\n",
       "const                -20.0382      7.013     -2.857      0.004     -33.782      -6.294\n",
       "RF_prediction_mean    25.1977      8.182      3.080      0.002       9.162      41.234\n",
       "======================================================================================\n",
       "\"\"\""
      ]
     },
     "execution_count": 22,
     "metadata": {},
     "output_type": "execute_result"
    }
   ],
   "source": [
    "results_log.summary()"
   ]
  },
  {
   "cell_type": "code",
   "execution_count": 23,
   "metadata": {
    "pycharm": {
     "name": "#%%\n"
    }
   },
   "outputs": [
    {
     "data": {
      "text/plain": [
       "array([1.98396749e-09, 2.55900984e-09, 3.30072515e-09, 4.25742266e-09,\n",
       "       5.49141382e-09, 7.08307071e-09, 9.13606083e-09, 1.17840991e-08,\n",
       "       1.51996571e-08, 1.96051963e-08, 2.52876574e-08, 3.26171493e-08,\n",
       "       4.20710550e-08, 5.42651245e-08, 6.99935793e-08, 9.02808418e-08,\n",
       "       1.16448257e-07, 1.50200157e-07, 1.93734860e-07, 2.49887858e-07,\n",
       "       3.22316492e-07, 4.15738163e-07, 5.36237580e-07, 6.91663065e-07,\n",
       "       8.92137724e-07, 1.15071877e-06, 1.48424795e-06, 1.91444845e-06,\n",
       "       2.46933972e-06, 3.18506234e-06, 4.10823182e-06, 5.29897451e-06,\n",
       "       6.83484342e-06, 8.81586873e-06, 1.13710720e-05, 1.46668681e-05,\n",
       "       1.89179009e-05, 2.44010194e-05, 3.14733016e-05, 4.05952993e-05,\n",
       "       5.23610134e-05, 6.75365480e-05, 8.71099497e-05, 1.12355466e-04,\n",
       "       1.44916377e-04, 1.86911762e-04, 2.41074075e-04, 3.10926380e-04,\n",
       "       4.01010588e-04, 5.17181248e-04, 6.66983482e-04, 8.60138791e-04,\n",
       "       1.10916889e-03, 1.43019577e-03, 1.84396597e-03, 2.37715913e-03,\n",
       "       3.06405483e-03, 3.94864793e-03, 5.08731999e-03, 6.55219104e-03,\n",
       "       8.43528893e-03, 1.08536759e-02, 1.39556529e-02, 1.79281056e-02,\n",
       "       2.30049290e-02, 2.94762412e-02, 3.76977005e-02, 4.80986286e-02,\n",
       "       6.11867463e-02, 7.75461434e-02, 9.78237585e-02, 1.22698496e-01,\n",
       "       1.52826937e-01, 1.88761609e-01, 2.30843355e-01, 2.79079235e-01,\n",
       "       3.33030172e-01, 3.91743368e-01, 4.53765420e-01, 5.17256551e-01,\n",
       "       5.80195360e-01, 6.40629454e-01, 6.96908415e-01, 7.47842926e-01,\n",
       "       7.92763214e-01, 8.31484417e-01, 8.64209987e-01, 8.91410265e-01,\n",
       "       9.13706070e-01, 9.31774438e-01, 9.46282039e-01, 9.57844288e-01,\n",
       "       9.67004655e-01, 9.74228047e-01, 9.79902948e-01, 9.84348329e-01,\n",
       "       9.87822631e-01, 9.90533137e-01, 9.92644816e-01, 9.94288180e-01])"
      ]
     },
     "execution_count": 23,
     "metadata": {},
     "output_type": "execute_result"
    }
   ],
   "source": [
    "support = np.linspace(0, 1, 100)\n",
    "smxnew = sm.add_constant(support)\n",
    "results_log.predict(smxnew)"
   ]
  },
  {
   "cell_type": "code",
   "execution_count": 36,
   "metadata": {
    "pycharm": {
     "name": "#%%\n"
    }
   },
   "outputs": [
    {
     "data": {
      "image/png": "[encoded data removed]",
      "text/plain": [
       "<Figure size 648x432 with 1 Axes>"
      ]
     },
     "metadata": {
      "needs_background": "light"
     },
     "output_type": "display_data"
    }
   ],
   "source": [
    "fig = plt.figure(figsize=(9,6))\n",
    "ax = fig.add_subplot(111)\n",
    "ax.plot(support, results_log.predict(smxnew), 'r-', label='Logistic')\n",
    "ax.scatter(df['RF_prediction_mean'], df['OD_prediction'])\n",
    "plt.title('Fitted Logistic Regression', fontsize=15)\n",
    "plt.xlabel('Random Forest Mean Prediction', fontsize=14)\n",
    "plt.ylabel('Optical Density Prediction', fontsize=14)\n",
    "ax.legend();"
   ]
  }
 ],
 "metadata": {
  "kernelspec": {
   "display_name": "Python 3",
   "language": "python",
   "name": "python3"
  },
  "language_info": {
   "codemirror_mode": {
    "name": "ipython",
    "version": 3
   },
   "file_extension": ".py",
   "mimetype": "text/x-python",
   "name": "python",
   "nbconvert_exporter": "python",
   "pygments_lexer": "ipython3",
   "version": "3.7.3"
  }
 },
 "nbformat": 4,
 "nbformat_minor": 1
}
