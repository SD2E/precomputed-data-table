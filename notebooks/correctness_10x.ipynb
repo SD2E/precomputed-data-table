{
 "cells": [
  {
   "cell_type": "code",
   "execution_count": 2,
   "metadata": {},
   "outputs": [
    {
     "name": "stdout",
     "output_type": "stream",
     "text": [
      "The autoreload extension is already loaded. To reload it, use:\n",
      "  %reload_ext autoreload\n"
     ]
    }
   ],
   "source": [
    "import pandas as pd\n",
    "import os\n",
    "import json\n",
    "import sys\n",
    "from os.path import expanduser\n",
    "import numpy as np\n",
    "import seaborn as sns\n",
    "import matplotlib.pyplot as plt\n",
    "\n",
    "from pysd2cat.data import pipeline\n",
    "from pysd2cat.analysis import correctness \n",
    "\n",
    "from data_converge.util import data_utils as du\n",
    "\n",
    "%load_ext autoreload\n",
    "%reload_ext autoreload\n",
    "%autoreload 2\n",
    "\n",
    "\n",
    "DATA_CONVERGE_PROJECT=\"sd2e-project-43\"\n",
    "\n",
    "data_converge_base = os.path.join(expanduser(\"~\"), 'sd2e-projects', DATA_CONVERGE_PROJECT)\n",
    "experiment_dir = os.path.realpath(os.path.join(data_converge_base, 'test'))\n",
    "experiment_dir_contents = [os.path.realpath(os.path.join(experiment_dir, x)) for x in os.listdir(experiment_dir)]\n",
    "\n",
    "experiments = [x for x in  experiment_dir_contents \n",
    "               if os.path.isdir(x) and \"dc_\" in x]\n",
    "\n",
    "DATA_CONVERGE_CORRECTNESS_DATA_PROJECT=\"sd2e-project-45\"\n",
    "data_converge_correctness_data_base = os.path.join(expanduser(\"~\"), 'sd2e-projects', DATA_CONVERGE_CORRECTNESS_DATA_PROJECT)\n",
    "\n",
    "correctness_dir = os.path.join(data_converge_correctness_data_base, 'correctness')\n",
    "correctness_dir_contents = [os.path.realpath(os.path.join(correctness_dir, x)) for x in os.listdir(correctness_dir)]\n",
    "\n",
    "\n",
    "\n"
   ]
  },
  {
   "cell_type": "code",
   "execution_count": 8,
   "metadata": {},
   "outputs": [
    {
     "name": "stdout",
     "output_type": "stream",
     "text": [
      "/work/projects/SD2E-Community/prod/projects/sd2e-project-45/correctness/dc_YeastSTATES-CRISPR-Long-Duration-Time-Series-20191208_20200414085017.csv\n"
     ]
    }
   ],
   "source": [
    "def get_analysis_data(experiment_analysis):\n",
    "    data_converge_id = du.get_data_converge_id(experiment_analysis)\n",
    "    csv_file = os.path.join(correctness_dir, data_converge_id + \".csv\")\n",
    "    if os.path.exists(csv_file):\n",
    "        res = pd.read_csv(csv_file)\n",
    "        data_converge_path = os.path.join(data_converge_base, 'test', data_converge_id)\n",
    "        res_meta = du.get_meta(data_converge_path, \n",
    "                               du.get_record(data_converge_path)).merge(res, on=\"sample_id\", how=\"inner\")\n",
    "        return res_meta\n",
    "    else:\n",
    "        return None\n",
    "\n",
    "experiment = correctness_dir_contents[0]\n",
    "print(experiment)\n",
    "df = get_analysis_data(experiment)\n",
    "\n",
    "\n",
    "        #out_file_path = os.path.join(expanduser(\"~\"), \"tacc-work\", \"plots\")\n",
    "        #if not os.path.exists(out_file_path):\n",
    "        #    os.mkdir(out_file_path)\n",
    "        #out_file = os.path.join(out_file_path, data_converge_id + \".png\")\n",
    "        #do_plot(res_meta, out_file)\n",
    "  "
   ]
  },
  {
   "cell_type": "code",
   "execution_count": 12,
   "metadata": {},
   "outputs": [],
   "source": [
    "strains = df.strain_name.unique()\n",
    "timepoints = df.timepoint.unique()\n",
    "inducer_concentrations = df.inducer_concentration.unique()\n"
   ]
  },
  {
   "cell_type": "code",
   "execution_count": 13,
   "metadata": {},
   "outputs": [
    {
     "data": {
      "text/plain": [
       "array(['SpheroControl', 'beads_spherotech_pps_6K',\n",
       "       'Negative-(non-fluorescent)-control', 'Inducible-CRISPR-Gate-6',\n",
       "       'BE-inducible-fluorescent-protein', 'Inducible-CRISPR-Gate-4',\n",
       "       'Inducible-CRISPR-Gate-7', 'Inducible-CRISPR-Gate-5',\n",
       "       'Inducible-CRISPR-Gate-2', 'Positive-Control-(yeVenus)',\n",
       "       'Inducible-CRISPR-Gate-1', 'NOR00-(GFP-positive)-control',\n",
       "       'Inducible-CRISPR-Gate-3'], dtype=object)"
      ]
     },
     "execution_count": 13,
     "metadata": {},
     "output_type": "execute_result"
    }
   ],
   "source": [
    "data_df = du.get_data_and_metadata"
   ]
  }
 ],
 "metadata": {
  "kernelspec": {
   "display_name": "Python 3",
   "language": "python",
   "name": "python3"
  },
  "language_info": {
   "codemirror_mode": {
    "name": "ipython",
    "version": 3
   },
   "file_extension": ".py",
   "mimetype": "text/x-python",
   "name": "python",
   "nbconvert_exporter": "python",
   "pygments_lexer": "ipython3",
   "version": "3.6.8"
  }
 },
 "nbformat": 4,
 "nbformat_minor": 2
}
