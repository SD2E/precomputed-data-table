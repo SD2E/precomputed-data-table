{
 "cells": [
  {
   "cell_type": "code",
   "execution_count": 2,
   "metadata": {
    "scrolled": true
   },
   "outputs": [
    {
     "name": "stderr",
     "output_type": "stream",
     "text": [
      "/work/07431/rmahtab/jupyter_packages/lib/python3.6/site-packages/FlowCytometryTools-0.5.0-py3.6.egg/FlowCytometryTools/core/docstring.py:56: MatplotlibDeprecationWarning: \n",
      "The dedent function was deprecated in Matplotlib 3.1 and will be removed in 3.3. Use inspect.cleandoc instead.\n",
      "  doc = dedent(doc)\n",
      "/work/07431/rmahtab/pysd2cat/test-harness/harness/test_harness_class.py:23: FutureWarning: Passing a negative integer is deprecated in version 1.0 and will not be supported in future version. Instead, use None to not limit the column width.\n",
      "  pd.set_option('display.max_colwidth', -1)\n"
     ]
    },
    {
     "data": {
      "text/plain": [
       "['/work/projects/SD2E-Community/prod/projects/sd2e-project-43/test/dc_CEN-PK-Inducible-CRISPR-4-Day-Obstacle-Course_20200506021137',\n",
       " '/work/projects/SD2E-Community/prod/projects/sd2e-project-43/test/dc_CEN-PK-Inducible-CRISPR-Characterization_20200426200027',\n",
       " '/work/projects/SD2E-Community/prod/projects/sd2e-project-43/test/dc_YeastSTATES-Beta-Estradiol-OR-Gate-Plant-TF-Dose-Response_20200414091814',\n",
       " '/work/projects/SD2E-Community/prod/projects/sd2e-project-43/test/dc_YeastSTATES-Beta-Estradiol-OR-Gate-Plant-TF-Dose-Response_20200423200308',\n",
       " '/work/projects/SD2E-Community/prod/projects/sd2e-project-43/test/dc_YeastSTATES-Beta-Estradiol-OR-Gate-Plant-TF-Growth-Curves_20200414150010',\n",
       " '/work/projects/SD2E-Community/prod/projects/sd2e-project-43/test/dc_YeastSTATES-Beta-Estradiol-OR-Gate-Plant-TF-Growth-Curves_20200423201016',\n",
       " '/work/projects/SD2E-Community/prod/projects/sd2e-project-43/test/dc_YeastSTATES-CRISPR-Dose-Response_20200414151033',\n",
       " '/work/projects/SD2E-Community/prod/projects/sd2e-project-43/test/dc_YeastSTATES-CRISPR-Dose-Response_20200423194728',\n",
       " '/work/projects/SD2E-Community/prod/projects/sd2e-project-43/test/dc_YeastSTATES-CRISPR-Growth-Curves-35C_20200414152809',\n",
       " '/work/projects/SD2E-Community/prod/projects/sd2e-project-43/test/dc_YeastSTATES-CRISPR-Growth-Curves-35C_20200423200123',\n",
       " '/work/projects/SD2E-Community/prod/projects/sd2e-project-43/test/dc_YeastSTATES-CRISPR-Growth-Curves-with-Plate-Reader-Optimization_20200414151551',\n",
       " '/work/projects/SD2E-Community/prod/projects/sd2e-project-43/test/dc_YeastSTATES-CRISPR-Growth-Curves-with-Plate-Reader-Optimization_20200423194854',\n",
       " '/work/projects/SD2E-Community/prod/projects/sd2e-project-43/test/dc_YeastSTATES-CRISPR-Long-Duration-Time-Series-20191208_20200414085017',\n",
       " '/work/projects/SD2E-Community/prod/projects/sd2e-project-43/test/dc_YeastSTATES-CRISPR-Long-Duration-Time-Series-20191208_20200423193808',\n",
       " '/work/projects/SD2E-Community/prod/projects/sd2e-project-43/test/dc_YeastSTATES-CRISPR-Short-Duration-Time-Series-20191208_20200414095504',\n",
       " '/work/projects/SD2E-Community/prod/projects/sd2e-project-43/test/dc_YeastSTATES-CRISPR-Short-Duration-Time-Series-20191208_20200423194115',\n",
       " '/work/projects/SD2E-Community/prod/projects/sd2e-project-43/test/dc_YeastSTATES-CRISPR-Short-Duration-Time-Series-35C_20200414152048',\n",
       " '/work/projects/SD2E-Community/prod/projects/sd2e-project-43/test/dc_YeastSTATES-CRISPR-Short-Duration-Time-Series-35C_20200423195648',\n",
       " '/work/projects/SD2E-Community/prod/projects/sd2e-project-43/test/dc_YeastSTATES-Doxycycline-OR-Gate-Plant-TF-Dose-Response_20200423201302',\n",
       " '/work/projects/SD2E-Community/prod/projects/sd2e-project-43/test/dc_YeastSTATES-Doxycycline-OR-Gate-Plant-TF-Dose-Response_20200426192144',\n",
       " '/work/projects/SD2E-Community/prod/projects/sd2e-project-43/test/dc_YeastSTATES-Doxycycline-OR-Gate-Plant-TF-Growth-Curves_20200414144659',\n",
       " '/work/projects/SD2E-Community/prod/projects/sd2e-project-43/test/dc_YeastSTATES-Doxycycline-OR-Gate-Plant-TF-Growth-Curves_20200423201744',\n",
       " '/work/projects/SD2E-Community/prod/projects/sd2e-project-43/test/dc_YeastSTATES-OR-Gate-CRISPR-Dose-Response_20200423202039',\n",
       " '/work/projects/SD2E-Community/prod/projects/sd2e-project-43/test/dc_YeastSTATES-OR-Gate-CRISPR-Dose-Response_20200427004659',\n",
       " '/work/projects/SD2E-Community/prod/projects/sd2e-project-43/test/dc_YeastSTATES-OR-Gate-CRISPR-Growth-Curves_20200414145352',\n",
       " '/work/projects/SD2E-Community/prod/projects/sd2e-project-43/test/dc_YeastSTATES-OR-Gate-CRISPR-Growth-Curves_20200417214333',\n",
       " '/work/projects/SD2E-Community/prod/projects/sd2e-project-43/test/dc_YeastSTATES-OR-Gate-CRISPR-Growth-Curves_20200423202428']"
      ]
     },
     "execution_count": 2,
     "metadata": {},
     "output_type": "execute_result"
    }
   ],
   "source": [
    "import pandas as pd\n",
    "import os\n",
    "import pickle\n",
    "from os.path import expanduser\n",
    "import numpy as np\n",
    "from scipy.stats import wasserstein_distance as wd\n",
    "\n",
    "from data_converge.util import data_utils as du\n",
    "\n",
    "\n",
    "%load_ext autoreload\n",
    "%reload_ext autoreload\n",
    "%autoreload 2\n",
    "\n",
    "\n",
    "# Load prediction data\n",
    "experiment_path = '/work/projects/SD2E-Community/prod/projects/sd2e-project-43/test/dc_YeastSTATES-CRISPR-Short-Duration-Time-Series-35C_20200423195648'\n",
    "experiment_df = du.get_data_and_metadata(experiment_path)"
   ]
  },
  {
   "cell_type": "code",
   "execution_count": 45,
   "metadata": {
    "scrolled": true
   },
   "outputs": [
    {
     "name": "stdout",
     "output_type": "stream",
     "text": [
      "1/109 (r1dgppg46aeknn_r1dgwpywx6rtc8.csv)\n"
     ]
    },
    {
     "name": "stderr",
     "output_type": "stream",
     "text": [
      "/opt/conda/lib/python3.6/site-packages/IPython/core/interactiveshell.py:3049: DtypeWarning: Columns (13) have mixed types.Specify dtype option on import or set low_memory=False.\n",
      "  interactivity=interactivity, compiler=compiler, result=result)\n",
      "/work/07431/rmahtab/jupyter_packages/lib/python3.6/site-packages/numpy/lib/arraysetops.py:569: FutureWarning: elementwise comparison failed; returning scalar instead, but in the future will perform elementwise comparison\n",
      "  mask |= (ar1 == a)\n",
      "/opt/conda/lib/python3.6/site-packages/ipykernel_launcher.py:43: DeprecationWarning: The default dtype for empty Series will be 'object' instead of 'float64' in a future version. Specify a dtype explicitly to silence this warning.\n",
      "/opt/conda/lib/python3.6/site-packages/ipykernel_launcher.py:44: DeprecationWarning: The default dtype for empty Series will be 'object' instead of 'float64' in a future version. Specify a dtype explicitly to silence this warning.\n"
     ]
    },
    {
     "name": "stdout",
     "output_type": "stream",
     "text": [
      "2/109 (r1c7cpt3djxuj_r1c7fex29q6t2.csv)\n",
      "3/109 (r1c84xwx57y95_r1c8ejz8jfg9z.csv)\n",
      "4/109 (r1cft9hhnhjdb_r1cfwgjmz247y.csv)\n",
      "5/109 (r1cyeyjwbefaf2_r1cys7qtr6j42x.csv)\n",
      "6/109 (r1c84y2j7n7bu_r1c8aw59wfxy8.csv)\n",
      "7/109 (r1c7cpvfzqprk_r1c7fbvba55db.csv)\n",
      "8/109 (r1cdcetsvxgc2_r1cdfa6jrtssc.csv)\n",
      "9/109 (r1c8yyg9gxbme_r1c96wn43pq45.csv)\n",
      "10/109 (r1dj8mxn3pcuf5_r1djfnchgugknq.csv)\n",
      "11/109 (r1ce3pjymvm3u_r1ceb3rgpe8gm.csv)\n",
      "12/109 (r1dgppdqbd2mmk_r1dgwy63p8x5uz.csv)\n",
      "13/109 (r1ce3pqt45vfe_r1ce7qf5e483u.csv)\n",
      "14/109 (r1ce3ppkyswxf_r1ce7qk6h482m.csv)\n",
      "15/109 (r1dfxeycahns9y_r1dg8u3z9yzuuq.csv)\n",
      "16/109 (r1ceuhvgf7b4y_r1cf2yr353x5j.csv)\n",
      "17/109 (r1cwvvxz5d7wua_r1cx7ucsnkjfsb.csv)\n",
      "18/109 (r1c84y3r9yqxb_r1c8auwvzbgt3.csv)\n",
      "19/109 (r1c8yydkumrkr_r1c96xsxw79c9.csv)\n",
      "20/109 (r1cgbw3xk7pau_r1cgpa54x8ff3.csv)\n",
      "21/109 (r1cckyh56hjqj_r1ccpyjef2vca.csv)\n",
      "22/109 (r1cfkpp2p3kjz_r1cftpr8wxqc7.csv)\n",
      "23/109 (r1c8xx7we38vw_r1c93cukfcxqp.csv)\n",
      "24/109 (r1cbut53kpf3n_r1cc3bn2s2aj8.csv)\n",
      "25/109 (r1cdcesknarkf_r1cdfg4x5uuwp.csv)\n",
      "26/109 (r1dfxex6e5ekjv_r1dg94zgbvxe7r.csv)\n",
      "27/109 (r1cdhymqfs6b3_r1cdnzf4hbuz2.csv)\n",
      "28/109 (r1d6r8mvznxxme_r1d8jxmssfag5w.csv)\n",
      "29/109 (r1c7cprv7fe49_r1c7jmje3ebhc.csv)\n",
      "30/109 (r1df5qs7jb4fwq_r1dff64wwmq4gt.csv)\n",
      "31/109 (r1cdfr4bjcnrg_r1cdnuqex83dm.csv)\n",
      "32/109 (r1ccqf9jq2wvd_r1cctubuxvmvs.csv)\n",
      "33/109 (r1cbut3veu2z4_r1cc6efukqtxx.csv)\n",
      "34/109 (r1cfkpuz2kr6c_r1cfpvk5hjkzb.csv)\n",
      "35/109 (r1dag7xpmgar9k_r1dakfqtk7hpzb.csv)\n",
      "36/109 (r1cgbw8qkp6z4_r1cgjpjx5ve76.csv)\n",
      "37/109 (r1dj8mwev6qgtn_r1djfuj9qywhea.csv)\n",
      "38/109 (r1cgbw7hjvxgx_r1cgjxrexhd4j.csv)\n",
      "39/109 (r1c5va9wyf3mx_r1c63bjzu5ruy.csv)\n",
      "40/109 (r1c5vad8u7ve2_r1c66q7cru28u.csv)\n",
      "41/109 (r1dfxezj7aae4s_r1dg5dthycwjb7.csv)\n",
      "42/109 (r1c7cpu9nj2bu_r1c7fg23qkzph.csv)\n",
      "43/109 (r1cyey8rzxq269_r1cysrdt3pvt5n.csv)\n",
      "44/109 (r1ccqfbz332u8_r1cctaf8r32rc.csv)\n",
      "45/109 (r1c8yx25rrtag_r1c96v2w8x5pq.csv)\n",
      "46/109 (r1cctw7qh3777_r1ccwxr4t3wb6.csv)\n",
      "47/109 (r1cckyfwfae4d_r1ccq83ggacxc.csv)\n",
      "48/109 (r1dgppew9w7j7p_r1dgwudtwth732.csv)\n",
      "49/109 (r1ce3p3p7j77n_r1ceevbnsqku2.csv)\n",
      "50/109 (r1cwvvwryt3q49_r1cx4ux3zcdt4w.csv)\n",
      "51/109 (r1ceuhrtvgyvd_r1cf6kx2a233e.csv)\n",
      "52/109 (r1cgbw55mdzsa_r1cgp2v2jqn9h.csv)\n",
      "53/109 (r1cgbw6bqmemz_r1cgnt4s2c5ty.csv)\n",
      "54/109 (r1cbut2pdjtwv_r1cc6qzwcd4hx.csv)\n",
      "55/109 (r1c5vaeb8vbt9_r1c66mfpj7guh.csv)\n",
      "56/109 (r1cfkptta6kuc_r1cfq4k72rwba.csv)\n",
      "57/109 (r1cckyeq9r358_r1ccqgmy5ffcd.csv)\n",
      "58/109 (r1ceuhu9enre5_r1cf33y4j6dyg.csv)\n",
      "59/109 (r1cfkpq8n84aj_r1cftg78pbqd7.csv)\n",
      "60/109 (r1cft9f659y9s_r1cfx3nrnc2uw.csv)\n",
      "61/109 (r1c84xy5frkf3_r1c8ejr9kezva.csv)\n",
      "62/109 (r1cdfr36fb76a_r1cdjmabskps3.csv)\n",
      "63/109 (r1ce3p4vgfu3p_r1ceebve8d6tc.csv)\n",
      "64/109 (r1cdfr5gjs72s_r1cdk2gjusax6.csv)\n",
      "65/109 (r1cgbw9ww9g9h_r1cgjg8e8xeav.csv)\n",
      "66/109 (r1c5vac658fxn_r1c66qw595ydy.csv)\n",
      "67/109 (r1c8xx94j94u7_r1c93ajvdzxz5.csv)\n",
      "68/109 (r1d6r8ztq8zfa7_r1d952nn9xk753.csv)\n",
      "69/109 (r1c7cppfr7yp6_r1c7jnv3pkbsj.csv)\n",
      "70/109 (r1cdfsf4ezew3_r1cdjsyza79sr.csv)\n",
      "71/109 (r1c5vab4q2yu9_r1c63c2e7z9hj.csv)\n",
      "72/109 (r1ce3phrwnkqt_r1ceb8fj2hj9a.csv)\n",
      "73/109 (r1c9tpmcezpk2_r1c9wjnedp92f.csv)\n",
      "74/109 (r1cfkpsmdkgjb_r1cfqbcwrk6vu.csv)\n",
      "75/109 (r1d6r8p5ddgsut_r1d8fgr2efzrhj.csv)\n",
      "76/109 (r1ce3p63vnpzq_r1cee5f7knupg.csv)\n",
      "77/109 (r1df5qqzq7k6ss_r1dfjjydmudcfs.csv)\n",
      "78/109 (r1ch7zwzznes3_r1cheagmxcqvt.csv)\n",
      "79/109 (r1c8xx6qe9eea_r1c93enbf48t7.csv)\n",
      "80/109 (r1cbut6a79n9t_r1cc34mkuvzeh.csv)\n",
      "81/109 (r1cfkprehr2fj_r1cft8f7cbsp7.csv)\n",
      "82/109 (r1d9xx8rjarjuw_r1da5tgwjasvw3.csv)\n",
      "83/109 (r1d6r8ykf868ep_r1d98fh76wrqp7.csv)\n",
      "84/109 (r1d6r932unhafk_r1d93nuytthhp4.csv)\n",
      "85/109 (r1cbajqru7kbe_r1cbe9p9zu6dh.csv)\n",
      "86/109 (r1cwvvvj2bh6hc_r1cx4pbeyv2q29.csv)\n",
      "87/109 (r1dj8myu92t47q_r1djfefyrxqj9m.csv)\n",
      "88/109 (r1cbajrxthe7y_r1cbdzkebbd46.csv)\n",
      "89/109 (r1c84xvquwxth_r1c8ek7vcmdxh.csv)\n",
      "90/109 (r1cyeye2du6ep8_r1cysfjkjjphqj.csv)\n",
      "91/109 (r1c9tpk5zrbsk_r1c9wpbvjszxe.csv)\n",
      "92/109 (r1cctw8wvwpbg_r1ccwteetw82v.csv)\n",
      "93/109 (r1ccqfas8urfk_r1cctk2a3wbk5.csv)\n",
      "94/109 (r1cbajphx4ekf_r1cbeec6cxn2t.csv)\n",
      "95/109 (r1ce3pndp353t_r1ce7xkybfnqd.csv)\n",
      "96/109 (r1c7cpqp2k6cw_r1c7jn9syrr8s.csv)\n",
      "97/109 (r1cctw6h5fsfg_r1ccx3axsj5ua.csv)\n",
      "98/109 (r1d6r59sste9m2_r1d8gf8cczkrz9.csv)\n",
      "99/109 (r1d6r58jnct63g_r1d8kxz5ndkxyh.csv)\n",
      "100/109 (r1d6r5b24f9a9z_r1d8cyvjthnvvt.csv)\n",
      "101/109 (r1cf3p48cauwv_r1cf6hech88mh.csv)\n",
      "102/109 (r1cdcerdbpda2_r1cdfphfehzq2.csv)\n",
      "103/109 (r1c84xzc5dbuv_r1c8axrywctwb.csv)\n",
      "104/109 (r1cbut7g7x6pg_r1cc2xauy7qaa.csv)\n",
      "105/109 (r1c5va879uaex_r1c639xp952g4.csv)\n",
      "106/109 (r1cbuszfskzjt_r1cc6ws9c3dh4.csv)\n",
      "107/109 (r1cft9gbs55yn_r1cfwthkscwsk.csv)\n",
      "108/109 (r1ce3pm76spw4_r1ceas4zgsdt5.csv)\n",
      "109/109 (r1ceuhqmu6c7w_r1cf6snbv99p8.csv)\n"
     ]
    }
   ],
   "source": [
    "# Create renaming dict for channel columns\n",
    "channels = ['FSC-A', 'SSC-A', 'BL1-A', 'FSC-W', 'FSC-H', 'SSC-W', 'SSC-H']\n",
    "channels_under = [x.replace('-', '_') for x in channels]\n",
    "renaming = dict(zip(channels_under, channels))\n",
    "\n",
    "# Group prediction data\n",
    "exp_grouped = experiment_df.groupby(['strain_name', 'timepoint', 'inducer_concentration', 'replicate'])\n",
    "\n",
    "# Set path to control data\n",
    "XPLAN_PROJECT=\"sd2e-project-14\"\n",
    "xplan_base = os.path.join(expanduser(\"~\"), 'sd2e-projects', XPLAN_PROJECT)\n",
    "exp_id = 'r1dag7xpmgar9k_r1dakfqtk7hpzb.csv'\n",
    "path = os.path.join(xplan_base, 'xplan-reactor', 'data', 'transcriptic')\n",
    "\n",
    "# Initialize distances dictionary and counter\n",
    "nearest_control_distances = dict()\n",
    "count = 0\n",
    "\n",
    "# Loop through control data files\n",
    "for exp in os.listdir(path):\n",
    "    if \".csv\" in exp:\n",
    "        # Print counter\n",
    "        count += 1\n",
    "        print(str(count) + \"/109 (\" + exp + \")\")\n",
    "        \n",
    "        # Extract current control data and rename channel columns\n",
    "        exp_flow = pd.read_csv(os.path.join(path, exp), index_col=0)\n",
    "        controls = exp_flow.loc[(exp_flow.strain_name == \"WT-Live-Control\") | (exp_flow.strain_name == \"WT-Dead-Control\")]\n",
    "        controls = controls.rename(columns=renaming)\n",
    "        \n",
    "        # Separate live/dead control data\n",
    "        dead_controls = controls.loc[controls['strain_name'] == \"WT-Dead-Control\"]\n",
    "        live_controls = controls.loc[controls['strain_name'] == \"WT-Live-Control\"]\n",
    "        \n",
    "        # Apply log-10 transform to channel columns\n",
    "        dc_d = dead_controls[channels].apply(np.log10).replace([np.inf, -np.inf], 0.0)\n",
    "        lc_d = live_controls[channels].apply(np.log10).replace([np.inf, -np.inf], 0.0)\n",
    "        \n",
    "        # Total Wasserstein distance of current control will be sum of distances of each sample to nearest control\n",
    "        wass_dist = 0\n",
    "        \n",
    "        # Loop through samples\n",
    "        for sample_name, sample_data in exp_grouped:\n",
    "            # Apply log-10 transform to channel columns\n",
    "            s_d = sample_data[channels].apply(np.log10).replace([np.inf, -np.inf], 0.0)\n",
    "            \n",
    "            # Get Wasserstein distance between each channel of sample to both live/dead controls\n",
    "            dw = pd.Series()\n",
    "            lw = pd.Series()\n",
    "            for channel in channels:\n",
    "                dw[channel] = wd(dc_d[channel].dropna(), s_d[channel].dropna())\n",
    "                lw[channel] = wd(lc_d[channel].dropna(), s_d[channel].dropna())\n",
    "            \n",
    "            # Average over channels and add nearest control to overall distance\n",
    "            if dw.mean() < lw.mean():\n",
    "                wass_dist += dw.mean()\n",
    "            else:\n",
    "                wass_dist += lw.mean()\n",
    "        \n",
    "        nearest_control_distances[exp] = wass_dist"
   ]
  },
  {
   "cell_type": "code",
   "execution_count": null,
   "metadata": {},
   "outputs": [],
   "source": [
    "nearest_control_distances"
   ]
  },
  {
   "cell_type": "code",
   "execution_count": 48,
   "metadata": {},
   "outputs": [
    {
     "data": {
      "text/plain": [
       "77.96594207091962"
      ]
     },
     "execution_count": 48,
     "metadata": {},
     "output_type": "execute_result"
    }
   ],
   "source": [
    "# Find experiment with minimum distance\n",
    "min(nearest_control_distances.values())"
   ]
  },
  {
   "cell_type": "code",
   "execution_count": null,
   "metadata": {},
   "outputs": [],
   "source": [
    "# Pickle nearest control Wasserstein distances\n",
    "nearest_control_distances.to_pickle('wasserstein_distances.pkl')"
   ]
  },
  {
   "cell_type": "code",
   "execution_count": 14,
   "metadata": {},
   "outputs": [],
   "source": [
    "# OLD Wasserstein distance computation between centroids of controls and prediction data\n",
    "\n",
    "exp_names = []\n",
    "for exp in os.listdir(path):\n",
    "    if \".csv\" in exp:\n",
    "        exp_names.append(exp)\n",
    "\n",
    "wd_avgs = []\n",
    "num_channels = len(channels)\n",
    "\n",
    "for i, row in wass_distances.iterrows():\n",
    "    channel_sum = 0\n",
    "    for channel in channels:\n",
    "        channel_sum += row[channel]\n",
    "    wd_avgs.append(channel_sum/num_channels)\n",
    "\n",
    "wass_distances['Average'] = wd_avgs\n",
    "wass_distances['Experiment Name'] = exp_names\n",
    "\n",
    "pd.set_option('display.float_format', lambda x: '%.5f' % x)\n",
    "\n",
    "# Find experiment with minimum distance\n",
    "wass_distances[wass_distances['Average'] == min(wass_distances['Average'])]"
   ]
  }
 ],
 "metadata": {
  "kernelspec": {
   "display_name": "Python 3",
   "language": "python",
   "name": "python3"
  },
  "language_info": {
   "codemirror_mode": {
    "name": "ipython",
    "version": 3
   },
   "file_extension": ".py",
   "mimetype": "text/x-python",
   "name": "python",
   "nbconvert_exporter": "python",
   "pygments_lexer": "ipython3",
   "version": "3.6.8"
  }
 },
 "nbformat": 4,
 "nbformat_minor": 2
}
