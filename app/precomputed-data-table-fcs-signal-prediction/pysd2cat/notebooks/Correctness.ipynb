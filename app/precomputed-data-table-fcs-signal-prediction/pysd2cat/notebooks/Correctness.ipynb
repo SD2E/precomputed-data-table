{
 "cells": [
  {
   "cell_type": "code",
   "execution_count": 1,
   "metadata": {
    "scrolled": true
   },
   "outputs": [],
   "source": [
    "import json\n",
    "import time\n",
    "import pandas as pd\n",
    "from os.path import expanduser\n",
    "import sys\n",
    "import os\n",
    "import numpy as np\n",
    "import glob\n",
    "\n",
    "#os.chdir('pysd2cat')\n",
    "#!{sys.executable} setup.py develop --user --uninstall\n",
    "#!{sys.executable} setup.py develop --user \n",
    "#os.chdir(os.pardir)\n",
    "\n",
    "from pysd2cat.analysis.correctness import compute_correctness_all, compute_correctness_with_classifier\n",
    "from pysd2cat.data import pipeline \n",
    "from pysd2cat.analysis.live_dead_analysis import add_live_dead_test_harness\n",
    "\n",
    "%load_ext autoreload\n",
    "%autoreload 2\n",
    "\n"
   ]
  },
  {
   "cell_type": "code",
   "execution_count": 3,
   "metadata": {
    "scrolled": false
   },
   "outputs": [
    {
     "name": "stdout",
     "output_type": "stream",
     "text": [
      "os.environ: environ({'CAML_LD_LIBRARY_PATH': '/Users/danbryce/.opam/system/lib/stublibs:/usr/local/lib/ocaml/stublibs', 'MANPATH': ':/Users/danbryce/.opam/system/man:/Users/danbryce/.opam/system/man', 'TERM_PROGRAM': 'Apple_Terminal', 'UDG_HOME': '/Applications/uDrawGraph-3.1', 'ACL_HOME': '/Applications/AllegroCL32.app/Contents/Resources', 'TERM': 'xterm-color', 'SHELL': '/bin/bash', 'TMPDIR': '/var/folders/p9/447mgxs91h11vkvs2fgb8xd00000gn/T/', 'PERL5LIB': '/Users/danbryce/.opam/system/lib/perl5:/Users/danbryce/.opam/system/lib/perl5:', 'Apple_PubSub_Socket_Render': '/private/tmp/com.apple.launchd.iYvP8nQWpF/Render', 'TERM_PROGRAM_VERSION': '421.2', 'TERM_SESSION_ID': '04C985D5-5DC9-4F97-BE2B-39FB4A105955', 'OCAML_TOPLEVEL_PATH': '/Users/danbryce/.opam/system/lib/toplevel', 'HACKAR_HOME': '/Users/danbryce/Documents/sift/hackar/code/', 'SVN_EDITOR': 'xemacs', 'USER': 'danbryce', 'LD_LIBRARY_PATH': '/opt/local/lib/:/usr/X11R6/lib:/System/Library/Tcl/8.4/Img-1.3', 'CIRCA_BASENAME': 'dbryce', 'SSH_AUTH_SOCK': '/private/tmp/com.apple.launchd.LJ8GYtjIvO/Listeners', 'VIRTUAL_ENV': '/Users/danbryce/xplan', 'OPAMUTF8MSGS': '1', 'PLUREAL_HOME': '/Users/danbryce/Documents/sift/silver-surfer/trunk/code/externals/plureal', 'PATH': '/Users/danbryce/xplan/bin:/Users/danbryce/xplan/bin:/usr/local/opt/qt/bin:/Users/danbryce/anaconda3/bin:/Users/danbryce/.opam/system/bin:/opt/local/bin:/opt/local/sbin:/opt/local/bin:/opt/local/sbin:/opt/local/bin:/opt/local/sbin:/Users/danbryce/.opam/system/bin:/opt/local/bin:/opt/local/sbin:/opt/local/bin:/opt/local/sbin:/opt/local/bin:/opt/local/sbin:/Users/danbryce/Documents/sift/silver-surfer/trunk/code/externals/dreal3/bin:/Users/danbryce/.opam/system/bin:/opt/local/bin:/opt/local/sbin:/opt/local/bin:/opt/local/sbin:/opt/local/bin:/opt/local/sbin:/Users/danbryce/Documents/sift/silver-surfer/trunk/code/externals/dreal3/bin:/Users/danbryce/Documents/sift/silver-surfer/trunk/code/externals/dreal3/bin:/Users/danbryce/.opam/system/bin:/opt/local/bin:/opt/local/sbin:/opt/local/bin:/opt/local/sbin:/opt/local/bin:/opt/local/sbin:/Users/danbryce/Documents/sift/silver-surfer/trunk/code/externals/plureal/bin:/Users/danbryce/Documents/sift/silver-surfer/trunk/code/externals/plureal/bin:/Users/danbryce/.opam/system/bin:/Users/danbryce/.opam/system/bin:/Users/danbryce/.opam/system/bin:/Applications/AllegroCL32.app/Contents/Resources:/usr/local/bin:/usr/bin:/bin:/usr/sbin:/sbin:/usr/X11/bin:/usr/local/git/bin:/opt/local/bin:/opt/local/sbin:/sw/sbin:/Developer-3.2.3/usr/bin:/usr/local/scala-2.10.1/bin:/Applications/Graphviz.app/Contents/MacOS:/usr/local/scala-2.10.1/bin:/Applications/Graphviz.app/Contents/MacOS:/usr/bin:/bin:/usr/sbin:/sbin:/usr/local/bin:/usr/X11/bin:/usr/local/git/bin:/opt/local/bin:/usr/local/texlive/2015/bin/universal-darwin:/Users/danbryce/Documents/sift/silver-surfer/trunk/code/externals/dreal-git/bin/:/Library/TeX/texbin:/Library/TeX/texbin:/Users/danbryce/sd2e-cloud-cli/bin:/Users/danbryce/sd2e-cloud-cli/bin', 'CIRCA_BASEPORT': '23000', 'PWD': '/Users/danbryce/Documents/sift/xplan/external/xplan/xplan-to-autoprotocol-reactor/pysd2cat/notebooks', 'HOMEBREW_GITHUB_API_TOKEN': '18c8d751d57585c6d813894389920e8fc32c934a', 'JAVA_HOME': '/Library/Java/JavaVirtualMachines/jdk1.8.0_45.jdk/Contents/Home/', 'LANG': 'en_US.UTF-8', 'XPC_FLAGS': '0x0', 'PS1': '(xplan) \\\\h:\\\\W \\\\u\\\\$ ', 'XPC_SERVICE_NAME': '0', 'CIRCA_MM_HOST': 'localhost', 'HOME': '/Users/danbryce', 'SHLVL': '1', 'UDG_ICONDIR': '/Applications/uDrawGraph-3.1/icons:/Users/danbryce/Documents/sift/circa/code/csm/icons', 'DYLD_LIBRARY_PATH': '/usr/local/lib/dreal/:/usr/local/lib/dreal/:', 'LOGNAME': 'danbryce', 'DISPLAY': '/private/tmp/com.apple.launchd.3m2Y65jUE5/org.macosforge.xquartz:0', 'CIRCA_HOME': '/Users/danbryce/Documents/sift/circa', 'SECURITYSESSIONID': '186a8', '_': '/Users/danbryce/xplan/bin/jupyter', 'OLDPWD': '/Users/danbryce/Documents/sift/xplan/notebooks', '__CF_USER_TEXT_ENCODING': '0x1F5:0x0:0x0', 'JPY_PARENT_PID': '71820', 'CLICOLOR': '1', 'PAGER': 'cat', 'GIT_PAGER': 'cat', 'MPLBACKEND': 'module://ipykernel.pylab.backend_inline'})\n",
      "runtime: cli\n",
      "Getting xplan dataframe for experiment...\n",
      "record[filename]: /work/projects/SD2E-Community/prod/data/transcriptic/201808/yeast_gates/r1c5vad8u7ve2_r1c66q7cru28u/SpheroControl2__2_H12.fcs\n",
      "record[filename]: /work/projects/SD2E-Community/prod/data/transcriptic/201808/yeast_gates/r1c5vad8u7ve2_r1c66q7cru28u/SpheroControl1__1_G12.fcs\n",
      "record[filename]: /work/projects/SD2E-Community/prod/data/transcriptic/201808/yeast_gates/r1c5vad8u7ve2_r1c66q7cru28u/8542_0.0003_1_A1.fcs\n",
      "record[filename]: /work/projects/SD2E-Community/prod/data/transcriptic/201808/yeast_gates/r1c5vad8u7ve2_r1c66q7cru28u/8542_0.00075_1_C9.fcs\n",
      "record[filename]: /work/projects/SD2E-Community/prod/data/transcriptic/201808/yeast_gates/r1c5vad8u7ve2_r1c66q7cru28u/WT-Live-Control_0.0003__A12.fcs\n",
      "record[filename]: /work/projects/SD2E-Community/prod/data/transcriptic/201808/yeast_gates/r1c5vad8u7ve2_r1c66q7cru28u/7299_0.0003_1_C8.fcs\n",
      "record[filename]: /work/projects/SD2E-Community/prod/data/transcriptic/201808/yeast_gates/r1c5vad8u7ve2_r1c66q7cru28u/8231_0.00075_2_A2.fcs\n",
      "record[filename]: /work/projects/SD2E-Community/prod/data/transcriptic/201808/yeast_gates/r1c5vad8u7ve2_r1c66q7cru28u/NOR-00-Control_0.0003__C12.fcs\n",
      "record[filename]: /work/projects/SD2E-Community/prod/data/transcriptic/201808/yeast_gates/r1c5vad8u7ve2_r1c66q7cru28u/8544_0.00075_1_A3.fcs\n",
      "record[filename]: /work/projects/SD2E-Community/prod/data/transcriptic/201808/yeast_gates/r1c5vad8u7ve2_r1c66q7cru28u/7377_0.00075_1_A7.fcs\n",
      "record[filename]: /work/projects/SD2E-Community/prod/data/transcriptic/201808/yeast_gates/r1c5vad8u7ve2_r1c66q7cru28u/7299_0.0003_1_A6.fcs\n",
      "record[filename]: /work/projects/SD2E-Community/prod/data/transcriptic/201808/yeast_gates/r1c5vad8u7ve2_r1c66q7cru28u/6390_0.0003_1_B8.fcs\n",
      "record[filename]: /work/projects/SD2E-Community/prod/data/transcriptic/201808/yeast_gates/r1c5vad8u7ve2_r1c66q7cru28u/7374_0.0003_1_A4.fcs\n",
      "record[filename]: /work/projects/SD2E-Community/prod/data/transcriptic/201808/yeast_gates/r1c5vad8u7ve2_r1c66q7cru28u/5993_0.0003_1_A5.fcs\n",
      "record[filename]: /work/projects/SD2E-Community/prod/data/transcriptic/201808/yeast_gates/r1c5vad8u7ve2_r1c66q7cru28u/7299_0.0003_1_B9.fcs\n",
      "record[filename]: /work/projects/SD2E-Community/prod/data/transcriptic/201808/yeast_gates/r1c5vad8u7ve2_r1c66q7cru28u/WT-Dead-Control_0.0003__B12.fcs\n",
      "record[filename]: /work/projects/SD2E-Community/prod/data/transcriptic/201808/yeast_gates/r1c5vad8u7ve2_r1c66q7cru28u/6390_0.00075_1_G2.fcs\n",
      "record[filename]: /work/projects/SD2E-Community/prod/data/transcriptic/201808/yeast_gates/r1c5vad8u7ve2_r1c66q7cru28u/5783_0.00075_3_F6.fcs\n",
      "record[filename]: /work/projects/SD2E-Community/prod/data/transcriptic/201808/yeast_gates/r1c5vad8u7ve2_r1c66q7cru28u/8231_0.0003_2_F7.fcs\n",
      "record[filename]: /work/projects/SD2E-Community/prod/data/transcriptic/201808/yeast_gates/r1c5vad8u7ve2_r1c66q7cru28u/7300_0.00075_1_G3.fcs\n",
      "record[filename]: /work/projects/SD2E-Community/prod/data/transcriptic/201808/yeast_gates/r1c5vad8u7ve2_r1c66q7cru28u/7377_0.0003_1_F5.fcs\n",
      "record[filename]: /work/projects/SD2E-Community/prod/data/transcriptic/201808/yeast_gates/r1c5vad8u7ve2_r1c66q7cru28u/6391_0.00075_1_G1.fcs\n",
      "record[filename]: /work/projects/SD2E-Community/prod/data/transcriptic/201808/yeast_gates/r1c5vad8u7ve2_r1c66q7cru28u/7299_0.0003_1_E9.fcs\n",
      "record[filename]: /work/projects/SD2E-Community/prod/data/transcriptic/201808/yeast_gates/r1c5vad8u7ve2_r1c66q7cru28u/7300_0.00075_1_E8.fcs\n",
      "record[filename]: /work/projects/SD2E-Community/prod/data/transcriptic/201808/yeast_gates/r1c5vad8u7ve2_r1c66q7cru28u/6389_0.00075_3_F4.fcs\n",
      "record[filename]: /work/projects/SD2E-Community/prod/data/transcriptic/201808/yeast_gates/r1c5vad8u7ve2_r1c66q7cru28u/8544_0.0003_1_D8.fcs\n",
      "record[filename]: /work/projects/SD2E-Community/prod/data/transcriptic/201808/yeast_gates/r1c5vad8u7ve2_r1c66q7cru28u/16967_0.0003_1_G4.fcs\n",
      "record[filename]: /work/projects/SD2E-Community/prod/data/transcriptic/201808/yeast_gates/r1c5vad8u7ve2_r1c66q7cru28u/8545_0.0003_2_H11.fcs\n",
      "record[filename]: /work/projects/SD2E-Community/prod/data/transcriptic/201808/yeast_gates/r1c5vad8u7ve2_r1c66q7cru28u/7377_0.00075_1_H10.fcs\n",
      "record[filename]: /work/projects/SD2E-Community/prod/data/transcriptic/201808/yeast_gates/r1c5vad8u7ve2_r1c66q7cru28u/7299_0.00075_1_G5.fcs\n",
      "record[filename]: /work/projects/SD2E-Community/prod/data/transcriptic/201808/yeast_gates/r1c5vad8u7ve2_r1c66q7cru28u/16970_0.0003_1_F1.fcs\n",
      "record[filename]: /work/projects/SD2E-Community/prod/data/transcriptic/201808/yeast_gates/r1c5vad8u7ve2_r1c66q7cru28u/6389_0.00075_3_D9.fcs\n",
      "record[filename]: /work/projects/SD2E-Community/prod/data/transcriptic/201808/yeast_gates/r1c5vad8u7ve2_r1c66q7cru28u/7377_0.00075_1_G7.fcs\n",
      "record[filename]: /work/projects/SD2E-Community/prod/data/transcriptic/201808/yeast_gates/r1c5vad8u7ve2_r1c66q7cru28u/7376_0.00075_1_F3.fcs\n",
      "record[filename]: /work/projects/SD2E-Community/prod/data/transcriptic/201808/yeast_gates/r1c5vad8u7ve2_r1c66q7cru28u/8231_0.0003_2_H8.fcs\n",
      "record[filename]: /work/projects/SD2E-Community/prod/data/transcriptic/201808/yeast_gates/r1c5vad8u7ve2_r1c66q7cru28u/SizeBeadControl___F12.fcs\n",
      "record[filename]: /work/projects/SD2E-Community/prod/data/transcriptic/201808/yeast_gates/r1c5vad8u7ve2_r1c66q7cru28u/7374_0.00075_1_H9.fcs\n",
      "record[filename]: /work/projects/SD2E-Community/prod/data/transcriptic/201808/yeast_gates/r1c5vad8u7ve2_r1c66q7cru28u/8545_0.00075_2_F2.fcs\n",
      "record[filename]: /work/projects/SD2E-Community/prod/data/transcriptic/201808/yeast_gates/r1c5vad8u7ve2_r1c66q7cru28u/6390_0.0003_1_G6.fcs\n",
      "record[filename]: /work/projects/SD2E-Community/prod/data/transcriptic/201808/yeast_gates/r1c5vad8u7ve2_r1c66q7cru28u/16969_0.00075_1_E3.fcs\n",
      "record[filename]: /work/projects/SD2E-Community/prod/data/transcriptic/201808/yeast_gates/r1c5vad8u7ve2_r1c66q7cru28u/7299_0.00075_1_D7.fcs\n",
      "record[filename]: /work/projects/SD2E-Community/prod/data/transcriptic/201808/yeast_gates/r1c5vad8u7ve2_r1c66q7cru28u/7376_0.0003_1_H4.fcs\n",
      "record[filename]: /work/projects/SD2E-Community/prod/data/transcriptic/201808/yeast_gates/r1c5vad8u7ve2_r1c66q7cru28u/6389_0.0003_3_F11.fcs\n",
      "record[filename]: /work/projects/SD2E-Community/prod/data/transcriptic/201808/yeast_gates/r1c5vad8u7ve2_r1c66q7cru28u/16967_0.00075_1_F10.fcs\n",
      "record[filename]: /work/projects/SD2E-Community/prod/data/transcriptic/201808/yeast_gates/r1c5vad8u7ve2_r1c66q7cru28u/16968_0.0003_3_H5.fcs\n",
      "record[filename]: /work/projects/SD2E-Community/prod/data/transcriptic/201808/yeast_gates/r1c5vad8u7ve2_r1c66q7cru28u/7377_0.0003_1_D6.fcs\n",
      "record[filename]: /work/projects/SD2E-Community/prod/data/transcriptic/201808/yeast_gates/r1c5vad8u7ve2_r1c66q7cru28u/8542_0.00075_1_E2.fcs\n",
      "record[filename]: /work/projects/SD2E-Community/prod/data/transcriptic/201808/yeast_gates/r1c5vad8u7ve2_r1c66q7cru28u/5993_0.00075_1_D4.fcs\n",
      "record[filename]: /work/projects/SD2E-Community/prod/data/transcriptic/201808/yeast_gates/r1c5vad8u7ve2_r1c66q7cru28u/7373_0.0003_1_G8.fcs\n",
      "record[filename]: /work/projects/SD2E-Community/prod/data/transcriptic/201808/yeast_gates/r1c5vad8u7ve2_r1c66q7cru28u/8543_0.0003_1_H7.fcs\n",
      "record[filename]: /work/projects/SD2E-Community/prod/data/transcriptic/201808/yeast_gates/r1c5vad8u7ve2_r1c66q7cru28u/7300_0.0003_1_D10.fcs\n",
      "record[filename]: /work/projects/SD2E-Community/prod/data/transcriptic/201808/yeast_gates/r1c5vad8u7ve2_r1c66q7cru28u/8544_0.00075_1_D11.fcs\n",
      "record[filename]: /work/projects/SD2E-Community/prod/data/transcriptic/201808/yeast_gates/r1c5vad8u7ve2_r1c66q7cru28u/16968_0.00075_3_H6.fcs\n",
      "record[filename]: /work/projects/SD2E-Community/prod/data/transcriptic/201808/yeast_gates/r1c5vad8u7ve2_r1c66q7cru28u/7299_0.00075_1_G9.fcs\n",
      "record[filename]: /work/projects/SD2E-Community/prod/data/transcriptic/201808/yeast_gates/r1c5vad8u7ve2_r1c66q7cru28u/16970_0.00075_1_E1.fcs\n",
      "record[filename]: /work/projects/SD2E-Community/prod/data/transcriptic/201808/yeast_gates/r1c5vad8u7ve2_r1c66q7cru28u/6389_0.0003_3_D5.fcs\n",
      "record[filename]: /work/projects/SD2E-Community/prod/data/transcriptic/201808/yeast_gates/r1c5vad8u7ve2_r1c66q7cru28u/7300_0.00075_1_F9.fcs\n",
      "record[filename]: /work/projects/SD2E-Community/prod/data/transcriptic/201808/yeast_gates/r1c5vad8u7ve2_r1c66q7cru28u/8231_0.0003_2_D1.fcs\n",
      "record[filename]: /work/projects/SD2E-Community/prod/data/transcriptic/201808/yeast_gates/r1c5vad8u7ve2_r1c66q7cru28u/6388_0.00075_1_E5.fcs\n",
      "record[filename]: /work/projects/SD2E-Community/prod/data/transcriptic/201808/yeast_gates/r1c5vad8u7ve2_r1c66q7cru28u/7375_0.0003_2_H2.fcs\n",
      "record[filename]: /work/projects/SD2E-Community/prod/data/transcriptic/201808/yeast_gates/r1c5vad8u7ve2_r1c66q7cru28u/8544_0.0003_1_H3.fcs\n",
      "record[filename]: /work/projects/SD2E-Community/prod/data/transcriptic/201808/yeast_gates/r1c5vad8u7ve2_r1c66q7cru28u/6391_0.00075_1_E4.fcs\n",
      "record[filename]: /work/projects/SD2E-Community/prod/data/transcriptic/201808/yeast_gates/r1c5vad8u7ve2_r1c66q7cru28u/7300_0.0003_1_F8.fcs\n",
      "record[filename]: /work/projects/SD2E-Community/prod/data/transcriptic/201808/yeast_gates/r1c5vad8u7ve2_r1c66q7cru28u/8231_0.00075_2_B10.fcs\n",
      "record[filename]: /work/projects/SD2E-Community/prod/data/transcriptic/201808/yeast_gates/r1c5vad8u7ve2_r1c66q7cru28u/7377_0.0003_1_E6.fcs\n",
      "record[filename]: /work/projects/SD2E-Community/prod/data/transcriptic/201808/yeast_gates/r1c5vad8u7ve2_r1c66q7cru28u/5992_0.0003_1_D2.fcs\n",
      "record[filename]: /work/projects/SD2E-Community/prod/data/transcriptic/201808/yeast_gates/r1c5vad8u7ve2_r1c66q7cru28u/7377_0.00075_1_H1.fcs\n",
      "record[filename]: /work/projects/SD2E-Community/prod/data/transcriptic/201808/yeast_gates/r1c5vad8u7ve2_r1c66q7cru28u/8543_0.0003_1_D3.fcs\n",
      "record[filename]: /work/projects/SD2E-Community/prod/data/transcriptic/201808/yeast_gates/r1c5vad8u7ve2_r1c66q7cru28u/8231_0.00075_2_E7.fcs\n",
      "record[filename]: /work/projects/SD2E-Community/prod/data/transcriptic/201808/yeast_gates/r1c5vad8u7ve2_r1c66q7cru28u/5783_0.0003_3_B11.fcs\n",
      "record[filename]: /work/projects/SD2E-Community/prod/data/transcriptic/201808/yeast_gates/r1c5vad8u7ve2_r1c66q7cru28u/7300_0.0003_1_E10.fcs\n",
      "record[filename]: /work/projects/SD2E-Community/prod/data/transcriptic/201808/yeast_gates/r1c5vad8u7ve2_r1c66q7cru28u/7299_0.00075_1_B4.fcs\n",
      "record[filename]: /work/projects/SD2E-Community/prod/data/transcriptic/201808/yeast_gates/r1c5vad8u7ve2_r1c66q7cru28u/7300_0.0003_1_A8.fcs\n",
      "record[filename]: /work/projects/SD2E-Community/prod/data/transcriptic/201808/yeast_gates/r1c5vad8u7ve2_r1c66q7cru28u/8231_0.0003_2_A9.fcs\n",
      "record[filename]: /work/projects/SD2E-Community/prod/data/transcriptic/201808/yeast_gates/r1c5vad8u7ve2_r1c66q7cru28u/7377_0.0003_1_B5.fcs\n",
      "record[filename]: /work/projects/SD2E-Community/prod/data/transcriptic/201808/yeast_gates/r1c5vad8u7ve2_r1c66q7cru28u/8231_0.00075_2_C1.fcs\n",
      "record[filename]: /work/projects/SD2E-Community/prod/data/transcriptic/201808/yeast_gates/r1c5vad8u7ve2_r1c66q7cru28u/6388_0.0003_1_E11.fcs\n",
      "record[filename]: /work/projects/SD2E-Community/prod/data/transcriptic/201808/yeast_gates/r1c5vad8u7ve2_r1c66q7cru28u/8225_0.0003_1_B7.fcs\n",
      "record[filename]: /work/projects/SD2E-Community/prod/data/transcriptic/201808/yeast_gates/r1c5vad8u7ve2_r1c66q7cru28u/6388_0.0003_1_C3.fcs\n",
      "record[filename]: /work/projects/SD2E-Community/prod/data/transcriptic/201808/yeast_gates/r1c5vad8u7ve2_r1c66q7cru28u/8543_0.00075_1_G11.fcs\n",
      "record[filename]: /work/projects/SD2E-Community/prod/data/transcriptic/201808/yeast_gates/r1c5vad8u7ve2_r1c66q7cru28u/8543_0.00075_1_G10.fcs\n",
      "record[filename]: /work/projects/SD2E-Community/prod/data/transcriptic/201808/yeast_gates/r1c5vad8u7ve2_r1c66q7cru28u/6390_0.00075_1_C2.fcs\n",
      "record[filename]: /work/projects/SD2E-Community/prod/data/transcriptic/201808/yeast_gates/r1c5vad8u7ve2_r1c66q7cru28u/8542_0.0003_1_B6.fcs\n",
      "record[filename]: /work/projects/SD2E-Community/prod/data/transcriptic/201808/yeast_gates/r1c5vad8u7ve2_r1c66q7cru28u/8545_0.00075_2_B2.fcs\n",
      "record[filename]: /work/projects/SD2E-Community/prod/data/transcriptic/201808/yeast_gates/r1c5vad8u7ve2_r1c66q7cru28u/16969_0.0003_1_C6.fcs\n",
      "record[filename]: /work/projects/SD2E-Community/prod/data/transcriptic/201808/yeast_gates/r1c5vad8u7ve2_r1c66q7cru28u/8545_0.0003_2_C10.fcs\n",
      "record[filename]: /work/projects/SD2E-Community/prod/data/transcriptic/201808/yeast_gates/r1c5vad8u7ve2_r1c66q7cru28u/6391_0.0003_1_C11.fcs\n",
      "record[filename]: /work/projects/SD2E-Community/prod/data/transcriptic/201808/yeast_gates/r1c5vad8u7ve2_r1c66q7cru28u/8225_0.00075_1_C7.fcs\n",
      "record[filename]: /work/projects/SD2E-Community/prod/data/transcriptic/201808/yeast_gates/r1c5vad8u7ve2_r1c66q7cru28u/7375_0.00075_2_B3.fcs\n",
      "record[filename]: /work/projects/SD2E-Community/prod/data/transcriptic/201808/yeast_gates/r1c5vad8u7ve2_r1c66q7cru28u/6388_0.00075_1_C5.fcs\n",
      "record[filename]: /work/projects/SD2E-Community/prod/data/transcriptic/201808/yeast_gates/r1c5vad8u7ve2_r1c66q7cru28u/7373_0.00075_1_B1.fcs\n",
      "record[filename]: /work/projects/SD2E-Community/prod/data/transcriptic/201808/yeast_gates/r1c5vad8u7ve2_r1c66q7cru28u/5992_0.00075_1_A11.fcs\n",
      "record[filename]: /work/projects/SD2E-Community/prod/data/transcriptic/201808/yeast_gates/r1c5vad8u7ve2_r1c66q7cru28u/6391_0.0003_1_A10.fcs\n",
      "record[filename]: /work/projects/SD2E-Community/prod/data/transcriptic/201808/yeast_gates/r1c5vad8u7ve2_r1c66q7cru28u/7300_0.00075_1_C4.fcs\n",
      "metadata_df\n",
      "['experiment_id', 'filename', 'lab', 'media', 'od', 'output', 'replicate', 'sample_id', 'strain', 'strain_circuit', 'strain_input_state', 'temperature']\n",
      "                                         experiment_id                                                                                                                             filename           lab               media       od output replicate                                                                               sample_id           strain strain_circuit strain_input_state  temperature\n",
      "0  experiment.transcriptic.r1c5vad8u7ve2_r1c66q7cru28u  /work/projects/SD2E-Community/prod/data/transcriptic/201808/yeast_gates/r1c5vad8u7ve2_r1c66q7cru28u/SpheroControl2__2_H12.fcs        transcriptic  Synthetic_Complete  None     None   2         sample.transcriptic.aq1c6a47v8k4tc.experiment.transcriptic.r1c5vad8u7ve2_r1c66q7cru28u  SpheroControl2   None           None               30.0       \n",
      "1  experiment.transcriptic.r1c5vad8u7ve2_r1c66q7cru28u  /work/projects/SD2E-Community/prod/data/transcriptic/201808/yeast_gates/r1c5vad8u7ve2_r1c66q7cru28u/SpheroControl1__1_G12.fcs        transcriptic  Synthetic_Complete  None     None   1         sample.transcriptic.aq1c6a47v7w7xr.experiment.transcriptic.r1c5vad8u7ve2_r1c66q7cru28u  SpheroControl1   None           None               30.0       \n",
      "2  experiment.transcriptic.r1c5vad8u7ve2_r1c66q7cru28u  /work/projects/SD2E-Community/prod/data/transcriptic/201808/yeast_gates/r1c5vad8u7ve2_r1c66q7cru28u/8542_0.0003_1_A1.fcs             transcriptic  Synthetic_Complete  0.0003   0      1         sample.transcriptic.aq1c6a47v3m54u.experiment.transcriptic.r1c5vad8u7ve2_r1c66q7cru28u  UWBF_NAND_11     NAND           11                 30.0       \n",
      "3  experiment.transcriptic.r1c5vad8u7ve2_r1c66q7cru28u  /work/projects/SD2E-Community/prod/data/transcriptic/201808/yeast_gates/r1c5vad8u7ve2_r1c66q7cru28u/8542_0.00075_1_C9.fcs            transcriptic  Synthetic_Complete  0.00075  0      1         sample.transcriptic.aq1c6a47v57mha.experiment.transcriptic.r1c5vad8u7ve2_r1c66q7cru28u  UWBF_NAND_11     NAND           11                 30.0       \n",
      "4  experiment.transcriptic.r1c5vad8u7ve2_r1c66q7cru28u  /work/projects/SD2E-Community/prod/data/transcriptic/201808/yeast_gates/r1c5vad8u7ve2_r1c66q7cru28u/WT-Live-Control_0.0003__A12.fcs  transcriptic  Synthetic_Complete  0.0003   None   None      sample.transcriptic.aq1c6a47v45mkb.experiment.transcriptic.r1c5vad8u7ve2_r1c66q7cru28u  WT-Live-Control  None           None               30.0       \n",
      "all_data_df\n",
      "[]\n",
      "Empty DataFrame\n",
      "Columns: []\n",
      "Index: []\n"
     ]
    },
    {
     "ename": "KeyError",
     "evalue": "'filename'",
     "output_type": "error",
     "traceback": [
      "\u001b[0;31m---------------------------------------------------------------------------\u001b[0m",
      "\u001b[0;31mKeyError\u001b[0m                                  Traceback (most recent call last)",
      "\u001b[0;32m<ipython-input-3-49942f3e7a66>\u001b[0m in \u001b[0;36m<module>\u001b[0;34m\u001b[0m\n\u001b[1;32m      4\u001b[0m \u001b[0msamples\u001b[0m \u001b[0;34m=\u001b[0m \u001b[0mpipeline\u001b[0m\u001b[0;34m.\u001b[0m\u001b[0mget_experiment_samples\u001b[0m\u001b[0;34m(\u001b[0m\u001b[0mex_id\u001b[0m\u001b[0;34m,\u001b[0m \u001b[0;34m'FCS'\u001b[0m\u001b[0;34m)\u001b[0m\u001b[0;34m\u001b[0m\u001b[0m\n\u001b[1;32m      5\u001b[0m \u001b[0msample_records\u001b[0m \u001b[0;34m=\u001b[0m \u001b[0mpipeline\u001b[0m\u001b[0;34m.\u001b[0m\u001b[0mget_metadata_dataframe\u001b[0m\u001b[0;34m(\u001b[0m\u001b[0msamples\u001b[0m\u001b[0;34m)\u001b[0m\u001b[0;34m.\u001b[0m\u001b[0mdrop_duplicates\u001b[0m\u001b[0;34m(\u001b[0m\u001b[0;34m)\u001b[0m\u001b[0;34m\u001b[0m\u001b[0m\n\u001b[0;32m----> 6\u001b[0;31m \u001b[0mdf\u001b[0m \u001b[0;34m=\u001b[0m \u001b[0mpipeline\u001b[0m\u001b[0;34m.\u001b[0m\u001b[0mget_xplan_data_and_metadata_df\u001b[0m\u001b[0;34m(\u001b[0m\u001b[0msample_records\u001b[0m\u001b[0;34m,\u001b[0m \u001b[0;34m''\u001b[0m\u001b[0;34m,\u001b[0m \u001b[0mmax_records\u001b[0m\u001b[0;34m=\u001b[0m\u001b[0;36m300\u001b[0m\u001b[0;34m)\u001b[0m\u001b[0;34m\u001b[0m\u001b[0m\n\u001b[0m\u001b[1;32m      7\u001b[0m \u001b[0mdf\u001b[0m \u001b[0;34m=\u001b[0m \u001b[0madd_live_dead_test_harness\u001b[0m\u001b[0;34m(\u001b[0m\u001b[0mdf\u001b[0m\u001b[0;34m)\u001b[0m\u001b[0;34m\u001b[0m\u001b[0m\n",
      "\u001b[0;32m~/Documents/sift/xplan/external/xplan/xplan-to-autoprotocol-reactor/pysd2cat/src/pysd2cat/data/pipeline.py\u001b[0m in \u001b[0;36mget_xplan_data_and_metadata_df\u001b[0;34m(metadata_df, data_dir, fraction, max_records)\u001b[0m\n\u001b[1;32m    339\u001b[0m     \"\"\"\n\u001b[1;32m    340\u001b[0m     \u001b[0mprint\u001b[0m\u001b[0;34m(\u001b[0m\u001b[0;34m\"Getting xplan dataframe for experiment...\"\u001b[0m\u001b[0;34m)\u001b[0m\u001b[0;34m\u001b[0m\u001b[0m\n\u001b[0;32m--> 341\u001b[0;31m     \u001b[0mdf\u001b[0m \u001b[0;34m=\u001b[0m \u001b[0mget_data_and_metadata_df\u001b[0m\u001b[0;34m(\u001b[0m\u001b[0mmetadata_df\u001b[0m\u001b[0;34m,\u001b[0m \u001b[0mdata_dir\u001b[0m\u001b[0;34m,\u001b[0m \u001b[0mfraction\u001b[0m\u001b[0;34m=\u001b[0m\u001b[0mfraction\u001b[0m\u001b[0;34m,\u001b[0m \u001b[0mmax_records\u001b[0m\u001b[0;34m=\u001b[0m\u001b[0mmax_records\u001b[0m\u001b[0;34m)\u001b[0m\u001b[0;34m\u001b[0m\u001b[0m\n\u001b[0m\u001b[1;32m    342\u001b[0m     rename_map = {\n\u001b[1;32m    343\u001b[0m \u001b[0;31m#        \"experiment_id\" : \"plan\",\u001b[0m\u001b[0;34m\u001b[0m\u001b[0;34m\u001b[0m\u001b[0m\n",
      "\u001b[0;32m~/Documents/sift/xplan/external/xplan/xplan-to-autoprotocol-reactor/pysd2cat/src/pysd2cat/data/pipeline.py\u001b[0m in \u001b[0;36mget_data_and_metadata_df\u001b[0;34m(metadata_df, data_dir, fraction, max_records)\u001b[0m\n\u001b[1;32m    328\u001b[0m     \u001b[0mprint\u001b[0m\u001b[0;34m(\u001b[0m\u001b[0mall_data_df\u001b[0m\u001b[0;34m.\u001b[0m\u001b[0mcolumns\u001b[0m\u001b[0;34m.\u001b[0m\u001b[0mtolist\u001b[0m\u001b[0;34m(\u001b[0m\u001b[0;34m)\u001b[0m\u001b[0;34m)\u001b[0m\u001b[0;34m\u001b[0m\u001b[0m\n\u001b[1;32m    329\u001b[0m     \u001b[0mprint\u001b[0m\u001b[0;34m(\u001b[0m\u001b[0mall_data_df\u001b[0m\u001b[0;34m.\u001b[0m\u001b[0mhead\u001b[0m\u001b[0;34m(\u001b[0m\u001b[0;36m5\u001b[0m\u001b[0;34m)\u001b[0m\u001b[0;34m)\u001b[0m\u001b[0;34m\u001b[0m\u001b[0m\n\u001b[0;32m--> 330\u001b[0;31m     \u001b[0mfinal_df\u001b[0m \u001b[0;34m=\u001b[0m \u001b[0mmetadata_df\u001b[0m\u001b[0;34m.\u001b[0m\u001b[0mmerge\u001b[0m\u001b[0;34m(\u001b[0m\u001b[0mall_data_df\u001b[0m\u001b[0;34m,\u001b[0m \u001b[0mleft_on\u001b[0m\u001b[0;34m=\u001b[0m\u001b[0;34m'filename'\u001b[0m\u001b[0;34m,\u001b[0m \u001b[0mright_on\u001b[0m\u001b[0;34m=\u001b[0m\u001b[0;34m'filename'\u001b[0m\u001b[0;34m,\u001b[0m \u001b[0mhow\u001b[0m\u001b[0;34m=\u001b[0m\u001b[0;34m'inner'\u001b[0m\u001b[0;34m)\u001b[0m\u001b[0;34m\u001b[0m\u001b[0m\n\u001b[0m\u001b[1;32m    331\u001b[0m     \u001b[0;32mreturn\u001b[0m \u001b[0mfinal_df\u001b[0m\u001b[0;34m\u001b[0m\u001b[0m\n\u001b[1;32m    332\u001b[0m \u001b[0;34m\u001b[0m\u001b[0m\n",
      "\u001b[0;32m~/xplan/lib/python3.6/site-packages/pandas/core/frame.py\u001b[0m in \u001b[0;36mmerge\u001b[0;34m(self, right, how, on, left_on, right_on, left_index, right_index, sort, suffixes, copy, indicator, validate)\u001b[0m\n\u001b[1;32m   6387\u001b[0m                      \u001b[0mright_on\u001b[0m\u001b[0;34m=\u001b[0m\u001b[0mright_on\u001b[0m\u001b[0;34m,\u001b[0m \u001b[0mleft_index\u001b[0m\u001b[0;34m=\u001b[0m\u001b[0mleft_index\u001b[0m\u001b[0;34m,\u001b[0m\u001b[0;34m\u001b[0m\u001b[0m\n\u001b[1;32m   6388\u001b[0m                      \u001b[0mright_index\u001b[0m\u001b[0;34m=\u001b[0m\u001b[0mright_index\u001b[0m\u001b[0;34m,\u001b[0m \u001b[0msort\u001b[0m\u001b[0;34m=\u001b[0m\u001b[0msort\u001b[0m\u001b[0;34m,\u001b[0m \u001b[0msuffixes\u001b[0m\u001b[0;34m=\u001b[0m\u001b[0msuffixes\u001b[0m\u001b[0;34m,\u001b[0m\u001b[0;34m\u001b[0m\u001b[0m\n\u001b[0;32m-> 6389\u001b[0;31m                      copy=copy, indicator=indicator, validate=validate)\n\u001b[0m\u001b[1;32m   6390\u001b[0m \u001b[0;34m\u001b[0m\u001b[0m\n\u001b[1;32m   6391\u001b[0m     \u001b[0;32mdef\u001b[0m \u001b[0mround\u001b[0m\u001b[0;34m(\u001b[0m\u001b[0mself\u001b[0m\u001b[0;34m,\u001b[0m \u001b[0mdecimals\u001b[0m\u001b[0;34m=\u001b[0m\u001b[0;36m0\u001b[0m\u001b[0;34m,\u001b[0m \u001b[0;34m*\u001b[0m\u001b[0margs\u001b[0m\u001b[0;34m,\u001b[0m \u001b[0;34m**\u001b[0m\u001b[0mkwargs\u001b[0m\u001b[0;34m)\u001b[0m\u001b[0;34m:\u001b[0m\u001b[0;34m\u001b[0m\u001b[0m\n",
      "\u001b[0;32m~/xplan/lib/python3.6/site-packages/pandas/core/reshape/merge.py\u001b[0m in \u001b[0;36mmerge\u001b[0;34m(left, right, how, on, left_on, right_on, left_index, right_index, sort, suffixes, copy, indicator, validate)\u001b[0m\n\u001b[1;32m     59\u001b[0m                          \u001b[0mright_index\u001b[0m\u001b[0;34m=\u001b[0m\u001b[0mright_index\u001b[0m\u001b[0;34m,\u001b[0m \u001b[0msort\u001b[0m\u001b[0;34m=\u001b[0m\u001b[0msort\u001b[0m\u001b[0;34m,\u001b[0m \u001b[0msuffixes\u001b[0m\u001b[0;34m=\u001b[0m\u001b[0msuffixes\u001b[0m\u001b[0;34m,\u001b[0m\u001b[0;34m\u001b[0m\u001b[0m\n\u001b[1;32m     60\u001b[0m                          \u001b[0mcopy\u001b[0m\u001b[0;34m=\u001b[0m\u001b[0mcopy\u001b[0m\u001b[0;34m,\u001b[0m \u001b[0mindicator\u001b[0m\u001b[0;34m=\u001b[0m\u001b[0mindicator\u001b[0m\u001b[0;34m,\u001b[0m\u001b[0;34m\u001b[0m\u001b[0m\n\u001b[0;32m---> 61\u001b[0;31m                          validate=validate)\n\u001b[0m\u001b[1;32m     62\u001b[0m     \u001b[0;32mreturn\u001b[0m \u001b[0mop\u001b[0m\u001b[0;34m.\u001b[0m\u001b[0mget_result\u001b[0m\u001b[0;34m(\u001b[0m\u001b[0;34m)\u001b[0m\u001b[0;34m\u001b[0m\u001b[0m\n\u001b[1;32m     63\u001b[0m \u001b[0;34m\u001b[0m\u001b[0m\n",
      "\u001b[0;32m~/xplan/lib/python3.6/site-packages/pandas/core/reshape/merge.py\u001b[0m in \u001b[0;36m__init__\u001b[0;34m(self, left, right, how, on, left_on, right_on, axis, left_index, right_index, sort, suffixes, copy, indicator, validate)\u001b[0m\n\u001b[1;32m    549\u001b[0m         (self.left_join_keys,\n\u001b[1;32m    550\u001b[0m          \u001b[0mself\u001b[0m\u001b[0;34m.\u001b[0m\u001b[0mright_join_keys\u001b[0m\u001b[0;34m,\u001b[0m\u001b[0;34m\u001b[0m\u001b[0m\n\u001b[0;32m--> 551\u001b[0;31m          self.join_names) = self._get_merge_keys()\n\u001b[0m\u001b[1;32m    552\u001b[0m \u001b[0;34m\u001b[0m\u001b[0m\n\u001b[1;32m    553\u001b[0m         \u001b[0;31m# validate the merge keys dtypes. We may need to coerce\u001b[0m\u001b[0;34m\u001b[0m\u001b[0;34m\u001b[0m\u001b[0m\n",
      "\u001b[0;32m~/xplan/lib/python3.6/site-packages/pandas/core/reshape/merge.py\u001b[0m in \u001b[0;36m_get_merge_keys\u001b[0;34m(self)\u001b[0m\n\u001b[1;32m    855\u001b[0m                             right_keys.append(\n\u001b[1;32m    856\u001b[0m                                 right._get_label_or_level_values(\n\u001b[0;32m--> 857\u001b[0;31m                                     rk, stacklevel=stacklevel))\n\u001b[0m\u001b[1;32m    858\u001b[0m                         \u001b[0;32melse\u001b[0m\u001b[0;34m:\u001b[0m\u001b[0;34m\u001b[0m\u001b[0m\n\u001b[1;32m    859\u001b[0m                             \u001b[0;31m# work-around for merge_asof(right_index=True)\u001b[0m\u001b[0;34m\u001b[0m\u001b[0;34m\u001b[0m\u001b[0m\n",
      "\u001b[0;32m~/xplan/lib/python3.6/site-packages/pandas/core/generic.py\u001b[0m in \u001b[0;36m_get_label_or_level_values\u001b[0;34m(self, key, axis, stacklevel)\u001b[0m\n\u001b[1;32m   1380\u001b[0m             \u001b[0mvalues\u001b[0m \u001b[0;34m=\u001b[0m \u001b[0mself\u001b[0m\u001b[0;34m.\u001b[0m\u001b[0maxes\u001b[0m\u001b[0;34m[\u001b[0m\u001b[0maxis\u001b[0m\u001b[0;34m]\u001b[0m\u001b[0;34m.\u001b[0m\u001b[0mget_level_values\u001b[0m\u001b[0;34m(\u001b[0m\u001b[0mkey\u001b[0m\u001b[0;34m)\u001b[0m\u001b[0;34m.\u001b[0m\u001b[0m_values\u001b[0m\u001b[0;34m\u001b[0m\u001b[0m\n\u001b[1;32m   1381\u001b[0m         \u001b[0;32melse\u001b[0m\u001b[0;34m:\u001b[0m\u001b[0;34m\u001b[0m\u001b[0m\n\u001b[0;32m-> 1382\u001b[0;31m             \u001b[0;32mraise\u001b[0m \u001b[0mKeyError\u001b[0m\u001b[0;34m(\u001b[0m\u001b[0mkey\u001b[0m\u001b[0;34m)\u001b[0m\u001b[0;34m\u001b[0m\u001b[0m\n\u001b[0m\u001b[1;32m   1383\u001b[0m \u001b[0;34m\u001b[0m\u001b[0m\n\u001b[1;32m   1384\u001b[0m         \u001b[0;31m# Check for duplicates\u001b[0m\u001b[0;34m\u001b[0m\u001b[0;34m\u001b[0m\u001b[0m\n",
      "\u001b[0;31mKeyError\u001b[0m: 'filename'"
     ]
    }
   ],
   "source": [
    "## Get the data\n",
    "#ex_id = 'experiment.transcriptic.r1c5va879uaex_r1c639xp952g4'\n",
    "ex_id = 'experiment.transcriptic.r1c5vad8u7ve2_r1c66q7cru28u'\n",
    "samples = pipeline.get_experiment_samples(ex_id, 'FCS')\n",
    "sample_records = pipeline.get_metadata_dataframe(samples).drop_duplicates()\n",
    "df = pipeline.get_xplan_data_and_metadata_df(sample_records, '', max_records=300)\n",
    "df = add_live_dead_test_harness(df)\n"
   ]
  },
  {
   "cell_type": "code",
   "execution_count": 88,
   "metadata": {},
   "outputs": [
    {
     "name": "stderr",
     "output_type": "stream",
     "text": [
      "/home/jupyter/tacc-work/jupyter_packages/lib/python3.6/site-packages/pandas/core/indexing.py:543: SettingWithCopyWarning: \n",
      "A value is trying to be set on a copy of a slice from a DataFrame.\n",
      "Try using .loc[row_indexer,col_indexer] = value instead\n",
      "\n",
      "See the caveats in the documentation: http://pandas.pydata.org/pandas-docs/stable/indexing.html#indexing-view-versus-copy\n",
      "  self.obj[item] = s\n"
     ]
    },
    {
     "name": "stdout",
     "output_type": "stream",
     "text": [
      "▼▼▼▼▼▼▼▼▼▼▼▼▼▼▼▼▼▼▼▼▼▼▼▼▼▼▼▼▼▼▼▼▼▼▼▼▼▼▼▼▼▼▼▼▼▼▼▼▼▼▼▼▼▼▼▼▼▼▼▼▼▼▼▼▼▼▼▼▼▼▼▼▼▼▼▼▼▼▼▼▼▼▼▼▼▼▼▼▼▼▼▼▼▼▼▼▼▼▼▼\n",
      "Starting run at time 03:02:08\n",
      "Normalizing training and testing splits...\n",
      "Starting Classification training...\n",
      "Training time was: 10.14 seconds\n",
      "Testing time was: 0.63 seconds\n",
      "Prediction time of untested data was: 67.14245843887329\n",
      "\n",
      "          Run ID        Date      Time                    Model Name Model Author  Accuracy  Balanced Accuracy  AUC Score  Average Precision  F1 Score  Precision  Recall Samples In Train Samples In Test                                                                                      Model Description Column Predicted Num Features Used                                       Data and Split Description Normalized Num Features Normalized Feature Extraction Was Untested Data Predicted\n",
      "0  Q63Rv825592R3  2019-06-02  03:02:08  random_forest_classification  Hamed        0.977     0.976              0.996      0.996              0.974     0.979      0.969   43448            10863           Random Forest: n_estimators=361, max_features=auto, criterion=entropy, min_samples_leaf=13, n_jobs=-1  class_label      12                experiment.transcriptic.r1c5vad8u7ve2_r1c66q7cru28u_correctness  True       12                      False              True                      \n",
      "\n",
      "Run finished at 03:04:09. Total run time = 120.88 seconds\n",
      "▲▲▲▲▲▲▲▲▲▲▲▲▲▲▲▲▲▲▲▲▲▲▲▲▲▲▲▲▲▲▲▲▲▲▲▲▲▲▲▲▲▲▲▲▲▲▲▲▲▲▲▲▲▲▲▲▲▲▲▲▲▲▲▲▲▲▲▲▲▲▲▲▲▲▲▲▲▲▲▲▲▲▲▲▲▲▲▲▲▲▲▲▲▲▲▲▲▲▲▲\n",
      "\n"
     ]
    },
    {
     "name": "stderr",
     "output_type": "stream",
     "text": [
      "/home/jupyter/tacc-work/jupyter_packages/lib/python3.6/site-packages/pandas/core/indexing.py:543: SettingWithCopyWarning: \n",
      "A value is trying to be set on a copy of a slice from a DataFrame.\n",
      "Try using .loc[row_indexer,col_indexer] = value instead\n",
      "\n",
      "See the caveats in the documentation: http://pandas.pydata.org/pandas-docs/stable/indexing.html#indexing-view-versus-copy\n",
      "  self.obj[item] = s\n"
     ]
    },
    {
     "name": "stdout",
     "output_type": "stream",
     "text": [
      "▼▼▼▼▼▼▼▼▼▼▼▼▼▼▼▼▼▼▼▼▼▼▼▼▼▼▼▼▼▼▼▼▼▼▼▼▼▼▼▼▼▼▼▼▼▼▼▼▼▼▼▼▼▼▼▼▼▼▼▼▼▼▼▼▼▼▼▼▼▼▼▼▼▼▼▼▼▼▼▼▼▼▼▼▼▼▼▼▼▼▼▼▼▼▼▼▼▼▼▼\n",
      "Starting run at time 03:19:18\n",
      "Normalizing training and testing splits...\n",
      "Starting Classification training...\n",
      "Training time was: 6.18 seconds\n",
      "Testing time was: 0.63 seconds\n",
      "Prediction time of untested data was: 50.0169632434845\n",
      "\n",
      "          Run ID        Date      Time                    Model Name Model Author  Accuracy  Balanced Accuracy  AUC Score  Average Precision  F1 Score  Precision  Recall Samples In Train Samples In Test                                                                                      Model Description Column Predicted Num Features Used                                            Data and Split Description Normalized Num Features Normalized Feature Extraction Was Untested Data Predicted\n",
      "0  56dRYMxBe1zkw  2019-06-02  03:19:18  random_forest_classification  Hamed        0.975     0.973              0.995      0.994              0.969     0.974      0.964   40589            10148           Random Forest: n_estimators=361, max_features=auto, criterion=entropy, min_samples_leaf=13, n_jobs=-1  class_label      12                experiment.transcriptic.r1c5vad8u7ve2_r1c66q7cru28u_correctness_live  True       12                      False              True                      \n",
      "\n",
      "Run finished at 03:20:55. Total run time = 97.56 seconds\n",
      "▲▲▲▲▲▲▲▲▲▲▲▲▲▲▲▲▲▲▲▲▲▲▲▲▲▲▲▲▲▲▲▲▲▲▲▲▲▲▲▲▲▲▲▲▲▲▲▲▲▲▲▲▲▲▲▲▲▲▲▲▲▲▲▲▲▲▲▲▲▲▲▲▲▲▲▲▲▲▲▲▲▲▲▲▲▲▲▲▲▲▲▲▲▲▲▲▲▲▲▲\n",
      "\n"
     ]
    }
   ],
   "source": [
    "## Calculate different measures on data\n",
    "correctness_df = compute_correctness_all(df, high_control='NOR 00 Control')\n"
   ]
  },
  {
   "cell_type": "code",
   "execution_count": 89,
   "metadata": {},
   "outputs": [
    {
     "data": {
      "text/html": [
       "<table border=\"1\" class=\"dataframe custom_classification_leaderboard\">\n",
       "  <thead>\n",
       "    <tr style=\"text-align: right;\">\n",
       "      <th>Run ID</th>\n",
       "      <th>Date</th>\n",
       "      <th>Time</th>\n",
       "      <th>Model Name</th>\n",
       "      <th>Model Author</th>\n",
       "      <th>Accuracy</th>\n",
       "      <th>Balanced Accuracy</th>\n",
       "      <th>AUC Score</th>\n",
       "      <th>Average Precision</th>\n",
       "      <th>F1 Score</th>\n",
       "      <th>Precision</th>\n",
       "      <th>Recall</th>\n",
       "      <th>Samples In Train</th>\n",
       "      <th>Samples In Test</th>\n",
       "      <th>Model Description</th>\n",
       "      <th>Column Predicted</th>\n",
       "      <th>Num Features Used</th>\n",
       "      <th>Data and Split Description</th>\n",
       "      <th>Normalized</th>\n",
       "      <th>Num Features Normalized</th>\n",
       "      <th>Feature Extraction</th>\n",
       "      <th>Was Untested Data Predicted</th>\n",
       "    </tr>\n",
       "  </thead>\n",
       "  <tbody>\n",
       "    <tr>\n",
       "      <td>55WqMPRkOMpA2</td>\n",
       "      <td>2019-06-02</td>\n",
       "      <td>02:44:24</td>\n",
       "      <td>random_forest_classification</td>\n",
       "      <td>Hamed</td>\n",
       "      <td>0.993</td>\n",
       "      <td>0.991</td>\n",
       "      <td>0.999</td>\n",
       "      <td>1.000</td>\n",
       "      <td>0.995</td>\n",
       "      <td>0.994</td>\n",
       "      <td>0.996</td>\n",
       "      <td>33351</td>\n",
       "      <td>8338</td>\n",
       "      <td>Random Forest: n_estimators=361, max_features=auto, criterion=entropy, min_samples_leaf=13, n_jobs=-1</td>\n",
       "      <td>class_label</td>\n",
       "      <td>12</td>\n",
       "      <td>experiment.transcriptic.r1c5vad8u7ve2_r1c66q7cru28u_live</td>\n",
       "      <td>True</td>\n",
       "      <td>12</td>\n",
       "      <td>False</td>\n",
       "      <td>True</td>\n",
       "    </tr>\n",
       "    <tr>\n",
       "      <td>Q63Rv825592R3</td>\n",
       "      <td>2019-06-02</td>\n",
       "      <td>03:02:08</td>\n",
       "      <td>random_forest_classification</td>\n",
       "      <td>Hamed</td>\n",
       "      <td>0.977</td>\n",
       "      <td>0.976</td>\n",
       "      <td>0.996</td>\n",
       "      <td>0.996</td>\n",
       "      <td>0.974</td>\n",
       "      <td>0.979</td>\n",
       "      <td>0.969</td>\n",
       "      <td>43448</td>\n",
       "      <td>10863</td>\n",
       "      <td>Random Forest: n_estimators=361, max_features=auto, criterion=entropy, min_samples_leaf=13, n_jobs=-1</td>\n",
       "      <td>class_label</td>\n",
       "      <td>12</td>\n",
       "      <td>experiment.transcriptic.r1c5vad8u7ve2_r1c66q7cru28u_correctness</td>\n",
       "      <td>True</td>\n",
       "      <td>12</td>\n",
       "      <td>False</td>\n",
       "      <td>True</td>\n",
       "    </tr>\n",
       "    <tr>\n",
       "      <td>56dRYMxBe1zkw</td>\n",
       "      <td>2019-06-02</td>\n",
       "      <td>03:19:18</td>\n",
       "      <td>random_forest_classification</td>\n",
       "      <td>Hamed</td>\n",
       "      <td>0.975</td>\n",
       "      <td>0.973</td>\n",
       "      <td>0.995</td>\n",
       "      <td>0.994</td>\n",
       "      <td>0.969</td>\n",
       "      <td>0.974</td>\n",
       "      <td>0.964</td>\n",
       "      <td>40589</td>\n",
       "      <td>10148</td>\n",
       "      <td>Random Forest: n_estimators=361, max_features=auto, criterion=entropy, min_samples_leaf=13, n_jobs=-1</td>\n",
       "      <td>class_label</td>\n",
       "      <td>12</td>\n",
       "      <td>experiment.transcriptic.r1c5vad8u7ve2_r1c66q7cru28u_correctness_live</td>\n",
       "      <td>True</td>\n",
       "      <td>12</td>\n",
       "      <td>False</td>\n",
       "      <td>True</td>\n",
       "    </tr>\n",
       "  </tbody>\n",
       "</table>"
      ],
      "text/plain": [
       "<IPython.core.display.HTML object>"
      ]
     },
     "execution_count": 89,
     "metadata": {},
     "output_type": "execute_result"
    }
   ],
   "source": [
    "#pd.read_html('test_harness_results/custom_classification_leaderboard.html')\n",
    "from IPython.display import HTML\n",
    "\n",
    "HTML(filename='test_harness_results/custom_classification_leaderboard.html')"
   ]
  },
  {
   "cell_type": "code",
   "execution_count": 90,
   "metadata": {},
   "outputs": [
    {
     "data": {
      "text/plain": [
       "Text(0, 0.5, 'threshold_live')"
      ]
     },
     "execution_count": 90,
     "metadata": {},
     "output_type": "execute_result"
    },
    {
     "data": {
      "image/png": "[encoded data removed]",
      "text/plain": [
       "<Figure size 432x288 with 1 Axes>"
      ]
     },
     "metadata": {
      "needs_background": "light"
     },
     "output_type": "display_data"
    }
   ],
   "source": [
    "%matplotlib inline\n",
    "import matplotlib.pyplot as plt\n",
    "\n",
    "ax = plt.axes()\n",
    "ax.scatter(correctness_df['mean_correct_threshold'], correctness_df['mean_correct_threshold_live'], alpha=0.5)\n",
    "ax.set_xlabel('threshold')\n",
    "ax.set_ylabel('threshold_live')\n",
    "\n"
   ]
  },
  {
   "cell_type": "code",
   "execution_count": 91,
   "metadata": {},
   "outputs": [
    {
     "data": {
      "text/plain": [
       "Text(0, 0.5, 'classifier_live')"
      ]
     },
     "execution_count": 91,
     "metadata": {},
     "output_type": "execute_result"
    },
    {
     "data": {
      "image/png": "[encoded data removed]",
      "text/plain": [
       "<Figure size 432x288 with 1 Axes>"
      ]
     },
     "metadata": {
      "needs_background": "light"
     },
     "output_type": "display_data"
    }
   ],
   "source": [
    "ax = plt.axes()\n",
    "ax.scatter(correctness_df['mean_correct_classifier'], correctness_df['mean_correct_classifier_live'], alpha=0.5)\n",
    "ax.set_xlabel('classifier')\n",
    "ax.set_ylabel('classifier_live')\n",
    "\n"
   ]
  },
  {
   "cell_type": "code",
   "execution_count": 80,
   "metadata": {},
   "outputs": [
    {
     "data": {
      "text/plain": [
       "Text(0, 0.5, 'classifier_live')"
      ]
     },
     "execution_count": 80,
     "metadata": {},
     "output_type": "execute_result"
    },
    {
     "data": {
      "image/png": "[encoded data removed]",
      "text/plain": [
       "<Figure size 432x288 with 1 Axes>"
      ]
     },
     "metadata": {
      "needs_background": "light"
     },
     "output_type": "display_data"
    }
   ],
   "source": [
    "ax = plt.axes()\n",
    "ax.scatter(correctness_df['mean_correct_threshold_live'], correctness_df['mean_correct_classifier_live'], alpha=0.5)\n",
    "ax.set_xlabel('threshold_live')\n",
    "ax.set_ylabel('classifier_live')\n",
    "\n"
   ]
  },
  {
   "cell_type": "code",
   "execution_count": 81,
   "metadata": {},
   "outputs": [
    {
     "data": {
      "text/plain": [
       "Text(0, 0.5, 'classifier')"
      ]
     },
     "execution_count": 81,
     "metadata": {},
     "output_type": "execute_result"
    },
    {
     "data": {
      "image/png": "[encoded data removed]",
      "text/plain": [
       "<Figure size 432x288 with 1 Axes>"
      ]
     },
     "metadata": {
      "needs_background": "light"
     },
     "output_type": "display_data"
    }
   ],
   "source": [
    "ax = plt.axes()\n",
    "ax.scatter(correctness_df['mean_correct_threshold'], correctness_df['mean_correct_classifier'], alpha=0.5)\n",
    "ax.set_xlabel('threshold')\n",
    "ax.set_ylabel('classifier')\n",
    "\n"
   ]
  },
  {
   "cell_type": "code",
   "execution_count": null,
   "metadata": {},
   "outputs": [],
   "source": []
  }
 ],
 "metadata": {
  "kernelspec": {
   "display_name": "Python 3",
   "language": "python",
   "name": "python3"
  },
  "language_info": {
   "codemirror_mode": {
    "name": "ipython",
    "version": 3
   },
   "file_extension": ".py",
   "mimetype": "text/x-python",
   "name": "python",
   "nbconvert_exporter": "python",
   "pygments_lexer": "ipython3",
   "version": "3.6.4"
  }
 },
 "nbformat": 4,
 "nbformat_minor": 2
}
