{
 "cells": [
  {
   "cell_type": "code",
   "execution_count": 4,
   "metadata": {},
   "outputs": [
    {
     "name": "stdout",
     "output_type": "stream",
     "text": [
      "The autoreload extension is already loaded. To reload it, use:\n",
      "  %reload_ext autoreload\n"
     ]
    }
   ],
   "source": [
    "import transcriptic \n",
    "from transcriptic import commands, Container\n",
    "from transcriptic.config import Connection\n",
    "from transcriptic.jupyter import objects\n",
    "import json\n",
    "from pysd2cat.data import tx_fcs\n",
    "from pysd2cat.data import pipeline\n",
    "from pysd2cat.analysis import biofab_live_dead_analysis as blda\n",
    "from pysd2cat.data import biofab_live_dead as bld\n",
    "\n",
    "\n",
    "from os.path import expanduser\n",
    "import requests\n",
    "import os\n",
    "import zipfile\n",
    "import shutil\n",
    "import fnmatch\n",
    "import glob\n",
    "import pandas as pd\n",
    "import ast\n",
    "\n",
    "%load_ext autoreload\n",
    "%reload_ext autoreload\n",
    "%autoreload 2\n",
    "\n",
    "\n",
    "\n",
    "\n",
    "#run_id='r1dd37mcxv5pf4'\n",
    "#run_id='r1dk8xp9dymm54' # Time series\n",
    "#run_id='r1dmsrursbqwuz'\n",
    "run_id = 'r1dnj926jr7q9g'\n",
    "\n",
    "aliquot_map_technique = {\n",
    "    'r1dd37mcxv5pf4' : \"titration1\",\n",
    "    'r1dk8xp9dymm54' : \"fifteen_zero\",\n",
    "    'r1dmsrursbqwuz' : \"10to80\",\n",
    "    'r1dnj926jr7q9g' : \"10to80\"\n",
    "}\n",
    "\n",
    "work_dir='data/transcriptic/'+run_id\n",
    "Connection.from_file(\"~/.transcriptic\")\n",
    "tx_config = json.load(open(os.path.join(expanduser(\"~\"), \".transcriptic\")))\n",
    "\n",
    "\n",
    "\n",
    "if not os.path.exists(work_dir):\n",
    "    os.makedirs(work_dir)"
   ]
  },
  {
   "cell_type": "code",
   "execution_count": 5,
   "metadata": {},
   "outputs": [],
   "source": [
    "import logging\n",
    "logger = logging.getLogger()\n",
    "fhandler = logging.FileHandler(filename='mylog.log', mode='a')\n",
    "formatter = logging.Formatter('%(asctime)s - %(name)s - %(levelname)s - %(message)s')\n",
    "fhandler.setFormatter(formatter)\n",
    "logger.addHandler(fhandler)\n",
    "logger.setLevel(logging.DEBUG)"
   ]
  },
  {
   "cell_type": "code",
   "execution_count": 12,
   "metadata": {},
   "outputs": [
    {
     "name": "stdout",
     "output_type": "stream",
     "text": [
      "r1dnj926jr7q9g\n"
     ]
    },
    {
     "data": {
      "text/html": [
       "<iframe src=\"https://secure.transcriptic.com/sd2org/p1dnj6rcss29gs/runs/r1dnj926jr7q9g.embed\" frameborder=\"0\" allowtransparency=\"true\"         style=\"height:450px\" seamless></iframe>"
      ],
      "text/plain": [
       "<transcriptic.jupyter.objects.Run at 0x2af3529e6cf8>"
      ]
     },
     "execution_count": 12,
     "metadata": {},
     "output_type": "execute_result"
    }
   ],
   "source": [
    "print(run_id)\n",
    "r = objects.Run(run_id)\n",
    "r"
   ]
  },
  {
   "cell_type": "code",
   "execution_count": 14,
   "metadata": {},
   "outputs": [
    {
     "ename": "TypeError",
     "evalue": "'str' object is not callable",
     "output_type": "error",
     "traceback": [
      "\u001b[0;31m---------------------------------------------------------------------------\u001b[0m",
      "\u001b[0;31mTypeError\u001b[0m                                 Traceback (most recent call last)",
      "\u001b[0;32m<ipython-input-14-73d69222dfaf>\u001b[0m in \u001b[0;36m<module>\u001b[0;34m\u001b[0m\n\u001b[1;32m      2\u001b[0m \u001b[0mcontainer_name\u001b[0m \u001b[0;34m=\u001b[0m \u001b[0mcontainer\u001b[0m\u001b[0;34m.\u001b[0m\u001b[0mreplace\u001b[0m\u001b[0;34m(\u001b[0m\u001b[0;34m'('\u001b[0m\u001b[0;34m,\u001b[0m \u001b[0;34m'\\('\u001b[0m\u001b[0;34m)\u001b[0m\u001b[0;34m.\u001b[0m\u001b[0mreplace\u001b[0m\u001b[0;34m(\u001b[0m\u001b[0;34m')'\u001b[0m\u001b[0;34m,\u001b[0m \u001b[0;34m'\\)'\u001b[0m\u001b[0;34m)\u001b[0m\u001b[0;34m\u001b[0m\u001b[0;34m\u001b[0m\u001b[0m\n\u001b[1;32m      3\u001b[0m \u001b[0mcontainer_name\u001b[0m\u001b[0;34m\u001b[0m\u001b[0;34m\u001b[0m\u001b[0m\n\u001b[0;32m----> 4\u001b[0;31m \u001b[0mcontainer\u001b[0m\u001b[0;34m(\u001b[0m\u001b[0mcontainer_name\u001b[0m\u001b[0;34m)\u001b[0m\u001b[0;34m\u001b[0m\u001b[0;34m\u001b[0m\u001b[0m\n\u001b[0m",
      "\u001b[0;31mTypeError\u001b[0m: 'str' object is not callable"
     ]
    }
   ],
   "source": [
    "container=\"Flow (Sytox) Plate 12\"\n",
    "container_name = container.replace('(', '\\(').replace(')', '\\)')\n",
    "container_name\n",
    "container(container_name)"
   ]
  },
  {
   "cell_type": "code",
   "execution_count": 7,
   "metadata": {},
   "outputs": [
    {
     "name": "stdout",
     "output_type": "stream",
     "text": [
      "Attempting to fetch 16 datasets...\n"
     ]
    },
    {
     "name": "stderr",
     "output_type": "stream",
     "text": [
      "/work/05202/dbryce/jupyter_packages/lib/python3.6/site-packages/transcriptic/jupyter/objects.py:491: UserWarning: Missing key 'container' when initializing dataset\n",
      "  warnings.warn(f\"Missing key {e} when initializing dataset\")\n",
      "/work/05202/dbryce/jupyter_packages/lib/python3.6/site-packages/transcriptic/jupyter/objects.py:968: UserWarning: ContainerType given is not supported yet in AP-Py\n",
      "  warnings.warn(\"ContainerType given is not supported yet in AP-Py\")\n",
      "/work/05202/dbryce/jupyter_packages/lib/python3.6/site-packages/pandas/core/indexing.py:362: SettingWithCopyWarning: \n",
      "A value is trying to be set on a copy of a slice from a DataFrame.\n",
      "Try using .loc[row_indexer,col_indexer] = value instead\n",
      "\n",
      "See the caveats in the documentation: http://pandas.pydata.org/pandas-docs/stable/indexing.html#indexing-view-versus-copy\n",
      "  self.obj[key] = _infer_fill_value(value)\n",
      "/work/05202/dbryce/jupyter_packages/lib/python3.6/site-packages/pandas/core/indexing.py:543: SettingWithCopyWarning: \n",
      "A value is trying to be set on a copy of a slice from a DataFrame.\n",
      "Try using .loc[row_indexer,col_indexer] = value instead\n",
      "\n",
      "See the caveats in the documentation: http://pandas.pydata.org/pandas-docs/stable/indexing.html#indexing-view-versus-copy\n",
      "  self.obj[item] = s\n",
      "/work/05202/dbryce/jupyter_packages/lib/python3.6/site-packages/pysd2cat-0.1-py3.6.egg/pysd2cat/data/biofab_live_dead.py:267: SettingWithCopyWarning: \n",
      "A value is trying to be set on a copy of a slice from a DataFrame.\n",
      "Try using .loc[row_indexer,col_indexer] = value instead\n",
      "\n",
      "See the caveats in the documentation: http://pandas.pydata.org/pandas-docs/stable/indexing.html#indexing-view-versus-copy\n",
      "  flow_data['time_point'] = flow_data['time_point'].astype('int64')\n",
      "/work/05202/dbryce/jupyter_packages/lib/python3.6/site-packages/pysd2cat-0.1-py3.6.egg/pysd2cat/data/biofab_live_dead.py:268: SettingWithCopyWarning: \n",
      "A value is trying to be set on a copy of a slice from a DataFrame.\n",
      "Try using .loc[row_indexer,col_indexer] = value instead\n",
      "\n",
      "See the caveats in the documentation: http://pandas.pydata.org/pandas-docs/stable/indexing.html#indexing-view-versus-copy\n",
      "  flow_data['time'] = flow_data['time'].astype('float')\n"
     ]
    },
    {
     "name": "stdout",
     "output_type": "stream",
     "text": [
      "Getting data for container: Flow (Sytox) Plate 12\n",
      "Attempting to fetch 16 datasets...\n"
     ]
    },
    {
     "ename": "TypeError",
     "evalue": "super(type, obj): obj must be an instance or subtype of type",
     "output_type": "error",
     "traceback": [
      "\u001b[0;31m---------------------------------------------------------------------------\u001b[0m",
      "\u001b[0;31mTypeError\u001b[0m                                 Traceback (most recent call last)",
      "\u001b[0;32m<ipython-input-7-0cd6ee80f90e>\u001b[0m in \u001b[0;36m<module>\u001b[0;34m\u001b[0m\n\u001b[0;32m----> 1\u001b[0;31m \u001b[0mflow_data\u001b[0m\u001b[0;34m,\u001b[0m \u001b[0mplate_properties\u001b[0m \u001b[0;34m=\u001b[0m \u001b[0mbld\u001b[0m\u001b[0;34m.\u001b[0m\u001b[0mwrite_flow_data_and_metadata\u001b[0m\u001b[0;34m(\u001b[0m\u001b[0mrun_id\u001b[0m\u001b[0;34m,\u001b[0m \u001b[0mtx_config\u001b[0m\u001b[0;34m,\u001b[0m \u001b[0maliquot_map_technique\u001b[0m\u001b[0;34m[\u001b[0m\u001b[0mrun_id\u001b[0m\u001b[0;34m]\u001b[0m\u001b[0;34m,\u001b[0m \u001b[0mwork_dir\u001b[0m\u001b[0;34m=\u001b[0m\u001b[0mwork_dir\u001b[0m\u001b[0;34m)\u001b[0m\u001b[0;34m\u001b[0m\u001b[0;34m\u001b[0m\u001b[0m\n\u001b[0m",
      "\u001b[0;32m~_packages/lib/python3.6/site-packages/pysd2cat-0.1-py3.6.egg/pysd2cat/data/biofab_live_dead.py\u001b[0m in \u001b[0;36mwrite_flow_data_and_metadata\u001b[0;34m(run_id, tx_config, aliquot_map_technique, work_dir, overwrite)\u001b[0m\n\u001b[1;32m    300\u001b[0m                                                            \u001b[0mdownload_data\u001b[0m\u001b[0;34m=\u001b[0m\u001b[0moverwrite\u001b[0m\u001b[0;34m,\u001b[0m\u001b[0;34m\u001b[0m\u001b[0;34m\u001b[0m\u001b[0m\n\u001b[1;32m    301\u001b[0m                                                            container=flow_data.container[i].attributes['label']) \\\n\u001b[0;32m--> 302\u001b[0;31m                                  for i in flow_data.index]\n\u001b[0m\u001b[1;32m    303\u001b[0m         \u001b[0mmake_container_dataframes\u001b[0m\u001b[0;34m(\u001b[0m\u001b[0mrun_id\u001b[0m\u001b[0;34m,\u001b[0m \u001b[0mplate_properties\u001b[0m\u001b[0;34m,\u001b[0m \u001b[0mwork_dir\u001b[0m\u001b[0;34m,\u001b[0m \u001b[0maliquot_map_technique\u001b[0m\u001b[0;34m=\u001b[0m\u001b[0maliquot_map_technique\u001b[0m\u001b[0;34m,\u001b[0m \u001b[0moverwrite\u001b[0m\u001b[0;34m=\u001b[0m\u001b[0moverwrite\u001b[0m\u001b[0;34m)\u001b[0m\u001b[0;34m\u001b[0m\u001b[0;34m\u001b[0m\u001b[0m\n\u001b[1;32m    304\u001b[0m \u001b[0;34m\u001b[0m\u001b[0m\n",
      "\u001b[0;32m~_packages/lib/python3.6/site-packages/pysd2cat-0.1-py3.6.egg/pysd2cat/data/biofab_live_dead.py\u001b[0m in \u001b[0;36m<listcomp>\u001b[0;34m(.0)\u001b[0m\n\u001b[1;32m    300\u001b[0m                                                            \u001b[0mdownload_data\u001b[0m\u001b[0;34m=\u001b[0m\u001b[0moverwrite\u001b[0m\u001b[0;34m,\u001b[0m\u001b[0;34m\u001b[0m\u001b[0;34m\u001b[0m\u001b[0m\n\u001b[1;32m    301\u001b[0m                                                            container=flow_data.container[i].attributes['label']) \\\n\u001b[0;32m--> 302\u001b[0;31m                                  for i in flow_data.index]\n\u001b[0m\u001b[1;32m    303\u001b[0m         \u001b[0mmake_container_dataframes\u001b[0m\u001b[0;34m(\u001b[0m\u001b[0mrun_id\u001b[0m\u001b[0;34m,\u001b[0m \u001b[0mplate_properties\u001b[0m\u001b[0;34m,\u001b[0m \u001b[0mwork_dir\u001b[0m\u001b[0;34m,\u001b[0m \u001b[0maliquot_map_technique\u001b[0m\u001b[0;34m=\u001b[0m\u001b[0maliquot_map_technique\u001b[0m\u001b[0;34m,\u001b[0m \u001b[0moverwrite\u001b[0m\u001b[0;34m=\u001b[0m\u001b[0moverwrite\u001b[0m\u001b[0;34m)\u001b[0m\u001b[0;34m\u001b[0m\u001b[0;34m\u001b[0m\u001b[0m\n\u001b[1;32m    304\u001b[0m \u001b[0;34m\u001b[0m\u001b[0m\n",
      "\u001b[0;32m~_packages/lib/python3.6/site-packages/pysd2cat-0.1-py3.6.egg/pysd2cat/data/biofab_live_dead.py\u001b[0m in \u001b[0;36mget_flow_plate_properties\u001b[0;34m(run_id, transcriptic_email, transcriptic_token, work_dir, aliquot_map_technique, download_data, container)\u001b[0m\n\u001b[1;32m    130\u001b[0m                                                          \u001b[0mdownload_zip\u001b[0m\u001b[0;34m=\u001b[0m\u001b[0mdownload_data\u001b[0m\u001b[0;34m,\u001b[0m\u001b[0;34m\u001b[0m\u001b[0;34m\u001b[0m\u001b[0m\n\u001b[1;32m    131\u001b[0m                                                          \u001b[0mdata_set_name\u001b[0m\u001b[0;34m=\u001b[0m\u001b[0mcontainer_name\u001b[0m\u001b[0;34m,\u001b[0m\u001b[0;34m\u001b[0m\u001b[0;34m\u001b[0m\u001b[0m\n\u001b[0;32m--> 132\u001b[0;31m                                                          \u001b[0mcontainer_name\u001b[0m\u001b[0;34m=\u001b[0m\u001b[0mcontainer_name\u001b[0m\u001b[0;34m\u001b[0m\u001b[0;34m\u001b[0m\u001b[0m\n\u001b[0m\u001b[1;32m    133\u001b[0m                                                          )\n\u001b[1;32m    134\u001b[0m     \u001b[0mfile_info\u001b[0m\u001b[0;34m[\u001b[0m\u001b[0;34m'container'\u001b[0m\u001b[0;34m]\u001b[0m \u001b[0;34m=\u001b[0m \u001b[0mcontainer\u001b[0m\u001b[0;34m\u001b[0m\u001b[0;34m\u001b[0m\u001b[0m\n",
      "\u001b[0;32m~_packages/lib/python3.6/site-packages/pysd2cat-0.1-py3.6.egg/pysd2cat/data/tx_fcs.py\u001b[0m in \u001b[0;36mcreate_fcs_manifest_and_get_files\u001b[0;34m(run_id, transcriptic_email, transcriptic_token, fcs_path, download_zip, logger, container_name, data_set_name, source_container_run)\u001b[0m\n\u001b[1;32m    161\u001b[0m                               \u001b[0mcontainer_name\u001b[0m\u001b[0;34m=\u001b[0m\u001b[0mcontainer_name\u001b[0m\u001b[0;34m,\u001b[0m\u001b[0;34m\u001b[0m\u001b[0;34m\u001b[0m\u001b[0m\n\u001b[1;32m    162\u001b[0m                               \u001b[0msource_container_run\u001b[0m\u001b[0;34m=\u001b[0m\u001b[0msrc_run_obj\u001b[0m\u001b[0;34m,\u001b[0m\u001b[0;34m\u001b[0m\u001b[0;34m\u001b[0m\u001b[0m\n\u001b[0;32m--> 163\u001b[0;31m                               data_set_name=data_set_name)\n\u001b[0m\u001b[1;32m    164\u001b[0m     \u001b[0;32mreturn\u001b[0m \u001b[0mfcs_files\u001b[0m\u001b[0;34m\u001b[0m\u001b[0;34m\u001b[0m\u001b[0m\n\u001b[1;32m    165\u001b[0m     \u001b[0;31m#create_fcs_manifest(run_obj, experiment_id, fcs_files, manifest_path)\u001b[0m\u001b[0;34m\u001b[0m\u001b[0;34m\u001b[0m\u001b[0;34m\u001b[0m\u001b[0m\n",
      "\u001b[0;32m~_packages/lib/python3.6/site-packages/pysd2cat-0.1-py3.6.egg/pysd2cat/data/tx_fcs.py\u001b[0m in \u001b[0;36mget_fcs_files\u001b[0;34m(run_obj, tx_email, tx_token, work_dir, download_zip, logger, container_name, data_set_name, source_container_run)\u001b[0m\n\u001b[1;32m    111\u001b[0m                 \u001b[0mos\u001b[0m\u001b[0;34m.\u001b[0m\u001b[0mremove\u001b[0m\u001b[0;34m(\u001b[0m\u001b[0mzip_path\u001b[0m\u001b[0;34m)\u001b[0m\u001b[0;34m\u001b[0m\u001b[0;34m\u001b[0m\u001b[0m\n\u001b[1;32m    112\u001b[0m \u001b[0;34m\u001b[0m\u001b[0m\n\u001b[0;32m--> 113\u001b[0;31m             \u001b[0mproperties\u001b[0m \u001b[0;34m=\u001b[0m \u001b[0mget_plate_well_properties\u001b[0m\u001b[0;34m(\u001b[0m\u001b[0mrun_obj\u001b[0m\u001b[0;34m,\u001b[0m \u001b[0mcontainer_name\u001b[0m\u001b[0;34m=\u001b[0m\u001b[0mcontainer_name\u001b[0m\u001b[0;34m)\u001b[0m\u001b[0;34m\u001b[0m\u001b[0;34m\u001b[0m\u001b[0m\n\u001b[0m\u001b[1;32m    114\u001b[0m             \u001b[0mlogger\u001b[0m\u001b[0;34m.\u001b[0m\u001b[0mdebug\u001b[0m\u001b[0;34m(\u001b[0m\u001b[0mproperties\u001b[0m\u001b[0;34m)\u001b[0m\u001b[0;34m\u001b[0m\u001b[0;34m\u001b[0m\u001b[0m\n\u001b[1;32m    115\u001b[0m             \u001b[0;31m# well id -> file info\u001b[0m\u001b[0;34m\u001b[0m\u001b[0;34m\u001b[0m\u001b[0;34m\u001b[0m\u001b[0m\n",
      "\u001b[0;32m~_packages/lib/python3.6/site-packages/pysd2cat-0.1-py3.6.egg/pysd2cat/data/tx_fcs.py\u001b[0m in \u001b[0;36mget_plate_well_properties\u001b[0;34m(run_obj, container_name)\u001b[0m\n\u001b[1;32m     29\u001b[0m     \u001b[0mflow_plate_id\u001b[0m \u001b[0;34m=\u001b[0m \u001b[0mcs\u001b[0m\u001b[0;34m.\u001b[0m\u001b[0mloc\u001b[0m\u001b[0;34m[\u001b[0m\u001b[0mcs\u001b[0m\u001b[0;34m[\u001b[0m\u001b[0;34m'Name'\u001b[0m\u001b[0;34m]\u001b[0m\u001b[0;34m.\u001b[0m\u001b[0mstr\u001b[0m\u001b[0;34m.\u001b[0m\u001b[0mcontains\u001b[0m\u001b[0;34m(\u001b[0m\u001b[0mcontainer_name\u001b[0m\u001b[0;34m)\u001b[0m\u001b[0;34m]\u001b[0m\u001b[0;34m.\u001b[0m\u001b[0miloc\u001b[0m\u001b[0;34m[\u001b[0m\u001b[0;36m0\u001b[0m\u001b[0;34m]\u001b[0m\u001b[0;34m[\u001b[0m\u001b[0;34m'ContainerId'\u001b[0m\u001b[0;34m]\u001b[0m\u001b[0;34m\u001b[0m\u001b[0;34m\u001b[0m\u001b[0m\n\u001b[1;32m     30\u001b[0m     \u001b[0ml\u001b[0m\u001b[0;34m.\u001b[0m\u001b[0mdebug\u001b[0m\u001b[0;34m(\u001b[0m\u001b[0;34m\"Have flow_plate_id: %s\"\u001b[0m\u001b[0;34m,\u001b[0m \u001b[0mflow_plate_id\u001b[0m\u001b[0;34m)\u001b[0m\u001b[0;34m\u001b[0m\u001b[0;34m\u001b[0m\u001b[0m\n\u001b[0;32m---> 31\u001b[0;31m     \u001b[0mflow_plate\u001b[0m \u001b[0;34m=\u001b[0m \u001b[0mtranscriptic\u001b[0m\u001b[0;34m.\u001b[0m\u001b[0mcontainer\u001b[0m\u001b[0;34m(\u001b[0m\u001b[0mflow_plate_id\u001b[0m\u001b[0;34m)\u001b[0m\u001b[0;34m\u001b[0m\u001b[0;34m\u001b[0m\u001b[0m\n\u001b[0m\u001b[1;32m     32\u001b[0m     \u001b[0maliquots\u001b[0m \u001b[0;34m=\u001b[0m \u001b[0mflow_plate\u001b[0m\u001b[0;34m.\u001b[0m\u001b[0mattributes\u001b[0m\u001b[0;34m[\u001b[0m\u001b[0;34m'aliquots'\u001b[0m\u001b[0;34m]\u001b[0m\u001b[0;34m\u001b[0m\u001b[0;34m\u001b[0m\u001b[0m\n\u001b[1;32m     33\u001b[0m     \u001b[0mproperties\u001b[0m \u001b[0;34m=\u001b[0m \u001b[0;34m{\u001b[0m\u001b[0;34m}\u001b[0m\u001b[0;34m\u001b[0m\u001b[0;34m\u001b[0m\u001b[0m\n",
      "\u001b[0;32m~_packages/lib/python3.6/site-packages/transcriptic/__init__.py\u001b[0m in \u001b[0;36mcontainer\u001b[0;34m(container_id)\u001b[0m\n\u001b[1;32m     82\u001b[0m     \u001b[0;32mfrom\u001b[0m \u001b[0;34m.\u001b[0m\u001b[0mjupyter\u001b[0m \u001b[0;32mimport\u001b[0m \u001b[0mContainer\u001b[0m\u001b[0;34m\u001b[0m\u001b[0;34m\u001b[0m\u001b[0m\n\u001b[1;32m     83\u001b[0m \u001b[0;34m\u001b[0m\u001b[0m\n\u001b[0;32m---> 84\u001b[0;31m     \u001b[0;32mreturn\u001b[0m \u001b[0mContainer\u001b[0m\u001b[0;34m(\u001b[0m\u001b[0mcontainer_id\u001b[0m\u001b[0;34m)\u001b[0m\u001b[0;34m\u001b[0m\u001b[0;34m\u001b[0m\u001b[0m\n\u001b[0m\u001b[1;32m     85\u001b[0m \u001b[0;34m\u001b[0m\u001b[0m\n\u001b[1;32m     86\u001b[0m \u001b[0;34m\u001b[0m\u001b[0m\n",
      "\u001b[0;32m~_packages/lib/python3.6/site-packages/transcriptic/jupyter/objects.py\u001b[0m in \u001b[0;36m__init__\u001b[0;34m(self, container_id, attributes, connection)\u001b[0m\n\u001b[1;32m    934\u001b[0m             \u001b[0mConnection\u001b[0m \u001b[0mcontext\u001b[0m\u001b[0;34m.\u001b[0m \u001b[0mThe\u001b[0m \u001b[0mdefault\u001b[0m \u001b[0mcontext\u001b[0m \u001b[0mobject\u001b[0m \u001b[0mwill\u001b[0m \u001b[0mbe\u001b[0m \u001b[0mused\u001b[0m \u001b[0munless\u001b[0m \u001b[0mexplicitly\u001b[0m \u001b[0mprovided\u001b[0m\u001b[0;34m\u001b[0m\u001b[0;34m\u001b[0m\u001b[0m\n\u001b[1;32m    935\u001b[0m         \"\"\"\n\u001b[0;32m--> 936\u001b[0;31m         super(Container, self).__init__(\n\u001b[0m\u001b[1;32m    937\u001b[0m             \u001b[0;34m\"container\"\u001b[0m\u001b[0;34m,\u001b[0m \u001b[0mcontainer_id\u001b[0m\u001b[0;34m,\u001b[0m \u001b[0mattributes\u001b[0m\u001b[0;34m,\u001b[0m \u001b[0mconnection\u001b[0m\u001b[0;34m\u001b[0m\u001b[0;34m\u001b[0m\u001b[0m\n\u001b[1;32m    938\u001b[0m         )\n",
      "\u001b[0;31mTypeError\u001b[0m: super(type, obj): obj must be an instance or subtype of type"
     ]
    }
   ],
   "source": [
    "flow_data, plate_properties = bld.write_flow_data_and_metadata(run_id, tx_config, aliquot_map_technique[run_id], work_dir=work_dir)"
   ]
  },
  {
   "cell_type": "code",
   "execution_count": 12,
   "metadata": {
    "scrolled": true
   },
   "outputs": [
    {
     "name": "stderr",
     "output_type": "stream",
     "text": [
      "/Users/danbryce/Documents/sift/xplan/external/xplan/xplan-to-autoprotocol-reactor/xplan-dev-env/xplan-dev-env/lib/python3.7/site-packages/IPython/core/interactiveshell.py:3249: DtypeWarning: Columns (6) have mixed types. Specify dtype option on import or set low_memory=False.\n",
      "  if (await self.run_code(code, result,  async_=asy)):\n"
     ]
    },
    {
     "name": "stdout",
     "output_type": "stream",
     "text": [
      "{'experiment_id': 'r1dmsrursbqwuz', 'random_state': 0, 'live_volume': 0.0, 'dead_volume': 140.0, 'stain': 'SYTOX Red Stain', 'time_point': '12'}\n",
      "{'experiment_id': 'r1dmsrursbqwuz', 'random_state': 0, 'live_volume': 0.0, 'dead_volume': 140.0, 'stain': nan, 'time_point': '12'}\n",
      "{'experiment_id': 'r1dmsrursbqwuz', 'random_state': 0, 'live_volume': 0.0, 'dead_volume': 210.0, 'stain': 'SYTOX Red Stain', 'time_point': '12'}\n",
      "{'experiment_id': 'r1dmsrursbqwuz', 'random_state': 0, 'live_volume': 0.0, 'dead_volume': 210.0, 'stain': nan, 'time_point': '12'}\n",
      "{'experiment_id': 'r1dmsrursbqwuz', 'random_state': 0, 'live_volume': 0.0, 'dead_volume': 280.0, 'stain': 'SYTOX Red Stain', 'time_point': '12'}\n",
      "{'experiment_id': 'r1dmsrursbqwuz', 'random_state': 0, 'live_volume': 0.0, 'dead_volume': 280.0, 'stain': nan, 'time_point': '12'}\n",
      "{'experiment_id': 'r1dmsrursbqwuz', 'random_state': 0, 'live_volume': 0.0, 'dead_volume': 1120.0, 'stain': 'SYTOX Red Stain', 'time_point': '12'}\n",
      "{'experiment_id': 'r1dmsrursbqwuz', 'random_state': 0, 'live_volume': 0.0, 'dead_volume': 1120.0, 'stain': nan, 'time_point': '12'}\n",
      "{'experiment_id': 'r1dmsrursbqwuz', 'random_state': 1, 'live_volume': 0.0, 'dead_volume': 140.0, 'stain': 'SYTOX Red Stain', 'time_point': '12'}\n",
      "{'experiment_id': 'r1dmsrursbqwuz', 'random_state': 1, 'live_volume': 0.0, 'dead_volume': 140.0, 'stain': nan, 'time_point': '12'}\n",
      "{'experiment_id': 'r1dmsrursbqwuz', 'random_state': 1, 'live_volume': 0.0, 'dead_volume': 210.0, 'stain': 'SYTOX Red Stain', 'time_point': '12'}\n",
      "{'experiment_id': 'r1dmsrursbqwuz', 'random_state': 1, 'live_volume': 0.0, 'dead_volume': 210.0, 'stain': nan, 'time_point': '12'}\n",
      "{'experiment_id': 'r1dmsrursbqwuz', 'random_state': 1, 'live_volume': 0.0, 'dead_volume': 280.0, 'stain': 'SYTOX Red Stain', 'time_point': '12'}\n",
      "{'experiment_id': 'r1dmsrursbqwuz', 'random_state': 1, 'live_volume': 0.0, 'dead_volume': 280.0, 'stain': nan, 'time_point': '12'}\n",
      "{'experiment_id': 'r1dmsrursbqwuz', 'random_state': 1, 'live_volume': 0.0, 'dead_volume': 1120.0, 'stain': 'SYTOX Red Stain', 'time_point': '12'}\n",
      "{'experiment_id': 'r1dmsrursbqwuz', 'random_state': 1, 'live_volume': 0.0, 'dead_volume': 1120.0, 'stain': nan, 'time_point': '12'}\n",
      "{'experiment_id': 'r1dmsrursbqwuz', 'random_state': 2, 'live_volume': 0.0, 'dead_volume': 140.0, 'stain': 'SYTOX Red Stain', 'time_point': '12'}\n",
      "{'experiment_id': 'r1dmsrursbqwuz', 'random_state': 2, 'live_volume': 0.0, 'dead_volume': 140.0, 'stain': nan, 'time_point': '12'}\n",
      "{'experiment_id': 'r1dmsrursbqwuz', 'random_state': 2, 'live_volume': 0.0, 'dead_volume': 210.0, 'stain': 'SYTOX Red Stain', 'time_point': '12'}\n",
      "{'experiment_id': 'r1dmsrursbqwuz', 'random_state': 2, 'live_volume': 0.0, 'dead_volume': 210.0, 'stain': nan, 'time_point': '12'}\n",
      "{'experiment_id': 'r1dmsrursbqwuz', 'random_state': 2, 'live_volume': 0.0, 'dead_volume': 280.0, 'stain': 'SYTOX Red Stain', 'time_point': '12'}\n",
      "{'experiment_id': 'r1dmsrursbqwuz', 'random_state': 2, 'live_volume': 0.0, 'dead_volume': 280.0, 'stain': nan, 'time_point': '12'}\n",
      "{'experiment_id': 'r1dmsrursbqwuz', 'random_state': 2, 'live_volume': 0.0, 'dead_volume': 1120.0, 'stain': 'SYTOX Red Stain', 'time_point': '12'}\n",
      "{'experiment_id': 'r1dmsrursbqwuz', 'random_state': 2, 'live_volume': 0.0, 'dead_volume': 1120.0, 'stain': nan, 'time_point': '12'}\n",
      "{'experiment_id': 'r1dmsrursbqwuz', 'random_state': 3, 'live_volume': 0.0, 'dead_volume': 140.0, 'stain': 'SYTOX Red Stain', 'time_point': '12'}\n",
      "{'experiment_id': 'r1dmsrursbqwuz', 'random_state': 3, 'live_volume': 0.0, 'dead_volume': 140.0, 'stain': nan, 'time_point': '12'}\n",
      "{'experiment_id': 'r1dmsrursbqwuz', 'random_state': 3, 'live_volume': 0.0, 'dead_volume': 210.0, 'stain': 'SYTOX Red Stain', 'time_point': '12'}\n",
      "{'experiment_id': 'r1dmsrursbqwuz', 'random_state': 3, 'live_volume': 0.0, 'dead_volume': 210.0, 'stain': nan, 'time_point': '12'}\n",
      "{'experiment_id': 'r1dmsrursbqwuz', 'random_state': 3, 'live_volume': 0.0, 'dead_volume': 280.0, 'stain': 'SYTOX Red Stain', 'time_point': '12'}\n",
      "{'experiment_id': 'r1dmsrursbqwuz', 'random_state': 3, 'live_volume': 0.0, 'dead_volume': 280.0, 'stain': nan, 'time_point': '12'}\n",
      "{'experiment_id': 'r1dmsrursbqwuz', 'random_state': 3, 'live_volume': 0.0, 'dead_volume': 1120.0, 'stain': 'SYTOX Red Stain', 'time_point': '12'}\n",
      "{'experiment_id': 'r1dmsrursbqwuz', 'random_state': 3, 'live_volume': 0.0, 'dead_volume': 1120.0, 'stain': nan, 'time_point': '12'}\n",
      "{'experiment_id': 'r1dmsrursbqwuz', 'random_state': 4, 'live_volume': 0.0, 'dead_volume': 140.0, 'stain': 'SYTOX Red Stain', 'time_point': '12'}\n",
      "{'experiment_id': 'r1dmsrursbqwuz', 'random_state': 4, 'live_volume': 0.0, 'dead_volume': 140.0, 'stain': nan, 'time_point': '12'}\n",
      "{'experiment_id': 'r1dmsrursbqwuz', 'random_state': 4, 'live_volume': 0.0, 'dead_volume': 210.0, 'stain': 'SYTOX Red Stain', 'time_point': '12'}\n",
      "{'experiment_id': 'r1dmsrursbqwuz', 'random_state': 4, 'live_volume': 0.0, 'dead_volume': 210.0, 'stain': nan, 'time_point': '12'}\n",
      "{'experiment_id': 'r1dmsrursbqwuz', 'random_state': 4, 'live_volume': 0.0, 'dead_volume': 280.0, 'stain': 'SYTOX Red Stain', 'time_point': '12'}\n",
      "{'experiment_id': 'r1dmsrursbqwuz', 'random_state': 4, 'live_volume': 0.0, 'dead_volume': 280.0, 'stain': nan, 'time_point': '12'}\n",
      "{'experiment_id': 'r1dmsrursbqwuz', 'random_state': 4, 'live_volume': 0.0, 'dead_volume': 1120.0, 'stain': 'SYTOX Red Stain', 'time_point': '12'}\n",
      "{'experiment_id': 'r1dmsrursbqwuz', 'random_state': 4, 'live_volume': 0.0, 'dead_volume': 1120.0, 'stain': nan, 'time_point': '12'}\n",
      "{'experiment_id': 'r1dmsrursbqwuz', 'random_state': 0, 'live_volume': 0.0, 'dead_volume': 140.0, 'stain': 'SYTOX Red Stain', 'time_point': '1'}\n",
      "{'experiment_id': 'r1dmsrursbqwuz', 'random_state': 0, 'live_volume': 0.0, 'dead_volume': 140.0, 'stain': nan, 'time_point': '1'}\n",
      "{'experiment_id': 'r1dmsrursbqwuz', 'random_state': 0, 'live_volume': 0.0, 'dead_volume': 210.0, 'stain': 'SYTOX Red Stain', 'time_point': '1'}\n",
      "{'experiment_id': 'r1dmsrursbqwuz', 'random_state': 0, 'live_volume': 0.0, 'dead_volume': 210.0, 'stain': nan, 'time_point': '1'}\n",
      "{'experiment_id': 'r1dmsrursbqwuz', 'random_state': 0, 'live_volume': 0.0, 'dead_volume': 280.0, 'stain': 'SYTOX Red Stain', 'time_point': '1'}\n",
      "{'experiment_id': 'r1dmsrursbqwuz', 'random_state': 0, 'live_volume': 0.0, 'dead_volume': 280.0, 'stain': nan, 'time_point': '1'}\n",
      "{'experiment_id': 'r1dmsrursbqwuz', 'random_state': 0, 'live_volume': 0.0, 'dead_volume': 1120.0, 'stain': 'SYTOX Red Stain', 'time_point': '1'}\n",
      "{'experiment_id': 'r1dmsrursbqwuz', 'random_state': 0, 'live_volume': 0.0, 'dead_volume': 1120.0, 'stain': nan, 'time_point': '1'}\n",
      "{'experiment_id': 'r1dmsrursbqwuz', 'random_state': 1, 'live_volume': 0.0, 'dead_volume': 140.0, 'stain': 'SYTOX Red Stain', 'time_point': '1'}\n",
      "{'experiment_id': 'r1dmsrursbqwuz', 'random_state': 1, 'live_volume': 0.0, 'dead_volume': 140.0, 'stain': nan, 'time_point': '1'}\n",
      "{'experiment_id': 'r1dmsrursbqwuz', 'random_state': 1, 'live_volume': 0.0, 'dead_volume': 210.0, 'stain': 'SYTOX Red Stain', 'time_point': '1'}\n",
      "{'experiment_id': 'r1dmsrursbqwuz', 'random_state': 1, 'live_volume': 0.0, 'dead_volume': 210.0, 'stain': nan, 'time_point': '1'}\n",
      "{'experiment_id': 'r1dmsrursbqwuz', 'random_state': 1, 'live_volume': 0.0, 'dead_volume': 280.0, 'stain': 'SYTOX Red Stain', 'time_point': '1'}\n",
      "{'experiment_id': 'r1dmsrursbqwuz', 'random_state': 1, 'live_volume': 0.0, 'dead_volume': 280.0, 'stain': nan, 'time_point': '1'}\n",
      "{'experiment_id': 'r1dmsrursbqwuz', 'random_state': 1, 'live_volume': 0.0, 'dead_volume': 1120.0, 'stain': 'SYTOX Red Stain', 'time_point': '1'}\n",
      "{'experiment_id': 'r1dmsrursbqwuz', 'random_state': 1, 'live_volume': 0.0, 'dead_volume': 1120.0, 'stain': nan, 'time_point': '1'}\n",
      "{'experiment_id': 'r1dmsrursbqwuz', 'random_state': 2, 'live_volume': 0.0, 'dead_volume': 140.0, 'stain': 'SYTOX Red Stain', 'time_point': '1'}\n",
      "{'experiment_id': 'r1dmsrursbqwuz', 'random_state': 2, 'live_volume': 0.0, 'dead_volume': 140.0, 'stain': nan, 'time_point': '1'}\n",
      "{'experiment_id': 'r1dmsrursbqwuz', 'random_state': 2, 'live_volume': 0.0, 'dead_volume': 210.0, 'stain': 'SYTOX Red Stain', 'time_point': '1'}\n",
      "{'experiment_id': 'r1dmsrursbqwuz', 'random_state': 2, 'live_volume': 0.0, 'dead_volume': 210.0, 'stain': nan, 'time_point': '1'}\n"
     ]
    },
    {
     "name": "stdout",
     "output_type": "stream",
     "text": [
      "{'experiment_id': 'r1dmsrursbqwuz', 'random_state': 2, 'live_volume': 0.0, 'dead_volume': 280.0, 'stain': 'SYTOX Red Stain', 'time_point': '1'}\n",
      "{'experiment_id': 'r1dmsrursbqwuz', 'random_state': 2, 'live_volume': 0.0, 'dead_volume': 280.0, 'stain': nan, 'time_point': '1'}\n",
      "{'experiment_id': 'r1dmsrursbqwuz', 'random_state': 2, 'live_volume': 0.0, 'dead_volume': 1120.0, 'stain': 'SYTOX Red Stain', 'time_point': '1'}\n",
      "{'experiment_id': 'r1dmsrursbqwuz', 'random_state': 2, 'live_volume': 0.0, 'dead_volume': 1120.0, 'stain': nan, 'time_point': '1'}\n",
      "{'experiment_id': 'r1dmsrursbqwuz', 'random_state': 3, 'live_volume': 0.0, 'dead_volume': 140.0, 'stain': 'SYTOX Red Stain', 'time_point': '1'}\n",
      "{'experiment_id': 'r1dmsrursbqwuz', 'random_state': 3, 'live_volume': 0.0, 'dead_volume': 140.0, 'stain': nan, 'time_point': '1'}\n",
      "{'experiment_id': 'r1dmsrursbqwuz', 'random_state': 3, 'live_volume': 0.0, 'dead_volume': 210.0, 'stain': 'SYTOX Red Stain', 'time_point': '1'}\n",
      "{'experiment_id': 'r1dmsrursbqwuz', 'random_state': 3, 'live_volume': 0.0, 'dead_volume': 210.0, 'stain': nan, 'time_point': '1'}\n",
      "{'experiment_id': 'r1dmsrursbqwuz', 'random_state': 3, 'live_volume': 0.0, 'dead_volume': 280.0, 'stain': 'SYTOX Red Stain', 'time_point': '1'}\n",
      "{'experiment_id': 'r1dmsrursbqwuz', 'random_state': 3, 'live_volume': 0.0, 'dead_volume': 280.0, 'stain': nan, 'time_point': '1'}\n",
      "{'experiment_id': 'r1dmsrursbqwuz', 'random_state': 3, 'live_volume': 0.0, 'dead_volume': 1120.0, 'stain': 'SYTOX Red Stain', 'time_point': '1'}\n",
      "{'experiment_id': 'r1dmsrursbqwuz', 'random_state': 3, 'live_volume': 0.0, 'dead_volume': 1120.0, 'stain': nan, 'time_point': '1'}\n",
      "{'experiment_id': 'r1dmsrursbqwuz', 'random_state': 4, 'live_volume': 0.0, 'dead_volume': 140.0, 'stain': 'SYTOX Red Stain', 'time_point': '1'}\n",
      "{'experiment_id': 'r1dmsrursbqwuz', 'random_state': 4, 'live_volume': 0.0, 'dead_volume': 140.0, 'stain': nan, 'time_point': '1'}\n",
      "{'experiment_id': 'r1dmsrursbqwuz', 'random_state': 4, 'live_volume': 0.0, 'dead_volume': 210.0, 'stain': 'SYTOX Red Stain', 'time_point': '1'}\n",
      "{'experiment_id': 'r1dmsrursbqwuz', 'random_state': 4, 'live_volume': 0.0, 'dead_volume': 210.0, 'stain': nan, 'time_point': '1'}\n",
      "{'experiment_id': 'r1dmsrursbqwuz', 'random_state': 4, 'live_volume': 0.0, 'dead_volume': 280.0, 'stain': 'SYTOX Red Stain', 'time_point': '1'}\n",
      "{'experiment_id': 'r1dmsrursbqwuz', 'random_state': 4, 'live_volume': 0.0, 'dead_volume': 280.0, 'stain': nan, 'time_point': '1'}\n",
      "{'experiment_id': 'r1dmsrursbqwuz', 'random_state': 4, 'live_volume': 0.0, 'dead_volume': 1120.0, 'stain': 'SYTOX Red Stain', 'time_point': '1'}\n",
      "{'experiment_id': 'r1dmsrursbqwuz', 'random_state': 4, 'live_volume': 0.0, 'dead_volume': 1120.0, 'stain': nan, 'time_point': '1'}\n",
      "{'experiment_id': 'r1dmsrursbqwuz', 'random_state': 0, 'live_volume': 0.0, 'dead_volume': 1120.0, 'stain': nan, 'time_point': '4'}\n",
      "{'experiment_id': 'r1dmsrursbqwuz', 'random_state': 0, 'live_volume': 0.0, 'dead_volume': 1120.0, 'stain': 'SYTOX Red Stain', 'time_point': '4'}\n",
      "{'experiment_id': 'r1dmsrursbqwuz', 'random_state': 0, 'live_volume': 0.0, 'dead_volume': 280.0, 'stain': nan, 'time_point': '4'}\n",
      "{'experiment_id': 'r1dmsrursbqwuz', 'random_state': 0, 'live_volume': 0.0, 'dead_volume': 280.0, 'stain': 'SYTOX Red Stain', 'time_point': '4'}\n",
      "{'experiment_id': 'r1dmsrursbqwuz', 'random_state': 0, 'live_volume': 0.0, 'dead_volume': 210.0, 'stain': nan, 'time_point': '4'}\n",
      "{'experiment_id': 'r1dmsrursbqwuz', 'random_state': 0, 'live_volume': 0.0, 'dead_volume': 210.0, 'stain': 'SYTOX Red Stain', 'time_point': '4'}\n",
      "{'experiment_id': 'r1dmsrursbqwuz', 'random_state': 0, 'live_volume': 0.0, 'dead_volume': 140.0, 'stain': nan, 'time_point': '4'}\n",
      "{'experiment_id': 'r1dmsrursbqwuz', 'random_state': 0, 'live_volume': 0.0, 'dead_volume': 140.0, 'stain': 'SYTOX Red Stain', 'time_point': '4'}\n",
      "{'experiment_id': 'r1dmsrursbqwuz', 'random_state': 1, 'live_volume': 0.0, 'dead_volume': 1120.0, 'stain': nan, 'time_point': '4'}\n",
      "{'experiment_id': 'r1dmsrursbqwuz', 'random_state': 1, 'live_volume': 0.0, 'dead_volume': 1120.0, 'stain': 'SYTOX Red Stain', 'time_point': '4'}\n",
      "{'experiment_id': 'r1dmsrursbqwuz', 'random_state': 1, 'live_volume': 0.0, 'dead_volume': 280.0, 'stain': nan, 'time_point': '4'}\n",
      "{'experiment_id': 'r1dmsrursbqwuz', 'random_state': 1, 'live_volume': 0.0, 'dead_volume': 280.0, 'stain': 'SYTOX Red Stain', 'time_point': '4'}\n",
      "{'experiment_id': 'r1dmsrursbqwuz', 'random_state': 1, 'live_volume': 0.0, 'dead_volume': 210.0, 'stain': nan, 'time_point': '4'}\n",
      "{'experiment_id': 'r1dmsrursbqwuz', 'random_state': 1, 'live_volume': 0.0, 'dead_volume': 210.0, 'stain': 'SYTOX Red Stain', 'time_point': '4'}\n",
      "{'experiment_id': 'r1dmsrursbqwuz', 'random_state': 1, 'live_volume': 0.0, 'dead_volume': 140.0, 'stain': nan, 'time_point': '4'}\n",
      "{'experiment_id': 'r1dmsrursbqwuz', 'random_state': 1, 'live_volume': 0.0, 'dead_volume': 140.0, 'stain': 'SYTOX Red Stain', 'time_point': '4'}\n",
      "{'experiment_id': 'r1dmsrursbqwuz', 'random_state': 2, 'live_volume': 0.0, 'dead_volume': 1120.0, 'stain': nan, 'time_point': '4'}\n",
      "{'experiment_id': 'r1dmsrursbqwuz', 'random_state': 2, 'live_volume': 0.0, 'dead_volume': 1120.0, 'stain': 'SYTOX Red Stain', 'time_point': '4'}\n",
      "{'experiment_id': 'r1dmsrursbqwuz', 'random_state': 2, 'live_volume': 0.0, 'dead_volume': 280.0, 'stain': nan, 'time_point': '4'}\n",
      "{'experiment_id': 'r1dmsrursbqwuz', 'random_state': 2, 'live_volume': 0.0, 'dead_volume': 280.0, 'stain': 'SYTOX Red Stain', 'time_point': '4'}\n",
      "{'experiment_id': 'r1dmsrursbqwuz', 'random_state': 2, 'live_volume': 0.0, 'dead_volume': 210.0, 'stain': nan, 'time_point': '4'}\n",
      "{'experiment_id': 'r1dmsrursbqwuz', 'random_state': 2, 'live_volume': 0.0, 'dead_volume': 210.0, 'stain': 'SYTOX Red Stain', 'time_point': '4'}\n",
      "{'experiment_id': 'r1dmsrursbqwuz', 'random_state': 2, 'live_volume': 0.0, 'dead_volume': 140.0, 'stain': nan, 'time_point': '4'}\n",
      "{'experiment_id': 'r1dmsrursbqwuz', 'random_state': 2, 'live_volume': 0.0, 'dead_volume': 140.0, 'stain': 'SYTOX Red Stain', 'time_point': '4'}\n",
      "{'experiment_id': 'r1dmsrursbqwuz', 'random_state': 3, 'live_volume': 0.0, 'dead_volume': 1120.0, 'stain': nan, 'time_point': '4'}\n",
      "{'experiment_id': 'r1dmsrursbqwuz', 'random_state': 3, 'live_volume': 0.0, 'dead_volume': 1120.0, 'stain': 'SYTOX Red Stain', 'time_point': '4'}\n",
      "{'experiment_id': 'r1dmsrursbqwuz', 'random_state': 3, 'live_volume': 0.0, 'dead_volume': 280.0, 'stain': nan, 'time_point': '4'}\n",
      "{'experiment_id': 'r1dmsrursbqwuz', 'random_state': 3, 'live_volume': 0.0, 'dead_volume': 280.0, 'stain': 'SYTOX Red Stain', 'time_point': '4'}\n",
      "{'experiment_id': 'r1dmsrursbqwuz', 'random_state': 3, 'live_volume': 0.0, 'dead_volume': 210.0, 'stain': nan, 'time_point': '4'}\n",
      "{'experiment_id': 'r1dmsrursbqwuz', 'random_state': 3, 'live_volume': 0.0, 'dead_volume': 210.0, 'stain': 'SYTOX Red Stain', 'time_point': '4'}\n",
      "{'experiment_id': 'r1dmsrursbqwuz', 'random_state': 3, 'live_volume': 0.0, 'dead_volume': 140.0, 'stain': nan, 'time_point': '4'}\n",
      "{'experiment_id': 'r1dmsrursbqwuz', 'random_state': 3, 'live_volume': 0.0, 'dead_volume': 140.0, 'stain': 'SYTOX Red Stain', 'time_point': '4'}\n",
      "{'experiment_id': 'r1dmsrursbqwuz', 'random_state': 4, 'live_volume': 0.0, 'dead_volume': 1120.0, 'stain': nan, 'time_point': '4'}\n",
      "{'experiment_id': 'r1dmsrursbqwuz', 'random_state': 4, 'live_volume': 0.0, 'dead_volume': 1120.0, 'stain': 'SYTOX Red Stain', 'time_point': '4'}\n",
      "{'experiment_id': 'r1dmsrursbqwuz', 'random_state': 4, 'live_volume': 0.0, 'dead_volume': 280.0, 'stain': nan, 'time_point': '4'}\n",
      "{'experiment_id': 'r1dmsrursbqwuz', 'random_state': 4, 'live_volume': 0.0, 'dead_volume': 280.0, 'stain': 'SYTOX Red Stain', 'time_point': '4'}\n",
      "{'experiment_id': 'r1dmsrursbqwuz', 'random_state': 4, 'live_volume': 0.0, 'dead_volume': 210.0, 'stain': nan, 'time_point': '4'}\n",
      "{'experiment_id': 'r1dmsrursbqwuz', 'random_state': 4, 'live_volume': 0.0, 'dead_volume': 210.0, 'stain': 'SYTOX Red Stain', 'time_point': '4'}\n",
      "{'experiment_id': 'r1dmsrursbqwuz', 'random_state': 4, 'live_volume': 0.0, 'dead_volume': 140.0, 'stain': nan, 'time_point': '4'}\n",
      "{'experiment_id': 'r1dmsrursbqwuz', 'random_state': 4, 'live_volume': 0.0, 'dead_volume': 140.0, 'stain': 'SYTOX Red Stain', 'time_point': '4'}\n"
     ]
    },
    {
     "name": "stdout",
     "output_type": "stream",
     "text": [
      "{'experiment_id': 'r1dmsrursbqwuz', 'random_state': 0, 'live_volume': 0.0, 'dead_volume': 280.0, 'stain': nan, 'time_point': '5'}\n",
      "{'experiment_id': 'r1dmsrursbqwuz', 'random_state': 0, 'live_volume': 0.0, 'dead_volume': 280.0, 'stain': 'SYTOX Red Stain', 'time_point': '5'}\n",
      "{'experiment_id': 'r1dmsrursbqwuz', 'random_state': 0, 'live_volume': 0.0, 'dead_volume': 1120.0, 'stain': nan, 'time_point': '5'}\n",
      "{'experiment_id': 'r1dmsrursbqwuz', 'random_state': 0, 'live_volume': 0.0, 'dead_volume': 1120.0, 'stain': 'SYTOX Red Stain', 'time_point': '5'}\n",
      "{'experiment_id': 'r1dmsrursbqwuz', 'random_state': 0, 'live_volume': 0.0, 'dead_volume': 210.0, 'stain': nan, 'time_point': '5'}\n",
      "{'experiment_id': 'r1dmsrursbqwuz', 'random_state': 0, 'live_volume': 0.0, 'dead_volume': 210.0, 'stain': 'SYTOX Red Stain', 'time_point': '5'}\n",
      "{'experiment_id': 'r1dmsrursbqwuz', 'random_state': 0, 'live_volume': 0.0, 'dead_volume': 140.0, 'stain': nan, 'time_point': '5'}\n",
      "{'experiment_id': 'r1dmsrursbqwuz', 'random_state': 0, 'live_volume': 0.0, 'dead_volume': 140.0, 'stain': 'SYTOX Red Stain', 'time_point': '5'}\n",
      "{'experiment_id': 'r1dmsrursbqwuz', 'random_state': 1, 'live_volume': 0.0, 'dead_volume': 280.0, 'stain': nan, 'time_point': '5'}\n",
      "{'experiment_id': 'r1dmsrursbqwuz', 'random_state': 1, 'live_volume': 0.0, 'dead_volume': 280.0, 'stain': 'SYTOX Red Stain', 'time_point': '5'}\n",
      "{'experiment_id': 'r1dmsrursbqwuz', 'random_state': 1, 'live_volume': 0.0, 'dead_volume': 1120.0, 'stain': nan, 'time_point': '5'}\n",
      "{'experiment_id': 'r1dmsrursbqwuz', 'random_state': 1, 'live_volume': 0.0, 'dead_volume': 1120.0, 'stain': 'SYTOX Red Stain', 'time_point': '5'}\n",
      "{'experiment_id': 'r1dmsrursbqwuz', 'random_state': 1, 'live_volume': 0.0, 'dead_volume': 210.0, 'stain': nan, 'time_point': '5'}\n",
      "{'experiment_id': 'r1dmsrursbqwuz', 'random_state': 1, 'live_volume': 0.0, 'dead_volume': 210.0, 'stain': 'SYTOX Red Stain', 'time_point': '5'}\n",
      "{'experiment_id': 'r1dmsrursbqwuz', 'random_state': 1, 'live_volume': 0.0, 'dead_volume': 140.0, 'stain': nan, 'time_point': '5'}\n",
      "{'experiment_id': 'r1dmsrursbqwuz', 'random_state': 1, 'live_volume': 0.0, 'dead_volume': 140.0, 'stain': 'SYTOX Red Stain', 'time_point': '5'}\n",
      "{'experiment_id': 'r1dmsrursbqwuz', 'random_state': 2, 'live_volume': 0.0, 'dead_volume': 280.0, 'stain': nan, 'time_point': '5'}\n",
      "{'experiment_id': 'r1dmsrursbqwuz', 'random_state': 2, 'live_volume': 0.0, 'dead_volume': 280.0, 'stain': 'SYTOX Red Stain', 'time_point': '5'}\n",
      "{'experiment_id': 'r1dmsrursbqwuz', 'random_state': 2, 'live_volume': 0.0, 'dead_volume': 1120.0, 'stain': nan, 'time_point': '5'}\n",
      "{'experiment_id': 'r1dmsrursbqwuz', 'random_state': 2, 'live_volume': 0.0, 'dead_volume': 1120.0, 'stain': 'SYTOX Red Stain', 'time_point': '5'}\n",
      "{'experiment_id': 'r1dmsrursbqwuz', 'random_state': 2, 'live_volume': 0.0, 'dead_volume': 210.0, 'stain': nan, 'time_point': '5'}\n",
      "{'experiment_id': 'r1dmsrursbqwuz', 'random_state': 2, 'live_volume': 0.0, 'dead_volume': 210.0, 'stain': 'SYTOX Red Stain', 'time_point': '5'}\n",
      "{'experiment_id': 'r1dmsrursbqwuz', 'random_state': 2, 'live_volume': 0.0, 'dead_volume': 140.0, 'stain': nan, 'time_point': '5'}\n",
      "{'experiment_id': 'r1dmsrursbqwuz', 'random_state': 2, 'live_volume': 0.0, 'dead_volume': 140.0, 'stain': 'SYTOX Red Stain', 'time_point': '5'}\n",
      "{'experiment_id': 'r1dmsrursbqwuz', 'random_state': 3, 'live_volume': 0.0, 'dead_volume': 280.0, 'stain': nan, 'time_point': '5'}\n",
      "{'experiment_id': 'r1dmsrursbqwuz', 'random_state': 3, 'live_volume': 0.0, 'dead_volume': 280.0, 'stain': 'SYTOX Red Stain', 'time_point': '5'}\n",
      "{'experiment_id': 'r1dmsrursbqwuz', 'random_state': 3, 'live_volume': 0.0, 'dead_volume': 1120.0, 'stain': nan, 'time_point': '5'}\n",
      "{'experiment_id': 'r1dmsrursbqwuz', 'random_state': 3, 'live_volume': 0.0, 'dead_volume': 1120.0, 'stain': 'SYTOX Red Stain', 'time_point': '5'}\n",
      "{'experiment_id': 'r1dmsrursbqwuz', 'random_state': 3, 'live_volume': 0.0, 'dead_volume': 210.0, 'stain': nan, 'time_point': '5'}\n",
      "{'experiment_id': 'r1dmsrursbqwuz', 'random_state': 3, 'live_volume': 0.0, 'dead_volume': 210.0, 'stain': 'SYTOX Red Stain', 'time_point': '5'}\n",
      "{'experiment_id': 'r1dmsrursbqwuz', 'random_state': 3, 'live_volume': 0.0, 'dead_volume': 140.0, 'stain': nan, 'time_point': '5'}\n",
      "{'experiment_id': 'r1dmsrursbqwuz', 'random_state': 3, 'live_volume': 0.0, 'dead_volume': 140.0, 'stain': 'SYTOX Red Stain', 'time_point': '5'}\n",
      "{'experiment_id': 'r1dmsrursbqwuz', 'random_state': 4, 'live_volume': 0.0, 'dead_volume': 280.0, 'stain': nan, 'time_point': '5'}\n",
      "{'experiment_id': 'r1dmsrursbqwuz', 'random_state': 4, 'live_volume': 0.0, 'dead_volume': 280.0, 'stain': 'SYTOX Red Stain', 'time_point': '5'}\n",
      "{'experiment_id': 'r1dmsrursbqwuz', 'random_state': 4, 'live_volume': 0.0, 'dead_volume': 1120.0, 'stain': nan, 'time_point': '5'}\n",
      "{'experiment_id': 'r1dmsrursbqwuz', 'random_state': 4, 'live_volume': 0.0, 'dead_volume': 1120.0, 'stain': 'SYTOX Red Stain', 'time_point': '5'}\n",
      "{'experiment_id': 'r1dmsrursbqwuz', 'random_state': 4, 'live_volume': 0.0, 'dead_volume': 210.0, 'stain': nan, 'time_point': '5'}\n",
      "{'experiment_id': 'r1dmsrursbqwuz', 'random_state': 4, 'live_volume': 0.0, 'dead_volume': 210.0, 'stain': 'SYTOX Red Stain', 'time_point': '5'}\n",
      "{'experiment_id': 'r1dmsrursbqwuz', 'random_state': 4, 'live_volume': 0.0, 'dead_volume': 140.0, 'stain': nan, 'time_point': '5'}\n",
      "{'experiment_id': 'r1dmsrursbqwuz', 'random_state': 4, 'live_volume': 0.0, 'dead_volume': 140.0, 'stain': 'SYTOX Red Stain', 'time_point': '5'}\n",
      "{'experiment_id': 'r1dmsrursbqwuz', 'random_state': 0, 'live_volume': 0.0, 'dead_volume': 210.0, 'stain': nan, 'time_point': '7'}\n",
      "{'experiment_id': 'r1dmsrursbqwuz', 'random_state': 0, 'live_volume': 0.0, 'dead_volume': 210.0, 'stain': 'SYTOX Red Stain', 'time_point': '7'}\n",
      "{'experiment_id': 'r1dmsrursbqwuz', 'random_state': 0, 'live_volume': 0.0, 'dead_volume': 1120.0, 'stain': nan, 'time_point': '7'}\n",
      "{'experiment_id': 'r1dmsrursbqwuz', 'random_state': 0, 'live_volume': 0.0, 'dead_volume': 1120.0, 'stain': 'SYTOX Red Stain', 'time_point': '7'}\n",
      "{'experiment_id': 'r1dmsrursbqwuz', 'random_state': 0, 'live_volume': 0.0, 'dead_volume': 280.0, 'stain': nan, 'time_point': '7'}\n",
      "{'experiment_id': 'r1dmsrursbqwuz', 'random_state': 0, 'live_volume': 0.0, 'dead_volume': 280.0, 'stain': 'SYTOX Red Stain', 'time_point': '7'}\n",
      "{'experiment_id': 'r1dmsrursbqwuz', 'random_state': 0, 'live_volume': 0.0, 'dead_volume': 140.0, 'stain': nan, 'time_point': '7'}\n",
      "{'experiment_id': 'r1dmsrursbqwuz', 'random_state': 0, 'live_volume': 0.0, 'dead_volume': 140.0, 'stain': 'SYTOX Red Stain', 'time_point': '7'}\n",
      "{'experiment_id': 'r1dmsrursbqwuz', 'random_state': 1, 'live_volume': 0.0, 'dead_volume': 210.0, 'stain': nan, 'time_point': '7'}\n",
      "{'experiment_id': 'r1dmsrursbqwuz', 'random_state': 1, 'live_volume': 0.0, 'dead_volume': 210.0, 'stain': 'SYTOX Red Stain', 'time_point': '7'}\n",
      "{'experiment_id': 'r1dmsrursbqwuz', 'random_state': 1, 'live_volume': 0.0, 'dead_volume': 1120.0, 'stain': nan, 'time_point': '7'}\n",
      "{'experiment_id': 'r1dmsrursbqwuz', 'random_state': 1, 'live_volume': 0.0, 'dead_volume': 1120.0, 'stain': 'SYTOX Red Stain', 'time_point': '7'}\n",
      "{'experiment_id': 'r1dmsrursbqwuz', 'random_state': 1, 'live_volume': 0.0, 'dead_volume': 280.0, 'stain': nan, 'time_point': '7'}\n",
      "{'experiment_id': 'r1dmsrursbqwuz', 'random_state': 1, 'live_volume': 0.0, 'dead_volume': 280.0, 'stain': 'SYTOX Red Stain', 'time_point': '7'}\n",
      "{'experiment_id': 'r1dmsrursbqwuz', 'random_state': 1, 'live_volume': 0.0, 'dead_volume': 140.0, 'stain': nan, 'time_point': '7'}\n",
      "{'experiment_id': 'r1dmsrursbqwuz', 'random_state': 1, 'live_volume': 0.0, 'dead_volume': 140.0, 'stain': 'SYTOX Red Stain', 'time_point': '7'}\n",
      "{'experiment_id': 'r1dmsrursbqwuz', 'random_state': 2, 'live_volume': 0.0, 'dead_volume': 210.0, 'stain': nan, 'time_point': '7'}\n",
      "{'experiment_id': 'r1dmsrursbqwuz', 'random_state': 2, 'live_volume': 0.0, 'dead_volume': 210.0, 'stain': 'SYTOX Red Stain', 'time_point': '7'}\n",
      "{'experiment_id': 'r1dmsrursbqwuz', 'random_state': 2, 'live_volume': 0.0, 'dead_volume': 1120.0, 'stain': nan, 'time_point': '7'}\n",
      "{'experiment_id': 'r1dmsrursbqwuz', 'random_state': 2, 'live_volume': 0.0, 'dead_volume': 1120.0, 'stain': 'SYTOX Red Stain', 'time_point': '7'}\n"
     ]
    },
    {
     "name": "stdout",
     "output_type": "stream",
     "text": [
      "{'experiment_id': 'r1dmsrursbqwuz', 'random_state': 2, 'live_volume': 0.0, 'dead_volume': 280.0, 'stain': nan, 'time_point': '7'}\n",
      "{'experiment_id': 'r1dmsrursbqwuz', 'random_state': 2, 'live_volume': 0.0, 'dead_volume': 280.0, 'stain': 'SYTOX Red Stain', 'time_point': '7'}\n",
      "{'experiment_id': 'r1dmsrursbqwuz', 'random_state': 2, 'live_volume': 0.0, 'dead_volume': 140.0, 'stain': nan, 'time_point': '7'}\n",
      "{'experiment_id': 'r1dmsrursbqwuz', 'random_state': 2, 'live_volume': 0.0, 'dead_volume': 140.0, 'stain': 'SYTOX Red Stain', 'time_point': '7'}\n",
      "{'experiment_id': 'r1dmsrursbqwuz', 'random_state': 3, 'live_volume': 0.0, 'dead_volume': 210.0, 'stain': nan, 'time_point': '7'}\n",
      "{'experiment_id': 'r1dmsrursbqwuz', 'random_state': 3, 'live_volume': 0.0, 'dead_volume': 210.0, 'stain': 'SYTOX Red Stain', 'time_point': '7'}\n",
      "{'experiment_id': 'r1dmsrursbqwuz', 'random_state': 3, 'live_volume': 0.0, 'dead_volume': 1120.0, 'stain': nan, 'time_point': '7'}\n",
      "{'experiment_id': 'r1dmsrursbqwuz', 'random_state': 3, 'live_volume': 0.0, 'dead_volume': 1120.0, 'stain': 'SYTOX Red Stain', 'time_point': '7'}\n",
      "{'experiment_id': 'r1dmsrursbqwuz', 'random_state': 3, 'live_volume': 0.0, 'dead_volume': 280.0, 'stain': nan, 'time_point': '7'}\n",
      "{'experiment_id': 'r1dmsrursbqwuz', 'random_state': 3, 'live_volume': 0.0, 'dead_volume': 280.0, 'stain': 'SYTOX Red Stain', 'time_point': '7'}\n",
      "{'experiment_id': 'r1dmsrursbqwuz', 'random_state': 3, 'live_volume': 0.0, 'dead_volume': 140.0, 'stain': nan, 'time_point': '7'}\n",
      "{'experiment_id': 'r1dmsrursbqwuz', 'random_state': 3, 'live_volume': 0.0, 'dead_volume': 140.0, 'stain': 'SYTOX Red Stain', 'time_point': '7'}\n",
      "{'experiment_id': 'r1dmsrursbqwuz', 'random_state': 4, 'live_volume': 0.0, 'dead_volume': 210.0, 'stain': nan, 'time_point': '7'}\n",
      "{'experiment_id': 'r1dmsrursbqwuz', 'random_state': 4, 'live_volume': 0.0, 'dead_volume': 210.0, 'stain': 'SYTOX Red Stain', 'time_point': '7'}\n",
      "{'experiment_id': 'r1dmsrursbqwuz', 'random_state': 4, 'live_volume': 0.0, 'dead_volume': 1120.0, 'stain': nan, 'time_point': '7'}\n",
      "{'experiment_id': 'r1dmsrursbqwuz', 'random_state': 4, 'live_volume': 0.0, 'dead_volume': 1120.0, 'stain': 'SYTOX Red Stain', 'time_point': '7'}\n",
      "{'experiment_id': 'r1dmsrursbqwuz', 'random_state': 4, 'live_volume': 0.0, 'dead_volume': 280.0, 'stain': nan, 'time_point': '7'}\n",
      "{'experiment_id': 'r1dmsrursbqwuz', 'random_state': 4, 'live_volume': 0.0, 'dead_volume': 280.0, 'stain': 'SYTOX Red Stain', 'time_point': '7'}\n",
      "{'experiment_id': 'r1dmsrursbqwuz', 'random_state': 4, 'live_volume': 0.0, 'dead_volume': 140.0, 'stain': nan, 'time_point': '7'}\n",
      "{'experiment_id': 'r1dmsrursbqwuz', 'random_state': 4, 'live_volume': 0.0, 'dead_volume': 140.0, 'stain': 'SYTOX Red Stain', 'time_point': '7'}\n",
      "{'experiment_id': 'r1dmsrursbqwuz', 'random_state': 0, 'live_volume': 0.0, 'dead_volume': 140.0, 'stain': 'SYTOX Red Stain', 'time_point': '8'}\n",
      "{'experiment_id': 'r1dmsrursbqwuz', 'random_state': 0, 'live_volume': 0.0, 'dead_volume': 140.0, 'stain': nan, 'time_point': '8'}\n",
      "{'experiment_id': 'r1dmsrursbqwuz', 'random_state': 0, 'live_volume': 0.0, 'dead_volume': 280.0, 'stain': 'SYTOX Red Stain', 'time_point': '8'}\n",
      "{'experiment_id': 'r1dmsrursbqwuz', 'random_state': 0, 'live_volume': 0.0, 'dead_volume': 280.0, 'stain': nan, 'time_point': '8'}\n",
      "{'experiment_id': 'r1dmsrursbqwuz', 'random_state': 0, 'live_volume': 0.0, 'dead_volume': 210.0, 'stain': 'SYTOX Red Stain', 'time_point': '8'}\n",
      "{'experiment_id': 'r1dmsrursbqwuz', 'random_state': 0, 'live_volume': 0.0, 'dead_volume': 210.0, 'stain': nan, 'time_point': '8'}\n",
      "{'experiment_id': 'r1dmsrursbqwuz', 'random_state': 0, 'live_volume': 0.0, 'dead_volume': 1120.0, 'stain': 'SYTOX Red Stain', 'time_point': '8'}\n",
      "{'experiment_id': 'r1dmsrursbqwuz', 'random_state': 0, 'live_volume': 0.0, 'dead_volume': 1120.0, 'stain': nan, 'time_point': '8'}\n",
      "{'experiment_id': 'r1dmsrursbqwuz', 'random_state': 1, 'live_volume': 0.0, 'dead_volume': 140.0, 'stain': 'SYTOX Red Stain', 'time_point': '8'}\n",
      "{'experiment_id': 'r1dmsrursbqwuz', 'random_state': 1, 'live_volume': 0.0, 'dead_volume': 140.0, 'stain': nan, 'time_point': '8'}\n",
      "{'experiment_id': 'r1dmsrursbqwuz', 'random_state': 1, 'live_volume': 0.0, 'dead_volume': 280.0, 'stain': 'SYTOX Red Stain', 'time_point': '8'}\n",
      "{'experiment_id': 'r1dmsrursbqwuz', 'random_state': 1, 'live_volume': 0.0, 'dead_volume': 280.0, 'stain': nan, 'time_point': '8'}\n",
      "{'experiment_id': 'r1dmsrursbqwuz', 'random_state': 1, 'live_volume': 0.0, 'dead_volume': 210.0, 'stain': 'SYTOX Red Stain', 'time_point': '8'}\n",
      "{'experiment_id': 'r1dmsrursbqwuz', 'random_state': 1, 'live_volume': 0.0, 'dead_volume': 210.0, 'stain': nan, 'time_point': '8'}\n",
      "{'experiment_id': 'r1dmsrursbqwuz', 'random_state': 1, 'live_volume': 0.0, 'dead_volume': 1120.0, 'stain': 'SYTOX Red Stain', 'time_point': '8'}\n",
      "{'experiment_id': 'r1dmsrursbqwuz', 'random_state': 1, 'live_volume': 0.0, 'dead_volume': 1120.0, 'stain': nan, 'time_point': '8'}\n",
      "{'experiment_id': 'r1dmsrursbqwuz', 'random_state': 2, 'live_volume': 0.0, 'dead_volume': 140.0, 'stain': 'SYTOX Red Stain', 'time_point': '8'}\n",
      "{'experiment_id': 'r1dmsrursbqwuz', 'random_state': 2, 'live_volume': 0.0, 'dead_volume': 140.0, 'stain': nan, 'time_point': '8'}\n",
      "{'experiment_id': 'r1dmsrursbqwuz', 'random_state': 2, 'live_volume': 0.0, 'dead_volume': 280.0, 'stain': 'SYTOX Red Stain', 'time_point': '8'}\n",
      "{'experiment_id': 'r1dmsrursbqwuz', 'random_state': 2, 'live_volume': 0.0, 'dead_volume': 280.0, 'stain': nan, 'time_point': '8'}\n",
      "{'experiment_id': 'r1dmsrursbqwuz', 'random_state': 2, 'live_volume': 0.0, 'dead_volume': 210.0, 'stain': 'SYTOX Red Stain', 'time_point': '8'}\n",
      "{'experiment_id': 'r1dmsrursbqwuz', 'random_state': 2, 'live_volume': 0.0, 'dead_volume': 210.0, 'stain': nan, 'time_point': '8'}\n",
      "{'experiment_id': 'r1dmsrursbqwuz', 'random_state': 2, 'live_volume': 0.0, 'dead_volume': 1120.0, 'stain': 'SYTOX Red Stain', 'time_point': '8'}\n",
      "{'experiment_id': 'r1dmsrursbqwuz', 'random_state': 2, 'live_volume': 0.0, 'dead_volume': 1120.0, 'stain': nan, 'time_point': '8'}\n",
      "{'experiment_id': 'r1dmsrursbqwuz', 'random_state': 3, 'live_volume': 0.0, 'dead_volume': 140.0, 'stain': 'SYTOX Red Stain', 'time_point': '8'}\n",
      "{'experiment_id': 'r1dmsrursbqwuz', 'random_state': 3, 'live_volume': 0.0, 'dead_volume': 140.0, 'stain': nan, 'time_point': '8'}\n",
      "{'experiment_id': 'r1dmsrursbqwuz', 'random_state': 3, 'live_volume': 0.0, 'dead_volume': 280.0, 'stain': 'SYTOX Red Stain', 'time_point': '8'}\n",
      "{'experiment_id': 'r1dmsrursbqwuz', 'random_state': 3, 'live_volume': 0.0, 'dead_volume': 280.0, 'stain': nan, 'time_point': '8'}\n",
      "{'experiment_id': 'r1dmsrursbqwuz', 'random_state': 3, 'live_volume': 0.0, 'dead_volume': 210.0, 'stain': 'SYTOX Red Stain', 'time_point': '8'}\n",
      "{'experiment_id': 'r1dmsrursbqwuz', 'random_state': 3, 'live_volume': 0.0, 'dead_volume': 210.0, 'stain': nan, 'time_point': '8'}\n",
      "{'experiment_id': 'r1dmsrursbqwuz', 'random_state': 3, 'live_volume': 0.0, 'dead_volume': 1120.0, 'stain': 'SYTOX Red Stain', 'time_point': '8'}\n",
      "{'experiment_id': 'r1dmsrursbqwuz', 'random_state': 3, 'live_volume': 0.0, 'dead_volume': 1120.0, 'stain': nan, 'time_point': '8'}\n",
      "{'experiment_id': 'r1dmsrursbqwuz', 'random_state': 4, 'live_volume': 0.0, 'dead_volume': 140.0, 'stain': 'SYTOX Red Stain', 'time_point': '8'}\n",
      "{'experiment_id': 'r1dmsrursbqwuz', 'random_state': 4, 'live_volume': 0.0, 'dead_volume': 140.0, 'stain': nan, 'time_point': '8'}\n",
      "{'experiment_id': 'r1dmsrursbqwuz', 'random_state': 4, 'live_volume': 0.0, 'dead_volume': 280.0, 'stain': 'SYTOX Red Stain', 'time_point': '8'}\n",
      "{'experiment_id': 'r1dmsrursbqwuz', 'random_state': 4, 'live_volume': 0.0, 'dead_volume': 280.0, 'stain': nan, 'time_point': '8'}\n",
      "{'experiment_id': 'r1dmsrursbqwuz', 'random_state': 4, 'live_volume': 0.0, 'dead_volume': 210.0, 'stain': 'SYTOX Red Stain', 'time_point': '8'}\n",
      "{'experiment_id': 'r1dmsrursbqwuz', 'random_state': 4, 'live_volume': 0.0, 'dead_volume': 210.0, 'stain': nan, 'time_point': '8'}\n",
      "{'experiment_id': 'r1dmsrursbqwuz', 'random_state': 4, 'live_volume': 0.0, 'dead_volume': 1120.0, 'stain': 'SYTOX Red Stain', 'time_point': '8'}\n",
      "{'experiment_id': 'r1dmsrursbqwuz', 'random_state': 4, 'live_volume': 0.0, 'dead_volume': 1120.0, 'stain': nan, 'time_point': '8'}\n"
     ]
    },
    {
     "name": "stdout",
     "output_type": "stream",
     "text": [
      "{'experiment_id': 'r1dmsrursbqwuz', 'random_state': 0, 'live_volume': 0.0, 'dead_volume': 140.0, 'stain': 'SYTOX Red Stain', 'time_point': '9'}\n",
      "{'experiment_id': 'r1dmsrursbqwuz', 'random_state': 0, 'live_volume': 0.0, 'dead_volume': 140.0, 'stain': nan, 'time_point': '9'}\n",
      "{'experiment_id': 'r1dmsrursbqwuz', 'random_state': 0, 'live_volume': 0.0, 'dead_volume': 280.0, 'stain': 'SYTOX Red Stain', 'time_point': '9'}\n",
      "{'experiment_id': 'r1dmsrursbqwuz', 'random_state': 0, 'live_volume': 0.0, 'dead_volume': 280.0, 'stain': nan, 'time_point': '9'}\n",
      "{'experiment_id': 'r1dmsrursbqwuz', 'random_state': 0, 'live_volume': 0.0, 'dead_volume': 210.0, 'stain': 'SYTOX Red Stain', 'time_point': '9'}\n",
      "{'experiment_id': 'r1dmsrursbqwuz', 'random_state': 0, 'live_volume': 0.0, 'dead_volume': 210.0, 'stain': nan, 'time_point': '9'}\n",
      "{'experiment_id': 'r1dmsrursbqwuz', 'random_state': 0, 'live_volume': 0.0, 'dead_volume': 1120.0, 'stain': 'SYTOX Red Stain', 'time_point': '9'}\n",
      "{'experiment_id': 'r1dmsrursbqwuz', 'random_state': 0, 'live_volume': 0.0, 'dead_volume': 1120.0, 'stain': nan, 'time_point': '9'}\n",
      "{'experiment_id': 'r1dmsrursbqwuz', 'random_state': 1, 'live_volume': 0.0, 'dead_volume': 140.0, 'stain': 'SYTOX Red Stain', 'time_point': '9'}\n",
      "{'experiment_id': 'r1dmsrursbqwuz', 'random_state': 1, 'live_volume': 0.0, 'dead_volume': 140.0, 'stain': nan, 'time_point': '9'}\n",
      "{'experiment_id': 'r1dmsrursbqwuz', 'random_state': 1, 'live_volume': 0.0, 'dead_volume': 280.0, 'stain': 'SYTOX Red Stain', 'time_point': '9'}\n",
      "{'experiment_id': 'r1dmsrursbqwuz', 'random_state': 1, 'live_volume': 0.0, 'dead_volume': 280.0, 'stain': nan, 'time_point': '9'}\n",
      "{'experiment_id': 'r1dmsrursbqwuz', 'random_state': 1, 'live_volume': 0.0, 'dead_volume': 210.0, 'stain': 'SYTOX Red Stain', 'time_point': '9'}\n",
      "{'experiment_id': 'r1dmsrursbqwuz', 'random_state': 1, 'live_volume': 0.0, 'dead_volume': 210.0, 'stain': nan, 'time_point': '9'}\n",
      "{'experiment_id': 'r1dmsrursbqwuz', 'random_state': 1, 'live_volume': 0.0, 'dead_volume': 1120.0, 'stain': 'SYTOX Red Stain', 'time_point': '9'}\n",
      "{'experiment_id': 'r1dmsrursbqwuz', 'random_state': 1, 'live_volume': 0.0, 'dead_volume': 1120.0, 'stain': nan, 'time_point': '9'}\n",
      "{'experiment_id': 'r1dmsrursbqwuz', 'random_state': 2, 'live_volume': 0.0, 'dead_volume': 140.0, 'stain': 'SYTOX Red Stain', 'time_point': '9'}\n",
      "{'experiment_id': 'r1dmsrursbqwuz', 'random_state': 2, 'live_volume': 0.0, 'dead_volume': 140.0, 'stain': nan, 'time_point': '9'}\n",
      "{'experiment_id': 'r1dmsrursbqwuz', 'random_state': 2, 'live_volume': 0.0, 'dead_volume': 280.0, 'stain': 'SYTOX Red Stain', 'time_point': '9'}\n",
      "{'experiment_id': 'r1dmsrursbqwuz', 'random_state': 2, 'live_volume': 0.0, 'dead_volume': 280.0, 'stain': nan, 'time_point': '9'}\n",
      "{'experiment_id': 'r1dmsrursbqwuz', 'random_state': 2, 'live_volume': 0.0, 'dead_volume': 210.0, 'stain': 'SYTOX Red Stain', 'time_point': '9'}\n",
      "{'experiment_id': 'r1dmsrursbqwuz', 'random_state': 2, 'live_volume': 0.0, 'dead_volume': 210.0, 'stain': nan, 'time_point': '9'}\n",
      "{'experiment_id': 'r1dmsrursbqwuz', 'random_state': 2, 'live_volume': 0.0, 'dead_volume': 1120.0, 'stain': 'SYTOX Red Stain', 'time_point': '9'}\n",
      "{'experiment_id': 'r1dmsrursbqwuz', 'random_state': 2, 'live_volume': 0.0, 'dead_volume': 1120.0, 'stain': nan, 'time_point': '9'}\n",
      "{'experiment_id': 'r1dmsrursbqwuz', 'random_state': 3, 'live_volume': 0.0, 'dead_volume': 140.0, 'stain': 'SYTOX Red Stain', 'time_point': '9'}\n",
      "{'experiment_id': 'r1dmsrursbqwuz', 'random_state': 3, 'live_volume': 0.0, 'dead_volume': 140.0, 'stain': nan, 'time_point': '9'}\n",
      "{'experiment_id': 'r1dmsrursbqwuz', 'random_state': 3, 'live_volume': 0.0, 'dead_volume': 280.0, 'stain': 'SYTOX Red Stain', 'time_point': '9'}\n",
      "{'experiment_id': 'r1dmsrursbqwuz', 'random_state': 3, 'live_volume': 0.0, 'dead_volume': 280.0, 'stain': nan, 'time_point': '9'}\n",
      "{'experiment_id': 'r1dmsrursbqwuz', 'random_state': 3, 'live_volume': 0.0, 'dead_volume': 210.0, 'stain': 'SYTOX Red Stain', 'time_point': '9'}\n",
      "{'experiment_id': 'r1dmsrursbqwuz', 'random_state': 3, 'live_volume': 0.0, 'dead_volume': 210.0, 'stain': nan, 'time_point': '9'}\n",
      "{'experiment_id': 'r1dmsrursbqwuz', 'random_state': 3, 'live_volume': 0.0, 'dead_volume': 1120.0, 'stain': 'SYTOX Red Stain', 'time_point': '9'}\n",
      "{'experiment_id': 'r1dmsrursbqwuz', 'random_state': 3, 'live_volume': 0.0, 'dead_volume': 1120.0, 'stain': nan, 'time_point': '9'}\n",
      "{'experiment_id': 'r1dmsrursbqwuz', 'random_state': 4, 'live_volume': 0.0, 'dead_volume': 140.0, 'stain': 'SYTOX Red Stain', 'time_point': '9'}\n"
     ]
    },
    {
     "ename": "KeyboardInterrupt",
     "evalue": "",
     "output_type": "error",
     "traceback": [
      "\u001b[0;31m---------------------------------------------------------------------------\u001b[0m",
      "\u001b[0;31mKeyboardInterrupt\u001b[0m                         Traceback (most recent call last)",
      "\u001b[0;32m<ipython-input-12-20c3a9f3eb1b>\u001b[0m in \u001b[0;36m<module>\u001b[0;34m\u001b[0m\n\u001b[1;32m     11\u001b[0m                                       \u001b[0;34m'SSC-H'\u001b[0m\u001b[0;34m,\u001b[0m \u001b[0;34m'BL1-H'\u001b[0m\u001b[0;34m,\u001b[0m \u001b[0;34m'RL1-H'\u001b[0m\u001b[0;34m,\u001b[0m \u001b[0;34m'FSC-W'\u001b[0m\u001b[0;34m,\u001b[0m \u001b[0;34m'SSC-W'\u001b[0m\u001b[0;34m,\u001b[0m\u001b[0;34m\u001b[0m\u001b[0m\n\u001b[1;32m     12\u001b[0m                                       'BL1-W', 'RL1-W'],\n\u001b[0;32m---> 13\u001b[0;31m                            time_point=time_point)\n\u001b[0m\u001b[1;32m     14\u001b[0m \u001b[0;34m\u001b[0m\u001b[0m\n",
      "\u001b[0;32m~/Documents/sift/xplan/external/xplan/xplan-to-autoprotocol-reactor/xplan-dev-env/pysd2cat/src/pysd2cat/analysis/biofab_live_dead_analysis.py\u001b[0m in \u001b[0;36mtrain_models_for_stats\u001b[0;34m(experiment_df, out_dir, data_dir, fcs_columns, dead_volumes, live_volume, strain_column_name, time_point)\u001b[0m\n\u001b[1;32m     39\u001b[0m                 \u001b[0mprint\u001b[0m\u001b[0;34m(\u001b[0m\u001b[0mdescription\u001b[0m\u001b[0;34m)\u001b[0m\u001b[0;34m\u001b[0m\u001b[0m\n\u001b[1;32m     40\u001b[0m \u001b[0;34m\u001b[0m\u001b[0m\n\u001b[0;32m---> 41\u001b[0;31m                 \u001b[0;32mif\u001b[0m \u001b[0;32mnot\u001b[0m \u001b[0mleader_board_case_exists\u001b[0m\u001b[0;34m(\u001b[0m\u001b[0mout_dir\u001b[0m\u001b[0;34m,\u001b[0m \u001b[0mstr\u001b[0m\u001b[0;34m(\u001b[0m\u001b[0mdescription\u001b[0m\u001b[0;34m)\u001b[0m\u001b[0;34m)\u001b[0m\u001b[0;34m:\u001b[0m\u001b[0;34m\u001b[0m\u001b[0m\n\u001b[0m\u001b[1;32m     42\u001b[0m                     lda.add_live_dead_test_harness(df, \n\u001b[1;32m     43\u001b[0m                                                \u001b[0mstrain_column_name\u001b[0m\u001b[0;34m,\u001b[0m\u001b[0;34m\u001b[0m\u001b[0m\n",
      "\u001b[0;32m~/Documents/sift/xplan/external/xplan/xplan-to-autoprotocol-reactor/xplan-dev-env/pysd2cat/src/pysd2cat/analysis/biofab_live_dead_analysis.py\u001b[0m in \u001b[0;36mleader_board_case_exists\u001b[0;34m(out_dir, description)\u001b[0m\n\u001b[1;32m    199\u001b[0m \u001b[0;34m\u001b[0m\u001b[0m\n\u001b[1;32m    200\u001b[0m \u001b[0;32mdef\u001b[0m \u001b[0mleader_board_case_exists\u001b[0m\u001b[0;34m(\u001b[0m\u001b[0mout_dir\u001b[0m\u001b[0;34m,\u001b[0m \u001b[0mdescription\u001b[0m\u001b[0;34m)\u001b[0m\u001b[0;34m:\u001b[0m\u001b[0;34m\u001b[0m\u001b[0m\n\u001b[0;32m--> 201\u001b[0;31m     \u001b[0mleader_board_df\u001b[0m \u001b[0;34m=\u001b[0m \u001b[0mget_leader_board_df\u001b[0m\u001b[0;34m(\u001b[0m\u001b[0mout_dir\u001b[0m\u001b[0;34m,\u001b[0m \u001b[0mexpand_description\u001b[0m\u001b[0;34m=\u001b[0m\u001b[0;32mFalse\u001b[0m\u001b[0;34m)\u001b[0m\u001b[0;34m\u001b[0m\u001b[0m\n\u001b[0m\u001b[1;32m    202\u001b[0m     \u001b[0;32mreturn\u001b[0m \u001b[0mlen\u001b[0m\u001b[0;34m(\u001b[0m\u001b[0mleader_board_df\u001b[0m\u001b[0;34m.\u001b[0m\u001b[0mloc\u001b[0m\u001b[0;34m[\u001b[0m\u001b[0mleader_board_df\u001b[0m\u001b[0;34m[\u001b[0m\u001b[0;34m'Data and Split Description'\u001b[0m\u001b[0;34m]\u001b[0m \u001b[0;34m==\u001b[0m \u001b[0mdescription\u001b[0m\u001b[0;34m]\u001b[0m\u001b[0;34m)\u001b[0m \u001b[0;34m>\u001b[0m \u001b[0;36m0\u001b[0m\u001b[0;34m\u001b[0m\u001b[0m\n",
      "\u001b[0;32m~/Documents/sift/xplan/external/xplan/xplan-to-autoprotocol-reactor/xplan-dev-env/pysd2cat/src/pysd2cat/analysis/biofab_live_dead_analysis.py\u001b[0m in \u001b[0;36mget_leader_board_df\u001b[0;34m(out_dir, expand_description)\u001b[0m\n\u001b[1;32m    180\u001b[0m \u001b[0;32mdef\u001b[0m \u001b[0mget_leader_board_df\u001b[0m\u001b[0;34m(\u001b[0m\u001b[0mout_dir\u001b[0m\u001b[0;34m,\u001b[0m \u001b[0mexpand_description\u001b[0m\u001b[0;34m=\u001b[0m\u001b[0;32mTrue\u001b[0m\u001b[0;34m)\u001b[0m\u001b[0;34m:\u001b[0m\u001b[0;34m\u001b[0m\u001b[0m\n\u001b[1;32m    181\u001b[0m     \u001b[0mleader_board_path\u001b[0m\u001b[0;34m=\u001b[0m\u001b[0mos\u001b[0m\u001b[0;34m.\u001b[0m\u001b[0mpath\u001b[0m\u001b[0;34m.\u001b[0m\u001b[0mjoin\u001b[0m\u001b[0;34m(\u001b[0m\u001b[0mout_dir\u001b[0m\u001b[0;34m,\u001b[0m \u001b[0;34m'test_harness_results/custom_classification_leaderboard.html'\u001b[0m\u001b[0;34m)\u001b[0m\u001b[0;34m\u001b[0m\u001b[0m\n\u001b[0;32m--> 182\u001b[0;31m     \u001b[0mleader_board\u001b[0m \u001b[0;34m=\u001b[0m \u001b[0mpd\u001b[0m\u001b[0;34m.\u001b[0m\u001b[0mread_html\u001b[0m\u001b[0;34m(\u001b[0m\u001b[0mleader_board_path\u001b[0m\u001b[0;34m)\u001b[0m\u001b[0;34m[\u001b[0m\u001b[0;36m0\u001b[0m\u001b[0;34m]\u001b[0m\u001b[0;34m\u001b[0m\u001b[0m\n\u001b[0m\u001b[1;32m    183\u001b[0m     \u001b[0mleader_board\u001b[0m \u001b[0;34m=\u001b[0m \u001b[0mleader_board\u001b[0m\u001b[0;34m.\u001b[0m\u001b[0msort_values\u001b[0m\u001b[0;34m(\u001b[0m\u001b[0mby\u001b[0m\u001b[0;34m=\u001b[0m\u001b[0;34m[\u001b[0m\u001b[0;34m'Date'\u001b[0m\u001b[0;34m,\u001b[0m \u001b[0;34m'Time'\u001b[0m\u001b[0;34m]\u001b[0m\u001b[0;34m,\u001b[0m \u001b[0mascending\u001b[0m\u001b[0;34m=\u001b[0m\u001b[0;32mTrue\u001b[0m\u001b[0;34m)\u001b[0m\u001b[0;34m\u001b[0m\u001b[0m\n\u001b[1;32m    184\u001b[0m \u001b[0;34m\u001b[0m\u001b[0m\n",
      "\u001b[0;32m~/Documents/sift/xplan/external/xplan/xplan-to-autoprotocol-reactor/xplan-dev-env/xplan-dev-env/lib/python3.7/site-packages/pandas/io/html.py\u001b[0m in \u001b[0;36mread_html\u001b[0;34m(io, match, flavor, header, index_col, skiprows, attrs, parse_dates, thousands, encoding, decimal, converters, na_values, keep_default_na, displayed_only)\u001b[0m\n\u001b[1;32m   1103\u001b[0m         \u001b[0mna_values\u001b[0m\u001b[0;34m=\u001b[0m\u001b[0mna_values\u001b[0m\u001b[0;34m,\u001b[0m\u001b[0;34m\u001b[0m\u001b[0m\n\u001b[1;32m   1104\u001b[0m         \u001b[0mkeep_default_na\u001b[0m\u001b[0;34m=\u001b[0m\u001b[0mkeep_default_na\u001b[0m\u001b[0;34m,\u001b[0m\u001b[0;34m\u001b[0m\u001b[0m\n\u001b[0;32m-> 1105\u001b[0;31m         \u001b[0mdisplayed_only\u001b[0m\u001b[0;34m=\u001b[0m\u001b[0mdisplayed_only\u001b[0m\u001b[0;34m,\u001b[0m\u001b[0;34m\u001b[0m\u001b[0m\n\u001b[0m\u001b[1;32m   1106\u001b[0m     )\n",
      "\u001b[0;32m~/Documents/sift/xplan/external/xplan/xplan-to-autoprotocol-reactor/xplan-dev-env/xplan-dev-env/lib/python3.7/site-packages/pandas/io/html.py\u001b[0m in \u001b[0;36m_parse\u001b[0;34m(flavor, io, match, attrs, encoding, displayed_only, **kwargs)\u001b[0m\n\u001b[1;32m    913\u001b[0m \u001b[0;34m\u001b[0m\u001b[0m\n\u001b[1;32m    914\u001b[0m     \u001b[0mret\u001b[0m \u001b[0;34m=\u001b[0m \u001b[0;34m[\u001b[0m\u001b[0;34m]\u001b[0m\u001b[0;34m\u001b[0m\u001b[0m\n\u001b[0;32m--> 915\u001b[0;31m     \u001b[0;32mfor\u001b[0m \u001b[0mtable\u001b[0m \u001b[0;32min\u001b[0m \u001b[0mtables\u001b[0m\u001b[0;34m:\u001b[0m\u001b[0;34m\u001b[0m\u001b[0m\n\u001b[0m\u001b[1;32m    916\u001b[0m         \u001b[0;32mtry\u001b[0m\u001b[0;34m:\u001b[0m\u001b[0;34m\u001b[0m\u001b[0m\n\u001b[1;32m    917\u001b[0m             \u001b[0mret\u001b[0m\u001b[0;34m.\u001b[0m\u001b[0mappend\u001b[0m\u001b[0;34m(\u001b[0m\u001b[0m_data_to_frame\u001b[0m\u001b[0;34m(\u001b[0m\u001b[0mdata\u001b[0m\u001b[0;34m=\u001b[0m\u001b[0mtable\u001b[0m\u001b[0;34m,\u001b[0m \u001b[0;34m**\u001b[0m\u001b[0mkwargs\u001b[0m\u001b[0;34m)\u001b[0m\u001b[0;34m)\u001b[0m\u001b[0;34m\u001b[0m\u001b[0m\n",
      "\u001b[0;32m~/Documents/sift/xplan/external/xplan/xplan-to-autoprotocol-reactor/xplan-dev-env/xplan-dev-env/lib/python3.7/site-packages/pandas/io/html.py\u001b[0m in \u001b[0;36m<genexpr>\u001b[0;34m(.0)\u001b[0m\n\u001b[1;32m    211\u001b[0m         \"\"\"\n\u001b[1;32m    212\u001b[0m         \u001b[0mtables\u001b[0m \u001b[0;34m=\u001b[0m \u001b[0mself\u001b[0m\u001b[0;34m.\u001b[0m\u001b[0m_parse_tables\u001b[0m\u001b[0;34m(\u001b[0m\u001b[0mself\u001b[0m\u001b[0;34m.\u001b[0m\u001b[0m_build_doc\u001b[0m\u001b[0;34m(\u001b[0m\u001b[0;34m)\u001b[0m\u001b[0;34m,\u001b[0m \u001b[0mself\u001b[0m\u001b[0;34m.\u001b[0m\u001b[0mmatch\u001b[0m\u001b[0;34m,\u001b[0m \u001b[0mself\u001b[0m\u001b[0;34m.\u001b[0m\u001b[0mattrs\u001b[0m\u001b[0;34m)\u001b[0m\u001b[0;34m\u001b[0m\u001b[0m\n\u001b[0;32m--> 213\u001b[0;31m         \u001b[0;32mreturn\u001b[0m \u001b[0;34m(\u001b[0m\u001b[0mself\u001b[0m\u001b[0;34m.\u001b[0m\u001b[0m_parse_thead_tbody_tfoot\u001b[0m\u001b[0;34m(\u001b[0m\u001b[0mtable\u001b[0m\u001b[0;34m)\u001b[0m \u001b[0;32mfor\u001b[0m \u001b[0mtable\u001b[0m \u001b[0;32min\u001b[0m \u001b[0mtables\u001b[0m\u001b[0;34m)\u001b[0m\u001b[0;34m\u001b[0m\u001b[0m\n\u001b[0m\u001b[1;32m    214\u001b[0m \u001b[0;34m\u001b[0m\u001b[0m\n\u001b[1;32m    215\u001b[0m     \u001b[0;32mdef\u001b[0m \u001b[0m_attr_getter\u001b[0m\u001b[0;34m(\u001b[0m\u001b[0mself\u001b[0m\u001b[0;34m,\u001b[0m \u001b[0mobj\u001b[0m\u001b[0;34m,\u001b[0m \u001b[0mattr\u001b[0m\u001b[0;34m)\u001b[0m\u001b[0;34m:\u001b[0m\u001b[0;34m\u001b[0m\u001b[0m\n",
      "\u001b[0;32m~/Documents/sift/xplan/external/xplan/xplan-to-autoprotocol-reactor/xplan-dev-env/xplan-dev-env/lib/python3.7/site-packages/pandas/io/html.py\u001b[0m in \u001b[0;36m_parse_thead_tbody_tfoot\u001b[0;34m(self, table_html)\u001b[0m\n\u001b[1;32m    410\u001b[0m \u001b[0;34m\u001b[0m\u001b[0m\n\u001b[1;32m    411\u001b[0m         \u001b[0mheader\u001b[0m \u001b[0;34m=\u001b[0m \u001b[0mself\u001b[0m\u001b[0;34m.\u001b[0m\u001b[0m_expand_colspan_rowspan\u001b[0m\u001b[0;34m(\u001b[0m\u001b[0mheader_rows\u001b[0m\u001b[0;34m)\u001b[0m\u001b[0;34m\u001b[0m\u001b[0m\n\u001b[0;32m--> 412\u001b[0;31m         \u001b[0mbody\u001b[0m \u001b[0;34m=\u001b[0m \u001b[0mself\u001b[0m\u001b[0;34m.\u001b[0m\u001b[0m_expand_colspan_rowspan\u001b[0m\u001b[0;34m(\u001b[0m\u001b[0mbody_rows\u001b[0m\u001b[0;34m)\u001b[0m\u001b[0;34m\u001b[0m\u001b[0m\n\u001b[0m\u001b[1;32m    413\u001b[0m         \u001b[0mfooter\u001b[0m \u001b[0;34m=\u001b[0m \u001b[0mself\u001b[0m\u001b[0;34m.\u001b[0m\u001b[0m_expand_colspan_rowspan\u001b[0m\u001b[0;34m(\u001b[0m\u001b[0mfooter_rows\u001b[0m\u001b[0;34m)\u001b[0m\u001b[0;34m\u001b[0m\u001b[0m\n\u001b[1;32m    414\u001b[0m \u001b[0;34m\u001b[0m\u001b[0m\n",
      "\u001b[0;32m~/Documents/sift/xplan/external/xplan/xplan-to-autoprotocol-reactor/xplan-dev-env/xplan-dev-env/lib/python3.7/site-packages/pandas/io/html.py\u001b[0m in \u001b[0;36m_expand_colspan_rowspan\u001b[0;34m(self, rows)\u001b[0m\n\u001b[1;32m    455\u001b[0m \u001b[0;34m\u001b[0m\u001b[0m\n\u001b[1;32m    456\u001b[0m                 \u001b[0;31m# Append the text from this <td>, colspan times\u001b[0m\u001b[0;34m\u001b[0m\u001b[0;34m\u001b[0m\u001b[0m\n\u001b[0;32m--> 457\u001b[0;31m                 \u001b[0mtext\u001b[0m \u001b[0;34m=\u001b[0m \u001b[0m_remove_whitespace\u001b[0m\u001b[0;34m(\u001b[0m\u001b[0mself\u001b[0m\u001b[0;34m.\u001b[0m\u001b[0m_text_getter\u001b[0m\u001b[0;34m(\u001b[0m\u001b[0mtd\u001b[0m\u001b[0;34m)\u001b[0m\u001b[0;34m)\u001b[0m\u001b[0;34m\u001b[0m\u001b[0m\n\u001b[0m\u001b[1;32m    458\u001b[0m                 \u001b[0mrowspan\u001b[0m \u001b[0;34m=\u001b[0m \u001b[0mint\u001b[0m\u001b[0;34m(\u001b[0m\u001b[0mself\u001b[0m\u001b[0;34m.\u001b[0m\u001b[0m_attr_getter\u001b[0m\u001b[0;34m(\u001b[0m\u001b[0mtd\u001b[0m\u001b[0;34m,\u001b[0m \u001b[0;34m\"rowspan\"\u001b[0m\u001b[0;34m)\u001b[0m \u001b[0;32mor\u001b[0m \u001b[0;36m1\u001b[0m\u001b[0;34m)\u001b[0m\u001b[0;34m\u001b[0m\u001b[0m\n\u001b[1;32m    459\u001b[0m                 \u001b[0mcolspan\u001b[0m \u001b[0;34m=\u001b[0m \u001b[0mint\u001b[0m\u001b[0;34m(\u001b[0m\u001b[0mself\u001b[0m\u001b[0;34m.\u001b[0m\u001b[0m_attr_getter\u001b[0m\u001b[0;34m(\u001b[0m\u001b[0mtd\u001b[0m\u001b[0;34m,\u001b[0m \u001b[0;34m\"colspan\"\u001b[0m\u001b[0;34m)\u001b[0m \u001b[0;32mor\u001b[0m \u001b[0;36m1\u001b[0m\u001b[0;34m)\u001b[0m\u001b[0;34m\u001b[0m\u001b[0m\n",
      "\u001b[0;32m~/Documents/sift/xplan/external/xplan/xplan-to-autoprotocol-reactor/xplan-dev-env/xplan-dev-env/lib/python3.7/site-packages/pandas/io/html.py\u001b[0m in \u001b[0;36m_text_getter\u001b[0;34m(self, obj)\u001b[0m\n\u001b[1;32m    644\u001b[0m \u001b[0;34m\u001b[0m\u001b[0m\n\u001b[1;32m    645\u001b[0m     \u001b[0;32mdef\u001b[0m \u001b[0m_text_getter\u001b[0m\u001b[0;34m(\u001b[0m\u001b[0mself\u001b[0m\u001b[0;34m,\u001b[0m \u001b[0mobj\u001b[0m\u001b[0;34m)\u001b[0m\u001b[0;34m:\u001b[0m\u001b[0;34m\u001b[0m\u001b[0m\n\u001b[0;32m--> 646\u001b[0;31m         \u001b[0;32mreturn\u001b[0m \u001b[0mobj\u001b[0m\u001b[0;34m.\u001b[0m\u001b[0mtext_content\u001b[0m\u001b[0;34m(\u001b[0m\u001b[0;34m)\u001b[0m\u001b[0;34m\u001b[0m\u001b[0m\n\u001b[0m\u001b[1;32m    647\u001b[0m \u001b[0;34m\u001b[0m\u001b[0m\n\u001b[1;32m    648\u001b[0m     \u001b[0;32mdef\u001b[0m \u001b[0m_parse_td\u001b[0m\u001b[0;34m(\u001b[0m\u001b[0mself\u001b[0m\u001b[0;34m,\u001b[0m \u001b[0mrow\u001b[0m\u001b[0;34m)\u001b[0m\u001b[0;34m:\u001b[0m\u001b[0;34m\u001b[0m\u001b[0m\n",
      "\u001b[0;32m~/Documents/sift/xplan/external/xplan/xplan-to-autoprotocol-reactor/xplan-dev-env/xplan-dev-env/lib/python3.7/site-packages/lxml/html/__init__.py\u001b[0m in \u001b[0;36mtext_content\u001b[0;34m(self)\u001b[0m\n\u001b[1;32m    417\u001b[0m         \u001b[0mReturn\u001b[0m \u001b[0mthe\u001b[0m \u001b[0mtext\u001b[0m \u001b[0mcontent\u001b[0m \u001b[0mof\u001b[0m \u001b[0mthe\u001b[0m \u001b[0mtag\u001b[0m \u001b[0;34m(\u001b[0m\u001b[0;32mand\u001b[0m \u001b[0mthe\u001b[0m \u001b[0mtext\u001b[0m \u001b[0;32min\u001b[0m \u001b[0many\u001b[0m \u001b[0mchildren\u001b[0m\u001b[0;34m)\u001b[0m\u001b[0;34m.\u001b[0m\u001b[0;34m\u001b[0m\u001b[0m\n\u001b[1;32m    418\u001b[0m         \"\"\"\n\u001b[0;32m--> 419\u001b[0;31m         \u001b[0;32mreturn\u001b[0m \u001b[0m_collect_string_content\u001b[0m\u001b[0;34m(\u001b[0m\u001b[0mself\u001b[0m\u001b[0;34m)\u001b[0m\u001b[0;34m\u001b[0m\u001b[0m\n\u001b[0m\u001b[1;32m    420\u001b[0m \u001b[0;34m\u001b[0m\u001b[0m\n\u001b[1;32m    421\u001b[0m     \u001b[0;32mdef\u001b[0m \u001b[0mcssselect\u001b[0m\u001b[0;34m(\u001b[0m\u001b[0mself\u001b[0m\u001b[0;34m,\u001b[0m \u001b[0mexpr\u001b[0m\u001b[0;34m,\u001b[0m \u001b[0mtranslator\u001b[0m\u001b[0;34m=\u001b[0m\u001b[0;34m'html'\u001b[0m\u001b[0;34m)\u001b[0m\u001b[0;34m:\u001b[0m\u001b[0;34m\u001b[0m\u001b[0m\n",
      "\u001b[0;32msrc/lxml/xpath.pxi\u001b[0m in \u001b[0;36mlxml.etree.XPath.__call__\u001b[0;34m()\u001b[0m\n",
      "\u001b[0;32msrc/lxml/xpath.pxi\u001b[0m in \u001b[0;36mlxml.etree._XPathEvaluatorBase._handle_result\u001b[0;34m()\u001b[0m\n",
      "\u001b[0;32msrc/lxml/extensions.pxi\u001b[0m in \u001b[0;36mlxml.etree._unwrapXPathObject\u001b[0;34m()\u001b[0m\n",
      "\u001b[0;32msrc/lxml/extensions.pxi\u001b[0m in \u001b[0;36mlxml.etree._elementStringResultFactory\u001b[0;34m()\u001b[0m\n",
      "\u001b[0;31mKeyboardInterrupt\u001b[0m: "
     ]
    }
   ],
   "source": [
    "for p in plate_properties:\n",
    "    df = bld.get_container_data(work_dir, p['container'])\n",
    "    time_point = flow_data.loc[flow_data['container_name'] == p['container']]['time_point'].iloc[0]\n",
    "    dead_volumes = list(df.kill_volume.dropna().unique())\n",
    "    dead_volumes.remove(0.0)\n",
    "    #print(dead_volumes)\n",
    "    blda.train_models_for_stats(df, \n",
    "                            data_dir=work_dir, \n",
    "                            dead_volumes=dead_volumes,\n",
    "                            fcs_columns=['FSC-A', 'SSC-A', 'BL1-A', 'RL1-A', 'FSC-H', \n",
    "                                      'SSC-H', 'BL1-H', 'RL1-H', 'FSC-W', 'SSC-W',\n",
    "                                      'BL1-W', 'RL1-W'],\n",
    "                           time_point=time_point)\n",
    "\n"
   ]
  },
  {
   "cell_type": "code",
   "execution_count": 6,
   "metadata": {},
   "outputs": [
    {
     "name": "stderr",
     "output_type": "stream",
     "text": [
      "/Users/danbryce/Documents/sift/xplan/external/xplan/xplan-to-autoprotocol-reactor/xplan-dev-env/xplan-dev-env/lib/python3.7/site-packages/IPython/core/interactiveshell.py:3249: DtypeWarning: Columns (8) have mixed types. Specify dtype option on import or set low_memory=False.\n",
      "  if (await self.run_code(code, result,  async_=asy)):\n"
     ]
    },
    {
     "name": "stdout",
     "output_type": "stream",
     "text": [
      "output_col: live_280\n",
      "SYTOX Red Stain\n",
      "{'experiment_id': 'r1dnj926jr7q9g', 'random_state': 0, 'live_volume': 0, 'dead_volume': 280.0, 'stain': 'SYTOX Red Stain', 'prediction': True, 'time_point': 12}\n",
      "data_columns: ['Unnamed: 0', 'Unnamed: 0.1', 'Unnamed: 0.1.1', 'Unnamed: 0.1.1.1', 'checksum', 'filename', 'kill', 'kill_volume', 'stain', 'well', 'experiment_id', 'Time', 'FSC-A', 'SSC-A', 'BL1-A', 'RL1-A', 'FSC-H', 'SSC-H', 'BL1-H', 'RL1-H', 'FSC-W', 'SSC-W', 'BL1-W', 'RL1-W', 'index', 'live', 'live_210']\n"
     ]
    },
    {
     "name": "stderr",
     "output_type": "stream",
     "text": [
      "/Users/danbryce/Documents/sift/xplan/external/xplan/xplan-to-autoprotocol-reactor/xplan-dev-env/xplan-dev-env/lib/python3.7/site-packages/pandas/core/indexing.py:480: SettingWithCopyWarning: \n",
      "A value is trying to be set on a copy of a slice from a DataFrame.\n",
      "Try using .loc[row_indexer,col_indexer] = value instead\n",
      "\n",
      "See the caveats in the documentation: http://pandas.pydata.org/pandas-docs/stable/user_guide/indexing.html#returning-a-view-versus-a-copy\n",
      "  self.obj[item] = s\n"
     ]
    },
    {
     "name": "stdout",
     "output_type": "stream",
     "text": [
      "['FSC-A', 'SSC-A', 'BL1-A', 'RL1-A', 'FSC-H', 'SSC-H', 'BL1-H', 'RL1-H', 'FSC-W', 'SSC-W', 'BL1-W', 'RL1-W']\n",
      "\n",
      "<harness.test_harness_class.TestHarness object at 0x28eaaf0f0>\n",
      "----------------------------------------------------------------------------------------------------\n",
      "Starting run at time 11:05:48\n",
      "Normalizing training and testing splits...\n",
      "Starting Classification training...\n",
      "Training time was: 39.82 seconds\n",
      "Testing time was: 1.06 seconds\n",
      "Prediction time of untested data was: 8.583355903625488\n",
      "\n",
      "          Run ID        Date      Time                    Model Name Model Author Num Classes  Accuracy  Balanced Accuracy  AUC Score  Average Precision  F1 Score  Precision  Recall Samples In Train Samples In Test                                                                                      Model Description Column Predicted Num Features Used                                                                                                                                        Data and Split Description Normalized Num Features Normalized Feature Extraction Was Untested Data Predicted\n",
      "0  5JMgwkMjNz2zb  2019-10-18  11:05:48  random_forest_classification  Hamed        2           0.981     0.981              0.997      0.997              0.983     0.981      0.985   175235           43809           Random Forest: n_estimators=361, max_features=auto, criterion=entropy, min_samples_leaf=13, n_jobs=-1  class_label      12                {'experiment_id': 'r1dnj926jr7q9g', 'random_state': 0, 'live_volume': 0, 'dead_volume': 280.0, 'stain': 'SYTOX Red Stain', 'prediction': True, 'time_point': 12}  True       12                      False              True                      \n",
      "\n",
      "Run finished at 11:06:44. Total run time = 56.17 seconds\n",
      "^^^^^^^^^^^^^^^^^^^^^^^^^^^^^^^^^^^^^^^^^^^^^^^^^^^^^^^^^^^^^^^^^^^^^^^^^^^^^^^^^^^^^^^^^^^^^^^^^^^^\n",
      "\n",
      "\n",
      "\n",
      "\n",
      "nan\n",
      "{'experiment_id': 'r1dnj926jr7q9g', 'random_state': 0, 'live_volume': 0, 'dead_volume': 280.0, 'stain': nan, 'prediction': True, 'time_point': 12}\n",
      "data_columns: ['Unnamed: 0', 'Unnamed: 0.1', 'Unnamed: 0.1.1', 'Unnamed: 0.1.1.1', 'checksum', 'filename', 'kill', 'kill_volume', 'stain', 'well', 'experiment_id', 'Time', 'FSC-A', 'SSC-A', 'BL1-A', 'RL1-A', 'FSC-H', 'SSC-H', 'BL1-H', 'RL1-H', 'FSC-W', 'SSC-W', 'BL1-W', 'RL1-W', 'index', 'live', 'live_210']\n"
     ]
    },
    {
     "name": "stderr",
     "output_type": "stream",
     "text": [
      "/Users/danbryce/Documents/sift/xplan/external/xplan/xplan-to-autoprotocol-reactor/xplan-dev-env/xplan-dev-env/lib/python3.7/site-packages/pandas/core/indexing.py:480: SettingWithCopyWarning: \n",
      "A value is trying to be set on a copy of a slice from a DataFrame.\n",
      "Try using .loc[row_indexer,col_indexer] = value instead\n",
      "\n",
      "See the caveats in the documentation: http://pandas.pydata.org/pandas-docs/stable/user_guide/indexing.html#returning-a-view-versus-a-copy\n",
      "  self.obj[item] = s\n"
     ]
    },
    {
     "name": "stdout",
     "output_type": "stream",
     "text": [
      "['FSC-A', 'SSC-A', 'BL1-A', 'RL1-A', 'FSC-H', 'SSC-H', 'BL1-H', 'RL1-H', 'FSC-W', 'SSC-W', 'BL1-W', 'RL1-W']\n",
      "\n",
      "<harness.test_harness_class.TestHarness object at 0x298806b70>\n",
      "----------------------------------------------------------------------------------------------------\n",
      "Starting run at time 11:06:51\n",
      "Normalizing training and testing splits...\n",
      "Starting Classification training...\n",
      "Training time was: 33.32 seconds\n",
      "Testing time was: 0.86 seconds\n",
      "Prediction time of untested data was: 8.520494937896729\n",
      "\n",
      "          Run ID        Date      Time                    Model Name Model Author Num Classes  Accuracy  Balanced Accuracy  AUC Score  Average Precision  F1 Score  Precision  Recall Samples In Train Samples In Test                                                                                      Model Description Column Predicted Num Features Used                                                                                                                          Data and Split Description Normalized Num Features Normalized Feature Extraction Was Untested Data Predicted\n",
      "0  aMkjzjEa6yZDm  2019-10-18  11:06:51  random_forest_classification  Hamed        2           0.957     0.956              0.99       0.993              0.964     0.967      0.961   160368           40093           Random Forest: n_estimators=361, max_features=auto, criterion=entropy, min_samples_leaf=13, n_jobs=-1  class_label      12                {'experiment_id': 'r1dnj926jr7q9g', 'random_state': 0, 'live_volume': 0, 'dead_volume': 280.0, 'stain': nan, 'prediction': True, 'time_point': 12}  True       12                      False              True                      \n",
      "\n",
      "Run finished at 11:07:40. Total run time = 48.60 seconds\n",
      "^^^^^^^^^^^^^^^^^^^^^^^^^^^^^^^^^^^^^^^^^^^^^^^^^^^^^^^^^^^^^^^^^^^^^^^^^^^^^^^^^^^^^^^^^^^^^^^^^^^^\n",
      "\n",
      "\n",
      "\n",
      "\n"
     ]
    },
    {
     "name": "stderr",
     "output_type": "stream",
     "text": [
      "/Users/danbryce/Documents/sift/xplan/external/xplan/xplan-to-autoprotocol-reactor/xplan-dev-env/xplan-dev-env/lib/python3.7/site-packages/IPython/core/interactiveshell.py:3249: DtypeWarning: Columns (8) have mixed types. Specify dtype option on import or set low_memory=False.\n",
      "  if (await self.run_code(code, result,  async_=asy)):\n"
     ]
    },
    {
     "name": "stdout",
     "output_type": "stream",
     "text": [
      "output_col: live_280\n",
      "SYTOX Red Stain\n",
      "{'experiment_id': 'r1dnj926jr7q9g', 'random_state': 0, 'live_volume': 0, 'dead_volume': 280.0, 'stain': 'SYTOX Red Stain', 'prediction': True, 'time_point': 1}\n",
      "data_columns: ['Unnamed: 0', 'Unnamed: 0.1', 'Unnamed: 0.1.1', 'Unnamed: 0.1.1.1', 'checksum', 'filename', 'kill', 'kill_volume', 'stain', 'well', 'experiment_id', 'Time', 'FSC-A', 'SSC-A', 'BL1-A', 'RL1-A', 'FSC-H', 'SSC-H', 'BL1-H', 'RL1-H', 'FSC-W', 'SSC-W', 'BL1-W', 'RL1-W', 'index', 'live', 'live_210']\n"
     ]
    },
    {
     "name": "stderr",
     "output_type": "stream",
     "text": [
      "/Users/danbryce/Documents/sift/xplan/external/xplan/xplan-to-autoprotocol-reactor/xplan-dev-env/xplan-dev-env/lib/python3.7/site-packages/pandas/core/indexing.py:480: SettingWithCopyWarning: \n",
      "A value is trying to be set on a copy of a slice from a DataFrame.\n",
      "Try using .loc[row_indexer,col_indexer] = value instead\n",
      "\n",
      "See the caveats in the documentation: http://pandas.pydata.org/pandas-docs/stable/user_guide/indexing.html#returning-a-view-versus-a-copy\n",
      "  self.obj[item] = s\n"
     ]
    },
    {
     "name": "stdout",
     "output_type": "stream",
     "text": [
      "['FSC-A', 'SSC-A', 'BL1-A', 'RL1-A', 'FSC-H', 'SSC-H', 'BL1-H', 'RL1-H', 'FSC-W', 'SSC-W', 'BL1-W', 'RL1-W']\n",
      "\n",
      "<harness.test_harness_class.TestHarness object at 0x2fcde8e80>\n",
      "----------------------------------------------------------------------------------------------------\n",
      "Starting run at time 11:08:18\n",
      "Normalizing training and testing splits...\n",
      "Starting Classification training...\n",
      "Training time was: 41.04 seconds\n",
      "Testing time was: 0.86 seconds\n",
      "Prediction time of untested data was: 7.738464117050171\n",
      "\n",
      "          Run ID        Date      Time                    Model Name Model Author Num Classes  Accuracy  Balanced Accuracy  AUC Score  Average Precision  F1 Score  Precision  Recall Samples In Train Samples In Test                                                                                      Model Description Column Predicted Num Features Used                                                                                                                                       Data and Split Description Normalized Num Features Normalized Feature Extraction Was Untested Data Predicted\n",
      "0  5pGmQydvwYYqb  2019-10-18  11:08:18  random_forest_classification  Hamed        2           0.982     0.981              0.997      0.997              0.983     0.981      0.985   175235           43809           Random Forest: n_estimators=361, max_features=auto, criterion=entropy, min_samples_leaf=13, n_jobs=-1  class_label      12                {'experiment_id': 'r1dnj926jr7q9g', 'random_state': 0, 'live_volume': 0, 'dead_volume': 280.0, 'stain': 'SYTOX Red Stain', 'prediction': True, 'time_point': 1}  True       12                      False              True                      \n",
      "\n",
      "Run finished at 11:09:14. Total run time = 55.87 seconds\n",
      "^^^^^^^^^^^^^^^^^^^^^^^^^^^^^^^^^^^^^^^^^^^^^^^^^^^^^^^^^^^^^^^^^^^^^^^^^^^^^^^^^^^^^^^^^^^^^^^^^^^^\n",
      "\n",
      "\n",
      "\n",
      "\n",
      "nan\n",
      "{'experiment_id': 'r1dnj926jr7q9g', 'random_state': 0, 'live_volume': 0, 'dead_volume': 280.0, 'stain': nan, 'prediction': True, 'time_point': 1}\n",
      "data_columns: ['Unnamed: 0', 'Unnamed: 0.1', 'Unnamed: 0.1.1', 'Unnamed: 0.1.1.1', 'checksum', 'filename', 'kill', 'kill_volume', 'stain', 'well', 'experiment_id', 'Time', 'FSC-A', 'SSC-A', 'BL1-A', 'RL1-A', 'FSC-H', 'SSC-H', 'BL1-H', 'RL1-H', 'FSC-W', 'SSC-W', 'BL1-W', 'RL1-W', 'index', 'live', 'live_210']\n"
     ]
    },
    {
     "name": "stderr",
     "output_type": "stream",
     "text": [
      "/Users/danbryce/Documents/sift/xplan/external/xplan/xplan-to-autoprotocol-reactor/xplan-dev-env/xplan-dev-env/lib/python3.7/site-packages/pandas/core/indexing.py:480: SettingWithCopyWarning: \n",
      "A value is trying to be set on a copy of a slice from a DataFrame.\n",
      "Try using .loc[row_indexer,col_indexer] = value instead\n",
      "\n",
      "See the caveats in the documentation: http://pandas.pydata.org/pandas-docs/stable/user_guide/indexing.html#returning-a-view-versus-a-copy\n",
      "  self.obj[item] = s\n"
     ]
    },
    {
     "name": "stdout",
     "output_type": "stream",
     "text": [
      "['FSC-A', 'SSC-A', 'BL1-A', 'RL1-A', 'FSC-H', 'SSC-H', 'BL1-H', 'RL1-H', 'FSC-W', 'SSC-W', 'BL1-W', 'RL1-W']\n",
      "\n",
      "<harness.test_harness_class.TestHarness object at 0x1eb27cd68>\n",
      "----------------------------------------------------------------------------------------------------\n",
      "Starting run at time 11:09:20\n",
      "Normalizing training and testing splits...\n",
      "Starting Classification training...\n",
      "Training time was: 35.32 seconds\n",
      "Testing time was: 0.85 seconds\n",
      "Prediction time of untested data was: 8.665800094604492\n",
      "\n",
      "          Run ID        Date      Time                    Model Name Model Author Num Classes  Accuracy  Balanced Accuracy  AUC Score  Average Precision  F1 Score  Precision  Recall Samples In Train Samples In Test                                                                                      Model Description Column Predicted Num Features Used                                                                                                                         Data and Split Description Normalized Num Features Normalized Feature Extraction Was Untested Data Predicted\n",
      "0  EzVjNYmGVD8oM  2019-10-18  11:09:20  random_forest_classification  Hamed        2           0.957     0.956              0.991      0.993              0.964     0.967      0.961   160368           40093           Random Forest: n_estimators=361, max_features=auto, criterion=entropy, min_samples_leaf=13, n_jobs=-1  class_label      12                {'experiment_id': 'r1dnj926jr7q9g', 'random_state': 0, 'live_volume': 0, 'dead_volume': 280.0, 'stain': nan, 'prediction': True, 'time_point': 1}  True       12                      False              True                      \n",
      "\n",
      "Run finished at 11:10:11. Total run time = 50.71 seconds\n",
      "^^^^^^^^^^^^^^^^^^^^^^^^^^^^^^^^^^^^^^^^^^^^^^^^^^^^^^^^^^^^^^^^^^^^^^^^^^^^^^^^^^^^^^^^^^^^^^^^^^^^\n",
      "\n",
      "\n",
      "\n",
      "\n"
     ]
    },
    {
     "name": "stderr",
     "output_type": "stream",
     "text": [
      "/Users/danbryce/Documents/sift/xplan/external/xplan/xplan-to-autoprotocol-reactor/xplan-dev-env/xplan-dev-env/lib/python3.7/site-packages/IPython/core/interactiveshell.py:3249: DtypeWarning: Columns (8) have mixed types. Specify dtype option on import or set low_memory=False.\n",
      "  if (await self.run_code(code, result,  async_=asy)):\n"
     ]
    },
    {
     "name": "stdout",
     "output_type": "stream",
     "text": [
      "output_col: live_280\n",
      "SYTOX Red Stain\n",
      "{'experiment_id': 'r1dnj926jr7q9g', 'random_state': 0, 'live_volume': 0, 'dead_volume': 280.0, 'stain': 'SYTOX Red Stain', 'prediction': True, 'time_point': 4}\n",
      "data_columns: ['Unnamed: 0', 'Unnamed: 0.1', 'Unnamed: 0.1.1', 'Unnamed: 0.1.1.1', 'checksum', 'filename', 'kill', 'kill_volume', 'stain', 'well', 'experiment_id', 'Time', 'FSC-A', 'SSC-A', 'BL1-A', 'RL1-A', 'FSC-H', 'SSC-H', 'BL1-H', 'RL1-H', 'FSC-W', 'SSC-W', 'BL1-W', 'RL1-W', 'index', 'live', 'live_210']\n"
     ]
    },
    {
     "name": "stderr",
     "output_type": "stream",
     "text": [
      "/Users/danbryce/Documents/sift/xplan/external/xplan/xplan-to-autoprotocol-reactor/xplan-dev-env/xplan-dev-env/lib/python3.7/site-packages/pandas/core/indexing.py:480: SettingWithCopyWarning: \n",
      "A value is trying to be set on a copy of a slice from a DataFrame.\n",
      "Try using .loc[row_indexer,col_indexer] = value instead\n",
      "\n",
      "See the caveats in the documentation: http://pandas.pydata.org/pandas-docs/stable/user_guide/indexing.html#returning-a-view-versus-a-copy\n",
      "  self.obj[item] = s\n"
     ]
    },
    {
     "name": "stdout",
     "output_type": "stream",
     "text": [
      "['FSC-A', 'SSC-A', 'BL1-A', 'RL1-A', 'FSC-H', 'SSC-H', 'BL1-H', 'RL1-H', 'FSC-W', 'SSC-W', 'BL1-W', 'RL1-W']\n",
      "\n",
      "<harness.test_harness_class.TestHarness object at 0x166e94c50>\n",
      "----------------------------------------------------------------------------------------------------\n",
      "Starting run at time 11:10:45\n",
      "Normalizing training and testing splits...\n",
      "Starting Classification training...\n",
      "Training time was: 39.91 seconds\n",
      "Testing time was: 0.86 seconds\n",
      "Prediction time of untested data was: 4.0673017501831055\n",
      "\n",
      "          Run ID        Date      Time                    Model Name Model Author Num Classes  Accuracy  Balanced Accuracy  AUC Score  Average Precision  F1 Score  Precision  Recall Samples In Train Samples In Test                                                                                      Model Description Column Predicted Num Features Used                                                                                                                                       Data and Split Description Normalized Num Features Normalized Feature Extraction Was Untested Data Predicted\n",
      "0  aYlAkPOW73qwo  2019-10-18  11:10:45  random_forest_classification  Hamed        2           0.981     0.981              0.997      0.997              0.983     0.981      0.985   175235           43809           Random Forest: n_estimators=361, max_features=auto, criterion=entropy, min_samples_leaf=13, n_jobs=-1  class_label      12                {'experiment_id': 'r1dnj926jr7q9g', 'random_state': 0, 'live_volume': 0, 'dead_volume': 280.0, 'stain': 'SYTOX Red Stain', 'prediction': True, 'time_point': 4}  True       12                      False              True                      \n",
      "\n",
      "Run finished at 11:11:34. Total run time = 49.49 seconds\n",
      "^^^^^^^^^^^^^^^^^^^^^^^^^^^^^^^^^^^^^^^^^^^^^^^^^^^^^^^^^^^^^^^^^^^^^^^^^^^^^^^^^^^^^^^^^^^^^^^^^^^^\n",
      "\n",
      "\n",
      "\n",
      "\n",
      "nan\n",
      "{'experiment_id': 'r1dnj926jr7q9g', 'random_state': 0, 'live_volume': 0, 'dead_volume': 280.0, 'stain': nan, 'prediction': True, 'time_point': 4}\n",
      "data_columns: ['Unnamed: 0', 'Unnamed: 0.1', 'Unnamed: 0.1.1', 'Unnamed: 0.1.1.1', 'checksum', 'filename', 'kill', 'kill_volume', 'stain', 'well', 'experiment_id', 'Time', 'FSC-A', 'SSC-A', 'BL1-A', 'RL1-A', 'FSC-H', 'SSC-H', 'BL1-H', 'RL1-H', 'FSC-W', 'SSC-W', 'BL1-W', 'RL1-W', 'index', 'live', 'live_210']\n"
     ]
    },
    {
     "name": "stderr",
     "output_type": "stream",
     "text": [
      "/Users/danbryce/Documents/sift/xplan/external/xplan/xplan-to-autoprotocol-reactor/xplan-dev-env/xplan-dev-env/lib/python3.7/site-packages/pandas/core/indexing.py:480: SettingWithCopyWarning: \n",
      "A value is trying to be set on a copy of a slice from a DataFrame.\n",
      "Try using .loc[row_indexer,col_indexer] = value instead\n",
      "\n",
      "See the caveats in the documentation: http://pandas.pydata.org/pandas-docs/stable/user_guide/indexing.html#returning-a-view-versus-a-copy\n",
      "  self.obj[item] = s\n"
     ]
    },
    {
     "name": "stdout",
     "output_type": "stream",
     "text": [
      "['FSC-A', 'SSC-A', 'BL1-A', 'RL1-A', 'FSC-H', 'SSC-H', 'BL1-H', 'RL1-H', 'FSC-W', 'SSC-W', 'BL1-W', 'RL1-W']\n",
      "\n",
      "<harness.test_harness_class.TestHarness object at 0x179bc7e48>\n",
      "----------------------------------------------------------------------------------------------------\n",
      "Starting run at time 11:11:41\n",
      "Normalizing training and testing splits...\n",
      "Starting Classification training...\n",
      "Training time was: 34.19 seconds\n",
      "Testing time was: 0.86 seconds\n",
      "Prediction time of untested data was: 4.739112854003906\n",
      "\n",
      "          Run ID        Date      Time                    Model Name Model Author Num Classes  Accuracy  Balanced Accuracy  AUC Score  Average Precision  F1 Score  Precision  Recall Samples In Train Samples In Test                                                                                      Model Description Column Predicted Num Features Used                                                                                                                         Data and Split Description Normalized Num Features Normalized Feature Extraction Was Untested Data Predicted\n",
      "0  EpDEl2RREL2Jy  2019-10-18  11:11:41  random_forest_classification  Hamed        2           0.957     0.956              0.991      0.993              0.964     0.967      0.961   160368           40093           Random Forest: n_estimators=361, max_features=auto, criterion=entropy, min_samples_leaf=13, n_jobs=-1  class_label      12                {'experiment_id': 'r1dnj926jr7q9g', 'random_state': 0, 'live_volume': 0, 'dead_volume': 280.0, 'stain': nan, 'prediction': True, 'time_point': 4}  True       12                      False              True                      \n",
      "\n",
      "Run finished at 11:12:25. Total run time = 44.48 seconds\n",
      "^^^^^^^^^^^^^^^^^^^^^^^^^^^^^^^^^^^^^^^^^^^^^^^^^^^^^^^^^^^^^^^^^^^^^^^^^^^^^^^^^^^^^^^^^^^^^^^^^^^^\n",
      "\n",
      "\n",
      "\n",
      "\n"
     ]
    },
    {
     "name": "stderr",
     "output_type": "stream",
     "text": [
      "/Users/danbryce/Documents/sift/xplan/external/xplan/xplan-to-autoprotocol-reactor/xplan-dev-env/xplan-dev-env/lib/python3.7/site-packages/IPython/core/interactiveshell.py:3249: DtypeWarning: Columns (8) have mixed types. Specify dtype option on import or set low_memory=False.\n",
      "  if (await self.run_code(code, result,  async_=asy)):\n"
     ]
    },
    {
     "name": "stdout",
     "output_type": "stream",
     "text": [
      "output_col: live_280\n",
      "SYTOX Red Stain\n",
      "{'experiment_id': 'r1dnj926jr7q9g', 'random_state': 0, 'live_volume': 0, 'dead_volume': 280.0, 'stain': 'SYTOX Red Stain', 'prediction': True, 'time_point': 5}\n",
      "data_columns: ['Unnamed: 0', 'Unnamed: 0.1', 'Unnamed: 0.1.1', 'Unnamed: 0.1.1.1', 'checksum', 'filename', 'kill', 'kill_volume', 'stain', 'well', 'experiment_id', 'Time', 'FSC-A', 'SSC-A', 'BL1-A', 'RL1-A', 'FSC-H', 'SSC-H', 'BL1-H', 'RL1-H', 'FSC-W', 'SSC-W', 'BL1-W', 'RL1-W', 'index', 'live', 'live_210']\n"
     ]
    },
    {
     "name": "stderr",
     "output_type": "stream",
     "text": [
      "/Users/danbryce/Documents/sift/xplan/external/xplan/xplan-to-autoprotocol-reactor/xplan-dev-env/xplan-dev-env/lib/python3.7/site-packages/pandas/core/indexing.py:480: SettingWithCopyWarning: \n",
      "A value is trying to be set on a copy of a slice from a DataFrame.\n",
      "Try using .loc[row_indexer,col_indexer] = value instead\n",
      "\n",
      "See the caveats in the documentation: http://pandas.pydata.org/pandas-docs/stable/user_guide/indexing.html#returning-a-view-versus-a-copy\n",
      "  self.obj[item] = s\n"
     ]
    },
    {
     "name": "stdout",
     "output_type": "stream",
     "text": [
      "['FSC-A', 'SSC-A', 'BL1-A', 'RL1-A', 'FSC-H', 'SSC-H', 'BL1-H', 'RL1-H', 'FSC-W', 'SSC-W', 'BL1-W', 'RL1-W']\n",
      "\n",
      "<harness.test_harness_class.TestHarness object at 0x143f762b0>\n",
      "----------------------------------------------------------------------------------------------------\n",
      "Starting run at time 11:12:48\n",
      "Normalizing training and testing splits...\n",
      "Starting Classification training...\n",
      "Training time was: 39.59 seconds\n",
      "Testing time was: 0.96 seconds\n",
      "Prediction time of untested data was: 4.434279918670654\n",
      "\n",
      "          Run ID        Date      Time                    Model Name Model Author Num Classes  Accuracy  Balanced Accuracy  AUC Score  Average Precision  F1 Score  Precision  Recall Samples In Train Samples In Test                                                                                      Model Description Column Predicted Num Features Used                                                                                                                                       Data and Split Description Normalized Num Features Normalized Feature Extraction Was Untested Data Predicted\n",
      "0  EYDpQb9bzv6ee  2019-10-18  11:12:48  random_forest_classification  Hamed        2           0.981     0.981              0.997      0.997              0.983     0.981      0.985   175235           43809           Random Forest: n_estimators=361, max_features=auto, criterion=entropy, min_samples_leaf=13, n_jobs=-1  class_label      12                {'experiment_id': 'r1dnj926jr7q9g', 'random_state': 0, 'live_volume': 0, 'dead_volume': 280.0, 'stain': 'SYTOX Red Stain', 'prediction': True, 'time_point': 5}  True       12                      False              True                      \n",
      "\n",
      "Run finished at 11:13:38. Total run time = 49.63 seconds\n",
      "^^^^^^^^^^^^^^^^^^^^^^^^^^^^^^^^^^^^^^^^^^^^^^^^^^^^^^^^^^^^^^^^^^^^^^^^^^^^^^^^^^^^^^^^^^^^^^^^^^^^\n",
      "\n",
      "\n",
      "\n",
      "\n",
      "nan\n",
      "{'experiment_id': 'r1dnj926jr7q9g', 'random_state': 0, 'live_volume': 0, 'dead_volume': 280.0, 'stain': nan, 'prediction': True, 'time_point': 5}\n",
      "data_columns: ['Unnamed: 0', 'Unnamed: 0.1', 'Unnamed: 0.1.1', 'Unnamed: 0.1.1.1', 'checksum', 'filename', 'kill', 'kill_volume', 'stain', 'well', 'experiment_id', 'Time', 'FSC-A', 'SSC-A', 'BL1-A', 'RL1-A', 'FSC-H', 'SSC-H', 'BL1-H', 'RL1-H', 'FSC-W', 'SSC-W', 'BL1-W', 'RL1-W', 'index', 'live', 'live_210']\n"
     ]
    },
    {
     "name": "stderr",
     "output_type": "stream",
     "text": [
      "/Users/danbryce/Documents/sift/xplan/external/xplan/xplan-to-autoprotocol-reactor/xplan-dev-env/xplan-dev-env/lib/python3.7/site-packages/pandas/core/indexing.py:480: SettingWithCopyWarning: \n",
      "A value is trying to be set on a copy of a slice from a DataFrame.\n",
      "Try using .loc[row_indexer,col_indexer] = value instead\n",
      "\n",
      "See the caveats in the documentation: http://pandas.pydata.org/pandas-docs/stable/user_guide/indexing.html#returning-a-view-versus-a-copy\n",
      "  self.obj[item] = s\n"
     ]
    },
    {
     "name": "stdout",
     "output_type": "stream",
     "text": [
      "['FSC-A', 'SSC-A', 'BL1-A', 'RL1-A', 'FSC-H', 'SSC-H', 'BL1-H', 'RL1-H', 'FSC-W', 'SSC-W', 'BL1-W', 'RL1-W']\n",
      "\n",
      "<harness.test_harness_class.TestHarness object at 0x202e704a8>\n",
      "----------------------------------------------------------------------------------------------------\n",
      "Starting run at time 11:13:44\n",
      "Normalizing training and testing splits...\n",
      "Starting Classification training...\n",
      "Training time was: 33.92 seconds\n",
      "Testing time was: 1.06 seconds\n",
      "Prediction time of untested data was: 4.216387987136841\n",
      "\n",
      "          Run ID        Date      Time                    Model Name Model Author Num Classes  Accuracy  Balanced Accuracy  AUC Score  Average Precision  F1 Score  Precision  Recall Samples In Train Samples In Test                                                                                      Model Description Column Predicted Num Features Used                                                                                                                         Data and Split Description Normalized Num Features Normalized Feature Extraction Was Untested Data Predicted\n",
      "0  669o3DNjvVlz3  2019-10-18  11:13:44  random_forest_classification  Hamed        2           0.957     0.956              0.991      0.993              0.964     0.967      0.962   160368           40093           Random Forest: n_estimators=361, max_features=auto, criterion=entropy, min_samples_leaf=13, n_jobs=-1  class_label      12                {'experiment_id': 'r1dnj926jr7q9g', 'random_state': 0, 'live_volume': 0, 'dead_volume': 280.0, 'stain': nan, 'prediction': True, 'time_point': 5}  True       12                      False              True                      \n",
      "\n",
      "Run finished at 11:14:27. Total run time = 43.65 seconds\n",
      "^^^^^^^^^^^^^^^^^^^^^^^^^^^^^^^^^^^^^^^^^^^^^^^^^^^^^^^^^^^^^^^^^^^^^^^^^^^^^^^^^^^^^^^^^^^^^^^^^^^^\n",
      "\n",
      "\n",
      "\n",
      "\n"
     ]
    },
    {
     "name": "stderr",
     "output_type": "stream",
     "text": [
      "/Users/danbryce/Documents/sift/xplan/external/xplan/xplan-to-autoprotocol-reactor/xplan-dev-env/xplan-dev-env/lib/python3.7/site-packages/IPython/core/interactiveshell.py:3249: DtypeWarning: Columns (8) have mixed types. Specify dtype option on import or set low_memory=False.\n",
      "  if (await self.run_code(code, result,  async_=asy)):\n"
     ]
    },
    {
     "name": "stdout",
     "output_type": "stream",
     "text": [
      "output_col: live_280\n",
      "SYTOX Red Stain\n",
      "{'experiment_id': 'r1dnj926jr7q9g', 'random_state': 0, 'live_volume': 0, 'dead_volume': 280.0, 'stain': 'SYTOX Red Stain', 'prediction': True, 'time_point': 6}\n",
      "data_columns: ['Unnamed: 0', 'Unnamed: 0.1', 'Unnamed: 0.1.1', 'Unnamed: 0.1.1.1', 'checksum', 'filename', 'kill', 'kill_volume', 'stain', 'well', 'experiment_id', 'Time', 'FSC-A', 'SSC-A', 'BL1-A', 'RL1-A', 'FSC-H', 'SSC-H', 'BL1-H', 'RL1-H', 'FSC-W', 'SSC-W', 'BL1-W', 'RL1-W', 'index', 'live', 'live_210']\n"
     ]
    },
    {
     "name": "stderr",
     "output_type": "stream",
     "text": [
      "/Users/danbryce/Documents/sift/xplan/external/xplan/xplan-to-autoprotocol-reactor/xplan-dev-env/xplan-dev-env/lib/python3.7/site-packages/pandas/core/indexing.py:480: SettingWithCopyWarning: \n",
      "A value is trying to be set on a copy of a slice from a DataFrame.\n",
      "Try using .loc[row_indexer,col_indexer] = value instead\n",
      "\n",
      "See the caveats in the documentation: http://pandas.pydata.org/pandas-docs/stable/user_guide/indexing.html#returning-a-view-versus-a-copy\n",
      "  self.obj[item] = s\n"
     ]
    },
    {
     "name": "stdout",
     "output_type": "stream",
     "text": [
      "['FSC-A', 'SSC-A', 'BL1-A', 'RL1-A', 'FSC-H', 'SSC-H', 'BL1-H', 'RL1-H', 'FSC-W', 'SSC-W', 'BL1-W', 'RL1-W']\n",
      "\n",
      "<harness.test_harness_class.TestHarness object at 0x258ee9e10>\n",
      "----------------------------------------------------------------------------------------------------\n",
      "Starting run at time 11:14:49\n",
      "Normalizing training and testing splits...\n",
      "Starting Classification training...\n",
      "Training time was: 40.54 seconds\n",
      "Testing time was: 0.96 seconds\n",
      "Prediction time of untested data was: 4.9448089599609375\n",
      "\n",
      "          Run ID        Date      Time                    Model Name Model Author Num Classes  Accuracy  Balanced Accuracy  AUC Score  Average Precision  F1 Score  Precision  Recall Samples In Train Samples In Test                                                                                      Model Description Column Predicted Num Features Used                                                                                                                                       Data and Split Description Normalized Num Features Normalized Feature Extraction Was Untested Data Predicted\n",
      "0  agAm9kGxYRzLd  2019-10-18  11:14:49  random_forest_classification  Hamed        2           0.981     0.981              0.997      0.997              0.983     0.981      0.985   175235           43809           Random Forest: n_estimators=361, max_features=auto, criterion=entropy, min_samples_leaf=13, n_jobs=-1  class_label      12                {'experiment_id': 'r1dnj926jr7q9g', 'random_state': 0, 'live_volume': 0, 'dead_volume': 280.0, 'stain': 'SYTOX Red Stain', 'prediction': True, 'time_point': 6}  True       12                      False              True                      \n",
      "\n",
      "Run finished at 11:15:43. Total run time = 53.38 seconds\n",
      "^^^^^^^^^^^^^^^^^^^^^^^^^^^^^^^^^^^^^^^^^^^^^^^^^^^^^^^^^^^^^^^^^^^^^^^^^^^^^^^^^^^^^^^^^^^^^^^^^^^^\n",
      "\n",
      "\n",
      "\n",
      "\n",
      "nan\n",
      "{'experiment_id': 'r1dnj926jr7q9g', 'random_state': 0, 'live_volume': 0, 'dead_volume': 280.0, 'stain': nan, 'prediction': True, 'time_point': 6}\n",
      "data_columns: ['Unnamed: 0', 'Unnamed: 0.1', 'Unnamed: 0.1.1', 'Unnamed: 0.1.1.1', 'checksum', 'filename', 'kill', 'kill_volume', 'stain', 'well', 'experiment_id', 'Time', 'FSC-A', 'SSC-A', 'BL1-A', 'RL1-A', 'FSC-H', 'SSC-H', 'BL1-H', 'RL1-H', 'FSC-W', 'SSC-W', 'BL1-W', 'RL1-W', 'index', 'live', 'live_210']\n"
     ]
    },
    {
     "name": "stderr",
     "output_type": "stream",
     "text": [
      "/Users/danbryce/Documents/sift/xplan/external/xplan/xplan-to-autoprotocol-reactor/xplan-dev-env/xplan-dev-env/lib/python3.7/site-packages/pandas/core/indexing.py:480: SettingWithCopyWarning: \n",
      "A value is trying to be set on a copy of a slice from a DataFrame.\n",
      "Try using .loc[row_indexer,col_indexer] = value instead\n",
      "\n",
      "See the caveats in the documentation: http://pandas.pydata.org/pandas-docs/stable/user_guide/indexing.html#returning-a-view-versus-a-copy\n",
      "  self.obj[item] = s\n"
     ]
    },
    {
     "name": "stdout",
     "output_type": "stream",
     "text": [
      "['FSC-A', 'SSC-A', 'BL1-A', 'RL1-A', 'FSC-H', 'SSC-H', 'BL1-H', 'RL1-H', 'FSC-W', 'SSC-W', 'BL1-W', 'RL1-W']\n",
      "\n",
      "<harness.test_harness_class.TestHarness object at 0x12c569ac8>\n",
      "----------------------------------------------------------------------------------------------------\n",
      "Starting run at time 11:15:49\n",
      "Normalizing training and testing splits...\n",
      "Starting Classification training...\n",
      "Training time was: 34.16 seconds\n",
      "Testing time was: 1.06 seconds\n",
      "Prediction time of untested data was: 4.121462106704712\n",
      "\n",
      "          Run ID        Date      Time                    Model Name Model Author Num Classes  Accuracy  Balanced Accuracy  AUC Score  Average Precision  F1 Score  Precision  Recall Samples In Train Samples In Test                                                                                      Model Description Column Predicted Num Features Used                                                                                                                         Data and Split Description Normalized Num Features Normalized Feature Extraction Was Untested Data Predicted\n",
      "0  6DvlBo6plX1xq  2019-10-18  11:15:49  random_forest_classification  Hamed        2           0.958     0.957              0.991      0.993              0.964     0.967      0.962   160368           40093           Random Forest: n_estimators=361, max_features=auto, criterion=entropy, min_samples_leaf=13, n_jobs=-1  class_label      12                {'experiment_id': 'r1dnj926jr7q9g', 'random_state': 0, 'live_volume': 0, 'dead_volume': 280.0, 'stain': nan, 'prediction': True, 'time_point': 6}  True       12                      False              True                      \n",
      "\n",
      "Run finished at 11:16:33. Total run time = 43.72 seconds\n",
      "^^^^^^^^^^^^^^^^^^^^^^^^^^^^^^^^^^^^^^^^^^^^^^^^^^^^^^^^^^^^^^^^^^^^^^^^^^^^^^^^^^^^^^^^^^^^^^^^^^^^\n",
      "\n",
      "\n",
      "\n",
      "\n"
     ]
    },
    {
     "name": "stderr",
     "output_type": "stream",
     "text": [
      "/Users/danbryce/Documents/sift/xplan/external/xplan/xplan-to-autoprotocol-reactor/xplan-dev-env/xplan-dev-env/lib/python3.7/site-packages/IPython/core/interactiveshell.py:3249: DtypeWarning: Columns (8) have mixed types. Specify dtype option on import or set low_memory=False.\n",
      "  if (await self.run_code(code, result,  async_=asy)):\n"
     ]
    },
    {
     "name": "stdout",
     "output_type": "stream",
     "text": [
      "output_col: live_280\n",
      "SYTOX Red Stain\n",
      "{'experiment_id': 'r1dnj926jr7q9g', 'random_state': 0, 'live_volume': 0, 'dead_volume': 280.0, 'stain': 'SYTOX Red Stain', 'prediction': True, 'time_point': 7}\n",
      "data_columns: ['Unnamed: 0', 'Unnamed: 0.1', 'Unnamed: 0.1.1', 'Unnamed: 0.1.1.1', 'checksum', 'filename', 'kill', 'kill_volume', 'stain', 'well', 'experiment_id', 'Time', 'FSC-A', 'SSC-A', 'BL1-A', 'RL1-A', 'FSC-H', 'SSC-H', 'BL1-H', 'RL1-H', 'FSC-W', 'SSC-W', 'BL1-W', 'RL1-W', 'index', 'live', 'live_210']\n"
     ]
    },
    {
     "name": "stderr",
     "output_type": "stream",
     "text": [
      "/Users/danbryce/Documents/sift/xplan/external/xplan/xplan-to-autoprotocol-reactor/xplan-dev-env/xplan-dev-env/lib/python3.7/site-packages/pandas/core/indexing.py:480: SettingWithCopyWarning: \n",
      "A value is trying to be set on a copy of a slice from a DataFrame.\n",
      "Try using .loc[row_indexer,col_indexer] = value instead\n",
      "\n",
      "See the caveats in the documentation: http://pandas.pydata.org/pandas-docs/stable/user_guide/indexing.html#returning-a-view-versus-a-copy\n",
      "  self.obj[item] = s\n"
     ]
    },
    {
     "name": "stdout",
     "output_type": "stream",
     "text": [
      "['FSC-A', 'SSC-A', 'BL1-A', 'RL1-A', 'FSC-H', 'SSC-H', 'BL1-H', 'RL1-H', 'FSC-W', 'SSC-W', 'BL1-W', 'RL1-W']\n",
      "\n",
      "<harness.test_harness_class.TestHarness object at 0x1afc0bc50>\n",
      "----------------------------------------------------------------------------------------------------\n",
      "Starting run at time 11:16:55\n",
      "Normalizing training and testing splits...\n",
      "Starting Classification training...\n",
      "Training time was: 39.81 seconds\n",
      "Testing time was: 0.85 seconds\n",
      "Prediction time of untested data was: 5.279275178909302\n",
      "\n",
      "          Run ID        Date      Time                    Model Name Model Author Num Classes  Accuracy  Balanced Accuracy  AUC Score  Average Precision  F1 Score  Precision  Recall Samples In Train Samples In Test                                                                                      Model Description Column Predicted Num Features Used                                                                                                                                       Data and Split Description Normalized Num Features Normalized Feature Extraction Was Untested Data Predicted\n",
      "0  ap6plxOQoOG2R  2019-10-18  11:16:55  random_forest_classification  Hamed        2           0.982     0.981              0.997      0.997              0.983     0.981      0.985   175235           43809           Random Forest: n_estimators=361, max_features=auto, criterion=entropy, min_samples_leaf=13, n_jobs=-1  class_label      12                {'experiment_id': 'r1dnj926jr7q9g', 'random_state': 0, 'live_volume': 0, 'dead_volume': 280.0, 'stain': 'SYTOX Red Stain', 'prediction': True, 'time_point': 7}  True       12                      False              True                      \n",
      "\n",
      "Run finished at 11:17:46. Total run time = 50.86 seconds\n",
      "^^^^^^^^^^^^^^^^^^^^^^^^^^^^^^^^^^^^^^^^^^^^^^^^^^^^^^^^^^^^^^^^^^^^^^^^^^^^^^^^^^^^^^^^^^^^^^^^^^^^\n",
      "\n",
      "\n",
      "\n",
      "\n",
      "nan\n",
      "{'experiment_id': 'r1dnj926jr7q9g', 'random_state': 0, 'live_volume': 0, 'dead_volume': 280.0, 'stain': nan, 'prediction': True, 'time_point': 7}\n",
      "data_columns: ['Unnamed: 0', 'Unnamed: 0.1', 'Unnamed: 0.1.1', 'Unnamed: 0.1.1.1', 'checksum', 'filename', 'kill', 'kill_volume', 'stain', 'well', 'experiment_id', 'Time', 'FSC-A', 'SSC-A', 'BL1-A', 'RL1-A', 'FSC-H', 'SSC-H', 'BL1-H', 'RL1-H', 'FSC-W', 'SSC-W', 'BL1-W', 'RL1-W', 'index', 'live', 'live_210']\n"
     ]
    },
    {
     "name": "stderr",
     "output_type": "stream",
     "text": [
      "/Users/danbryce/Documents/sift/xplan/external/xplan/xplan-to-autoprotocol-reactor/xplan-dev-env/xplan-dev-env/lib/python3.7/site-packages/pandas/core/indexing.py:480: SettingWithCopyWarning: \n",
      "A value is trying to be set on a copy of a slice from a DataFrame.\n",
      "Try using .loc[row_indexer,col_indexer] = value instead\n",
      "\n",
      "See the caveats in the documentation: http://pandas.pydata.org/pandas-docs/stable/user_guide/indexing.html#returning-a-view-versus-a-copy\n",
      "  self.obj[item] = s\n"
     ]
    },
    {
     "name": "stdout",
     "output_type": "stream",
     "text": [
      "['FSC-A', 'SSC-A', 'BL1-A', 'RL1-A', 'FSC-H', 'SSC-H', 'BL1-H', 'RL1-H', 'FSC-W', 'SSC-W', 'BL1-W', 'RL1-W']\n",
      "\n",
      "<harness.test_harness_class.TestHarness object at 0x20b663c18>\n",
      "----------------------------------------------------------------------------------------------------\n",
      "Starting run at time 11:17:53\n",
      "Normalizing training and testing splits...\n",
      "Starting Classification training...\n",
      "Training time was: 33.99 seconds\n",
      "Testing time was: 1.04 seconds\n",
      "Prediction time of untested data was: 5.188194751739502\n",
      "\n",
      "          Run ID        Date      Time                    Model Name Model Author Num Classes  Accuracy  Balanced Accuracy  AUC Score  Average Precision  F1 Score  Precision  Recall Samples In Train Samples In Test                                                                                      Model Description Column Predicted Num Features Used                                                                                                                         Data and Split Description Normalized Num Features Normalized Feature Extraction Was Untested Data Predicted\n",
      "0  5OxeOPLpJ6L95  2019-10-18  11:17:53  random_forest_classification  Hamed        2           0.957     0.956              0.991      0.993              0.964     0.967      0.961   160368           40093           Random Forest: n_estimators=361, max_features=auto, criterion=entropy, min_samples_leaf=13, n_jobs=-1  class_label      12                {'experiment_id': 'r1dnj926jr7q9g', 'random_state': 0, 'live_volume': 0, 'dead_volume': 280.0, 'stain': nan, 'prediction': True, 'time_point': 7}  True       12                      False              True                      \n",
      "\n",
      "Run finished at 11:18:37. Total run time = 44.81 seconds\n",
      "^^^^^^^^^^^^^^^^^^^^^^^^^^^^^^^^^^^^^^^^^^^^^^^^^^^^^^^^^^^^^^^^^^^^^^^^^^^^^^^^^^^^^^^^^^^^^^^^^^^^\n",
      "\n",
      "\n",
      "\n",
      "\n"
     ]
    },
    {
     "name": "stderr",
     "output_type": "stream",
     "text": [
      "/Users/danbryce/Documents/sift/xplan/external/xplan/xplan-to-autoprotocol-reactor/xplan-dev-env/xplan-dev-env/lib/python3.7/site-packages/IPython/core/interactiveshell.py:3249: DtypeWarning: Columns (8) have mixed types. Specify dtype option on import or set low_memory=False.\n",
      "  if (await self.run_code(code, result,  async_=asy)):\n"
     ]
    },
    {
     "name": "stdout",
     "output_type": "stream",
     "text": [
      "output_col: live_280\n",
      "SYTOX Red Stain\n",
      "{'experiment_id': 'r1dnj926jr7q9g', 'random_state': 0, 'live_volume': 0, 'dead_volume': 280.0, 'stain': 'SYTOX Red Stain', 'prediction': True, 'time_point': 2}\n",
      "data_columns: ['Unnamed: 0', 'Unnamed: 0.1', 'Unnamed: 0.1.1', 'Unnamed: 0.1.1.1', 'checksum', 'filename', 'kill', 'kill_volume', 'stain', 'well', 'experiment_id', 'Time', 'FSC-A', 'SSC-A', 'BL1-A', 'RL1-A', 'FSC-H', 'SSC-H', 'BL1-H', 'RL1-H', 'FSC-W', 'SSC-W', 'BL1-W', 'RL1-W', 'index', 'live', 'live_210']\n"
     ]
    },
    {
     "name": "stderr",
     "output_type": "stream",
     "text": [
      "/Users/danbryce/Documents/sift/xplan/external/xplan/xplan-to-autoprotocol-reactor/xplan-dev-env/xplan-dev-env/lib/python3.7/site-packages/pandas/core/indexing.py:480: SettingWithCopyWarning: \n",
      "A value is trying to be set on a copy of a slice from a DataFrame.\n",
      "Try using .loc[row_indexer,col_indexer] = value instead\n",
      "\n",
      "See the caveats in the documentation: http://pandas.pydata.org/pandas-docs/stable/user_guide/indexing.html#returning-a-view-versus-a-copy\n",
      "  self.obj[item] = s\n"
     ]
    },
    {
     "name": "stdout",
     "output_type": "stream",
     "text": [
      "['FSC-A', 'SSC-A', 'BL1-A', 'RL1-A', 'FSC-H', 'SSC-H', 'BL1-H', 'RL1-H', 'FSC-W', 'SSC-W', 'BL1-W', 'RL1-W']\n",
      "\n",
      "<harness.test_harness_class.TestHarness object at 0x12df712b0>\n",
      "----------------------------------------------------------------------------------------------------\n",
      "Starting run at time 11:19:02\n",
      "Normalizing training and testing splits...\n",
      "Starting Classification training...\n",
      "Training time was: 40.39 seconds\n",
      "Testing time was: 0.96 seconds\n",
      "Prediction time of untested data was: 5.750208139419556\n",
      "\n",
      "          Run ID        Date      Time                    Model Name Model Author Num Classes  Accuracy  Balanced Accuracy  AUC Score  Average Precision  F1 Score  Precision  Recall Samples In Train Samples In Test                                                                                      Model Description Column Predicted Num Features Used                                                                                                                                       Data and Split Description Normalized Num Features Normalized Feature Extraction Was Untested Data Predicted\n",
      "0  Eo19bNlNWoWLM  2019-10-18  11:19:02  random_forest_classification  Hamed        2           0.982     0.981              0.997      0.997              0.983     0.981      0.985   175235           43809           Random Forest: n_estimators=361, max_features=auto, criterion=entropy, min_samples_leaf=13, n_jobs=-1  class_label      12                {'experiment_id': 'r1dnj926jr7q9g', 'random_state': 0, 'live_volume': 0, 'dead_volume': 280.0, 'stain': 'SYTOX Red Stain', 'prediction': True, 'time_point': 2}  True       12                      False              True                      \n",
      "\n",
      "Run finished at 11:19:54. Total run time = 52.46 seconds\n",
      "^^^^^^^^^^^^^^^^^^^^^^^^^^^^^^^^^^^^^^^^^^^^^^^^^^^^^^^^^^^^^^^^^^^^^^^^^^^^^^^^^^^^^^^^^^^^^^^^^^^^\n",
      "\n",
      "\n",
      "\n",
      "\n",
      "nan\n",
      "{'experiment_id': 'r1dnj926jr7q9g', 'random_state': 0, 'live_volume': 0, 'dead_volume': 280.0, 'stain': nan, 'prediction': True, 'time_point': 2}\n",
      "data_columns: ['Unnamed: 0', 'Unnamed: 0.1', 'Unnamed: 0.1.1', 'Unnamed: 0.1.1.1', 'checksum', 'filename', 'kill', 'kill_volume', 'stain', 'well', 'experiment_id', 'Time', 'FSC-A', 'SSC-A', 'BL1-A', 'RL1-A', 'FSC-H', 'SSC-H', 'BL1-H', 'RL1-H', 'FSC-W', 'SSC-W', 'BL1-W', 'RL1-W', 'index', 'live', 'live_210']\n"
     ]
    },
    {
     "name": "stderr",
     "output_type": "stream",
     "text": [
      "/Users/danbryce/Documents/sift/xplan/external/xplan/xplan-to-autoprotocol-reactor/xplan-dev-env/xplan-dev-env/lib/python3.7/site-packages/pandas/core/indexing.py:480: SettingWithCopyWarning: \n",
      "A value is trying to be set on a copy of a slice from a DataFrame.\n",
      "Try using .loc[row_indexer,col_indexer] = value instead\n",
      "\n",
      "See the caveats in the documentation: http://pandas.pydata.org/pandas-docs/stable/user_guide/indexing.html#returning-a-view-versus-a-copy\n",
      "  self.obj[item] = s\n"
     ]
    },
    {
     "name": "stdout",
     "output_type": "stream",
     "text": [
      "['FSC-A', 'SSC-A', 'BL1-A', 'RL1-A', 'FSC-H', 'SSC-H', 'BL1-H', 'RL1-H', 'FSC-W', 'SSC-W', 'BL1-W', 'RL1-W']\n",
      "\n",
      "<harness.test_harness_class.TestHarness object at 0x19e6eccf8>\n",
      "----------------------------------------------------------------------------------------------------\n",
      "Starting run at time 11:20:01\n",
      "Normalizing training and testing splits...\n",
      "Starting Classification training...\n",
      "Training time was: 34.76 seconds\n",
      "Testing time was: 1.06 seconds\n",
      "Prediction time of untested data was: 5.186525344848633\n",
      "\n",
      "          Run ID        Date      Time                    Model Name Model Author Num Classes  Accuracy  Balanced Accuracy  AUC Score  Average Precision  F1 Score  Precision  Recall Samples In Train Samples In Test                                                                                      Model Description Column Predicted Num Features Used                                                                                                                         Data and Split Description Normalized Num Features Normalized Feature Extraction Was Untested Data Predicted\n",
      "0  6AgPGq899eb3G  2019-10-18  11:20:01  random_forest_classification  Hamed        2           0.957     0.956              0.991      0.993              0.964     0.967      0.961   160368           40093           Random Forest: n_estimators=361, max_features=auto, criterion=entropy, min_samples_leaf=13, n_jobs=-1  class_label      12                {'experiment_id': 'r1dnj926jr7q9g', 'random_state': 0, 'live_volume': 0, 'dead_volume': 280.0, 'stain': nan, 'prediction': True, 'time_point': 2}  True       12                      False              True                      \n",
      "\n",
      "Run finished at 11:20:48. Total run time = 46.78 seconds\n",
      "^^^^^^^^^^^^^^^^^^^^^^^^^^^^^^^^^^^^^^^^^^^^^^^^^^^^^^^^^^^^^^^^^^^^^^^^^^^^^^^^^^^^^^^^^^^^^^^^^^^^\n",
      "\n",
      "\n",
      "\n",
      "\n"
     ]
    },
    {
     "name": "stderr",
     "output_type": "stream",
     "text": [
      "/Users/danbryce/Documents/sift/xplan/external/xplan/xplan-to-autoprotocol-reactor/xplan-dev-env/xplan-dev-env/lib/python3.7/site-packages/IPython/core/interactiveshell.py:3249: DtypeWarning: Columns (8) have mixed types. Specify dtype option on import or set low_memory=False.\n",
      "  if (await self.run_code(code, result,  async_=asy)):\n"
     ]
    },
    {
     "name": "stdout",
     "output_type": "stream",
     "text": [
      "output_col: live_280\n",
      "SYTOX Red Stain\n",
      "{'experiment_id': 'r1dnj926jr7q9g', 'random_state': 0, 'live_volume': 0, 'dead_volume': 280.0, 'stain': 'SYTOX Red Stain', 'prediction': True, 'time_point': 3}\n",
      "data_columns: ['Unnamed: 0', 'Unnamed: 0.1', 'Unnamed: 0.1.1', 'Unnamed: 0.1.1.1', 'checksum', 'filename', 'kill', 'kill_volume', 'stain', 'well', 'experiment_id', 'Time', 'FSC-A', 'SSC-A', 'BL1-A', 'RL1-A', 'FSC-H', 'SSC-H', 'BL1-H', 'RL1-H', 'FSC-W', 'SSC-W', 'BL1-W', 'RL1-W', 'index', 'live', 'live_210']\n"
     ]
    },
    {
     "name": "stderr",
     "output_type": "stream",
     "text": [
      "/Users/danbryce/Documents/sift/xplan/external/xplan/xplan-to-autoprotocol-reactor/xplan-dev-env/xplan-dev-env/lib/python3.7/site-packages/pandas/core/indexing.py:480: SettingWithCopyWarning: \n",
      "A value is trying to be set on a copy of a slice from a DataFrame.\n",
      "Try using .loc[row_indexer,col_indexer] = value instead\n",
      "\n",
      "See the caveats in the documentation: http://pandas.pydata.org/pandas-docs/stable/user_guide/indexing.html#returning-a-view-versus-a-copy\n",
      "  self.obj[item] = s\n"
     ]
    },
    {
     "name": "stdout",
     "output_type": "stream",
     "text": [
      "['FSC-A', 'SSC-A', 'BL1-A', 'RL1-A', 'FSC-H', 'SSC-H', 'BL1-H', 'RL1-H', 'FSC-W', 'SSC-W', 'BL1-W', 'RL1-W']\n",
      "\n",
      "<harness.test_harness_class.TestHarness object at 0x1fae326a0>\n",
      "----------------------------------------------------------------------------------------------------\n",
      "Starting run at time 11:21:14\n",
      "Normalizing training and testing splits...\n",
      "Starting Classification training...\n",
      "Training time was: 41.36 seconds\n",
      "Testing time was: 1.06 seconds\n",
      "Prediction time of untested data was: 5.670378684997559\n",
      "\n",
      "          Run ID        Date      Time                    Model Name Model Author Num Classes  Accuracy  Balanced Accuracy  AUC Score  Average Precision  F1 Score  Precision  Recall Samples In Train Samples In Test                                                                                      Model Description Column Predicted Num Features Used                                                                                                                                       Data and Split Description Normalized Num Features Normalized Feature Extraction Was Untested Data Predicted\n",
      "0  5WDjjR9Ed22E8  2019-10-18  11:21:14  random_forest_classification  Hamed        2           0.981     0.981              0.997      0.997              0.983     0.981      0.985   175235           43809           Random Forest: n_estimators=361, max_features=auto, criterion=entropy, min_samples_leaf=13, n_jobs=-1  class_label      12                {'experiment_id': 'r1dnj926jr7q9g', 'random_state': 0, 'live_volume': 0, 'dead_volume': 280.0, 'stain': 'SYTOX Red Stain', 'prediction': True, 'time_point': 3}  True       12                      False              True                      \n",
      "\n",
      "Run finished at 11:22:08. Total run time = 53.89 seconds\n",
      "^^^^^^^^^^^^^^^^^^^^^^^^^^^^^^^^^^^^^^^^^^^^^^^^^^^^^^^^^^^^^^^^^^^^^^^^^^^^^^^^^^^^^^^^^^^^^^^^^^^^\n",
      "\n",
      "\n",
      "\n",
      "\n",
      "nan\n",
      "{'experiment_id': 'r1dnj926jr7q9g', 'random_state': 0, 'live_volume': 0, 'dead_volume': 280.0, 'stain': nan, 'prediction': True, 'time_point': 3}\n",
      "data_columns: ['Unnamed: 0', 'Unnamed: 0.1', 'Unnamed: 0.1.1', 'Unnamed: 0.1.1.1', 'checksum', 'filename', 'kill', 'kill_volume', 'stain', 'well', 'experiment_id', 'Time', 'FSC-A', 'SSC-A', 'BL1-A', 'RL1-A', 'FSC-H', 'SSC-H', 'BL1-H', 'RL1-H', 'FSC-W', 'SSC-W', 'BL1-W', 'RL1-W', 'index', 'live', 'live_210']\n"
     ]
    },
    {
     "name": "stderr",
     "output_type": "stream",
     "text": [
      "/Users/danbryce/Documents/sift/xplan/external/xplan/xplan-to-autoprotocol-reactor/xplan-dev-env/xplan-dev-env/lib/python3.7/site-packages/pandas/core/indexing.py:480: SettingWithCopyWarning: \n",
      "A value is trying to be set on a copy of a slice from a DataFrame.\n",
      "Try using .loc[row_indexer,col_indexer] = value instead\n",
      "\n",
      "See the caveats in the documentation: http://pandas.pydata.org/pandas-docs/stable/user_guide/indexing.html#returning-a-view-versus-a-copy\n",
      "  self.obj[item] = s\n"
     ]
    },
    {
     "name": "stdout",
     "output_type": "stream",
     "text": [
      "['FSC-A', 'SSC-A', 'BL1-A', 'RL1-A', 'FSC-H', 'SSC-H', 'BL1-H', 'RL1-H', 'FSC-W', 'SSC-W', 'BL1-W', 'RL1-W']\n",
      "\n",
      "<harness.test_harness_class.TestHarness object at 0x137cdefd0>\n",
      "----------------------------------------------------------------------------------------------------\n",
      "Starting run at time 11:22:16\n",
      "Normalizing training and testing splits...\n",
      "Starting Classification training...\n",
      "Training time was: 34.70 seconds\n",
      "Testing time was: 1.06 seconds\n",
      "Prediction time of untested data was: 5.619732141494751\n",
      "\n",
      "          Run ID        Date      Time                    Model Name Model Author Num Classes  Accuracy  Balanced Accuracy  AUC Score  Average Precision  F1 Score  Precision  Recall Samples In Train Samples In Test                                                                                      Model Description Column Predicted Num Features Used                                                                                                                         Data and Split Description Normalized Num Features Normalized Feature Extraction Was Untested Data Predicted\n",
      "0  agV3J99a9lpN6  2019-10-18  11:22:16  random_forest_classification  Hamed        2           0.957     0.956              0.991      0.993              0.964     0.967      0.961   160368           40093           Random Forest: n_estimators=361, max_features=auto, criterion=entropy, min_samples_leaf=13, n_jobs=-1  class_label      12                {'experiment_id': 'r1dnj926jr7q9g', 'random_state': 0, 'live_volume': 0, 'dead_volume': 280.0, 'stain': nan, 'prediction': True, 'time_point': 3}  True       12                      False              True                      \n",
      "\n",
      "Run finished at 11:23:02. Total run time = 46.31 seconds\n",
      "^^^^^^^^^^^^^^^^^^^^^^^^^^^^^^^^^^^^^^^^^^^^^^^^^^^^^^^^^^^^^^^^^^^^^^^^^^^^^^^^^^^^^^^^^^^^^^^^^^^^\n",
      "\n",
      "\n",
      "\n",
      "\n"
     ]
    },
    {
     "name": "stderr",
     "output_type": "stream",
     "text": [
      "/Users/danbryce/Documents/sift/xplan/external/xplan/xplan-to-autoprotocol-reactor/xplan-dev-env/xplan-dev-env/lib/python3.7/site-packages/IPython/core/interactiveshell.py:3249: DtypeWarning: Columns (8) have mixed types. Specify dtype option on import or set low_memory=False.\n",
      "  if (await self.run_code(code, result,  async_=asy)):\n"
     ]
    },
    {
     "name": "stdout",
     "output_type": "stream",
     "text": [
      "output_col: live_280\n",
      "nan\n",
      "{'experiment_id': 'r1dnj926jr7q9g', 'random_state': 0, 'live_volume': 0, 'dead_volume': 280.0, 'stain': nan, 'prediction': True, 'time_point': 8}\n",
      "data_columns: ['Unnamed: 0', 'Unnamed: 0.1', 'Unnamed: 0.1.1', 'Unnamed: 0.1.1.1', 'checksum', 'filename', 'kill', 'kill_volume', 'stain', 'well', 'experiment_id', 'Time', 'FSC-A', 'SSC-A', 'BL1-A', 'RL1-A', 'FSC-H', 'SSC-H', 'BL1-H', 'RL1-H', 'FSC-W', 'SSC-W', 'BL1-W', 'RL1-W', 'index', 'live', 'live_210']\n"
     ]
    },
    {
     "name": "stderr",
     "output_type": "stream",
     "text": [
      "/Users/danbryce/Documents/sift/xplan/external/xplan/xplan-to-autoprotocol-reactor/xplan-dev-env/xplan-dev-env/lib/python3.7/site-packages/pandas/core/indexing.py:480: SettingWithCopyWarning: \n",
      "A value is trying to be set on a copy of a slice from a DataFrame.\n",
      "Try using .loc[row_indexer,col_indexer] = value instead\n",
      "\n",
      "See the caveats in the documentation: http://pandas.pydata.org/pandas-docs/stable/user_guide/indexing.html#returning-a-view-versus-a-copy\n",
      "  self.obj[item] = s\n"
     ]
    },
    {
     "name": "stdout",
     "output_type": "stream",
     "text": [
      "['FSC-A', 'SSC-A', 'BL1-A', 'RL1-A', 'FSC-H', 'SSC-H', 'BL1-H', 'RL1-H', 'FSC-W', 'SSC-W', 'BL1-W', 'RL1-W']\n",
      "\n",
      "<harness.test_harness_class.TestHarness object at 0x12ef6a9b0>\n",
      "----------------------------------------------------------------------------------------------------\n",
      "Starting run at time 11:23:28\n",
      "Normalizing training and testing splits...\n",
      "Starting Classification training...\n",
      "Training time was: 38.95 seconds\n",
      "Testing time was: 1.05 seconds\n",
      "Prediction time of untested data was: 6.792301893234253\n",
      "\n",
      "          Run ID        Date      Time                    Model Name Model Author Num Classes  Accuracy  Balanced Accuracy  AUC Score  Average Precision  F1 Score  Precision  Recall Samples In Train Samples In Test                                                                                      Model Description Column Predicted Num Features Used                                                                                                                         Data and Split Description Normalized Num Features Normalized Feature Extraction Was Untested Data Predicted\n",
      "0  Q95EzYvYoL6aq  2019-10-18  11:23:28  random_forest_classification  Hamed        2           0.957     0.956              0.991      0.993              0.964     0.967      0.961   160368           40093           Random Forest: n_estimators=361, max_features=auto, criterion=entropy, min_samples_leaf=13, n_jobs=-1  class_label      12                {'experiment_id': 'r1dnj926jr7q9g', 'random_state': 0, 'live_volume': 0, 'dead_volume': 280.0, 'stain': nan, 'prediction': True, 'time_point': 8}  True       12                      False              True                      \n",
      "\n",
      "Run finished at 11:24:20. Total run time = 51.85 seconds\n",
      "^^^^^^^^^^^^^^^^^^^^^^^^^^^^^^^^^^^^^^^^^^^^^^^^^^^^^^^^^^^^^^^^^^^^^^^^^^^^^^^^^^^^^^^^^^^^^^^^^^^^\n",
      "\n",
      "\n",
      "\n",
      "\n",
      "SYTOX Red Stain\n",
      "{'experiment_id': 'r1dnj926jr7q9g', 'random_state': 0, 'live_volume': 0, 'dead_volume': 280.0, 'stain': 'SYTOX Red Stain', 'prediction': True, 'time_point': 8}\n",
      "data_columns: ['Unnamed: 0', 'Unnamed: 0.1', 'Unnamed: 0.1.1', 'Unnamed: 0.1.1.1', 'checksum', 'filename', 'kill', 'kill_volume', 'stain', 'well', 'experiment_id', 'Time', 'FSC-A', 'SSC-A', 'BL1-A', 'RL1-A', 'FSC-H', 'SSC-H', 'BL1-H', 'RL1-H', 'FSC-W', 'SSC-W', 'BL1-W', 'RL1-W', 'index', 'live', 'live_210']\n"
     ]
    },
    {
     "name": "stderr",
     "output_type": "stream",
     "text": [
      "/Users/danbryce/Documents/sift/xplan/external/xplan/xplan-to-autoprotocol-reactor/xplan-dev-env/xplan-dev-env/lib/python3.7/site-packages/pandas/core/indexing.py:480: SettingWithCopyWarning: \n",
      "A value is trying to be set on a copy of a slice from a DataFrame.\n",
      "Try using .loc[row_indexer,col_indexer] = value instead\n",
      "\n",
      "See the caveats in the documentation: http://pandas.pydata.org/pandas-docs/stable/user_guide/indexing.html#returning-a-view-versus-a-copy\n",
      "  self.obj[item] = s\n"
     ]
    },
    {
     "name": "stdout",
     "output_type": "stream",
     "text": [
      "['FSC-A', 'SSC-A', 'BL1-A', 'RL1-A', 'FSC-H', 'SSC-H', 'BL1-H', 'RL1-H', 'FSC-W', 'SSC-W', 'BL1-W', 'RL1-W']\n",
      "\n",
      "<harness.test_harness_class.TestHarness object at 0x18c2f4ba8>\n",
      "----------------------------------------------------------------------------------------------------\n",
      "Starting run at time 11:24:27\n",
      "Normalizing training and testing splits...\n",
      "Starting Classification training...\n",
      "Training time was: 39.66 seconds\n",
      "Testing time was: 0.95 seconds\n",
      "Prediction time of untested data was: 6.5734641551971436\n",
      "\n",
      "          Run ID        Date      Time                    Model Name Model Author Num Classes  Accuracy  Balanced Accuracy  AUC Score  Average Precision  F1 Score  Precision  Recall Samples In Train Samples In Test                                                                                      Model Description Column Predicted Num Features Used                                                                                                                                       Data and Split Description Normalized Num Features Normalized Feature Extraction Was Untested Data Predicted\n",
      "0  aWjbJpzvZ1QNb  2019-10-18  11:24:27  random_forest_classification  Hamed        2           0.982     0.981              0.997      0.997              0.983     0.981      0.985   175235           43809           Random Forest: n_estimators=361, max_features=auto, criterion=entropy, min_samples_leaf=13, n_jobs=-1  class_label      12                {'experiment_id': 'r1dnj926jr7q9g', 'random_state': 0, 'live_volume': 0, 'dead_volume': 280.0, 'stain': 'SYTOX Red Stain', 'prediction': True, 'time_point': 8}  True       12                      False              True                      \n",
      "\n",
      "Run finished at 11:25:20. Total run time = 52.58 seconds\n",
      "^^^^^^^^^^^^^^^^^^^^^^^^^^^^^^^^^^^^^^^^^^^^^^^^^^^^^^^^^^^^^^^^^^^^^^^^^^^^^^^^^^^^^^^^^^^^^^^^^^^^\n",
      "\n",
      "\n",
      "\n",
      "\n"
     ]
    },
    {
     "name": "stderr",
     "output_type": "stream",
     "text": [
      "/Users/danbryce/Documents/sift/xplan/external/xplan/xplan-to-autoprotocol-reactor/xplan-dev-env/xplan-dev-env/lib/python3.7/site-packages/IPython/core/interactiveshell.py:3249: DtypeWarning: Columns (8) have mixed types. Specify dtype option on import or set low_memory=False.\n",
      "  if (await self.run_code(code, result,  async_=asy)):\n"
     ]
    },
    {
     "name": "stdout",
     "output_type": "stream",
     "text": [
      "output_col: live_280\n",
      "nan\n",
      "{'experiment_id': 'r1dnj926jr7q9g', 'random_state': 0, 'live_volume': 0, 'dead_volume': 280.0, 'stain': nan, 'prediction': True, 'time_point': 9}\n",
      "data_columns: ['Unnamed: 0', 'Unnamed: 0.1', 'Unnamed: 0.1.1', 'Unnamed: 0.1.1.1', 'checksum', 'filename', 'kill', 'kill_volume', 'stain', 'well', 'experiment_id', 'Time', 'FSC-A', 'SSC-A', 'BL1-A', 'RL1-A', 'FSC-H', 'SSC-H', 'BL1-H', 'RL1-H', 'FSC-W', 'SSC-W', 'BL1-W', 'RL1-W', 'index', 'live', 'live_210']\n"
     ]
    },
    {
     "name": "stderr",
     "output_type": "stream",
     "text": [
      "/Users/danbryce/Documents/sift/xplan/external/xplan/xplan-to-autoprotocol-reactor/xplan-dev-env/xplan-dev-env/lib/python3.7/site-packages/pandas/core/indexing.py:480: SettingWithCopyWarning: \n",
      "A value is trying to be set on a copy of a slice from a DataFrame.\n",
      "Try using .loc[row_indexer,col_indexer] = value instead\n",
      "\n",
      "See the caveats in the documentation: http://pandas.pydata.org/pandas-docs/stable/user_guide/indexing.html#returning-a-view-versus-a-copy\n",
      "  self.obj[item] = s\n"
     ]
    },
    {
     "name": "stdout",
     "output_type": "stream",
     "text": [
      "['FSC-A', 'SSC-A', 'BL1-A', 'RL1-A', 'FSC-H', 'SSC-H', 'BL1-H', 'RL1-H', 'FSC-W', 'SSC-W', 'BL1-W', 'RL1-W']\n",
      "\n",
      "<harness.test_harness_class.TestHarness object at 0x1a0d8eba8>\n",
      "----------------------------------------------------------------------------------------------------\n",
      "Starting run at time 11:25:48\n",
      "Normalizing training and testing splits...\n",
      "Starting Classification training...\n",
      "Training time was: 33.41 seconds\n",
      "Testing time was: 0.86 seconds\n",
      "Prediction time of untested data was: 7.664508819580078\n",
      "\n",
      "          Run ID        Date      Time                    Model Name Model Author Num Classes  Accuracy  Balanced Accuracy  AUC Score  Average Precision  F1 Score  Precision  Recall Samples In Train Samples In Test                                                                                      Model Description Column Predicted Num Features Used                                                                                                                         Data and Split Description Normalized Num Features Normalized Feature Extraction Was Untested Data Predicted\n",
      "0  5Z7NMGmYYNypw  2019-10-18  11:25:48  random_forest_classification  Hamed        2           0.957     0.956              0.991      0.993              0.964     0.967      0.961   160368           40093           Random Forest: n_estimators=361, max_features=auto, criterion=entropy, min_samples_leaf=13, n_jobs=-1  class_label      12                {'experiment_id': 'r1dnj926jr7q9g', 'random_state': 0, 'live_volume': 0, 'dead_volume': 280.0, 'stain': nan, 'prediction': True, 'time_point': 9}  True       12                      False              True                      \n",
      "\n",
      "Run finished at 11:26:36. Total run time = 47.76 seconds\n",
      "^^^^^^^^^^^^^^^^^^^^^^^^^^^^^^^^^^^^^^^^^^^^^^^^^^^^^^^^^^^^^^^^^^^^^^^^^^^^^^^^^^^^^^^^^^^^^^^^^^^^\n",
      "\n",
      "\n",
      "\n",
      "\n",
      "SYTOX Red Stain\n",
      "{'experiment_id': 'r1dnj926jr7q9g', 'random_state': 0, 'live_volume': 0, 'dead_volume': 280.0, 'stain': 'SYTOX Red Stain', 'prediction': True, 'time_point': 9}\n",
      "data_columns: ['Unnamed: 0', 'Unnamed: 0.1', 'Unnamed: 0.1.1', 'Unnamed: 0.1.1.1', 'checksum', 'filename', 'kill', 'kill_volume', 'stain', 'well', 'experiment_id', 'Time', 'FSC-A', 'SSC-A', 'BL1-A', 'RL1-A', 'FSC-H', 'SSC-H', 'BL1-H', 'RL1-H', 'FSC-W', 'SSC-W', 'BL1-W', 'RL1-W', 'index', 'live', 'live_210']\n"
     ]
    },
    {
     "name": "stderr",
     "output_type": "stream",
     "text": [
      "/Users/danbryce/Documents/sift/xplan/external/xplan/xplan-to-autoprotocol-reactor/xplan-dev-env/xplan-dev-env/lib/python3.7/site-packages/pandas/core/indexing.py:480: SettingWithCopyWarning: \n",
      "A value is trying to be set on a copy of a slice from a DataFrame.\n",
      "Try using .loc[row_indexer,col_indexer] = value instead\n",
      "\n",
      "See the caveats in the documentation: http://pandas.pydata.org/pandas-docs/stable/user_guide/indexing.html#returning-a-view-versus-a-copy\n",
      "  self.obj[item] = s\n"
     ]
    },
    {
     "name": "stdout",
     "output_type": "stream",
     "text": [
      "['FSC-A', 'SSC-A', 'BL1-A', 'RL1-A', 'FSC-H', 'SSC-H', 'BL1-H', 'RL1-H', 'FSC-W', 'SSC-W', 'BL1-W', 'RL1-W']\n",
      "\n",
      "<harness.test_harness_class.TestHarness object at 0x1913abcf8>\n",
      "----------------------------------------------------------------------------------------------------\n",
      "Starting run at time 11:26:43\n",
      "Normalizing training and testing splits...\n",
      "Starting Classification training...\n",
      "Training time was: 47.70 seconds\n",
      "Testing time was: 1.05 seconds\n",
      "Prediction time of untested data was: 9.307040929794312\n",
      "\n",
      "          Run ID        Date      Time                    Model Name Model Author Num Classes  Accuracy  Balanced Accuracy  AUC Score  Average Precision  F1 Score  Precision  Recall Samples In Train Samples In Test                                                                                      Model Description Column Predicted Num Features Used                                                                                                                                       Data and Split Description Normalized Num Features Normalized Feature Extraction Was Untested Data Predicted\n",
      "0  52WpBBN3korky  2019-10-18  11:26:43  random_forest_classification  Hamed        2           0.982     0.981              0.997      0.997              0.983     0.981      0.985   175235           43809           Random Forest: n_estimators=361, max_features=auto, criterion=entropy, min_samples_leaf=13, n_jobs=-1  class_label      12                {'experiment_id': 'r1dnj926jr7q9g', 'random_state': 0, 'live_volume': 0, 'dead_volume': 280.0, 'stain': 'SYTOX Red Stain', 'prediction': True, 'time_point': 9}  True       12                      False              True                      \n",
      "\n",
      "Run finished at 11:27:47. Total run time = 64.71 seconds\n",
      "^^^^^^^^^^^^^^^^^^^^^^^^^^^^^^^^^^^^^^^^^^^^^^^^^^^^^^^^^^^^^^^^^^^^^^^^^^^^^^^^^^^^^^^^^^^^^^^^^^^^\n",
      "\n",
      "\n",
      "\n",
      "\n"
     ]
    },
    {
     "name": "stderr",
     "output_type": "stream",
     "text": [
      "/Users/danbryce/Documents/sift/xplan/external/xplan/xplan-to-autoprotocol-reactor/xplan-dev-env/xplan-dev-env/lib/python3.7/site-packages/IPython/core/interactiveshell.py:3249: DtypeWarning: Columns (8) have mixed types. Specify dtype option on import or set low_memory=False.\n",
      "  if (await self.run_code(code, result,  async_=asy)):\n"
     ]
    },
    {
     "name": "stdout",
     "output_type": "stream",
     "text": [
      "output_col: live_280\n",
      "SYTOX Red Stain\n",
      "{'experiment_id': 'r1dnj926jr7q9g', 'random_state': 0, 'live_volume': 0, 'dead_volume': 280.0, 'stain': 'SYTOX Red Stain', 'prediction': True, 'time_point': 10}\n",
      "data_columns: ['Unnamed: 0', 'Unnamed: 0.1', 'Unnamed: 0.1.1', 'Unnamed: 0.1.1.1', 'checksum', 'filename', 'kill', 'kill_volume', 'stain', 'well', 'experiment_id', 'Time', 'FSC-A', 'SSC-A', 'BL1-A', 'RL1-A', 'FSC-H', 'SSC-H', 'BL1-H', 'RL1-H', 'FSC-W', 'SSC-W', 'BL1-W', 'RL1-W', 'index', 'live', 'live_210']\n"
     ]
    },
    {
     "name": "stderr",
     "output_type": "stream",
     "text": [
      "/Users/danbryce/Documents/sift/xplan/external/xplan/xplan-to-autoprotocol-reactor/xplan-dev-env/xplan-dev-env/lib/python3.7/site-packages/pandas/core/indexing.py:480: SettingWithCopyWarning: \n",
      "A value is trying to be set on a copy of a slice from a DataFrame.\n",
      "Try using .loc[row_indexer,col_indexer] = value instead\n",
      "\n",
      "See the caveats in the documentation: http://pandas.pydata.org/pandas-docs/stable/user_guide/indexing.html#returning-a-view-versus-a-copy\n",
      "  self.obj[item] = s\n"
     ]
    },
    {
     "name": "stdout",
     "output_type": "stream",
     "text": [
      "['FSC-A', 'SSC-A', 'BL1-A', 'RL1-A', 'FSC-H', 'SSC-H', 'BL1-H', 'RL1-H', 'FSC-W', 'SSC-W', 'BL1-W', 'RL1-W']\n",
      "\n",
      "<harness.test_harness_class.TestHarness object at 0x1913a2748>\n",
      "----------------------------------------------------------------------------------------------------\n",
      "Starting run at time 11:28:25\n",
      "Normalizing training and testing splits...\n",
      "Starting Classification training...\n",
      "Training time was: 50.70 seconds\n",
      "Testing time was: 1.06 seconds\n",
      "Prediction time of untested data was: 8.907609939575195\n",
      "\n",
      "          Run ID        Date      Time                    Model Name Model Author Num Classes  Accuracy  Balanced Accuracy  AUC Score  Average Precision  F1 Score  Precision  Recall Samples In Train Samples In Test                                                                                      Model Description Column Predicted Num Features Used                                                                                                                                        Data and Split Description Normalized Num Features Normalized Feature Extraction Was Untested Data Predicted\n",
      "0  6gMy8wM3ExrOO  2019-10-18  11:28:25  random_forest_classification  Hamed        2           0.981     0.981              0.997      0.997              0.983     0.981      0.985   175235           43809           Random Forest: n_estimators=361, max_features=auto, criterion=entropy, min_samples_leaf=13, n_jobs=-1  class_label      12                {'experiment_id': 'r1dnj926jr7q9g', 'random_state': 0, 'live_volume': 0, 'dead_volume': 280.0, 'stain': 'SYTOX Red Stain', 'prediction': True, 'time_point': 10}  True       12                      False              True                      \n",
      "\n",
      "Run finished at 11:29:32. Total run time = 67.23 seconds\n",
      "^^^^^^^^^^^^^^^^^^^^^^^^^^^^^^^^^^^^^^^^^^^^^^^^^^^^^^^^^^^^^^^^^^^^^^^^^^^^^^^^^^^^^^^^^^^^^^^^^^^^\n",
      "\n",
      "\n",
      "\n",
      "\n",
      "nan\n",
      "{'experiment_id': 'r1dnj926jr7q9g', 'random_state': 0, 'live_volume': 0, 'dead_volume': 280.0, 'stain': nan, 'prediction': True, 'time_point': 10}\n",
      "data_columns: ['Unnamed: 0', 'Unnamed: 0.1', 'Unnamed: 0.1.1', 'Unnamed: 0.1.1.1', 'checksum', 'filename', 'kill', 'kill_volume', 'stain', 'well', 'experiment_id', 'Time', 'FSC-A', 'SSC-A', 'BL1-A', 'RL1-A', 'FSC-H', 'SSC-H', 'BL1-H', 'RL1-H', 'FSC-W', 'SSC-W', 'BL1-W', 'RL1-W', 'index', 'live', 'live_210']\n"
     ]
    },
    {
     "name": "stderr",
     "output_type": "stream",
     "text": [
      "/Users/danbryce/Documents/sift/xplan/external/xplan/xplan-to-autoprotocol-reactor/xplan-dev-env/xplan-dev-env/lib/python3.7/site-packages/pandas/core/indexing.py:480: SettingWithCopyWarning: \n",
      "A value is trying to be set on a copy of a slice from a DataFrame.\n",
      "Try using .loc[row_indexer,col_indexer] = value instead\n",
      "\n",
      "See the caveats in the documentation: http://pandas.pydata.org/pandas-docs/stable/user_guide/indexing.html#returning-a-view-versus-a-copy\n",
      "  self.obj[item] = s\n"
     ]
    },
    {
     "name": "stdout",
     "output_type": "stream",
     "text": [
      "['FSC-A', 'SSC-A', 'BL1-A', 'RL1-A', 'FSC-H', 'SSC-H', 'BL1-H', 'RL1-H', 'FSC-W', 'SSC-W', 'BL1-W', 'RL1-W']\n",
      "\n",
      "<harness.test_harness_class.TestHarness object at 0x1d9ca6c88>\n",
      "----------------------------------------------------------------------------------------------------\n",
      "Starting run at time 11:29:39\n",
      "Normalizing training and testing splits...\n",
      "Starting Classification training...\n",
      "Training time was: 42.89 seconds\n",
      "Testing time was: 1.26 seconds\n",
      "Prediction time of untested data was: 11.028886079788208\n",
      "\n",
      "          Run ID        Date      Time                    Model Name Model Author Num Classes  Accuracy  Balanced Accuracy  AUC Score  Average Precision  F1 Score  Precision  Recall Samples In Train Samples In Test                                                                                      Model Description Column Predicted Num Features Used                                                                                                                          Data and Split Description Normalized Num Features Normalized Feature Extraction Was Untested Data Predicted\n",
      "0  5pkppjQWYPvbG  2019-10-18  11:29:39  random_forest_classification  Hamed        2           0.957     0.956              0.991      0.993              0.964     0.967      0.961   160368           40093           Random Forest: n_estimators=361, max_features=auto, criterion=entropy, min_samples_leaf=13, n_jobs=-1  class_label      12                {'experiment_id': 'r1dnj926jr7q9g', 'random_state': 0, 'live_volume': 0, 'dead_volume': 280.0, 'stain': nan, 'prediction': True, 'time_point': 10}  True       12                      False              True                      \n",
      "\n",
      "Run finished at 11:30:41. Total run time = 61.84 seconds\n",
      "^^^^^^^^^^^^^^^^^^^^^^^^^^^^^^^^^^^^^^^^^^^^^^^^^^^^^^^^^^^^^^^^^^^^^^^^^^^^^^^^^^^^^^^^^^^^^^^^^^^^\n",
      "\n",
      "\n",
      "\n",
      "\n"
     ]
    },
    {
     "name": "stderr",
     "output_type": "stream",
     "text": [
      "/Users/danbryce/Documents/sift/xplan/external/xplan/xplan-to-autoprotocol-reactor/xplan-dev-env/xplan-dev-env/lib/python3.7/site-packages/IPython/core/interactiveshell.py:3249: DtypeWarning: Columns (8) have mixed types. Specify dtype option on import or set low_memory=False.\n",
      "  if (await self.run_code(code, result,  async_=asy)):\n"
     ]
    },
    {
     "name": "stdout",
     "output_type": "stream",
     "text": [
      "output_col: live_280\n",
      "SYTOX Red Stain\n",
      "{'experiment_id': 'r1dnj926jr7q9g', 'random_state': 0, 'live_volume': 0, 'dead_volume': 280.0, 'stain': 'SYTOX Red Stain', 'prediction': True, 'time_point': 11}\n",
      "data_columns: ['Unnamed: 0', 'Unnamed: 0.1', 'Unnamed: 0.1.1', 'Unnamed: 0.1.1.1', 'checksum', 'filename', 'kill', 'kill_volume', 'stain', 'well', 'experiment_id', 'Time', 'FSC-A', 'SSC-A', 'BL1-A', 'RL1-A', 'FSC-H', 'SSC-H', 'BL1-H', 'RL1-H', 'FSC-W', 'SSC-W', 'BL1-W', 'RL1-W', 'index', 'live', 'live_210']\n"
     ]
    },
    {
     "name": "stderr",
     "output_type": "stream",
     "text": [
      "/Users/danbryce/Documents/sift/xplan/external/xplan/xplan-to-autoprotocol-reactor/xplan-dev-env/xplan-dev-env/lib/python3.7/site-packages/pandas/core/indexing.py:480: SettingWithCopyWarning: \n",
      "A value is trying to be set on a copy of a slice from a DataFrame.\n",
      "Try using .loc[row_indexer,col_indexer] = value instead\n",
      "\n",
      "See the caveats in the documentation: http://pandas.pydata.org/pandas-docs/stable/user_guide/indexing.html#returning-a-view-versus-a-copy\n",
      "  self.obj[item] = s\n"
     ]
    },
    {
     "name": "stdout",
     "output_type": "stream",
     "text": [
      "['FSC-A', 'SSC-A', 'BL1-A', 'RL1-A', 'FSC-H', 'SSC-H', 'BL1-H', 'RL1-H', 'FSC-W', 'SSC-W', 'BL1-W', 'RL1-W']\n",
      "\n",
      "<harness.test_harness_class.TestHarness object at 0x2d4086978>\n",
      "----------------------------------------------------------------------------------------------------\n",
      "Starting run at time 11:31:18\n",
      "Normalizing training and testing splits...\n",
      "Starting Classification training...\n",
      "Training time was: 42.71 seconds\n",
      "Testing time was: 1.06 seconds\n",
      "Prediction time of untested data was: 8.517922163009644\n",
      "\n",
      "          Run ID        Date      Time                    Model Name Model Author Num Classes  Accuracy  Balanced Accuracy  AUC Score  Average Precision  F1 Score  Precision  Recall Samples In Train Samples In Test                                                                                      Model Description Column Predicted Num Features Used                                                                                                                                        Data and Split Description Normalized Num Features Normalized Feature Extraction Was Untested Data Predicted\n",
      "0  5oAd5xV8dJ7wG  2019-10-18  11:31:18  random_forest_classification  Hamed        2           0.982     0.981              0.997      0.997              0.983     0.981      0.986   175235           43809           Random Forest: n_estimators=361, max_features=auto, criterion=entropy, min_samples_leaf=13, n_jobs=-1  class_label      12                {'experiment_id': 'r1dnj926jr7q9g', 'random_state': 0, 'live_volume': 0, 'dead_volume': 280.0, 'stain': 'SYTOX Red Stain', 'prediction': True, 'time_point': 11}  True       12                      False              True                      \n",
      "\n",
      "Run finished at 11:32:17. Total run time = 59.08 seconds\n",
      "^^^^^^^^^^^^^^^^^^^^^^^^^^^^^^^^^^^^^^^^^^^^^^^^^^^^^^^^^^^^^^^^^^^^^^^^^^^^^^^^^^^^^^^^^^^^^^^^^^^^\n",
      "\n",
      "\n",
      "\n",
      "\n",
      "nan\n",
      "{'experiment_id': 'r1dnj926jr7q9g', 'random_state': 0, 'live_volume': 0, 'dead_volume': 280.0, 'stain': nan, 'prediction': True, 'time_point': 11}\n",
      "data_columns: ['Unnamed: 0', 'Unnamed: 0.1', 'Unnamed: 0.1.1', 'Unnamed: 0.1.1.1', 'checksum', 'filename', 'kill', 'kill_volume', 'stain', 'well', 'experiment_id', 'Time', 'FSC-A', 'SSC-A', 'BL1-A', 'RL1-A', 'FSC-H', 'SSC-H', 'BL1-H', 'RL1-H', 'FSC-W', 'SSC-W', 'BL1-W', 'RL1-W', 'index', 'live', 'live_210']\n"
     ]
    },
    {
     "name": "stderr",
     "output_type": "stream",
     "text": [
      "/Users/danbryce/Documents/sift/xplan/external/xplan/xplan-to-autoprotocol-reactor/xplan-dev-env/xplan-dev-env/lib/python3.7/site-packages/pandas/core/indexing.py:480: SettingWithCopyWarning: \n",
      "A value is trying to be set on a copy of a slice from a DataFrame.\n",
      "Try using .loc[row_indexer,col_indexer] = value instead\n",
      "\n",
      "See the caveats in the documentation: http://pandas.pydata.org/pandas-docs/stable/user_guide/indexing.html#returning-a-view-versus-a-copy\n",
      "  self.obj[item] = s\n"
     ]
    },
    {
     "name": "stdout",
     "output_type": "stream",
     "text": [
      "['FSC-A', 'SSC-A', 'BL1-A', 'RL1-A', 'FSC-H', 'SSC-H', 'BL1-H', 'RL1-H', 'FSC-W', 'SSC-W', 'BL1-W', 'RL1-W']\n",
      "\n",
      "<harness.test_harness_class.TestHarness object at 0x298dcbc88>\n",
      "----------------------------------------------------------------------------------------------------\n",
      "Starting run at time 11:32:23\n",
      "Normalizing training and testing splits...\n",
      "Starting Classification training...\n",
      "Training time was: 37.93 seconds\n",
      "Testing time was: 1.05 seconds\n",
      "Prediction time of untested data was: 10.51963496208191\n",
      "\n",
      "          Run ID        Date      Time                    Model Name Model Author Num Classes  Accuracy  Balanced Accuracy  AUC Score  Average Precision  F1 Score  Precision  Recall Samples In Train Samples In Test                                                                                      Model Description Column Predicted Num Features Used                                                                                                                          Data and Split Description Normalized Num Features Normalized Feature Extraction Was Untested Data Predicted\n",
      "0  QPg7je6yx9wm3  2019-10-18  11:32:23  random_forest_classification  Hamed        2           0.957     0.956              0.991      0.993              0.964     0.967      0.961   160368           40093           Random Forest: n_estimators=361, max_features=auto, criterion=entropy, min_samples_leaf=13, n_jobs=-1  class_label      12                {'experiment_id': 'r1dnj926jr7q9g', 'random_state': 0, 'live_volume': 0, 'dead_volume': 280.0, 'stain': nan, 'prediction': True, 'time_point': 11}  True       12                      False              True                      \n",
      "\n",
      "Run finished at 11:33:19. Total run time = 55.95 seconds\n",
      "^^^^^^^^^^^^^^^^^^^^^^^^^^^^^^^^^^^^^^^^^^^^^^^^^^^^^^^^^^^^^^^^^^^^^^^^^^^^^^^^^^^^^^^^^^^^^^^^^^^^\n",
      "\n",
      "\n",
      "\n",
      "\n"
     ]
    }
   ],
   "source": [
    "## Use last time point to predict live/dead for earlier time points\n",
    "\n",
    "last_time = flow_data.loc[flow_data['time_point'].astype(int).idxmax()]\n",
    "last_plate = [p for p in plate_properties if p['container'] == last_time['container_name']][0]\n",
    "classifier_df = bld.get_container_data(work_dir, last_plate['container'])\n",
    "for p in plate_properties:\n",
    "    df = bld.get_container_data(work_dir, p['container'])\n",
    "    time_point = flow_data.loc[flow_data['container_name'] == p['container']]['time_point'].iloc[0]\n",
    "    dead_volumes = list(df.kill_volume.dropna().unique())\n",
    "    dead_volumes.remove(0.0)\n",
    "\n",
    "    pred_df = blda.train_models_for_prediction(classifier_df,\n",
    "                                               df, \n",
    "                                               data_dir=work_dir,\n",
    "                                 fcs_columns=['FSC-A', 'SSC-A', 'BL1-A', 'RL1-A', 'FSC-H', \n",
    "                                      'SSC-H', 'BL1-H', 'RL1-H', 'FSC-W', 'SSC-W',\n",
    "                                      'BL1-W', 'RL1-W'],\n",
    "                                               dead_strain_name= 280.0, #max(dead_volumes),\n",
    "                                           combine_stains=False,\n",
    "                                          overwrite=True,\n",
    "                                          output_col = 'live_280',\n",
    "                                              time_point=time_point)\n",
    "    out_file = os.path.join(bld.get_container_work_dir(work_dir, p['container']), 'data.csv')\n",
    "    pred_df.to_csv(out_file)\n",
    "\n"
   ]
  },
  {
   "cell_type": "code",
   "execution_count": 8,
   "metadata": {},
   "outputs": [
    {
     "name": "stdout",
     "output_type": "stream",
     "text": [
      "{'experiment_id': 'r1dnj926jr7q9g', 'random_state': 0, 'live_volume': 'multi', 'dead_volume': 'multi', 'stain': 'SYTOX Red Stain', 'prediction': True, 'time_point': 12}\n",
      "data_columns: ['Unnamed: 0', 'Unnamed: 0.1', 'Unnamed: 0.1.1', 'Unnamed: 0.1.1.1', 'Unnamed: 0.1.1.1.1', 'checksum', 'filename', 'kill', 'kill_volume', 'stain', 'well', 'experiment_id', 'Time', 'FSC-A', 'SSC-A', 'BL1-A', 'RL1-A', 'FSC-H', 'SSC-H', 'BL1-H', 'RL1-H', 'FSC-W', 'SSC-W', 'BL1-W', 'RL1-W', 'index', 'live', 'live_210', 'live_280']\n"
     ]
    },
    {
     "name": "stderr",
     "output_type": "stream",
     "text": [
      "/Users/danbryce/Documents/sift/xplan/external/xplan/xplan-to-autoprotocol-reactor/xplan-dev-env/xplan-dev-env/lib/python3.7/site-packages/pandas/core/indexing.py:480: SettingWithCopyWarning: \n",
      "A value is trying to be set on a copy of a slice from a DataFrame.\n",
      "Try using .loc[row_indexer,col_indexer] = value instead\n",
      "\n",
      "See the caveats in the documentation: http://pandas.pydata.org/pandas-docs/stable/user_guide/indexing.html#returning-a-view-versus-a-copy\n",
      "  self.obj[item] = s\n"
     ]
    },
    {
     "name": "stdout",
     "output_type": "stream",
     "text": [
      "['FSC-A', 'SSC-A', 'BL1-A', 'RL1-A', 'FSC-H', 'SSC-H', 'BL1-H', 'RL1-H', 'FSC-W', 'SSC-W', 'BL1-W', 'RL1-W']\n",
      "\n",
      "----------------------------------------------------------------------------------------------------\n",
      "Starting run at time 13:24:32\n",
      "Normalizing training and testing splits...\n",
      "Starting Classification training...\n",
      "Training time was: 148.38 seconds\n",
      "Testing time was: 4.37 seconds\n",
      "Prediction time of untested data was: 17.814453125\n",
      "\n",
      "          Run ID        Date      Time                    Model Name Model Author Num Classes  Accuracy  Balanced Accuracy  AUC Score  Average Precision  F1 Score  Precision  Recall Samples In Train Samples In Test                                                                                      Model Description Column Predicted Num Features Used                                                                                                                                                Data and Split Description Normalized Num Features Normalized Feature Extraction Was Untested Data Predicted\n",
      "0  5ddJAoEXjjgq8  2019-10-18  13:24:32  random_forest_classification  Hamed        5           0.748     0.752             NaN        NaN                 0.745     0.744      0.748   342338           85585           Random Forest: n_estimators=361, max_features=auto, criterion=entropy, min_samples_leaf=13, n_jobs=-1  class_label      12                {'experiment_id': 'r1dnj926jr7q9g', 'random_state': 0, 'live_volume': 'multi', 'dead_volume': 'multi', 'stain': 'SYTOX Red Stain', 'prediction': True, 'time_point': 12}  True       12                      False              True                      \n",
      "\n",
      "Run finished at 13:27:30. Total run time = 178.29 seconds\n",
      "^^^^^^^^^^^^^^^^^^^^^^^^^^^^^^^^^^^^^^^^^^^^^^^^^^^^^^^^^^^^^^^^^^^^^^^^^^^^^^^^^^^^^^^^^^^^^^^^^^^^\n",
      "\n",
      "\n",
      "\n",
      "\n",
      "{'experiment_id': 'r1dnj926jr7q9g', 'random_state': 0, 'live_volume': 'multi', 'dead_volume': 'multi', 'stain': nan, 'prediction': True, 'time_point': 12}\n",
      "data_columns: ['Unnamed: 0', 'Unnamed: 0.1', 'Unnamed: 0.1.1', 'Unnamed: 0.1.1.1', 'Unnamed: 0.1.1.1.1', 'checksum', 'filename', 'kill', 'kill_volume', 'stain', 'well', 'experiment_id', 'Time', 'FSC-A', 'SSC-A', 'BL1-A', 'RL1-A', 'FSC-H', 'SSC-H', 'BL1-H', 'RL1-H', 'FSC-W', 'SSC-W', 'BL1-W', 'RL1-W', 'index', 'live', 'live_210', 'live_280']\n"
     ]
    },
    {
     "name": "stderr",
     "output_type": "stream",
     "text": [
      "/Users/danbryce/Documents/sift/xplan/external/xplan/xplan-to-autoprotocol-reactor/xplan-dev-env/xplan-dev-env/lib/python3.7/site-packages/pandas/core/indexing.py:480: SettingWithCopyWarning: \n",
      "A value is trying to be set on a copy of a slice from a DataFrame.\n",
      "Try using .loc[row_indexer,col_indexer] = value instead\n",
      "\n",
      "See the caveats in the documentation: http://pandas.pydata.org/pandas-docs/stable/user_guide/indexing.html#returning-a-view-versus-a-copy\n",
      "  self.obj[item] = s\n"
     ]
    },
    {
     "name": "stdout",
     "output_type": "stream",
     "text": [
      "['FSC-A', 'SSC-A', 'BL1-A', 'RL1-A', 'FSC-H', 'SSC-H', 'BL1-H', 'RL1-H', 'FSC-W', 'SSC-W', 'BL1-W', 'RL1-W']\n",
      "\n",
      "----------------------------------------------------------------------------------------------------\n",
      "Starting run at time 13:27:34\n",
      "Normalizing training and testing splits...\n",
      "Starting Classification training...\n",
      "Training time was: 112.14 seconds\n",
      "Testing time was: 3.74 seconds\n",
      "Prediction time of untested data was: 14.758564949035645\n",
      "\n",
      "          Run ID        Date      Time                    Model Name Model Author Num Classes  Accuracy  Balanced Accuracy  AUC Score  Average Precision  F1 Score  Precision  Recall Samples In Train Samples In Test                                                                                      Model Description Column Predicted Num Features Used                                                                                                                                  Data and Split Description Normalized Num Features Normalized Feature Extraction Was Untested Data Predicted\n",
      "0  aAaZdo79jZdOk  2019-10-18  13:27:34  random_forest_classification  Hamed        5           0.635     0.657             NaN        NaN                 0.625     0.622      0.635   318662           79666           Random Forest: n_estimators=361, max_features=auto, criterion=entropy, min_samples_leaf=13, n_jobs=-1  class_label      12                {'experiment_id': 'r1dnj926jr7q9g', 'random_state': 0, 'live_volume': 'multi', 'dead_volume': 'multi', 'stain': nan, 'prediction': True, 'time_point': 12}  True       12                      False              True                      \n",
      "\n",
      "Run finished at 13:29:52. Total run time = 137.77 seconds\n",
      "^^^^^^^^^^^^^^^^^^^^^^^^^^^^^^^^^^^^^^^^^^^^^^^^^^^^^^^^^^^^^^^^^^^^^^^^^^^^^^^^^^^^^^^^^^^^^^^^^^^^\n",
      "\n",
      "\n",
      "\n",
      "\n"
     ]
    },
    {
     "name": "stderr",
     "output_type": "stream",
     "text": [
      "/Users/danbryce/Documents/sift/xplan/external/xplan/xplan-to-autoprotocol-reactor/xplan-dev-env/xplan-dev-env/lib/python3.7/site-packages/IPython/core/interactiveshell.py:3249: DtypeWarning: Columns (9) have mixed types. Specify dtype option on import or set low_memory=False.\n",
      "  if (await self.run_code(code, result,  async_=asy)):\n"
     ]
    },
    {
     "name": "stdout",
     "output_type": "stream",
     "text": [
      "{'experiment_id': 'r1dnj926jr7q9g', 'random_state': 0, 'live_volume': 'multi', 'dead_volume': 'multi', 'stain': 'SYTOX Red Stain', 'prediction': True, 'time_point': 1}\n",
      "data_columns: ['Unnamed: 0', 'Unnamed: 0.1', 'Unnamed: 0.1.1', 'Unnamed: 0.1.1.1', 'Unnamed: 0.1.1.1.1', 'checksum', 'filename', 'kill', 'kill_volume', 'stain', 'well', 'experiment_id', 'Time', 'FSC-A', 'SSC-A', 'BL1-A', 'RL1-A', 'FSC-H', 'SSC-H', 'BL1-H', 'RL1-H', 'FSC-W', 'SSC-W', 'BL1-W', 'RL1-W', 'index', 'live', 'live_210', 'live_280']\n"
     ]
    },
    {
     "name": "stderr",
     "output_type": "stream",
     "text": [
      "/Users/danbryce/Documents/sift/xplan/external/xplan/xplan-to-autoprotocol-reactor/xplan-dev-env/xplan-dev-env/lib/python3.7/site-packages/pandas/core/indexing.py:480: SettingWithCopyWarning: \n",
      "A value is trying to be set on a copy of a slice from a DataFrame.\n",
      "Try using .loc[row_indexer,col_indexer] = value instead\n",
      "\n",
      "See the caveats in the documentation: http://pandas.pydata.org/pandas-docs/stable/user_guide/indexing.html#returning-a-view-versus-a-copy\n",
      "  self.obj[item] = s\n"
     ]
    },
    {
     "name": "stdout",
     "output_type": "stream",
     "text": [
      "['FSC-A', 'SSC-A', 'BL1-A', 'RL1-A', 'FSC-H', 'SSC-H', 'BL1-H', 'RL1-H', 'FSC-W', 'SSC-W', 'BL1-W', 'RL1-W']\n",
      "\n",
      "----------------------------------------------------------------------------------------------------\n",
      "Starting run at time 13:30:25\n",
      "Normalizing training and testing splits...\n",
      "Starting Classification training...\n",
      "Training time was: 125.44 seconds\n",
      "Testing time was: 3.76 seconds\n",
      "Prediction time of untested data was: 16.01020884513855\n",
      "\n",
      "          Run ID        Date      Time                    Model Name Model Author Num Classes  Accuracy  Balanced Accuracy  AUC Score  Average Precision  F1 Score  Precision  Recall Samples In Train Samples In Test                                                                                      Model Description Column Predicted Num Features Used                                                                                                                                               Data and Split Description Normalized Num Features Normalized Feature Extraction Was Untested Data Predicted\n",
      "0  EMdrbxJ2D9gDY  2019-10-18  13:30:25  random_forest_classification  Hamed        5           0.749     0.752             NaN        NaN                 0.745     0.744      0.749   342338           85585           Random Forest: n_estimators=361, max_features=auto, criterion=entropy, min_samples_leaf=13, n_jobs=-1  class_label      12                {'experiment_id': 'r1dnj926jr7q9g', 'random_state': 0, 'live_volume': 'multi', 'dead_volume': 'multi', 'stain': 'SYTOX Red Stain', 'prediction': True, 'time_point': 1}  True       12                      False              True                      \n",
      "\n",
      "Run finished at 13:32:58. Total run time = 152.91 seconds\n",
      "^^^^^^^^^^^^^^^^^^^^^^^^^^^^^^^^^^^^^^^^^^^^^^^^^^^^^^^^^^^^^^^^^^^^^^^^^^^^^^^^^^^^^^^^^^^^^^^^^^^^\n",
      "\n",
      "\n",
      "\n",
      "\n",
      "{'experiment_id': 'r1dnj926jr7q9g', 'random_state': 0, 'live_volume': 'multi', 'dead_volume': 'multi', 'stain': nan, 'prediction': True, 'time_point': 1}\n",
      "data_columns: ['Unnamed: 0', 'Unnamed: 0.1', 'Unnamed: 0.1.1', 'Unnamed: 0.1.1.1', 'Unnamed: 0.1.1.1.1', 'checksum', 'filename', 'kill', 'kill_volume', 'stain', 'well', 'experiment_id', 'Time', 'FSC-A', 'SSC-A', 'BL1-A', 'RL1-A', 'FSC-H', 'SSC-H', 'BL1-H', 'RL1-H', 'FSC-W', 'SSC-W', 'BL1-W', 'RL1-W', 'index', 'live', 'live_210', 'live_280']\n"
     ]
    },
    {
     "name": "stderr",
     "output_type": "stream",
     "text": [
      "/Users/danbryce/Documents/sift/xplan/external/xplan/xplan-to-autoprotocol-reactor/xplan-dev-env/xplan-dev-env/lib/python3.7/site-packages/pandas/core/indexing.py:480: SettingWithCopyWarning: \n",
      "A value is trying to be set on a copy of a slice from a DataFrame.\n",
      "Try using .loc[row_indexer,col_indexer] = value instead\n",
      "\n",
      "See the caveats in the documentation: http://pandas.pydata.org/pandas-docs/stable/user_guide/indexing.html#returning-a-view-versus-a-copy\n",
      "  self.obj[item] = s\n"
     ]
    },
    {
     "name": "stdout",
     "output_type": "stream",
     "text": [
      "['FSC-A', 'SSC-A', 'BL1-A', 'RL1-A', 'FSC-H', 'SSC-H', 'BL1-H', 'RL1-H', 'FSC-W', 'SSC-W', 'BL1-W', 'RL1-W']\n",
      "\n",
      "----------------------------------------------------------------------------------------------------\n",
      "Starting run at time 13:33:02\n",
      "Normalizing training and testing splits...\n",
      "Starting Classification training...\n",
      "Training time was: 119.06 seconds\n",
      "Testing time was: 3.97 seconds\n",
      "Prediction time of untested data was: 15.587682962417603\n",
      "\n",
      "          Run ID        Date      Time                    Model Name Model Author Num Classes  Accuracy  Balanced Accuracy  AUC Score  Average Precision  F1 Score  Precision  Recall Samples In Train Samples In Test                                                                                      Model Description Column Predicted Num Features Used                                                                                                                                 Data and Split Description Normalized Num Features Normalized Feature Extraction Was Untested Data Predicted\n",
      "0  ErmaG36q7ak8y  2019-10-18  13:33:02  random_forest_classification  Hamed        5           0.635     0.657             NaN        NaN                 0.626     0.622      0.635   318662           79666           Random Forest: n_estimators=361, max_features=auto, criterion=entropy, min_samples_leaf=13, n_jobs=-1  class_label      12                {'experiment_id': 'r1dnj926jr7q9g', 'random_state': 0, 'live_volume': 'multi', 'dead_volume': 'multi', 'stain': nan, 'prediction': True, 'time_point': 1}  True       12                      False              True                      \n",
      "\n",
      "Run finished at 13:35:28. Total run time = 145.95 seconds\n",
      "^^^^^^^^^^^^^^^^^^^^^^^^^^^^^^^^^^^^^^^^^^^^^^^^^^^^^^^^^^^^^^^^^^^^^^^^^^^^^^^^^^^^^^^^^^^^^^^^^^^^\n",
      "\n",
      "\n",
      "\n",
      "\n"
     ]
    },
    {
     "name": "stderr",
     "output_type": "stream",
     "text": [
      "/Users/danbryce/Documents/sift/xplan/external/xplan/xplan-to-autoprotocol-reactor/xplan-dev-env/xplan-dev-env/lib/python3.7/site-packages/IPython/core/interactiveshell.py:3249: DtypeWarning: Columns (9) have mixed types. Specify dtype option on import or set low_memory=False.\n",
      "  if (await self.run_code(code, result,  async_=asy)):\n"
     ]
    },
    {
     "name": "stdout",
     "output_type": "stream",
     "text": [
      "{'experiment_id': 'r1dnj926jr7q9g', 'random_state': 0, 'live_volume': 'multi', 'dead_volume': 'multi', 'stain': 'SYTOX Red Stain', 'prediction': True, 'time_point': 4}\n",
      "data_columns: ['Unnamed: 0', 'Unnamed: 0.1', 'Unnamed: 0.1.1', 'Unnamed: 0.1.1.1', 'Unnamed: 0.1.1.1.1', 'checksum', 'filename', 'kill', 'kill_volume', 'stain', 'well', 'experiment_id', 'Time', 'FSC-A', 'SSC-A', 'BL1-A', 'RL1-A', 'FSC-H', 'SSC-H', 'BL1-H', 'RL1-H', 'FSC-W', 'SSC-W', 'BL1-W', 'RL1-W', 'index', 'live', 'live_210', 'live_280']\n"
     ]
    },
    {
     "name": "stderr",
     "output_type": "stream",
     "text": [
      "/Users/danbryce/Documents/sift/xplan/external/xplan/xplan-to-autoprotocol-reactor/xplan-dev-env/xplan-dev-env/lib/python3.7/site-packages/pandas/core/indexing.py:480: SettingWithCopyWarning: \n",
      "A value is trying to be set on a copy of a slice from a DataFrame.\n",
      "Try using .loc[row_indexer,col_indexer] = value instead\n",
      "\n",
      "See the caveats in the documentation: http://pandas.pydata.org/pandas-docs/stable/user_guide/indexing.html#returning-a-view-versus-a-copy\n",
      "  self.obj[item] = s\n"
     ]
    },
    {
     "name": "stdout",
     "output_type": "stream",
     "text": [
      "['FSC-A', 'SSC-A', 'BL1-A', 'RL1-A', 'FSC-H', 'SSC-H', 'BL1-H', 'RL1-H', 'FSC-W', 'SSC-W', 'BL1-W', 'RL1-W']\n",
      "\n",
      "----------------------------------------------------------------------------------------------------\n",
      "Starting run at time 13:36:01\n",
      "Normalizing training and testing splits...\n",
      "Starting Classification training...\n",
      "Training time was: 123.10 seconds\n",
      "Testing time was: 3.46 seconds\n",
      "Prediction time of untested data was: 8.00945782661438\n",
      "\n",
      "          Run ID        Date      Time                    Model Name Model Author Num Classes  Accuracy  Balanced Accuracy  AUC Score  Average Precision  F1 Score  Precision  Recall Samples In Train Samples In Test                                                                                      Model Description Column Predicted Num Features Used                                                                                                                                               Data and Split Description Normalized Num Features Normalized Feature Extraction Was Untested Data Predicted\n",
      "0  6AAJg2P5je1Qw  2019-10-18  13:36:01  random_forest_classification  Hamed        5           0.748     0.751             NaN        NaN                 0.745     0.744      0.748   342338           85585           Random Forest: n_estimators=361, max_features=auto, criterion=entropy, min_samples_leaf=13, n_jobs=-1  class_label      12                {'experiment_id': 'r1dnj926jr7q9g', 'random_state': 0, 'live_volume': 'multi', 'dead_volume': 'multi', 'stain': 'SYTOX Red Stain', 'prediction': True, 'time_point': 4}  True       12                      False              True                      \n",
      "\n",
      "Run finished at 13:38:21. Total run time = 140.37 seconds\n",
      "^^^^^^^^^^^^^^^^^^^^^^^^^^^^^^^^^^^^^^^^^^^^^^^^^^^^^^^^^^^^^^^^^^^^^^^^^^^^^^^^^^^^^^^^^^^^^^^^^^^^\n",
      "\n",
      "\n",
      "\n",
      "\n",
      "{'experiment_id': 'r1dnj926jr7q9g', 'random_state': 0, 'live_volume': 'multi', 'dead_volume': 'multi', 'stain': nan, 'prediction': True, 'time_point': 4}\n",
      "data_columns: ['Unnamed: 0', 'Unnamed: 0.1', 'Unnamed: 0.1.1', 'Unnamed: 0.1.1.1', 'Unnamed: 0.1.1.1.1', 'checksum', 'filename', 'kill', 'kill_volume', 'stain', 'well', 'experiment_id', 'Time', 'FSC-A', 'SSC-A', 'BL1-A', 'RL1-A', 'FSC-H', 'SSC-H', 'BL1-H', 'RL1-H', 'FSC-W', 'SSC-W', 'BL1-W', 'RL1-W', 'index', 'live', 'live_210', 'live_280']\n"
     ]
    },
    {
     "name": "stderr",
     "output_type": "stream",
     "text": [
      "/Users/danbryce/Documents/sift/xplan/external/xplan/xplan-to-autoprotocol-reactor/xplan-dev-env/xplan-dev-env/lib/python3.7/site-packages/pandas/core/indexing.py:480: SettingWithCopyWarning: \n",
      "A value is trying to be set on a copy of a slice from a DataFrame.\n",
      "Try using .loc[row_indexer,col_indexer] = value instead\n",
      "\n",
      "See the caveats in the documentation: http://pandas.pydata.org/pandas-docs/stable/user_guide/indexing.html#returning-a-view-versus-a-copy\n",
      "  self.obj[item] = s\n"
     ]
    },
    {
     "name": "stdout",
     "output_type": "stream",
     "text": [
      "['FSC-A', 'SSC-A', 'BL1-A', 'RL1-A', 'FSC-H', 'SSC-H', 'BL1-H', 'RL1-H', 'FSC-W', 'SSC-W', 'BL1-W', 'RL1-W']\n",
      "\n",
      "----------------------------------------------------------------------------------------------------\n",
      "Starting run at time 13:38:24\n",
      "Normalizing training and testing splits...\n",
      "Starting Classification training...\n",
      "Training time was: 129.44 seconds\n",
      "Testing time was: 4.99 seconds\n",
      "Prediction time of untested data was: 10.912024974822998\n",
      "\n",
      "          Run ID        Date      Time                    Model Name Model Author Num Classes  Accuracy  Balanced Accuracy  AUC Score  Average Precision  F1 Score  Precision  Recall Samples In Train Samples In Test                                                                                      Model Description Column Predicted Num Features Used                                                                                                                                 Data and Split Description Normalized Num Features Normalized Feature Extraction Was Untested Data Predicted\n",
      "0  QR9pMYlpY2GkP  2019-10-18  13:38:24  random_forest_classification  Hamed        5           0.635     0.657             NaN        NaN                 0.625     0.622      0.635   318662           79666           Random Forest: n_estimators=361, max_features=auto, criterion=entropy, min_samples_leaf=13, n_jobs=-1  class_label      12                {'experiment_id': 'r1dnj926jr7q9g', 'random_state': 0, 'live_volume': 'multi', 'dead_volume': 'multi', 'stain': nan, 'prediction': True, 'time_point': 4}  True       12                      False              True                      \n",
      "\n",
      "Run finished at 13:40:56. Total run time = 151.90 seconds\n",
      "^^^^^^^^^^^^^^^^^^^^^^^^^^^^^^^^^^^^^^^^^^^^^^^^^^^^^^^^^^^^^^^^^^^^^^^^^^^^^^^^^^^^^^^^^^^^^^^^^^^^\n",
      "\n",
      "\n",
      "\n",
      "\n"
     ]
    },
    {
     "name": "stderr",
     "output_type": "stream",
     "text": [
      "/Users/danbryce/Documents/sift/xplan/external/xplan/xplan-to-autoprotocol-reactor/xplan-dev-env/xplan-dev-env/lib/python3.7/site-packages/IPython/core/interactiveshell.py:3249: DtypeWarning: Columns (9) have mixed types. Specify dtype option on import or set low_memory=False.\n",
      "  if (await self.run_code(code, result,  async_=asy)):\n"
     ]
    },
    {
     "name": "stdout",
     "output_type": "stream",
     "text": [
      "{'experiment_id': 'r1dnj926jr7q9g', 'random_state': 0, 'live_volume': 'multi', 'dead_volume': 'multi', 'stain': 'SYTOX Red Stain', 'prediction': True, 'time_point': 5}\n",
      "data_columns: ['Unnamed: 0', 'Unnamed: 0.1', 'Unnamed: 0.1.1', 'Unnamed: 0.1.1.1', 'Unnamed: 0.1.1.1.1', 'checksum', 'filename', 'kill', 'kill_volume', 'stain', 'well', 'experiment_id', 'Time', 'FSC-A', 'SSC-A', 'BL1-A', 'RL1-A', 'FSC-H', 'SSC-H', 'BL1-H', 'RL1-H', 'FSC-W', 'SSC-W', 'BL1-W', 'RL1-W', 'index', 'live', 'live_210', 'live_280']\n"
     ]
    },
    {
     "name": "stderr",
     "output_type": "stream",
     "text": [
      "/Users/danbryce/Documents/sift/xplan/external/xplan/xplan-to-autoprotocol-reactor/xplan-dev-env/xplan-dev-env/lib/python3.7/site-packages/pandas/core/indexing.py:480: SettingWithCopyWarning: \n",
      "A value is trying to be set on a copy of a slice from a DataFrame.\n",
      "Try using .loc[row_indexer,col_indexer] = value instead\n",
      "\n",
      "See the caveats in the documentation: http://pandas.pydata.org/pandas-docs/stable/user_guide/indexing.html#returning-a-view-versus-a-copy\n",
      "  self.obj[item] = s\n"
     ]
    },
    {
     "name": "stdout",
     "output_type": "stream",
     "text": [
      "['FSC-A', 'SSC-A', 'BL1-A', 'RL1-A', 'FSC-H', 'SSC-H', 'BL1-H', 'RL1-H', 'FSC-W', 'SSC-W', 'BL1-W', 'RL1-W']\n",
      "\n",
      "----------------------------------------------------------------------------------------------------\n",
      "Starting run at time 13:41:23\n",
      "Normalizing training and testing splits...\n",
      "Starting Classification training...\n",
      "Training time was: 173.96 seconds\n",
      "Testing time was: 6.45 seconds\n",
      "Prediction time of untested data was: 12.394736051559448\n",
      "\n",
      "          Run ID        Date      Time                    Model Name Model Author Num Classes  Accuracy  Balanced Accuracy  AUC Score  Average Precision  F1 Score  Precision  Recall Samples In Train Samples In Test                                                                                      Model Description Column Predicted Num Features Used                                                                                                                                               Data and Split Description Normalized Num Features Normalized Feature Extraction Was Untested Data Predicted\n",
      "0  adNX3RkJdLWjV  2019-10-18  13:41:23  random_forest_classification  Hamed        5           0.748     0.752             NaN        NaN                 0.745     0.744      0.748   342338           85585           Random Forest: n_estimators=361, max_features=auto, criterion=entropy, min_samples_leaf=13, n_jobs=-1  class_label      12                {'experiment_id': 'r1dnj926jr7q9g', 'random_state': 0, 'live_volume': 'multi', 'dead_volume': 'multi', 'stain': 'SYTOX Red Stain', 'prediction': True, 'time_point': 5}  True       12                      False              True                      \n",
      "\n",
      "Run finished at 13:44:43. Total run time = 200.35 seconds\n",
      "^^^^^^^^^^^^^^^^^^^^^^^^^^^^^^^^^^^^^^^^^^^^^^^^^^^^^^^^^^^^^^^^^^^^^^^^^^^^^^^^^^^^^^^^^^^^^^^^^^^^\n",
      "\n",
      "\n",
      "\n",
      "\n",
      "{'experiment_id': 'r1dnj926jr7q9g', 'random_state': 0, 'live_volume': 'multi', 'dead_volume': 'multi', 'stain': nan, 'prediction': True, 'time_point': 5}\n",
      "data_columns: ['Unnamed: 0', 'Unnamed: 0.1', 'Unnamed: 0.1.1', 'Unnamed: 0.1.1.1', 'Unnamed: 0.1.1.1.1', 'checksum', 'filename', 'kill', 'kill_volume', 'stain', 'well', 'experiment_id', 'Time', 'FSC-A', 'SSC-A', 'BL1-A', 'RL1-A', 'FSC-H', 'SSC-H', 'BL1-H', 'RL1-H', 'FSC-W', 'SSC-W', 'BL1-W', 'RL1-W', 'index', 'live', 'live_210', 'live_280']\n"
     ]
    },
    {
     "name": "stderr",
     "output_type": "stream",
     "text": [
      "/Users/danbryce/Documents/sift/xplan/external/xplan/xplan-to-autoprotocol-reactor/xplan-dev-env/xplan-dev-env/lib/python3.7/site-packages/pandas/core/indexing.py:480: SettingWithCopyWarning: \n",
      "A value is trying to be set on a copy of a slice from a DataFrame.\n",
      "Try using .loc[row_indexer,col_indexer] = value instead\n",
      "\n",
      "See the caveats in the documentation: http://pandas.pydata.org/pandas-docs/stable/user_guide/indexing.html#returning-a-view-versus-a-copy\n",
      "  self.obj[item] = s\n"
     ]
    },
    {
     "name": "stdout",
     "output_type": "stream",
     "text": [
      "['FSC-A', 'SSC-A', 'BL1-A', 'RL1-A', 'FSC-H', 'SSC-H', 'BL1-H', 'RL1-H', 'FSC-W', 'SSC-W', 'BL1-W', 'RL1-W']\n",
      "\n",
      "----------------------------------------------------------------------------------------------------\n",
      "Starting run at time 13:44:47\n",
      "Normalizing training and testing splits...\n",
      "Starting Classification training...\n",
      "Training time was: 154.94 seconds\n",
      "Testing time was: 4.69 seconds\n",
      "Prediction time of untested data was: 9.276342153549194\n",
      "\n",
      "          Run ID        Date      Time                    Model Name Model Author Num Classes  Accuracy  Balanced Accuracy  AUC Score  Average Precision  F1 Score  Precision  Recall Samples In Train Samples In Test                                                                                      Model Description Column Predicted Num Features Used                                                                                                                                 Data and Split Description Normalized Num Features Normalized Feature Extraction Was Untested Data Predicted\n",
      "0  557zYwaX1PXl5  2019-10-18  13:44:47  random_forest_classification  Hamed        5           0.635     0.658             NaN        NaN                 0.626     0.623      0.635   318662           79666           Random Forest: n_estimators=361, max_features=auto, criterion=entropy, min_samples_leaf=13, n_jobs=-1  class_label      12                {'experiment_id': 'r1dnj926jr7q9g', 'random_state': 0, 'live_volume': 'multi', 'dead_volume': 'multi', 'stain': nan, 'prediction': True, 'time_point': 5}  True       12                      False              True                      \n",
      "\n",
      "Run finished at 13:47:43. Total run time = 175.79 seconds\n",
      "^^^^^^^^^^^^^^^^^^^^^^^^^^^^^^^^^^^^^^^^^^^^^^^^^^^^^^^^^^^^^^^^^^^^^^^^^^^^^^^^^^^^^^^^^^^^^^^^^^^^\n",
      "\n",
      "\n",
      "\n",
      "\n"
     ]
    },
    {
     "name": "stderr",
     "output_type": "stream",
     "text": [
      "/Users/danbryce/Documents/sift/xplan/external/xplan/xplan-to-autoprotocol-reactor/xplan-dev-env/xplan-dev-env/lib/python3.7/site-packages/IPython/core/interactiveshell.py:3249: DtypeWarning: Columns (9) have mixed types. Specify dtype option on import or set low_memory=False.\n",
      "  if (await self.run_code(code, result,  async_=asy)):\n"
     ]
    },
    {
     "name": "stdout",
     "output_type": "stream",
     "text": [
      "{'experiment_id': 'r1dnj926jr7q9g', 'random_state': 0, 'live_volume': 'multi', 'dead_volume': 'multi', 'stain': 'SYTOX Red Stain', 'prediction': True, 'time_point': 6}\n",
      "data_columns: ['Unnamed: 0', 'Unnamed: 0.1', 'Unnamed: 0.1.1', 'Unnamed: 0.1.1.1', 'Unnamed: 0.1.1.1.1', 'checksum', 'filename', 'kill', 'kill_volume', 'stain', 'well', 'experiment_id', 'Time', 'FSC-A', 'SSC-A', 'BL1-A', 'RL1-A', 'FSC-H', 'SSC-H', 'BL1-H', 'RL1-H', 'FSC-W', 'SSC-W', 'BL1-W', 'RL1-W', 'index', 'live', 'live_210', 'live_280']\n"
     ]
    },
    {
     "name": "stderr",
     "output_type": "stream",
     "text": [
      "/Users/danbryce/Documents/sift/xplan/external/xplan/xplan-to-autoprotocol-reactor/xplan-dev-env/xplan-dev-env/lib/python3.7/site-packages/pandas/core/indexing.py:480: SettingWithCopyWarning: \n",
      "A value is trying to be set on a copy of a slice from a DataFrame.\n",
      "Try using .loc[row_indexer,col_indexer] = value instead\n",
      "\n",
      "See the caveats in the documentation: http://pandas.pydata.org/pandas-docs/stable/user_guide/indexing.html#returning-a-view-versus-a-copy\n",
      "  self.obj[item] = s\n"
     ]
    },
    {
     "name": "stdout",
     "output_type": "stream",
     "text": [
      "['FSC-A', 'SSC-A', 'BL1-A', 'RL1-A', 'FSC-H', 'SSC-H', 'BL1-H', 'RL1-H', 'FSC-W', 'SSC-W', 'BL1-W', 'RL1-W']\n",
      "\n",
      "----------------------------------------------------------------------------------------------------\n",
      "Starting run at time 13:48:07\n",
      "Normalizing training and testing splits...\n",
      "Starting Classification training...\n",
      "Training time was: 140.42 seconds\n",
      "Testing time was: 4.67 seconds\n",
      "Prediction time of untested data was: 10.762928009033203\n",
      "\n",
      "          Run ID        Date      Time                    Model Name Model Author Num Classes  Accuracy  Balanced Accuracy  AUC Score  Average Precision  F1 Score  Precision  Recall Samples In Train Samples In Test                                                                                      Model Description Column Predicted Num Features Used                                                                                                                                               Data and Split Description Normalized Num Features Normalized Feature Extraction Was Untested Data Predicted\n",
      "0  Ea5eBoqAByDpJ  2019-10-18  13:48:07  random_forest_classification  Hamed        5           0.749     0.752             NaN        NaN                 0.745     0.744      0.749   342338           85585           Random Forest: n_estimators=361, max_features=auto, criterion=entropy, min_samples_leaf=13, n_jobs=-1  class_label      12                {'experiment_id': 'r1dnj926jr7q9g', 'random_state': 0, 'live_volume': 'multi', 'dead_volume': 'multi', 'stain': 'SYTOX Red Stain', 'prediction': True, 'time_point': 6}  True       12                      False              True                      \n",
      "\n",
      "Run finished at 13:50:50. Total run time = 162.35 seconds\n",
      "^^^^^^^^^^^^^^^^^^^^^^^^^^^^^^^^^^^^^^^^^^^^^^^^^^^^^^^^^^^^^^^^^^^^^^^^^^^^^^^^^^^^^^^^^^^^^^^^^^^^\n",
      "\n",
      "\n",
      "\n",
      "\n",
      "{'experiment_id': 'r1dnj926jr7q9g', 'random_state': 0, 'live_volume': 'multi', 'dead_volume': 'multi', 'stain': nan, 'prediction': True, 'time_point': 6}\n",
      "data_columns: ['Unnamed: 0', 'Unnamed: 0.1', 'Unnamed: 0.1.1', 'Unnamed: 0.1.1.1', 'Unnamed: 0.1.1.1.1', 'checksum', 'filename', 'kill', 'kill_volume', 'stain', 'well', 'experiment_id', 'Time', 'FSC-A', 'SSC-A', 'BL1-A', 'RL1-A', 'FSC-H', 'SSC-H', 'BL1-H', 'RL1-H', 'FSC-W', 'SSC-W', 'BL1-W', 'RL1-W', 'index', 'live', 'live_210', 'live_280']\n"
     ]
    },
    {
     "name": "stderr",
     "output_type": "stream",
     "text": [
      "/Users/danbryce/Documents/sift/xplan/external/xplan/xplan-to-autoprotocol-reactor/xplan-dev-env/xplan-dev-env/lib/python3.7/site-packages/pandas/core/indexing.py:480: SettingWithCopyWarning: \n",
      "A value is trying to be set on a copy of a slice from a DataFrame.\n",
      "Try using .loc[row_indexer,col_indexer] = value instead\n",
      "\n",
      "See the caveats in the documentation: http://pandas.pydata.org/pandas-docs/stable/user_guide/indexing.html#returning-a-view-versus-a-copy\n",
      "  self.obj[item] = s\n"
     ]
    },
    {
     "name": "stdout",
     "output_type": "stream",
     "text": [
      "['FSC-A', 'SSC-A', 'BL1-A', 'RL1-A', 'FSC-H', 'SSC-H', 'BL1-H', 'RL1-H', 'FSC-W', 'SSC-W', 'BL1-W', 'RL1-W']\n",
      "\n",
      "----------------------------------------------------------------------------------------------------\n",
      "Starting run at time 13:50:53\n",
      "Normalizing training and testing splits...\n",
      "Starting Classification training...\n",
      "Training time was: 117.06 seconds\n",
      "Testing time was: 3.65 seconds\n",
      "Prediction time of untested data was: 7.48981499671936\n",
      "\n",
      "          Run ID        Date      Time                    Model Name Model Author Num Classes  Accuracy  Balanced Accuracy  AUC Score  Average Precision  F1 Score  Precision  Recall Samples In Train Samples In Test                                                                                      Model Description Column Predicted Num Features Used                                                                                                                                 Data and Split Description Normalized Num Features Normalized Feature Extraction Was Untested Data Predicted\n",
      "0  QzEJDAjXzyBek  2019-10-18  13:50:53  random_forest_classification  Hamed        5           0.635     0.657             NaN        NaN                 0.625     0.622      0.635   318662           79666           Random Forest: n_estimators=361, max_features=auto, criterion=entropy, min_samples_leaf=13, n_jobs=-1  class_label      12                {'experiment_id': 'r1dnj926jr7q9g', 'random_state': 0, 'live_volume': 'multi', 'dead_volume': 'multi', 'stain': nan, 'prediction': True, 'time_point': 6}  True       12                      False              True                      \n",
      "\n",
      "Run finished at 13:53:07. Total run time = 133.67 seconds\n",
      "^^^^^^^^^^^^^^^^^^^^^^^^^^^^^^^^^^^^^^^^^^^^^^^^^^^^^^^^^^^^^^^^^^^^^^^^^^^^^^^^^^^^^^^^^^^^^^^^^^^^\n",
      "\n",
      "\n",
      "\n",
      "\n"
     ]
    },
    {
     "name": "stderr",
     "output_type": "stream",
     "text": [
      "/Users/danbryce/Documents/sift/xplan/external/xplan/xplan-to-autoprotocol-reactor/xplan-dev-env/xplan-dev-env/lib/python3.7/site-packages/IPython/core/interactiveshell.py:3249: DtypeWarning: Columns (9) have mixed types. Specify dtype option on import or set low_memory=False.\n",
      "  if (await self.run_code(code, result,  async_=asy)):\n"
     ]
    },
    {
     "name": "stdout",
     "output_type": "stream",
     "text": [
      "{'experiment_id': 'r1dnj926jr7q9g', 'random_state': 0, 'live_volume': 'multi', 'dead_volume': 'multi', 'stain': 'SYTOX Red Stain', 'prediction': True, 'time_point': 7}\n",
      "data_columns: ['Unnamed: 0', 'Unnamed: 0.1', 'Unnamed: 0.1.1', 'Unnamed: 0.1.1.1', 'Unnamed: 0.1.1.1.1', 'checksum', 'filename', 'kill', 'kill_volume', 'stain', 'well', 'experiment_id', 'Time', 'FSC-A', 'SSC-A', 'BL1-A', 'RL1-A', 'FSC-H', 'SSC-H', 'BL1-H', 'RL1-H', 'FSC-W', 'SSC-W', 'BL1-W', 'RL1-W', 'index', 'live', 'live_210', 'live_280']\n"
     ]
    },
    {
     "name": "stderr",
     "output_type": "stream",
     "text": [
      "/Users/danbryce/Documents/sift/xplan/external/xplan/xplan-to-autoprotocol-reactor/xplan-dev-env/xplan-dev-env/lib/python3.7/site-packages/pandas/core/indexing.py:480: SettingWithCopyWarning: \n",
      "A value is trying to be set on a copy of a slice from a DataFrame.\n",
      "Try using .loc[row_indexer,col_indexer] = value instead\n",
      "\n",
      "See the caveats in the documentation: http://pandas.pydata.org/pandas-docs/stable/user_guide/indexing.html#returning-a-view-versus-a-copy\n",
      "  self.obj[item] = s\n"
     ]
    },
    {
     "name": "stdout",
     "output_type": "stream",
     "text": [
      "['FSC-A', 'SSC-A', 'BL1-A', 'RL1-A', 'FSC-H', 'SSC-H', 'BL1-H', 'RL1-H', 'FSC-W', 'SSC-W', 'BL1-W', 'RL1-W']\n",
      "\n",
      "----------------------------------------------------------------------------------------------------\n",
      "Starting run at time 13:53:28\n",
      "Normalizing training and testing splits...\n",
      "Starting Classification training...\n",
      "Training time was: 124.51 seconds\n",
      "Testing time was: 3.75 seconds\n",
      "Prediction time of untested data was: 10.415857315063477\n",
      "\n",
      "          Run ID        Date      Time                    Model Name Model Author Num Classes  Accuracy  Balanced Accuracy  AUC Score  Average Precision  F1 Score  Precision  Recall Samples In Train Samples In Test                                                                                      Model Description Column Predicted Num Features Used                                                                                                                                               Data and Split Description Normalized Num Features Normalized Feature Extraction Was Untested Data Predicted\n",
      "0  6Dzmgvpm7eJmw  2019-10-18  13:53:28  random_forest_classification  Hamed        5           0.748     0.752             NaN        NaN                 0.745     0.744      0.748   342338           85585           Random Forest: n_estimators=361, max_features=auto, criterion=entropy, min_samples_leaf=13, n_jobs=-1  class_label      12                {'experiment_id': 'r1dnj926jr7q9g', 'random_state': 0, 'live_volume': 'multi', 'dead_volume': 'multi', 'stain': 'SYTOX Red Stain', 'prediction': True, 'time_point': 7}  True       12                      False              True                      \n",
      "\n",
      "Run finished at 13:55:53. Total run time = 144.95 seconds\n",
      "^^^^^^^^^^^^^^^^^^^^^^^^^^^^^^^^^^^^^^^^^^^^^^^^^^^^^^^^^^^^^^^^^^^^^^^^^^^^^^^^^^^^^^^^^^^^^^^^^^^^\n",
      "\n",
      "\n",
      "\n",
      "\n",
      "{'experiment_id': 'r1dnj926jr7q9g', 'random_state': 0, 'live_volume': 'multi', 'dead_volume': 'multi', 'stain': nan, 'prediction': True, 'time_point': 7}\n",
      "data_columns: ['Unnamed: 0', 'Unnamed: 0.1', 'Unnamed: 0.1.1', 'Unnamed: 0.1.1.1', 'Unnamed: 0.1.1.1.1', 'checksum', 'filename', 'kill', 'kill_volume', 'stain', 'well', 'experiment_id', 'Time', 'FSC-A', 'SSC-A', 'BL1-A', 'RL1-A', 'FSC-H', 'SSC-H', 'BL1-H', 'RL1-H', 'FSC-W', 'SSC-W', 'BL1-W', 'RL1-W', 'index', 'live', 'live_210', 'live_280']\n"
     ]
    },
    {
     "name": "stderr",
     "output_type": "stream",
     "text": [
      "/Users/danbryce/Documents/sift/xplan/external/xplan/xplan-to-autoprotocol-reactor/xplan-dev-env/xplan-dev-env/lib/python3.7/site-packages/pandas/core/indexing.py:480: SettingWithCopyWarning: \n",
      "A value is trying to be set on a copy of a slice from a DataFrame.\n",
      "Try using .loc[row_indexer,col_indexer] = value instead\n",
      "\n",
      "See the caveats in the documentation: http://pandas.pydata.org/pandas-docs/stable/user_guide/indexing.html#returning-a-view-versus-a-copy\n",
      "  self.obj[item] = s\n"
     ]
    },
    {
     "name": "stdout",
     "output_type": "stream",
     "text": [
      "['FSC-A', 'SSC-A', 'BL1-A', 'RL1-A', 'FSC-H', 'SSC-H', 'BL1-H', 'RL1-H', 'FSC-W', 'SSC-W', 'BL1-W', 'RL1-W']\n",
      "\n",
      "----------------------------------------------------------------------------------------------------\n",
      "Starting run at time 13:55:56\n",
      "Normalizing training and testing splits...\n",
      "Starting Classification training...\n",
      "Training time was: 112.63 seconds\n",
      "Testing time was: 3.76 seconds\n",
      "Prediction time of untested data was: 8.997848749160767\n",
      "\n",
      "          Run ID        Date      Time                    Model Name Model Author Num Classes  Accuracy  Balanced Accuracy  AUC Score  Average Precision  F1 Score  Precision  Recall Samples In Train Samples In Test                                                                                      Model Description Column Predicted Num Features Used                                                                                                                                 Data and Split Description Normalized Num Features Normalized Feature Extraction Was Untested Data Predicted\n",
      "0  aAgJ7BWYYb8bo  2019-10-18  13:55:56  random_forest_classification  Hamed        5           0.635     0.657             NaN        NaN                 0.626     0.622      0.635   318662           79666           Random Forest: n_estimators=361, max_features=auto, criterion=entropy, min_samples_leaf=13, n_jobs=-1  class_label      12                {'experiment_id': 'r1dnj926jr7q9g', 'random_state': 0, 'live_volume': 'multi', 'dead_volume': 'multi', 'stain': nan, 'prediction': True, 'time_point': 7}  True       12                      False              True                      \n",
      "\n",
      "Run finished at 13:58:07. Total run time = 131.08 seconds\n",
      "^^^^^^^^^^^^^^^^^^^^^^^^^^^^^^^^^^^^^^^^^^^^^^^^^^^^^^^^^^^^^^^^^^^^^^^^^^^^^^^^^^^^^^^^^^^^^^^^^^^^\n",
      "\n",
      "\n",
      "\n",
      "\n"
     ]
    },
    {
     "name": "stderr",
     "output_type": "stream",
     "text": [
      "/Users/danbryce/Documents/sift/xplan/external/xplan/xplan-to-autoprotocol-reactor/xplan-dev-env/xplan-dev-env/lib/python3.7/site-packages/IPython/core/interactiveshell.py:3249: DtypeWarning: Columns (9) have mixed types. Specify dtype option on import or set low_memory=False.\n",
      "  if (await self.run_code(code, result,  async_=asy)):\n"
     ]
    },
    {
     "name": "stdout",
     "output_type": "stream",
     "text": [
      "{'experiment_id': 'r1dnj926jr7q9g', 'random_state': 0, 'live_volume': 'multi', 'dead_volume': 'multi', 'stain': 'SYTOX Red Stain', 'prediction': True, 'time_point': 2}\n",
      "data_columns: ['Unnamed: 0', 'Unnamed: 0.1', 'Unnamed: 0.1.1', 'Unnamed: 0.1.1.1', 'Unnamed: 0.1.1.1.1', 'checksum', 'filename', 'kill', 'kill_volume', 'stain', 'well', 'experiment_id', 'Time', 'FSC-A', 'SSC-A', 'BL1-A', 'RL1-A', 'FSC-H', 'SSC-H', 'BL1-H', 'RL1-H', 'FSC-W', 'SSC-W', 'BL1-W', 'RL1-W', 'index', 'live', 'live_210', 'live_280']\n"
     ]
    },
    {
     "name": "stderr",
     "output_type": "stream",
     "text": [
      "/Users/danbryce/Documents/sift/xplan/external/xplan/xplan-to-autoprotocol-reactor/xplan-dev-env/xplan-dev-env/lib/python3.7/site-packages/pandas/core/indexing.py:480: SettingWithCopyWarning: \n",
      "A value is trying to be set on a copy of a slice from a DataFrame.\n",
      "Try using .loc[row_indexer,col_indexer] = value instead\n",
      "\n",
      "See the caveats in the documentation: http://pandas.pydata.org/pandas-docs/stable/user_guide/indexing.html#returning-a-view-versus-a-copy\n",
      "  self.obj[item] = s\n"
     ]
    },
    {
     "name": "stdout",
     "output_type": "stream",
     "text": [
      "['FSC-A', 'SSC-A', 'BL1-A', 'RL1-A', 'FSC-H', 'SSC-H', 'BL1-H', 'RL1-H', 'FSC-W', 'SSC-W', 'BL1-W', 'RL1-W']\n",
      "\n",
      "----------------------------------------------------------------------------------------------------\n",
      "Starting run at time 13:58:31\n",
      "Normalizing training and testing splits...\n",
      "Starting Classification training...\n",
      "Training time was: 121.81 seconds\n",
      "Testing time was: 3.76 seconds\n",
      "Prediction time of untested data was: 11.166969060897827\n",
      "\n",
      "          Run ID        Date      Time                    Model Name Model Author Num Classes  Accuracy  Balanced Accuracy  AUC Score  Average Precision  F1 Score  Precision  Recall Samples In Train Samples In Test                                                                                      Model Description Column Predicted Num Features Used                                                                                                                                               Data and Split Description Normalized Num Features Normalized Feature Extraction Was Untested Data Predicted\n",
      "0  QMEqVzY8OOvGo  2019-10-18  13:58:31  random_forest_classification  Hamed        5           0.748     0.751             NaN        NaN                 0.745     0.744      0.748   342338           85585           Random Forest: n_estimators=361, max_features=auto, criterion=entropy, min_samples_leaf=13, n_jobs=-1  class_label      12                {'experiment_id': 'r1dnj926jr7q9g', 'random_state': 0, 'live_volume': 'multi', 'dead_volume': 'multi', 'stain': 'SYTOX Red Stain', 'prediction': True, 'time_point': 2}  True       12                      False              True                      \n",
      "\n",
      "Run finished at 14:00:54. Total run time = 143.40 seconds\n",
      "^^^^^^^^^^^^^^^^^^^^^^^^^^^^^^^^^^^^^^^^^^^^^^^^^^^^^^^^^^^^^^^^^^^^^^^^^^^^^^^^^^^^^^^^^^^^^^^^^^^^\n",
      "\n",
      "\n",
      "\n",
      "\n",
      "{'experiment_id': 'r1dnj926jr7q9g', 'random_state': 0, 'live_volume': 'multi', 'dead_volume': 'multi', 'stain': nan, 'prediction': True, 'time_point': 2}\n",
      "data_columns: ['Unnamed: 0', 'Unnamed: 0.1', 'Unnamed: 0.1.1', 'Unnamed: 0.1.1.1', 'Unnamed: 0.1.1.1.1', 'checksum', 'filename', 'kill', 'kill_volume', 'stain', 'well', 'experiment_id', 'Time', 'FSC-A', 'SSC-A', 'BL1-A', 'RL1-A', 'FSC-H', 'SSC-H', 'BL1-H', 'RL1-H', 'FSC-W', 'SSC-W', 'BL1-W', 'RL1-W', 'index', 'live', 'live_210', 'live_280']\n"
     ]
    },
    {
     "name": "stderr",
     "output_type": "stream",
     "text": [
      "/Users/danbryce/Documents/sift/xplan/external/xplan/xplan-to-autoprotocol-reactor/xplan-dev-env/xplan-dev-env/lib/python3.7/site-packages/pandas/core/indexing.py:480: SettingWithCopyWarning: \n",
      "A value is trying to be set on a copy of a slice from a DataFrame.\n",
      "Try using .loc[row_indexer,col_indexer] = value instead\n",
      "\n",
      "See the caveats in the documentation: http://pandas.pydata.org/pandas-docs/stable/user_guide/indexing.html#returning-a-view-versus-a-copy\n",
      "  self.obj[item] = s\n"
     ]
    },
    {
     "name": "stdout",
     "output_type": "stream",
     "text": [
      "['FSC-A', 'SSC-A', 'BL1-A', 'RL1-A', 'FSC-H', 'SSC-H', 'BL1-H', 'RL1-H', 'FSC-W', 'SSC-W', 'BL1-W', 'RL1-W']\n",
      "\n",
      "----------------------------------------------------------------------------------------------------\n",
      "Starting run at time 14:00:58\n",
      "Normalizing training and testing splits...\n",
      "Starting Classification training...\n",
      "Training time was: 123.24 seconds\n",
      "Testing time was: 4.59 seconds\n",
      "Prediction time of untested data was: 10.498120069503784\n",
      "\n",
      "          Run ID        Date      Time                    Model Name Model Author Num Classes  Accuracy  Balanced Accuracy  AUC Score  Average Precision  F1 Score  Precision  Recall Samples In Train Samples In Test                                                                                      Model Description Column Predicted Num Features Used                                                                                                                                 Data and Split Description Normalized Num Features Normalized Feature Extraction Was Untested Data Predicted\n",
      "0  Q95XjXq86R9z3  2019-10-18  14:00:58  random_forest_classification  Hamed        5           0.634     0.657             NaN        NaN                 0.625     0.622      0.634   318662           79666           Random Forest: n_estimators=361, max_features=auto, criterion=entropy, min_samples_leaf=13, n_jobs=-1  class_label      12                {'experiment_id': 'r1dnj926jr7q9g', 'random_state': 0, 'live_volume': 'multi', 'dead_volume': 'multi', 'stain': nan, 'prediction': True, 'time_point': 2}  True       12                      False              True                      \n",
      "\n",
      "Run finished at 14:03:22. Total run time = 144.38 seconds\n",
      "^^^^^^^^^^^^^^^^^^^^^^^^^^^^^^^^^^^^^^^^^^^^^^^^^^^^^^^^^^^^^^^^^^^^^^^^^^^^^^^^^^^^^^^^^^^^^^^^^^^^\n",
      "\n",
      "\n",
      "\n",
      "\n"
     ]
    },
    {
     "name": "stderr",
     "output_type": "stream",
     "text": [
      "/Users/danbryce/Documents/sift/xplan/external/xplan/xplan-to-autoprotocol-reactor/xplan-dev-env/xplan-dev-env/lib/python3.7/site-packages/IPython/core/interactiveshell.py:3249: DtypeWarning: Columns (9) have mixed types. Specify dtype option on import or set low_memory=False.\n",
      "  if (await self.run_code(code, result,  async_=asy)):\n"
     ]
    },
    {
     "name": "stdout",
     "output_type": "stream",
     "text": [
      "{'experiment_id': 'r1dnj926jr7q9g', 'random_state': 0, 'live_volume': 'multi', 'dead_volume': 'multi', 'stain': 'SYTOX Red Stain', 'prediction': True, 'time_point': 3}\n",
      "data_columns: ['Unnamed: 0', 'Unnamed: 0.1', 'Unnamed: 0.1.1', 'Unnamed: 0.1.1.1', 'Unnamed: 0.1.1.1.1', 'checksum', 'filename', 'kill', 'kill_volume', 'stain', 'well', 'experiment_id', 'Time', 'FSC-A', 'SSC-A', 'BL1-A', 'RL1-A', 'FSC-H', 'SSC-H', 'BL1-H', 'RL1-H', 'FSC-W', 'SSC-W', 'BL1-W', 'RL1-W', 'index', 'live', 'live_210', 'live_280']\n"
     ]
    },
    {
     "name": "stderr",
     "output_type": "stream",
     "text": [
      "/Users/danbryce/Documents/sift/xplan/external/xplan/xplan-to-autoprotocol-reactor/xplan-dev-env/xplan-dev-env/lib/python3.7/site-packages/pandas/core/indexing.py:480: SettingWithCopyWarning: \n",
      "A value is trying to be set on a copy of a slice from a DataFrame.\n",
      "Try using .loc[row_indexer,col_indexer] = value instead\n",
      "\n",
      "See the caveats in the documentation: http://pandas.pydata.org/pandas-docs/stable/user_guide/indexing.html#returning-a-view-versus-a-copy\n",
      "  self.obj[item] = s\n"
     ]
    },
    {
     "name": "stdout",
     "output_type": "stream",
     "text": [
      "['FSC-A', 'SSC-A', 'BL1-A', 'RL1-A', 'FSC-H', 'SSC-H', 'BL1-H', 'RL1-H', 'FSC-W', 'SSC-W', 'BL1-W', 'RL1-W']\n",
      "\n",
      "----------------------------------------------------------------------------------------------------\n",
      "Starting run at time 14:03:50\n",
      "Normalizing training and testing splits...\n",
      "Starting Classification training...\n",
      "Training time was: 151.36 seconds\n",
      "Testing time was: 4.46 seconds\n",
      "Prediction time of untested data was: 12.210179805755615\n",
      "\n",
      "         Run ID        Date      Time                    Model Name Model Author Num Classes  Accuracy  Balanced Accuracy  AUC Score  Average Precision  F1 Score  Precision  Recall Samples In Train Samples In Test                                                                                      Model Description Column Predicted Num Features Used                                                                                                                                               Data and Split Description Normalized Num Features Normalized Feature Extraction Was Untested Data Predicted\n",
      "0  EebOE6QDADO8  2019-10-18  14:03:50  random_forest_classification  Hamed        5           0.748     0.751             NaN        NaN                 0.745     0.744      0.748   342338           85585           Random Forest: n_estimators=361, max_features=auto, criterion=entropy, min_samples_leaf=13, n_jobs=-1  class_label      12                {'experiment_id': 'r1dnj926jr7q9g', 'random_state': 0, 'live_volume': 'multi', 'dead_volume': 'multi', 'stain': 'SYTOX Red Stain', 'prediction': True, 'time_point': 3}  True       12                      False              True                      \n",
      "\n",
      "Run finished at 14:06:45. Total run time = 175.49 seconds\n",
      "^^^^^^^^^^^^^^^^^^^^^^^^^^^^^^^^^^^^^^^^^^^^^^^^^^^^^^^^^^^^^^^^^^^^^^^^^^^^^^^^^^^^^^^^^^^^^^^^^^^^\n",
      "\n",
      "\n",
      "\n",
      "\n",
      "{'experiment_id': 'r1dnj926jr7q9g', 'random_state': 0, 'live_volume': 'multi', 'dead_volume': 'multi', 'stain': nan, 'prediction': True, 'time_point': 3}\n",
      "data_columns: ['Unnamed: 0', 'Unnamed: 0.1', 'Unnamed: 0.1.1', 'Unnamed: 0.1.1.1', 'Unnamed: 0.1.1.1.1', 'checksum', 'filename', 'kill', 'kill_volume', 'stain', 'well', 'experiment_id', 'Time', 'FSC-A', 'SSC-A', 'BL1-A', 'RL1-A', 'FSC-H', 'SSC-H', 'BL1-H', 'RL1-H', 'FSC-W', 'SSC-W', 'BL1-W', 'RL1-W', 'index', 'live', 'live_210', 'live_280']\n"
     ]
    },
    {
     "name": "stderr",
     "output_type": "stream",
     "text": [
      "/Users/danbryce/Documents/sift/xplan/external/xplan/xplan-to-autoprotocol-reactor/xplan-dev-env/xplan-dev-env/lib/python3.7/site-packages/pandas/core/indexing.py:480: SettingWithCopyWarning: \n",
      "A value is trying to be set on a copy of a slice from a DataFrame.\n",
      "Try using .loc[row_indexer,col_indexer] = value instead\n",
      "\n",
      "See the caveats in the documentation: http://pandas.pydata.org/pandas-docs/stable/user_guide/indexing.html#returning-a-view-versus-a-copy\n",
      "  self.obj[item] = s\n"
     ]
    },
    {
     "name": "stdout",
     "output_type": "stream",
     "text": [
      "['FSC-A', 'SSC-A', 'BL1-A', 'RL1-A', 'FSC-H', 'SSC-H', 'BL1-H', 'RL1-H', 'FSC-W', 'SSC-W', 'BL1-W', 'RL1-W']\n",
      "\n",
      "----------------------------------------------------------------------------------------------------\n",
      "Starting run at time 14:06:50\n",
      "Normalizing training and testing splits...\n",
      "Starting Classification training...\n",
      "Training time was: 128.05 seconds\n",
      "Testing time was: 4.08 seconds\n",
      "Prediction time of untested data was: 10.68721079826355\n",
      "\n",
      "          Run ID        Date      Time                    Model Name Model Author Num Classes  Accuracy  Balanced Accuracy  AUC Score  Average Precision  F1 Score  Precision  Recall Samples In Train Samples In Test                                                                                      Model Description Column Predicted Num Features Used                                                                                                                                 Data and Split Description Normalized Num Features Normalized Feature Extraction Was Untested Data Predicted\n",
      "0  Qaq2krx19gRlr  2019-10-18  14:06:50  random_forest_classification  Hamed        5           0.635     0.658             NaN        NaN                 0.626     0.623      0.635   318662           79666           Random Forest: n_estimators=361, max_features=auto, criterion=entropy, min_samples_leaf=13, n_jobs=-1  class_label      12                {'experiment_id': 'r1dnj926jr7q9g', 'random_state': 0, 'live_volume': 'multi', 'dead_volume': 'multi', 'stain': nan, 'prediction': True, 'time_point': 3}  True       12                      False              True                      \n",
      "\n",
      "Run finished at 14:09:19. Total run time = 149.37 seconds\n",
      "^^^^^^^^^^^^^^^^^^^^^^^^^^^^^^^^^^^^^^^^^^^^^^^^^^^^^^^^^^^^^^^^^^^^^^^^^^^^^^^^^^^^^^^^^^^^^^^^^^^^\n",
      "\n",
      "\n",
      "\n",
      "\n"
     ]
    },
    {
     "name": "stderr",
     "output_type": "stream",
     "text": [
      "/Users/danbryce/Documents/sift/xplan/external/xplan/xplan-to-autoprotocol-reactor/xplan-dev-env/xplan-dev-env/lib/python3.7/site-packages/IPython/core/interactiveshell.py:3249: DtypeWarning: Columns (9) have mixed types. Specify dtype option on import or set low_memory=False.\n",
      "  if (await self.run_code(code, result,  async_=asy)):\n"
     ]
    },
    {
     "name": "stdout",
     "output_type": "stream",
     "text": [
      "{'experiment_id': 'r1dnj926jr7q9g', 'random_state': 0, 'live_volume': 'multi', 'dead_volume': 'multi', 'stain': nan, 'prediction': True, 'time_point': 8}\n",
      "data_columns: ['Unnamed: 0', 'Unnamed: 0.1', 'Unnamed: 0.1.1', 'Unnamed: 0.1.1.1', 'Unnamed: 0.1.1.1.1', 'checksum', 'filename', 'kill', 'kill_volume', 'stain', 'well', 'experiment_id', 'Time', 'FSC-A', 'SSC-A', 'BL1-A', 'RL1-A', 'FSC-H', 'SSC-H', 'BL1-H', 'RL1-H', 'FSC-W', 'SSC-W', 'BL1-W', 'RL1-W', 'index', 'live', 'live_210', 'live_280']\n"
     ]
    },
    {
     "name": "stderr",
     "output_type": "stream",
     "text": [
      "/Users/danbryce/Documents/sift/xplan/external/xplan/xplan-to-autoprotocol-reactor/xplan-dev-env/xplan-dev-env/lib/python3.7/site-packages/pandas/core/indexing.py:480: SettingWithCopyWarning: \n",
      "A value is trying to be set on a copy of a slice from a DataFrame.\n",
      "Try using .loc[row_indexer,col_indexer] = value instead\n",
      "\n",
      "See the caveats in the documentation: http://pandas.pydata.org/pandas-docs/stable/user_guide/indexing.html#returning-a-view-versus-a-copy\n",
      "  self.obj[item] = s\n"
     ]
    },
    {
     "name": "stdout",
     "output_type": "stream",
     "text": [
      "['FSC-A', 'SSC-A', 'BL1-A', 'RL1-A', 'FSC-H', 'SSC-H', 'BL1-H', 'RL1-H', 'FSC-W', 'SSC-W', 'BL1-W', 'RL1-W']\n",
      "\n",
      "----------------------------------------------------------------------------------------------------\n",
      "Starting run at time 14:09:45\n",
      "Normalizing training and testing splits...\n",
      "Starting Classification training...\n",
      "Training time was: 122.86 seconds\n",
      "Testing time was: 3.94 seconds\n",
      "Prediction time of untested data was: 10.770854949951172\n",
      "\n",
      "          Run ID        Date      Time                    Model Name Model Author Num Classes  Accuracy  Balanced Accuracy  AUC Score  Average Precision  F1 Score  Precision  Recall Samples In Train Samples In Test                                                                                      Model Description Column Predicted Num Features Used                                                                                                                                 Data and Split Description Normalized Num Features Normalized Feature Extraction Was Untested Data Predicted\n",
      "0  QPoBgae5aPDkk  2019-10-18  14:09:45  random_forest_classification  Hamed        5           0.635     0.657             NaN        NaN                 0.625     0.622      0.635   318662           79666           Random Forest: n_estimators=361, max_features=auto, criterion=entropy, min_samples_leaf=13, n_jobs=-1  class_label      12                {'experiment_id': 'r1dnj926jr7q9g', 'random_state': 0, 'live_volume': 'multi', 'dead_volume': 'multi', 'stain': nan, 'prediction': True, 'time_point': 8}  True       12                      False              True                      \n",
      "\n",
      "Run finished at 14:12:08. Total run time = 143.73 seconds\n",
      "^^^^^^^^^^^^^^^^^^^^^^^^^^^^^^^^^^^^^^^^^^^^^^^^^^^^^^^^^^^^^^^^^^^^^^^^^^^^^^^^^^^^^^^^^^^^^^^^^^^^\n",
      "\n",
      "\n",
      "\n",
      "\n",
      "{'experiment_id': 'r1dnj926jr7q9g', 'random_state': 0, 'live_volume': 'multi', 'dead_volume': 'multi', 'stain': 'SYTOX Red Stain', 'prediction': True, 'time_point': 8}\n",
      "data_columns: ['Unnamed: 0', 'Unnamed: 0.1', 'Unnamed: 0.1.1', 'Unnamed: 0.1.1.1', 'Unnamed: 0.1.1.1.1', 'checksum', 'filename', 'kill', 'kill_volume', 'stain', 'well', 'experiment_id', 'Time', 'FSC-A', 'SSC-A', 'BL1-A', 'RL1-A', 'FSC-H', 'SSC-H', 'BL1-H', 'RL1-H', 'FSC-W', 'SSC-W', 'BL1-W', 'RL1-W', 'index', 'live', 'live_210', 'live_280']\n"
     ]
    },
    {
     "name": "stderr",
     "output_type": "stream",
     "text": [
      "/Users/danbryce/Documents/sift/xplan/external/xplan/xplan-to-autoprotocol-reactor/xplan-dev-env/xplan-dev-env/lib/python3.7/site-packages/pandas/core/indexing.py:480: SettingWithCopyWarning: \n",
      "A value is trying to be set on a copy of a slice from a DataFrame.\n",
      "Try using .loc[row_indexer,col_indexer] = value instead\n",
      "\n",
      "See the caveats in the documentation: http://pandas.pydata.org/pandas-docs/stable/user_guide/indexing.html#returning-a-view-versus-a-copy\n",
      "  self.obj[item] = s\n"
     ]
    },
    {
     "name": "stdout",
     "output_type": "stream",
     "text": [
      "['FSC-A', 'SSC-A', 'BL1-A', 'RL1-A', 'FSC-H', 'SSC-H', 'BL1-H', 'RL1-H', 'FSC-W', 'SSC-W', 'BL1-W', 'RL1-W']\n",
      "\n",
      "----------------------------------------------------------------------------------------------------\n",
      "Starting run at time 14:12:12\n",
      "Normalizing training and testing splits...\n",
      "Starting Classification training...\n",
      "Training time was: 119.37 seconds\n",
      "Testing time was: 4.06 seconds\n",
      "Prediction time of untested data was: 11.90471601486206\n",
      "\n",
      "          Run ID        Date      Time                    Model Name Model Author Num Classes  Accuracy  Balanced Accuracy  AUC Score  Average Precision  F1 Score  Precision  Recall Samples In Train Samples In Test                                                                                      Model Description Column Predicted Num Features Used                                                                                                                                               Data and Split Description Normalized Num Features Normalized Feature Extraction Was Untested Data Predicted\n",
      "0  EQVo2Ga2El6Ez  2019-10-18  14:12:12  random_forest_classification  Hamed        5           0.748     0.751             NaN        NaN                 0.744     0.744      0.748   342338           85585           Random Forest: n_estimators=361, max_features=auto, criterion=entropy, min_samples_leaf=13, n_jobs=-1  class_label      12                {'experiment_id': 'r1dnj926jr7q9g', 'random_state': 0, 'live_volume': 'multi', 'dead_volume': 'multi', 'stain': 'SYTOX Red Stain', 'prediction': True, 'time_point': 8}  True       12                      False              True                      \n",
      "\n",
      "Run finished at 14:14:34. Total run time = 142.19 seconds\n",
      "^^^^^^^^^^^^^^^^^^^^^^^^^^^^^^^^^^^^^^^^^^^^^^^^^^^^^^^^^^^^^^^^^^^^^^^^^^^^^^^^^^^^^^^^^^^^^^^^^^^^\n",
      "\n",
      "\n",
      "\n",
      "\n"
     ]
    },
    {
     "name": "stderr",
     "output_type": "stream",
     "text": [
      "/Users/danbryce/Documents/sift/xplan/external/xplan/xplan-to-autoprotocol-reactor/xplan-dev-env/xplan-dev-env/lib/python3.7/site-packages/IPython/core/interactiveshell.py:3249: DtypeWarning: Columns (9) have mixed types. Specify dtype option on import or set low_memory=False.\n",
      "  if (await self.run_code(code, result,  async_=asy)):\n"
     ]
    },
    {
     "name": "stdout",
     "output_type": "stream",
     "text": [
      "{'experiment_id': 'r1dnj926jr7q9g', 'random_state': 0, 'live_volume': 'multi', 'dead_volume': 'multi', 'stain': nan, 'prediction': True, 'time_point': 9}\n",
      "data_columns: ['Unnamed: 0', 'Unnamed: 0.1', 'Unnamed: 0.1.1', 'Unnamed: 0.1.1.1', 'Unnamed: 0.1.1.1.1', 'checksum', 'filename', 'kill', 'kill_volume', 'stain', 'well', 'experiment_id', 'Time', 'FSC-A', 'SSC-A', 'BL1-A', 'RL1-A', 'FSC-H', 'SSC-H', 'BL1-H', 'RL1-H', 'FSC-W', 'SSC-W', 'BL1-W', 'RL1-W', 'index', 'live', 'live_210', 'live_280']\n"
     ]
    },
    {
     "name": "stderr",
     "output_type": "stream",
     "text": [
      "/Users/danbryce/Documents/sift/xplan/external/xplan/xplan-to-autoprotocol-reactor/xplan-dev-env/xplan-dev-env/lib/python3.7/site-packages/pandas/core/indexing.py:480: SettingWithCopyWarning: \n",
      "A value is trying to be set on a copy of a slice from a DataFrame.\n",
      "Try using .loc[row_indexer,col_indexer] = value instead\n",
      "\n",
      "See the caveats in the documentation: http://pandas.pydata.org/pandas-docs/stable/user_guide/indexing.html#returning-a-view-versus-a-copy\n",
      "  self.obj[item] = s\n"
     ]
    },
    {
     "name": "stdout",
     "output_type": "stream",
     "text": [
      "['FSC-A', 'SSC-A', 'BL1-A', 'RL1-A', 'FSC-H', 'SSC-H', 'BL1-H', 'RL1-H', 'FSC-W', 'SSC-W', 'BL1-W', 'RL1-W']\n",
      "\n",
      "----------------------------------------------------------------------------------------------------\n",
      "Starting run at time 14:15:02\n",
      "Normalizing training and testing splits...\n",
      "Starting Classification training...\n",
      "Training time was: 109.79 seconds\n",
      "Testing time was: 3.75 seconds\n",
      "Prediction time of untested data was: 13.525669813156128\n",
      "\n",
      "          Run ID        Date      Time                    Model Name Model Author Num Classes  Accuracy  Balanced Accuracy  AUC Score  Average Precision  F1 Score  Precision  Recall Samples In Train Samples In Test                                                                                      Model Description Column Predicted Num Features Used                                                                                                                                 Data and Split Description Normalized Num Features Normalized Feature Extraction Was Untested Data Predicted\n",
      "0  Ez9WwXEzgw1DJ  2019-10-18  14:15:02  random_forest_classification  Hamed        5           0.634     0.657             NaN        NaN                 0.625     0.622      0.634   318662           79666           Random Forest: n_estimators=361, max_features=auto, criterion=entropy, min_samples_leaf=13, n_jobs=-1  class_label      12                {'experiment_id': 'r1dnj926jr7q9g', 'random_state': 0, 'live_volume': 'multi', 'dead_volume': 'multi', 'stain': nan, 'prediction': True, 'time_point': 9}  True       12                      False              True                      \n",
      "\n",
      "Run finished at 14:17:21. Total run time = 139.12 seconds\n",
      "^^^^^^^^^^^^^^^^^^^^^^^^^^^^^^^^^^^^^^^^^^^^^^^^^^^^^^^^^^^^^^^^^^^^^^^^^^^^^^^^^^^^^^^^^^^^^^^^^^^^\n",
      "\n",
      "\n",
      "\n",
      "\n",
      "{'experiment_id': 'r1dnj926jr7q9g', 'random_state': 0, 'live_volume': 'multi', 'dead_volume': 'multi', 'stain': 'SYTOX Red Stain', 'prediction': True, 'time_point': 9}\n",
      "data_columns: ['Unnamed: 0', 'Unnamed: 0.1', 'Unnamed: 0.1.1', 'Unnamed: 0.1.1.1', 'Unnamed: 0.1.1.1.1', 'checksum', 'filename', 'kill', 'kill_volume', 'stain', 'well', 'experiment_id', 'Time', 'FSC-A', 'SSC-A', 'BL1-A', 'RL1-A', 'FSC-H', 'SSC-H', 'BL1-H', 'RL1-H', 'FSC-W', 'SSC-W', 'BL1-W', 'RL1-W', 'index', 'live', 'live_210', 'live_280']\n"
     ]
    },
    {
     "name": "stderr",
     "output_type": "stream",
     "text": [
      "/Users/danbryce/Documents/sift/xplan/external/xplan/xplan-to-autoprotocol-reactor/xplan-dev-env/xplan-dev-env/lib/python3.7/site-packages/pandas/core/indexing.py:480: SettingWithCopyWarning: \n",
      "A value is trying to be set on a copy of a slice from a DataFrame.\n",
      "Try using .loc[row_indexer,col_indexer] = value instead\n",
      "\n",
      "See the caveats in the documentation: http://pandas.pydata.org/pandas-docs/stable/user_guide/indexing.html#returning-a-view-versus-a-copy\n",
      "  self.obj[item] = s\n"
     ]
    },
    {
     "name": "stdout",
     "output_type": "stream",
     "text": [
      "['FSC-A', 'SSC-A', 'BL1-A', 'RL1-A', 'FSC-H', 'SSC-H', 'BL1-H', 'RL1-H', 'FSC-W', 'SSC-W', 'BL1-W', 'RL1-W']\n",
      "\n",
      "----------------------------------------------------------------------------------------------------\n",
      "Starting run at time 14:17:24\n",
      "Normalizing training and testing splits...\n",
      "Starting Classification training...\n",
      "Training time was: 118.46 seconds\n",
      "Testing time was: 3.64 seconds\n",
      "Prediction time of untested data was: 13.482723951339722\n",
      "\n",
      "          Run ID        Date      Time                    Model Name Model Author Num Classes  Accuracy  Balanced Accuracy  AUC Score  Average Precision  F1 Score  Precision  Recall Samples In Train Samples In Test                                                                                      Model Description Column Predicted Num Features Used                                                                                                                                               Data and Split Description Normalized Num Features Normalized Feature Extraction Was Untested Data Predicted\n",
      "0  6dqJXqrROem6q  2019-10-18  14:17:24  random_forest_classification  Hamed        5           0.748     0.752             NaN        NaN                 0.745     0.744      0.748   342338           85585           Random Forest: n_estimators=361, max_features=auto, criterion=entropy, min_samples_leaf=13, n_jobs=-1  class_label      12                {'experiment_id': 'r1dnj926jr7q9g', 'random_state': 0, 'live_volume': 'multi', 'dead_volume': 'multi', 'stain': 'SYTOX Red Stain', 'prediction': True, 'time_point': 9}  True       12                      False              True                      \n",
      "\n",
      "Run finished at 14:19:47. Total run time = 142.67 seconds\n",
      "^^^^^^^^^^^^^^^^^^^^^^^^^^^^^^^^^^^^^^^^^^^^^^^^^^^^^^^^^^^^^^^^^^^^^^^^^^^^^^^^^^^^^^^^^^^^^^^^^^^^\n",
      "\n",
      "\n",
      "\n",
      "\n"
     ]
    },
    {
     "name": "stderr",
     "output_type": "stream",
     "text": [
      "/Users/danbryce/Documents/sift/xplan/external/xplan/xplan-to-autoprotocol-reactor/xplan-dev-env/xplan-dev-env/lib/python3.7/site-packages/IPython/core/interactiveshell.py:3249: DtypeWarning: Columns (9) have mixed types. Specify dtype option on import or set low_memory=False.\n",
      "  if (await self.run_code(code, result,  async_=asy)):\n"
     ]
    },
    {
     "name": "stdout",
     "output_type": "stream",
     "text": [
      "{'experiment_id': 'r1dnj926jr7q9g', 'random_state': 0, 'live_volume': 'multi', 'dead_volume': 'multi', 'stain': 'SYTOX Red Stain', 'prediction': True, 'time_point': 10}\n",
      "data_columns: ['Unnamed: 0', 'Unnamed: 0.1', 'Unnamed: 0.1.1', 'Unnamed: 0.1.1.1', 'Unnamed: 0.1.1.1.1', 'checksum', 'filename', 'kill', 'kill_volume', 'stain', 'well', 'experiment_id', 'Time', 'FSC-A', 'SSC-A', 'BL1-A', 'RL1-A', 'FSC-H', 'SSC-H', 'BL1-H', 'RL1-H', 'FSC-W', 'SSC-W', 'BL1-W', 'RL1-W', 'index', 'live', 'live_210', 'live_280']\n"
     ]
    },
    {
     "name": "stderr",
     "output_type": "stream",
     "text": [
      "/Users/danbryce/Documents/sift/xplan/external/xplan/xplan-to-autoprotocol-reactor/xplan-dev-env/xplan-dev-env/lib/python3.7/site-packages/pandas/core/indexing.py:480: SettingWithCopyWarning: \n",
      "A value is trying to be set on a copy of a slice from a DataFrame.\n",
      "Try using .loc[row_indexer,col_indexer] = value instead\n",
      "\n",
      "See the caveats in the documentation: http://pandas.pydata.org/pandas-docs/stable/user_guide/indexing.html#returning-a-view-versus-a-copy\n",
      "  self.obj[item] = s\n"
     ]
    },
    {
     "name": "stdout",
     "output_type": "stream",
     "text": [
      "['FSC-A', 'SSC-A', 'BL1-A', 'RL1-A', 'FSC-H', 'SSC-H', 'BL1-H', 'RL1-H', 'FSC-W', 'SSC-W', 'BL1-W', 'RL1-W']\n",
      "\n",
      "----------------------------------------------------------------------------------------------------\n",
      "Starting run at time 14:20:18\n",
      "Normalizing training and testing splits...\n",
      "Starting Classification training...\n",
      "Training time was: 117.72 seconds\n",
      "Testing time was: 3.82 seconds\n",
      "Prediction time of untested data was: 13.60097885131836\n",
      "\n",
      "          Run ID        Date      Time                    Model Name Model Author Num Classes  Accuracy  Balanced Accuracy  AUC Score  Average Precision  F1 Score  Precision  Recall Samples In Train Samples In Test                                                                                      Model Description Column Predicted Num Features Used                                                                                                                                                Data and Split Description Normalized Num Features Normalized Feature Extraction Was Untested Data Predicted\n",
      "0  QMXPLAOgMNjg1  2019-10-18  14:20:18  random_forest_classification  Hamed        5           0.749     0.752             NaN        NaN                 0.745     0.744      0.749   342338           85585           Random Forest: n_estimators=361, max_features=auto, criterion=entropy, min_samples_leaf=13, n_jobs=-1  class_label      12                {'experiment_id': 'r1dnj926jr7q9g', 'random_state': 0, 'live_volume': 'multi', 'dead_volume': 'multi', 'stain': 'SYTOX Red Stain', 'prediction': True, 'time_point': 10}  True       12                      False              True                      \n",
      "\n",
      "Run finished at 14:22:41. Total run time = 142.39 seconds\n",
      "^^^^^^^^^^^^^^^^^^^^^^^^^^^^^^^^^^^^^^^^^^^^^^^^^^^^^^^^^^^^^^^^^^^^^^^^^^^^^^^^^^^^^^^^^^^^^^^^^^^^\n",
      "\n",
      "\n",
      "\n",
      "\n",
      "{'experiment_id': 'r1dnj926jr7q9g', 'random_state': 0, 'live_volume': 'multi', 'dead_volume': 'multi', 'stain': nan, 'prediction': True, 'time_point': 10}\n",
      "data_columns: ['Unnamed: 0', 'Unnamed: 0.1', 'Unnamed: 0.1.1', 'Unnamed: 0.1.1.1', 'Unnamed: 0.1.1.1.1', 'checksum', 'filename', 'kill', 'kill_volume', 'stain', 'well', 'experiment_id', 'Time', 'FSC-A', 'SSC-A', 'BL1-A', 'RL1-A', 'FSC-H', 'SSC-H', 'BL1-H', 'RL1-H', 'FSC-W', 'SSC-W', 'BL1-W', 'RL1-W', 'index', 'live', 'live_210', 'live_280']\n"
     ]
    },
    {
     "name": "stderr",
     "output_type": "stream",
     "text": [
      "/Users/danbryce/Documents/sift/xplan/external/xplan/xplan-to-autoprotocol-reactor/xplan-dev-env/xplan-dev-env/lib/python3.7/site-packages/pandas/core/indexing.py:480: SettingWithCopyWarning: \n",
      "A value is trying to be set on a copy of a slice from a DataFrame.\n",
      "Try using .loc[row_indexer,col_indexer] = value instead\n",
      "\n",
      "See the caveats in the documentation: http://pandas.pydata.org/pandas-docs/stable/user_guide/indexing.html#returning-a-view-versus-a-copy\n",
      "  self.obj[item] = s\n"
     ]
    },
    {
     "name": "stdout",
     "output_type": "stream",
     "text": [
      "['FSC-A', 'SSC-A', 'BL1-A', 'RL1-A', 'FSC-H', 'SSC-H', 'BL1-H', 'RL1-H', 'FSC-W', 'SSC-W', 'BL1-W', 'RL1-W']\n",
      "\n",
      "----------------------------------------------------------------------------------------------------\n",
      "Starting run at time 14:22:44\n",
      "Normalizing training and testing splits...\n",
      "Starting Classification training...\n",
      "Training time was: 106.22 seconds\n",
      "Testing time was: 3.62 seconds\n",
      "Prediction time of untested data was: 14.817330121994019\n",
      "\n",
      "          Run ID        Date      Time                    Model Name Model Author Num Classes  Accuracy  Balanced Accuracy  AUC Score  Average Precision  F1 Score  Precision  Recall Samples In Train Samples In Test                                                                                      Model Description Column Predicted Num Features Used                                                                                                                                  Data and Split Description Normalized Num Features Normalized Feature Extraction Was Untested Data Predicted\n",
      "0  6aD8yN57pLO5q  2019-10-18  14:22:44  random_forest_classification  Hamed        5           0.635     0.657             NaN        NaN                 0.625     0.622      0.635   318662           79666           Random Forest: n_estimators=361, max_features=auto, criterion=entropy, min_samples_leaf=13, n_jobs=-1  class_label      12                {'experiment_id': 'r1dnj926jr7q9g', 'random_state': 0, 'live_volume': 'multi', 'dead_volume': 'multi', 'stain': nan, 'prediction': True, 'time_point': 10}  True       12                      False              True                      \n",
      "\n",
      "Run finished at 14:24:56. Total run time = 131.71 seconds\n",
      "^^^^^^^^^^^^^^^^^^^^^^^^^^^^^^^^^^^^^^^^^^^^^^^^^^^^^^^^^^^^^^^^^^^^^^^^^^^^^^^^^^^^^^^^^^^^^^^^^^^^\n",
      "\n",
      "\n",
      "\n",
      "\n"
     ]
    },
    {
     "name": "stderr",
     "output_type": "stream",
     "text": [
      "/Users/danbryce/Documents/sift/xplan/external/xplan/xplan-to-autoprotocol-reactor/xplan-dev-env/xplan-dev-env/lib/python3.7/site-packages/IPython/core/interactiveshell.py:3249: DtypeWarning: Columns (9) have mixed types. Specify dtype option on import or set low_memory=False.\n",
      "  if (await self.run_code(code, result,  async_=asy)):\n"
     ]
    },
    {
     "name": "stdout",
     "output_type": "stream",
     "text": [
      "{'experiment_id': 'r1dnj926jr7q9g', 'random_state': 0, 'live_volume': 'multi', 'dead_volume': 'multi', 'stain': 'SYTOX Red Stain', 'prediction': True, 'time_point': 11}\n",
      "data_columns: ['Unnamed: 0', 'Unnamed: 0.1', 'Unnamed: 0.1.1', 'Unnamed: 0.1.1.1', 'Unnamed: 0.1.1.1.1', 'checksum', 'filename', 'kill', 'kill_volume', 'stain', 'well', 'experiment_id', 'Time', 'FSC-A', 'SSC-A', 'BL1-A', 'RL1-A', 'FSC-H', 'SSC-H', 'BL1-H', 'RL1-H', 'FSC-W', 'SSC-W', 'BL1-W', 'RL1-W', 'index', 'live', 'live_210', 'live_280']\n"
     ]
    },
    {
     "name": "stderr",
     "output_type": "stream",
     "text": [
      "/Users/danbryce/Documents/sift/xplan/external/xplan/xplan-to-autoprotocol-reactor/xplan-dev-env/xplan-dev-env/lib/python3.7/site-packages/pandas/core/indexing.py:480: SettingWithCopyWarning: \n",
      "A value is trying to be set on a copy of a slice from a DataFrame.\n",
      "Try using .loc[row_indexer,col_indexer] = value instead\n",
      "\n",
      "See the caveats in the documentation: http://pandas.pydata.org/pandas-docs/stable/user_guide/indexing.html#returning-a-view-versus-a-copy\n",
      "  self.obj[item] = s\n"
     ]
    },
    {
     "name": "stdout",
     "output_type": "stream",
     "text": [
      "['FSC-A', 'SSC-A', 'BL1-A', 'RL1-A', 'FSC-H', 'SSC-H', 'BL1-H', 'RL1-H', 'FSC-W', 'SSC-W', 'BL1-W', 'RL1-W']\n",
      "\n",
      "----------------------------------------------------------------------------------------------------\n",
      "Starting run at time 14:25:29\n",
      "Normalizing training and testing splits...\n",
      "Starting Classification training...\n",
      "Training time was: 115.17 seconds\n",
      "Testing time was: 3.51 seconds\n",
      "Prediction time of untested data was: 14.203571081161499\n",
      "\n",
      "         Run ID        Date      Time                    Model Name Model Author Num Classes  Accuracy  Balanced Accuracy  AUC Score  Average Precision  F1 Score  Precision  Recall Samples In Train Samples In Test                                                                                      Model Description Column Predicted Num Features Used                                                                                                                                                Data and Split Description Normalized Num Features Normalized Feature Extraction Was Untested Data Predicted\n",
      "0  Q2XQLd1JQ3xD  2019-10-18  14:25:29  random_forest_classification  Hamed        5           0.748     0.751             NaN        NaN                 0.745     0.744      0.748   342338           85585           Random Forest: n_estimators=361, max_features=auto, criterion=entropy, min_samples_leaf=13, n_jobs=-1  class_label      12                {'experiment_id': 'r1dnj926jr7q9g', 'random_state': 0, 'live_volume': 'multi', 'dead_volume': 'multi', 'stain': 'SYTOX Red Stain', 'prediction': True, 'time_point': 11}  True       12                      False              True                      \n",
      "\n",
      "Run finished at 14:27:50. Total run time = 140.41 seconds\n",
      "^^^^^^^^^^^^^^^^^^^^^^^^^^^^^^^^^^^^^^^^^^^^^^^^^^^^^^^^^^^^^^^^^^^^^^^^^^^^^^^^^^^^^^^^^^^^^^^^^^^^\n",
      "\n",
      "\n",
      "\n",
      "\n",
      "{'experiment_id': 'r1dnj926jr7q9g', 'random_state': 0, 'live_volume': 'multi', 'dead_volume': 'multi', 'stain': nan, 'prediction': True, 'time_point': 11}\n",
      "data_columns: ['Unnamed: 0', 'Unnamed: 0.1', 'Unnamed: 0.1.1', 'Unnamed: 0.1.1.1', 'Unnamed: 0.1.1.1.1', 'checksum', 'filename', 'kill', 'kill_volume', 'stain', 'well', 'experiment_id', 'Time', 'FSC-A', 'SSC-A', 'BL1-A', 'RL1-A', 'FSC-H', 'SSC-H', 'BL1-H', 'RL1-H', 'FSC-W', 'SSC-W', 'BL1-W', 'RL1-W', 'index', 'live', 'live_210', 'live_280']\n"
     ]
    },
    {
     "name": "stderr",
     "output_type": "stream",
     "text": [
      "/Users/danbryce/Documents/sift/xplan/external/xplan/xplan-to-autoprotocol-reactor/xplan-dev-env/xplan-dev-env/lib/python3.7/site-packages/pandas/core/indexing.py:480: SettingWithCopyWarning: \n",
      "A value is trying to be set on a copy of a slice from a DataFrame.\n",
      "Try using .loc[row_indexer,col_indexer] = value instead\n",
      "\n",
      "See the caveats in the documentation: http://pandas.pydata.org/pandas-docs/stable/user_guide/indexing.html#returning-a-view-versus-a-copy\n",
      "  self.obj[item] = s\n"
     ]
    },
    {
     "name": "stdout",
     "output_type": "stream",
     "text": [
      "['FSC-A', 'SSC-A', 'BL1-A', 'RL1-A', 'FSC-H', 'SSC-H', 'BL1-H', 'RL1-H', 'FSC-W', 'SSC-W', 'BL1-W', 'RL1-W']\n",
      "\n",
      "----------------------------------------------------------------------------------------------------\n",
      "Starting run at time 14:27:54\n",
      "Normalizing training and testing splits...\n",
      "Starting Classification training...\n",
      "Training time was: 106.08 seconds\n",
      "Testing time was: 3.71 seconds\n",
      "Prediction time of untested data was: 15.562726974487305\n",
      "\n",
      "          Run ID        Date      Time                    Model Name Model Author Num Classes  Accuracy  Balanced Accuracy  AUC Score  Average Precision  F1 Score  Precision  Recall Samples In Train Samples In Test                                                                                      Model Description Column Predicted Num Features Used                                                                                                                                  Data and Split Description Normalized Num Features Normalized Feature Extraction Was Untested Data Predicted\n",
      "0  EMLyBe8jyBaj1  2019-10-18  14:27:54  random_forest_classification  Hamed        5           0.634     0.657             NaN        NaN                 0.625     0.622      0.634   318662           79666           Random Forest: n_estimators=361, max_features=auto, criterion=entropy, min_samples_leaf=13, n_jobs=-1  class_label      12                {'experiment_id': 'r1dnj926jr7q9g', 'random_state': 0, 'live_volume': 'multi', 'dead_volume': 'multi', 'stain': nan, 'prediction': True, 'time_point': 11}  True       12                      False              True                      \n",
      "\n",
      "Run finished at 14:30:07. Total run time = 132.71 seconds\n",
      "^^^^^^^^^^^^^^^^^^^^^^^^^^^^^^^^^^^^^^^^^^^^^^^^^^^^^^^^^^^^^^^^^^^^^^^^^^^^^^^^^^^^^^^^^^^^^^^^^^^^\n",
      "\n",
      "\n",
      "\n",
      "\n"
     ]
    }
   ],
   "source": [
    "## Use each concentration as a class to predict multiple death types\n",
    "\n",
    "last_time = flow_data.loc[flow_data['time_point'].astype(int).idxmax()]\n",
    "last_plate = [p for p in plate_properties if p['container'] == last_time['container_name']][0]\n",
    "classifier_df = bld.get_container_data(work_dir, last_plate['container'])\n",
    "for p in plate_properties:\n",
    "    df = bld.get_container_data(work_dir, p['container'])\n",
    "    time_point = flow_data.loc[flow_data['container_name'] == p['container']]['time_point'].iloc[0]\n",
    "    dead_volumes = list(df.kill_volume.dropna().unique())\n",
    "    dead_volumes.remove(0.0)\n",
    "\n",
    "    pred_df = blda.train_models_for_multi_prediction(classifier_df,\n",
    "                                               df, \n",
    "                                               data_dir=work_dir,\n",
    "                                 fcs_columns=['FSC-A', 'SSC-A', 'BL1-A', 'RL1-A', 'FSC-H', \n",
    "                                      'SSC-H', 'BL1-H', 'RL1-H', 'FSC-W', 'SSC-W',\n",
    "                                      'BL1-W', 'RL1-W'],\n",
    "                                               \n",
    "                                           combine_stains=False,\n",
    "                                          overwrite=True,\n",
    "                                          output_col = 'live_multi',\n",
    "                                              time_point=time_point)\n",
    "    out_file = os.path.join(bld.get_container_work_dir(work_dir, p['container']), 'data.csv')\n",
    "    pred_df.to_csv(out_file)\n",
    "\n"
   ]
  },
  {
   "cell_type": "code",
   "execution_count": 64,
   "metadata": {
    "scrolled": true
   },
   "outputs": [
    {
     "name": "stdout",
     "output_type": "stream",
     "text": [
      "{'experiment_id': 'r1dd37mcxv5pf4', 'random_state': 0, 'live_volume': 0.0, 'dead_volume': 980.0, 'stain': 'SYTOX Red Stain'}\n",
      "{'experiment_id': 'r1dd37mcxv5pf4', 'random_state': 0, 'live_volume': 0.0, 'dead_volume': 980.0, 'stain': None}\n",
      "data_columns: ['Container Type', 'Control', 'Culture_Volume', 'Media', 'Replicate', 'Storage (C)', 'Strain', 'checksum', 'filename', 'kill', 'kill_volume', 'plate_id', 'source', 'stain', 'well', 'experiment_id', 'Time', 'FSC-A', 'SSC-A', 'BL1-A', 'RL1-A', 'FSC-H', 'SSC-H', 'BL1-H', 'RL1-H', 'FSC-W', 'SSC-W', 'BL1-W', 'RL1-W']\n"
     ]
    },
    {
     "name": "stderr",
     "output_type": "stream",
     "text": [
      "/Users/danbryce/Documents/sift/xplan/external/xplan/xplan-to-autoprotocol-reactor/xplan-dev-env/xplan-dev-env/lib/python3.7/site-packages/pandas/core/indexing.py:480: SettingWithCopyWarning: \n",
      "A value is trying to be set on a copy of a slice from a DataFrame.\n",
      "Try using .loc[row_indexer,col_indexer] = value instead\n",
      "\n",
      "See the caveats in the documentation: http://pandas.pydata.org/pandas-docs/stable/user_guide/indexing.html#returning-a-view-versus-a-copy\n",
      "  self.obj[item] = s\n"
     ]
    },
    {
     "name": "stdout",
     "output_type": "stream",
     "text": [
      "['FSC-A', 'SSC-A', 'BL1-A', 'RL1-A', 'FSC-H', 'SSC-H', 'BL1-H', 'RL1-H', 'FSC-W', 'SSC-W', 'BL1-W', 'RL1-W']\n",
      "\n",
      "<harness.test_harness_class.TestHarness object at 0x15b7ebef0>\n"
     ]
    },
    {
     "name": "stderr",
     "output_type": "stream",
     "text": [
      "/Users/danbryce/Documents/sift/xplan/external/xplan/xplan-to-autoprotocol-reactor/xplan-dev-env/xplan-dev-env/lib/python3.7/site-packages/pandas/core/indexing.py:362: SettingWithCopyWarning: \n",
      "A value is trying to be set on a copy of a slice from a DataFrame.\n",
      "Try using .loc[row_indexer,col_indexer] = value instead\n",
      "\n",
      "See the caveats in the documentation: http://pandas.pydata.org/pandas-docs/stable/user_guide/indexing.html#returning-a-view-versus-a-copy\n",
      "  self.obj[key] = _infer_fill_value(value)\n"
     ]
    },
    {
     "name": "stdout",
     "output_type": "stream",
     "text": [
      "HI\n",
      "----------------------------------------------------------------------------------------------------\n",
      "Starting run at time 22:31:18\n",
      "Normalizing training and testing splits...\n",
      "Starting Classification training...\n",
      "Training time was: 40.89 seconds\n",
      "Testing time was: 0.64 seconds\n",
      "\n",
      "          Run ID        Date      Time                    Model Name Model Author Num Classes  Accuracy  Balanced Accuracy  AUC Score  Average Precision  F1 Score  Precision  Recall Samples In Train Samples In Test                                                                                      Model Description Column Predicted Num Features Used                                                                                       Data and Split Description Normalized Num Features Normalized Feature Extraction Was Untested Data Predicted\n",
      "0  QgDA8YOg58WPP  2019-07-28  22:31:18  random_forest_classification  Hamed        2           0.994     0.994              1.0        1.0                0.994     0.993      0.996   192000           48000           Random Forest: n_estimators=361, max_features=auto, criterion=entropy, min_samples_leaf=13, n_jobs=-1  class_label      12                {'experiment_id': 'r1dd37mcxv5pf4', 'random_state': 0, 'live_volume': 0.0, 'dead_volume': 980.0, 'stain': None}  True       12                      False              False                     \n",
      "\n",
      "Run finished at 22:32:02. Total run time = 43.25 seconds\n",
      "^^^^^^^^^^^^^^^^^^^^^^^^^^^^^^^^^^^^^^^^^^^^^^^^^^^^^^^^^^^^^^^^^^^^^^^^^^^^^^^^^^^^^^^^^^^^^^^^^^^^\n",
      "\n",
      "\n",
      "\n",
      "\n",
      "HI\n",
      "{'experiment_id': 'r1dd37mcxv5pf4', 'random_state': 0, 'live_volume': 0.0, 'dead_volume': 570.0, 'stain': 'SYTOX Red Stain'}\n",
      "data_columns: ['Container Type', 'Control', 'Culture_Volume', 'Media', 'Replicate', 'Storage (C)', 'Strain', 'checksum', 'filename', 'kill', 'kill_volume', 'plate_id', 'source', 'stain', 'well', 'experiment_id', 'Time', 'FSC-A', 'SSC-A', 'BL1-A', 'RL1-A', 'FSC-H', 'SSC-H', 'BL1-H', 'RL1-H', 'FSC-W', 'SSC-W', 'BL1-W', 'RL1-W']\n"
     ]
    },
    {
     "name": "stderr",
     "output_type": "stream",
     "text": [
      "/Users/danbryce/Documents/sift/xplan/external/xplan/xplan-to-autoprotocol-reactor/xplan-dev-env/xplan-dev-env/lib/python3.7/site-packages/pandas/core/indexing.py:480: SettingWithCopyWarning: \n",
      "A value is trying to be set on a copy of a slice from a DataFrame.\n",
      "Try using .loc[row_indexer,col_indexer] = value instead\n",
      "\n",
      "See the caveats in the documentation: http://pandas.pydata.org/pandas-docs/stable/user_guide/indexing.html#returning-a-view-versus-a-copy\n",
      "  self.obj[item] = s\n"
     ]
    },
    {
     "name": "stdout",
     "output_type": "stream",
     "text": [
      "['FSC-A', 'SSC-A', 'BL1-A', 'RL1-A', 'FSC-H', 'SSC-H', 'BL1-H', 'RL1-H', 'FSC-W', 'SSC-W', 'BL1-W', 'RL1-W']\n",
      "\n",
      "<harness.test_harness_class.TestHarness object at 0x1417a1a58>\n"
     ]
    },
    {
     "name": "stderr",
     "output_type": "stream",
     "text": [
      "/Users/danbryce/Documents/sift/xplan/external/xplan/xplan-to-autoprotocol-reactor/xplan-dev-env/xplan-dev-env/lib/python3.7/site-packages/pandas/core/indexing.py:362: SettingWithCopyWarning: \n",
      "A value is trying to be set on a copy of a slice from a DataFrame.\n",
      "Try using .loc[row_indexer,col_indexer] = value instead\n",
      "\n",
      "See the caveats in the documentation: http://pandas.pydata.org/pandas-docs/stable/user_guide/indexing.html#returning-a-view-versus-a-copy\n",
      "  self.obj[key] = _infer_fill_value(value)\n"
     ]
    },
    {
     "name": "stdout",
     "output_type": "stream",
     "text": [
      "HI\n",
      "----------------------------------------------------------------------------------------------------\n",
      "Starting run at time 22:32:08\n",
      "Normalizing training and testing splits...\n",
      "Starting Classification training...\n",
      "Training time was: 37.54 seconds\n",
      "Testing time was: 0.65 seconds\n",
      "\n",
      "         Run ID        Date      Time                    Model Name Model Author Num Classes  Accuracy  Balanced Accuracy  AUC Score  Average Precision  F1 Score  Precision  Recall Samples In Train Samples In Test                                                                                      Model Description Column Predicted Num Features Used                                                                                                    Data and Split Description Normalized Num Features Normalized Feature Extraction Was Untested Data Predicted\n",
      "0  ED9mX65zBJQY  2019-07-28  22:32:08  random_forest_classification  Hamed        2           0.997     0.997              1.0        1.0                0.997     0.999      0.996   192000           48000           Random Forest: n_estimators=361, max_features=auto, criterion=entropy, min_samples_leaf=13, n_jobs=-1  class_label      12                {'experiment_id': 'r1dd37mcxv5pf4', 'random_state': 0, 'live_volume': 0.0, 'dead_volume': 570.0, 'stain': 'SYTOX Red Stain'}  True       12                      False              False                     \n",
      "\n",
      "Run finished at 22:32:48. Total run time = 40.04 seconds\n",
      "^^^^^^^^^^^^^^^^^^^^^^^^^^^^^^^^^^^^^^^^^^^^^^^^^^^^^^^^^^^^^^^^^^^^^^^^^^^^^^^^^^^^^^^^^^^^^^^^^^^^\n",
      "\n",
      "\n",
      "\n",
      "\n",
      "HI\n",
      "{'experiment_id': 'r1dd37mcxv5pf4', 'random_state': 0, 'live_volume': 0.0, 'dead_volume': 570.0, 'stain': None}\n",
      "data_columns: ['Container Type', 'Control', 'Culture_Volume', 'Media', 'Replicate', 'Storage (C)', 'Strain', 'checksum', 'filename', 'kill', 'kill_volume', 'plate_id', 'source', 'stain', 'well', 'experiment_id', 'Time', 'FSC-A', 'SSC-A', 'BL1-A', 'RL1-A', 'FSC-H', 'SSC-H', 'BL1-H', 'RL1-H', 'FSC-W', 'SSC-W', 'BL1-W', 'RL1-W']\n"
     ]
    },
    {
     "name": "stderr",
     "output_type": "stream",
     "text": [
      "/Users/danbryce/Documents/sift/xplan/external/xplan/xplan-to-autoprotocol-reactor/xplan-dev-env/xplan-dev-env/lib/python3.7/site-packages/pandas/core/indexing.py:480: SettingWithCopyWarning: \n",
      "A value is trying to be set on a copy of a slice from a DataFrame.\n",
      "Try using .loc[row_indexer,col_indexer] = value instead\n",
      "\n",
      "See the caveats in the documentation: http://pandas.pydata.org/pandas-docs/stable/user_guide/indexing.html#returning-a-view-versus-a-copy\n",
      "  self.obj[item] = s\n"
     ]
    },
    {
     "name": "stdout",
     "output_type": "stream",
     "text": [
      "['FSC-A', 'SSC-A', 'BL1-A', 'RL1-A', 'FSC-H', 'SSC-H', 'BL1-H', 'RL1-H', 'FSC-W', 'SSC-W', 'BL1-W', 'RL1-W']\n",
      "\n",
      "<harness.test_harness_class.TestHarness object at 0x13dcbf0b8>\n"
     ]
    },
    {
     "name": "stderr",
     "output_type": "stream",
     "text": [
      "/Users/danbryce/Documents/sift/xplan/external/xplan/xplan-to-autoprotocol-reactor/xplan-dev-env/xplan-dev-env/lib/python3.7/site-packages/pandas/core/indexing.py:362: SettingWithCopyWarning: \n",
      "A value is trying to be set on a copy of a slice from a DataFrame.\n",
      "Try using .loc[row_indexer,col_indexer] = value instead\n",
      "\n",
      "See the caveats in the documentation: http://pandas.pydata.org/pandas-docs/stable/user_guide/indexing.html#returning-a-view-versus-a-copy\n",
      "  self.obj[key] = _infer_fill_value(value)\n"
     ]
    },
    {
     "name": "stdout",
     "output_type": "stream",
     "text": [
      "HI\n",
      "----------------------------------------------------------------------------------------------------\n",
      "Starting run at time 22:32:54\n",
      "Normalizing training and testing splits...\n",
      "Starting Classification training...\n",
      "Training time was: 46.54 seconds\n",
      "Testing time was: 0.95 seconds\n",
      "\n",
      "          Run ID        Date      Time                    Model Name Model Author Num Classes  Accuracy  Balanced Accuracy  AUC Score  Average Precision  F1 Score  Precision  Recall Samples In Train Samples In Test                                                                                      Model Description Column Predicted Num Features Used                                                                                       Data and Split Description Normalized Num Features Normalized Feature Extraction Was Untested Data Predicted\n",
      "0  a3Z6vg3ej76Ok  2019-07-28  22:32:54  random_forest_classification  Hamed        2           0.977     0.977              0.997      0.996              0.978     0.972      0.984   183965           45992           Random Forest: n_estimators=361, max_features=auto, criterion=entropy, min_samples_leaf=13, n_jobs=-1  class_label      12                {'experiment_id': 'r1dd37mcxv5pf4', 'random_state': 0, 'live_volume': 0.0, 'dead_volume': 570.0, 'stain': None}  True       12                      False              False                     \n",
      "\n",
      "Run finished at 22:33:43. Total run time = 49.21 seconds\n",
      "^^^^^^^^^^^^^^^^^^^^^^^^^^^^^^^^^^^^^^^^^^^^^^^^^^^^^^^^^^^^^^^^^^^^^^^^^^^^^^^^^^^^^^^^^^^^^^^^^^^^\n",
      "\n",
      "\n",
      "\n",
      "\n",
      "HI\n",
      "{'experiment_id': 'r1dd37mcxv5pf4', 'random_state': 0, 'live_volume': 0.0, 'dead_volume': 370.0, 'stain': 'SYTOX Red Stain'}\n",
      "data_columns: ['Container Type', 'Control', 'Culture_Volume', 'Media', 'Replicate', 'Storage (C)', 'Strain', 'checksum', 'filename', 'kill', 'kill_volume', 'plate_id', 'source', 'stain', 'well', 'experiment_id', 'Time', 'FSC-A', 'SSC-A', 'BL1-A', 'RL1-A', 'FSC-H', 'SSC-H', 'BL1-H', 'RL1-H', 'FSC-W', 'SSC-W', 'BL1-W', 'RL1-W']\n"
     ]
    },
    {
     "name": "stderr",
     "output_type": "stream",
     "text": [
      "/Users/danbryce/Documents/sift/xplan/external/xplan/xplan-to-autoprotocol-reactor/xplan-dev-env/xplan-dev-env/lib/python3.7/site-packages/pandas/core/indexing.py:480: SettingWithCopyWarning: \n",
      "A value is trying to be set on a copy of a slice from a DataFrame.\n",
      "Try using .loc[row_indexer,col_indexer] = value instead\n",
      "\n",
      "See the caveats in the documentation: http://pandas.pydata.org/pandas-docs/stable/user_guide/indexing.html#returning-a-view-versus-a-copy\n",
      "  self.obj[item] = s\n"
     ]
    },
    {
     "name": "stdout",
     "output_type": "stream",
     "text": [
      "['FSC-A', 'SSC-A', 'BL1-A', 'RL1-A', 'FSC-H', 'SSC-H', 'BL1-H', 'RL1-H', 'FSC-W', 'SSC-W', 'BL1-W', 'RL1-W']\n",
      "\n",
      "<harness.test_harness_class.TestHarness object at 0x12c301940>\n"
     ]
    },
    {
     "name": "stderr",
     "output_type": "stream",
     "text": [
      "/Users/danbryce/Documents/sift/xplan/external/xplan/xplan-to-autoprotocol-reactor/xplan-dev-env/xplan-dev-env/lib/python3.7/site-packages/pandas/core/indexing.py:362: SettingWithCopyWarning: \n",
      "A value is trying to be set on a copy of a slice from a DataFrame.\n",
      "Try using .loc[row_indexer,col_indexer] = value instead\n",
      "\n",
      "See the caveats in the documentation: http://pandas.pydata.org/pandas-docs/stable/user_guide/indexing.html#returning-a-view-versus-a-copy\n",
      "  self.obj[key] = _infer_fill_value(value)\n"
     ]
    },
    {
     "name": "stdout",
     "output_type": "stream",
     "text": [
      "HI\n",
      "----------------------------------------------------------------------------------------------------\n",
      "Starting run at time 22:33:49\n",
      "Normalizing training and testing splits...\n",
      "Starting Classification training...\n",
      "Training time was: 33.14 seconds\n",
      "Testing time was: 0.64 seconds\n",
      "\n",
      "          Run ID        Date      Time                    Model Name Model Author Num Classes  Accuracy  Balanced Accuracy  AUC Score  Average Precision  F1 Score  Precision  Recall Samples In Train Samples In Test                                                                                      Model Description Column Predicted Num Features Used                                                                                                    Data and Split Description Normalized Num Features Normalized Feature Extraction Was Untested Data Predicted\n",
      "0  QMD3Q6GY6Rmm3  2019-07-28  22:33:49  random_forest_classification  Hamed        2           0.997     0.997              1.0        1.0                0.997     0.999      0.996   175331           43833           Random Forest: n_estimators=361, max_features=auto, criterion=entropy, min_samples_leaf=13, n_jobs=-1  class_label      12                {'experiment_id': 'r1dd37mcxv5pf4', 'random_state': 0, 'live_volume': 0.0, 'dead_volume': 370.0, 'stain': 'SYTOX Red Stain'}  True       12                      False              False                     \n",
      "\n",
      "Run finished at 22:34:24. Total run time = 35.48 seconds\n",
      "^^^^^^^^^^^^^^^^^^^^^^^^^^^^^^^^^^^^^^^^^^^^^^^^^^^^^^^^^^^^^^^^^^^^^^^^^^^^^^^^^^^^^^^^^^^^^^^^^^^^\n",
      "\n",
      "\n",
      "\n",
      "\n",
      "HI\n",
      "{'experiment_id': 'r1dd37mcxv5pf4', 'random_state': 0, 'live_volume': 0.0, 'dead_volume': 370.0, 'stain': None}\n",
      "data_columns: ['Container Type', 'Control', 'Culture_Volume', 'Media', 'Replicate', 'Storage (C)', 'Strain', 'checksum', 'filename', 'kill', 'kill_volume', 'plate_id', 'source', 'stain', 'well', 'experiment_id', 'Time', 'FSC-A', 'SSC-A', 'BL1-A', 'RL1-A', 'FSC-H', 'SSC-H', 'BL1-H', 'RL1-H', 'FSC-W', 'SSC-W', 'BL1-W', 'RL1-W']\n"
     ]
    },
    {
     "name": "stderr",
     "output_type": "stream",
     "text": [
      "/Users/danbryce/Documents/sift/xplan/external/xplan/xplan-to-autoprotocol-reactor/xplan-dev-env/xplan-dev-env/lib/python3.7/site-packages/pandas/core/indexing.py:480: SettingWithCopyWarning: \n",
      "A value is trying to be set on a copy of a slice from a DataFrame.\n",
      "Try using .loc[row_indexer,col_indexer] = value instead\n",
      "\n",
      "See the caveats in the documentation: http://pandas.pydata.org/pandas-docs/stable/user_guide/indexing.html#returning-a-view-versus-a-copy\n",
      "  self.obj[item] = s\n"
     ]
    },
    {
     "name": "stdout",
     "output_type": "stream",
     "text": [
      "['FSC-A', 'SSC-A', 'BL1-A', 'RL1-A', 'FSC-H', 'SSC-H', 'BL1-H', 'RL1-H', 'FSC-W', 'SSC-W', 'BL1-W', 'RL1-W']\n",
      "\n",
      "<harness.test_harness_class.TestHarness object at 0x12cc502e8>\n"
     ]
    },
    {
     "name": "stderr",
     "output_type": "stream",
     "text": [
      "/Users/danbryce/Documents/sift/xplan/external/xplan/xplan-to-autoprotocol-reactor/xplan-dev-env/xplan-dev-env/lib/python3.7/site-packages/pandas/core/indexing.py:362: SettingWithCopyWarning: \n",
      "A value is trying to be set on a copy of a slice from a DataFrame.\n",
      "Try using .loc[row_indexer,col_indexer] = value instead\n",
      "\n",
      "See the caveats in the documentation: http://pandas.pydata.org/pandas-docs/stable/user_guide/indexing.html#returning-a-view-versus-a-copy\n",
      "  self.obj[key] = _infer_fill_value(value)\n"
     ]
    },
    {
     "name": "stdout",
     "output_type": "stream",
     "text": [
      "HI\n",
      "----------------------------------------------------------------------------------------------------\n",
      "Starting run at time 22:34:30\n",
      "Normalizing training and testing splits...\n",
      "Starting Classification training...\n",
      "Training time was: 38.48 seconds\n",
      "Testing time was: 0.95 seconds\n",
      "\n",
      "          Run ID        Date      Time                    Model Name Model Author Num Classes  Accuracy  Balanced Accuracy  AUC Score  Average Precision  F1 Score  Precision  Recall Samples In Train Samples In Test                                                                                      Model Description Column Predicted Num Features Used                                                                                       Data and Split Description Normalized Num Features Normalized Feature Extraction Was Untested Data Predicted\n",
      "0  ERYLOwqPo8Eg8  2019-07-28  22:34:30  random_forest_classification  Hamed        2           0.975     0.973              0.994      0.994              0.978     0.974      0.982   166786           41697           Random Forest: n_estimators=361, max_features=auto, criterion=entropy, min_samples_leaf=13, n_jobs=-1  class_label      12                {'experiment_id': 'r1dd37mcxv5pf4', 'random_state': 0, 'live_volume': 0.0, 'dead_volume': 370.0, 'stain': None}  True       12                      False              False                     \n",
      "\n",
      "Run finished at 22:35:11. Total run time = 40.96 seconds\n",
      "^^^^^^^^^^^^^^^^^^^^^^^^^^^^^^^^^^^^^^^^^^^^^^^^^^^^^^^^^^^^^^^^^^^^^^^^^^^^^^^^^^^^^^^^^^^^^^^^^^^^\n",
      "\n",
      "\n",
      "\n",
      "\n",
      "HI\n",
      "{'experiment_id': 'r1dd37mcxv5pf4', 'random_state': 0, 'live_volume': 0.0, 'dead_volume': 250.0, 'stain': 'SYTOX Red Stain'}\n",
      "data_columns: ['Container Type', 'Control', 'Culture_Volume', 'Media', 'Replicate', 'Storage (C)', 'Strain', 'checksum', 'filename', 'kill', 'kill_volume', 'plate_id', 'source', 'stain', 'well', 'experiment_id', 'Time', 'FSC-A', 'SSC-A', 'BL1-A', 'RL1-A', 'FSC-H', 'SSC-H', 'BL1-H', 'RL1-H', 'FSC-W', 'SSC-W', 'BL1-W', 'RL1-W']\n"
     ]
    },
    {
     "name": "stderr",
     "output_type": "stream",
     "text": [
      "/Users/danbryce/Documents/sift/xplan/external/xplan/xplan-to-autoprotocol-reactor/xplan-dev-env/xplan-dev-env/lib/python3.7/site-packages/pandas/core/indexing.py:480: SettingWithCopyWarning: \n",
      "A value is trying to be set on a copy of a slice from a DataFrame.\n",
      "Try using .loc[row_indexer,col_indexer] = value instead\n",
      "\n",
      "See the caveats in the documentation: http://pandas.pydata.org/pandas-docs/stable/user_guide/indexing.html#returning-a-view-versus-a-copy\n",
      "  self.obj[item] = s\n"
     ]
    },
    {
     "name": "stdout",
     "output_type": "stream",
     "text": [
      "['FSC-A', 'SSC-A', 'BL1-A', 'RL1-A', 'FSC-H', 'SSC-H', 'BL1-H', 'RL1-H', 'FSC-W', 'SSC-W', 'BL1-W', 'RL1-W']\n",
      "\n",
      "<harness.test_harness_class.TestHarness object at 0x175fa16a0>\n"
     ]
    },
    {
     "name": "stderr",
     "output_type": "stream",
     "text": [
      "/Users/danbryce/Documents/sift/xplan/external/xplan/xplan-to-autoprotocol-reactor/xplan-dev-env/xplan-dev-env/lib/python3.7/site-packages/pandas/core/indexing.py:362: SettingWithCopyWarning: \n",
      "A value is trying to be set on a copy of a slice from a DataFrame.\n",
      "Try using .loc[row_indexer,col_indexer] = value instead\n",
      "\n",
      "See the caveats in the documentation: http://pandas.pydata.org/pandas-docs/stable/user_guide/indexing.html#returning-a-view-versus-a-copy\n",
      "  self.obj[key] = _infer_fill_value(value)\n"
     ]
    },
    {
     "name": "stdout",
     "output_type": "stream",
     "text": [
      "HI\n",
      "----------------------------------------------------------------------------------------------------\n",
      "Starting run at time 22:35:16\n",
      "Normalizing training and testing splits...\n",
      "Starting Classification training...\n",
      "Training time was: 26.82 seconds\n",
      "Testing time was: 0.65 seconds\n",
      "\n",
      "          Run ID        Date      Time                    Model Name Model Author Num Classes  Accuracy  Balanced Accuracy  AUC Score  Average Precision  F1 Score  Precision  Recall Samples In Train Samples In Test                                                                                      Model Description Column Predicted Num Features Used                                                                                                    Data and Split Description Normalized Num Features Normalized Feature Extraction Was Untested Data Predicted\n",
      "0  6pQlRWWzzAzyl  2019-07-28  22:35:16  random_forest_classification  Hamed        2           0.997     0.997              1.0        1.0                0.997     1.0        0.995   147452           36864           Random Forest: n_estimators=361, max_features=auto, criterion=entropy, min_samples_leaf=13, n_jobs=-1  class_label      12                {'experiment_id': 'r1dd37mcxv5pf4', 'random_state': 0, 'live_volume': 0.0, 'dead_volume': 250.0, 'stain': 'SYTOX Red Stain'}  True       12                      False              False                     \n",
      "\n",
      "Run finished at 22:35:44. Total run time = 28.87 seconds\n",
      "^^^^^^^^^^^^^^^^^^^^^^^^^^^^^^^^^^^^^^^^^^^^^^^^^^^^^^^^^^^^^^^^^^^^^^^^^^^^^^^^^^^^^^^^^^^^^^^^^^^^\n",
      "\n",
      "\n",
      "\n",
      "\n",
      "HI\n",
      "{'experiment_id': 'r1dd37mcxv5pf4', 'random_state': 0, 'live_volume': 0.0, 'dead_volume': 250.0, 'stain': None}\n",
      "data_columns: ['Container Type', 'Control', 'Culture_Volume', 'Media', 'Replicate', 'Storage (C)', 'Strain', 'checksum', 'filename', 'kill', 'kill_volume', 'plate_id', 'source', 'stain', 'well', 'experiment_id', 'Time', 'FSC-A', 'SSC-A', 'BL1-A', 'RL1-A', 'FSC-H', 'SSC-H', 'BL1-H', 'RL1-H', 'FSC-W', 'SSC-W', 'BL1-W', 'RL1-W']\n"
     ]
    },
    {
     "name": "stderr",
     "output_type": "stream",
     "text": [
      "/Users/danbryce/Documents/sift/xplan/external/xplan/xplan-to-autoprotocol-reactor/xplan-dev-env/xplan-dev-env/lib/python3.7/site-packages/pandas/core/indexing.py:480: SettingWithCopyWarning: \n",
      "A value is trying to be set on a copy of a slice from a DataFrame.\n",
      "Try using .loc[row_indexer,col_indexer] = value instead\n",
      "\n",
      "See the caveats in the documentation: http://pandas.pydata.org/pandas-docs/stable/user_guide/indexing.html#returning-a-view-versus-a-copy\n",
      "  self.obj[item] = s\n"
     ]
    },
    {
     "name": "stdout",
     "output_type": "stream",
     "text": [
      "['FSC-A', 'SSC-A', 'BL1-A', 'RL1-A', 'FSC-H', 'SSC-H', 'BL1-H', 'RL1-H', 'FSC-W', 'SSC-W', 'BL1-W', 'RL1-W']\n",
      "\n",
      "<harness.test_harness_class.TestHarness object at 0x12c301b00>\n"
     ]
    },
    {
     "name": "stderr",
     "output_type": "stream",
     "text": [
      "/Users/danbryce/Documents/sift/xplan/external/xplan/xplan-to-autoprotocol-reactor/xplan-dev-env/xplan-dev-env/lib/python3.7/site-packages/pandas/core/indexing.py:362: SettingWithCopyWarning: \n",
      "A value is trying to be set on a copy of a slice from a DataFrame.\n",
      "Try using .loc[row_indexer,col_indexer] = value instead\n",
      "\n",
      "See the caveats in the documentation: http://pandas.pydata.org/pandas-docs/stable/user_guide/indexing.html#returning-a-view-versus-a-copy\n",
      "  self.obj[key] = _infer_fill_value(value)\n"
     ]
    },
    {
     "name": "stdout",
     "output_type": "stream",
     "text": [
      "HI\n",
      "----------------------------------------------------------------------------------------------------\n",
      "Starting run at time 22:35:49\n",
      "Normalizing training and testing splits...\n",
      "Starting Classification training...\n",
      "Training time was: 32.84 seconds\n",
      "Testing time was: 0.84 seconds\n",
      "\n",
      "          Run ID        Date      Time                    Model Name Model Author Num Classes  Accuracy  Balanced Accuracy  AUC Score  Average Precision  F1 Score  Precision  Recall Samples In Train Samples In Test                                                                                      Model Description Column Predicted Num Features Used                                                                                       Data and Split Description Normalized Num Features Normalized Feature Extraction Was Untested Data Predicted\n",
      "0  QOJQMVM8AJbek  2019-07-28  22:35:49  random_forest_classification  Hamed        2           0.962     0.958              0.991      0.995              0.972     0.974      0.969   142361           35591           Random Forest: n_estimators=361, max_features=auto, criterion=entropy, min_samples_leaf=13, n_jobs=-1  class_label      12                {'experiment_id': 'r1dd37mcxv5pf4', 'random_state': 0, 'live_volume': 0.0, 'dead_volume': 250.0, 'stain': None}  True       12                      False              False                     \n",
      "\n",
      "Run finished at 22:36:24. Total run time = 35.25 seconds\n",
      "^^^^^^^^^^^^^^^^^^^^^^^^^^^^^^^^^^^^^^^^^^^^^^^^^^^^^^^^^^^^^^^^^^^^^^^^^^^^^^^^^^^^^^^^^^^^^^^^^^^^\n",
      "\n",
      "\n",
      "\n",
      "\n",
      "HI\n",
      "{'experiment_id': 'r1dd37mcxv5pf4', 'random_state': 0, 'live_volume': 0.0, 'dead_volume': 170.0, 'stain': 'SYTOX Red Stain'}\n",
      "data_columns: ['Container Type', 'Control', 'Culture_Volume', 'Media', 'Replicate', 'Storage (C)', 'Strain', 'checksum', 'filename', 'kill', 'kill_volume', 'plate_id', 'source', 'stain', 'well', 'experiment_id', 'Time', 'FSC-A', 'SSC-A', 'BL1-A', 'RL1-A', 'FSC-H', 'SSC-H', 'BL1-H', 'RL1-H', 'FSC-W', 'SSC-W', 'BL1-W', 'RL1-W']\n"
     ]
    },
    {
     "name": "stderr",
     "output_type": "stream",
     "text": [
      "/Users/danbryce/Documents/sift/xplan/external/xplan/xplan-to-autoprotocol-reactor/xplan-dev-env/xplan-dev-env/lib/python3.7/site-packages/pandas/core/indexing.py:480: SettingWithCopyWarning: \n",
      "A value is trying to be set on a copy of a slice from a DataFrame.\n",
      "Try using .loc[row_indexer,col_indexer] = value instead\n",
      "\n",
      "See the caveats in the documentation: http://pandas.pydata.org/pandas-docs/stable/user_guide/indexing.html#returning-a-view-versus-a-copy\n",
      "  self.obj[item] = s\n"
     ]
    },
    {
     "name": "stdout",
     "output_type": "stream",
     "text": [
      "['FSC-A', 'SSC-A', 'BL1-A', 'RL1-A', 'FSC-H', 'SSC-H', 'BL1-H', 'RL1-H', 'FSC-W', 'SSC-W', 'BL1-W', 'RL1-W']\n",
      "\n",
      "<harness.test_harness_class.TestHarness object at 0x1b1c41cc0>\n"
     ]
    },
    {
     "name": "stderr",
     "output_type": "stream",
     "text": [
      "/Users/danbryce/Documents/sift/xplan/external/xplan/xplan-to-autoprotocol-reactor/xplan-dev-env/xplan-dev-env/lib/python3.7/site-packages/pandas/core/indexing.py:362: SettingWithCopyWarning: \n",
      "A value is trying to be set on a copy of a slice from a DataFrame.\n",
      "Try using .loc[row_indexer,col_indexer] = value instead\n",
      "\n",
      "See the caveats in the documentation: http://pandas.pydata.org/pandas-docs/stable/user_guide/indexing.html#returning-a-view-versus-a-copy\n",
      "  self.obj[key] = _infer_fill_value(value)\n"
     ]
    },
    {
     "name": "stdout",
     "output_type": "stream",
     "text": [
      "HI\n",
      "----------------------------------------------------------------------------------------------------\n",
      "Starting run at time 22:36:30\n",
      "Normalizing training and testing splits...\n",
      "Starting Classification training...\n",
      "Training time was: 44.92 seconds\n",
      "Testing time was: 0.86 seconds\n",
      "\n",
      "          Run ID        Date      Time                    Model Name Model Author Num Classes  Accuracy  Balanced Accuracy  AUC Score  Average Precision  F1 Score  Precision  Recall Samples In Train Samples In Test                                                                                      Model Description Column Predicted Num Features Used                                                                                                    Data and Split Description Normalized Num Features Normalized Feature Extraction Was Untested Data Predicted\n",
      "0  6aZAq8MdMBde3  2019-07-28  22:36:30  random_forest_classification  Hamed        2           0.997     0.997              0.999      0.999              0.997     0.999      0.995   192000           48000           Random Forest: n_estimators=361, max_features=auto, criterion=entropy, min_samples_leaf=13, n_jobs=-1  class_label      12                {'experiment_id': 'r1dd37mcxv5pf4', 'random_state': 0, 'live_volume': 0.0, 'dead_volume': 170.0, 'stain': 'SYTOX Red Stain'}  True       12                      False              False                     \n",
      "\n",
      "Run finished at 22:37:18. Total run time = 47.50 seconds\n",
      "^^^^^^^^^^^^^^^^^^^^^^^^^^^^^^^^^^^^^^^^^^^^^^^^^^^^^^^^^^^^^^^^^^^^^^^^^^^^^^^^^^^^^^^^^^^^^^^^^^^^\n",
      "\n",
      "\n",
      "\n",
      "\n",
      "HI\n",
      "{'experiment_id': 'r1dd37mcxv5pf4', 'random_state': 0, 'live_volume': 0.0, 'dead_volume': 170.0, 'stain': None}\n",
      "data_columns: ['Container Type', 'Control', 'Culture_Volume', 'Media', 'Replicate', 'Storage (C)', 'Strain', 'checksum', 'filename', 'kill', 'kill_volume', 'plate_id', 'source', 'stain', 'well', 'experiment_id', 'Time', 'FSC-A', 'SSC-A', 'BL1-A', 'RL1-A', 'FSC-H', 'SSC-H', 'BL1-H', 'RL1-H', 'FSC-W', 'SSC-W', 'BL1-W', 'RL1-W']\n"
     ]
    },
    {
     "name": "stderr",
     "output_type": "stream",
     "text": [
      "/Users/danbryce/Documents/sift/xplan/external/xplan/xplan-to-autoprotocol-reactor/xplan-dev-env/xplan-dev-env/lib/python3.7/site-packages/pandas/core/indexing.py:480: SettingWithCopyWarning: \n",
      "A value is trying to be set on a copy of a slice from a DataFrame.\n",
      "Try using .loc[row_indexer,col_indexer] = value instead\n",
      "\n",
      "See the caveats in the documentation: http://pandas.pydata.org/pandas-docs/stable/user_guide/indexing.html#returning-a-view-versus-a-copy\n",
      "  self.obj[item] = s\n"
     ]
    },
    {
     "name": "stdout",
     "output_type": "stream",
     "text": [
      "['FSC-A', 'SSC-A', 'BL1-A', 'RL1-A', 'FSC-H', 'SSC-H', 'BL1-H', 'RL1-H', 'FSC-W', 'SSC-W', 'BL1-W', 'RL1-W']\n",
      "\n",
      "<harness.test_harness_class.TestHarness object at 0x181547780>\n"
     ]
    },
    {
     "name": "stderr",
     "output_type": "stream",
     "text": [
      "/Users/danbryce/Documents/sift/xplan/external/xplan/xplan-to-autoprotocol-reactor/xplan-dev-env/xplan-dev-env/lib/python3.7/site-packages/pandas/core/indexing.py:362: SettingWithCopyWarning: \n",
      "A value is trying to be set on a copy of a slice from a DataFrame.\n",
      "Try using .loc[row_indexer,col_indexer] = value instead\n",
      "\n",
      "See the caveats in the documentation: http://pandas.pydata.org/pandas-docs/stable/user_guide/indexing.html#returning-a-view-versus-a-copy\n",
      "  self.obj[key] = _infer_fill_value(value)\n"
     ]
    },
    {
     "name": "stdout",
     "output_type": "stream",
     "text": [
      "HI\n",
      "----------------------------------------------------------------------------------------------------\n",
      "Starting run at time 22:37:24\n",
      "Normalizing training and testing splits...\n",
      "Starting Classification training...\n",
      "Training time was: 45.67 seconds\n",
      "Testing time was: 1.29 seconds\n",
      "\n",
      "          Run ID        Date      Time                    Model Name Model Author Num Classes  Accuracy  Balanced Accuracy  AUC Score  Average Precision  F1 Score  Precision  Recall Samples In Train Samples In Test                                                                                      Model Description Column Predicted Num Features Used                                                                                       Data and Split Description Normalized Num Features Normalized Feature Extraction Was Untested Data Predicted\n",
      "0  aYYBBo7beV1Vo  2019-07-28  22:37:24  random_forest_classification  Hamed        2           0.919     0.919              0.974      0.972              0.92      0.911      0.929   192000           48000           Random Forest: n_estimators=361, max_features=auto, criterion=entropy, min_samples_leaf=13, n_jobs=-1  class_label      12                {'experiment_id': 'r1dd37mcxv5pf4', 'random_state': 0, 'live_volume': 0.0, 'dead_volume': 170.0, 'stain': None}  True       12                      False              False                     \n",
      "\n",
      "Run finished at 22:38:13. Total run time = 48.73 seconds\n",
      "^^^^^^^^^^^^^^^^^^^^^^^^^^^^^^^^^^^^^^^^^^^^^^^^^^^^^^^^^^^^^^^^^^^^^^^^^^^^^^^^^^^^^^^^^^^^^^^^^^^^\n",
      "\n",
      "\n",
      "\n",
      "\n",
      "HI\n",
      "{'experiment_id': 'r1dd37mcxv5pf4', 'random_state': 0, 'live_volume': 0.0, 'dead_volume': 105.0, 'stain': 'SYTOX Red Stain'}\n",
      "data_columns: ['Container Type', 'Control', 'Culture_Volume', 'Media', 'Replicate', 'Storage (C)', 'Strain', 'checksum', 'filename', 'kill', 'kill_volume', 'plate_id', 'source', 'stain', 'well', 'experiment_id', 'Time', 'FSC-A', 'SSC-A', 'BL1-A', 'RL1-A', 'FSC-H', 'SSC-H', 'BL1-H', 'RL1-H', 'FSC-W', 'SSC-W', 'BL1-W', 'RL1-W']\n"
     ]
    },
    {
     "name": "stderr",
     "output_type": "stream",
     "text": [
      "/Users/danbryce/Documents/sift/xplan/external/xplan/xplan-to-autoprotocol-reactor/xplan-dev-env/xplan-dev-env/lib/python3.7/site-packages/pandas/core/indexing.py:480: SettingWithCopyWarning: \n",
      "A value is trying to be set on a copy of a slice from a DataFrame.\n",
      "Try using .loc[row_indexer,col_indexer] = value instead\n",
      "\n",
      "See the caveats in the documentation: http://pandas.pydata.org/pandas-docs/stable/user_guide/indexing.html#returning-a-view-versus-a-copy\n",
      "  self.obj[item] = s\n"
     ]
    },
    {
     "name": "stdout",
     "output_type": "stream",
     "text": [
      "['FSC-A', 'SSC-A', 'BL1-A', 'RL1-A', 'FSC-H', 'SSC-H', 'BL1-H', 'RL1-H', 'FSC-W', 'SSC-W', 'BL1-W', 'RL1-W']\n",
      "\n",
      "<harness.test_harness_class.TestHarness object at 0x1759880b8>\n"
     ]
    },
    {
     "name": "stderr",
     "output_type": "stream",
     "text": [
      "/Users/danbryce/Documents/sift/xplan/external/xplan/xplan-to-autoprotocol-reactor/xplan-dev-env/xplan-dev-env/lib/python3.7/site-packages/pandas/core/indexing.py:362: SettingWithCopyWarning: \n",
      "A value is trying to be set on a copy of a slice from a DataFrame.\n",
      "Try using .loc[row_indexer,col_indexer] = value instead\n",
      "\n",
      "See the caveats in the documentation: http://pandas.pydata.org/pandas-docs/stable/user_guide/indexing.html#returning-a-view-versus-a-copy\n",
      "  self.obj[key] = _infer_fill_value(value)\n"
     ]
    },
    {
     "name": "stdout",
     "output_type": "stream",
     "text": [
      "HI\n",
      "----------------------------------------------------------------------------------------------------\n",
      "Starting run at time 22:38:19\n",
      "Normalizing training and testing splits...\n",
      "Starting Classification training...\n",
      "Training time was: 36.47 seconds\n",
      "Testing time was: 0.67 seconds\n",
      "\n",
      "          Run ID        Date      Time                    Model Name Model Author Num Classes  Accuracy  Balanced Accuracy  AUC Score  Average Precision  F1 Score  Precision  Recall Samples In Train Samples In Test                                                                                      Model Description Column Predicted Num Features Used                                                                                                    Data and Split Description Normalized Num Features Normalized Feature Extraction Was Untested Data Predicted\n",
      "0  6d7y8B8BDNJGG  2019-07-28  22:38:19  random_forest_classification  Hamed        2           0.998     0.998              0.999      1.0                0.998     0.999      0.996   192000           48000           Random Forest: n_estimators=361, max_features=auto, criterion=entropy, min_samples_leaf=13, n_jobs=-1  class_label      12                {'experiment_id': 'r1dd37mcxv5pf4', 'random_state': 0, 'live_volume': 0.0, 'dead_volume': 105.0, 'stain': 'SYTOX Red Stain'}  True       12                      False              False                     \n",
      "\n",
      "Run finished at 22:38:58. Total run time = 39.06 seconds\n",
      "^^^^^^^^^^^^^^^^^^^^^^^^^^^^^^^^^^^^^^^^^^^^^^^^^^^^^^^^^^^^^^^^^^^^^^^^^^^^^^^^^^^^^^^^^^^^^^^^^^^^\n",
      "\n",
      "\n",
      "\n",
      "\n",
      "HI\n",
      "{'experiment_id': 'r1dd37mcxv5pf4', 'random_state': 0, 'live_volume': 0.0, 'dead_volume': 105.0, 'stain': None}\n",
      "data_columns: ['Container Type', 'Control', 'Culture_Volume', 'Media', 'Replicate', 'Storage (C)', 'Strain', 'checksum', 'filename', 'kill', 'kill_volume', 'plate_id', 'source', 'stain', 'well', 'experiment_id', 'Time', 'FSC-A', 'SSC-A', 'BL1-A', 'RL1-A', 'FSC-H', 'SSC-H', 'BL1-H', 'RL1-H', 'FSC-W', 'SSC-W', 'BL1-W', 'RL1-W']\n"
     ]
    },
    {
     "name": "stderr",
     "output_type": "stream",
     "text": [
      "/Users/danbryce/Documents/sift/xplan/external/xplan/xplan-to-autoprotocol-reactor/xplan-dev-env/xplan-dev-env/lib/python3.7/site-packages/pandas/core/indexing.py:480: SettingWithCopyWarning: \n",
      "A value is trying to be set on a copy of a slice from a DataFrame.\n",
      "Try using .loc[row_indexer,col_indexer] = value instead\n",
      "\n",
      "See the caveats in the documentation: http://pandas.pydata.org/pandas-docs/stable/user_guide/indexing.html#returning-a-view-versus-a-copy\n",
      "  self.obj[item] = s\n"
     ]
    },
    {
     "name": "stdout",
     "output_type": "stream",
     "text": [
      "['FSC-A', 'SSC-A', 'BL1-A', 'RL1-A', 'FSC-H', 'SSC-H', 'BL1-H', 'RL1-H', 'FSC-W', 'SSC-W', 'BL1-W', 'RL1-W']\n",
      "\n",
      "<harness.test_harness_class.TestHarness object at 0x1ce80dac8>\n"
     ]
    },
    {
     "name": "stderr",
     "output_type": "stream",
     "text": [
      "/Users/danbryce/Documents/sift/xplan/external/xplan/xplan-to-autoprotocol-reactor/xplan-dev-env/xplan-dev-env/lib/python3.7/site-packages/pandas/core/indexing.py:362: SettingWithCopyWarning: \n",
      "A value is trying to be set on a copy of a slice from a DataFrame.\n",
      "Try using .loc[row_indexer,col_indexer] = value instead\n",
      "\n",
      "See the caveats in the documentation: http://pandas.pydata.org/pandas-docs/stable/user_guide/indexing.html#returning-a-view-versus-a-copy\n",
      "  self.obj[key] = _infer_fill_value(value)\n"
     ]
    },
    {
     "name": "stdout",
     "output_type": "stream",
     "text": [
      "HI\n",
      "----------------------------------------------------------------------------------------------------\n",
      "Starting run at time 22:39:04\n",
      "Normalizing training and testing splits...\n",
      "Starting Classification training...\n",
      "Training time was: 44.66 seconds\n",
      "Testing time was: 1.09 seconds\n",
      "\n",
      "         Run ID        Date      Time                    Model Name Model Author Num Classes  Accuracy  Balanced Accuracy  AUC Score  Average Precision  F1 Score  Precision  Recall Samples In Train Samples In Test                                                                                      Model Description Column Predicted Num Features Used                                                                                       Data and Split Description Normalized Num Features Normalized Feature Extraction Was Untested Data Predicted\n",
      "0  Qb1wQg5Y2Oxe  2019-07-28  22:39:04  random_forest_classification  Hamed        2           0.938     0.938              0.984      0.982              0.939     0.928      0.95    192000           48000           Random Forest: n_estimators=361, max_features=auto, criterion=entropy, min_samples_leaf=13, n_jobs=-1  class_label      12                {'experiment_id': 'r1dd37mcxv5pf4', 'random_state': 0, 'live_volume': 0.0, 'dead_volume': 105.0, 'stain': None}  True       12                      False              False                     \n",
      "\n",
      "Run finished at 22:39:51. Total run time = 47.48 seconds\n",
      "^^^^^^^^^^^^^^^^^^^^^^^^^^^^^^^^^^^^^^^^^^^^^^^^^^^^^^^^^^^^^^^^^^^^^^^^^^^^^^^^^^^^^^^^^^^^^^^^^^^^\n",
      "\n",
      "\n",
      "\n",
      "\n",
      "HI\n",
      "{'experiment_id': 'r1dd37mcxv5pf4', 'random_state': 0, 'live_volume': 0.0, 'dead_volume': 64.0, 'stain': 'SYTOX Red Stain'}\n",
      "data_columns: ['Container Type', 'Control', 'Culture_Volume', 'Media', 'Replicate', 'Storage (C)', 'Strain', 'checksum', 'filename', 'kill', 'kill_volume', 'plate_id', 'source', 'stain', 'well', 'experiment_id', 'Time', 'FSC-A', 'SSC-A', 'BL1-A', 'RL1-A', 'FSC-H', 'SSC-H', 'BL1-H', 'RL1-H', 'FSC-W', 'SSC-W', 'BL1-W', 'RL1-W']\n"
     ]
    },
    {
     "name": "stderr",
     "output_type": "stream",
     "text": [
      "/Users/danbryce/Documents/sift/xplan/external/xplan/xplan-to-autoprotocol-reactor/xplan-dev-env/xplan-dev-env/lib/python3.7/site-packages/pandas/core/indexing.py:480: SettingWithCopyWarning: \n",
      "A value is trying to be set on a copy of a slice from a DataFrame.\n",
      "Try using .loc[row_indexer,col_indexer] = value instead\n",
      "\n",
      "See the caveats in the documentation: http://pandas.pydata.org/pandas-docs/stable/user_guide/indexing.html#returning-a-view-versus-a-copy\n",
      "  self.obj[item] = s\n"
     ]
    },
    {
     "name": "stdout",
     "output_type": "stream",
     "text": [
      "['FSC-A', 'SSC-A', 'BL1-A', 'RL1-A', 'FSC-H', 'SSC-H', 'BL1-H', 'RL1-H', 'FSC-W', 'SSC-W', 'BL1-W', 'RL1-W']\n",
      "\n",
      "<harness.test_harness_class.TestHarness object at 0x189949160>\n"
     ]
    },
    {
     "name": "stderr",
     "output_type": "stream",
     "text": [
      "/Users/danbryce/Documents/sift/xplan/external/xplan/xplan-to-autoprotocol-reactor/xplan-dev-env/xplan-dev-env/lib/python3.7/site-packages/pandas/core/indexing.py:362: SettingWithCopyWarning: \n",
      "A value is trying to be set on a copy of a slice from a DataFrame.\n",
      "Try using .loc[row_indexer,col_indexer] = value instead\n",
      "\n",
      "See the caveats in the documentation: http://pandas.pydata.org/pandas-docs/stable/user_guide/indexing.html#returning-a-view-versus-a-copy\n",
      "  self.obj[key] = _infer_fill_value(value)\n"
     ]
    },
    {
     "name": "stdout",
     "output_type": "stream",
     "text": [
      "HI\n",
      "----------------------------------------------------------------------------------------------------\n",
      "Starting run at time 22:39:57\n",
      "Normalizing training and testing splits...\n",
      "Starting Classification training...\n",
      "Training time was: 49.26 seconds\n",
      "Testing time was: 1.39 seconds\n",
      "\n",
      "          Run ID        Date      Time                    Model Name Model Author Num Classes  Accuracy  Balanced Accuracy  AUC Score  Average Precision  F1 Score  Precision  Recall Samples In Train Samples In Test                                                                                      Model Description Column Predicted Num Features Used                                                                                                   Data and Split Description Normalized Num Features Normalized Feature Extraction Was Untested Data Predicted\n",
      "0  QW1zQlA1EX8PP  2019-07-28  22:39:57  random_forest_classification  Hamed        2           0.856     0.856              0.925      0.906              0.864     0.816      0.919   192000           48000           Random Forest: n_estimators=361, max_features=auto, criterion=entropy, min_samples_leaf=13, n_jobs=-1  class_label      12                {'experiment_id': 'r1dd37mcxv5pf4', 'random_state': 0, 'live_volume': 0.0, 'dead_volume': 64.0, 'stain': 'SYTOX Red Stain'}  True       12                      False              False                     \n",
      "\n",
      "Run finished at 22:40:50. Total run time = 52.38 seconds\n",
      "^^^^^^^^^^^^^^^^^^^^^^^^^^^^^^^^^^^^^^^^^^^^^^^^^^^^^^^^^^^^^^^^^^^^^^^^^^^^^^^^^^^^^^^^^^^^^^^^^^^^\n",
      "\n",
      "\n",
      "\n",
      "\n",
      "HI\n",
      "{'experiment_id': 'r1dd37mcxv5pf4', 'random_state': 0, 'live_volume': 0.0, 'dead_volume': 64.0, 'stain': None}\n",
      "data_columns: ['Container Type', 'Control', 'Culture_Volume', 'Media', 'Replicate', 'Storage (C)', 'Strain', 'checksum', 'filename', 'kill', 'kill_volume', 'plate_id', 'source', 'stain', 'well', 'experiment_id', 'Time', 'FSC-A', 'SSC-A', 'BL1-A', 'RL1-A', 'FSC-H', 'SSC-H', 'BL1-H', 'RL1-H', 'FSC-W', 'SSC-W', 'BL1-W', 'RL1-W']\n"
     ]
    },
    {
     "name": "stderr",
     "output_type": "stream",
     "text": [
      "/Users/danbryce/Documents/sift/xplan/external/xplan/xplan-to-autoprotocol-reactor/xplan-dev-env/xplan-dev-env/lib/python3.7/site-packages/pandas/core/indexing.py:480: SettingWithCopyWarning: \n",
      "A value is trying to be set on a copy of a slice from a DataFrame.\n",
      "Try using .loc[row_indexer,col_indexer] = value instead\n",
      "\n",
      "See the caveats in the documentation: http://pandas.pydata.org/pandas-docs/stable/user_guide/indexing.html#returning-a-view-versus-a-copy\n",
      "  self.obj[item] = s\n"
     ]
    },
    {
     "name": "stdout",
     "output_type": "stream",
     "text": [
      "['FSC-A', 'SSC-A', 'BL1-A', 'RL1-A', 'FSC-H', 'SSC-H', 'BL1-H', 'RL1-H', 'FSC-W', 'SSC-W', 'BL1-W', 'RL1-W']\n",
      "\n",
      "<harness.test_harness_class.TestHarness object at 0x15ba19198>\n"
     ]
    },
    {
     "name": "stderr",
     "output_type": "stream",
     "text": [
      "/Users/danbryce/Documents/sift/xplan/external/xplan/xplan-to-autoprotocol-reactor/xplan-dev-env/xplan-dev-env/lib/python3.7/site-packages/pandas/core/indexing.py:362: SettingWithCopyWarning: \n",
      "A value is trying to be set on a copy of a slice from a DataFrame.\n",
      "Try using .loc[row_indexer,col_indexer] = value instead\n",
      "\n",
      "See the caveats in the documentation: http://pandas.pydata.org/pandas-docs/stable/user_guide/indexing.html#returning-a-view-versus-a-copy\n",
      "  self.obj[key] = _infer_fill_value(value)\n"
     ]
    },
    {
     "name": "stdout",
     "output_type": "stream",
     "text": [
      "HI\n",
      "----------------------------------------------------------------------------------------------------\n",
      "Starting run at time 22:40:56\n",
      "Normalizing training and testing splits...\n",
      "Starting Classification training...\n",
      "Training time was: 45.34 seconds\n",
      "Testing time was: 1.29 seconds\n",
      "\n",
      "          Run ID        Date      Time                    Model Name Model Author Num Classes  Accuracy  Balanced Accuracy  AUC Score  Average Precision  F1 Score  Precision  Recall Samples In Train Samples In Test                                                                                      Model Description Column Predicted Num Features Used                                                                                      Data and Split Description Normalized Num Features Normalized Feature Extraction Was Untested Data Predicted\n",
      "0  aMw2X6No7e16d  2019-07-28  22:40:56  random_forest_classification  Hamed        2           0.795     0.795              0.876      0.86               0.805     0.767      0.846   192000           48000           Random Forest: n_estimators=361, max_features=auto, criterion=entropy, min_samples_leaf=13, n_jobs=-1  class_label      12                {'experiment_id': 'r1dd37mcxv5pf4', 'random_state': 0, 'live_volume': 0.0, 'dead_volume': 64.0, 'stain': None}  True       12                      False              False                     \n",
      "\n",
      "Run finished at 22:41:45. Total run time = 48.65 seconds\n",
      "^^^^^^^^^^^^^^^^^^^^^^^^^^^^^^^^^^^^^^^^^^^^^^^^^^^^^^^^^^^^^^^^^^^^^^^^^^^^^^^^^^^^^^^^^^^^^^^^^^^^\n",
      "\n",
      "\n",
      "\n",
      "\n",
      "HI\n",
      "{'experiment_id': 'r1dd37mcxv5pf4', 'random_state': 0, 'live_volume': 0.0, 'dead_volume': 29, 'stain': 'SYTOX Red Stain'}\n",
      "data_columns: ['Container Type', 'Control', 'Culture_Volume', 'Media', 'Replicate', 'Storage (C)', 'Strain', 'checksum', 'filename', 'kill', 'kill_volume', 'plate_id', 'source', 'stain', 'well', 'experiment_id', 'Time', 'FSC-A', 'SSC-A', 'BL1-A', 'RL1-A', 'FSC-H', 'SSC-H', 'BL1-H', 'RL1-H', 'FSC-W', 'SSC-W', 'BL1-W', 'RL1-W']\n"
     ]
    },
    {
     "name": "stderr",
     "output_type": "stream",
     "text": [
      "/Users/danbryce/Documents/sift/xplan/external/xplan/xplan-to-autoprotocol-reactor/xplan-dev-env/xplan-dev-env/lib/python3.7/site-packages/pandas/core/indexing.py:480: SettingWithCopyWarning: \n",
      "A value is trying to be set on a copy of a slice from a DataFrame.\n",
      "Try using .loc[row_indexer,col_indexer] = value instead\n",
      "\n",
      "See the caveats in the documentation: http://pandas.pydata.org/pandas-docs/stable/user_guide/indexing.html#returning-a-view-versus-a-copy\n",
      "  self.obj[item] = s\n"
     ]
    },
    {
     "name": "stdout",
     "output_type": "stream",
     "text": [
      "['FSC-A', 'SSC-A', 'BL1-A', 'RL1-A', 'FSC-H', 'SSC-H', 'BL1-H', 'RL1-H', 'FSC-W', 'SSC-W', 'BL1-W', 'RL1-W']\n",
      "\n",
      "<harness.test_harness_class.TestHarness object at 0x1d2c9c4a8>\n"
     ]
    },
    {
     "name": "stderr",
     "output_type": "stream",
     "text": [
      "/Users/danbryce/Documents/sift/xplan/external/xplan/xplan-to-autoprotocol-reactor/xplan-dev-env/xplan-dev-env/lib/python3.7/site-packages/pandas/core/indexing.py:362: SettingWithCopyWarning: \n",
      "A value is trying to be set on a copy of a slice from a DataFrame.\n",
      "Try using .loc[row_indexer,col_indexer] = value instead\n",
      "\n",
      "See the caveats in the documentation: http://pandas.pydata.org/pandas-docs/stable/user_guide/indexing.html#returning-a-view-versus-a-copy\n",
      "  self.obj[key] = _infer_fill_value(value)\n"
     ]
    },
    {
     "name": "stdout",
     "output_type": "stream",
     "text": [
      "HI\n",
      "----------------------------------------------------------------------------------------------------\n",
      "Starting run at time 22:41:51\n",
      "Normalizing training and testing splits...\n",
      "Starting Classification training...\n",
      "Training time was: 59.11 seconds\n",
      "Testing time was: 1.72 seconds\n",
      "\n",
      "          Run ID        Date      Time                    Model Name Model Author Num Classes  Accuracy  Balanced Accuracy  AUC Score  Average Precision  F1 Score  Precision  Recall Samples In Train Samples In Test                                                                                      Model Description Column Predicted Num Features Used                                                                                                 Data and Split Description Normalized Num Features Normalized Feature Extraction Was Untested Data Predicted\n",
      "0  agQdGbxB5XoGw  2019-07-28  22:41:51  random_forest_classification  Hamed        2           0.647     0.647              0.708      0.674              0.672     0.628      0.724   192000           48000           Random Forest: n_estimators=361, max_features=auto, criterion=entropy, min_samples_leaf=13, n_jobs=-1  class_label      12                {'experiment_id': 'r1dd37mcxv5pf4', 'random_state': 0, 'live_volume': 0.0, 'dead_volume': 29, 'stain': 'SYTOX Red Stain'}  True       12                      False              False                     \n",
      "\n",
      "Run finished at 22:42:54. Total run time = 62.58 seconds\n",
      "^^^^^^^^^^^^^^^^^^^^^^^^^^^^^^^^^^^^^^^^^^^^^^^^^^^^^^^^^^^^^^^^^^^^^^^^^^^^^^^^^^^^^^^^^^^^^^^^^^^^\n",
      "\n",
      "\n",
      "\n",
      "\n",
      "HI\n",
      "{'experiment_id': 'r1dd37mcxv5pf4', 'random_state': 0, 'live_volume': 0.0, 'dead_volume': 29, 'stain': None}\n",
      "data_columns: ['Container Type', 'Control', 'Culture_Volume', 'Media', 'Replicate', 'Storage (C)', 'Strain', 'checksum', 'filename', 'kill', 'kill_volume', 'plate_id', 'source', 'stain', 'well', 'experiment_id', 'Time', 'FSC-A', 'SSC-A', 'BL1-A', 'RL1-A', 'FSC-H', 'SSC-H', 'BL1-H', 'RL1-H', 'FSC-W', 'SSC-W', 'BL1-W', 'RL1-W']\n"
     ]
    },
    {
     "name": "stderr",
     "output_type": "stream",
     "text": [
      "/Users/danbryce/Documents/sift/xplan/external/xplan/xplan-to-autoprotocol-reactor/xplan-dev-env/xplan-dev-env/lib/python3.7/site-packages/pandas/core/indexing.py:480: SettingWithCopyWarning: \n",
      "A value is trying to be set on a copy of a slice from a DataFrame.\n",
      "Try using .loc[row_indexer,col_indexer] = value instead\n",
      "\n",
      "See the caveats in the documentation: http://pandas.pydata.org/pandas-docs/stable/user_guide/indexing.html#returning-a-view-versus-a-copy\n",
      "  self.obj[item] = s\n"
     ]
    },
    {
     "name": "stdout",
     "output_type": "stream",
     "text": [
      "['FSC-A', 'SSC-A', 'BL1-A', 'RL1-A', 'FSC-H', 'SSC-H', 'BL1-H', 'RL1-H', 'FSC-W', 'SSC-W', 'BL1-W', 'RL1-W']\n",
      "\n",
      "<harness.test_harness_class.TestHarness object at 0x1d25497f0>\n"
     ]
    },
    {
     "name": "stderr",
     "output_type": "stream",
     "text": [
      "/Users/danbryce/Documents/sift/xplan/external/xplan/xplan-to-autoprotocol-reactor/xplan-dev-env/xplan-dev-env/lib/python3.7/site-packages/pandas/core/indexing.py:362: SettingWithCopyWarning: \n",
      "A value is trying to be set on a copy of a slice from a DataFrame.\n",
      "Try using .loc[row_indexer,col_indexer] = value instead\n",
      "\n",
      "See the caveats in the documentation: http://pandas.pydata.org/pandas-docs/stable/user_guide/indexing.html#returning-a-view-versus-a-copy\n",
      "  self.obj[key] = _infer_fill_value(value)\n"
     ]
    },
    {
     "name": "stdout",
     "output_type": "stream",
     "text": [
      "HI\n",
      "----------------------------------------------------------------------------------------------------\n",
      "Starting run at time 22:43:00\n",
      "Normalizing training and testing splits...\n",
      "Starting Classification training...\n",
      "Training time was: 47.32 seconds\n",
      "Testing time was: 1.59 seconds\n",
      "\n",
      "          Run ID        Date      Time                    Model Name Model Author Num Classes  Accuracy  Balanced Accuracy  AUC Score  Average Precision  F1 Score  Precision  Recall Samples In Train Samples In Test                                                                                      Model Description Column Predicted Num Features Used                                                                                    Data and Split Description Normalized Num Features Normalized Feature Extraction Was Untested Data Predicted\n",
      "0  ENV8g573z5AEx  2019-07-28  22:43:00  random_forest_classification  Hamed        2           0.638     0.638              0.691      0.674              0.639     0.637      0.642   192000           48000           Random Forest: n_estimators=361, max_features=auto, criterion=entropy, min_samples_leaf=13, n_jobs=-1  class_label      12                {'experiment_id': 'r1dd37mcxv5pf4', 'random_state': 0, 'live_volume': 0.0, 'dead_volume': 29, 'stain': None}  True       12                      False              False                     \n",
      "\n",
      "Run finished at 22:43:50. Total run time = 50.58 seconds\n",
      "^^^^^^^^^^^^^^^^^^^^^^^^^^^^^^^^^^^^^^^^^^^^^^^^^^^^^^^^^^^^^^^^^^^^^^^^^^^^^^^^^^^^^^^^^^^^^^^^^^^^\n",
      "\n",
      "\n",
      "\n",
      "\n",
      "HI\n",
      "{'experiment_id': 'r1dd37mcxv5pf4', 'random_state': 1, 'live_volume': 0.0, 'dead_volume': 980.0, 'stain': 'SYTOX Red Stain'}\n",
      "data_columns: ['Container Type', 'Control', 'Culture_Volume', 'Media', 'Replicate', 'Storage (C)', 'Strain', 'checksum', 'filename', 'kill', 'kill_volume', 'plate_id', 'source', 'stain', 'well', 'experiment_id', 'Time', 'FSC-A', 'SSC-A', 'BL1-A', 'RL1-A', 'FSC-H', 'SSC-H', 'BL1-H', 'RL1-H', 'FSC-W', 'SSC-W', 'BL1-W', 'RL1-W']\n"
     ]
    },
    {
     "name": "stderr",
     "output_type": "stream",
     "text": [
      "/Users/danbryce/Documents/sift/xplan/external/xplan/xplan-to-autoprotocol-reactor/xplan-dev-env/xplan-dev-env/lib/python3.7/site-packages/pandas/core/indexing.py:480: SettingWithCopyWarning: \n",
      "A value is trying to be set on a copy of a slice from a DataFrame.\n",
      "Try using .loc[row_indexer,col_indexer] = value instead\n",
      "\n",
      "See the caveats in the documentation: http://pandas.pydata.org/pandas-docs/stable/user_guide/indexing.html#returning-a-view-versus-a-copy\n",
      "  self.obj[item] = s\n"
     ]
    },
    {
     "name": "stdout",
     "output_type": "stream",
     "text": [
      "['FSC-A', 'SSC-A', 'BL1-A', 'RL1-A', 'FSC-H', 'SSC-H', 'BL1-H', 'RL1-H', 'FSC-W', 'SSC-W', 'BL1-W', 'RL1-W']\n",
      "\n",
      "<harness.test_harness_class.TestHarness object at 0x1d2549a58>\n"
     ]
    },
    {
     "name": "stderr",
     "output_type": "stream",
     "text": [
      "/Users/danbryce/Documents/sift/xplan/external/xplan/xplan-to-autoprotocol-reactor/xplan-dev-env/xplan-dev-env/lib/python3.7/site-packages/pandas/core/indexing.py:362: SettingWithCopyWarning: \n",
      "A value is trying to be set on a copy of a slice from a DataFrame.\n",
      "Try using .loc[row_indexer,col_indexer] = value instead\n",
      "\n",
      "See the caveats in the documentation: http://pandas.pydata.org/pandas-docs/stable/user_guide/indexing.html#returning-a-view-versus-a-copy\n",
      "  self.obj[key] = _infer_fill_value(value)\n"
     ]
    },
    {
     "name": "stdout",
     "output_type": "stream",
     "text": [
      "HI\n",
      "----------------------------------------------------------------------------------------------------\n",
      "Starting run at time 22:43:56\n",
      "Normalizing training and testing splits...\n",
      "Starting Classification training...\n",
      "Training time was: 31.76 seconds\n",
      "Testing time was: 0.67 seconds\n",
      "\n",
      "          Run ID        Date      Time                    Model Name Model Author Num Classes  Accuracy  Balanced Accuracy  AUC Score  Average Precision  F1 Score  Precision  Recall Samples In Train Samples In Test                                                                                      Model Description Column Predicted Num Features Used                                                                                                    Data and Split Description Normalized Num Features Normalized Feature Extraction Was Untested Data Predicted\n",
      "0  E6DGzPYyyzzaz  2019-07-28  22:43:56  random_forest_classification  Hamed        2           0.998     0.998              1.0        1.0                0.998     0.998      0.998   192000           48000           Random Forest: n_estimators=361, max_features=auto, criterion=entropy, min_samples_leaf=13, n_jobs=-1  class_label      12                {'experiment_id': 'r1dd37mcxv5pf4', 'random_state': 1, 'live_volume': 0.0, 'dead_volume': 980.0, 'stain': 'SYTOX Red Stain'}  True       12                      False              False                     \n",
      "\n",
      "Run finished at 22:44:31. Total run time = 34.42 seconds\n",
      "^^^^^^^^^^^^^^^^^^^^^^^^^^^^^^^^^^^^^^^^^^^^^^^^^^^^^^^^^^^^^^^^^^^^^^^^^^^^^^^^^^^^^^^^^^^^^^^^^^^^\n",
      "\n",
      "\n",
      "\n",
      "\n",
      "HI\n",
      "{'experiment_id': 'r1dd37mcxv5pf4', 'random_state': 1, 'live_volume': 0.0, 'dead_volume': 980.0, 'stain': None}\n",
      "data_columns: ['Container Type', 'Control', 'Culture_Volume', 'Media', 'Replicate', 'Storage (C)', 'Strain', 'checksum', 'filename', 'kill', 'kill_volume', 'plate_id', 'source', 'stain', 'well', 'experiment_id', 'Time', 'FSC-A', 'SSC-A', 'BL1-A', 'RL1-A', 'FSC-H', 'SSC-H', 'BL1-H', 'RL1-H', 'FSC-W', 'SSC-W', 'BL1-W', 'RL1-W']\n"
     ]
    },
    {
     "name": "stderr",
     "output_type": "stream",
     "text": [
      "/Users/danbryce/Documents/sift/xplan/external/xplan/xplan-to-autoprotocol-reactor/xplan-dev-env/xplan-dev-env/lib/python3.7/site-packages/pandas/core/indexing.py:480: SettingWithCopyWarning: \n",
      "A value is trying to be set on a copy of a slice from a DataFrame.\n",
      "Try using .loc[row_indexer,col_indexer] = value instead\n",
      "\n",
      "See the caveats in the documentation: http://pandas.pydata.org/pandas-docs/stable/user_guide/indexing.html#returning-a-view-versus-a-copy\n",
      "  self.obj[item] = s\n"
     ]
    },
    {
     "name": "stdout",
     "output_type": "stream",
     "text": [
      "['FSC-A', 'SSC-A', 'BL1-A', 'RL1-A', 'FSC-H', 'SSC-H', 'BL1-H', 'RL1-H', 'FSC-W', 'SSC-W', 'BL1-W', 'RL1-W']\n",
      "\n",
      "<harness.test_harness_class.TestHarness object at 0x1d6ecd978>\n"
     ]
    },
    {
     "name": "stderr",
     "output_type": "stream",
     "text": [
      "/Users/danbryce/Documents/sift/xplan/external/xplan/xplan-to-autoprotocol-reactor/xplan-dev-env/xplan-dev-env/lib/python3.7/site-packages/pandas/core/indexing.py:362: SettingWithCopyWarning: \n",
      "A value is trying to be set on a copy of a slice from a DataFrame.\n",
      "Try using .loc[row_indexer,col_indexer] = value instead\n",
      "\n",
      "See the caveats in the documentation: http://pandas.pydata.org/pandas-docs/stable/user_guide/indexing.html#returning-a-view-versus-a-copy\n",
      "  self.obj[key] = _infer_fill_value(value)\n"
     ]
    },
    {
     "name": "stdout",
     "output_type": "stream",
     "text": [
      "HI\n",
      "----------------------------------------------------------------------------------------------------\n",
      "Starting run at time 22:44:37\n",
      "Normalizing training and testing splits...\n",
      "Starting Classification training...\n",
      "Training time was: 36.04 seconds\n",
      "Testing time was: 0.67 seconds\n",
      "\n",
      "          Run ID        Date      Time                    Model Name Model Author Num Classes  Accuracy  Balanced Accuracy  AUC Score  Average Precision  F1 Score  Precision  Recall Samples In Train Samples In Test                                                                                      Model Description Column Predicted Num Features Used                                                                                       Data and Split Description Normalized Num Features Normalized Feature Extraction Was Untested Data Predicted\n",
      "0  5O3pEm6Mp3eYG  2019-07-28  22:44:37  random_forest_classification  Hamed        2           0.994     0.994              1.0        1.0                0.994     0.992      0.996   192000           48000           Random Forest: n_estimators=361, max_features=auto, criterion=entropy, min_samples_leaf=13, n_jobs=-1  class_label      12                {'experiment_id': 'r1dd37mcxv5pf4', 'random_state': 1, 'live_volume': 0.0, 'dead_volume': 980.0, 'stain': None}  True       12                      False              False                     \n",
      "\n",
      "Run finished at 22:45:15. Total run time = 38.44 seconds\n",
      "^^^^^^^^^^^^^^^^^^^^^^^^^^^^^^^^^^^^^^^^^^^^^^^^^^^^^^^^^^^^^^^^^^^^^^^^^^^^^^^^^^^^^^^^^^^^^^^^^^^^\n",
      "\n",
      "\n",
      "\n",
      "\n",
      "HI\n",
      "{'experiment_id': 'r1dd37mcxv5pf4', 'random_state': 1, 'live_volume': 0.0, 'dead_volume': 570.0, 'stain': 'SYTOX Red Stain'}\n",
      "data_columns: ['Container Type', 'Control', 'Culture_Volume', 'Media', 'Replicate', 'Storage (C)', 'Strain', 'checksum', 'filename', 'kill', 'kill_volume', 'plate_id', 'source', 'stain', 'well', 'experiment_id', 'Time', 'FSC-A', 'SSC-A', 'BL1-A', 'RL1-A', 'FSC-H', 'SSC-H', 'BL1-H', 'RL1-H', 'FSC-W', 'SSC-W', 'BL1-W', 'RL1-W']\n"
     ]
    },
    {
     "name": "stderr",
     "output_type": "stream",
     "text": [
      "/Users/danbryce/Documents/sift/xplan/external/xplan/xplan-to-autoprotocol-reactor/xplan-dev-env/xplan-dev-env/lib/python3.7/site-packages/pandas/core/indexing.py:480: SettingWithCopyWarning: \n",
      "A value is trying to be set on a copy of a slice from a DataFrame.\n",
      "Try using .loc[row_indexer,col_indexer] = value instead\n",
      "\n",
      "See the caveats in the documentation: http://pandas.pydata.org/pandas-docs/stable/user_guide/indexing.html#returning-a-view-versus-a-copy\n",
      "  self.obj[item] = s\n"
     ]
    },
    {
     "name": "stdout",
     "output_type": "stream",
     "text": [
      "['FSC-A', 'SSC-A', 'BL1-A', 'RL1-A', 'FSC-H', 'SSC-H', 'BL1-H', 'RL1-H', 'FSC-W', 'SSC-W', 'BL1-W', 'RL1-W']\n",
      "\n",
      "<harness.test_harness_class.TestHarness object at 0x18a18c978>\n"
     ]
    },
    {
     "name": "stderr",
     "output_type": "stream",
     "text": [
      "/Users/danbryce/Documents/sift/xplan/external/xplan/xplan-to-autoprotocol-reactor/xplan-dev-env/xplan-dev-env/lib/python3.7/site-packages/pandas/core/indexing.py:362: SettingWithCopyWarning: \n",
      "A value is trying to be set on a copy of a slice from a DataFrame.\n",
      "Try using .loc[row_indexer,col_indexer] = value instead\n",
      "\n",
      "See the caveats in the documentation: http://pandas.pydata.org/pandas-docs/stable/user_guide/indexing.html#returning-a-view-versus-a-copy\n",
      "  self.obj[key] = _infer_fill_value(value)\n"
     ]
    },
    {
     "name": "stdout",
     "output_type": "stream",
     "text": [
      "HI\n",
      "----------------------------------------------------------------------------------------------------\n",
      "Starting run at time 22:45:21\n",
      "Normalizing training and testing splits...\n",
      "Starting Classification training...\n",
      "Training time was: 33.18 seconds\n",
      "Testing time was: 0.67 seconds\n",
      "\n",
      "          Run ID        Date      Time                    Model Name Model Author Num Classes  Accuracy  Balanced Accuracy  AUC Score  Average Precision  F1 Score  Precision  Recall Samples In Train Samples In Test                                                                                      Model Description Column Predicted Num Features Used                                                                                                    Data and Split Description Normalized Num Features Normalized Feature Extraction Was Untested Data Predicted\n",
      "0  aAOo1562Oydqw  2019-07-28  22:45:21  random_forest_classification  Hamed        2           0.998     0.998              1.0        1.0                0.998     0.999      0.996   192000           48000           Random Forest: n_estimators=361, max_features=auto, criterion=entropy, min_samples_leaf=13, n_jobs=-1  class_label      12                {'experiment_id': 'r1dd37mcxv5pf4', 'random_state': 1, 'live_volume': 0.0, 'dead_volume': 570.0, 'stain': 'SYTOX Red Stain'}  True       12                      False              False                     \n",
      "\n",
      "Run finished at 22:45:57. Total run time = 35.57 seconds\n",
      "^^^^^^^^^^^^^^^^^^^^^^^^^^^^^^^^^^^^^^^^^^^^^^^^^^^^^^^^^^^^^^^^^^^^^^^^^^^^^^^^^^^^^^^^^^^^^^^^^^^^\n",
      "\n",
      "\n",
      "\n",
      "\n",
      "HI\n",
      "{'experiment_id': 'r1dd37mcxv5pf4', 'random_state': 1, 'live_volume': 0.0, 'dead_volume': 570.0, 'stain': None}\n",
      "data_columns: ['Container Type', 'Control', 'Culture_Volume', 'Media', 'Replicate', 'Storage (C)', 'Strain', 'checksum', 'filename', 'kill', 'kill_volume', 'plate_id', 'source', 'stain', 'well', 'experiment_id', 'Time', 'FSC-A', 'SSC-A', 'BL1-A', 'RL1-A', 'FSC-H', 'SSC-H', 'BL1-H', 'RL1-H', 'FSC-W', 'SSC-W', 'BL1-W', 'RL1-W']\n"
     ]
    },
    {
     "name": "stderr",
     "output_type": "stream",
     "text": [
      "/Users/danbryce/Documents/sift/xplan/external/xplan/xplan-to-autoprotocol-reactor/xplan-dev-env/xplan-dev-env/lib/python3.7/site-packages/pandas/core/indexing.py:480: SettingWithCopyWarning: \n",
      "A value is trying to be set on a copy of a slice from a DataFrame.\n",
      "Try using .loc[row_indexer,col_indexer] = value instead\n",
      "\n",
      "See the caveats in the documentation: http://pandas.pydata.org/pandas-docs/stable/user_guide/indexing.html#returning-a-view-versus-a-copy\n",
      "  self.obj[item] = s\n"
     ]
    },
    {
     "name": "stdout",
     "output_type": "stream",
     "text": [
      "['FSC-A', 'SSC-A', 'BL1-A', 'RL1-A', 'FSC-H', 'SSC-H', 'BL1-H', 'RL1-H', 'FSC-W', 'SSC-W', 'BL1-W', 'RL1-W']\n",
      "\n",
      "<harness.test_harness_class.TestHarness object at 0x182145f28>\n"
     ]
    },
    {
     "name": "stderr",
     "output_type": "stream",
     "text": [
      "/Users/danbryce/Documents/sift/xplan/external/xplan/xplan-to-autoprotocol-reactor/xplan-dev-env/xplan-dev-env/lib/python3.7/site-packages/pandas/core/indexing.py:362: SettingWithCopyWarning: \n",
      "A value is trying to be set on a copy of a slice from a DataFrame.\n",
      "Try using .loc[row_indexer,col_indexer] = value instead\n",
      "\n",
      "See the caveats in the documentation: http://pandas.pydata.org/pandas-docs/stable/user_guide/indexing.html#returning-a-view-versus-a-copy\n",
      "  self.obj[key] = _infer_fill_value(value)\n"
     ]
    },
    {
     "name": "stdout",
     "output_type": "stream",
     "text": [
      "HI\n",
      "----------------------------------------------------------------------------------------------------\n",
      "Starting run at time 22:46:03\n",
      "Normalizing training and testing splits...\n",
      "Starting Classification training...\n",
      "Training time was: 42.19 seconds\n",
      "Testing time was: 1.05 seconds\n",
      "\n",
      "         Run ID        Date      Time                    Model Name Model Author Num Classes  Accuracy  Balanced Accuracy  AUC Score  Average Precision  F1 Score  Precision  Recall Samples In Train Samples In Test                                                                                      Model Description Column Predicted Num Features Used                                                                                       Data and Split Description Normalized Num Features Normalized Feature Extraction Was Untested Data Predicted\n",
      "0  aPk7M3yOapRo  2019-07-28  22:46:03  random_forest_classification  Hamed        2           0.978     0.977              0.997      0.997              0.979     0.974      0.984   183965           45992           Random Forest: n_estimators=361, max_features=auto, criterion=entropy, min_samples_leaf=13, n_jobs=-1  class_label      12                {'experiment_id': 'r1dd37mcxv5pf4', 'random_state': 1, 'live_volume': 0.0, 'dead_volume': 570.0, 'stain': None}  True       12                      False              False                     \n",
      "\n",
      "Run finished at 22:46:48. Total run time = 44.85 seconds\n",
      "^^^^^^^^^^^^^^^^^^^^^^^^^^^^^^^^^^^^^^^^^^^^^^^^^^^^^^^^^^^^^^^^^^^^^^^^^^^^^^^^^^^^^^^^^^^^^^^^^^^^\n",
      "\n",
      "\n",
      "\n",
      "\n",
      "HI\n",
      "{'experiment_id': 'r1dd37mcxv5pf4', 'random_state': 1, 'live_volume': 0.0, 'dead_volume': 370.0, 'stain': 'SYTOX Red Stain'}\n"
     ]
    },
    {
     "name": "stderr",
     "output_type": "stream",
     "text": [
      "/Users/danbryce/Documents/sift/xplan/external/xplan/xplan-to-autoprotocol-reactor/xplan-dev-env/xplan-dev-env/lib/python3.7/site-packages/pandas/core/indexing.py:480: SettingWithCopyWarning: \n",
      "A value is trying to be set on a copy of a slice from a DataFrame.\n",
      "Try using .loc[row_indexer,col_indexer] = value instead\n",
      "\n",
      "See the caveats in the documentation: http://pandas.pydata.org/pandas-docs/stable/user_guide/indexing.html#returning-a-view-versus-a-copy\n",
      "  self.obj[item] = s\n"
     ]
    },
    {
     "name": "stdout",
     "output_type": "stream",
     "text": [
      "data_columns: ['Container Type', 'Control', 'Culture_Volume', 'Media', 'Replicate', 'Storage (C)', 'Strain', 'checksum', 'filename', 'kill', 'kill_volume', 'plate_id', 'source', 'stain', 'well', 'experiment_id', 'Time', 'FSC-A', 'SSC-A', 'BL1-A', 'RL1-A', 'FSC-H', 'SSC-H', 'BL1-H', 'RL1-H', 'FSC-W', 'SSC-W', 'BL1-W', 'RL1-W']\n",
      "['FSC-A', 'SSC-A', 'BL1-A', 'RL1-A', 'FSC-H', 'SSC-H', 'BL1-H', 'RL1-H', 'FSC-W', 'SSC-W', 'BL1-W', 'RL1-W']\n",
      "\n",
      "<harness.test_harness_class.TestHarness object at 0x15b9d6dd8>\n"
     ]
    },
    {
     "name": "stderr",
     "output_type": "stream",
     "text": [
      "/Users/danbryce/Documents/sift/xplan/external/xplan/xplan-to-autoprotocol-reactor/xplan-dev-env/xplan-dev-env/lib/python3.7/site-packages/pandas/core/indexing.py:362: SettingWithCopyWarning: \n",
      "A value is trying to be set on a copy of a slice from a DataFrame.\n",
      "Try using .loc[row_indexer,col_indexer] = value instead\n",
      "\n",
      "See the caveats in the documentation: http://pandas.pydata.org/pandas-docs/stable/user_guide/indexing.html#returning-a-view-versus-a-copy\n",
      "  self.obj[key] = _infer_fill_value(value)\n"
     ]
    },
    {
     "name": "stdout",
     "output_type": "stream",
     "text": [
      "HI\n",
      "----------------------------------------------------------------------------------------------------\n",
      "Starting run at time 22:46:53\n",
      "Normalizing training and testing splits...\n",
      "Starting Classification training...\n",
      "Training time was: 27.66 seconds\n",
      "Testing time was: 0.66 seconds\n",
      "\n",
      "          Run ID        Date      Time                    Model Name Model Author Num Classes  Accuracy  Balanced Accuracy  AUC Score  Average Precision  F1 Score  Precision  Recall Samples In Train Samples In Test                                                                                      Model Description Column Predicted Num Features Used                                                                                                    Data and Split Description Normalized Num Features Normalized Feature Extraction Was Untested Data Predicted\n",
      "0  aLvOdbZAMDzjV  2019-07-28  22:46:53  random_forest_classification  Hamed        2           0.997     0.997              1.0        1.0                0.997     0.999      0.996   175331           43833           Random Forest: n_estimators=361, max_features=auto, criterion=entropy, min_samples_leaf=13, n_jobs=-1  class_label      12                {'experiment_id': 'r1dd37mcxv5pf4', 'random_state': 1, 'live_volume': 0.0, 'dead_volume': 370.0, 'stain': 'SYTOX Red Stain'}  True       12                      False              False                     \n",
      "\n",
      "Run finished at 22:47:23. Total run time = 29.87 seconds\n",
      "^^^^^^^^^^^^^^^^^^^^^^^^^^^^^^^^^^^^^^^^^^^^^^^^^^^^^^^^^^^^^^^^^^^^^^^^^^^^^^^^^^^^^^^^^^^^^^^^^^^^\n",
      "\n",
      "\n",
      "\n",
      "\n",
      "HI\n",
      "{'experiment_id': 'r1dd37mcxv5pf4', 'random_state': 1, 'live_volume': 0.0, 'dead_volume': 370.0, 'stain': None}\n",
      "data_columns: ['Container Type', 'Control', 'Culture_Volume', 'Media', 'Replicate', 'Storage (C)', 'Strain', 'checksum', 'filename', 'kill', 'kill_volume', 'plate_id', 'source', 'stain', 'well', 'experiment_id', 'Time', 'FSC-A', 'SSC-A', 'BL1-A', 'RL1-A', 'FSC-H', 'SSC-H', 'BL1-H', 'RL1-H', 'FSC-W', 'SSC-W', 'BL1-W', 'RL1-W']\n"
     ]
    },
    {
     "name": "stderr",
     "output_type": "stream",
     "text": [
      "/Users/danbryce/Documents/sift/xplan/external/xplan/xplan-to-autoprotocol-reactor/xplan-dev-env/xplan-dev-env/lib/python3.7/site-packages/pandas/core/indexing.py:480: SettingWithCopyWarning: \n",
      "A value is trying to be set on a copy of a slice from a DataFrame.\n",
      "Try using .loc[row_indexer,col_indexer] = value instead\n",
      "\n",
      "See the caveats in the documentation: http://pandas.pydata.org/pandas-docs/stable/user_guide/indexing.html#returning-a-view-versus-a-copy\n",
      "  self.obj[item] = s\n"
     ]
    },
    {
     "name": "stdout",
     "output_type": "stream",
     "text": [
      "['FSC-A', 'SSC-A', 'BL1-A', 'RL1-A', 'FSC-H', 'SSC-H', 'BL1-H', 'RL1-H', 'FSC-W', 'SSC-W', 'BL1-W', 'RL1-W']\n",
      "\n",
      "<harness.test_harness_class.TestHarness object at 0x19d8f1240>\n"
     ]
    },
    {
     "name": "stderr",
     "output_type": "stream",
     "text": [
      "/Users/danbryce/Documents/sift/xplan/external/xplan/xplan-to-autoprotocol-reactor/xplan-dev-env/xplan-dev-env/lib/python3.7/site-packages/pandas/core/indexing.py:362: SettingWithCopyWarning: \n",
      "A value is trying to be set on a copy of a slice from a DataFrame.\n",
      "Try using .loc[row_indexer,col_indexer] = value instead\n",
      "\n",
      "See the caveats in the documentation: http://pandas.pydata.org/pandas-docs/stable/user_guide/indexing.html#returning-a-view-versus-a-copy\n",
      "  self.obj[key] = _infer_fill_value(value)\n"
     ]
    },
    {
     "name": "stdout",
     "output_type": "stream",
     "text": [
      "HI\n",
      "----------------------------------------------------------------------------------------------------\n",
      "Starting run at time 22:47:28\n",
      "Normalizing training and testing splits...\n",
      "Starting Classification training...\n",
      "Training time was: 38.98 seconds\n",
      "Testing time was: 0.87 seconds\n",
      "\n",
      "          Run ID        Date      Time                    Model Name Model Author Num Classes  Accuracy  Balanced Accuracy  AUC Score  Average Precision  F1 Score  Precision  Recall Samples In Train Samples In Test                                                                                      Model Description Column Predicted Num Features Used                                                                                       Data and Split Description Normalized Num Features Normalized Feature Extraction Was Untested Data Predicted\n",
      "0  Qza5oqLGYZdv1  2019-07-28  22:47:28  random_forest_classification  Hamed        2           0.974     0.972              0.995      0.996              0.977     0.974      0.98    166786           41697           Random Forest: n_estimators=361, max_features=auto, criterion=entropy, min_samples_leaf=13, n_jobs=-1  class_label      12                {'experiment_id': 'r1dd37mcxv5pf4', 'random_state': 1, 'live_volume': 0.0, 'dead_volume': 370.0, 'stain': None}  True       12                      False              False                     \n",
      "\n",
      "Run finished at 22:48:10. Total run time = 41.40 seconds\n",
      "^^^^^^^^^^^^^^^^^^^^^^^^^^^^^^^^^^^^^^^^^^^^^^^^^^^^^^^^^^^^^^^^^^^^^^^^^^^^^^^^^^^^^^^^^^^^^^^^^^^^\n",
      "\n",
      "\n",
      "\n",
      "\n",
      "HI\n",
      "{'experiment_id': 'r1dd37mcxv5pf4', 'random_state': 1, 'live_volume': 0.0, 'dead_volume': 250.0, 'stain': 'SYTOX Red Stain'}\n",
      "data_columns: ['Container Type', 'Control', 'Culture_Volume', 'Media', 'Replicate', 'Storage (C)', 'Strain', 'checksum', 'filename', 'kill', 'kill_volume', 'plate_id', 'source', 'stain', 'well', 'experiment_id', 'Time', 'FSC-A', 'SSC-A', 'BL1-A', 'RL1-A', 'FSC-H', 'SSC-H', 'BL1-H', 'RL1-H', 'FSC-W', 'SSC-W', 'BL1-W', 'RL1-W']\n"
     ]
    },
    {
     "name": "stderr",
     "output_type": "stream",
     "text": [
      "/Users/danbryce/Documents/sift/xplan/external/xplan/xplan-to-autoprotocol-reactor/xplan-dev-env/xplan-dev-env/lib/python3.7/site-packages/pandas/core/indexing.py:480: SettingWithCopyWarning: \n",
      "A value is trying to be set on a copy of a slice from a DataFrame.\n",
      "Try using .loc[row_indexer,col_indexer] = value instead\n",
      "\n",
      "See the caveats in the documentation: http://pandas.pydata.org/pandas-docs/stable/user_guide/indexing.html#returning-a-view-versus-a-copy\n",
      "  self.obj[item] = s\n"
     ]
    },
    {
     "name": "stdout",
     "output_type": "stream",
     "text": [
      "['FSC-A', 'SSC-A', 'BL1-A', 'RL1-A', 'FSC-H', 'SSC-H', 'BL1-H', 'RL1-H', 'FSC-W', 'SSC-W', 'BL1-W', 'RL1-W']\n",
      "\n",
      "<harness.test_harness_class.TestHarness object at 0x1d6eb0e10>\n"
     ]
    },
    {
     "name": "stderr",
     "output_type": "stream",
     "text": [
      "/Users/danbryce/Documents/sift/xplan/external/xplan/xplan-to-autoprotocol-reactor/xplan-dev-env/xplan-dev-env/lib/python3.7/site-packages/pandas/core/indexing.py:362: SettingWithCopyWarning: \n",
      "A value is trying to be set on a copy of a slice from a DataFrame.\n",
      "Try using .loc[row_indexer,col_indexer] = value instead\n",
      "\n",
      "See the caveats in the documentation: http://pandas.pydata.org/pandas-docs/stable/user_guide/indexing.html#returning-a-view-versus-a-copy\n",
      "  self.obj[key] = _infer_fill_value(value)\n"
     ]
    },
    {
     "name": "stdout",
     "output_type": "stream",
     "text": [
      "HI\n",
      "----------------------------------------------------------------------------------------------------\n",
      "Starting run at time 22:48:14\n",
      "Normalizing training and testing splits...\n",
      "Starting Classification training...\n",
      "Training time was: 24.83 seconds\n",
      "Testing time was: 0.55 seconds\n",
      "\n",
      "          Run ID        Date      Time                    Model Name Model Author Num Classes  Accuracy  Balanced Accuracy  AUC Score  Average Precision  F1 Score  Precision  Recall Samples In Train Samples In Test                                                                                      Model Description Column Predicted Num Features Used                                                                                                    Data and Split Description Normalized Num Features Normalized Feature Extraction Was Untested Data Predicted\n",
      "0  5WlXyaxqRyAZN  2019-07-28  22:48:14  random_forest_classification  Hamed        2           0.996     0.997              1.0        1.0                0.997     1.0        0.995   147452           36864           Random Forest: n_estimators=361, max_features=auto, criterion=entropy, min_samples_leaf=13, n_jobs=-1  class_label      12                {'experiment_id': 'r1dd37mcxv5pf4', 'random_state': 1, 'live_volume': 0.0, 'dead_volume': 250.0, 'stain': 'SYTOX Red Stain'}  True       12                      False              False                     \n",
      "\n",
      "Run finished at 22:48:41. Total run time = 26.78 seconds\n",
      "^^^^^^^^^^^^^^^^^^^^^^^^^^^^^^^^^^^^^^^^^^^^^^^^^^^^^^^^^^^^^^^^^^^^^^^^^^^^^^^^^^^^^^^^^^^^^^^^^^^^\n",
      "\n",
      "\n",
      "\n",
      "\n",
      "HI\n",
      "{'experiment_id': 'r1dd37mcxv5pf4', 'random_state': 1, 'live_volume': 0.0, 'dead_volume': 250.0, 'stain': None}\n",
      "data_columns: ['Container Type', 'Control', 'Culture_Volume', 'Media', 'Replicate', 'Storage (C)', 'Strain', 'checksum', 'filename', 'kill', 'kill_volume', 'plate_id', 'source', 'stain', 'well', 'experiment_id', 'Time', 'FSC-A', 'SSC-A', 'BL1-A', 'RL1-A', 'FSC-H', 'SSC-H', 'BL1-H', 'RL1-H', 'FSC-W', 'SSC-W', 'BL1-W', 'RL1-W']\n"
     ]
    },
    {
     "name": "stderr",
     "output_type": "stream",
     "text": [
      "/Users/danbryce/Documents/sift/xplan/external/xplan/xplan-to-autoprotocol-reactor/xplan-dev-env/xplan-dev-env/lib/python3.7/site-packages/pandas/core/indexing.py:480: SettingWithCopyWarning: \n",
      "A value is trying to be set on a copy of a slice from a DataFrame.\n",
      "Try using .loc[row_indexer,col_indexer] = value instead\n",
      "\n",
      "See the caveats in the documentation: http://pandas.pydata.org/pandas-docs/stable/user_guide/indexing.html#returning-a-view-versus-a-copy\n",
      "  self.obj[item] = s\n"
     ]
    },
    {
     "name": "stdout",
     "output_type": "stream",
     "text": [
      "['FSC-A', 'SSC-A', 'BL1-A', 'RL1-A', 'FSC-H', 'SSC-H', 'BL1-H', 'RL1-H', 'FSC-W', 'SSC-W', 'BL1-W', 'RL1-W']\n",
      "\n",
      "<harness.test_harness_class.TestHarness object at 0x18a399c18>\n"
     ]
    },
    {
     "name": "stderr",
     "output_type": "stream",
     "text": [
      "/Users/danbryce/Documents/sift/xplan/external/xplan/xplan-to-autoprotocol-reactor/xplan-dev-env/xplan-dev-env/lib/python3.7/site-packages/pandas/core/indexing.py:362: SettingWithCopyWarning: \n",
      "A value is trying to be set on a copy of a slice from a DataFrame.\n",
      "Try using .loc[row_indexer,col_indexer] = value instead\n",
      "\n",
      "See the caveats in the documentation: http://pandas.pydata.org/pandas-docs/stable/user_guide/indexing.html#returning-a-view-versus-a-copy\n",
      "  self.obj[key] = _infer_fill_value(value)\n"
     ]
    },
    {
     "name": "stdout",
     "output_type": "stream",
     "text": [
      "HI\n",
      "----------------------------------------------------------------------------------------------------\n",
      "Starting run at time 22:48:45\n",
      "Normalizing training and testing splits...\n",
      "Starting Classification training...\n",
      "Training time was: 31.41 seconds\n",
      "Testing time was: 0.85 seconds\n",
      "\n",
      "          Run ID        Date      Time                    Model Name Model Author Num Classes  Accuracy  Balanced Accuracy  AUC Score  Average Precision  F1 Score  Precision  Recall Samples In Train Samples In Test                                                                                      Model Description Column Predicted Num Features Used                                                                                       Data and Split Description Normalized Num Features Normalized Feature Extraction Was Untested Data Predicted\n",
      "0  ab59BdOe659Pb  2019-07-28  22:48:45  random_forest_classification  Hamed        2           0.96      0.957              0.991      0.995              0.971     0.975      0.966   142361           35591           Random Forest: n_estimators=361, max_features=auto, criterion=entropy, min_samples_leaf=13, n_jobs=-1  class_label      12                {'experiment_id': 'r1dd37mcxv5pf4', 'random_state': 1, 'live_volume': 0.0, 'dead_volume': 250.0, 'stain': None}  True       12                      False              False                     \n",
      "\n",
      "Run finished at 22:49:19. Total run time = 33.68 seconds\n",
      "^^^^^^^^^^^^^^^^^^^^^^^^^^^^^^^^^^^^^^^^^^^^^^^^^^^^^^^^^^^^^^^^^^^^^^^^^^^^^^^^^^^^^^^^^^^^^^^^^^^^\n",
      "\n",
      "\n",
      "\n",
      "\n",
      "HI\n",
      "{'experiment_id': 'r1dd37mcxv5pf4', 'random_state': 1, 'live_volume': 0.0, 'dead_volume': 170.0, 'stain': 'SYTOX Red Stain'}\n",
      "data_columns: ['Container Type', 'Control', 'Culture_Volume', 'Media', 'Replicate', 'Storage (C)', 'Strain', 'checksum', 'filename', 'kill', 'kill_volume', 'plate_id', 'source', 'stain', 'well', 'experiment_id', 'Time', 'FSC-A', 'SSC-A', 'BL1-A', 'RL1-A', 'FSC-H', 'SSC-H', 'BL1-H', 'RL1-H', 'FSC-W', 'SSC-W', 'BL1-W', 'RL1-W']\n"
     ]
    },
    {
     "name": "stderr",
     "output_type": "stream",
     "text": [
      "/Users/danbryce/Documents/sift/xplan/external/xplan/xplan-to-autoprotocol-reactor/xplan-dev-env/xplan-dev-env/lib/python3.7/site-packages/pandas/core/indexing.py:480: SettingWithCopyWarning: \n",
      "A value is trying to be set on a copy of a slice from a DataFrame.\n",
      "Try using .loc[row_indexer,col_indexer] = value instead\n",
      "\n",
      "See the caveats in the documentation: http://pandas.pydata.org/pandas-docs/stable/user_guide/indexing.html#returning-a-view-versus-a-copy\n",
      "  self.obj[item] = s\n"
     ]
    },
    {
     "name": "stdout",
     "output_type": "stream",
     "text": [
      "['FSC-A', 'SSC-A', 'BL1-A', 'RL1-A', 'FSC-H', 'SSC-H', 'BL1-H', 'RL1-H', 'FSC-W', 'SSC-W', 'BL1-W', 'RL1-W']\n",
      "\n",
      "<harness.test_harness_class.TestHarness object at 0x1821a06d8>\n"
     ]
    },
    {
     "name": "stderr",
     "output_type": "stream",
     "text": [
      "/Users/danbryce/Documents/sift/xplan/external/xplan/xplan-to-autoprotocol-reactor/xplan-dev-env/xplan-dev-env/lib/python3.7/site-packages/pandas/core/indexing.py:362: SettingWithCopyWarning: \n",
      "A value is trying to be set on a copy of a slice from a DataFrame.\n",
      "Try using .loc[row_indexer,col_indexer] = value instead\n",
      "\n",
      "See the caveats in the documentation: http://pandas.pydata.org/pandas-docs/stable/user_guide/indexing.html#returning-a-view-versus-a-copy\n",
      "  self.obj[key] = _infer_fill_value(value)\n"
     ]
    },
    {
     "name": "stdout",
     "output_type": "stream",
     "text": [
      "HI\n",
      "----------------------------------------------------------------------------------------------------\n",
      "Starting run at time 22:49:25\n",
      "Normalizing training and testing splits...\n",
      "Starting Classification training...\n",
      "Training time was: 42.21 seconds\n",
      "Testing time was: 0.77 seconds\n",
      "\n",
      "          Run ID        Date      Time                    Model Name Model Author Num Classes  Accuracy  Balanced Accuracy  AUC Score  Average Precision  F1 Score  Precision  Recall Samples In Train Samples In Test                                                                                      Model Description Column Predicted Num Features Used                                                                                                    Data and Split Description Normalized Num Features Normalized Feature Extraction Was Untested Data Predicted\n",
      "0  EWobN8pAr85RJ  2019-07-28  22:49:25  random_forest_classification  Hamed        2           0.997     0.997              1.0        0.999              0.997     0.998      0.995   192000           48000           Random Forest: n_estimators=361, max_features=auto, criterion=entropy, min_samples_leaf=13, n_jobs=-1  class_label      12                {'experiment_id': 'r1dd37mcxv5pf4', 'random_state': 1, 'live_volume': 0.0, 'dead_volume': 170.0, 'stain': 'SYTOX Red Stain'}  True       12                      False              False                     \n",
      "\n",
      "Run finished at 22:50:10. Total run time = 44.64 seconds\n",
      "^^^^^^^^^^^^^^^^^^^^^^^^^^^^^^^^^^^^^^^^^^^^^^^^^^^^^^^^^^^^^^^^^^^^^^^^^^^^^^^^^^^^^^^^^^^^^^^^^^^^\n",
      "\n",
      "\n",
      "\n",
      "\n",
      "HI\n",
      "{'experiment_id': 'r1dd37mcxv5pf4', 'random_state': 1, 'live_volume': 0.0, 'dead_volume': 170.0, 'stain': None}\n",
      "data_columns: ['Container Type', 'Control', 'Culture_Volume', 'Media', 'Replicate', 'Storage (C)', 'Strain', 'checksum', 'filename', 'kill', 'kill_volume', 'plate_id', 'source', 'stain', 'well', 'experiment_id', 'Time', 'FSC-A', 'SSC-A', 'BL1-A', 'RL1-A', 'FSC-H', 'SSC-H', 'BL1-H', 'RL1-H', 'FSC-W', 'SSC-W', 'BL1-W', 'RL1-W']\n"
     ]
    },
    {
     "name": "stderr",
     "output_type": "stream",
     "text": [
      "/Users/danbryce/Documents/sift/xplan/external/xplan/xplan-to-autoprotocol-reactor/xplan-dev-env/xplan-dev-env/lib/python3.7/site-packages/pandas/core/indexing.py:480: SettingWithCopyWarning: \n",
      "A value is trying to be set on a copy of a slice from a DataFrame.\n",
      "Try using .loc[row_indexer,col_indexer] = value instead\n",
      "\n",
      "See the caveats in the documentation: http://pandas.pydata.org/pandas-docs/stable/user_guide/indexing.html#returning-a-view-versus-a-copy\n",
      "  self.obj[item] = s\n"
     ]
    },
    {
     "name": "stdout",
     "output_type": "stream",
     "text": [
      "['FSC-A', 'SSC-A', 'BL1-A', 'RL1-A', 'FSC-H', 'SSC-H', 'BL1-H', 'RL1-H', 'FSC-W', 'SSC-W', 'BL1-W', 'RL1-W']\n",
      "\n",
      "<harness.test_harness_class.TestHarness object at 0x19d8e8080>\n"
     ]
    },
    {
     "name": "stderr",
     "output_type": "stream",
     "text": [
      "/Users/danbryce/Documents/sift/xplan/external/xplan/xplan-to-autoprotocol-reactor/xplan-dev-env/xplan-dev-env/lib/python3.7/site-packages/pandas/core/indexing.py:362: SettingWithCopyWarning: \n",
      "A value is trying to be set on a copy of a slice from a DataFrame.\n",
      "Try using .loc[row_indexer,col_indexer] = value instead\n",
      "\n",
      "See the caveats in the documentation: http://pandas.pydata.org/pandas-docs/stable/user_guide/indexing.html#returning-a-view-versus-a-copy\n",
      "  self.obj[key] = _infer_fill_value(value)\n"
     ]
    },
    {
     "name": "stdout",
     "output_type": "stream",
     "text": [
      "HI\n",
      "----------------------------------------------------------------------------------------------------\n",
      "Starting run at time 22:50:16\n",
      "Normalizing training and testing splits...\n",
      "Starting Classification training...\n",
      "Training time was: 43.18 seconds\n",
      "Testing time was: 1.30 seconds\n",
      "\n",
      "          Run ID        Date      Time                    Model Name Model Author Num Classes  Accuracy  Balanced Accuracy  AUC Score  Average Precision  F1 Score  Precision  Recall Samples In Train Samples In Test                                                                                      Model Description Column Predicted Num Features Used                                                                                       Data and Split Description Normalized Num Features Normalized Feature Extraction Was Untested Data Predicted\n",
      "0  5rp7xR8wp35qb  2019-07-28  22:50:16  random_forest_classification  Hamed        2           0.918     0.918              0.973      0.971              0.919     0.91       0.928   192000           48000           Random Forest: n_estimators=361, max_features=auto, criterion=entropy, min_samples_leaf=13, n_jobs=-1  class_label      12                {'experiment_id': 'r1dd37mcxv5pf4', 'random_state': 1, 'live_volume': 0.0, 'dead_volume': 170.0, 'stain': None}  True       12                      False              False                     \n",
      "\n",
      "Run finished at 22:51:02. Total run time = 46.19 seconds\n",
      "^^^^^^^^^^^^^^^^^^^^^^^^^^^^^^^^^^^^^^^^^^^^^^^^^^^^^^^^^^^^^^^^^^^^^^^^^^^^^^^^^^^^^^^^^^^^^^^^^^^^\n",
      "\n",
      "\n",
      "\n",
      "\n",
      "HI\n",
      "{'experiment_id': 'r1dd37mcxv5pf4', 'random_state': 1, 'live_volume': 0.0, 'dead_volume': 105.0, 'stain': 'SYTOX Red Stain'}\n",
      "data_columns: ['Container Type', 'Control', 'Culture_Volume', 'Media', 'Replicate', 'Storage (C)', 'Strain', 'checksum', 'filename', 'kill', 'kill_volume', 'plate_id', 'source', 'stain', 'well', 'experiment_id', 'Time', 'FSC-A', 'SSC-A', 'BL1-A', 'RL1-A', 'FSC-H', 'SSC-H', 'BL1-H', 'RL1-H', 'FSC-W', 'SSC-W', 'BL1-W', 'RL1-W']\n"
     ]
    },
    {
     "name": "stderr",
     "output_type": "stream",
     "text": [
      "/Users/danbryce/Documents/sift/xplan/external/xplan/xplan-to-autoprotocol-reactor/xplan-dev-env/xplan-dev-env/lib/python3.7/site-packages/pandas/core/indexing.py:480: SettingWithCopyWarning: \n",
      "A value is trying to be set on a copy of a slice from a DataFrame.\n",
      "Try using .loc[row_indexer,col_indexer] = value instead\n",
      "\n",
      "See the caveats in the documentation: http://pandas.pydata.org/pandas-docs/stable/user_guide/indexing.html#returning-a-view-versus-a-copy\n",
      "  self.obj[item] = s\n"
     ]
    },
    {
     "name": "stdout",
     "output_type": "stream",
     "text": [
      "['FSC-A', 'SSC-A', 'BL1-A', 'RL1-A', 'FSC-H', 'SSC-H', 'BL1-H', 'RL1-H', 'FSC-W', 'SSC-W', 'BL1-W', 'RL1-W']\n",
      "\n",
      "<harness.test_harness_class.TestHarness object at 0x1e564fb70>\n"
     ]
    },
    {
     "name": "stderr",
     "output_type": "stream",
     "text": [
      "/Users/danbryce/Documents/sift/xplan/external/xplan/xplan-to-autoprotocol-reactor/xplan-dev-env/xplan-dev-env/lib/python3.7/site-packages/pandas/core/indexing.py:362: SettingWithCopyWarning: \n",
      "A value is trying to be set on a copy of a slice from a DataFrame.\n",
      "Try using .loc[row_indexer,col_indexer] = value instead\n",
      "\n",
      "See the caveats in the documentation: http://pandas.pydata.org/pandas-docs/stable/user_guide/indexing.html#returning-a-view-versus-a-copy\n",
      "  self.obj[key] = _infer_fill_value(value)\n"
     ]
    },
    {
     "name": "stdout",
     "output_type": "stream",
     "text": [
      "HI\n",
      "----------------------------------------------------------------------------------------------------\n",
      "Starting run at time 22:51:08\n",
      "Normalizing training and testing splits...\n",
      "Starting Classification training...\n",
      "Training time was: 36.41 seconds\n",
      "Testing time was: 0.67 seconds\n",
      "\n",
      "          Run ID        Date      Time                    Model Name Model Author Num Classes  Accuracy  Balanced Accuracy  AUC Score  Average Precision  F1 Score  Precision  Recall Samples In Train Samples In Test                                                                                      Model Description Column Predicted Num Features Used                                                                                                    Data and Split Description Normalized Num Features Normalized Feature Extraction Was Untested Data Predicted\n",
      "0  ErY5lgEWjd77z  2019-07-28  22:51:08  random_forest_classification  Hamed        2           0.998     0.998              1.0        1.0                0.998     0.999      0.996   192000           48000           Random Forest: n_estimators=361, max_features=auto, criterion=entropy, min_samples_leaf=13, n_jobs=-1  class_label      12                {'experiment_id': 'r1dd37mcxv5pf4', 'random_state': 1, 'live_volume': 0.0, 'dead_volume': 105.0, 'stain': 'SYTOX Red Stain'}  True       12                      False              False                     \n",
      "\n",
      "Run finished at 22:51:47. Total run time = 38.75 seconds\n",
      "^^^^^^^^^^^^^^^^^^^^^^^^^^^^^^^^^^^^^^^^^^^^^^^^^^^^^^^^^^^^^^^^^^^^^^^^^^^^^^^^^^^^^^^^^^^^^^^^^^^^\n",
      "\n",
      "\n",
      "\n",
      "\n",
      "HI\n",
      "{'experiment_id': 'r1dd37mcxv5pf4', 'random_state': 1, 'live_volume': 0.0, 'dead_volume': 105.0, 'stain': None}\n",
      "data_columns: ['Container Type', 'Control', 'Culture_Volume', 'Media', 'Replicate', 'Storage (C)', 'Strain', 'checksum', 'filename', 'kill', 'kill_volume', 'plate_id', 'source', 'stain', 'well', 'experiment_id', 'Time', 'FSC-A', 'SSC-A', 'BL1-A', 'RL1-A', 'FSC-H', 'SSC-H', 'BL1-H', 'RL1-H', 'FSC-W', 'SSC-W', 'BL1-W', 'RL1-W']\n"
     ]
    },
    {
     "name": "stderr",
     "output_type": "stream",
     "text": [
      "/Users/danbryce/Documents/sift/xplan/external/xplan/xplan-to-autoprotocol-reactor/xplan-dev-env/xplan-dev-env/lib/python3.7/site-packages/pandas/core/indexing.py:480: SettingWithCopyWarning: \n",
      "A value is trying to be set on a copy of a slice from a DataFrame.\n",
      "Try using .loc[row_indexer,col_indexer] = value instead\n",
      "\n",
      "See the caveats in the documentation: http://pandas.pydata.org/pandas-docs/stable/user_guide/indexing.html#returning-a-view-versus-a-copy\n",
      "  self.obj[item] = s\n"
     ]
    },
    {
     "name": "stdout",
     "output_type": "stream",
     "text": [
      "['FSC-A', 'SSC-A', 'BL1-A', 'RL1-A', 'FSC-H', 'SSC-H', 'BL1-H', 'RL1-H', 'FSC-W', 'SSC-W', 'BL1-W', 'RL1-W']\n",
      "\n",
      "<harness.test_harness_class.TestHarness object at 0x203d73470>\n"
     ]
    },
    {
     "name": "stderr",
     "output_type": "stream",
     "text": [
      "/Users/danbryce/Documents/sift/xplan/external/xplan/xplan-to-autoprotocol-reactor/xplan-dev-env/xplan-dev-env/lib/python3.7/site-packages/pandas/core/indexing.py:362: SettingWithCopyWarning: \n",
      "A value is trying to be set on a copy of a slice from a DataFrame.\n",
      "Try using .loc[row_indexer,col_indexer] = value instead\n",
      "\n",
      "See the caveats in the documentation: http://pandas.pydata.org/pandas-docs/stable/user_guide/indexing.html#returning-a-view-versus-a-copy\n",
      "  self.obj[key] = _infer_fill_value(value)\n"
     ]
    },
    {
     "name": "stdout",
     "output_type": "stream",
     "text": [
      "HI\n",
      "----------------------------------------------------------------------------------------------------\n",
      "Starting run at time 22:51:53\n",
      "Normalizing training and testing splits...\n",
      "Starting Classification training...\n",
      "Training time was: 41.05 seconds\n",
      "Testing time was: 1.07 seconds\n",
      "\n",
      "          Run ID        Date      Time                    Model Name Model Author Num Classes  Accuracy  Balanced Accuracy  AUC Score  Average Precision  F1 Score  Precision  Recall Samples In Train Samples In Test                                                                                      Model Description Column Predicted Num Features Used                                                                                       Data and Split Description Normalized Num Features Normalized Feature Extraction Was Untested Data Predicted\n",
      "0  6bRZxRZWkOJXW  2019-07-28  22:51:53  random_forest_classification  Hamed        2           0.936     0.936              0.983      0.982              0.937     0.924      0.95    192000           48000           Random Forest: n_estimators=361, max_features=auto, criterion=entropy, min_samples_leaf=13, n_jobs=-1  class_label      12                {'experiment_id': 'r1dd37mcxv5pf4', 'random_state': 1, 'live_volume': 0.0, 'dead_volume': 105.0, 'stain': None}  True       12                      False              False                     \n",
      "\n",
      "Run finished at 22:52:36. Total run time = 43.75 seconds\n",
      "^^^^^^^^^^^^^^^^^^^^^^^^^^^^^^^^^^^^^^^^^^^^^^^^^^^^^^^^^^^^^^^^^^^^^^^^^^^^^^^^^^^^^^^^^^^^^^^^^^^^\n",
      "\n",
      "\n",
      "\n",
      "\n",
      "HI\n",
      "{'experiment_id': 'r1dd37mcxv5pf4', 'random_state': 1, 'live_volume': 0.0, 'dead_volume': 64.0, 'stain': 'SYTOX Red Stain'}\n",
      "data_columns: ['Container Type', 'Control', 'Culture_Volume', 'Media', 'Replicate', 'Storage (C)', 'Strain', 'checksum', 'filename', 'kill', 'kill_volume', 'plate_id', 'source', 'stain', 'well', 'experiment_id', 'Time', 'FSC-A', 'SSC-A', 'BL1-A', 'RL1-A', 'FSC-H', 'SSC-H', 'BL1-H', 'RL1-H', 'FSC-W', 'SSC-W', 'BL1-W', 'RL1-W']\n"
     ]
    },
    {
     "name": "stderr",
     "output_type": "stream",
     "text": [
      "/Users/danbryce/Documents/sift/xplan/external/xplan/xplan-to-autoprotocol-reactor/xplan-dev-env/xplan-dev-env/lib/python3.7/site-packages/pandas/core/indexing.py:480: SettingWithCopyWarning: \n",
      "A value is trying to be set on a copy of a slice from a DataFrame.\n",
      "Try using .loc[row_indexer,col_indexer] = value instead\n",
      "\n",
      "See the caveats in the documentation: http://pandas.pydata.org/pandas-docs/stable/user_guide/indexing.html#returning-a-view-versus-a-copy\n",
      "  self.obj[item] = s\n"
     ]
    },
    {
     "name": "stdout",
     "output_type": "stream",
     "text": [
      "['FSC-A', 'SSC-A', 'BL1-A', 'RL1-A', 'FSC-H', 'SSC-H', 'BL1-H', 'RL1-H', 'FSC-W', 'SSC-W', 'BL1-W', 'RL1-W']\n",
      "\n",
      "<harness.test_harness_class.TestHarness object at 0x19da248d0>\n"
     ]
    },
    {
     "name": "stderr",
     "output_type": "stream",
     "text": [
      "/Users/danbryce/Documents/sift/xplan/external/xplan/xplan-to-autoprotocol-reactor/xplan-dev-env/xplan-dev-env/lib/python3.7/site-packages/pandas/core/indexing.py:362: SettingWithCopyWarning: \n",
      "A value is trying to be set on a copy of a slice from a DataFrame.\n",
      "Try using .loc[row_indexer,col_indexer] = value instead\n",
      "\n",
      "See the caveats in the documentation: http://pandas.pydata.org/pandas-docs/stable/user_guide/indexing.html#returning-a-view-versus-a-copy\n",
      "  self.obj[key] = _infer_fill_value(value)\n"
     ]
    },
    {
     "name": "stdout",
     "output_type": "stream",
     "text": [
      "HI\n",
      "----------------------------------------------------------------------------------------------------\n",
      "Starting run at time 22:52:42\n",
      "Normalizing training and testing splits...\n",
      "Starting Classification training...\n",
      "Training time was: 47.55 seconds\n",
      "Testing time was: 1.28 seconds\n",
      "\n",
      "          Run ID        Date      Time                    Model Name Model Author Num Classes  Accuracy  Balanced Accuracy  AUC Score  Average Precision  F1 Score  Precision  Recall Samples In Train Samples In Test                                                                                      Model Description Column Predicted Num Features Used                                                                                                   Data and Split Description Normalized Num Features Normalized Feature Extraction Was Untested Data Predicted\n",
      "0  Qgve9m768OQR7  2019-07-28  22:52:42  random_forest_classification  Hamed        2           0.856     0.856              0.926      0.908              0.864     0.82       0.912   192000           48000           Random Forest: n_estimators=361, max_features=auto, criterion=entropy, min_samples_leaf=13, n_jobs=-1  class_label      12                {'experiment_id': 'r1dd37mcxv5pf4', 'random_state': 1, 'live_volume': 0.0, 'dead_volume': 64.0, 'stain': 'SYTOX Red Stain'}  True       12                      False              False                     \n",
      "\n",
      "Run finished at 22:53:33. Total run time = 50.61 seconds\n",
      "^^^^^^^^^^^^^^^^^^^^^^^^^^^^^^^^^^^^^^^^^^^^^^^^^^^^^^^^^^^^^^^^^^^^^^^^^^^^^^^^^^^^^^^^^^^^^^^^^^^^\n",
      "\n",
      "\n",
      "\n",
      "\n",
      "HI\n",
      "{'experiment_id': 'r1dd37mcxv5pf4', 'random_state': 1, 'live_volume': 0.0, 'dead_volume': 64.0, 'stain': None}\n"
     ]
    },
    {
     "name": "stderr",
     "output_type": "stream",
     "text": [
      "/Users/danbryce/Documents/sift/xplan/external/xplan/xplan-to-autoprotocol-reactor/xplan-dev-env/xplan-dev-env/lib/python3.7/site-packages/pandas/core/indexing.py:480: SettingWithCopyWarning: \n",
      "A value is trying to be set on a copy of a slice from a DataFrame.\n",
      "Try using .loc[row_indexer,col_indexer] = value instead\n",
      "\n",
      "See the caveats in the documentation: http://pandas.pydata.org/pandas-docs/stable/user_guide/indexing.html#returning-a-view-versus-a-copy\n",
      "  self.obj[item] = s\n"
     ]
    },
    {
     "name": "stdout",
     "output_type": "stream",
     "text": [
      "data_columns: ['Container Type', 'Control', 'Culture_Volume', 'Media', 'Replicate', 'Storage (C)', 'Strain', 'checksum', 'filename', 'kill', 'kill_volume', 'plate_id', 'source', 'stain', 'well', 'experiment_id', 'Time', 'FSC-A', 'SSC-A', 'BL1-A', 'RL1-A', 'FSC-H', 'SSC-H', 'BL1-H', 'RL1-H', 'FSC-W', 'SSC-W', 'BL1-W', 'RL1-W']\n",
      "['FSC-A', 'SSC-A', 'BL1-A', 'RL1-A', 'FSC-H', 'SSC-H', 'BL1-H', 'RL1-H', 'FSC-W', 'SSC-W', 'BL1-W', 'RL1-W']\n",
      "\n",
      "<harness.test_harness_class.TestHarness object at 0x1817e18d0>\n"
     ]
    },
    {
     "name": "stderr",
     "output_type": "stream",
     "text": [
      "/Users/danbryce/Documents/sift/xplan/external/xplan/xplan-to-autoprotocol-reactor/xplan-dev-env/xplan-dev-env/lib/python3.7/site-packages/pandas/core/indexing.py:362: SettingWithCopyWarning: \n",
      "A value is trying to be set on a copy of a slice from a DataFrame.\n",
      "Try using .loc[row_indexer,col_indexer] = value instead\n",
      "\n",
      "See the caveats in the documentation: http://pandas.pydata.org/pandas-docs/stable/user_guide/indexing.html#returning-a-view-versus-a-copy\n",
      "  self.obj[key] = _infer_fill_value(value)\n"
     ]
    },
    {
     "name": "stdout",
     "output_type": "stream",
     "text": [
      "HI\n",
      "----------------------------------------------------------------------------------------------------\n",
      "Starting run at time 22:53:39\n",
      "Normalizing training and testing splits...\n",
      "Starting Classification training...\n",
      "Training time was: 43.51 seconds\n",
      "Testing time was: 1.30 seconds\n",
      "\n",
      "          Run ID        Date      Time                    Model Name Model Author Num Classes  Accuracy  Balanced Accuracy  AUC Score  Average Precision  F1 Score  Precision  Recall Samples In Train Samples In Test                                                                                      Model Description Column Predicted Num Features Used                                                                                      Data and Split Description Normalized Num Features Normalized Feature Extraction Was Untested Data Predicted\n",
      "0  QoWayr61rrRND  2019-07-28  22:53:39  random_forest_classification  Hamed        2           0.795     0.795              0.875      0.858              0.805     0.766      0.848   192000           48000           Random Forest: n_estimators=361, max_features=auto, criterion=entropy, min_samples_leaf=13, n_jobs=-1  class_label      12                {'experiment_id': 'r1dd37mcxv5pf4', 'random_state': 1, 'live_volume': 0.0, 'dead_volume': 64.0, 'stain': None}  True       12                      False              False                     \n",
      "\n",
      "Run finished at 22:54:26. Total run time = 46.52 seconds\n",
      "^^^^^^^^^^^^^^^^^^^^^^^^^^^^^^^^^^^^^^^^^^^^^^^^^^^^^^^^^^^^^^^^^^^^^^^^^^^^^^^^^^^^^^^^^^^^^^^^^^^^\n",
      "\n",
      "\n",
      "\n",
      "\n",
      "HI\n",
      "{'experiment_id': 'r1dd37mcxv5pf4', 'random_state': 1, 'live_volume': 0.0, 'dead_volume': 29, 'stain': 'SYTOX Red Stain'}\n",
      "data_columns: ['Container Type', 'Control', 'Culture_Volume', 'Media', 'Replicate', 'Storage (C)', 'Strain', 'checksum', 'filename', 'kill', 'kill_volume', 'plate_id', 'source', 'stain', 'well', 'experiment_id', 'Time', 'FSC-A', 'SSC-A', 'BL1-A', 'RL1-A', 'FSC-H', 'SSC-H', 'BL1-H', 'RL1-H', 'FSC-W', 'SSC-W', 'BL1-W', 'RL1-W']\n"
     ]
    },
    {
     "name": "stderr",
     "output_type": "stream",
     "text": [
      "/Users/danbryce/Documents/sift/xplan/external/xplan/xplan-to-autoprotocol-reactor/xplan-dev-env/xplan-dev-env/lib/python3.7/site-packages/pandas/core/indexing.py:480: SettingWithCopyWarning: \n",
      "A value is trying to be set on a copy of a slice from a DataFrame.\n",
      "Try using .loc[row_indexer,col_indexer] = value instead\n",
      "\n",
      "See the caveats in the documentation: http://pandas.pydata.org/pandas-docs/stable/user_guide/indexing.html#returning-a-view-versus-a-copy\n",
      "  self.obj[item] = s\n"
     ]
    },
    {
     "name": "stdout",
     "output_type": "stream",
     "text": [
      "['FSC-A', 'SSC-A', 'BL1-A', 'RL1-A', 'FSC-H', 'SSC-H', 'BL1-H', 'RL1-H', 'FSC-W', 'SSC-W', 'BL1-W', 'RL1-W']\n",
      "\n",
      "<harness.test_harness_class.TestHarness object at 0x181d95c50>\n"
     ]
    },
    {
     "name": "stderr",
     "output_type": "stream",
     "text": [
      "/Users/danbryce/Documents/sift/xplan/external/xplan/xplan-to-autoprotocol-reactor/xplan-dev-env/xplan-dev-env/lib/python3.7/site-packages/pandas/core/indexing.py:362: SettingWithCopyWarning: \n",
      "A value is trying to be set on a copy of a slice from a DataFrame.\n",
      "Try using .loc[row_indexer,col_indexer] = value instead\n",
      "\n",
      "See the caveats in the documentation: http://pandas.pydata.org/pandas-docs/stable/user_guide/indexing.html#returning-a-view-versus-a-copy\n",
      "  self.obj[key] = _infer_fill_value(value)\n"
     ]
    },
    {
     "name": "stdout",
     "output_type": "stream",
     "text": [
      "HI\n",
      "----------------------------------------------------------------------------------------------------\n",
      "Starting run at time 22:54:32\n",
      "Normalizing training and testing splits...\n",
      "Starting Classification training...\n",
      "Training time was: 53.83 seconds\n",
      "Testing time was: 1.58 seconds\n",
      "\n",
      "          Run ID        Date      Time                    Model Name Model Author Num Classes  Accuracy  Balanced Accuracy  AUC Score  Average Precision  F1 Score  Precision  Recall Samples In Train Samples In Test                                                                                      Model Description Column Predicted Num Features Used                                                                                                 Data and Split Description Normalized Num Features Normalized Feature Extraction Was Untested Data Predicted\n",
      "0  EQAxyAAR7mWLM  2019-07-28  22:54:32  random_forest_classification  Hamed        2           0.648     0.648              0.709      0.675              0.673     0.628      0.725   192000           48000           Random Forest: n_estimators=361, max_features=auto, criterion=entropy, min_samples_leaf=13, n_jobs=-1  class_label      12                {'experiment_id': 'r1dd37mcxv5pf4', 'random_state': 1, 'live_volume': 0.0, 'dead_volume': 29, 'stain': 'SYTOX Red Stain'}  True       12                      False              False                     \n",
      "\n",
      "Run finished at 22:55:29. Total run time = 57.08 seconds\n",
      "^^^^^^^^^^^^^^^^^^^^^^^^^^^^^^^^^^^^^^^^^^^^^^^^^^^^^^^^^^^^^^^^^^^^^^^^^^^^^^^^^^^^^^^^^^^^^^^^^^^^\n",
      "\n",
      "\n",
      "\n",
      "\n",
      "HI\n",
      "{'experiment_id': 'r1dd37mcxv5pf4', 'random_state': 1, 'live_volume': 0.0, 'dead_volume': 29, 'stain': None}\n",
      "data_columns: ['Container Type', 'Control', 'Culture_Volume', 'Media', 'Replicate', 'Storage (C)', 'Strain', 'checksum', 'filename', 'kill', 'kill_volume', 'plate_id', 'source', 'stain', 'well', 'experiment_id', 'Time', 'FSC-A', 'SSC-A', 'BL1-A', 'RL1-A', 'FSC-H', 'SSC-H', 'BL1-H', 'RL1-H', 'FSC-W', 'SSC-W', 'BL1-W', 'RL1-W']\n"
     ]
    },
    {
     "name": "stderr",
     "output_type": "stream",
     "text": [
      "/Users/danbryce/Documents/sift/xplan/external/xplan/xplan-to-autoprotocol-reactor/xplan-dev-env/xplan-dev-env/lib/python3.7/site-packages/pandas/core/indexing.py:480: SettingWithCopyWarning: \n",
      "A value is trying to be set on a copy of a slice from a DataFrame.\n",
      "Try using .loc[row_indexer,col_indexer] = value instead\n",
      "\n",
      "See the caveats in the documentation: http://pandas.pydata.org/pandas-docs/stable/user_guide/indexing.html#returning-a-view-versus-a-copy\n",
      "  self.obj[item] = s\n"
     ]
    },
    {
     "name": "stdout",
     "output_type": "stream",
     "text": [
      "['FSC-A', 'SSC-A', 'BL1-A', 'RL1-A', 'FSC-H', 'SSC-H', 'BL1-H', 'RL1-H', 'FSC-W', 'SSC-W', 'BL1-W', 'RL1-W']\n",
      "\n",
      "<harness.test_harness_class.TestHarness object at 0x181d97f28>\n"
     ]
    },
    {
     "name": "stderr",
     "output_type": "stream",
     "text": [
      "/Users/danbryce/Documents/sift/xplan/external/xplan/xplan-to-autoprotocol-reactor/xplan-dev-env/xplan-dev-env/lib/python3.7/site-packages/pandas/core/indexing.py:362: SettingWithCopyWarning: \n",
      "A value is trying to be set on a copy of a slice from a DataFrame.\n",
      "Try using .loc[row_indexer,col_indexer] = value instead\n",
      "\n",
      "See the caveats in the documentation: http://pandas.pydata.org/pandas-docs/stable/user_guide/indexing.html#returning-a-view-versus-a-copy\n",
      "  self.obj[key] = _infer_fill_value(value)\n"
     ]
    },
    {
     "name": "stdout",
     "output_type": "stream",
     "text": [
      "HI\n",
      "----------------------------------------------------------------------------------------------------\n",
      "Starting run at time 22:55:35\n",
      "Normalizing training and testing splits...\n",
      "Starting Classification training...\n",
      "Training time was: 47.24 seconds\n",
      "Testing time was: 1.49 seconds\n",
      "\n",
      "          Run ID        Date      Time                    Model Name Model Author Num Classes  Accuracy  Balanced Accuracy  AUC Score  Average Precision  F1 Score  Precision  Recall Samples In Train Samples In Test                                                                                      Model Description Column Predicted Num Features Used                                                                                    Data and Split Description Normalized Num Features Normalized Feature Extraction Was Untested Data Predicted\n",
      "0  6qlaX1vrdlqEY  2019-07-28  22:55:35  random_forest_classification  Hamed        2           0.634     0.634              0.687      0.672              0.637     0.631      0.644   192000           48000           Random Forest: n_estimators=361, max_features=auto, criterion=entropy, min_samples_leaf=13, n_jobs=-1  class_label      12                {'experiment_id': 'r1dd37mcxv5pf4', 'random_state': 1, 'live_volume': 0.0, 'dead_volume': 29, 'stain': None}  True       12                      False              False                     \n",
      "\n",
      "Run finished at 22:56:26. Total run time = 50.50 seconds\n",
      "^^^^^^^^^^^^^^^^^^^^^^^^^^^^^^^^^^^^^^^^^^^^^^^^^^^^^^^^^^^^^^^^^^^^^^^^^^^^^^^^^^^^^^^^^^^^^^^^^^^^\n",
      "\n",
      "\n",
      "\n",
      "\n",
      "HI\n",
      "{'experiment_id': 'r1dd37mcxv5pf4', 'random_state': 2, 'live_volume': 0.0, 'dead_volume': 980.0, 'stain': 'SYTOX Red Stain'}\n",
      "data_columns: ['Container Type', 'Control', 'Culture_Volume', 'Media', 'Replicate', 'Storage (C)', 'Strain', 'checksum', 'filename', 'kill', 'kill_volume', 'plate_id', 'source', 'stain', 'well', 'experiment_id', 'Time', 'FSC-A', 'SSC-A', 'BL1-A', 'RL1-A', 'FSC-H', 'SSC-H', 'BL1-H', 'RL1-H', 'FSC-W', 'SSC-W', 'BL1-W', 'RL1-W']\n"
     ]
    },
    {
     "name": "stderr",
     "output_type": "stream",
     "text": [
      "/Users/danbryce/Documents/sift/xplan/external/xplan/xplan-to-autoprotocol-reactor/xplan-dev-env/xplan-dev-env/lib/python3.7/site-packages/pandas/core/indexing.py:480: SettingWithCopyWarning: \n",
      "A value is trying to be set on a copy of a slice from a DataFrame.\n",
      "Try using .loc[row_indexer,col_indexer] = value instead\n",
      "\n",
      "See the caveats in the documentation: http://pandas.pydata.org/pandas-docs/stable/user_guide/indexing.html#returning-a-view-versus-a-copy\n",
      "  self.obj[item] = s\n"
     ]
    },
    {
     "name": "stdout",
     "output_type": "stream",
     "text": [
      "['FSC-A', 'SSC-A', 'BL1-A', 'RL1-A', 'FSC-H', 'SSC-H', 'BL1-H', 'RL1-H', 'FSC-W', 'SSC-W', 'BL1-W', 'RL1-W']\n",
      "\n",
      "<harness.test_harness_class.TestHarness object at 0x17a172278>\n"
     ]
    },
    {
     "name": "stderr",
     "output_type": "stream",
     "text": [
      "/Users/danbryce/Documents/sift/xplan/external/xplan/xplan-to-autoprotocol-reactor/xplan-dev-env/xplan-dev-env/lib/python3.7/site-packages/pandas/core/indexing.py:362: SettingWithCopyWarning: \n",
      "A value is trying to be set on a copy of a slice from a DataFrame.\n",
      "Try using .loc[row_indexer,col_indexer] = value instead\n",
      "\n",
      "See the caveats in the documentation: http://pandas.pydata.org/pandas-docs/stable/user_guide/indexing.html#returning-a-view-versus-a-copy\n",
      "  self.obj[key] = _infer_fill_value(value)\n"
     ]
    },
    {
     "name": "stdout",
     "output_type": "stream",
     "text": [
      "HI\n",
      "----------------------------------------------------------------------------------------------------\n",
      "Starting run at time 22:56:31\n",
      "Normalizing training and testing splits...\n",
      "Starting Classification training...\n",
      "Training time was: 31.03 seconds\n",
      "Testing time was: 0.68 seconds\n",
      "\n",
      "          Run ID        Date      Time                    Model Name Model Author Num Classes  Accuracy  Balanced Accuracy  AUC Score  Average Precision  F1 Score  Precision  Recall Samples In Train Samples In Test                                                                                      Model Description Column Predicted Num Features Used                                                                                                    Data and Split Description Normalized Num Features Normalized Feature Extraction Was Untested Data Predicted\n",
      "0  5poMzPyykqYky  2019-07-28  22:56:31  random_forest_classification  Hamed        2           0.998     0.998              1.0        1.0                0.998     0.998      0.998   192000           48000           Random Forest: n_estimators=361, max_features=auto, criterion=entropy, min_samples_leaf=13, n_jobs=-1  class_label      12                {'experiment_id': 'r1dd37mcxv5pf4', 'random_state': 2, 'live_volume': 0.0, 'dead_volume': 980.0, 'stain': 'SYTOX Red Stain'}  True       12                      False              False                     \n",
      "\n",
      "Run finished at 22:57:05. Total run time = 33.43 seconds\n",
      "^^^^^^^^^^^^^^^^^^^^^^^^^^^^^^^^^^^^^^^^^^^^^^^^^^^^^^^^^^^^^^^^^^^^^^^^^^^^^^^^^^^^^^^^^^^^^^^^^^^^\n",
      "\n",
      "\n",
      "\n",
      "\n",
      "HI\n",
      "{'experiment_id': 'r1dd37mcxv5pf4', 'random_state': 2, 'live_volume': 0.0, 'dead_volume': 980.0, 'stain': None}\n",
      "data_columns: ['Container Type', 'Control', 'Culture_Volume', 'Media', 'Replicate', 'Storage (C)', 'Strain', 'checksum', 'filename', 'kill', 'kill_volume', 'plate_id', 'source', 'stain', 'well', 'experiment_id', 'Time', 'FSC-A', 'SSC-A', 'BL1-A', 'RL1-A', 'FSC-H', 'SSC-H', 'BL1-H', 'RL1-H', 'FSC-W', 'SSC-W', 'BL1-W', 'RL1-W']\n"
     ]
    },
    {
     "name": "stderr",
     "output_type": "stream",
     "text": [
      "/Users/danbryce/Documents/sift/xplan/external/xplan/xplan-to-autoprotocol-reactor/xplan-dev-env/xplan-dev-env/lib/python3.7/site-packages/pandas/core/indexing.py:480: SettingWithCopyWarning: \n",
      "A value is trying to be set on a copy of a slice from a DataFrame.\n",
      "Try using .loc[row_indexer,col_indexer] = value instead\n",
      "\n",
      "See the caveats in the documentation: http://pandas.pydata.org/pandas-docs/stable/user_guide/indexing.html#returning-a-view-versus-a-copy\n",
      "  self.obj[item] = s\n"
     ]
    },
    {
     "name": "stdout",
     "output_type": "stream",
     "text": [
      "['FSC-A', 'SSC-A', 'BL1-A', 'RL1-A', 'FSC-H', 'SSC-H', 'BL1-H', 'RL1-H', 'FSC-W', 'SSC-W', 'BL1-W', 'RL1-W']\n",
      "\n",
      "<harness.test_harness_class.TestHarness object at 0x1c9faf2b0>\n"
     ]
    },
    {
     "name": "stderr",
     "output_type": "stream",
     "text": [
      "/Users/danbryce/Documents/sift/xplan/external/xplan/xplan-to-autoprotocol-reactor/xplan-dev-env/xplan-dev-env/lib/python3.7/site-packages/pandas/core/indexing.py:362: SettingWithCopyWarning: \n",
      "A value is trying to be set on a copy of a slice from a DataFrame.\n",
      "Try using .loc[row_indexer,col_indexer] = value instead\n",
      "\n",
      "See the caveats in the documentation: http://pandas.pydata.org/pandas-docs/stable/user_guide/indexing.html#returning-a-view-versus-a-copy\n",
      "  self.obj[key] = _infer_fill_value(value)\n"
     ]
    },
    {
     "name": "stdout",
     "output_type": "stream",
     "text": [
      "HI\n",
      "----------------------------------------------------------------------------------------------------\n",
      "Starting run at time 22:57:11\n",
      "Normalizing training and testing splits...\n",
      "Starting Classification training...\n",
      "Training time was: 35.37 seconds\n",
      "Testing time was: 0.67 seconds\n",
      "\n",
      "          Run ID        Date      Time                    Model Name Model Author Num Classes  Accuracy  Balanced Accuracy  AUC Score  Average Precision  F1 Score  Precision  Recall Samples In Train Samples In Test                                                                                      Model Description Column Predicted Num Features Used                                                                                       Data and Split Description Normalized Num Features Normalized Feature Extraction Was Untested Data Predicted\n",
      "0  ENqbYVoGj223Y  2019-07-28  22:57:11  random_forest_classification  Hamed        2           0.995     0.995              1.0        1.0                0.995     0.993      0.997   192000           48000           Random Forest: n_estimators=361, max_features=auto, criterion=entropy, min_samples_leaf=13, n_jobs=-1  class_label      12                {'experiment_id': 'r1dd37mcxv5pf4', 'random_state': 2, 'live_volume': 0.0, 'dead_volume': 980.0, 'stain': None}  True       12                      False              False                     \n",
      "\n",
      "Run finished at 22:57:49. Total run time = 37.77 seconds\n",
      "^^^^^^^^^^^^^^^^^^^^^^^^^^^^^^^^^^^^^^^^^^^^^^^^^^^^^^^^^^^^^^^^^^^^^^^^^^^^^^^^^^^^^^^^^^^^^^^^^^^^\n",
      "\n",
      "\n",
      "\n",
      "\n",
      "HI\n",
      "{'experiment_id': 'r1dd37mcxv5pf4', 'random_state': 2, 'live_volume': 0.0, 'dead_volume': 570.0, 'stain': 'SYTOX Red Stain'}\n",
      "data_columns: ['Container Type', 'Control', 'Culture_Volume', 'Media', 'Replicate', 'Storage (C)', 'Strain', 'checksum', 'filename', 'kill', 'kill_volume', 'plate_id', 'source', 'stain', 'well', 'experiment_id', 'Time', 'FSC-A', 'SSC-A', 'BL1-A', 'RL1-A', 'FSC-H', 'SSC-H', 'BL1-H', 'RL1-H', 'FSC-W', 'SSC-W', 'BL1-W', 'RL1-W']\n"
     ]
    },
    {
     "name": "stderr",
     "output_type": "stream",
     "text": [
      "/Users/danbryce/Documents/sift/xplan/external/xplan/xplan-to-autoprotocol-reactor/xplan-dev-env/xplan-dev-env/lib/python3.7/site-packages/pandas/core/indexing.py:480: SettingWithCopyWarning: \n",
      "A value is trying to be set on a copy of a slice from a DataFrame.\n",
      "Try using .loc[row_indexer,col_indexer] = value instead\n",
      "\n",
      "See the caveats in the documentation: http://pandas.pydata.org/pandas-docs/stable/user_guide/indexing.html#returning-a-view-versus-a-copy\n",
      "  self.obj[item] = s\n"
     ]
    },
    {
     "name": "stdout",
     "output_type": "stream",
     "text": [
      "['FSC-A', 'SSC-A', 'BL1-A', 'RL1-A', 'FSC-H', 'SSC-H', 'BL1-H', 'RL1-H', 'FSC-W', 'SSC-W', 'BL1-W', 'RL1-W']\n",
      "\n",
      "<harness.test_harness_class.TestHarness object at 0x1d2792f28>\n"
     ]
    },
    {
     "name": "stderr",
     "output_type": "stream",
     "text": [
      "/Users/danbryce/Documents/sift/xplan/external/xplan/xplan-to-autoprotocol-reactor/xplan-dev-env/xplan-dev-env/lib/python3.7/site-packages/pandas/core/indexing.py:362: SettingWithCopyWarning: \n",
      "A value is trying to be set on a copy of a slice from a DataFrame.\n",
      "Try using .loc[row_indexer,col_indexer] = value instead\n",
      "\n",
      "See the caveats in the documentation: http://pandas.pydata.org/pandas-docs/stable/user_guide/indexing.html#returning-a-view-versus-a-copy\n",
      "  self.obj[key] = _infer_fill_value(value)\n"
     ]
    },
    {
     "name": "stdout",
     "output_type": "stream",
     "text": [
      "HI\n",
      "----------------------------------------------------------------------------------------------------\n",
      "Starting run at time 22:57:55\n",
      "Normalizing training and testing splits...\n",
      "Starting Classification training...\n",
      "Training time was: 30.60 seconds\n",
      "Testing time was: 0.66 seconds\n",
      "\n",
      "          Run ID        Date      Time                    Model Name Model Author Num Classes  Accuracy  Balanced Accuracy  AUC Score  Average Precision  F1 Score  Precision  Recall Samples In Train Samples In Test                                                                                      Model Description Column Predicted Num Features Used                                                                                                    Data and Split Description Normalized Num Features Normalized Feature Extraction Was Untested Data Predicted\n",
      "0  QyyMNg3VVroj7  2019-07-28  22:57:55  random_forest_classification  Hamed        2           0.998     0.998              1.0        1.0                0.998     0.999      0.996   192000           48000           Random Forest: n_estimators=361, max_features=auto, criterion=entropy, min_samples_leaf=13, n_jobs=-1  class_label      12                {'experiment_id': 'r1dd37mcxv5pf4', 'random_state': 2, 'live_volume': 0.0, 'dead_volume': 570.0, 'stain': 'SYTOX Red Stain'}  True       12                      False              False                     \n",
      "\n",
      "Run finished at 22:58:28. Total run time = 32.98 seconds\n",
      "^^^^^^^^^^^^^^^^^^^^^^^^^^^^^^^^^^^^^^^^^^^^^^^^^^^^^^^^^^^^^^^^^^^^^^^^^^^^^^^^^^^^^^^^^^^^^^^^^^^^\n",
      "\n",
      "\n",
      "\n",
      "\n",
      "HI\n",
      "{'experiment_id': 'r1dd37mcxv5pf4', 'random_state': 2, 'live_volume': 0.0, 'dead_volume': 570.0, 'stain': None}\n",
      "data_columns: ['Container Type', 'Control', 'Culture_Volume', 'Media', 'Replicate', 'Storage (C)', 'Strain', 'checksum', 'filename', 'kill', 'kill_volume', 'plate_id', 'source', 'stain', 'well', 'experiment_id', 'Time', 'FSC-A', 'SSC-A', 'BL1-A', 'RL1-A', 'FSC-H', 'SSC-H', 'BL1-H', 'RL1-H', 'FSC-W', 'SSC-W', 'BL1-W', 'RL1-W']\n"
     ]
    },
    {
     "name": "stderr",
     "output_type": "stream",
     "text": [
      "/Users/danbryce/Documents/sift/xplan/external/xplan/xplan-to-autoprotocol-reactor/xplan-dev-env/xplan-dev-env/lib/python3.7/site-packages/pandas/core/indexing.py:480: SettingWithCopyWarning: \n",
      "A value is trying to be set on a copy of a slice from a DataFrame.\n",
      "Try using .loc[row_indexer,col_indexer] = value instead\n",
      "\n",
      "See the caveats in the documentation: http://pandas.pydata.org/pandas-docs/stable/user_guide/indexing.html#returning-a-view-versus-a-copy\n",
      "  self.obj[item] = s\n"
     ]
    },
    {
     "name": "stdout",
     "output_type": "stream",
     "text": [
      "['FSC-A', 'SSC-A', 'BL1-A', 'RL1-A', 'FSC-H', 'SSC-H', 'BL1-H', 'RL1-H', 'FSC-W', 'SSC-W', 'BL1-W', 'RL1-W']\n",
      "\n",
      "<harness.test_harness_class.TestHarness object at 0x1db3fff28>\n"
     ]
    },
    {
     "name": "stderr",
     "output_type": "stream",
     "text": [
      "/Users/danbryce/Documents/sift/xplan/external/xplan/xplan-to-autoprotocol-reactor/xplan-dev-env/xplan-dev-env/lib/python3.7/site-packages/pandas/core/indexing.py:362: SettingWithCopyWarning: \n",
      "A value is trying to be set on a copy of a slice from a DataFrame.\n",
      "Try using .loc[row_indexer,col_indexer] = value instead\n",
      "\n",
      "See the caveats in the documentation: http://pandas.pydata.org/pandas-docs/stable/user_guide/indexing.html#returning-a-view-versus-a-copy\n",
      "  self.obj[key] = _infer_fill_value(value)\n"
     ]
    },
    {
     "name": "stdout",
     "output_type": "stream",
     "text": [
      "HI\n",
      "----------------------------------------------------------------------------------------------------\n",
      "Starting run at time 22:58:33\n",
      "Normalizing training and testing splits...\n",
      "Starting Classification training...\n",
      "Training time was: 41.11 seconds\n",
      "Testing time was: 0.88 seconds\n",
      "\n",
      "          Run ID        Date      Time                    Model Name Model Author Num Classes  Accuracy  Balanced Accuracy  AUC Score  Average Precision  F1 Score  Precision  Recall Samples In Train Samples In Test                                                                                      Model Description Column Predicted Num Features Used                                                                                       Data and Split Description Normalized Num Features Normalized Feature Extraction Was Untested Data Predicted\n",
      "0  59XApja8Y2Elw  2019-07-28  22:58:33  random_forest_classification  Hamed        2           0.978     0.978              0.997      0.997              0.979     0.973      0.986   183965           45992           Random Forest: n_estimators=361, max_features=auto, criterion=entropy, min_samples_leaf=13, n_jobs=-1  class_label      12                {'experiment_id': 'r1dd37mcxv5pf4', 'random_state': 2, 'live_volume': 0.0, 'dead_volume': 570.0, 'stain': None}  True       12                      False              False                     \n",
      "\n",
      "Run finished at 22:59:17. Total run time = 43.62 seconds\n",
      "^^^^^^^^^^^^^^^^^^^^^^^^^^^^^^^^^^^^^^^^^^^^^^^^^^^^^^^^^^^^^^^^^^^^^^^^^^^^^^^^^^^^^^^^^^^^^^^^^^^^\n",
      "\n",
      "\n",
      "\n",
      "\n",
      "HI\n",
      "{'experiment_id': 'r1dd37mcxv5pf4', 'random_state': 2, 'live_volume': 0.0, 'dead_volume': 370.0, 'stain': 'SYTOX Red Stain'}\n",
      "data_columns: ['Container Type', 'Control', 'Culture_Volume', 'Media', 'Replicate', 'Storage (C)', 'Strain', 'checksum', 'filename', 'kill', 'kill_volume', 'plate_id', 'source', 'stain', 'well', 'experiment_id', 'Time', 'FSC-A', 'SSC-A', 'BL1-A', 'RL1-A', 'FSC-H', 'SSC-H', 'BL1-H', 'RL1-H', 'FSC-W', 'SSC-W', 'BL1-W', 'RL1-W']\n"
     ]
    },
    {
     "name": "stderr",
     "output_type": "stream",
     "text": [
      "/Users/danbryce/Documents/sift/xplan/external/xplan/xplan-to-autoprotocol-reactor/xplan-dev-env/xplan-dev-env/lib/python3.7/site-packages/pandas/core/indexing.py:480: SettingWithCopyWarning: \n",
      "A value is trying to be set on a copy of a slice from a DataFrame.\n",
      "Try using .loc[row_indexer,col_indexer] = value instead\n",
      "\n",
      "See the caveats in the documentation: http://pandas.pydata.org/pandas-docs/stable/user_guide/indexing.html#returning-a-view-versus-a-copy\n",
      "  self.obj[item] = s\n"
     ]
    },
    {
     "name": "stdout",
     "output_type": "stream",
     "text": [
      "['FSC-A', 'SSC-A', 'BL1-A', 'RL1-A', 'FSC-H', 'SSC-H', 'BL1-H', 'RL1-H', 'FSC-W', 'SSC-W', 'BL1-W', 'RL1-W']\n",
      "\n",
      "<harness.test_harness_class.TestHarness object at 0x19d8f8fd0>\n"
     ]
    },
    {
     "name": "stderr",
     "output_type": "stream",
     "text": [
      "/Users/danbryce/Documents/sift/xplan/external/xplan/xplan-to-autoprotocol-reactor/xplan-dev-env/xplan-dev-env/lib/python3.7/site-packages/pandas/core/indexing.py:362: SettingWithCopyWarning: \n",
      "A value is trying to be set on a copy of a slice from a DataFrame.\n",
      "Try using .loc[row_indexer,col_indexer] = value instead\n",
      "\n",
      "See the caveats in the documentation: http://pandas.pydata.org/pandas-docs/stable/user_guide/indexing.html#returning-a-view-versus-a-copy\n",
      "  self.obj[key] = _infer_fill_value(value)\n"
     ]
    },
    {
     "name": "stdout",
     "output_type": "stream",
     "text": [
      "HI\n",
      "----------------------------------------------------------------------------------------------------\n",
      "Starting run at time 22:59:23\n",
      "Normalizing training and testing splits...\n",
      "Starting Classification training...\n",
      "Training time was: 26.16 seconds\n",
      "Testing time was: 0.66 seconds\n",
      "\n",
      "          Run ID        Date      Time                    Model Name Model Author Num Classes  Accuracy  Balanced Accuracy  AUC Score  Average Precision  F1 Score  Precision  Recall Samples In Train Samples In Test                                                                                      Model Description Column Predicted Num Features Used                                                                                                    Data and Split Description Normalized Num Features Normalized Feature Extraction Was Untested Data Predicted\n",
      "0  5MQEX7B7EaNzb  2019-07-28  22:59:23  random_forest_classification  Hamed        2           0.997     0.998              1.0        1.0                0.998     0.999      0.996   175331           43833           Random Forest: n_estimators=361, max_features=auto, criterion=entropy, min_samples_leaf=13, n_jobs=-1  class_label      12                {'experiment_id': 'r1dd37mcxv5pf4', 'random_state': 2, 'live_volume': 0.0, 'dead_volume': 370.0, 'stain': 'SYTOX Red Stain'}  True       12                      False              False                     \n",
      "\n",
      "Run finished at 22:59:51. Total run time = 28.36 seconds\n",
      "^^^^^^^^^^^^^^^^^^^^^^^^^^^^^^^^^^^^^^^^^^^^^^^^^^^^^^^^^^^^^^^^^^^^^^^^^^^^^^^^^^^^^^^^^^^^^^^^^^^^\n",
      "\n",
      "\n",
      "\n",
      "\n",
      "HI\n",
      "{'experiment_id': 'r1dd37mcxv5pf4', 'random_state': 2, 'live_volume': 0.0, 'dead_volume': 370.0, 'stain': None}\n",
      "data_columns: ['Container Type', 'Control', 'Culture_Volume', 'Media', 'Replicate', 'Storage (C)', 'Strain', 'checksum', 'filename', 'kill', 'kill_volume', 'plate_id', 'source', 'stain', 'well', 'experiment_id', 'Time', 'FSC-A', 'SSC-A', 'BL1-A', 'RL1-A', 'FSC-H', 'SSC-H', 'BL1-H', 'RL1-H', 'FSC-W', 'SSC-W', 'BL1-W', 'RL1-W']\n"
     ]
    },
    {
     "name": "stderr",
     "output_type": "stream",
     "text": [
      "/Users/danbryce/Documents/sift/xplan/external/xplan/xplan-to-autoprotocol-reactor/xplan-dev-env/xplan-dev-env/lib/python3.7/site-packages/pandas/core/indexing.py:480: SettingWithCopyWarning: \n",
      "A value is trying to be set on a copy of a slice from a DataFrame.\n",
      "Try using .loc[row_indexer,col_indexer] = value instead\n",
      "\n",
      "See the caveats in the documentation: http://pandas.pydata.org/pandas-docs/stable/user_guide/indexing.html#returning-a-view-versus-a-copy\n",
      "  self.obj[item] = s\n"
     ]
    },
    {
     "name": "stdout",
     "output_type": "stream",
     "text": [
      "['FSC-A', 'SSC-A', 'BL1-A', 'RL1-A', 'FSC-H', 'SSC-H', 'BL1-H', 'RL1-H', 'FSC-W', 'SSC-W', 'BL1-W', 'RL1-W']\n",
      "\n",
      "<harness.test_harness_class.TestHarness object at 0x1d6eb00b8>\n"
     ]
    },
    {
     "name": "stderr",
     "output_type": "stream",
     "text": [
      "/Users/danbryce/Documents/sift/xplan/external/xplan/xplan-to-autoprotocol-reactor/xplan-dev-env/xplan-dev-env/lib/python3.7/site-packages/pandas/core/indexing.py:362: SettingWithCopyWarning: \n",
      "A value is trying to be set on a copy of a slice from a DataFrame.\n",
      "Try using .loc[row_indexer,col_indexer] = value instead\n",
      "\n",
      "See the caveats in the documentation: http://pandas.pydata.org/pandas-docs/stable/user_guide/indexing.html#returning-a-view-versus-a-copy\n",
      "  self.obj[key] = _infer_fill_value(value)\n"
     ]
    },
    {
     "name": "stdout",
     "output_type": "stream",
     "text": [
      "HI\n",
      "----------------------------------------------------------------------------------------------------\n",
      "Starting run at time 22:59:56\n",
      "Normalizing training and testing splits...\n",
      "Starting Classification training...\n",
      "Training time was: 37.35 seconds\n",
      "Testing time was: 0.87 seconds\n",
      "\n",
      "          Run ID        Date      Time                    Model Name Model Author Num Classes  Accuracy  Balanced Accuracy  AUC Score  Average Precision  F1 Score  Precision  Recall Samples In Train Samples In Test                                                                                      Model Description Column Predicted Num Features Used                                                                                       Data and Split Description Normalized Num Features Normalized Feature Extraction Was Untested Data Predicted\n",
      "0  aAk2DZzgReXWw  2019-07-28  22:59:56  random_forest_classification  Hamed        2           0.972     0.97               0.995      0.995              0.976     0.971      0.98    166786           41697           Random Forest: n_estimators=361, max_features=auto, criterion=entropy, min_samples_leaf=13, n_jobs=-1  class_label      12                {'experiment_id': 'r1dd37mcxv5pf4', 'random_state': 2, 'live_volume': 0.0, 'dead_volume': 370.0, 'stain': None}  True       12                      False              False                     \n",
      "\n",
      "Run finished at 23:00:36. Total run time = 39.78 seconds\n",
      "^^^^^^^^^^^^^^^^^^^^^^^^^^^^^^^^^^^^^^^^^^^^^^^^^^^^^^^^^^^^^^^^^^^^^^^^^^^^^^^^^^^^^^^^^^^^^^^^^^^^\n",
      "\n",
      "\n",
      "\n",
      "\n",
      "HI\n",
      "{'experiment_id': 'r1dd37mcxv5pf4', 'random_state': 2, 'live_volume': 0.0, 'dead_volume': 250.0, 'stain': 'SYTOX Red Stain'}\n",
      "data_columns: ['Container Type', 'Control', 'Culture_Volume', 'Media', 'Replicate', 'Storage (C)', 'Strain', 'checksum', 'filename', 'kill', 'kill_volume', 'plate_id', 'source', 'stain', 'well', 'experiment_id', 'Time', 'FSC-A', 'SSC-A', 'BL1-A', 'RL1-A', 'FSC-H', 'SSC-H', 'BL1-H', 'RL1-H', 'FSC-W', 'SSC-W', 'BL1-W', 'RL1-W']\n"
     ]
    },
    {
     "name": "stderr",
     "output_type": "stream",
     "text": [
      "/Users/danbryce/Documents/sift/xplan/external/xplan/xplan-to-autoprotocol-reactor/xplan-dev-env/xplan-dev-env/lib/python3.7/site-packages/pandas/core/indexing.py:480: SettingWithCopyWarning: \n",
      "A value is trying to be set on a copy of a slice from a DataFrame.\n",
      "Try using .loc[row_indexer,col_indexer] = value instead\n",
      "\n",
      "See the caveats in the documentation: http://pandas.pydata.org/pandas-docs/stable/user_guide/indexing.html#returning-a-view-versus-a-copy\n",
      "  self.obj[item] = s\n"
     ]
    },
    {
     "name": "stdout",
     "output_type": "stream",
     "text": [
      "['FSC-A', 'SSC-A', 'BL1-A', 'RL1-A', 'FSC-H', 'SSC-H', 'BL1-H', 'RL1-H', 'FSC-W', 'SSC-W', 'BL1-W', 'RL1-W']\n",
      "\n",
      "<harness.test_harness_class.TestHarness object at 0x273c58eb8>\n"
     ]
    },
    {
     "name": "stderr",
     "output_type": "stream",
     "text": [
      "/Users/danbryce/Documents/sift/xplan/external/xplan/xplan-to-autoprotocol-reactor/xplan-dev-env/xplan-dev-env/lib/python3.7/site-packages/pandas/core/indexing.py:362: SettingWithCopyWarning: \n",
      "A value is trying to be set on a copy of a slice from a DataFrame.\n",
      "Try using .loc[row_indexer,col_indexer] = value instead\n",
      "\n",
      "See the caveats in the documentation: http://pandas.pydata.org/pandas-docs/stable/user_guide/indexing.html#returning-a-view-versus-a-copy\n",
      "  self.obj[key] = _infer_fill_value(value)\n"
     ]
    },
    {
     "name": "stdout",
     "output_type": "stream",
     "text": [
      "HI\n",
      "----------------------------------------------------------------------------------------------------\n",
      "Starting run at time 23:00:41\n",
      "Normalizing training and testing splits...\n",
      "Starting Classification training...\n",
      "Training time was: 26.14 seconds\n",
      "Testing time was: 0.56 seconds\n",
      "\n",
      "         Run ID        Date      Time                    Model Name Model Author Num Classes  Accuracy  Balanced Accuracy  AUC Score  Average Precision  F1 Score  Precision  Recall Samples In Train Samples In Test                                                                                      Model Description Column Predicted Num Features Used                                                                                                    Data and Split Description Normalized Num Features Normalized Feature Extraction Was Untested Data Predicted\n",
      "0  aBGbAX2yomYm  2019-07-28  23:00:41  random_forest_classification  Hamed        2           0.997     0.997              1.0        1.0                0.998     0.999      0.996   147452           36864           Random Forest: n_estimators=361, max_features=auto, criterion=entropy, min_samples_leaf=13, n_jobs=-1  class_label      12                {'experiment_id': 'r1dd37mcxv5pf4', 'random_state': 2, 'live_volume': 0.0, 'dead_volume': 250.0, 'stain': 'SYTOX Red Stain'}  True       12                      False              False                     \n",
      "\n",
      "Run finished at 23:01:09. Total run time = 28.13 seconds\n",
      "^^^^^^^^^^^^^^^^^^^^^^^^^^^^^^^^^^^^^^^^^^^^^^^^^^^^^^^^^^^^^^^^^^^^^^^^^^^^^^^^^^^^^^^^^^^^^^^^^^^^\n",
      "\n",
      "\n",
      "\n",
      "\n",
      "HI\n",
      "{'experiment_id': 'r1dd37mcxv5pf4', 'random_state': 2, 'live_volume': 0.0, 'dead_volume': 250.0, 'stain': None}\n",
      "data_columns: ['Container Type', 'Control', 'Culture_Volume', 'Media', 'Replicate', 'Storage (C)', 'Strain', 'checksum', 'filename', 'kill', 'kill_volume', 'plate_id', 'source', 'stain', 'well', 'experiment_id', 'Time', 'FSC-A', 'SSC-A', 'BL1-A', 'RL1-A', 'FSC-H', 'SSC-H', 'BL1-H', 'RL1-H', 'FSC-W', 'SSC-W', 'BL1-W', 'RL1-W']\n"
     ]
    },
    {
     "name": "stderr",
     "output_type": "stream",
     "text": [
      "/Users/danbryce/Documents/sift/xplan/external/xplan/xplan-to-autoprotocol-reactor/xplan-dev-env/xplan-dev-env/lib/python3.7/site-packages/pandas/core/indexing.py:480: SettingWithCopyWarning: \n",
      "A value is trying to be set on a copy of a slice from a DataFrame.\n",
      "Try using .loc[row_indexer,col_indexer] = value instead\n",
      "\n",
      "See the caveats in the documentation: http://pandas.pydata.org/pandas-docs/stable/user_guide/indexing.html#returning-a-view-versus-a-copy\n",
      "  self.obj[item] = s\n"
     ]
    },
    {
     "name": "stdout",
     "output_type": "stream",
     "text": [
      "['FSC-A', 'SSC-A', 'BL1-A', 'RL1-A', 'FSC-H', 'SSC-H', 'BL1-H', 'RL1-H', 'FSC-W', 'SSC-W', 'BL1-W', 'RL1-W']\n",
      "\n",
      "<harness.test_harness_class.TestHarness object at 0x1c97cdbe0>\n"
     ]
    },
    {
     "name": "stderr",
     "output_type": "stream",
     "text": [
      "/Users/danbryce/Documents/sift/xplan/external/xplan/xplan-to-autoprotocol-reactor/xplan-dev-env/xplan-dev-env/lib/python3.7/site-packages/pandas/core/indexing.py:362: SettingWithCopyWarning: \n",
      "A value is trying to be set on a copy of a slice from a DataFrame.\n",
      "Try using .loc[row_indexer,col_indexer] = value instead\n",
      "\n",
      "See the caveats in the documentation: http://pandas.pydata.org/pandas-docs/stable/user_guide/indexing.html#returning-a-view-versus-a-copy\n",
      "  self.obj[key] = _infer_fill_value(value)\n"
     ]
    },
    {
     "name": "stdout",
     "output_type": "stream",
     "text": [
      "HI\n",
      "----------------------------------------------------------------------------------------------------\n",
      "Starting run at time 23:01:13\n",
      "Normalizing training and testing splits...\n",
      "Starting Classification training...\n",
      "Training time was: 30.24 seconds\n",
      "Testing time was: 0.86 seconds\n",
      "\n",
      "          Run ID        Date      Time                    Model Name Model Author Num Classes  Accuracy  Balanced Accuracy  AUC Score  Average Precision  F1 Score  Precision  Recall Samples In Train Samples In Test                                                                                      Model Description Column Predicted Num Features Used                                                                                       Data and Split Description Normalized Num Features Normalized Feature Extraction Was Untested Data Predicted\n",
      "0  Qoe77yYpWBg1k  2019-07-28  23:01:13  random_forest_classification  Hamed        2           0.961     0.958              0.991      0.995              0.971     0.974      0.968   142361           35591           Random Forest: n_estimators=361, max_features=auto, criterion=entropy, min_samples_leaf=13, n_jobs=-1  class_label      12                {'experiment_id': 'r1dd37mcxv5pf4', 'random_state': 2, 'live_volume': 0.0, 'dead_volume': 250.0, 'stain': None}  True       12                      False              False                     \n",
      "\n",
      "Run finished at 23:01:46. Total run time = 32.48 seconds\n",
      "^^^^^^^^^^^^^^^^^^^^^^^^^^^^^^^^^^^^^^^^^^^^^^^^^^^^^^^^^^^^^^^^^^^^^^^^^^^^^^^^^^^^^^^^^^^^^^^^^^^^\n",
      "\n",
      "\n",
      "\n",
      "\n",
      "HI\n",
      "{'experiment_id': 'r1dd37mcxv5pf4', 'random_state': 2, 'live_volume': 0.0, 'dead_volume': 170.0, 'stain': 'SYTOX Red Stain'}\n",
      "data_columns: ['Container Type', 'Control', 'Culture_Volume', 'Media', 'Replicate', 'Storage (C)', 'Strain', 'checksum', 'filename', 'kill', 'kill_volume', 'plate_id', 'source', 'stain', 'well', 'experiment_id', 'Time', 'FSC-A', 'SSC-A', 'BL1-A', 'RL1-A', 'FSC-H', 'SSC-H', 'BL1-H', 'RL1-H', 'FSC-W', 'SSC-W', 'BL1-W', 'RL1-W']\n"
     ]
    },
    {
     "name": "stderr",
     "output_type": "stream",
     "text": [
      "/Users/danbryce/Documents/sift/xplan/external/xplan/xplan-to-autoprotocol-reactor/xplan-dev-env/xplan-dev-env/lib/python3.7/site-packages/pandas/core/indexing.py:480: SettingWithCopyWarning: \n",
      "A value is trying to be set on a copy of a slice from a DataFrame.\n",
      "Try using .loc[row_indexer,col_indexer] = value instead\n",
      "\n",
      "See the caveats in the documentation: http://pandas.pydata.org/pandas-docs/stable/user_guide/indexing.html#returning-a-view-versus-a-copy\n",
      "  self.obj[item] = s\n"
     ]
    },
    {
     "name": "stdout",
     "output_type": "stream",
     "text": [
      "['FSC-A', 'SSC-A', 'BL1-A', 'RL1-A', 'FSC-H', 'SSC-H', 'BL1-H', 'RL1-H', 'FSC-W', 'SSC-W', 'BL1-W', 'RL1-W']\n",
      "\n",
      "<harness.test_harness_class.TestHarness object at 0x223fdea58>\n"
     ]
    },
    {
     "name": "stderr",
     "output_type": "stream",
     "text": [
      "/Users/danbryce/Documents/sift/xplan/external/xplan/xplan-to-autoprotocol-reactor/xplan-dev-env/xplan-dev-env/lib/python3.7/site-packages/pandas/core/indexing.py:362: SettingWithCopyWarning: \n",
      "A value is trying to be set on a copy of a slice from a DataFrame.\n",
      "Try using .loc[row_indexer,col_indexer] = value instead\n",
      "\n",
      "See the caveats in the documentation: http://pandas.pydata.org/pandas-docs/stable/user_guide/indexing.html#returning-a-view-versus-a-copy\n",
      "  self.obj[key] = _infer_fill_value(value)\n"
     ]
    },
    {
     "name": "stdout",
     "output_type": "stream",
     "text": [
      "HI\n",
      "----------------------------------------------------------------------------------------------------\n",
      "Starting run at time 23:01:52\n",
      "Normalizing training and testing splits...\n",
      "Starting Classification training...\n",
      "Training time was: 43.51 seconds\n",
      "Testing time was: 0.88 seconds\n",
      "\n",
      "          Run ID        Date      Time                    Model Name Model Author Num Classes  Accuracy  Balanced Accuracy  AUC Score  Average Precision  F1 Score  Precision  Recall Samples In Train Samples In Test                                                                                      Model Description Column Predicted Num Features Used                                                                                                    Data and Split Description Normalized Num Features Normalized Feature Extraction Was Untested Data Predicted\n",
      "0  66dg1Q59Qqqz3  2019-07-28  23:01:52  random_forest_classification  Hamed        2           0.997     0.997              1.0        1.0                0.997     0.999      0.996   192000           48000           Random Forest: n_estimators=361, max_features=auto, criterion=entropy, min_samples_leaf=13, n_jobs=-1  class_label      12                {'experiment_id': 'r1dd37mcxv5pf4', 'random_state': 2, 'live_volume': 0.0, 'dead_volume': 170.0, 'stain': 'SYTOX Red Stain'}  True       12                      False              False                     \n",
      "\n",
      "Run finished at 23:02:38. Total run time = 46.14 seconds\n",
      "^^^^^^^^^^^^^^^^^^^^^^^^^^^^^^^^^^^^^^^^^^^^^^^^^^^^^^^^^^^^^^^^^^^^^^^^^^^^^^^^^^^^^^^^^^^^^^^^^^^^\n",
      "\n",
      "\n",
      "\n",
      "\n",
      "HI\n",
      "{'experiment_id': 'r1dd37mcxv5pf4', 'random_state': 2, 'live_volume': 0.0, 'dead_volume': 170.0, 'stain': None}\n",
      "data_columns: ['Container Type', 'Control', 'Culture_Volume', 'Media', 'Replicate', 'Storage (C)', 'Strain', 'checksum', 'filename', 'kill', 'kill_volume', 'plate_id', 'source', 'stain', 'well', 'experiment_id', 'Time', 'FSC-A', 'SSC-A', 'BL1-A', 'RL1-A', 'FSC-H', 'SSC-H', 'BL1-H', 'RL1-H', 'FSC-W', 'SSC-W', 'BL1-W', 'RL1-W']\n"
     ]
    },
    {
     "name": "stderr",
     "output_type": "stream",
     "text": [
      "/Users/danbryce/Documents/sift/xplan/external/xplan/xplan-to-autoprotocol-reactor/xplan-dev-env/xplan-dev-env/lib/python3.7/site-packages/pandas/core/indexing.py:480: SettingWithCopyWarning: \n",
      "A value is trying to be set on a copy of a slice from a DataFrame.\n",
      "Try using .loc[row_indexer,col_indexer] = value instead\n",
      "\n",
      "See the caveats in the documentation: http://pandas.pydata.org/pandas-docs/stable/user_guide/indexing.html#returning-a-view-versus-a-copy\n",
      "  self.obj[item] = s\n"
     ]
    },
    {
     "name": "stdout",
     "output_type": "stream",
     "text": [
      "['FSC-A', 'SSC-A', 'BL1-A', 'RL1-A', 'FSC-H', 'SSC-H', 'BL1-H', 'RL1-H', 'FSC-W', 'SSC-W', 'BL1-W', 'RL1-W']\n",
      "\n",
      "<harness.test_harness_class.TestHarness object at 0x3b18baf60>\n"
     ]
    },
    {
     "name": "stderr",
     "output_type": "stream",
     "text": [
      "/Users/danbryce/Documents/sift/xplan/external/xplan/xplan-to-autoprotocol-reactor/xplan-dev-env/xplan-dev-env/lib/python3.7/site-packages/pandas/core/indexing.py:362: SettingWithCopyWarning: \n",
      "A value is trying to be set on a copy of a slice from a DataFrame.\n",
      "Try using .loc[row_indexer,col_indexer] = value instead\n",
      "\n",
      "See the caveats in the documentation: http://pandas.pydata.org/pandas-docs/stable/user_guide/indexing.html#returning-a-view-versus-a-copy\n",
      "  self.obj[key] = _infer_fill_value(value)\n"
     ]
    },
    {
     "name": "stdout",
     "output_type": "stream",
     "text": [
      "HI\n",
      "----------------------------------------------------------------------------------------------------\n",
      "Starting run at time 23:02:44\n",
      "Normalizing training and testing splits...\n",
      "Starting Classification training...\n",
      "Training time was: 45.97 seconds\n",
      "Testing time was: 1.29 seconds\n",
      "\n",
      "          Run ID        Date      Time                    Model Name Model Author Num Classes  Accuracy  Balanced Accuracy  AUC Score  Average Precision  F1 Score  Precision  Recall Samples In Train Samples In Test                                                                                      Model Description Column Predicted Num Features Used                                                                                       Data and Split Description Normalized Num Features Normalized Feature Extraction Was Untested Data Predicted\n",
      "0  ab7YvvpRm65xB  2019-07-28  23:02:44  random_forest_classification  Hamed        2           0.918     0.918              0.973      0.971              0.919     0.909      0.93    192000           48000           Random Forest: n_estimators=361, max_features=auto, criterion=entropy, min_samples_leaf=13, n_jobs=-1  class_label      12                {'experiment_id': 'r1dd37mcxv5pf4', 'random_state': 2, 'live_volume': 0.0, 'dead_volume': 170.0, 'stain': None}  True       12                      False              False                     \n",
      "\n",
      "Run finished at 23:03:33. Total run time = 49.04 seconds\n",
      "^^^^^^^^^^^^^^^^^^^^^^^^^^^^^^^^^^^^^^^^^^^^^^^^^^^^^^^^^^^^^^^^^^^^^^^^^^^^^^^^^^^^^^^^^^^^^^^^^^^^\n",
      "\n",
      "\n",
      "\n",
      "\n",
      "HI\n",
      "{'experiment_id': 'r1dd37mcxv5pf4', 'random_state': 2, 'live_volume': 0.0, 'dead_volume': 105.0, 'stain': 'SYTOX Red Stain'}\n",
      "data_columns: ['Container Type', 'Control', 'Culture_Volume', 'Media', 'Replicate', 'Storage (C)', 'Strain', 'checksum', 'filename', 'kill', 'kill_volume', 'plate_id', 'source', 'stain', 'well', 'experiment_id', 'Time', 'FSC-A', 'SSC-A', 'BL1-A', 'RL1-A', 'FSC-H', 'SSC-H', 'BL1-H', 'RL1-H', 'FSC-W', 'SSC-W', 'BL1-W', 'RL1-W']\n"
     ]
    },
    {
     "name": "stderr",
     "output_type": "stream",
     "text": [
      "/Users/danbryce/Documents/sift/xplan/external/xplan/xplan-to-autoprotocol-reactor/xplan-dev-env/xplan-dev-env/lib/python3.7/site-packages/pandas/core/indexing.py:480: SettingWithCopyWarning: \n",
      "A value is trying to be set on a copy of a slice from a DataFrame.\n",
      "Try using .loc[row_indexer,col_indexer] = value instead\n",
      "\n",
      "See the caveats in the documentation: http://pandas.pydata.org/pandas-docs/stable/user_guide/indexing.html#returning-a-view-versus-a-copy\n",
      "  self.obj[item] = s\n"
     ]
    },
    {
     "name": "stdout",
     "output_type": "stream",
     "text": [
      "['FSC-A', 'SSC-A', 'BL1-A', 'RL1-A', 'FSC-H', 'SSC-H', 'BL1-H', 'RL1-H', 'FSC-W', 'SSC-W', 'BL1-W', 'RL1-W']\n",
      "\n",
      "<harness.test_harness_class.TestHarness object at 0x30896e198>\n"
     ]
    },
    {
     "name": "stderr",
     "output_type": "stream",
     "text": [
      "/Users/danbryce/Documents/sift/xplan/external/xplan/xplan-to-autoprotocol-reactor/xplan-dev-env/xplan-dev-env/lib/python3.7/site-packages/pandas/core/indexing.py:362: SettingWithCopyWarning: \n",
      "A value is trying to be set on a copy of a slice from a DataFrame.\n",
      "Try using .loc[row_indexer,col_indexer] = value instead\n",
      "\n",
      "See the caveats in the documentation: http://pandas.pydata.org/pandas-docs/stable/user_guide/indexing.html#returning-a-view-versus-a-copy\n",
      "  self.obj[key] = _infer_fill_value(value)\n"
     ]
    },
    {
     "name": "stdout",
     "output_type": "stream",
     "text": [
      "HI\n",
      "----------------------------------------------------------------------------------------------------\n",
      "Starting run at time 23:03:39\n",
      "Normalizing training and testing splits...\n",
      "Starting Classification training...\n",
      "Training time was: 34.23 seconds\n",
      "Testing time was: 0.66 seconds\n",
      "\n",
      "          Run ID        Date      Time                    Model Name Model Author Num Classes  Accuracy  Balanced Accuracy  AUC Score  Average Precision  F1 Score  Precision  Recall Samples In Train Samples In Test                                                                                      Model Description Column Predicted Num Features Used                                                                                                    Data and Split Description Normalized Num Features Normalized Feature Extraction Was Untested Data Predicted\n",
      "0  6ppzvEgMm6XD3  2019-07-28  23:03:39  random_forest_classification  Hamed        2           0.998     0.998              1.0        1.0                0.998     0.999      0.997   192000           48000           Random Forest: n_estimators=361, max_features=auto, criterion=entropy, min_samples_leaf=13, n_jobs=-1  class_label      12                {'experiment_id': 'r1dd37mcxv5pf4', 'random_state': 2, 'live_volume': 0.0, 'dead_volume': 105.0, 'stain': 'SYTOX Red Stain'}  True       12                      False              False                     \n",
      "\n",
      "Run finished at 23:04:16. Total run time = 36.51 seconds\n",
      "^^^^^^^^^^^^^^^^^^^^^^^^^^^^^^^^^^^^^^^^^^^^^^^^^^^^^^^^^^^^^^^^^^^^^^^^^^^^^^^^^^^^^^^^^^^^^^^^^^^^\n",
      "\n",
      "\n",
      "\n",
      "\n",
      "HI\n",
      "{'experiment_id': 'r1dd37mcxv5pf4', 'random_state': 2, 'live_volume': 0.0, 'dead_volume': 105.0, 'stain': None}\n",
      "data_columns: ['Container Type', 'Control', 'Culture_Volume', 'Media', 'Replicate', 'Storage (C)', 'Strain', 'checksum', 'filename', 'kill', 'kill_volume', 'plate_id', 'source', 'stain', 'well', 'experiment_id', 'Time', 'FSC-A', 'SSC-A', 'BL1-A', 'RL1-A', 'FSC-H', 'SSC-H', 'BL1-H', 'RL1-H', 'FSC-W', 'SSC-W', 'BL1-W', 'RL1-W']\n"
     ]
    },
    {
     "name": "stderr",
     "output_type": "stream",
     "text": [
      "/Users/danbryce/Documents/sift/xplan/external/xplan/xplan-to-autoprotocol-reactor/xplan-dev-env/xplan-dev-env/lib/python3.7/site-packages/pandas/core/indexing.py:480: SettingWithCopyWarning: \n",
      "A value is trying to be set on a copy of a slice from a DataFrame.\n",
      "Try using .loc[row_indexer,col_indexer] = value instead\n",
      "\n",
      "See the caveats in the documentation: http://pandas.pydata.org/pandas-docs/stable/user_guide/indexing.html#returning-a-view-versus-a-copy\n",
      "  self.obj[item] = s\n"
     ]
    },
    {
     "name": "stdout",
     "output_type": "stream",
     "text": [
      "['FSC-A', 'SSC-A', 'BL1-A', 'RL1-A', 'FSC-H', 'SSC-H', 'BL1-H', 'RL1-H', 'FSC-W', 'SSC-W', 'BL1-W', 'RL1-W']\n",
      "\n",
      "<harness.test_harness_class.TestHarness object at 0x325de3630>\n"
     ]
    },
    {
     "name": "stderr",
     "output_type": "stream",
     "text": [
      "/Users/danbryce/Documents/sift/xplan/external/xplan/xplan-to-autoprotocol-reactor/xplan-dev-env/xplan-dev-env/lib/python3.7/site-packages/pandas/core/indexing.py:362: SettingWithCopyWarning: \n",
      "A value is trying to be set on a copy of a slice from a DataFrame.\n",
      "Try using .loc[row_indexer,col_indexer] = value instead\n",
      "\n",
      "See the caveats in the documentation: http://pandas.pydata.org/pandas-docs/stable/user_guide/indexing.html#returning-a-view-versus-a-copy\n",
      "  self.obj[key] = _infer_fill_value(value)\n"
     ]
    },
    {
     "name": "stdout",
     "output_type": "stream",
     "text": [
      "HI\n",
      "----------------------------------------------------------------------------------------------------\n",
      "Starting run at time 23:04:22\n",
      "Normalizing training and testing splits...\n",
      "Starting Classification training...\n",
      "Training time was: 42.74 seconds\n",
      "Testing time was: 1.08 seconds\n",
      "\n",
      "          Run ID        Date      Time                    Model Name Model Author Num Classes  Accuracy  Balanced Accuracy  AUC Score  Average Precision  F1 Score  Precision  Recall Samples In Train Samples In Test                                                                                      Model Description Column Predicted Num Features Used                                                                                       Data and Split Description Normalized Num Features Normalized Feature Extraction Was Untested Data Predicted\n",
      "0  6DQz8GmBbXJEY  2019-07-28  23:04:22  random_forest_classification  Hamed        2           0.937     0.937              0.984      0.982              0.938     0.925      0.951   192000           48000           Random Forest: n_estimators=361, max_features=auto, criterion=entropy, min_samples_leaf=13, n_jobs=-1  class_label      12                {'experiment_id': 'r1dd37mcxv5pf4', 'random_state': 2, 'live_volume': 0.0, 'dead_volume': 105.0, 'stain': None}  True       12                      False              False                     \n",
      "\n",
      "Run finished at 23:05:13. Total run time = 50.98 seconds\n",
      "^^^^^^^^^^^^^^^^^^^^^^^^^^^^^^^^^^^^^^^^^^^^^^^^^^^^^^^^^^^^^^^^^^^^^^^^^^^^^^^^^^^^^^^^^^^^^^^^^^^^\n",
      "\n",
      "\n",
      "\n",
      "\n",
      "HI\n",
      "{'experiment_id': 'r1dd37mcxv5pf4', 'random_state': 2, 'live_volume': 0.0, 'dead_volume': 64.0, 'stain': 'SYTOX Red Stain'}\n",
      "data_columns: ['Container Type', 'Control', 'Culture_Volume', 'Media', 'Replicate', 'Storage (C)', 'Strain', 'checksum', 'filename', 'kill', 'kill_volume', 'plate_id', 'source', 'stain', 'well', 'experiment_id', 'Time', 'FSC-A', 'SSC-A', 'BL1-A', 'RL1-A', 'FSC-H', 'SSC-H', 'BL1-H', 'RL1-H', 'FSC-W', 'SSC-W', 'BL1-W', 'RL1-W']\n"
     ]
    },
    {
     "name": "stderr",
     "output_type": "stream",
     "text": [
      "/Users/danbryce/Documents/sift/xplan/external/xplan/xplan-to-autoprotocol-reactor/xplan-dev-env/xplan-dev-env/lib/python3.7/site-packages/pandas/core/indexing.py:480: SettingWithCopyWarning: \n",
      "A value is trying to be set on a copy of a slice from a DataFrame.\n",
      "Try using .loc[row_indexer,col_indexer] = value instead\n",
      "\n",
      "See the caveats in the documentation: http://pandas.pydata.org/pandas-docs/stable/user_guide/indexing.html#returning-a-view-versus-a-copy\n",
      "  self.obj[item] = s\n"
     ]
    },
    {
     "name": "stdout",
     "output_type": "stream",
     "text": [
      "['FSC-A', 'SSC-A', 'BL1-A', 'RL1-A', 'FSC-H', 'SSC-H', 'BL1-H', 'RL1-H', 'FSC-W', 'SSC-W', 'BL1-W', 'RL1-W']\n",
      "\n",
      "<harness.test_harness_class.TestHarness object at 0x325dd8ac8>\n"
     ]
    },
    {
     "name": "stderr",
     "output_type": "stream",
     "text": [
      "/Users/danbryce/Documents/sift/xplan/external/xplan/xplan-to-autoprotocol-reactor/xplan-dev-env/xplan-dev-env/lib/python3.7/site-packages/pandas/core/indexing.py:362: SettingWithCopyWarning: \n",
      "A value is trying to be set on a copy of a slice from a DataFrame.\n",
      "Try using .loc[row_indexer,col_indexer] = value instead\n",
      "\n",
      "See the caveats in the documentation: http://pandas.pydata.org/pandas-docs/stable/user_guide/indexing.html#returning-a-view-versus-a-copy\n",
      "  self.obj[key] = _infer_fill_value(value)\n"
     ]
    },
    {
     "name": "stdout",
     "output_type": "stream",
     "text": [
      "HI\n",
      "----------------------------------------------------------------------------------------------------\n",
      "Starting run at time 23:05:19\n",
      "Normalizing training and testing splits...\n",
      "Starting Classification training...\n",
      "Training time was: 47.26 seconds\n",
      "Testing time was: 1.28 seconds\n",
      "\n",
      "          Run ID        Date      Time                    Model Name Model Author Num Classes  Accuracy  Balanced Accuracy  AUC Score  Average Precision  F1 Score  Precision  Recall Samples In Train Samples In Test                                                                                      Model Description Column Predicted Num Features Used                                                                                                   Data and Split Description Normalized Num Features Normalized Feature Extraction Was Untested Data Predicted\n",
      "0  6aBverGr7OpyJ  2019-07-28  23:05:19  random_forest_classification  Hamed        2           0.858     0.858              0.926      0.907              0.866     0.82       0.918   192000           48000           Random Forest: n_estimators=361, max_features=auto, criterion=entropy, min_samples_leaf=13, n_jobs=-1  class_label      12                {'experiment_id': 'r1dd37mcxv5pf4', 'random_state': 2, 'live_volume': 0.0, 'dead_volume': 64.0, 'stain': 'SYTOX Red Stain'}  True       12                      False              False                     \n",
      "\n",
      "Run finished at 23:06:09. Total run time = 50.21 seconds\n",
      "^^^^^^^^^^^^^^^^^^^^^^^^^^^^^^^^^^^^^^^^^^^^^^^^^^^^^^^^^^^^^^^^^^^^^^^^^^^^^^^^^^^^^^^^^^^^^^^^^^^^\n",
      "\n",
      "\n",
      "\n",
      "\n",
      "HI\n",
      "{'experiment_id': 'r1dd37mcxv5pf4', 'random_state': 2, 'live_volume': 0.0, 'dead_volume': 64.0, 'stain': None}\n",
      "data_columns: ['Container Type', 'Control', 'Culture_Volume', 'Media', 'Replicate', 'Storage (C)', 'Strain', 'checksum', 'filename', 'kill', 'kill_volume', 'plate_id', 'source', 'stain', 'well', 'experiment_id', 'Time', 'FSC-A', 'SSC-A', 'BL1-A', 'RL1-A', 'FSC-H', 'SSC-H', 'BL1-H', 'RL1-H', 'FSC-W', 'SSC-W', 'BL1-W', 'RL1-W']\n"
     ]
    },
    {
     "name": "stderr",
     "output_type": "stream",
     "text": [
      "/Users/danbryce/Documents/sift/xplan/external/xplan/xplan-to-autoprotocol-reactor/xplan-dev-env/xplan-dev-env/lib/python3.7/site-packages/pandas/core/indexing.py:480: SettingWithCopyWarning: \n",
      "A value is trying to be set on a copy of a slice from a DataFrame.\n",
      "Try using .loc[row_indexer,col_indexer] = value instead\n",
      "\n",
      "See the caveats in the documentation: http://pandas.pydata.org/pandas-docs/stable/user_guide/indexing.html#returning-a-view-versus-a-copy\n",
      "  self.obj[item] = s\n"
     ]
    },
    {
     "name": "stdout",
     "output_type": "stream",
     "text": [
      "['FSC-A', 'SSC-A', 'BL1-A', 'RL1-A', 'FSC-H', 'SSC-H', 'BL1-H', 'RL1-H', 'FSC-W', 'SSC-W', 'BL1-W', 'RL1-W']\n",
      "\n",
      "<harness.test_harness_class.TestHarness object at 0x11faa4320>\n"
     ]
    },
    {
     "name": "stderr",
     "output_type": "stream",
     "text": [
      "/Users/danbryce/Documents/sift/xplan/external/xplan/xplan-to-autoprotocol-reactor/xplan-dev-env/xplan-dev-env/lib/python3.7/site-packages/pandas/core/indexing.py:362: SettingWithCopyWarning: \n",
      "A value is trying to be set on a copy of a slice from a DataFrame.\n",
      "Try using .loc[row_indexer,col_indexer] = value instead\n",
      "\n",
      "See the caveats in the documentation: http://pandas.pydata.org/pandas-docs/stable/user_guide/indexing.html#returning-a-view-versus-a-copy\n",
      "  self.obj[key] = _infer_fill_value(value)\n"
     ]
    },
    {
     "name": "stdout",
     "output_type": "stream",
     "text": [
      "HI\n",
      "----------------------------------------------------------------------------------------------------\n",
      "Starting run at time 23:06:15\n",
      "Normalizing training and testing splits...\n",
      "Starting Classification training...\n",
      "Training time was: 42.94 seconds\n",
      "Testing time was: 1.28 seconds\n",
      "\n",
      "          Run ID        Date      Time                    Model Name Model Author Num Classes  Accuracy  Balanced Accuracy  AUC Score  Average Precision  F1 Score  Precision  Recall Samples In Train Samples In Test                                                                                      Model Description Column Predicted Num Features Used                                                                                      Data and Split Description Normalized Num Features Normalized Feature Extraction Was Untested Data Predicted\n",
      "0  Q6V8pRPEYZpao  2019-07-28  23:06:15  random_forest_classification  Hamed        2           0.795     0.795              0.876      0.861              0.805     0.766      0.848   192000           48000           Random Forest: n_estimators=361, max_features=auto, criterion=entropy, min_samples_leaf=13, n_jobs=-1  class_label      12                {'experiment_id': 'r1dd37mcxv5pf4', 'random_state': 2, 'live_volume': 0.0, 'dead_volume': 64.0, 'stain': None}  True       12                      False              False                     \n",
      "\n",
      "Run finished at 23:07:00. Total run time = 45.90 seconds\n",
      "^^^^^^^^^^^^^^^^^^^^^^^^^^^^^^^^^^^^^^^^^^^^^^^^^^^^^^^^^^^^^^^^^^^^^^^^^^^^^^^^^^^^^^^^^^^^^^^^^^^^\n",
      "\n",
      "\n",
      "\n",
      "\n",
      "HI\n",
      "{'experiment_id': 'r1dd37mcxv5pf4', 'random_state': 2, 'live_volume': 0.0, 'dead_volume': 29, 'stain': 'SYTOX Red Stain'}\n",
      "data_columns: ['Container Type', 'Control', 'Culture_Volume', 'Media', 'Replicate', 'Storage (C)', 'Strain', 'checksum', 'filename', 'kill', 'kill_volume', 'plate_id', 'source', 'stain', 'well', 'experiment_id', 'Time', 'FSC-A', 'SSC-A', 'BL1-A', 'RL1-A', 'FSC-H', 'SSC-H', 'BL1-H', 'RL1-H', 'FSC-W', 'SSC-W', 'BL1-W', 'RL1-W']\n"
     ]
    },
    {
     "name": "stderr",
     "output_type": "stream",
     "text": [
      "/Users/danbryce/Documents/sift/xplan/external/xplan/xplan-to-autoprotocol-reactor/xplan-dev-env/xplan-dev-env/lib/python3.7/site-packages/pandas/core/indexing.py:480: SettingWithCopyWarning: \n",
      "A value is trying to be set on a copy of a slice from a DataFrame.\n",
      "Try using .loc[row_indexer,col_indexer] = value instead\n",
      "\n",
      "See the caveats in the documentation: http://pandas.pydata.org/pandas-docs/stable/user_guide/indexing.html#returning-a-view-versus-a-copy\n",
      "  self.obj[item] = s\n"
     ]
    },
    {
     "name": "stdout",
     "output_type": "stream",
     "text": [
      "['FSC-A', 'SSC-A', 'BL1-A', 'RL1-A', 'FSC-H', 'SSC-H', 'BL1-H', 'RL1-H', 'FSC-W', 'SSC-W', 'BL1-W', 'RL1-W']\n",
      "\n",
      "<harness.test_harness_class.TestHarness object at 0x15d73a438>\n"
     ]
    },
    {
     "name": "stderr",
     "output_type": "stream",
     "text": [
      "/Users/danbryce/Documents/sift/xplan/external/xplan/xplan-to-autoprotocol-reactor/xplan-dev-env/xplan-dev-env/lib/python3.7/site-packages/pandas/core/indexing.py:362: SettingWithCopyWarning: \n",
      "A value is trying to be set on a copy of a slice from a DataFrame.\n",
      "Try using .loc[row_indexer,col_indexer] = value instead\n",
      "\n",
      "See the caveats in the documentation: http://pandas.pydata.org/pandas-docs/stable/user_guide/indexing.html#returning-a-view-versus-a-copy\n",
      "  self.obj[key] = _infer_fill_value(value)\n"
     ]
    },
    {
     "name": "stdout",
     "output_type": "stream",
     "text": [
      "HI\n",
      "----------------------------------------------------------------------------------------------------\n",
      "Starting run at time 23:07:06\n",
      "Normalizing training and testing splits...\n",
      "Starting Classification training...\n",
      "Training time was: 59.55 seconds\n",
      "Testing time was: 1.67 seconds\n",
      "\n",
      "          Run ID        Date      Time                    Model Name Model Author Num Classes  Accuracy  Balanced Accuracy  AUC Score  Average Precision  F1 Score  Precision  Recall Samples In Train Samples In Test                                                                                      Model Description Column Predicted Num Features Used                                                                                                 Data and Split Description Normalized Num Features Normalized Feature Extraction Was Untested Data Predicted\n",
      "0  Epl3Eww2lWw8e  2019-07-28  23:07:06  random_forest_classification  Hamed        2           0.649     0.649              0.711      0.678              0.674     0.629      0.726   192000           48000           Random Forest: n_estimators=361, max_features=auto, criterion=entropy, min_samples_leaf=13, n_jobs=-1  class_label      12                {'experiment_id': 'r1dd37mcxv5pf4', 'random_state': 2, 'live_volume': 0.0, 'dead_volume': 29, 'stain': 'SYTOX Red Stain'}  True       12                      False              False                     \n",
      "\n",
      "Run finished at 23:08:09. Total run time = 63.01 seconds\n",
      "^^^^^^^^^^^^^^^^^^^^^^^^^^^^^^^^^^^^^^^^^^^^^^^^^^^^^^^^^^^^^^^^^^^^^^^^^^^^^^^^^^^^^^^^^^^^^^^^^^^^\n",
      "\n",
      "\n",
      "\n",
      "\n",
      "HI\n",
      "{'experiment_id': 'r1dd37mcxv5pf4', 'random_state': 2, 'live_volume': 0.0, 'dead_volume': 29, 'stain': None}\n",
      "data_columns: ['Container Type', 'Control', 'Culture_Volume', 'Media', 'Replicate', 'Storage (C)', 'Strain', 'checksum', 'filename', 'kill', 'kill_volume', 'plate_id', 'source', 'stain', 'well', 'experiment_id', 'Time', 'FSC-A', 'SSC-A', 'BL1-A', 'RL1-A', 'FSC-H', 'SSC-H', 'BL1-H', 'RL1-H', 'FSC-W', 'SSC-W', 'BL1-W', 'RL1-W']\n"
     ]
    },
    {
     "name": "stderr",
     "output_type": "stream",
     "text": [
      "/Users/danbryce/Documents/sift/xplan/external/xplan/xplan-to-autoprotocol-reactor/xplan-dev-env/xplan-dev-env/lib/python3.7/site-packages/pandas/core/indexing.py:480: SettingWithCopyWarning: \n",
      "A value is trying to be set on a copy of a slice from a DataFrame.\n",
      "Try using .loc[row_indexer,col_indexer] = value instead\n",
      "\n",
      "See the caveats in the documentation: http://pandas.pydata.org/pandas-docs/stable/user_guide/indexing.html#returning-a-view-versus-a-copy\n",
      "  self.obj[item] = s\n"
     ]
    },
    {
     "name": "stdout",
     "output_type": "stream",
     "text": [
      "['FSC-A', 'SSC-A', 'BL1-A', 'RL1-A', 'FSC-H', 'SSC-H', 'BL1-H', 'RL1-H', 'FSC-W', 'SSC-W', 'BL1-W', 'RL1-W']\n",
      "\n",
      "<harness.test_harness_class.TestHarness object at 0x12b9c8b00>\n"
     ]
    },
    {
     "name": "stderr",
     "output_type": "stream",
     "text": [
      "/Users/danbryce/Documents/sift/xplan/external/xplan/xplan-to-autoprotocol-reactor/xplan-dev-env/xplan-dev-env/lib/python3.7/site-packages/pandas/core/indexing.py:362: SettingWithCopyWarning: \n",
      "A value is trying to be set on a copy of a slice from a DataFrame.\n",
      "Try using .loc[row_indexer,col_indexer] = value instead\n",
      "\n",
      "See the caveats in the documentation: http://pandas.pydata.org/pandas-docs/stable/user_guide/indexing.html#returning-a-view-versus-a-copy\n",
      "  self.obj[key] = _infer_fill_value(value)\n"
     ]
    },
    {
     "name": "stdout",
     "output_type": "stream",
     "text": [
      "HI\n",
      "----------------------------------------------------------------------------------------------------\n",
      "Starting run at time 23:08:16\n",
      "Normalizing training and testing splits...\n",
      "Starting Classification training...\n",
      "Training time was: 52.60 seconds\n",
      "Testing time was: 1.47 seconds\n",
      "\n",
      "          Run ID        Date      Time                    Model Name Model Author Num Classes  Accuracy  Balanced Accuracy  AUC Score  Average Precision  F1 Score  Precision  Recall Samples In Train Samples In Test                                                                                      Model Description Column Predicted Num Features Used                                                                                    Data and Split Description Normalized Num Features Normalized Feature Extraction Was Untested Data Predicted\n",
      "0  52gx7AQj7895G  2019-07-28  23:08:16  random_forest_classification  Hamed        2           0.634     0.634              0.685      0.669              0.637     0.632      0.642   192000           48000           Random Forest: n_estimators=361, max_features=auto, criterion=entropy, min_samples_leaf=13, n_jobs=-1  class_label      12                {'experiment_id': 'r1dd37mcxv5pf4', 'random_state': 2, 'live_volume': 0.0, 'dead_volume': 29, 'stain': None}  True       12                      False              False                     \n",
      "\n",
      "Run finished at 23:09:12. Total run time = 56.11 seconds\n",
      "^^^^^^^^^^^^^^^^^^^^^^^^^^^^^^^^^^^^^^^^^^^^^^^^^^^^^^^^^^^^^^^^^^^^^^^^^^^^^^^^^^^^^^^^^^^^^^^^^^^^\n",
      "\n",
      "\n",
      "\n",
      "\n",
      "HI\n",
      "{'experiment_id': 'r1dd37mcxv5pf4', 'random_state': 3, 'live_volume': 0.0, 'dead_volume': 980.0, 'stain': 'SYTOX Red Stain'}\n",
      "data_columns: ['Container Type', 'Control', 'Culture_Volume', 'Media', 'Replicate', 'Storage (C)', 'Strain', 'checksum', 'filename', 'kill', 'kill_volume', 'plate_id', 'source', 'stain', 'well', 'experiment_id', 'Time', 'FSC-A', 'SSC-A', 'BL1-A', 'RL1-A', 'FSC-H', 'SSC-H', 'BL1-H', 'RL1-H', 'FSC-W', 'SSC-W', 'BL1-W', 'RL1-W']\n"
     ]
    },
    {
     "name": "stderr",
     "output_type": "stream",
     "text": [
      "/Users/danbryce/Documents/sift/xplan/external/xplan/xplan-to-autoprotocol-reactor/xplan-dev-env/xplan-dev-env/lib/python3.7/site-packages/pandas/core/indexing.py:480: SettingWithCopyWarning: \n",
      "A value is trying to be set on a copy of a slice from a DataFrame.\n",
      "Try using .loc[row_indexer,col_indexer] = value instead\n",
      "\n",
      "See the caveats in the documentation: http://pandas.pydata.org/pandas-docs/stable/user_guide/indexing.html#returning-a-view-versus-a-copy\n",
      "  self.obj[item] = s\n"
     ]
    },
    {
     "name": "stdout",
     "output_type": "stream",
     "text": [
      "['FSC-A', 'SSC-A', 'BL1-A', 'RL1-A', 'FSC-H', 'SSC-H', 'BL1-H', 'RL1-H', 'FSC-W', 'SSC-W', 'BL1-W', 'RL1-W']\n",
      "\n",
      "<harness.test_harness_class.TestHarness object at 0x13d9690f0>\n"
     ]
    },
    {
     "name": "stderr",
     "output_type": "stream",
     "text": [
      "/Users/danbryce/Documents/sift/xplan/external/xplan/xplan-to-autoprotocol-reactor/xplan-dev-env/xplan-dev-env/lib/python3.7/site-packages/pandas/core/indexing.py:362: SettingWithCopyWarning: \n",
      "A value is trying to be set on a copy of a slice from a DataFrame.\n",
      "Try using .loc[row_indexer,col_indexer] = value instead\n",
      "\n",
      "See the caveats in the documentation: http://pandas.pydata.org/pandas-docs/stable/user_guide/indexing.html#returning-a-view-versus-a-copy\n",
      "  self.obj[key] = _infer_fill_value(value)\n"
     ]
    },
    {
     "name": "stdout",
     "output_type": "stream",
     "text": [
      "HI\n",
      "----------------------------------------------------------------------------------------------------\n",
      "Starting run at time 23:09:18\n",
      "Normalizing training and testing splits...\n",
      "Starting Classification training...\n",
      "Training time was: 36.76 seconds\n",
      "Testing time was: 0.65 seconds\n",
      "\n",
      "          Run ID        Date      Time                    Model Name Model Author Num Classes  Accuracy  Balanced Accuracy  AUC Score  Average Precision  F1 Score  Precision  Recall Samples In Train Samples In Test                                                                                      Model Description Column Predicted Num Features Used                                                                                                    Data and Split Description Normalized Num Features Normalized Feature Extraction Was Untested Data Predicted\n",
      "0  66e9PdGOa6BYO  2019-07-28  23:09:18  random_forest_classification  Hamed        2           0.998     0.998              1.0        1.0                0.998     0.999      0.998   192000           48000           Random Forest: n_estimators=361, max_features=auto, criterion=entropy, min_samples_leaf=13, n_jobs=-1  class_label      12                {'experiment_id': 'r1dd37mcxv5pf4', 'random_state': 3, 'live_volume': 0.0, 'dead_volume': 980.0, 'stain': 'SYTOX Red Stain'}  True       12                      False              False                     \n",
      "\n",
      "Run finished at 23:09:58. Total run time = 39.20 seconds\n",
      "^^^^^^^^^^^^^^^^^^^^^^^^^^^^^^^^^^^^^^^^^^^^^^^^^^^^^^^^^^^^^^^^^^^^^^^^^^^^^^^^^^^^^^^^^^^^^^^^^^^^\n",
      "\n",
      "\n",
      "\n",
      "\n",
      "HI\n",
      "{'experiment_id': 'r1dd37mcxv5pf4', 'random_state': 3, 'live_volume': 0.0, 'dead_volume': 980.0, 'stain': None}\n",
      "data_columns: ['Container Type', 'Control', 'Culture_Volume', 'Media', 'Replicate', 'Storage (C)', 'Strain', 'checksum', 'filename', 'kill', 'kill_volume', 'plate_id', 'source', 'stain', 'well', 'experiment_id', 'Time', 'FSC-A', 'SSC-A', 'BL1-A', 'RL1-A', 'FSC-H', 'SSC-H', 'BL1-H', 'RL1-H', 'FSC-W', 'SSC-W', 'BL1-W', 'RL1-W']\n"
     ]
    },
    {
     "name": "stderr",
     "output_type": "stream",
     "text": [
      "/Users/danbryce/Documents/sift/xplan/external/xplan/xplan-to-autoprotocol-reactor/xplan-dev-env/xplan-dev-env/lib/python3.7/site-packages/pandas/core/indexing.py:480: SettingWithCopyWarning: \n",
      "A value is trying to be set on a copy of a slice from a DataFrame.\n",
      "Try using .loc[row_indexer,col_indexer] = value instead\n",
      "\n",
      "See the caveats in the documentation: http://pandas.pydata.org/pandas-docs/stable/user_guide/indexing.html#returning-a-view-versus-a-copy\n",
      "  self.obj[item] = s\n"
     ]
    },
    {
     "name": "stdout",
     "output_type": "stream",
     "text": [
      "['FSC-A', 'SSC-A', 'BL1-A', 'RL1-A', 'FSC-H', 'SSC-H', 'BL1-H', 'RL1-H', 'FSC-W', 'SSC-W', 'BL1-W', 'RL1-W']\n",
      "\n",
      "<harness.test_harness_class.TestHarness object at 0x1e5a250b8>\n"
     ]
    },
    {
     "name": "stderr",
     "output_type": "stream",
     "text": [
      "/Users/danbryce/Documents/sift/xplan/external/xplan/xplan-to-autoprotocol-reactor/xplan-dev-env/xplan-dev-env/lib/python3.7/site-packages/pandas/core/indexing.py:362: SettingWithCopyWarning: \n",
      "A value is trying to be set on a copy of a slice from a DataFrame.\n",
      "Try using .loc[row_indexer,col_indexer] = value instead\n",
      "\n",
      "See the caveats in the documentation: http://pandas.pydata.org/pandas-docs/stable/user_guide/indexing.html#returning-a-view-versus-a-copy\n",
      "  self.obj[key] = _infer_fill_value(value)\n"
     ]
    },
    {
     "name": "stdout",
     "output_type": "stream",
     "text": [
      "HI\n",
      "----------------------------------------------------------------------------------------------------\n",
      "Starting run at time 23:10:04\n",
      "Normalizing training and testing splits...\n",
      "Starting Classification training...\n",
      "Training time was: 37.95 seconds\n",
      "Testing time was: 0.76 seconds\n",
      "\n",
      "          Run ID        Date      Time                    Model Name Model Author Num Classes  Accuracy  Balanced Accuracy  AUC Score  Average Precision  F1 Score  Precision  Recall Samples In Train Samples In Test                                                                                      Model Description Column Predicted Num Features Used                                                                                       Data and Split Description Normalized Num Features Normalized Feature Extraction Was Untested Data Predicted\n",
      "0  6qyrLeNAkOwv3  2019-07-28  23:10:04  random_forest_classification  Hamed        2           0.995     0.995              1.0        1.0                0.995     0.992      0.997   192000           48000           Random Forest: n_estimators=361, max_features=auto, criterion=entropy, min_samples_leaf=13, n_jobs=-1  class_label      12                {'experiment_id': 'r1dd37mcxv5pf4', 'random_state': 3, 'live_volume': 0.0, 'dead_volume': 980.0, 'stain': None}  True       12                      False              False                     \n",
      "\n",
      "Run finished at 23:10:44. Total run time = 40.36 seconds\n",
      "^^^^^^^^^^^^^^^^^^^^^^^^^^^^^^^^^^^^^^^^^^^^^^^^^^^^^^^^^^^^^^^^^^^^^^^^^^^^^^^^^^^^^^^^^^^^^^^^^^^^\n",
      "\n",
      "\n",
      "\n",
      "\n",
      "HI\n",
      "{'experiment_id': 'r1dd37mcxv5pf4', 'random_state': 3, 'live_volume': 0.0, 'dead_volume': 570.0, 'stain': 'SYTOX Red Stain'}\n",
      "data_columns: ['Container Type', 'Control', 'Culture_Volume', 'Media', 'Replicate', 'Storage (C)', 'Strain', 'checksum', 'filename', 'kill', 'kill_volume', 'plate_id', 'source', 'stain', 'well', 'experiment_id', 'Time', 'FSC-A', 'SSC-A', 'BL1-A', 'RL1-A', 'FSC-H', 'SSC-H', 'BL1-H', 'RL1-H', 'FSC-W', 'SSC-W', 'BL1-W', 'RL1-W']\n"
     ]
    },
    {
     "name": "stderr",
     "output_type": "stream",
     "text": [
      "/Users/danbryce/Documents/sift/xplan/external/xplan/xplan-to-autoprotocol-reactor/xplan-dev-env/xplan-dev-env/lib/python3.7/site-packages/pandas/core/indexing.py:480: SettingWithCopyWarning: \n",
      "A value is trying to be set on a copy of a slice from a DataFrame.\n",
      "Try using .loc[row_indexer,col_indexer] = value instead\n",
      "\n",
      "See the caveats in the documentation: http://pandas.pydata.org/pandas-docs/stable/user_guide/indexing.html#returning-a-view-versus-a-copy\n",
      "  self.obj[item] = s\n"
     ]
    },
    {
     "name": "stdout",
     "output_type": "stream",
     "text": [
      "['FSC-A', 'SSC-A', 'BL1-A', 'RL1-A', 'FSC-H', 'SSC-H', 'BL1-H', 'RL1-H', 'FSC-W', 'SSC-W', 'BL1-W', 'RL1-W']\n",
      "\n",
      "<harness.test_harness_class.TestHarness object at 0x15e746ba8>\n"
     ]
    },
    {
     "name": "stderr",
     "output_type": "stream",
     "text": [
      "/Users/danbryce/Documents/sift/xplan/external/xplan/xplan-to-autoprotocol-reactor/xplan-dev-env/xplan-dev-env/lib/python3.7/site-packages/pandas/core/indexing.py:362: SettingWithCopyWarning: \n",
      "A value is trying to be set on a copy of a slice from a DataFrame.\n",
      "Try using .loc[row_indexer,col_indexer] = value instead\n",
      "\n",
      "See the caveats in the documentation: http://pandas.pydata.org/pandas-docs/stable/user_guide/indexing.html#returning-a-view-versus-a-copy\n",
      "  self.obj[key] = _infer_fill_value(value)\n"
     ]
    },
    {
     "name": "stdout",
     "output_type": "stream",
     "text": [
      "HI\n",
      "----------------------------------------------------------------------------------------------------\n",
      "Starting run at time 23:10:51\n",
      "Normalizing training and testing splits...\n",
      "Starting Classification training...\n",
      "Training time was: 36.10 seconds\n",
      "Testing time was: 0.75 seconds\n",
      "\n",
      "          Run ID        Date      Time                    Model Name Model Author Num Classes  Accuracy  Balanced Accuracy  AUC Score  Average Precision  F1 Score  Precision  Recall Samples In Train Samples In Test                                                                                      Model Description Column Predicted Num Features Used                                                                                                    Data and Split Description Normalized Num Features Normalized Feature Extraction Was Untested Data Predicted\n",
      "0  EW6V1eWP2aVQ1  2019-07-28  23:10:51  random_forest_classification  Hamed        2           0.997     0.997              1.0        1.0                0.997     0.999      0.996   192000           48000           Random Forest: n_estimators=361, max_features=auto, criterion=entropy, min_samples_leaf=13, n_jobs=-1  class_label      12                {'experiment_id': 'r1dd37mcxv5pf4', 'random_state': 3, 'live_volume': 0.0, 'dead_volume': 570.0, 'stain': 'SYTOX Red Stain'}  True       12                      False              False                     \n",
      "\n",
      "Run finished at 23:11:30. Total run time = 38.80 seconds\n",
      "^^^^^^^^^^^^^^^^^^^^^^^^^^^^^^^^^^^^^^^^^^^^^^^^^^^^^^^^^^^^^^^^^^^^^^^^^^^^^^^^^^^^^^^^^^^^^^^^^^^^\n",
      "\n",
      "\n",
      "\n",
      "\n",
      "HI\n",
      "{'experiment_id': 'r1dd37mcxv5pf4', 'random_state': 3, 'live_volume': 0.0, 'dead_volume': 570.0, 'stain': None}\n",
      "data_columns: ['Container Type', 'Control', 'Culture_Volume', 'Media', 'Replicate', 'Storage (C)', 'Strain', 'checksum', 'filename', 'kill', 'kill_volume', 'plate_id', 'source', 'stain', 'well', 'experiment_id', 'Time', 'FSC-A', 'SSC-A', 'BL1-A', 'RL1-A', 'FSC-H', 'SSC-H', 'BL1-H', 'RL1-H', 'FSC-W', 'SSC-W', 'BL1-W', 'RL1-W']\n"
     ]
    },
    {
     "name": "stderr",
     "output_type": "stream",
     "text": [
      "/Users/danbryce/Documents/sift/xplan/external/xplan/xplan-to-autoprotocol-reactor/xplan-dev-env/xplan-dev-env/lib/python3.7/site-packages/pandas/core/indexing.py:480: SettingWithCopyWarning: \n",
      "A value is trying to be set on a copy of a slice from a DataFrame.\n",
      "Try using .loc[row_indexer,col_indexer] = value instead\n",
      "\n",
      "See the caveats in the documentation: http://pandas.pydata.org/pandas-docs/stable/user_guide/indexing.html#returning-a-view-versus-a-copy\n",
      "  self.obj[item] = s\n"
     ]
    },
    {
     "name": "stdout",
     "output_type": "stream",
     "text": [
      "['FSC-A', 'SSC-A', 'BL1-A', 'RL1-A', 'FSC-H', 'SSC-H', 'BL1-H', 'RL1-H', 'FSC-W', 'SSC-W', 'BL1-W', 'RL1-W']\n",
      "\n",
      "<harness.test_harness_class.TestHarness object at 0x143682400>\n"
     ]
    },
    {
     "name": "stderr",
     "output_type": "stream",
     "text": [
      "/Users/danbryce/Documents/sift/xplan/external/xplan/xplan-to-autoprotocol-reactor/xplan-dev-env/xplan-dev-env/lib/python3.7/site-packages/pandas/core/indexing.py:362: SettingWithCopyWarning: \n",
      "A value is trying to be set on a copy of a slice from a DataFrame.\n",
      "Try using .loc[row_indexer,col_indexer] = value instead\n",
      "\n",
      "See the caveats in the documentation: http://pandas.pydata.org/pandas-docs/stable/user_guide/indexing.html#returning-a-view-versus-a-copy\n",
      "  self.obj[key] = _infer_fill_value(value)\n"
     ]
    },
    {
     "name": "stdout",
     "output_type": "stream",
     "text": [
      "HI\n",
      "----------------------------------------------------------------------------------------------------\n",
      "Starting run at time 23:11:36\n",
      "Normalizing training and testing splits...\n",
      "Starting Classification training...\n",
      "Training time was: 46.78 seconds\n",
      "Testing time was: 0.85 seconds\n",
      "\n",
      "          Run ID        Date      Time                    Model Name Model Author Num Classes  Accuracy  Balanced Accuracy  AUC Score  Average Precision  F1 Score  Precision  Recall Samples In Train Samples In Test                                                                                      Model Description Column Predicted Num Features Used                                                                                       Data and Split Description Normalized Num Features Normalized Feature Extraction Was Untested Data Predicted\n",
      "0  6DrO8RbMLXgXw  2019-07-28  23:11:36  random_forest_classification  Hamed        2           0.978     0.978              0.997      0.997              0.979     0.974      0.985   183965           45992           Random Forest: n_estimators=361, max_features=auto, criterion=entropy, min_samples_leaf=13, n_jobs=-1  class_label      12                {'experiment_id': 'r1dd37mcxv5pf4', 'random_state': 3, 'live_volume': 0.0, 'dead_volume': 570.0, 'stain': None}  True       12                      False              False                     \n",
      "\n",
      "Run finished at 23:12:25. Total run time = 49.27 seconds\n",
      "^^^^^^^^^^^^^^^^^^^^^^^^^^^^^^^^^^^^^^^^^^^^^^^^^^^^^^^^^^^^^^^^^^^^^^^^^^^^^^^^^^^^^^^^^^^^^^^^^^^^\n",
      "\n",
      "\n",
      "\n",
      "\n",
      "HI\n",
      "{'experiment_id': 'r1dd37mcxv5pf4', 'random_state': 3, 'live_volume': 0.0, 'dead_volume': 370.0, 'stain': 'SYTOX Red Stain'}\n",
      "data_columns: ['Container Type', 'Control', 'Culture_Volume', 'Media', 'Replicate', 'Storage (C)', 'Strain', 'checksum', 'filename', 'kill', 'kill_volume', 'plate_id', 'source', 'stain', 'well', 'experiment_id', 'Time', 'FSC-A', 'SSC-A', 'BL1-A', 'RL1-A', 'FSC-H', 'SSC-H', 'BL1-H', 'RL1-H', 'FSC-W', 'SSC-W', 'BL1-W', 'RL1-W']\n"
     ]
    },
    {
     "name": "stderr",
     "output_type": "stream",
     "text": [
      "/Users/danbryce/Documents/sift/xplan/external/xplan/xplan-to-autoprotocol-reactor/xplan-dev-env/xplan-dev-env/lib/python3.7/site-packages/pandas/core/indexing.py:480: SettingWithCopyWarning: \n",
      "A value is trying to be set on a copy of a slice from a DataFrame.\n",
      "Try using .loc[row_indexer,col_indexer] = value instead\n",
      "\n",
      "See the caveats in the documentation: http://pandas.pydata.org/pandas-docs/stable/user_guide/indexing.html#returning-a-view-versus-a-copy\n",
      "  self.obj[item] = s\n"
     ]
    },
    {
     "name": "stdout",
     "output_type": "stream",
     "text": [
      "['FSC-A', 'SSC-A', 'BL1-A', 'RL1-A', 'FSC-H', 'SSC-H', 'BL1-H', 'RL1-H', 'FSC-W', 'SSC-W', 'BL1-W', 'RL1-W']\n",
      "\n",
      "<harness.test_harness_class.TestHarness object at 0x1e5a4c630>\n"
     ]
    },
    {
     "name": "stderr",
     "output_type": "stream",
     "text": [
      "/Users/danbryce/Documents/sift/xplan/external/xplan/xplan-to-autoprotocol-reactor/xplan-dev-env/xplan-dev-env/lib/python3.7/site-packages/pandas/core/indexing.py:362: SettingWithCopyWarning: \n",
      "A value is trying to be set on a copy of a slice from a DataFrame.\n",
      "Try using .loc[row_indexer,col_indexer] = value instead\n",
      "\n",
      "See the caveats in the documentation: http://pandas.pydata.org/pandas-docs/stable/user_guide/indexing.html#returning-a-view-versus-a-copy\n",
      "  self.obj[key] = _infer_fill_value(value)\n"
     ]
    },
    {
     "name": "stdout",
     "output_type": "stream",
     "text": [
      "HI\n",
      "----------------------------------------------------------------------------------------------------\n",
      "Starting run at time 23:12:31\n",
      "Normalizing training and testing splits...\n",
      "Starting Classification training...\n",
      "Training time was: 30.20 seconds\n",
      "Testing time was: 0.64 seconds\n",
      "\n",
      "          Run ID        Date      Time                    Model Name Model Author Num Classes  Accuracy  Balanced Accuracy  AUC Score  Average Precision  F1 Score  Precision  Recall Samples In Train Samples In Test                                                                                      Model Description Column Predicted Num Features Used                                                                                                    Data and Split Description Normalized Num Features Normalized Feature Extraction Was Untested Data Predicted\n",
      "0  5ow3MyzYQ93db  2019-07-28  23:12:31  random_forest_classification  Hamed        2           0.997     0.997              1.0        1.0                0.997     0.999      0.996   175331           43833           Random Forest: n_estimators=361, max_features=auto, criterion=entropy, min_samples_leaf=13, n_jobs=-1  class_label      12                {'experiment_id': 'r1dd37mcxv5pf4', 'random_state': 3, 'live_volume': 0.0, 'dead_volume': 370.0, 'stain': 'SYTOX Red Stain'}  True       12                      False              False                     \n",
      "\n",
      "Run finished at 23:13:04. Total run time = 32.44 seconds\n",
      "^^^^^^^^^^^^^^^^^^^^^^^^^^^^^^^^^^^^^^^^^^^^^^^^^^^^^^^^^^^^^^^^^^^^^^^^^^^^^^^^^^^^^^^^^^^^^^^^^^^^\n",
      "\n",
      "\n",
      "\n",
      "\n",
      "HI\n",
      "{'experiment_id': 'r1dd37mcxv5pf4', 'random_state': 3, 'live_volume': 0.0, 'dead_volume': 370.0, 'stain': None}\n",
      "data_columns: ['Container Type', 'Control', 'Culture_Volume', 'Media', 'Replicate', 'Storage (C)', 'Strain', 'checksum', 'filename', 'kill', 'kill_volume', 'plate_id', 'source', 'stain', 'well', 'experiment_id', 'Time', 'FSC-A', 'SSC-A', 'BL1-A', 'RL1-A', 'FSC-H', 'SSC-H', 'BL1-H', 'RL1-H', 'FSC-W', 'SSC-W', 'BL1-W', 'RL1-W']\n"
     ]
    },
    {
     "name": "stderr",
     "output_type": "stream",
     "text": [
      "/Users/danbryce/Documents/sift/xplan/external/xplan/xplan-to-autoprotocol-reactor/xplan-dev-env/xplan-dev-env/lib/python3.7/site-packages/pandas/core/indexing.py:480: SettingWithCopyWarning: \n",
      "A value is trying to be set on a copy of a slice from a DataFrame.\n",
      "Try using .loc[row_indexer,col_indexer] = value instead\n",
      "\n",
      "See the caveats in the documentation: http://pandas.pydata.org/pandas-docs/stable/user_guide/indexing.html#returning-a-view-versus-a-copy\n",
      "  self.obj[item] = s\n"
     ]
    },
    {
     "name": "stdout",
     "output_type": "stream",
     "text": [
      "['FSC-A', 'SSC-A', 'BL1-A', 'RL1-A', 'FSC-H', 'SSC-H', 'BL1-H', 'RL1-H', 'FSC-W', 'SSC-W', 'BL1-W', 'RL1-W']\n",
      "\n",
      "<harness.test_harness_class.TestHarness object at 0x1348bbeb8>\n"
     ]
    },
    {
     "name": "stderr",
     "output_type": "stream",
     "text": [
      "/Users/danbryce/Documents/sift/xplan/external/xplan/xplan-to-autoprotocol-reactor/xplan-dev-env/xplan-dev-env/lib/python3.7/site-packages/pandas/core/indexing.py:362: SettingWithCopyWarning: \n",
      "A value is trying to be set on a copy of a slice from a DataFrame.\n",
      "Try using .loc[row_indexer,col_indexer] = value instead\n",
      "\n",
      "See the caveats in the documentation: http://pandas.pydata.org/pandas-docs/stable/user_guide/indexing.html#returning-a-view-versus-a-copy\n",
      "  self.obj[key] = _infer_fill_value(value)\n"
     ]
    },
    {
     "name": "stdout",
     "output_type": "stream",
     "text": [
      "HI\n",
      "----------------------------------------------------------------------------------------------------\n",
      "Starting run at time 23:13:09\n",
      "Normalizing training and testing splits...\n",
      "Starting Classification training...\n",
      "Training time was: 43.65 seconds\n",
      "Testing time was: 0.84 seconds\n",
      "\n",
      "          Run ID        Date      Time                    Model Name Model Author Num Classes  Accuracy  Balanced Accuracy  AUC Score  Average Precision  F1 Score  Precision  Recall Samples In Train Samples In Test                                                                                      Model Description Column Predicted Num Features Used                                                                                       Data and Split Description Normalized Num Features Normalized Feature Extraction Was Untested Data Predicted\n",
      "0  Q69agapZpVqPk  2019-07-28  23:13:09  random_forest_classification  Hamed        2           0.973     0.972              0.995      0.995              0.976     0.973      0.98    166786           41697           Random Forest: n_estimators=361, max_features=auto, criterion=entropy, min_samples_leaf=13, n_jobs=-1  class_label      12                {'experiment_id': 'r1dd37mcxv5pf4', 'random_state': 3, 'live_volume': 0.0, 'dead_volume': 370.0, 'stain': None}  True       12                      False              False                     \n",
      "\n",
      "Run finished at 23:13:55. Total run time = 46.44 seconds\n",
      "^^^^^^^^^^^^^^^^^^^^^^^^^^^^^^^^^^^^^^^^^^^^^^^^^^^^^^^^^^^^^^^^^^^^^^^^^^^^^^^^^^^^^^^^^^^^^^^^^^^^\n",
      "\n",
      "\n",
      "\n",
      "\n",
      "HI\n",
      "{'experiment_id': 'r1dd37mcxv5pf4', 'random_state': 3, 'live_volume': 0.0, 'dead_volume': 250.0, 'stain': 'SYTOX Red Stain'}\n",
      "data_columns: ['Container Type', 'Control', 'Culture_Volume', 'Media', 'Replicate', 'Storage (C)', 'Strain', 'checksum', 'filename', 'kill', 'kill_volume', 'plate_id', 'source', 'stain', 'well', 'experiment_id', 'Time', 'FSC-A', 'SSC-A', 'BL1-A', 'RL1-A', 'FSC-H', 'SSC-H', 'BL1-H', 'RL1-H', 'FSC-W', 'SSC-W', 'BL1-W', 'RL1-W']\n"
     ]
    },
    {
     "name": "stderr",
     "output_type": "stream",
     "text": [
      "/Users/danbryce/Documents/sift/xplan/external/xplan/xplan-to-autoprotocol-reactor/xplan-dev-env/xplan-dev-env/lib/python3.7/site-packages/pandas/core/indexing.py:480: SettingWithCopyWarning: \n",
      "A value is trying to be set on a copy of a slice from a DataFrame.\n",
      "Try using .loc[row_indexer,col_indexer] = value instead\n",
      "\n",
      "See the caveats in the documentation: http://pandas.pydata.org/pandas-docs/stable/user_guide/indexing.html#returning-a-view-versus-a-copy\n",
      "  self.obj[item] = s\n"
     ]
    },
    {
     "name": "stdout",
     "output_type": "stream",
     "text": [
      "['FSC-A', 'SSC-A', 'BL1-A', 'RL1-A', 'FSC-H', 'SSC-H', 'BL1-H', 'RL1-H', 'FSC-W', 'SSC-W', 'BL1-W', 'RL1-W']\n",
      "\n",
      "<harness.test_harness_class.TestHarness object at 0x17b5dfe48>\n"
     ]
    },
    {
     "name": "stderr",
     "output_type": "stream",
     "text": [
      "/Users/danbryce/Documents/sift/xplan/external/xplan/xplan-to-autoprotocol-reactor/xplan-dev-env/xplan-dev-env/lib/python3.7/site-packages/pandas/core/indexing.py:362: SettingWithCopyWarning: \n",
      "A value is trying to be set on a copy of a slice from a DataFrame.\n",
      "Try using .loc[row_indexer,col_indexer] = value instead\n",
      "\n",
      "See the caveats in the documentation: http://pandas.pydata.org/pandas-docs/stable/user_guide/indexing.html#returning-a-view-versus-a-copy\n",
      "  self.obj[key] = _infer_fill_value(value)\n"
     ]
    },
    {
     "name": "stdout",
     "output_type": "stream",
     "text": [
      "HI\n",
      "----------------------------------------------------------------------------------------------------\n",
      "Starting run at time 23:14:00\n",
      "Normalizing training and testing splits...\n",
      "Starting Classification training...\n",
      "Training time was: 31.00 seconds\n",
      "Testing time was: 0.65 seconds\n",
      "\n",
      "          Run ID        Date      Time                    Model Name Model Author Num Classes  Accuracy  Balanced Accuracy  AUC Score  Average Precision  F1 Score  Precision  Recall Samples In Train Samples In Test                                                                                      Model Description Column Predicted Num Features Used                                                                                                    Data and Split Description Normalized Num Features Normalized Feature Extraction Was Untested Data Predicted\n",
      "0  6dWx3wL2xlelG  2019-07-28  23:14:00  random_forest_classification  Hamed        2           0.996     0.997              1.0        1.0                0.997     1.0        0.995   147452           36864           Random Forest: n_estimators=361, max_features=auto, criterion=entropy, min_samples_leaf=13, n_jobs=-1  class_label      12                {'experiment_id': 'r1dd37mcxv5pf4', 'random_state': 3, 'live_volume': 0.0, 'dead_volume': 250.0, 'stain': 'SYTOX Red Stain'}  True       12                      False              False                     \n",
      "\n",
      "Run finished at 23:14:33. Total run time = 33.04 seconds\n",
      "^^^^^^^^^^^^^^^^^^^^^^^^^^^^^^^^^^^^^^^^^^^^^^^^^^^^^^^^^^^^^^^^^^^^^^^^^^^^^^^^^^^^^^^^^^^^^^^^^^^^\n",
      "\n",
      "\n",
      "\n",
      "\n",
      "HI\n",
      "{'experiment_id': 'r1dd37mcxv5pf4', 'random_state': 3, 'live_volume': 0.0, 'dead_volume': 250.0, 'stain': None}\n",
      "data_columns: ['Container Type', 'Control', 'Culture_Volume', 'Media', 'Replicate', 'Storage (C)', 'Strain', 'checksum', 'filename', 'kill', 'kill_volume', 'plate_id', 'source', 'stain', 'well', 'experiment_id', 'Time', 'FSC-A', 'SSC-A', 'BL1-A', 'RL1-A', 'FSC-H', 'SSC-H', 'BL1-H', 'RL1-H', 'FSC-W', 'SSC-W', 'BL1-W', 'RL1-W']\n"
     ]
    },
    {
     "name": "stderr",
     "output_type": "stream",
     "text": [
      "/Users/danbryce/Documents/sift/xplan/external/xplan/xplan-to-autoprotocol-reactor/xplan-dev-env/xplan-dev-env/lib/python3.7/site-packages/pandas/core/indexing.py:480: SettingWithCopyWarning: \n",
      "A value is trying to be set on a copy of a slice from a DataFrame.\n",
      "Try using .loc[row_indexer,col_indexer] = value instead\n",
      "\n",
      "See the caveats in the documentation: http://pandas.pydata.org/pandas-docs/stable/user_guide/indexing.html#returning-a-view-versus-a-copy\n",
      "  self.obj[item] = s\n"
     ]
    },
    {
     "name": "stdout",
     "output_type": "stream",
     "text": [
      "['FSC-A', 'SSC-A', 'BL1-A', 'RL1-A', 'FSC-H', 'SSC-H', 'BL1-H', 'RL1-H', 'FSC-W', 'SSC-W', 'BL1-W', 'RL1-W']\n",
      "\n",
      "<harness.test_harness_class.TestHarness object at 0x13d972cc0>\n"
     ]
    },
    {
     "name": "stderr",
     "output_type": "stream",
     "text": [
      "/Users/danbryce/Documents/sift/xplan/external/xplan/xplan-to-autoprotocol-reactor/xplan-dev-env/xplan-dev-env/lib/python3.7/site-packages/pandas/core/indexing.py:362: SettingWithCopyWarning: \n",
      "A value is trying to be set on a copy of a slice from a DataFrame.\n",
      "Try using .loc[row_indexer,col_indexer] = value instead\n",
      "\n",
      "See the caveats in the documentation: http://pandas.pydata.org/pandas-docs/stable/user_guide/indexing.html#returning-a-view-versus-a-copy\n",
      "  self.obj[key] = _infer_fill_value(value)\n"
     ]
    },
    {
     "name": "stdout",
     "output_type": "stream",
     "text": [
      "HI\n",
      "----------------------------------------------------------------------------------------------------\n",
      "Starting run at time 23:14:39\n",
      "Normalizing training and testing splits...\n",
      "Starting Classification training...\n",
      "Training time was: 38.64 seconds\n",
      "Testing time was: 0.84 seconds\n",
      "\n",
      "         Run ID        Date      Time                    Model Name Model Author Num Classes  Accuracy  Balanced Accuracy  AUC Score  Average Precision  F1 Score  Precision  Recall Samples In Train Samples In Test                                                                                      Model Description Column Predicted Num Features Used                                                                                       Data and Split Description Normalized Num Features Normalized Feature Extraction Was Untested Data Predicted\n",
      "0  6WpleXWNmRoq  2019-07-28  23:14:39  random_forest_classification  Hamed        2           0.962     0.957              0.99       0.994              0.971     0.973      0.97    142361           35591           Random Forest: n_estimators=361, max_features=auto, criterion=entropy, min_samples_leaf=13, n_jobs=-1  class_label      12                {'experiment_id': 'r1dd37mcxv5pf4', 'random_state': 3, 'live_volume': 0.0, 'dead_volume': 250.0, 'stain': None}  True       12                      False              False                     \n",
      "\n",
      "Run finished at 23:15:20. Total run time = 41.03 seconds\n",
      "^^^^^^^^^^^^^^^^^^^^^^^^^^^^^^^^^^^^^^^^^^^^^^^^^^^^^^^^^^^^^^^^^^^^^^^^^^^^^^^^^^^^^^^^^^^^^^^^^^^^\n",
      "\n",
      "\n",
      "\n",
      "\n",
      "HI\n",
      "{'experiment_id': 'r1dd37mcxv5pf4', 'random_state': 3, 'live_volume': 0.0, 'dead_volume': 170.0, 'stain': 'SYTOX Red Stain'}\n",
      "data_columns: ['Container Type', 'Control', 'Culture_Volume', 'Media', 'Replicate', 'Storage (C)', 'Strain', 'checksum', 'filename', 'kill', 'kill_volume', 'plate_id', 'source', 'stain', 'well', 'experiment_id', 'Time', 'FSC-A', 'SSC-A', 'BL1-A', 'RL1-A', 'FSC-H', 'SSC-H', 'BL1-H', 'RL1-H', 'FSC-W', 'SSC-W', 'BL1-W', 'RL1-W']\n"
     ]
    },
    {
     "name": "stderr",
     "output_type": "stream",
     "text": [
      "/Users/danbryce/Documents/sift/xplan/external/xplan/xplan-to-autoprotocol-reactor/xplan-dev-env/xplan-dev-env/lib/python3.7/site-packages/pandas/core/indexing.py:480: SettingWithCopyWarning: \n",
      "A value is trying to be set on a copy of a slice from a DataFrame.\n",
      "Try using .loc[row_indexer,col_indexer] = value instead\n",
      "\n",
      "See the caveats in the documentation: http://pandas.pydata.org/pandas-docs/stable/user_guide/indexing.html#returning-a-view-versus-a-copy\n",
      "  self.obj[item] = s\n"
     ]
    },
    {
     "name": "stdout",
     "output_type": "stream",
     "text": [
      "['FSC-A', 'SSC-A', 'BL1-A', 'RL1-A', 'FSC-H', 'SSC-H', 'BL1-H', 'RL1-H', 'FSC-W', 'SSC-W', 'BL1-W', 'RL1-W']\n",
      "\n",
      "<harness.test_harness_class.TestHarness object at 0x32e4a9710>\n"
     ]
    },
    {
     "name": "stderr",
     "output_type": "stream",
     "text": [
      "/Users/danbryce/Documents/sift/xplan/external/xplan/xplan-to-autoprotocol-reactor/xplan-dev-env/xplan-dev-env/lib/python3.7/site-packages/pandas/core/indexing.py:362: SettingWithCopyWarning: \n",
      "A value is trying to be set on a copy of a slice from a DataFrame.\n",
      "Try using .loc[row_indexer,col_indexer] = value instead\n",
      "\n",
      "See the caveats in the documentation: http://pandas.pydata.org/pandas-docs/stable/user_guide/indexing.html#returning-a-view-versus-a-copy\n",
      "  self.obj[key] = _infer_fill_value(value)\n"
     ]
    },
    {
     "name": "stdout",
     "output_type": "stream",
     "text": [
      "HI\n",
      "----------------------------------------------------------------------------------------------------\n",
      "Starting run at time 23:15:26\n",
      "Normalizing training and testing splits...\n",
      "Starting Classification training...\n",
      "Training time was: 47.49 seconds\n",
      "Testing time was: 0.99 seconds\n",
      "\n",
      "          Run ID        Date      Time                    Model Name Model Author Num Classes  Accuracy  Balanced Accuracy  AUC Score  Average Precision  F1 Score  Precision  Recall Samples In Train Samples In Test                                                                                      Model Description Column Predicted Num Features Used                                                                                                    Data and Split Description Normalized Num Features Normalized Feature Extraction Was Untested Data Predicted\n",
      "0  6W53bXkN6vOlO  2019-07-28  23:15:26  random_forest_classification  Hamed        2           0.997     0.997              0.999      0.999              0.997     0.999      0.995   192000           48000           Random Forest: n_estimators=361, max_features=auto, criterion=entropy, min_samples_leaf=13, n_jobs=-1  class_label      12                {'experiment_id': 'r1dd37mcxv5pf4', 'random_state': 3, 'live_volume': 0.0, 'dead_volume': 170.0, 'stain': 'SYTOX Red Stain'}  True       12                      False              False                     \n",
      "\n",
      "Run finished at 23:16:17. Total run time = 50.31 seconds\n",
      "^^^^^^^^^^^^^^^^^^^^^^^^^^^^^^^^^^^^^^^^^^^^^^^^^^^^^^^^^^^^^^^^^^^^^^^^^^^^^^^^^^^^^^^^^^^^^^^^^^^^\n",
      "\n",
      "\n",
      "\n",
      "\n",
      "HI\n",
      "{'experiment_id': 'r1dd37mcxv5pf4', 'random_state': 3, 'live_volume': 0.0, 'dead_volume': 170.0, 'stain': None}\n",
      "data_columns: ['Container Type', 'Control', 'Culture_Volume', 'Media', 'Replicate', 'Storage (C)', 'Strain', 'checksum', 'filename', 'kill', 'kill_volume', 'plate_id', 'source', 'stain', 'well', 'experiment_id', 'Time', 'FSC-A', 'SSC-A', 'BL1-A', 'RL1-A', 'FSC-H', 'SSC-H', 'BL1-H', 'RL1-H', 'FSC-W', 'SSC-W', 'BL1-W', 'RL1-W']\n"
     ]
    },
    {
     "name": "stderr",
     "output_type": "stream",
     "text": [
      "/Users/danbryce/Documents/sift/xplan/external/xplan/xplan-to-autoprotocol-reactor/xplan-dev-env/xplan-dev-env/lib/python3.7/site-packages/pandas/core/indexing.py:480: SettingWithCopyWarning: \n",
      "A value is trying to be set on a copy of a slice from a DataFrame.\n",
      "Try using .loc[row_indexer,col_indexer] = value instead\n",
      "\n",
      "See the caveats in the documentation: http://pandas.pydata.org/pandas-docs/stable/user_guide/indexing.html#returning-a-view-versus-a-copy\n",
      "  self.obj[item] = s\n"
     ]
    },
    {
     "name": "stdout",
     "output_type": "stream",
     "text": [
      "['FSC-A', 'SSC-A', 'BL1-A', 'RL1-A', 'FSC-H', 'SSC-H', 'BL1-H', 'RL1-H', 'FSC-W', 'SSC-W', 'BL1-W', 'RL1-W']\n",
      "\n",
      "<harness.test_harness_class.TestHarness object at 0x1b1a33a58>\n"
     ]
    },
    {
     "name": "stderr",
     "output_type": "stream",
     "text": [
      "/Users/danbryce/Documents/sift/xplan/external/xplan/xplan-to-autoprotocol-reactor/xplan-dev-env/xplan-dev-env/lib/python3.7/site-packages/pandas/core/indexing.py:362: SettingWithCopyWarning: \n",
      "A value is trying to be set on a copy of a slice from a DataFrame.\n",
      "Try using .loc[row_indexer,col_indexer] = value instead\n",
      "\n",
      "See the caveats in the documentation: http://pandas.pydata.org/pandas-docs/stable/user_guide/indexing.html#returning-a-view-versus-a-copy\n",
      "  self.obj[key] = _infer_fill_value(value)\n"
     ]
    },
    {
     "name": "stdout",
     "output_type": "stream",
     "text": [
      "HI\n",
      "----------------------------------------------------------------------------------------------------\n",
      "Starting run at time 23:16:23\n",
      "Normalizing training and testing splits...\n",
      "Starting Classification training...\n",
      "Training time was: 50.99 seconds\n",
      "Testing time was: 1.26 seconds\n",
      "\n",
      "          Run ID        Date      Time                    Model Name Model Author Num Classes  Accuracy  Balanced Accuracy  AUC Score  Average Precision  F1 Score  Precision  Recall Samples In Train Samples In Test                                                                                      Model Description Column Predicted Num Features Used                                                                                       Data and Split Description Normalized Num Features Normalized Feature Extraction Was Untested Data Predicted\n",
      "0  66M2JPDkdqroN  2019-07-28  23:16:23  random_forest_classification  Hamed        2           0.92      0.92               0.974      0.972              0.921     0.911      0.93    192000           48000           Random Forest: n_estimators=361, max_features=auto, criterion=entropy, min_samples_leaf=13, n_jobs=-1  class_label      12                {'experiment_id': 'r1dd37mcxv5pf4', 'random_state': 3, 'live_volume': 0.0, 'dead_volume': 170.0, 'stain': None}  True       12                      False              False                     \n",
      "\n",
      "Run finished at 23:17:17. Total run time = 54.07 seconds\n",
      "^^^^^^^^^^^^^^^^^^^^^^^^^^^^^^^^^^^^^^^^^^^^^^^^^^^^^^^^^^^^^^^^^^^^^^^^^^^^^^^^^^^^^^^^^^^^^^^^^^^^\n",
      "\n",
      "\n",
      "\n",
      "\n",
      "HI\n",
      "{'experiment_id': 'r1dd37mcxv5pf4', 'random_state': 3, 'live_volume': 0.0, 'dead_volume': 105.0, 'stain': 'SYTOX Red Stain'}\n",
      "data_columns: ['Container Type', 'Control', 'Culture_Volume', 'Media', 'Replicate', 'Storage (C)', 'Strain', 'checksum', 'filename', 'kill', 'kill_volume', 'plate_id', 'source', 'stain', 'well', 'experiment_id', 'Time', 'FSC-A', 'SSC-A', 'BL1-A', 'RL1-A', 'FSC-H', 'SSC-H', 'BL1-H', 'RL1-H', 'FSC-W', 'SSC-W', 'BL1-W', 'RL1-W']\n"
     ]
    },
    {
     "name": "stderr",
     "output_type": "stream",
     "text": [
      "/Users/danbryce/Documents/sift/xplan/external/xplan/xplan-to-autoprotocol-reactor/xplan-dev-env/xplan-dev-env/lib/python3.7/site-packages/pandas/core/indexing.py:480: SettingWithCopyWarning: \n",
      "A value is trying to be set on a copy of a slice from a DataFrame.\n",
      "Try using .loc[row_indexer,col_indexer] = value instead\n",
      "\n",
      "See the caveats in the documentation: http://pandas.pydata.org/pandas-docs/stable/user_guide/indexing.html#returning-a-view-versus-a-copy\n",
      "  self.obj[item] = s\n"
     ]
    },
    {
     "name": "stdout",
     "output_type": "stream",
     "text": [
      "['FSC-A', 'SSC-A', 'BL1-A', 'RL1-A', 'FSC-H', 'SSC-H', 'BL1-H', 'RL1-H', 'FSC-W', 'SSC-W', 'BL1-W', 'RL1-W']\n",
      "\n",
      "<harness.test_harness_class.TestHarness object at 0x19d7edf28>\n"
     ]
    },
    {
     "name": "stderr",
     "output_type": "stream",
     "text": [
      "/Users/danbryce/Documents/sift/xplan/external/xplan/xplan-to-autoprotocol-reactor/xplan-dev-env/xplan-dev-env/lib/python3.7/site-packages/pandas/core/indexing.py:362: SettingWithCopyWarning: \n",
      "A value is trying to be set on a copy of a slice from a DataFrame.\n",
      "Try using .loc[row_indexer,col_indexer] = value instead\n",
      "\n",
      "See the caveats in the documentation: http://pandas.pydata.org/pandas-docs/stable/user_guide/indexing.html#returning-a-view-versus-a-copy\n",
      "  self.obj[key] = _infer_fill_value(value)\n"
     ]
    },
    {
     "name": "stdout",
     "output_type": "stream",
     "text": [
      "HI\n",
      "----------------------------------------------------------------------------------------------------\n",
      "Starting run at time 23:17:24\n",
      "Normalizing training and testing splits...\n",
      "Starting Classification training...\n",
      "Training time was: 39.44 seconds\n",
      "Testing time was: 0.75 seconds\n",
      "\n",
      "          Run ID        Date      Time                    Model Name Model Author Num Classes  Accuracy  Balanced Accuracy  AUC Score  Average Precision  F1 Score  Precision  Recall Samples In Train Samples In Test                                                                                      Model Description Column Predicted Num Features Used                                                                                                    Data and Split Description Normalized Num Features Normalized Feature Extraction Was Untested Data Predicted\n",
      "0  Q7dXjl7AP6jrk  2019-07-28  23:17:24  random_forest_classification  Hamed        2           0.997     0.997              0.999      0.999              0.997     0.999      0.996   192000           48000           Random Forest: n_estimators=361, max_features=auto, criterion=entropy, min_samples_leaf=13, n_jobs=-1  class_label      12                {'experiment_id': 'r1dd37mcxv5pf4', 'random_state': 3, 'live_volume': 0.0, 'dead_volume': 105.0, 'stain': 'SYTOX Red Stain'}  True       12                      False              False                     \n",
      "\n",
      "Run finished at 23:18:06. Total run time = 42.06 seconds\n",
      "^^^^^^^^^^^^^^^^^^^^^^^^^^^^^^^^^^^^^^^^^^^^^^^^^^^^^^^^^^^^^^^^^^^^^^^^^^^^^^^^^^^^^^^^^^^^^^^^^^^^\n",
      "\n",
      "\n",
      "\n",
      "\n",
      "HI\n",
      "{'experiment_id': 'r1dd37mcxv5pf4', 'random_state': 3, 'live_volume': 0.0, 'dead_volume': 105.0, 'stain': None}\n",
      "data_columns: ['Container Type', 'Control', 'Culture_Volume', 'Media', 'Replicate', 'Storage (C)', 'Strain', 'checksum', 'filename', 'kill', 'kill_volume', 'plate_id', 'source', 'stain', 'well', 'experiment_id', 'Time', 'FSC-A', 'SSC-A', 'BL1-A', 'RL1-A', 'FSC-H', 'SSC-H', 'BL1-H', 'RL1-H', 'FSC-W', 'SSC-W', 'BL1-W', 'RL1-W']\n"
     ]
    },
    {
     "name": "stderr",
     "output_type": "stream",
     "text": [
      "/Users/danbryce/Documents/sift/xplan/external/xplan/xplan-to-autoprotocol-reactor/xplan-dev-env/xplan-dev-env/lib/python3.7/site-packages/pandas/core/indexing.py:480: SettingWithCopyWarning: \n",
      "A value is trying to be set on a copy of a slice from a DataFrame.\n",
      "Try using .loc[row_indexer,col_indexer] = value instead\n",
      "\n",
      "See the caveats in the documentation: http://pandas.pydata.org/pandas-docs/stable/user_guide/indexing.html#returning-a-view-versus-a-copy\n",
      "  self.obj[item] = s\n"
     ]
    },
    {
     "name": "stdout",
     "output_type": "stream",
     "text": [
      "['FSC-A', 'SSC-A', 'BL1-A', 'RL1-A', 'FSC-H', 'SSC-H', 'BL1-H', 'RL1-H', 'FSC-W', 'SSC-W', 'BL1-W', 'RL1-W']\n"
     ]
    },
    {
     "name": "stderr",
     "output_type": "stream",
     "text": [
      "/Users/danbryce/Documents/sift/xplan/external/xplan/xplan-to-autoprotocol-reactor/xplan-dev-env/xplan-dev-env/lib/python3.7/site-packages/pandas/core/indexing.py:362: SettingWithCopyWarning: \n",
      "A value is trying to be set on a copy of a slice from a DataFrame.\n",
      "Try using .loc[row_indexer,col_indexer] = value instead\n",
      "\n",
      "See the caveats in the documentation: http://pandas.pydata.org/pandas-docs/stable/user_guide/indexing.html#returning-a-view-versus-a-copy\n",
      "  self.obj[key] = _infer_fill_value(value)\n"
     ]
    },
    {
     "name": "stdout",
     "output_type": "stream",
     "text": [
      "\n",
      "<harness.test_harness_class.TestHarness object at 0x1591b3898>\n",
      "HI\n",
      "----------------------------------------------------------------------------------------------------\n",
      "Starting run at time 23:18:13\n",
      "Normalizing training and testing splits...\n",
      "Starting Classification training...\n",
      "Training time was: 48.62 seconds\n",
      "Testing time was: 1.68 seconds\n",
      "\n",
      "          Run ID        Date      Time                    Model Name Model Author Num Classes  Accuracy  Balanced Accuracy  AUC Score  Average Precision  F1 Score  Precision  Recall Samples In Train Samples In Test                                                                                      Model Description Column Predicted Num Features Used                                                                                       Data and Split Description Normalized Num Features Normalized Feature Extraction Was Untested Data Predicted\n",
      "0  5pg8Z3pRMV6a8  2019-07-28  23:18:13  random_forest_classification  Hamed        2           0.938     0.938              0.984      0.982              0.939     0.928      0.95    192000           48000           Random Forest: n_estimators=361, max_features=auto, criterion=entropy, min_samples_leaf=13, n_jobs=-1  class_label      12                {'experiment_id': 'r1dd37mcxv5pf4', 'random_state': 3, 'live_volume': 0.0, 'dead_volume': 105.0, 'stain': None}  True       12                      False              False                     \n",
      "\n",
      "Run finished at 23:19:05. Total run time = 52.14 seconds\n",
      "^^^^^^^^^^^^^^^^^^^^^^^^^^^^^^^^^^^^^^^^^^^^^^^^^^^^^^^^^^^^^^^^^^^^^^^^^^^^^^^^^^^^^^^^^^^^^^^^^^^^\n",
      "\n",
      "\n",
      "\n",
      "\n",
      "HI\n",
      "{'experiment_id': 'r1dd37mcxv5pf4', 'random_state': 3, 'live_volume': 0.0, 'dead_volume': 64.0, 'stain': 'SYTOX Red Stain'}\n",
      "data_columns: ['Container Type', 'Control', 'Culture_Volume', 'Media', 'Replicate', 'Storage (C)', 'Strain', 'checksum', 'filename', 'kill', 'kill_volume', 'plate_id', 'source', 'stain', 'well', 'experiment_id', 'Time', 'FSC-A', 'SSC-A', 'BL1-A', 'RL1-A', 'FSC-H', 'SSC-H', 'BL1-H', 'RL1-H', 'FSC-W', 'SSC-W', 'BL1-W', 'RL1-W']\n"
     ]
    },
    {
     "name": "stderr",
     "output_type": "stream",
     "text": [
      "/Users/danbryce/Documents/sift/xplan/external/xplan/xplan-to-autoprotocol-reactor/xplan-dev-env/xplan-dev-env/lib/python3.7/site-packages/pandas/core/indexing.py:480: SettingWithCopyWarning: \n",
      "A value is trying to be set on a copy of a slice from a DataFrame.\n",
      "Try using .loc[row_indexer,col_indexer] = value instead\n",
      "\n",
      "See the caveats in the documentation: http://pandas.pydata.org/pandas-docs/stable/user_guide/indexing.html#returning-a-view-versus-a-copy\n",
      "  self.obj[item] = s\n"
     ]
    },
    {
     "name": "stdout",
     "output_type": "stream",
     "text": [
      "['FSC-A', 'SSC-A', 'BL1-A', 'RL1-A', 'FSC-H', 'SSC-H', 'BL1-H', 'RL1-H', 'FSC-W', 'SSC-W', 'BL1-W', 'RL1-W']\n",
      "\n",
      "<harness.test_harness_class.TestHarness object at 0x1bed13f60>\n"
     ]
    },
    {
     "name": "stderr",
     "output_type": "stream",
     "text": [
      "/Users/danbryce/Documents/sift/xplan/external/xplan/xplan-to-autoprotocol-reactor/xplan-dev-env/xplan-dev-env/lib/python3.7/site-packages/pandas/core/indexing.py:362: SettingWithCopyWarning: \n",
      "A value is trying to be set on a copy of a slice from a DataFrame.\n",
      "Try using .loc[row_indexer,col_indexer] = value instead\n",
      "\n",
      "See the caveats in the documentation: http://pandas.pydata.org/pandas-docs/stable/user_guide/indexing.html#returning-a-view-versus-a-copy\n",
      "  self.obj[key] = _infer_fill_value(value)\n"
     ]
    },
    {
     "name": "stdout",
     "output_type": "stream",
     "text": [
      "HI\n",
      "----------------------------------------------------------------------------------------------------\n",
      "Starting run at time 23:19:11\n",
      "Normalizing training and testing splits...\n",
      "Starting Classification training...\n",
      "Training time was: 54.51 seconds\n",
      "Testing time was: 1.48 seconds\n",
      "\n",
      "          Run ID        Date      Time                    Model Name Model Author Num Classes  Accuracy  Balanced Accuracy  AUC Score  Average Precision  F1 Score  Precision  Recall Samples In Train Samples In Test                                                                                      Model Description Column Predicted Num Features Used                                                                                                   Data and Split Description Normalized Num Features Normalized Feature Extraction Was Untested Data Predicted\n",
      "0  EzbLWmWpojXOP  2019-07-28  23:19:11  random_forest_classification  Hamed        2           0.857     0.857              0.926      0.908              0.865     0.819      0.916   192000           48000           Random Forest: n_estimators=361, max_features=auto, criterion=entropy, min_samples_leaf=13, n_jobs=-1  class_label      12                {'experiment_id': 'r1dd37mcxv5pf4', 'random_state': 3, 'live_volume': 0.0, 'dead_volume': 64.0, 'stain': 'SYTOX Red Stain'}  True       12                      False              False                     \n",
      "\n",
      "Run finished at 23:20:09. Total run time = 57.88 seconds\n",
      "^^^^^^^^^^^^^^^^^^^^^^^^^^^^^^^^^^^^^^^^^^^^^^^^^^^^^^^^^^^^^^^^^^^^^^^^^^^^^^^^^^^^^^^^^^^^^^^^^^^^\n",
      "\n",
      "\n",
      "\n",
      "\n",
      "HI\n",
      "{'experiment_id': 'r1dd37mcxv5pf4', 'random_state': 3, 'live_volume': 0.0, 'dead_volume': 64.0, 'stain': None}\n",
      "data_columns: ['Container Type', 'Control', 'Culture_Volume', 'Media', 'Replicate', 'Storage (C)', 'Strain', 'checksum', 'filename', 'kill', 'kill_volume', 'plate_id', 'source', 'stain', 'well', 'experiment_id', 'Time', 'FSC-A', 'SSC-A', 'BL1-A', 'RL1-A', 'FSC-H', 'SSC-H', 'BL1-H', 'RL1-H', 'FSC-W', 'SSC-W', 'BL1-W', 'RL1-W']\n"
     ]
    },
    {
     "name": "stderr",
     "output_type": "stream",
     "text": [
      "/Users/danbryce/Documents/sift/xplan/external/xplan/xplan-to-autoprotocol-reactor/xplan-dev-env/xplan-dev-env/lib/python3.7/site-packages/pandas/core/indexing.py:480: SettingWithCopyWarning: \n",
      "A value is trying to be set on a copy of a slice from a DataFrame.\n",
      "Try using .loc[row_indexer,col_indexer] = value instead\n",
      "\n",
      "See the caveats in the documentation: http://pandas.pydata.org/pandas-docs/stable/user_guide/indexing.html#returning-a-view-versus-a-copy\n",
      "  self.obj[item] = s\n"
     ]
    },
    {
     "name": "stdout",
     "output_type": "stream",
     "text": [
      "['FSC-A', 'SSC-A', 'BL1-A', 'RL1-A', 'FSC-H', 'SSC-H', 'BL1-H', 'RL1-H', 'FSC-W', 'SSC-W', 'BL1-W', 'RL1-W']\n",
      "\n",
      "<harness.test_harness_class.TestHarness object at 0x2f499d588>\n"
     ]
    },
    {
     "name": "stderr",
     "output_type": "stream",
     "text": [
      "/Users/danbryce/Documents/sift/xplan/external/xplan/xplan-to-autoprotocol-reactor/xplan-dev-env/xplan-dev-env/lib/python3.7/site-packages/pandas/core/indexing.py:362: SettingWithCopyWarning: \n",
      "A value is trying to be set on a copy of a slice from a DataFrame.\n",
      "Try using .loc[row_indexer,col_indexer] = value instead\n",
      "\n",
      "See the caveats in the documentation: http://pandas.pydata.org/pandas-docs/stable/user_guide/indexing.html#returning-a-view-versus-a-copy\n",
      "  self.obj[key] = _infer_fill_value(value)\n"
     ]
    },
    {
     "name": "stdout",
     "output_type": "stream",
     "text": [
      "HI\n",
      "----------------------------------------------------------------------------------------------------\n",
      "Starting run at time 23:20:16\n",
      "Normalizing training and testing splits...\n",
      "Starting Classification training...\n",
      "Training time was: 49.56 seconds\n",
      "Testing time was: 1.89 seconds\n",
      "\n",
      "          Run ID        Date      Time                    Model Name Model Author Num Classes  Accuracy  Balanced Accuracy  AUC Score  Average Precision  F1 Score  Precision  Recall Samples In Train Samples In Test                                                                                      Model Description Column Predicted Num Features Used                                                                                      Data and Split Description Normalized Num Features Normalized Feature Extraction Was Untested Data Predicted\n",
      "0  6bgoYN9Vl2ejw  2019-07-28  23:20:16  random_forest_classification  Hamed        2           0.794     0.794              0.874      0.858              0.804     0.764      0.849   192000           48000           Random Forest: n_estimators=361, max_features=auto, criterion=entropy, min_samples_leaf=13, n_jobs=-1  class_label      12                {'experiment_id': 'r1dd37mcxv5pf4', 'random_state': 3, 'live_volume': 0.0, 'dead_volume': 64.0, 'stain': None}  True       12                      False              False                     \n",
      "\n",
      "Run finished at 23:21:09. Total run time = 53.30 seconds\n",
      "^^^^^^^^^^^^^^^^^^^^^^^^^^^^^^^^^^^^^^^^^^^^^^^^^^^^^^^^^^^^^^^^^^^^^^^^^^^^^^^^^^^^^^^^^^^^^^^^^^^^\n",
      "\n",
      "\n",
      "\n",
      "\n",
      "HI\n",
      "{'experiment_id': 'r1dd37mcxv5pf4', 'random_state': 3, 'live_volume': 0.0, 'dead_volume': 29, 'stain': 'SYTOX Red Stain'}\n",
      "data_columns: ['Container Type', 'Control', 'Culture_Volume', 'Media', 'Replicate', 'Storage (C)', 'Strain', 'checksum', 'filename', 'kill', 'kill_volume', 'plate_id', 'source', 'stain', 'well', 'experiment_id', 'Time', 'FSC-A', 'SSC-A', 'BL1-A', 'RL1-A', 'FSC-H', 'SSC-H', 'BL1-H', 'RL1-H', 'FSC-W', 'SSC-W', 'BL1-W', 'RL1-W']\n"
     ]
    },
    {
     "name": "stderr",
     "output_type": "stream",
     "text": [
      "/Users/danbryce/Documents/sift/xplan/external/xplan/xplan-to-autoprotocol-reactor/xplan-dev-env/xplan-dev-env/lib/python3.7/site-packages/pandas/core/indexing.py:480: SettingWithCopyWarning: \n",
      "A value is trying to be set on a copy of a slice from a DataFrame.\n",
      "Try using .loc[row_indexer,col_indexer] = value instead\n",
      "\n",
      "See the caveats in the documentation: http://pandas.pydata.org/pandas-docs/stable/user_guide/indexing.html#returning-a-view-versus-a-copy\n",
      "  self.obj[item] = s\n"
     ]
    },
    {
     "name": "stdout",
     "output_type": "stream",
     "text": [
      "['FSC-A', 'SSC-A', 'BL1-A', 'RL1-A', 'FSC-H', 'SSC-H', 'BL1-H', 'RL1-H', 'FSC-W', 'SSC-W', 'BL1-W', 'RL1-W']\n",
      "\n",
      "<harness.test_harness_class.TestHarness object at 0x1ba4bfba8>\n"
     ]
    },
    {
     "name": "stderr",
     "output_type": "stream",
     "text": [
      "/Users/danbryce/Documents/sift/xplan/external/xplan/xplan-to-autoprotocol-reactor/xplan-dev-env/xplan-dev-env/lib/python3.7/site-packages/pandas/core/indexing.py:362: SettingWithCopyWarning: \n",
      "A value is trying to be set on a copy of a slice from a DataFrame.\n",
      "Try using .loc[row_indexer,col_indexer] = value instead\n",
      "\n",
      "See the caveats in the documentation: http://pandas.pydata.org/pandas-docs/stable/user_guide/indexing.html#returning-a-view-versus-a-copy\n",
      "  self.obj[key] = _infer_fill_value(value)\n"
     ]
    },
    {
     "name": "stdout",
     "output_type": "stream",
     "text": [
      "HI\n",
      "----------------------------------------------------------------------------------------------------\n",
      "Starting run at time 23:21:15\n",
      "Normalizing training and testing splits...\n",
      "Starting Classification training...\n",
      "Training time was: 65.87 seconds\n",
      "Testing time was: 1.77 seconds\n",
      "\n",
      "          Run ID        Date      Time                    Model Name Model Author Num Classes  Accuracy  Balanced Accuracy  AUC Score  Average Precision  F1 Score  Precision  Recall Samples In Train Samples In Test                                                                                      Model Description Column Predicted Num Features Used                                                                                                 Data and Split Description Normalized Num Features Normalized Feature Extraction Was Untested Data Predicted\n",
      "0  Ep6qyyDvpXpZ8  2019-07-28  23:21:15  random_forest_classification  Hamed        2           0.65      0.65               0.71       0.677              0.674     0.63       0.725   192000           48000           Random Forest: n_estimators=361, max_features=auto, criterion=entropy, min_samples_leaf=13, n_jobs=-1  class_label      12                {'experiment_id': 'r1dd37mcxv5pf4', 'random_state': 3, 'live_volume': 0.0, 'dead_volume': 29, 'stain': 'SYTOX Red Stain'}  True       12                      False              False                     \n",
      "\n",
      "Run finished at 23:22:25. Total run time = 69.56 seconds\n",
      "^^^^^^^^^^^^^^^^^^^^^^^^^^^^^^^^^^^^^^^^^^^^^^^^^^^^^^^^^^^^^^^^^^^^^^^^^^^^^^^^^^^^^^^^^^^^^^^^^^^^\n",
      "\n",
      "\n",
      "\n",
      "\n",
      "HI\n",
      "{'experiment_id': 'r1dd37mcxv5pf4', 'random_state': 3, 'live_volume': 0.0, 'dead_volume': 29, 'stain': None}\n",
      "data_columns: ['Container Type', 'Control', 'Culture_Volume', 'Media', 'Replicate', 'Storage (C)', 'Strain', 'checksum', 'filename', 'kill', 'kill_volume', 'plate_id', 'source', 'stain', 'well', 'experiment_id', 'Time', 'FSC-A', 'SSC-A', 'BL1-A', 'RL1-A', 'FSC-H', 'SSC-H', 'BL1-H', 'RL1-H', 'FSC-W', 'SSC-W', 'BL1-W', 'RL1-W']\n"
     ]
    },
    {
     "name": "stderr",
     "output_type": "stream",
     "text": [
      "/Users/danbryce/Documents/sift/xplan/external/xplan/xplan-to-autoprotocol-reactor/xplan-dev-env/xplan-dev-env/lib/python3.7/site-packages/pandas/core/indexing.py:480: SettingWithCopyWarning: \n",
      "A value is trying to be set on a copy of a slice from a DataFrame.\n",
      "Try using .loc[row_indexer,col_indexer] = value instead\n",
      "\n",
      "See the caveats in the documentation: http://pandas.pydata.org/pandas-docs/stable/user_guide/indexing.html#returning-a-view-versus-a-copy\n",
      "  self.obj[item] = s\n"
     ]
    },
    {
     "name": "stdout",
     "output_type": "stream",
     "text": [
      "['FSC-A', 'SSC-A', 'BL1-A', 'RL1-A', 'FSC-H', 'SSC-H', 'BL1-H', 'RL1-H', 'FSC-W', 'SSC-W', 'BL1-W', 'RL1-W']\n",
      "\n",
      "<harness.test_harness_class.TestHarness object at 0x19d23bef0>\n"
     ]
    },
    {
     "name": "stderr",
     "output_type": "stream",
     "text": [
      "/Users/danbryce/Documents/sift/xplan/external/xplan/xplan-to-autoprotocol-reactor/xplan-dev-env/xplan-dev-env/lib/python3.7/site-packages/pandas/core/indexing.py:362: SettingWithCopyWarning: \n",
      "A value is trying to be set on a copy of a slice from a DataFrame.\n",
      "Try using .loc[row_indexer,col_indexer] = value instead\n",
      "\n",
      "See the caveats in the documentation: http://pandas.pydata.org/pandas-docs/stable/user_guide/indexing.html#returning-a-view-versus-a-copy\n",
      "  self.obj[key] = _infer_fill_value(value)\n"
     ]
    },
    {
     "name": "stdout",
     "output_type": "stream",
     "text": [
      "HI\n",
      "----------------------------------------------------------------------------------------------------\n",
      "Starting run at time 23:22:31\n",
      "Normalizing training and testing splits...\n",
      "Starting Classification training...\n",
      "Training time was: 54.80 seconds\n",
      "Testing time was: 1.57 seconds\n",
      "\n",
      "          Run ID        Date      Time                    Model Name Model Author Num Classes  Accuracy  Balanced Accuracy  AUC Score  Average Precision  F1 Score  Precision  Recall Samples In Train Samples In Test                                                                                      Model Description Column Predicted Num Features Used                                                                                    Data and Split Description Normalized Num Features Normalized Feature Extraction Was Untested Data Predicted\n",
      "0  QoNwakJdPk2ok  2019-07-28  23:22:31  random_forest_classification  Hamed        2           0.634     0.634              0.688      0.672              0.637     0.632      0.642   192000           48000           Random Forest: n_estimators=361, max_features=auto, criterion=entropy, min_samples_leaf=13, n_jobs=-1  class_label      12                {'experiment_id': 'r1dd37mcxv5pf4', 'random_state': 3, 'live_volume': 0.0, 'dead_volume': 29, 'stain': None}  True       12                      False              False                     \n",
      "\n",
      "Run finished at 23:23:29. Total run time = 58.17 seconds\n",
      "^^^^^^^^^^^^^^^^^^^^^^^^^^^^^^^^^^^^^^^^^^^^^^^^^^^^^^^^^^^^^^^^^^^^^^^^^^^^^^^^^^^^^^^^^^^^^^^^^^^^\n",
      "\n",
      "\n",
      "\n",
      "\n",
      "HI\n",
      "{'experiment_id': 'r1dd37mcxv5pf4', 'random_state': 4, 'live_volume': 0.0, 'dead_volume': 980.0, 'stain': 'SYTOX Red Stain'}\n",
      "data_columns: ['Container Type', 'Control', 'Culture_Volume', 'Media', 'Replicate', 'Storage (C)', 'Strain', 'checksum', 'filename', 'kill', 'kill_volume', 'plate_id', 'source', 'stain', 'well', 'experiment_id', 'Time', 'FSC-A', 'SSC-A', 'BL1-A', 'RL1-A', 'FSC-H', 'SSC-H', 'BL1-H', 'RL1-H', 'FSC-W', 'SSC-W', 'BL1-W', 'RL1-W']\n"
     ]
    },
    {
     "name": "stderr",
     "output_type": "stream",
     "text": [
      "/Users/danbryce/Documents/sift/xplan/external/xplan/xplan-to-autoprotocol-reactor/xplan-dev-env/xplan-dev-env/lib/python3.7/site-packages/pandas/core/indexing.py:480: SettingWithCopyWarning: \n",
      "A value is trying to be set on a copy of a slice from a DataFrame.\n",
      "Try using .loc[row_indexer,col_indexer] = value instead\n",
      "\n",
      "See the caveats in the documentation: http://pandas.pydata.org/pandas-docs/stable/user_guide/indexing.html#returning-a-view-versus-a-copy\n",
      "  self.obj[item] = s\n"
     ]
    },
    {
     "name": "stdout",
     "output_type": "stream",
     "text": [
      "['FSC-A', 'SSC-A', 'BL1-A', 'RL1-A', 'FSC-H', 'SSC-H', 'BL1-H', 'RL1-H', 'FSC-W', 'SSC-W', 'BL1-W', 'RL1-W']\n",
      "\n",
      "<harness.test_harness_class.TestHarness object at 0x1ba266a90>\n"
     ]
    },
    {
     "name": "stderr",
     "output_type": "stream",
     "text": [
      "/Users/danbryce/Documents/sift/xplan/external/xplan/xplan-to-autoprotocol-reactor/xplan-dev-env/xplan-dev-env/lib/python3.7/site-packages/pandas/core/indexing.py:362: SettingWithCopyWarning: \n",
      "A value is trying to be set on a copy of a slice from a DataFrame.\n",
      "Try using .loc[row_indexer,col_indexer] = value instead\n",
      "\n",
      "See the caveats in the documentation: http://pandas.pydata.org/pandas-docs/stable/user_guide/indexing.html#returning-a-view-versus-a-copy\n",
      "  self.obj[key] = _infer_fill_value(value)\n"
     ]
    },
    {
     "name": "stdout",
     "output_type": "stream",
     "text": [
      "HI\n",
      "----------------------------------------------------------------------------------------------------\n",
      "Starting run at time 23:23:36\n",
      "Normalizing training and testing splits...\n",
      "Starting Classification training...\n",
      "Training time was: 33.75 seconds\n",
      "Testing time was: 0.65 seconds\n",
      "\n",
      "          Run ID        Date      Time                    Model Name Model Author Num Classes  Accuracy  Balanced Accuracy  AUC Score  Average Precision  F1 Score  Precision  Recall Samples In Train Samples In Test                                                                                      Model Description Column Predicted Num Features Used                                                                                                    Data and Split Description Normalized Num Features Normalized Feature Extraction Was Untested Data Predicted\n",
      "0  Em36JaYo3PBqx  2019-07-28  23:23:36  random_forest_classification  Hamed        2           0.999     0.999              1.0        1.0                0.999     0.999      0.998   192000           48000           Random Forest: n_estimators=361, max_features=auto, criterion=entropy, min_samples_leaf=13, n_jobs=-1  class_label      12                {'experiment_id': 'r1dd37mcxv5pf4', 'random_state': 4, 'live_volume': 0.0, 'dead_volume': 980.0, 'stain': 'SYTOX Red Stain'}  True       12                      False              False                     \n",
      "\n",
      "Run finished at 23:24:12. Total run time = 36.13 seconds\n",
      "^^^^^^^^^^^^^^^^^^^^^^^^^^^^^^^^^^^^^^^^^^^^^^^^^^^^^^^^^^^^^^^^^^^^^^^^^^^^^^^^^^^^^^^^^^^^^^^^^^^^\n",
      "\n",
      "\n",
      "\n",
      "\n",
      "HI\n",
      "{'experiment_id': 'r1dd37mcxv5pf4', 'random_state': 4, 'live_volume': 0.0, 'dead_volume': 980.0, 'stain': None}\n",
      "data_columns: ['Container Type', 'Control', 'Culture_Volume', 'Media', 'Replicate', 'Storage (C)', 'Strain', 'checksum', 'filename', 'kill', 'kill_volume', 'plate_id', 'source', 'stain', 'well', 'experiment_id', 'Time', 'FSC-A', 'SSC-A', 'BL1-A', 'RL1-A', 'FSC-H', 'SSC-H', 'BL1-H', 'RL1-H', 'FSC-W', 'SSC-W', 'BL1-W', 'RL1-W']\n"
     ]
    },
    {
     "name": "stderr",
     "output_type": "stream",
     "text": [
      "/Users/danbryce/Documents/sift/xplan/external/xplan/xplan-to-autoprotocol-reactor/xplan-dev-env/xplan-dev-env/lib/python3.7/site-packages/pandas/core/indexing.py:480: SettingWithCopyWarning: \n",
      "A value is trying to be set on a copy of a slice from a DataFrame.\n",
      "Try using .loc[row_indexer,col_indexer] = value instead\n",
      "\n",
      "See the caveats in the documentation: http://pandas.pydata.org/pandas-docs/stable/user_guide/indexing.html#returning-a-view-versus-a-copy\n",
      "  self.obj[item] = s\n"
     ]
    },
    {
     "name": "stdout",
     "output_type": "stream",
     "text": [
      "['FSC-A', 'SSC-A', 'BL1-A', 'RL1-A', 'FSC-H', 'SSC-H', 'BL1-H', 'RL1-H', 'FSC-W', 'SSC-W', 'BL1-W', 'RL1-W']\n",
      "\n",
      "<harness.test_harness_class.TestHarness object at 0x172975f28>\n"
     ]
    },
    {
     "name": "stderr",
     "output_type": "stream",
     "text": [
      "/Users/danbryce/Documents/sift/xplan/external/xplan/xplan-to-autoprotocol-reactor/xplan-dev-env/xplan-dev-env/lib/python3.7/site-packages/pandas/core/indexing.py:362: SettingWithCopyWarning: \n",
      "A value is trying to be set on a copy of a slice from a DataFrame.\n",
      "Try using .loc[row_indexer,col_indexer] = value instead\n",
      "\n",
      "See the caveats in the documentation: http://pandas.pydata.org/pandas-docs/stable/user_guide/indexing.html#returning-a-view-versus-a-copy\n",
      "  self.obj[key] = _infer_fill_value(value)\n"
     ]
    },
    {
     "name": "stdout",
     "output_type": "stream",
     "text": [
      "HI\n",
      "----------------------------------------------------------------------------------------------------\n",
      "Starting run at time 23:24:18\n",
      "Normalizing training and testing splits...\n",
      "Starting Classification training...\n",
      "Training time was: 38.14 seconds\n",
      "Testing time was: 0.66 seconds\n",
      "\n",
      "          Run ID        Date      Time                    Model Name Model Author Num Classes  Accuracy  Balanced Accuracy  AUC Score  Average Precision  F1 Score  Precision  Recall Samples In Train Samples In Test                                                                                      Model Description Column Predicted Num Features Used                                                                                       Data and Split Description Normalized Num Features Normalized Feature Extraction Was Untested Data Predicted\n",
      "0  EMEJv3yE8gk7x  2019-07-28  23:24:18  random_forest_classification  Hamed        2           0.994     0.994              1.0        1.0                0.994     0.993      0.996   192000           48000           Random Forest: n_estimators=361, max_features=auto, criterion=entropy, min_samples_leaf=13, n_jobs=-1  class_label      12                {'experiment_id': 'r1dd37mcxv5pf4', 'random_state': 4, 'live_volume': 0.0, 'dead_volume': 980.0, 'stain': None}  True       12                      False              False                     \n",
      "\n",
      "Run finished at 23:24:58. Total run time = 40.53 seconds\n",
      "^^^^^^^^^^^^^^^^^^^^^^^^^^^^^^^^^^^^^^^^^^^^^^^^^^^^^^^^^^^^^^^^^^^^^^^^^^^^^^^^^^^^^^^^^^^^^^^^^^^^\n",
      "\n",
      "\n",
      "\n",
      "\n",
      "HI\n",
      "{'experiment_id': 'r1dd37mcxv5pf4', 'random_state': 4, 'live_volume': 0.0, 'dead_volume': 570.0, 'stain': 'SYTOX Red Stain'}\n",
      "data_columns: ['Container Type', 'Control', 'Culture_Volume', 'Media', 'Replicate', 'Storage (C)', 'Strain', 'checksum', 'filename', 'kill', 'kill_volume', 'plate_id', 'source', 'stain', 'well', 'experiment_id', 'Time', 'FSC-A', 'SSC-A', 'BL1-A', 'RL1-A', 'FSC-H', 'SSC-H', 'BL1-H', 'RL1-H', 'FSC-W', 'SSC-W', 'BL1-W', 'RL1-W']\n"
     ]
    },
    {
     "name": "stderr",
     "output_type": "stream",
     "text": [
      "/Users/danbryce/Documents/sift/xplan/external/xplan/xplan-to-autoprotocol-reactor/xplan-dev-env/xplan-dev-env/lib/python3.7/site-packages/pandas/core/indexing.py:480: SettingWithCopyWarning: \n",
      "A value is trying to be set on a copy of a slice from a DataFrame.\n",
      "Try using .loc[row_indexer,col_indexer] = value instead\n",
      "\n",
      "See the caveats in the documentation: http://pandas.pydata.org/pandas-docs/stable/user_guide/indexing.html#returning-a-view-versus-a-copy\n",
      "  self.obj[item] = s\n"
     ]
    },
    {
     "name": "stdout",
     "output_type": "stream",
     "text": [
      "['FSC-A', 'SSC-A', 'BL1-A', 'RL1-A', 'FSC-H', 'SSC-H', 'BL1-H', 'RL1-H', 'FSC-W', 'SSC-W', 'BL1-W', 'RL1-W']\n",
      "\n",
      "<harness.test_harness_class.TestHarness object at 0x19cf4cc18>\n"
     ]
    },
    {
     "name": "stderr",
     "output_type": "stream",
     "text": [
      "/Users/danbryce/Documents/sift/xplan/external/xplan/xplan-to-autoprotocol-reactor/xplan-dev-env/xplan-dev-env/lib/python3.7/site-packages/pandas/core/indexing.py:362: SettingWithCopyWarning: \n",
      "A value is trying to be set on a copy of a slice from a DataFrame.\n",
      "Try using .loc[row_indexer,col_indexer] = value instead\n",
      "\n",
      "See the caveats in the documentation: http://pandas.pydata.org/pandas-docs/stable/user_guide/indexing.html#returning-a-view-versus-a-copy\n",
      "  self.obj[key] = _infer_fill_value(value)\n"
     ]
    },
    {
     "name": "stdout",
     "output_type": "stream",
     "text": [
      "HI\n",
      "----------------------------------------------------------------------------------------------------\n",
      "Starting run at time 23:25:04\n",
      "Normalizing training and testing splits...\n",
      "Starting Classification training...\n",
      "Training time was: 34.94 seconds\n",
      "Testing time was: 0.65 seconds\n",
      "\n",
      "          Run ID        Date      Time                    Model Name Model Author Num Classes  Accuracy  Balanced Accuracy  AUC Score  Average Precision  F1 Score  Precision  Recall Samples In Train Samples In Test                                                                                      Model Description Column Predicted Num Features Used                                                                                                    Data and Split Description Normalized Num Features Normalized Feature Extraction Was Untested Data Predicted\n",
      "0  QRWEVEPypXNxe  2019-07-28  23:25:04  random_forest_classification  Hamed        2           0.997     0.997              1.0        1.0                0.997     0.999      0.995   192000           48000           Random Forest: n_estimators=361, max_features=auto, criterion=entropy, min_samples_leaf=13, n_jobs=-1  class_label      12                {'experiment_id': 'r1dd37mcxv5pf4', 'random_state': 4, 'live_volume': 0.0, 'dead_volume': 570.0, 'stain': 'SYTOX Red Stain'}  True       12                      False              False                     \n",
      "\n",
      "Run finished at 23:25:42. Total run time = 37.36 seconds\n",
      "^^^^^^^^^^^^^^^^^^^^^^^^^^^^^^^^^^^^^^^^^^^^^^^^^^^^^^^^^^^^^^^^^^^^^^^^^^^^^^^^^^^^^^^^^^^^^^^^^^^^\n",
      "\n",
      "\n",
      "\n",
      "\n",
      "HI\n",
      "{'experiment_id': 'r1dd37mcxv5pf4', 'random_state': 4, 'live_volume': 0.0, 'dead_volume': 570.0, 'stain': None}\n",
      "data_columns: ['Container Type', 'Control', 'Culture_Volume', 'Media', 'Replicate', 'Storage (C)', 'Strain', 'checksum', 'filename', 'kill', 'kill_volume', 'plate_id', 'source', 'stain', 'well', 'experiment_id', 'Time', 'FSC-A', 'SSC-A', 'BL1-A', 'RL1-A', 'FSC-H', 'SSC-H', 'BL1-H', 'RL1-H', 'FSC-W', 'SSC-W', 'BL1-W', 'RL1-W']\n"
     ]
    },
    {
     "name": "stderr",
     "output_type": "stream",
     "text": [
      "/Users/danbryce/Documents/sift/xplan/external/xplan/xplan-to-autoprotocol-reactor/xplan-dev-env/xplan-dev-env/lib/python3.7/site-packages/pandas/core/indexing.py:480: SettingWithCopyWarning: \n",
      "A value is trying to be set on a copy of a slice from a DataFrame.\n",
      "Try using .loc[row_indexer,col_indexer] = value instead\n",
      "\n",
      "See the caveats in the documentation: http://pandas.pydata.org/pandas-docs/stable/user_guide/indexing.html#returning-a-view-versus-a-copy\n",
      "  self.obj[item] = s\n"
     ]
    },
    {
     "name": "stdout",
     "output_type": "stream",
     "text": [
      "['FSC-A', 'SSC-A', 'BL1-A', 'RL1-A', 'FSC-H', 'SSC-H', 'BL1-H', 'RL1-H', 'FSC-W', 'SSC-W', 'BL1-W', 'RL1-W']\n",
      "\n",
      "<harness.test_harness_class.TestHarness object at 0x142c09208>\n"
     ]
    },
    {
     "name": "stderr",
     "output_type": "stream",
     "text": [
      "/Users/danbryce/Documents/sift/xplan/external/xplan/xplan-to-autoprotocol-reactor/xplan-dev-env/xplan-dev-env/lib/python3.7/site-packages/pandas/core/indexing.py:362: SettingWithCopyWarning: \n",
      "A value is trying to be set on a copy of a slice from a DataFrame.\n",
      "Try using .loc[row_indexer,col_indexer] = value instead\n",
      "\n",
      "See the caveats in the documentation: http://pandas.pydata.org/pandas-docs/stable/user_guide/indexing.html#returning-a-view-versus-a-copy\n",
      "  self.obj[key] = _infer_fill_value(value)\n"
     ]
    },
    {
     "name": "stdout",
     "output_type": "stream",
     "text": [
      "HI\n",
      "----------------------------------------------------------------------------------------------------\n",
      "Starting run at time 23:25:48\n",
      "Normalizing training and testing splits...\n",
      "Starting Classification training...\n",
      "Training time was: 45.65 seconds\n",
      "Testing time was: 0.87 seconds\n",
      "\n",
      "          Run ID        Date      Time                    Model Name Model Author Num Classes  Accuracy  Balanced Accuracy  AUC Score  Average Precision  F1 Score  Precision  Recall Samples In Train Samples In Test                                                                                      Model Description Column Predicted Num Features Used                                                                                       Data and Split Description Normalized Num Features Normalized Feature Extraction Was Untested Data Predicted\n",
      "0  QOZPZJ1wNYPbe  2019-07-28  23:25:48  random_forest_classification  Hamed        2           0.977     0.977              0.997      0.997              0.978     0.972      0.984   183965           45992           Random Forest: n_estimators=361, max_features=auto, criterion=entropy, min_samples_leaf=13, n_jobs=-1  class_label      12                {'experiment_id': 'r1dd37mcxv5pf4', 'random_state': 4, 'live_volume': 0.0, 'dead_volume': 570.0, 'stain': None}  True       12                      False              False                     \n",
      "\n",
      "Run finished at 23:26:36. Total run time = 48.24 seconds\n",
      "^^^^^^^^^^^^^^^^^^^^^^^^^^^^^^^^^^^^^^^^^^^^^^^^^^^^^^^^^^^^^^^^^^^^^^^^^^^^^^^^^^^^^^^^^^^^^^^^^^^^\n",
      "\n",
      "\n",
      "\n",
      "\n",
      "HI\n",
      "{'experiment_id': 'r1dd37mcxv5pf4', 'random_state': 4, 'live_volume': 0.0, 'dead_volume': 370.0, 'stain': 'SYTOX Red Stain'}\n",
      "data_columns: ['Container Type', 'Control', 'Culture_Volume', 'Media', 'Replicate', 'Storage (C)', 'Strain', 'checksum', 'filename', 'kill', 'kill_volume', 'plate_id', 'source', 'stain', 'well', 'experiment_id', 'Time', 'FSC-A', 'SSC-A', 'BL1-A', 'RL1-A', 'FSC-H', 'SSC-H', 'BL1-H', 'RL1-H', 'FSC-W', 'SSC-W', 'BL1-W', 'RL1-W']\n"
     ]
    },
    {
     "name": "stderr",
     "output_type": "stream",
     "text": [
      "/Users/danbryce/Documents/sift/xplan/external/xplan/xplan-to-autoprotocol-reactor/xplan-dev-env/xplan-dev-env/lib/python3.7/site-packages/pandas/core/indexing.py:480: SettingWithCopyWarning: \n",
      "A value is trying to be set on a copy of a slice from a DataFrame.\n",
      "Try using .loc[row_indexer,col_indexer] = value instead\n",
      "\n",
      "See the caveats in the documentation: http://pandas.pydata.org/pandas-docs/stable/user_guide/indexing.html#returning-a-view-versus-a-copy\n",
      "  self.obj[item] = s\n"
     ]
    },
    {
     "name": "stdout",
     "output_type": "stream",
     "text": [
      "['FSC-A', 'SSC-A', 'BL1-A', 'RL1-A', 'FSC-H', 'SSC-H', 'BL1-H', 'RL1-H', 'FSC-W', 'SSC-W', 'BL1-W', 'RL1-W']\n",
      "\n",
      "<harness.test_harness_class.TestHarness object at 0x29d40aeb8>\n"
     ]
    },
    {
     "name": "stderr",
     "output_type": "stream",
     "text": [
      "/Users/danbryce/Documents/sift/xplan/external/xplan/xplan-to-autoprotocol-reactor/xplan-dev-env/xplan-dev-env/lib/python3.7/site-packages/pandas/core/indexing.py:362: SettingWithCopyWarning: \n",
      "A value is trying to be set on a copy of a slice from a DataFrame.\n",
      "Try using .loc[row_indexer,col_indexer] = value instead\n",
      "\n",
      "See the caveats in the documentation: http://pandas.pydata.org/pandas-docs/stable/user_guide/indexing.html#returning-a-view-versus-a-copy\n",
      "  self.obj[key] = _infer_fill_value(value)\n"
     ]
    },
    {
     "name": "stdout",
     "output_type": "stream",
     "text": [
      "HI\n",
      "----------------------------------------------------------------------------------------------------\n",
      "Starting run at time 23:26:42\n",
      "Normalizing training and testing splits...\n",
      "Starting Classification training...\n",
      "Training time was: 29.07 seconds\n",
      "Testing time was: 0.65 seconds\n",
      "\n",
      "          Run ID        Date      Time                    Model Name Model Author Num Classes  Accuracy  Balanced Accuracy  AUC Score  Average Precision  F1 Score  Precision  Recall Samples In Train Samples In Test                                                                                      Model Description Column Predicted Num Features Used                                                                                                    Data and Split Description Normalized Num Features Normalized Feature Extraction Was Untested Data Predicted\n",
      "0  QyN3J5legvYgo  2019-07-28  23:26:42  random_forest_classification  Hamed        2           0.997     0.997              1.0        1.0                0.997     0.999      0.996   175331           43833           Random Forest: n_estimators=361, max_features=auto, criterion=entropy, min_samples_leaf=13, n_jobs=-1  class_label      12                {'experiment_id': 'r1dd37mcxv5pf4', 'random_state': 4, 'live_volume': 0.0, 'dead_volume': 370.0, 'stain': 'SYTOX Red Stain'}  True       12                      False              False                     \n",
      "\n",
      "Run finished at 23:27:13. Total run time = 31.36 seconds\n",
      "^^^^^^^^^^^^^^^^^^^^^^^^^^^^^^^^^^^^^^^^^^^^^^^^^^^^^^^^^^^^^^^^^^^^^^^^^^^^^^^^^^^^^^^^^^^^^^^^^^^^\n",
      "\n",
      "\n",
      "\n",
      "\n",
      "HI\n",
      "{'experiment_id': 'r1dd37mcxv5pf4', 'random_state': 4, 'live_volume': 0.0, 'dead_volume': 370.0, 'stain': None}\n",
      "data_columns: ['Container Type', 'Control', 'Culture_Volume', 'Media', 'Replicate', 'Storage (C)', 'Strain', 'checksum', 'filename', 'kill', 'kill_volume', 'plate_id', 'source', 'stain', 'well', 'experiment_id', 'Time', 'FSC-A', 'SSC-A', 'BL1-A', 'RL1-A', 'FSC-H', 'SSC-H', 'BL1-H', 'RL1-H', 'FSC-W', 'SSC-W', 'BL1-W', 'RL1-W']\n"
     ]
    },
    {
     "name": "stderr",
     "output_type": "stream",
     "text": [
      "/Users/danbryce/Documents/sift/xplan/external/xplan/xplan-to-autoprotocol-reactor/xplan-dev-env/xplan-dev-env/lib/python3.7/site-packages/pandas/core/indexing.py:480: SettingWithCopyWarning: \n",
      "A value is trying to be set on a copy of a slice from a DataFrame.\n",
      "Try using .loc[row_indexer,col_indexer] = value instead\n",
      "\n",
      "See the caveats in the documentation: http://pandas.pydata.org/pandas-docs/stable/user_guide/indexing.html#returning-a-view-versus-a-copy\n",
      "  self.obj[item] = s\n"
     ]
    },
    {
     "name": "stdout",
     "output_type": "stream",
     "text": [
      "['FSC-A', 'SSC-A', 'BL1-A', 'RL1-A', 'FSC-H', 'SSC-H', 'BL1-H', 'RL1-H', 'FSC-W', 'SSC-W', 'BL1-W', 'RL1-W']\n",
      "\n",
      "<harness.test_harness_class.TestHarness object at 0x292124b38>\n"
     ]
    },
    {
     "name": "stderr",
     "output_type": "stream",
     "text": [
      "/Users/danbryce/Documents/sift/xplan/external/xplan/xplan-to-autoprotocol-reactor/xplan-dev-env/xplan-dev-env/lib/python3.7/site-packages/pandas/core/indexing.py:362: SettingWithCopyWarning: \n",
      "A value is trying to be set on a copy of a slice from a DataFrame.\n",
      "Try using .loc[row_indexer,col_indexer] = value instead\n",
      "\n",
      "See the caveats in the documentation: http://pandas.pydata.org/pandas-docs/stable/user_guide/indexing.html#returning-a-view-versus-a-copy\n",
      "  self.obj[key] = _infer_fill_value(value)\n"
     ]
    },
    {
     "name": "stdout",
     "output_type": "stream",
     "text": [
      "HI\n",
      "----------------------------------------------------------------------------------------------------\n",
      "Starting run at time 23:27:19\n",
      "Normalizing training and testing splits...\n",
      "Starting Classification training...\n",
      "Training time was: 42.38 seconds\n",
      "Testing time was: 0.95 seconds\n",
      "\n",
      "          Run ID        Date      Time                    Model Name Model Author Num Classes  Accuracy  Balanced Accuracy  AUC Score  Average Precision  F1 Score  Precision  Recall Samples In Train Samples In Test                                                                                      Model Description Column Predicted Num Features Used                                                                                       Data and Split Description Normalized Num Features Normalized Feature Extraction Was Untested Data Predicted\n",
      "0  aWxBvxe3WXBqw  2019-07-28  23:27:19  random_forest_classification  Hamed        2           0.973     0.971              0.995      0.995              0.976     0.972      0.98    166786           41697           Random Forest: n_estimators=361, max_features=auto, criterion=entropy, min_samples_leaf=13, n_jobs=-1  class_label      12                {'experiment_id': 'r1dd37mcxv5pf4', 'random_state': 4, 'live_volume': 0.0, 'dead_volume': 370.0, 'stain': None}  True       12                      False              False                     \n",
      "\n",
      "Run finished at 23:28:04. Total run time = 45.26 seconds\n",
      "^^^^^^^^^^^^^^^^^^^^^^^^^^^^^^^^^^^^^^^^^^^^^^^^^^^^^^^^^^^^^^^^^^^^^^^^^^^^^^^^^^^^^^^^^^^^^^^^^^^^\n",
      "\n",
      "\n",
      "\n",
      "\n",
      "HI\n",
      "{'experiment_id': 'r1dd37mcxv5pf4', 'random_state': 4, 'live_volume': 0.0, 'dead_volume': 250.0, 'stain': 'SYTOX Red Stain'}\n",
      "data_columns: ['Container Type', 'Control', 'Culture_Volume', 'Media', 'Replicate', 'Storage (C)', 'Strain', 'checksum', 'filename', 'kill', 'kill_volume', 'plate_id', 'source', 'stain', 'well', 'experiment_id', 'Time', 'FSC-A', 'SSC-A', 'BL1-A', 'RL1-A', 'FSC-H', 'SSC-H', 'BL1-H', 'RL1-H', 'FSC-W', 'SSC-W', 'BL1-W', 'RL1-W']\n"
     ]
    },
    {
     "name": "stderr",
     "output_type": "stream",
     "text": [
      "/Users/danbryce/Documents/sift/xplan/external/xplan/xplan-to-autoprotocol-reactor/xplan-dev-env/xplan-dev-env/lib/python3.7/site-packages/pandas/core/indexing.py:480: SettingWithCopyWarning: \n",
      "A value is trying to be set on a copy of a slice from a DataFrame.\n",
      "Try using .loc[row_indexer,col_indexer] = value instead\n",
      "\n",
      "See the caveats in the documentation: http://pandas.pydata.org/pandas-docs/stable/user_guide/indexing.html#returning-a-view-versus-a-copy\n",
      "  self.obj[item] = s\n"
     ]
    },
    {
     "name": "stdout",
     "output_type": "stream",
     "text": [
      "['FSC-A', 'SSC-A', 'BL1-A', 'RL1-A', 'FSC-H', 'SSC-H', 'BL1-H', 'RL1-H', 'FSC-W', 'SSC-W', 'BL1-W', 'RL1-W']\n",
      "\n",
      "<harness.test_harness_class.TestHarness object at 0x29b0915c0>\n"
     ]
    },
    {
     "name": "stderr",
     "output_type": "stream",
     "text": [
      "/Users/danbryce/Documents/sift/xplan/external/xplan/xplan-to-autoprotocol-reactor/xplan-dev-env/xplan-dev-env/lib/python3.7/site-packages/pandas/core/indexing.py:362: SettingWithCopyWarning: \n",
      "A value is trying to be set on a copy of a slice from a DataFrame.\n",
      "Try using .loc[row_indexer,col_indexer] = value instead\n",
      "\n",
      "See the caveats in the documentation: http://pandas.pydata.org/pandas-docs/stable/user_guide/indexing.html#returning-a-view-versus-a-copy\n",
      "  self.obj[key] = _infer_fill_value(value)\n"
     ]
    },
    {
     "name": "stdout",
     "output_type": "stream",
     "text": [
      "HI\n",
      "----------------------------------------------------------------------------------------------------\n",
      "Starting run at time 23:28:09\n",
      "Normalizing training and testing splits...\n",
      "Starting Classification training...\n",
      "Training time was: 28.71 seconds\n",
      "Testing time was: 0.64 seconds\n",
      "\n",
      "          Run ID        Date      Time                    Model Name Model Author Num Classes  Accuracy  Balanced Accuracy  AUC Score  Average Precision  F1 Score  Precision  Recall Samples In Train Samples In Test                                                                                      Model Description Column Predicted Num Features Used                                                                                                    Data and Split Description Normalized Num Features Normalized Feature Extraction Was Untested Data Predicted\n",
      "0  QPkdbWm2EWYl3  2019-07-28  23:28:09  random_forest_classification  Hamed        2           0.996     0.997              1.0        1.0                0.997     0.999      0.995   147452           36864           Random Forest: n_estimators=361, max_features=auto, criterion=entropy, min_samples_leaf=13, n_jobs=-1  class_label      12                {'experiment_id': 'r1dd37mcxv5pf4', 'random_state': 4, 'live_volume': 0.0, 'dead_volume': 250.0, 'stain': 'SYTOX Red Stain'}  True       12                      False              False                     \n",
      "\n",
      "Run finished at 23:28:40. Total run time = 30.77 seconds\n",
      "^^^^^^^^^^^^^^^^^^^^^^^^^^^^^^^^^^^^^^^^^^^^^^^^^^^^^^^^^^^^^^^^^^^^^^^^^^^^^^^^^^^^^^^^^^^^^^^^^^^^\n",
      "\n",
      "\n",
      "\n",
      "\n",
      "HI\n",
      "{'experiment_id': 'r1dd37mcxv5pf4', 'random_state': 4, 'live_volume': 0.0, 'dead_volume': 250.0, 'stain': None}\n",
      "data_columns: ['Container Type', 'Control', 'Culture_Volume', 'Media', 'Replicate', 'Storage (C)', 'Strain', 'checksum', 'filename', 'kill', 'kill_volume', 'plate_id', 'source', 'stain', 'well', 'experiment_id', 'Time', 'FSC-A', 'SSC-A', 'BL1-A', 'RL1-A', 'FSC-H', 'SSC-H', 'BL1-H', 'RL1-H', 'FSC-W', 'SSC-W', 'BL1-W', 'RL1-W']\n"
     ]
    },
    {
     "name": "stderr",
     "output_type": "stream",
     "text": [
      "/Users/danbryce/Documents/sift/xplan/external/xplan/xplan-to-autoprotocol-reactor/xplan-dev-env/xplan-dev-env/lib/python3.7/site-packages/pandas/core/indexing.py:480: SettingWithCopyWarning: \n",
      "A value is trying to be set on a copy of a slice from a DataFrame.\n",
      "Try using .loc[row_indexer,col_indexer] = value instead\n",
      "\n",
      "See the caveats in the documentation: http://pandas.pydata.org/pandas-docs/stable/user_guide/indexing.html#returning-a-view-versus-a-copy\n",
      "  self.obj[item] = s\n"
     ]
    },
    {
     "name": "stdout",
     "output_type": "stream",
     "text": [
      "['FSC-A', 'SSC-A', 'BL1-A', 'RL1-A', 'FSC-H', 'SSC-H', 'BL1-H', 'RL1-H', 'FSC-W', 'SSC-W', 'BL1-W', 'RL1-W']\n",
      "\n",
      "<harness.test_harness_class.TestHarness object at 0x2915f1390>\n"
     ]
    },
    {
     "name": "stderr",
     "output_type": "stream",
     "text": [
      "/Users/danbryce/Documents/sift/xplan/external/xplan/xplan-to-autoprotocol-reactor/xplan-dev-env/xplan-dev-env/lib/python3.7/site-packages/pandas/core/indexing.py:362: SettingWithCopyWarning: \n",
      "A value is trying to be set on a copy of a slice from a DataFrame.\n",
      "Try using .loc[row_indexer,col_indexer] = value instead\n",
      "\n",
      "See the caveats in the documentation: http://pandas.pydata.org/pandas-docs/stable/user_guide/indexing.html#returning-a-view-versus-a-copy\n",
      "  self.obj[key] = _infer_fill_value(value)\n"
     ]
    },
    {
     "name": "stdout",
     "output_type": "stream",
     "text": [
      "HI\n",
      "----------------------------------------------------------------------------------------------------\n",
      "Starting run at time 23:28:44\n",
      "Normalizing training and testing splits...\n",
      "Starting Classification training...\n",
      "Training time was: 39.46 seconds\n",
      "Testing time was: 0.83 seconds\n",
      "\n",
      "          Run ID        Date      Time                    Model Name Model Author Num Classes  Accuracy  Balanced Accuracy  AUC Score  Average Precision  F1 Score  Precision  Recall Samples In Train Samples In Test                                                                                      Model Description Column Predicted Num Features Used                                                                                       Data and Split Description Normalized Num Features Normalized Feature Extraction Was Untested Data Predicted\n",
      "0  EpAL7mZ21z9g8  2019-07-28  23:28:44  random_forest_classification  Hamed        2           0.963     0.959              0.991      0.995              0.972     0.975      0.969   142361           35591           Random Forest: n_estimators=361, max_features=auto, criterion=entropy, min_samples_leaf=13, n_jobs=-1  class_label      12                {'experiment_id': 'r1dd37mcxv5pf4', 'random_state': 4, 'live_volume': 0.0, 'dead_volume': 250.0, 'stain': None}  True       12                      False              False                     \n",
      "\n",
      "Run finished at 23:29:26. Total run time = 41.79 seconds\n",
      "^^^^^^^^^^^^^^^^^^^^^^^^^^^^^^^^^^^^^^^^^^^^^^^^^^^^^^^^^^^^^^^^^^^^^^^^^^^^^^^^^^^^^^^^^^^^^^^^^^^^\n",
      "\n",
      "\n",
      "\n",
      "\n",
      "HI\n",
      "{'experiment_id': 'r1dd37mcxv5pf4', 'random_state': 4, 'live_volume': 0.0, 'dead_volume': 170.0, 'stain': 'SYTOX Red Stain'}\n",
      "data_columns: ['Container Type', 'Control', 'Culture_Volume', 'Media', 'Replicate', 'Storage (C)', 'Strain', 'checksum', 'filename', 'kill', 'kill_volume', 'plate_id', 'source', 'stain', 'well', 'experiment_id', 'Time', 'FSC-A', 'SSC-A', 'BL1-A', 'RL1-A', 'FSC-H', 'SSC-H', 'BL1-H', 'RL1-H', 'FSC-W', 'SSC-W', 'BL1-W', 'RL1-W']\n"
     ]
    },
    {
     "name": "stderr",
     "output_type": "stream",
     "text": [
      "/Users/danbryce/Documents/sift/xplan/external/xplan/xplan-to-autoprotocol-reactor/xplan-dev-env/xplan-dev-env/lib/python3.7/site-packages/pandas/core/indexing.py:480: SettingWithCopyWarning: \n",
      "A value is trying to be set on a copy of a slice from a DataFrame.\n",
      "Try using .loc[row_indexer,col_indexer] = value instead\n",
      "\n",
      "See the caveats in the documentation: http://pandas.pydata.org/pandas-docs/stable/user_guide/indexing.html#returning-a-view-versus-a-copy\n",
      "  self.obj[item] = s\n"
     ]
    },
    {
     "name": "stdout",
     "output_type": "stream",
     "text": [
      "['FSC-A', 'SSC-A', 'BL1-A', 'RL1-A', 'FSC-H', 'SSC-H', 'BL1-H', 'RL1-H', 'FSC-W', 'SSC-W', 'BL1-W', 'RL1-W']\n",
      "\n",
      "<harness.test_harness_class.TestHarness object at 0x2a34aaf98>\n"
     ]
    },
    {
     "name": "stderr",
     "output_type": "stream",
     "text": [
      "/Users/danbryce/Documents/sift/xplan/external/xplan/xplan-to-autoprotocol-reactor/xplan-dev-env/xplan-dev-env/lib/python3.7/site-packages/pandas/core/indexing.py:362: SettingWithCopyWarning: \n",
      "A value is trying to be set on a copy of a slice from a DataFrame.\n",
      "Try using .loc[row_indexer,col_indexer] = value instead\n",
      "\n",
      "See the caveats in the documentation: http://pandas.pydata.org/pandas-docs/stable/user_guide/indexing.html#returning-a-view-versus-a-copy\n",
      "  self.obj[key] = _infer_fill_value(value)\n"
     ]
    },
    {
     "name": "stdout",
     "output_type": "stream",
     "text": [
      "HI\n",
      "----------------------------------------------------------------------------------------------------\n",
      "Starting run at time 23:29:33\n",
      "Normalizing training and testing splits...\n",
      "Starting Classification training...\n",
      "Training time was: 51.84 seconds\n",
      "Testing time was: 0.84 seconds\n",
      "\n",
      "          Run ID        Date      Time                    Model Name Model Author Num Classes  Accuracy  Balanced Accuracy  AUC Score  Average Precision  F1 Score  Precision  Recall Samples In Train Samples In Test                                                                                      Model Description Column Predicted Num Features Used                                                                                                    Data and Split Description Normalized Num Features Normalized Feature Extraction Was Untested Data Predicted\n",
      "0  EYaRMq85okBQ1  2019-07-28  23:29:33  random_forest_classification  Hamed        2           0.997     0.997              1.0        0.999              0.997     0.999      0.995   192000           48000           Random Forest: n_estimators=361, max_features=auto, criterion=entropy, min_samples_leaf=13, n_jobs=-1  class_label      12                {'experiment_id': 'r1dd37mcxv5pf4', 'random_state': 4, 'live_volume': 0.0, 'dead_volume': 170.0, 'stain': 'SYTOX Red Stain'}  True       12                      False              False                     \n",
      "\n",
      "Run finished at 23:30:28. Total run time = 54.83 seconds\n",
      "^^^^^^^^^^^^^^^^^^^^^^^^^^^^^^^^^^^^^^^^^^^^^^^^^^^^^^^^^^^^^^^^^^^^^^^^^^^^^^^^^^^^^^^^^^^^^^^^^^^^\n",
      "\n",
      "\n",
      "\n",
      "\n",
      "HI\n",
      "{'experiment_id': 'r1dd37mcxv5pf4', 'random_state': 4, 'live_volume': 0.0, 'dead_volume': 170.0, 'stain': None}\n",
      "data_columns: ['Container Type', 'Control', 'Culture_Volume', 'Media', 'Replicate', 'Storage (C)', 'Strain', 'checksum', 'filename', 'kill', 'kill_volume', 'plate_id', 'source', 'stain', 'well', 'experiment_id', 'Time', 'FSC-A', 'SSC-A', 'BL1-A', 'RL1-A', 'FSC-H', 'SSC-H', 'BL1-H', 'RL1-H', 'FSC-W', 'SSC-W', 'BL1-W', 'RL1-W']\n"
     ]
    },
    {
     "name": "stderr",
     "output_type": "stream",
     "text": [
      "/Users/danbryce/Documents/sift/xplan/external/xplan/xplan-to-autoprotocol-reactor/xplan-dev-env/xplan-dev-env/lib/python3.7/site-packages/pandas/core/indexing.py:480: SettingWithCopyWarning: \n",
      "A value is trying to be set on a copy of a slice from a DataFrame.\n",
      "Try using .loc[row_indexer,col_indexer] = value instead\n",
      "\n",
      "See the caveats in the documentation: http://pandas.pydata.org/pandas-docs/stable/user_guide/indexing.html#returning-a-view-versus-a-copy\n",
      "  self.obj[item] = s\n"
     ]
    },
    {
     "name": "stdout",
     "output_type": "stream",
     "text": [
      "['FSC-A', 'SSC-A', 'BL1-A', 'RL1-A', 'FSC-H', 'SSC-H', 'BL1-H', 'RL1-H', 'FSC-W', 'SSC-W', 'BL1-W', 'RL1-W']\n",
      "\n",
      "<harness.test_harness_class.TestHarness object at 0x1348d7710>\n"
     ]
    },
    {
     "name": "stderr",
     "output_type": "stream",
     "text": [
      "/Users/danbryce/Documents/sift/xplan/external/xplan/xplan-to-autoprotocol-reactor/xplan-dev-env/xplan-dev-env/lib/python3.7/site-packages/pandas/core/indexing.py:362: SettingWithCopyWarning: \n",
      "A value is trying to be set on a copy of a slice from a DataFrame.\n",
      "Try using .loc[row_indexer,col_indexer] = value instead\n",
      "\n",
      "See the caveats in the documentation: http://pandas.pydata.org/pandas-docs/stable/user_guide/indexing.html#returning-a-view-versus-a-copy\n",
      "  self.obj[key] = _infer_fill_value(value)\n"
     ]
    },
    {
     "name": "stdout",
     "output_type": "stream",
     "text": [
      "HI\n",
      "----------------------------------------------------------------------------------------------------\n",
      "Starting run at time 23:30:34\n",
      "Normalizing training and testing splits...\n",
      "Starting Classification training...\n",
      "Training time was: 52.43 seconds\n",
      "Testing time was: 1.26 seconds\n",
      "\n",
      "          Run ID        Date      Time                    Model Name Model Author Num Classes  Accuracy  Balanced Accuracy  AUC Score  Average Precision  F1 Score  Precision  Recall Samples In Train Samples In Test                                                                                      Model Description Column Predicted Num Features Used                                                                                       Data and Split Description Normalized Num Features Normalized Feature Extraction Was Untested Data Predicted\n",
      "0  66voL3j7V2VZl  2019-07-28  23:30:34  random_forest_classification  Hamed        2           0.921     0.921              0.974      0.971              0.921     0.911      0.933   192000           48000           Random Forest: n_estimators=361, max_features=auto, criterion=entropy, min_samples_leaf=13, n_jobs=-1  class_label      12                {'experiment_id': 'r1dd37mcxv5pf4', 'random_state': 4, 'live_volume': 0.0, 'dead_volume': 170.0, 'stain': None}  True       12                      False              False                     \n",
      "\n",
      "Run finished at 23:31:30. Total run time = 55.55 seconds\n",
      "^^^^^^^^^^^^^^^^^^^^^^^^^^^^^^^^^^^^^^^^^^^^^^^^^^^^^^^^^^^^^^^^^^^^^^^^^^^^^^^^^^^^^^^^^^^^^^^^^^^^\n",
      "\n",
      "\n",
      "\n",
      "\n",
      "HI\n",
      "{'experiment_id': 'r1dd37mcxv5pf4', 'random_state': 4, 'live_volume': 0.0, 'dead_volume': 105.0, 'stain': 'SYTOX Red Stain'}\n",
      "data_columns: ['Container Type', 'Control', 'Culture_Volume', 'Media', 'Replicate', 'Storage (C)', 'Strain', 'checksum', 'filename', 'kill', 'kill_volume', 'plate_id', 'source', 'stain', 'well', 'experiment_id', 'Time', 'FSC-A', 'SSC-A', 'BL1-A', 'RL1-A', 'FSC-H', 'SSC-H', 'BL1-H', 'RL1-H', 'FSC-W', 'SSC-W', 'BL1-W', 'RL1-W']\n"
     ]
    },
    {
     "name": "stderr",
     "output_type": "stream",
     "text": [
      "/Users/danbryce/Documents/sift/xplan/external/xplan/xplan-to-autoprotocol-reactor/xplan-dev-env/xplan-dev-env/lib/python3.7/site-packages/pandas/core/indexing.py:480: SettingWithCopyWarning: \n",
      "A value is trying to be set on a copy of a slice from a DataFrame.\n",
      "Try using .loc[row_indexer,col_indexer] = value instead\n",
      "\n",
      "See the caveats in the documentation: http://pandas.pydata.org/pandas-docs/stable/user_guide/indexing.html#returning-a-view-versus-a-copy\n",
      "  self.obj[item] = s\n"
     ]
    },
    {
     "name": "stdout",
     "output_type": "stream",
     "text": [
      "['FSC-A', 'SSC-A', 'BL1-A', 'RL1-A', 'FSC-H', 'SSC-H', 'BL1-H', 'RL1-H', 'FSC-W', 'SSC-W', 'BL1-W', 'RL1-W']\n",
      "\n",
      "<harness.test_harness_class.TestHarness object at 0x2bab7de80>\n"
     ]
    },
    {
     "name": "stderr",
     "output_type": "stream",
     "text": [
      "/Users/danbryce/Documents/sift/xplan/external/xplan/xplan-to-autoprotocol-reactor/xplan-dev-env/xplan-dev-env/lib/python3.7/site-packages/pandas/core/indexing.py:362: SettingWithCopyWarning: \n",
      "A value is trying to be set on a copy of a slice from a DataFrame.\n",
      "Try using .loc[row_indexer,col_indexer] = value instead\n",
      "\n",
      "See the caveats in the documentation: http://pandas.pydata.org/pandas-docs/stable/user_guide/indexing.html#returning-a-view-versus-a-copy\n",
      "  self.obj[key] = _infer_fill_value(value)\n"
     ]
    },
    {
     "name": "stdout",
     "output_type": "stream",
     "text": [
      "HI\n",
      "----------------------------------------------------------------------------------------------------\n",
      "Starting run at time 23:31:36\n",
      "Normalizing training and testing splits...\n",
      "Starting Classification training...\n",
      "Training time was: 43.47 seconds\n",
      "Testing time was: 0.75 seconds\n",
      "\n",
      "          Run ID        Date      Time                    Model Name Model Author Num Classes  Accuracy  Balanced Accuracy  AUC Score  Average Precision  F1 Score  Precision  Recall Samples In Train Samples In Test                                                                                      Model Description Column Predicted Num Features Used                                                                                                    Data and Split Description Normalized Num Features Normalized Feature Extraction Was Untested Data Predicted\n",
      "0  ab2QBY1JQNO1V  2019-07-28  23:31:36  random_forest_classification  Hamed        2           0.997     0.997              1.0        1.0                0.997     0.999      0.996   192000           48000           Random Forest: n_estimators=361, max_features=auto, criterion=entropy, min_samples_leaf=13, n_jobs=-1  class_label      12                {'experiment_id': 'r1dd37mcxv5pf4', 'random_state': 4, 'live_volume': 0.0, 'dead_volume': 105.0, 'stain': 'SYTOX Red Stain'}  True       12                      False              False                     \n",
      "\n",
      "Run finished at 23:32:22. Total run time = 46.01 seconds\n",
      "^^^^^^^^^^^^^^^^^^^^^^^^^^^^^^^^^^^^^^^^^^^^^^^^^^^^^^^^^^^^^^^^^^^^^^^^^^^^^^^^^^^^^^^^^^^^^^^^^^^^\n",
      "\n",
      "\n",
      "\n",
      "\n",
      "HI\n",
      "{'experiment_id': 'r1dd37mcxv5pf4', 'random_state': 4, 'live_volume': 0.0, 'dead_volume': 105.0, 'stain': None}\n",
      "data_columns: ['Container Type', 'Control', 'Culture_Volume', 'Media', 'Replicate', 'Storage (C)', 'Strain', 'checksum', 'filename', 'kill', 'kill_volume', 'plate_id', 'source', 'stain', 'well', 'experiment_id', 'Time', 'FSC-A', 'SSC-A', 'BL1-A', 'RL1-A', 'FSC-H', 'SSC-H', 'BL1-H', 'RL1-H', 'FSC-W', 'SSC-W', 'BL1-W', 'RL1-W']\n"
     ]
    },
    {
     "name": "stderr",
     "output_type": "stream",
     "text": [
      "/Users/danbryce/Documents/sift/xplan/external/xplan/xplan-to-autoprotocol-reactor/xplan-dev-env/xplan-dev-env/lib/python3.7/site-packages/pandas/core/indexing.py:480: SettingWithCopyWarning: \n",
      "A value is trying to be set on a copy of a slice from a DataFrame.\n",
      "Try using .loc[row_indexer,col_indexer] = value instead\n",
      "\n",
      "See the caveats in the documentation: http://pandas.pydata.org/pandas-docs/stable/user_guide/indexing.html#returning-a-view-versus-a-copy\n",
      "  self.obj[item] = s\n"
     ]
    },
    {
     "name": "stdout",
     "output_type": "stream",
     "text": [
      "['FSC-A', 'SSC-A', 'BL1-A', 'RL1-A', 'FSC-H', 'SSC-H', 'BL1-H', 'RL1-H', 'FSC-W', 'SSC-W', 'BL1-W', 'RL1-W']\n"
     ]
    },
    {
     "name": "stderr",
     "output_type": "stream",
     "text": [
      "/Users/danbryce/Documents/sift/xplan/external/xplan/xplan-to-autoprotocol-reactor/xplan-dev-env/xplan-dev-env/lib/python3.7/site-packages/pandas/core/indexing.py:362: SettingWithCopyWarning: \n",
      "A value is trying to be set on a copy of a slice from a DataFrame.\n",
      "Try using .loc[row_indexer,col_indexer] = value instead\n",
      "\n",
      "See the caveats in the documentation: http://pandas.pydata.org/pandas-docs/stable/user_guide/indexing.html#returning-a-view-versus-a-copy\n",
      "  self.obj[key] = _infer_fill_value(value)\n"
     ]
    },
    {
     "name": "stdout",
     "output_type": "stream",
     "text": [
      "\n",
      "<harness.test_harness_class.TestHarness object at 0x142bf2e48>\n",
      "HI\n",
      "----------------------------------------------------------------------------------------------------\n",
      "Starting run at time 23:32:28\n",
      "Normalizing training and testing splits...\n",
      "Starting Classification training...\n",
      "Training time was: 52.80 seconds\n",
      "Testing time was: 1.26 seconds\n",
      "\n",
      "          Run ID        Date      Time                    Model Name Model Author Num Classes  Accuracy  Balanced Accuracy  AUC Score  Average Precision  F1 Score  Precision  Recall Samples In Train Samples In Test                                                                                      Model Description Column Predicted Num Features Used                                                                                       Data and Split Description Normalized Num Features Normalized Feature Extraction Was Untested Data Predicted\n",
      "0  6pJ2yr61D5lrw  2019-07-28  23:32:28  random_forest_classification  Hamed        2           0.94      0.94               0.984      0.982              0.941     0.928      0.954   192000           48000           Random Forest: n_estimators=361, max_features=auto, criterion=entropy, min_samples_leaf=13, n_jobs=-1  class_label      12                {'experiment_id': 'r1dd37mcxv5pf4', 'random_state': 4, 'live_volume': 0.0, 'dead_volume': 105.0, 'stain': None}  True       12                      False              False                     \n",
      "\n",
      "Run finished at 23:33:24. Total run time = 55.89 seconds\n",
      "^^^^^^^^^^^^^^^^^^^^^^^^^^^^^^^^^^^^^^^^^^^^^^^^^^^^^^^^^^^^^^^^^^^^^^^^^^^^^^^^^^^^^^^^^^^^^^^^^^^^\n",
      "\n",
      "\n",
      "\n",
      "\n",
      "HI\n",
      "{'experiment_id': 'r1dd37mcxv5pf4', 'random_state': 4, 'live_volume': 0.0, 'dead_volume': 64.0, 'stain': 'SYTOX Red Stain'}\n",
      "data_columns: ['Container Type', 'Control', 'Culture_Volume', 'Media', 'Replicate', 'Storage (C)', 'Strain', 'checksum', 'filename', 'kill', 'kill_volume', 'plate_id', 'source', 'stain', 'well', 'experiment_id', 'Time', 'FSC-A', 'SSC-A', 'BL1-A', 'RL1-A', 'FSC-H', 'SSC-H', 'BL1-H', 'RL1-H', 'FSC-W', 'SSC-W', 'BL1-W', 'RL1-W']\n"
     ]
    },
    {
     "name": "stderr",
     "output_type": "stream",
     "text": [
      "/Users/danbryce/Documents/sift/xplan/external/xplan/xplan-to-autoprotocol-reactor/xplan-dev-env/xplan-dev-env/lib/python3.7/site-packages/pandas/core/indexing.py:480: SettingWithCopyWarning: \n",
      "A value is trying to be set on a copy of a slice from a DataFrame.\n",
      "Try using .loc[row_indexer,col_indexer] = value instead\n",
      "\n",
      "See the caveats in the documentation: http://pandas.pydata.org/pandas-docs/stable/user_guide/indexing.html#returning-a-view-versus-a-copy\n",
      "  self.obj[item] = s\n"
     ]
    },
    {
     "name": "stdout",
     "output_type": "stream",
     "text": [
      "['FSC-A', 'SSC-A', 'BL1-A', 'RL1-A', 'FSC-H', 'SSC-H', 'BL1-H', 'RL1-H', 'FSC-W', 'SSC-W', 'BL1-W', 'RL1-W']\n",
      "\n",
      "<harness.test_harness_class.TestHarness object at 0x2c5793fd0>\n"
     ]
    },
    {
     "name": "stderr",
     "output_type": "stream",
     "text": [
      "/Users/danbryce/Documents/sift/xplan/external/xplan/xplan-to-autoprotocol-reactor/xplan-dev-env/xplan-dev-env/lib/python3.7/site-packages/pandas/core/indexing.py:362: SettingWithCopyWarning: \n",
      "A value is trying to be set on a copy of a slice from a DataFrame.\n",
      "Try using .loc[row_indexer,col_indexer] = value instead\n",
      "\n",
      "See the caveats in the documentation: http://pandas.pydata.org/pandas-docs/stable/user_guide/indexing.html#returning-a-view-versus-a-copy\n",
      "  self.obj[key] = _infer_fill_value(value)\n"
     ]
    },
    {
     "name": "stdout",
     "output_type": "stream",
     "text": [
      "HI\n",
      "----------------------------------------------------------------------------------------------------\n",
      "Starting run at time 23:33:31\n",
      "Normalizing training and testing splits...\n",
      "Starting Classification training...\n",
      "Training time was: 60.44 seconds\n",
      "Testing time was: 1.46 seconds\n",
      "\n",
      "          Run ID        Date      Time                    Model Name Model Author Num Classes  Accuracy  Balanced Accuracy  AUC Score  Average Precision  F1 Score  Precision  Recall Samples In Train Samples In Test                                                                                      Model Description Column Predicted Num Features Used                                                                                                   Data and Split Description Normalized Num Features Normalized Feature Extraction Was Untested Data Predicted\n",
      "0  amqkx9g3W6vLd  2019-07-28  23:33:31  random_forest_classification  Hamed        2           0.856     0.856              0.926      0.908              0.864     0.819      0.915   192000           48000           Random Forest: n_estimators=361, max_features=auto, criterion=entropy, min_samples_leaf=13, n_jobs=-1  class_label      12                {'experiment_id': 'r1dd37mcxv5pf4', 'random_state': 4, 'live_volume': 0.0, 'dead_volume': 64.0, 'stain': 'SYTOX Red Stain'}  True       12                      False              False                     \n",
      "\n",
      "Run finished at 23:34:34. Total run time = 63.82 seconds\n",
      "^^^^^^^^^^^^^^^^^^^^^^^^^^^^^^^^^^^^^^^^^^^^^^^^^^^^^^^^^^^^^^^^^^^^^^^^^^^^^^^^^^^^^^^^^^^^^^^^^^^^\n",
      "\n",
      "\n",
      "\n",
      "\n",
      "HI\n",
      "{'experiment_id': 'r1dd37mcxv5pf4', 'random_state': 4, 'live_volume': 0.0, 'dead_volume': 64.0, 'stain': None}\n",
      "data_columns: ['Container Type', 'Control', 'Culture_Volume', 'Media', 'Replicate', 'Storage (C)', 'Strain', 'checksum', 'filename', 'kill', 'kill_volume', 'plate_id', 'source', 'stain', 'well', 'experiment_id', 'Time', 'FSC-A', 'SSC-A', 'BL1-A', 'RL1-A', 'FSC-H', 'SSC-H', 'BL1-H', 'RL1-H', 'FSC-W', 'SSC-W', 'BL1-W', 'RL1-W']\n"
     ]
    },
    {
     "name": "stderr",
     "output_type": "stream",
     "text": [
      "/Users/danbryce/Documents/sift/xplan/external/xplan/xplan-to-autoprotocol-reactor/xplan-dev-env/xplan-dev-env/lib/python3.7/site-packages/pandas/core/indexing.py:480: SettingWithCopyWarning: \n",
      "A value is trying to be set on a copy of a slice from a DataFrame.\n",
      "Try using .loc[row_indexer,col_indexer] = value instead\n",
      "\n",
      "See the caveats in the documentation: http://pandas.pydata.org/pandas-docs/stable/user_guide/indexing.html#returning-a-view-versus-a-copy\n",
      "  self.obj[item] = s\n"
     ]
    },
    {
     "name": "stdout",
     "output_type": "stream",
     "text": [
      "['FSC-A', 'SSC-A', 'BL1-A', 'RL1-A', 'FSC-H', 'SSC-H', 'BL1-H', 'RL1-H', 'FSC-W', 'SSC-W', 'BL1-W', 'RL1-W']\n",
      "\n",
      "<harness.test_harness_class.TestHarness object at 0x2c543bef0>\n"
     ]
    },
    {
     "name": "stderr",
     "output_type": "stream",
     "text": [
      "/Users/danbryce/Documents/sift/xplan/external/xplan/xplan-to-autoprotocol-reactor/xplan-dev-env/xplan-dev-env/lib/python3.7/site-packages/pandas/core/indexing.py:362: SettingWithCopyWarning: \n",
      "A value is trying to be set on a copy of a slice from a DataFrame.\n",
      "Try using .loc[row_indexer,col_indexer] = value instead\n",
      "\n",
      "See the caveats in the documentation: http://pandas.pydata.org/pandas-docs/stable/user_guide/indexing.html#returning-a-view-versus-a-copy\n",
      "  self.obj[key] = _infer_fill_value(value)\n"
     ]
    },
    {
     "name": "stdout",
     "output_type": "stream",
     "text": [
      "HI\n",
      "----------------------------------------------------------------------------------------------------\n",
      "Starting run at time 23:34:41\n",
      "Normalizing training and testing splits...\n",
      "Starting Classification training...\n",
      "Training time was: 49.88 seconds\n",
      "Testing time was: 1.46 seconds\n",
      "\n",
      "          Run ID        Date      Time                    Model Name Model Author Num Classes  Accuracy  Balanced Accuracy  AUC Score  Average Precision  F1 Score  Precision  Recall Samples In Train Samples In Test                                                                                      Model Description Column Predicted Num Features Used                                                                                      Data and Split Description Normalized Num Features Normalized Feature Extraction Was Untested Data Predicted\n",
      "0  5OZ1Q58pyDN7w  2019-07-28  23:34:41  random_forest_classification  Hamed        2           0.797     0.797              0.877      0.861              0.808     0.768      0.851   192000           48000           Random Forest: n_estimators=361, max_features=auto, criterion=entropy, min_samples_leaf=13, n_jobs=-1  class_label      12                {'experiment_id': 'r1dd37mcxv5pf4', 'random_state': 4, 'live_volume': 0.0, 'dead_volume': 64.0, 'stain': None}  True       12                      False              False                     \n",
      "\n",
      "Run finished at 23:35:34. Total run time = 53.19 seconds\n",
      "^^^^^^^^^^^^^^^^^^^^^^^^^^^^^^^^^^^^^^^^^^^^^^^^^^^^^^^^^^^^^^^^^^^^^^^^^^^^^^^^^^^^^^^^^^^^^^^^^^^^\n",
      "\n",
      "\n",
      "\n",
      "\n",
      "HI\n",
      "{'experiment_id': 'r1dd37mcxv5pf4', 'random_state': 4, 'live_volume': 0.0, 'dead_volume': 29, 'stain': 'SYTOX Red Stain'}\n",
      "data_columns: ['Container Type', 'Control', 'Culture_Volume', 'Media', 'Replicate', 'Storage (C)', 'Strain', 'checksum', 'filename', 'kill', 'kill_volume', 'plate_id', 'source', 'stain', 'well', 'experiment_id', 'Time', 'FSC-A', 'SSC-A', 'BL1-A', 'RL1-A', 'FSC-H', 'SSC-H', 'BL1-H', 'RL1-H', 'FSC-W', 'SSC-W', 'BL1-W', 'RL1-W']\n"
     ]
    },
    {
     "name": "stderr",
     "output_type": "stream",
     "text": [
      "/Users/danbryce/Documents/sift/xplan/external/xplan/xplan-to-autoprotocol-reactor/xplan-dev-env/xplan-dev-env/lib/python3.7/site-packages/pandas/core/indexing.py:480: SettingWithCopyWarning: \n",
      "A value is trying to be set on a copy of a slice from a DataFrame.\n",
      "Try using .loc[row_indexer,col_indexer] = value instead\n",
      "\n",
      "See the caveats in the documentation: http://pandas.pydata.org/pandas-docs/stable/user_guide/indexing.html#returning-a-view-versus-a-copy\n",
      "  self.obj[item] = s\n"
     ]
    },
    {
     "name": "stdout",
     "output_type": "stream",
     "text": [
      "['FSC-A', 'SSC-A', 'BL1-A', 'RL1-A', 'FSC-H', 'SSC-H', 'BL1-H', 'RL1-H', 'FSC-W', 'SSC-W', 'BL1-W', 'RL1-W']\n",
      "\n",
      "<harness.test_harness_class.TestHarness object at 0x2ee11a748>\n"
     ]
    },
    {
     "name": "stderr",
     "output_type": "stream",
     "text": [
      "/Users/danbryce/Documents/sift/xplan/external/xplan/xplan-to-autoprotocol-reactor/xplan-dev-env/xplan-dev-env/lib/python3.7/site-packages/pandas/core/indexing.py:362: SettingWithCopyWarning: \n",
      "A value is trying to be set on a copy of a slice from a DataFrame.\n",
      "Try using .loc[row_indexer,col_indexer] = value instead\n",
      "\n",
      "See the caveats in the documentation: http://pandas.pydata.org/pandas-docs/stable/user_guide/indexing.html#returning-a-view-versus-a-copy\n",
      "  self.obj[key] = _infer_fill_value(value)\n"
     ]
    },
    {
     "name": "stdout",
     "output_type": "stream",
     "text": [
      "HI\n",
      "----------------------------------------------------------------------------------------------------\n",
      "Starting run at time 23:35:41\n",
      "Normalizing training and testing splits...\n",
      "Starting Classification training...\n",
      "Training time was: 62.62 seconds\n",
      "Testing time was: 1.57 seconds\n",
      "\n",
      "          Run ID        Date      Time                    Model Name Model Author Num Classes  Accuracy  Balanced Accuracy  AUC Score  Average Precision  F1 Score  Precision  Recall Samples In Train Samples In Test                                                                                      Model Description Column Predicted Num Features Used                                                                                                 Data and Split Description Normalized Num Features Normalized Feature Extraction Was Untested Data Predicted\n",
      "0  5ZyJ9Xak7e2xw  2019-07-28  23:35:41  random_forest_classification  Hamed        2           0.647     0.647              0.709      0.677              0.673     0.627      0.726   192000           48000           Random Forest: n_estimators=361, max_features=auto, criterion=entropy, min_samples_leaf=13, n_jobs=-1  class_label      12                {'experiment_id': 'r1dd37mcxv5pf4', 'random_state': 4, 'live_volume': 0.0, 'dead_volume': 29, 'stain': 'SYTOX Red Stain'}  True       12                      False              False                     \n",
      "\n",
      "Run finished at 23:36:47. Total run time = 65.97 seconds\n",
      "^^^^^^^^^^^^^^^^^^^^^^^^^^^^^^^^^^^^^^^^^^^^^^^^^^^^^^^^^^^^^^^^^^^^^^^^^^^^^^^^^^^^^^^^^^^^^^^^^^^^\n",
      "\n",
      "\n",
      "\n",
      "\n",
      "HI\n",
      "{'experiment_id': 'r1dd37mcxv5pf4', 'random_state': 4, 'live_volume': 0.0, 'dead_volume': 29, 'stain': None}\n",
      "data_columns: ['Container Type', 'Control', 'Culture_Volume', 'Media', 'Replicate', 'Storage (C)', 'Strain', 'checksum', 'filename', 'kill', 'kill_volume', 'plate_id', 'source', 'stain', 'well', 'experiment_id', 'Time', 'FSC-A', 'SSC-A', 'BL1-A', 'RL1-A', 'FSC-H', 'SSC-H', 'BL1-H', 'RL1-H', 'FSC-W', 'SSC-W', 'BL1-W', 'RL1-W']\n"
     ]
    },
    {
     "name": "stderr",
     "output_type": "stream",
     "text": [
      "/Users/danbryce/Documents/sift/xplan/external/xplan/xplan-to-autoprotocol-reactor/xplan-dev-env/xplan-dev-env/lib/python3.7/site-packages/pandas/core/indexing.py:480: SettingWithCopyWarning: \n",
      "A value is trying to be set on a copy of a slice from a DataFrame.\n",
      "Try using .loc[row_indexer,col_indexer] = value instead\n",
      "\n",
      "See the caveats in the documentation: http://pandas.pydata.org/pandas-docs/stable/user_guide/indexing.html#returning-a-view-versus-a-copy\n",
      "  self.obj[item] = s\n"
     ]
    },
    {
     "name": "stdout",
     "output_type": "stream",
     "text": [
      "['FSC-A', 'SSC-A', 'BL1-A', 'RL1-A', 'FSC-H', 'SSC-H', 'BL1-H', 'RL1-H', 'FSC-W', 'SSC-W', 'BL1-W', 'RL1-W']\n",
      "\n",
      "<harness.test_harness_class.TestHarness object at 0x31d7ba278>\n"
     ]
    },
    {
     "name": "stderr",
     "output_type": "stream",
     "text": [
      "/Users/danbryce/Documents/sift/xplan/external/xplan/xplan-to-autoprotocol-reactor/xplan-dev-env/xplan-dev-env/lib/python3.7/site-packages/pandas/core/indexing.py:362: SettingWithCopyWarning: \n",
      "A value is trying to be set on a copy of a slice from a DataFrame.\n",
      "Try using .loc[row_indexer,col_indexer] = value instead\n",
      "\n",
      "See the caveats in the documentation: http://pandas.pydata.org/pandas-docs/stable/user_guide/indexing.html#returning-a-view-versus-a-copy\n",
      "  self.obj[key] = _infer_fill_value(value)\n"
     ]
    },
    {
     "name": "stdout",
     "output_type": "stream",
     "text": [
      "HI\n",
      "----------------------------------------------------------------------------------------------------\n",
      "Starting run at time 23:36:53\n",
      "Normalizing training and testing splits...\n",
      "Starting Classification training...\n",
      "Training time was: 52.32 seconds\n",
      "Testing time was: 1.77 seconds\n",
      "\n",
      "          Run ID        Date      Time                    Model Name Model Author Num Classes  Accuracy  Balanced Accuracy  AUC Score  Average Precision  F1 Score  Precision  Recall Samples In Train Samples In Test                                                                                      Model Description Column Predicted Num Features Used                                                                                    Data and Split Description Normalized Num Features Normalized Feature Extraction Was Untested Data Predicted\n",
      "0  52LjE9Q3LRJMM  2019-07-28  23:36:53  random_forest_classification  Hamed        2           0.638     0.638              0.691      0.673              0.64      0.637      0.643   192000           48000           Random Forest: n_estimators=361, max_features=auto, criterion=entropy, min_samples_leaf=13, n_jobs=-1  class_label      12                {'experiment_id': 'r1dd37mcxv5pf4', 'random_state': 4, 'live_volume': 0.0, 'dead_volume': 29, 'stain': None}  True       12                      False              False                     \n",
      "\n",
      "Run finished at 23:37:49. Total run time = 55.99 seconds\n",
      "^^^^^^^^^^^^^^^^^^^^^^^^^^^^^^^^^^^^^^^^^^^^^^^^^^^^^^^^^^^^^^^^^^^^^^^^^^^^^^^^^^^^^^^^^^^^^^^^^^^^\n",
      "\n",
      "\n",
      "\n",
      "\n",
      "HI\n"
     ]
    }
   ],
   "source": [
    "# Single time point and Eth titration\n",
    "blda.train_models_for_stats(df, \n",
    "                            data_dir=work_dir, \n",
    "                            fcs_columns=['FSC-A', 'SSC-A', 'BL1-A', 'RL1-A', 'FSC-H', \n",
    "                                      'SSC-H', 'BL1-H', 'RL1-H', 'FSC-W', 'SSC-W',\n",
    "                                      'BL1-W', 'RL1-W'])\n"
   ]
  },
  {
   "cell_type": "code",
   "execution_count": 112,
   "metadata": {},
   "outputs": [
    {
     "name": "stdout",
     "output_type": "stream",
     "text": [
      "SYTOX Red Stain\n",
      "{'experiment_id': 'r1dd37mcxv5pf4', 'random_state': 0, 'live_volume': 0, 'dead_volume': 980.0, 'stain': 'SYTOX Red Stain', 'prediction': True}\n",
      "data_columns: ['Container Type', 'Control', 'Culture_Volume', 'Media', 'Replicate', 'Storage (C)', 'Strain', 'checksum', 'filename', 'kill', 'kill_volume', 'plate_id', 'source', 'stain', 'well', 'experiment_id', 'Time', 'FSC-A', 'SSC-A', 'BL1-A', 'RL1-A', 'FSC-H', 'SSC-H', 'BL1-H', 'RL1-H', 'FSC-W', 'SSC-W', 'BL1-W', 'RL1-W']\n"
     ]
    },
    {
     "name": "stderr",
     "output_type": "stream",
     "text": [
      "/Users/danbryce/Documents/sift/xplan/external/xplan/xplan-to-autoprotocol-reactor/xplan-dev-env/xplan-dev-env/lib/python3.7/site-packages/pandas/core/indexing.py:480: SettingWithCopyWarning: \n",
      "A value is trying to be set on a copy of a slice from a DataFrame.\n",
      "Try using .loc[row_indexer,col_indexer] = value instead\n",
      "\n",
      "See the caveats in the documentation: http://pandas.pydata.org/pandas-docs/stable/user_guide/indexing.html#returning-a-view-versus-a-copy\n",
      "  self.obj[item] = s\n"
     ]
    },
    {
     "name": "stdout",
     "output_type": "stream",
     "text": [
      "['FSC-A', 'SSC-A', 'BL1-A', 'RL1-A', 'FSC-H', 'SSC-H', 'BL1-H', 'RL1-H', 'FSC-W', 'SSC-W', 'BL1-W', 'RL1-W']\n",
      "\n",
      "<harness.test_harness_class.TestHarness object at 0x1c09a25c0>\n"
     ]
    },
    {
     "name": "stderr",
     "output_type": "stream",
     "text": [
      "/Users/danbryce/Documents/sift/xplan/external/xplan/xplan-to-autoprotocol-reactor/xplan-dev-env/xplan-dev-env/lib/python3.7/site-packages/pandas/core/indexing.py:362: SettingWithCopyWarning: \n",
      "A value is trying to be set on a copy of a slice from a DataFrame.\n",
      "Try using .loc[row_indexer,col_indexer] = value instead\n",
      "\n",
      "See the caveats in the documentation: http://pandas.pydata.org/pandas-docs/stable/user_guide/indexing.html#returning-a-view-versus-a-copy\n",
      "  self.obj[key] = _infer_fill_value(value)\n"
     ]
    },
    {
     "name": "stdout",
     "output_type": "stream",
     "text": [
      "----------------------------------------------------------------------------------------------------\n",
      "Starting run at time 14:03:08\n",
      "Normalizing training and testing splits...\n",
      "Starting Classification training...\n",
      "Training time was: 41.69 seconds\n",
      "Testing time was: 0.75 seconds\n",
      "Prediction time of untested data was: 16.60473394393921\n",
      "\n",
      "          Run ID        Date      Time                    Model Name Model Author Num Classes  Accuracy  Balanced Accuracy  AUC Score  Average Precision  F1 Score  Precision  Recall Samples In Train Samples In Test                                                                                      Model Description Column Predicted Num Features Used                                                                                                                      Data and Split Description Normalized Num Features Normalized Feature Extraction Was Untested Data Predicted\n",
      "0  5W3jAjw9ez6zr  2019-07-30  14:03:08  random_forest_classification  Hamed        2           0.998     0.998              1.0        1.0                0.998     0.999      0.998   192000           48000           Random Forest: n_estimators=361, max_features=auto, criterion=entropy, min_samples_leaf=13, n_jobs=-1  class_label      12                {'experiment_id': 'r1dd37mcxv5pf4', 'random_state': 0, 'live_volume': 0, 'dead_volume': 980.0, 'stain': 'SYTOX Red Stain', 'prediction': True}  True       12                      False              True                      \n",
      "\n",
      "Run finished at 14:04:20. Total run time = 71.48 seconds\n",
      "^^^^^^^^^^^^^^^^^^^^^^^^^^^^^^^^^^^^^^^^^^^^^^^^^^^^^^^^^^^^^^^^^^^^^^^^^^^^^^^^^^^^^^^^^^^^^^^^^^^^\n",
      "\n",
      "\n",
      "\n",
      "\n",
      "output_col: live\n",
      "None\n",
      "{'experiment_id': 'r1dd37mcxv5pf4', 'random_state': 0, 'live_volume': 0, 'dead_volume': 980.0, 'stain': None, 'prediction': True}\n",
      "data_columns: ['Container Type', 'Control', 'Culture_Volume', 'Media', 'Replicate', 'Storage (C)', 'Strain', 'checksum', 'filename', 'kill', 'kill_volume', 'plate_id', 'source', 'stain', 'well', 'experiment_id', 'Time', 'FSC-A', 'SSC-A', 'BL1-A', 'RL1-A', 'FSC-H', 'SSC-H', 'BL1-H', 'RL1-H', 'FSC-W', 'SSC-W', 'BL1-W', 'RL1-W']\n"
     ]
    },
    {
     "name": "stderr",
     "output_type": "stream",
     "text": [
      "/Users/danbryce/Documents/sift/xplan/external/xplan/xplan-to-autoprotocol-reactor/xplan-dev-env/xplan-dev-env/lib/python3.7/site-packages/pandas/core/indexing.py:480: SettingWithCopyWarning: \n",
      "A value is trying to be set on a copy of a slice from a DataFrame.\n",
      "Try using .loc[row_indexer,col_indexer] = value instead\n",
      "\n",
      "See the caveats in the documentation: http://pandas.pydata.org/pandas-docs/stable/user_guide/indexing.html#returning-a-view-versus-a-copy\n",
      "  self.obj[item] = s\n"
     ]
    },
    {
     "name": "stdout",
     "output_type": "stream",
     "text": [
      "['FSC-A', 'SSC-A', 'BL1-A', 'RL1-A', 'FSC-H', 'SSC-H', 'BL1-H', 'RL1-H', 'FSC-W', 'SSC-W', 'BL1-W', 'RL1-W']\n",
      "\n",
      "<harness.test_harness_class.TestHarness object at 0x339257c50>\n"
     ]
    },
    {
     "name": "stderr",
     "output_type": "stream",
     "text": [
      "/Users/danbryce/Documents/sift/xplan/external/xplan/xplan-to-autoprotocol-reactor/xplan-dev-env/xplan-dev-env/lib/python3.7/site-packages/pandas/core/indexing.py:362: SettingWithCopyWarning: \n",
      "A value is trying to be set on a copy of a slice from a DataFrame.\n",
      "Try using .loc[row_indexer,col_indexer] = value instead\n",
      "\n",
      "See the caveats in the documentation: http://pandas.pydata.org/pandas-docs/stable/user_guide/indexing.html#returning-a-view-versus-a-copy\n",
      "  self.obj[key] = _infer_fill_value(value)\n"
     ]
    },
    {
     "name": "stdout",
     "output_type": "stream",
     "text": [
      "----------------------------------------------------------------------------------------------------\n",
      "Starting run at time 14:04:30\n",
      "Normalizing training and testing splits...\n",
      "Starting Classification training...\n",
      "Training time was: 45.57 seconds\n",
      "Testing time was: 0.85 seconds\n",
      "Prediction time of untested data was: 16.545056104660034\n",
      "\n",
      "          Run ID        Date      Time                    Model Name Model Author Num Classes  Accuracy  Balanced Accuracy  AUC Score  Average Precision  F1 Score  Precision  Recall Samples In Train Samples In Test                                                                                      Model Description Column Predicted Num Features Used                                                                                                         Data and Split Description Normalized Num Features Normalized Feature Extraction Was Untested Data Predicted\n",
      "0  EWoyeqNla8WWM  2019-07-30  14:04:30  random_forest_classification  Hamed        2           0.994     0.994              1.0        1.0                0.994     0.993      0.996   192000           48000           Random Forest: n_estimators=361, max_features=auto, criterion=entropy, min_samples_leaf=13, n_jobs=-1  class_label      12                {'experiment_id': 'r1dd37mcxv5pf4', 'random_state': 0, 'live_volume': 0, 'dead_volume': 980.0, 'stain': None, 'prediction': True}  True       12                      False              True                      \n",
      "\n",
      "Run finished at 14:05:44. Total run time = 74.49 seconds\n",
      "^^^^^^^^^^^^^^^^^^^^^^^^^^^^^^^^^^^^^^^^^^^^^^^^^^^^^^^^^^^^^^^^^^^^^^^^^^^^^^^^^^^^^^^^^^^^^^^^^^^^\n",
      "\n",
      "\n",
      "\n",
      "\n",
      "output_col: live\n"
     ]
    }
   ],
   "source": [
    "df = pd.read_csv(os.path.join(work_dir, 'data.csv'), index_col=0)\n",
    "\n",
    "pred_df = blda.train_models_for_prediction(df, data_dir=work_dir,\n",
    "                                 fcs_columns=['FSC-A', 'SSC-A', 'BL1-A', 'RL1-A', 'FSC-H', \n",
    "                                      'SSC-H', 'BL1-H', 'RL1-H', 'FSC-W', 'SSC-W',\n",
    "                                      'BL1-W', 'RL1-W'],\n",
    "                                           combine_stains=False,\n",
    "                                          overwrite=True,\n",
    "                                          output_col = 'live')\n",
    "pred_df.to_csv(os.path.join(work_dir, 'data.csv'))"
   ]
  },
  {
   "cell_type": "code",
   "execution_count": 116,
   "metadata": {},
   "outputs": [
    {
     "name": "stderr",
     "output_type": "stream",
     "text": [
      "/Users/danbryce/Documents/sift/xplan/external/xplan/xplan-to-autoprotocol-reactor/xplan-dev-env/xplan-dev-env/lib/python3.7/site-packages/IPython/core/interactiveshell.py:3057: DtypeWarning: Columns (1,2,3,4,5,6,7,10,13,14) have mixed types. Specify dtype option on import or set low_memory=False.\n",
      "  interactivity=interactivity, compiler=compiler, result=result)\n",
      "/Users/danbryce/Documents/sift/xplan/external/xplan/xplan-to-autoprotocol-reactor/xplan-dev-env/xplan-dev-env/lib/python3.7/site-packages/numpy/lib/arraysetops.py:569: FutureWarning: elementwise comparison failed; returning scalar instead, but in the future will perform elementwise comparison\n",
      "  mask |= (ar1 == a)\n"
     ]
    },
    {
     "name": "stdout",
     "output_type": "stream",
     "text": [
      "SYTOX Red Stain\n",
      "{'experiment_id': 'r1dd37mcxv5pf4', 'random_state': 0, 'live_volume': 0, 'dead_volume': 980.0, 'stain': 'SYTOX Red Stain', 'prediction': True, 'channels': ['SSC-A', 'SSC-H', 'SSC-W']}\n",
      "data_columns: ['Container Type', 'Control', 'Culture_Volume', 'Media', 'Replicate', 'Storage (C)', 'Strain', 'checksum', 'filename', 'kill', 'kill_volume', 'plate_id', 'source', 'stain', 'well', 'experiment_id', 'Time', 'FSC-A', 'SSC-A', 'BL1-A', 'RL1-A', 'FSC-H', 'SSC-H', 'BL1-H', 'RL1-H', 'FSC-W', 'SSC-W', 'BL1-W', 'RL1-W', 'index', 'live']\n"
     ]
    },
    {
     "name": "stderr",
     "output_type": "stream",
     "text": [
      "/Users/danbryce/Documents/sift/xplan/external/xplan/xplan-to-autoprotocol-reactor/xplan-dev-env/xplan-dev-env/lib/python3.7/site-packages/pandas/core/indexing.py:480: SettingWithCopyWarning: \n",
      "A value is trying to be set on a copy of a slice from a DataFrame.\n",
      "Try using .loc[row_indexer,col_indexer] = value instead\n",
      "\n",
      "See the caveats in the documentation: http://pandas.pydata.org/pandas-docs/stable/user_guide/indexing.html#returning-a-view-versus-a-copy\n",
      "  self.obj[item] = s\n"
     ]
    },
    {
     "name": "stdout",
     "output_type": "stream",
     "text": [
      "['SSC-A', 'SSC-H', 'SSC-W']\n",
      "\n",
      "<harness.test_harness_class.TestHarness object at 0x11f74c860>\n",
      "----------------------------------------------------------------------------------------------------\n",
      "Starting run at time 14:10:11\n",
      "Normalizing training and testing splits...\n",
      "Starting Classification training...\n",
      "Training time was: 27.55 seconds\n",
      "Testing time was: 0.84 seconds\n",
      "Prediction time of untested data was: 17.089905261993408\n",
      "\n",
      "          Run ID        Date      Time                    Model Name Model Author Num Classes  Accuracy  Balanced Accuracy  AUC Score  Average Precision  F1 Score  Precision  Recall Samples In Train Samples In Test                                                                                      Model Description Column Predicted Num Features Used                                                                                                                                                               Data and Split Description Normalized Num Features Normalized Feature Extraction Was Untested Data Predicted\n",
      "0  6gD7RVbGQPB6N  2019-07-30  14:10:11  random_forest_classification  Hamed        2           0.989     0.989              0.998      0.997              0.989     0.983      0.995   192000           48000           Random Forest: n_estimators=361, max_features=auto, criterion=entropy, min_samples_leaf=13, n_jobs=-1  class_label      3                 {'experiment_id': 'r1dd37mcxv5pf4', 'random_state': 0, 'live_volume': 0, 'dead_volume': 980.0, 'stain': 'SYTOX Red Stain', 'prediction': True, 'channels': ['SSC-A', 'SSC-H', 'SSC-W']}  True       3                       False              True                      \n",
      "\n",
      "Run finished at 14:11:06. Total run time = 55.35 seconds\n",
      "^^^^^^^^^^^^^^^^^^^^^^^^^^^^^^^^^^^^^^^^^^^^^^^^^^^^^^^^^^^^^^^^^^^^^^^^^^^^^^^^^^^^^^^^^^^^^^^^^^^^\n",
      "\n",
      "\n",
      "\n",
      "\n",
      "output_col: live_ss\n",
      "nan\n",
      "{'experiment_id': 'r1dd37mcxv5pf4', 'random_state': 0, 'live_volume': 0, 'dead_volume': 980.0, 'stain': nan, 'prediction': True, 'channels': ['SSC-A', 'SSC-H', 'SSC-W']}\n",
      "data_columns: ['Container Type', 'Control', 'Culture_Volume', 'Media', 'Replicate', 'Storage (C)', 'Strain', 'checksum', 'filename', 'kill', 'kill_volume', 'plate_id', 'source', 'stain', 'well', 'experiment_id', 'Time', 'FSC-A', 'SSC-A', 'BL1-A', 'RL1-A', 'FSC-H', 'SSC-H', 'BL1-H', 'RL1-H', 'FSC-W', 'SSC-W', 'BL1-W', 'RL1-W', 'index', 'live']\n"
     ]
    },
    {
     "name": "stderr",
     "output_type": "stream",
     "text": [
      "/Users/danbryce/Documents/sift/xplan/external/xplan/xplan-to-autoprotocol-reactor/xplan-dev-env/xplan-dev-env/lib/python3.7/site-packages/pandas/core/indexing.py:480: SettingWithCopyWarning: \n",
      "A value is trying to be set on a copy of a slice from a DataFrame.\n",
      "Try using .loc[row_indexer,col_indexer] = value instead\n",
      "\n",
      "See the caveats in the documentation: http://pandas.pydata.org/pandas-docs/stable/user_guide/indexing.html#returning-a-view-versus-a-copy\n",
      "  self.obj[item] = s\n"
     ]
    },
    {
     "name": "stdout",
     "output_type": "stream",
     "text": [
      "['SSC-A', 'SSC-H', 'SSC-W']\n",
      "\n",
      "<harness.test_harness_class.TestHarness object at 0x32a949a58>\n",
      "----------------------------------------------------------------------------------------------------\n",
      "Starting run at time 14:11:17\n",
      "Normalizing training and testing splits...\n",
      "Starting Classification training...\n",
      "Training time was: 28.10 seconds\n",
      "Testing time was: 1.36 seconds\n",
      "Prediction time of untested data was: 21.104886054992676\n",
      "\n",
      "          Run ID        Date      Time                    Model Name Model Author Num Classes  Accuracy  Balanced Accuracy  AUC Score  Average Precision  F1 Score  Precision  Recall Samples In Train Samples In Test                                                                                      Model Description Column Predicted Num Features Used                                                                                                                                                 Data and Split Description Normalized Num Features Normalized Feature Extraction Was Untested Data Predicted\n",
      "0  5RvNyJBOeZwrM  2019-07-30  14:11:17  random_forest_classification  Hamed        2           0.985     0.985              0.997      0.996              0.985     0.979      0.992   192000           48000           Random Forest: n_estimators=361, max_features=auto, criterion=entropy, min_samples_leaf=13, n_jobs=-1  class_label      3                 {'experiment_id': 'r1dd37mcxv5pf4', 'random_state': 0, 'live_volume': 0, 'dead_volume': 980.0, 'stain': nan, 'prediction': True, 'channels': ['SSC-A', 'SSC-H', 'SSC-W']}  True       3                       False              True                      \n",
      "\n",
      "Run finished at 14:12:18. Total run time = 60.34 seconds\n",
      "^^^^^^^^^^^^^^^^^^^^^^^^^^^^^^^^^^^^^^^^^^^^^^^^^^^^^^^^^^^^^^^^^^^^^^^^^^^^^^^^^^^^^^^^^^^^^^^^^^^^\n",
      "\n",
      "\n",
      "\n",
      "\n",
      "output_col: live_ss\n"
     ]
    }
   ],
   "source": [
    "# Train on just side scatter\n",
    "df = pd.read_csv(os.path.join(work_dir, 'data.csv'), index_col=0)\n",
    "pred_df = blda.train_models_for_prediction(df, data_dir=work_dir,\n",
    "                                 fcs_columns=[ 'SSC-A','SSC-H', 'SSC-W'],\n",
    "                                           combine_stains=False,\n",
    "                                          overwrite=True,\n",
    "                                          additional_description={\n",
    "                                              'channels' : [ 'SSC-A','SSC-H', 'SSC-W']\n",
    "                                          },\n",
    "                                          output_col = 'live_ss')\n",
    "pred_df.to_csv(os.path.join(work_dir, 'data.csv'))"
   ]
  }
 ],
 "metadata": {
  "kernelspec": {
   "display_name": "Python 3",
   "language": "python",
   "name": "python3"
  },
  "language_info": {
   "codemirror_mode": {
    "name": "ipython",
    "version": 3
   },
   "file_extension": ".py",
   "mimetype": "text/x-python",
   "name": "python",
   "nbconvert_exporter": "python",
   "pygments_lexer": "ipython3",
   "version": "3.6.8"
  }
 },
 "nbformat": 4,
 "nbformat_minor": 2
}
