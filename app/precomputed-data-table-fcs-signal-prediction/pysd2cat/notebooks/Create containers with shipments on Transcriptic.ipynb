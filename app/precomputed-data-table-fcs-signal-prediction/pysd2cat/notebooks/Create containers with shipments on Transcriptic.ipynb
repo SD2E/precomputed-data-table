{
 "cells": [
  {
   "cell_type": "markdown",
   "metadata": {},
   "source": [
    "# Creating containers and shipments via the Transcriptic REST API"
   ]
  },
  {
   "cell_type": "code",
   "execution_count": 2,
   "metadata": {},
   "outputs": [],
   "source": [
    "import requests\n",
    "import json\n",
    "import autoprotocol as ap"
   ]
  },
  {
   "cell_type": "markdown",
   "metadata": {},
   "source": [
    "## 1. Set your Auth headers and endpoint"
   ]
  },
  {
   "cell_type": "code",
   "execution_count": 24,
   "metadata": {},
   "outputs": [],
   "source": [
    "headers = {\"X-User-Email\": 'dbryce@sift.net',  # user-account-email\n",
    "           \"X-User-Token\": 'F8bPPxtAxLxgknrRnrya',  # Regular-mode API key\n",
    "           \"Content-Type\": \"application/json\",\n",
    "           \"Accept\": \"application/json\"}\n",
    "\n",
    "organization = 'sd2org' #put your org name here, you can find it in the URL when logged into the web app.\n",
    "url = \"https://secure.transcriptic.com/sd2org/inventory/samples/create_with_shipment\""
   ]
  },
  {
   "cell_type": "markdown",
   "metadata": {},
   "source": [
    "## 2. Build your shipment object\n",
    "\n",
    "Create a dict containing an array of `containers`. Each container will have a dict of `aliquots` zero-indexed. Aliquots require a `name` and a `volume_ul`. The properties dict can be empty but it can also be populated with key value pairs to further describe the well. Features like compound ID, concentration and solvent can be useful.\n"
   ]
  },
  {
   "cell_type": "code",
   "execution_count": 18,
   "metadata": {},
   "outputs": [
    {
     "data": {
      "text/plain": [
       "'{\"containers\": [{\"label\": \"danb_test_plate\", \"container_type\": \"384-flat-white-white-proxiplate-plus\", \"storage_condition\": \"cold_4\", \"test_mode\": true, \"aliquots\": {\"0\": {\"name\": \"Chlorodibromethane\", \"volume_ul\": 8, \"properties\": {}}, \"1\": {\"name\": \"Dimefuron\", \"volume_ul\": 8, \"properties\": {}}, \"2\": {\"name\": \"o-Chloronitrobenzene\", \"volume_ul\": 8, \"properties\": {}}}}]}'"
      ]
     },
     "execution_count": 18,
     "metadata": {},
     "output_type": "execute_result"
    }
   ],
   "source": [
    "example_shipment_object = json.loads(\"\"\"{\n",
    "  \"containers\": [{\n",
    "    \"label\": \"danb_test_plate\",\n",
    "    \"container_type\": \"384-flat-white-white-proxiplate-plus\",\n",
    "    \"storage_condition\": \"cold_4\",\n",
    "    \"test_mode\": true,\n",
    "    \"aliquots\": {\n",
    "      \"0\": {\n",
    "        \"name\": \"Chlorodibromethane\",\n",
    "        \"volume_ul\": 8,\n",
    "        \"properties\": {\n",
    "        }\n",
    "      },\n",
    "      \"1\": {\n",
    "        \"name\": \"Dimefuron\",\n",
    "        \"volume_ul\": 8,\n",
    "        \"properties\": {\n",
    "        }\n",
    "      },\n",
    "      \"2\": {\n",
    "        \"name\": \"o-Chloronitrobenzene\",\n",
    "        \"volume_ul\": 8,\n",
    "        \"properties\": {\n",
    "        }\n",
    "      }\n",
    "    }\n",
    "  }]\n",
    "}\"\"\")\n",
    "\n",
    "body = json.dumps(example_shipment_object)\n",
    "body"
   ]
  },
  {
   "cell_type": "markdown",
   "metadata": {},
   "source": [
    "# POST the request\n",
    "\n",
    "HTTP POST the request to the `create_with_shipment` endpoint and collect the response which sould return `201 Created`."
   ]
  },
  {
   "cell_type": "code",
   "execution_count": 25,
   "metadata": {},
   "outputs": [
    {
     "name": "stdout",
     "output_type": "stream",
     "text": [
      "https://secure.transcriptic.com/sd2org/inventory/samples/create_with_shipment\n",
      "{\"containers\": [{\"label\": \"danb_test_plate\", \"container_type\": \"384-flat-white-white-proxiplate-plus\", \"storage_condition\": \"cold_4\", \"test_mode\": true, \"aliquots\": {\"0\": {\"name\": \"Chlorodibromethane\", \"volume_ul\": 8, \"properties\": {}}, \"1\": {\"name\": \"Dimefuron\", \"volume_ul\": 8, \"properties\": {}}, \"2\": {\"name\": \"o-Chloronitrobenzene\", \"volume_ul\": 8, \"properties\": {}}}}]}\n",
      "{'X-User-Email': 'dbryce@sift.net', 'X-User-Token': 'F8bPPxtAxLxgknrRnrya', 'Content-Type': 'application/json', 'Accept': 'application/json'}\n"
     ]
    },
    {
     "data": {
      "text/plain": [
       "<Response [201]>"
      ]
     },
     "execution_count": 25,
     "metadata": {},
     "output_type": "execute_result"
    }
   ],
   "source": [
    "# POST body to the run endpoint\n",
    "print(url)\n",
    "print(body)\n",
    "print(headers)\n",
    "response = requests.post(url, body, headers=headers)\n",
    "response"
   ]
  },
  {
   "cell_type": "markdown",
   "metadata": {},
   "source": [
    "Parse the response contents"
   ]
  },
  {
   "cell_type": "code",
   "execution_count": 26,
   "metadata": {},
   "outputs": [],
   "source": [
    "resp = json.loads(response.content)"
   ]
  },
  {
   "cell_type": "code",
   "execution_count": 27,
   "metadata": {},
   "outputs": [
    {
     "data": {
      "text/plain": [
       "{'containers': [{'id': 'ct1eb96btb4gjuq',\n",
       "   'container_type_id': '384-flat-white-white-proxiplate-plus',\n",
       "   'barcode': None,\n",
       "   'deleted_at': None,\n",
       "   'created_at': '2020-04-13T18:14:16.440-07:00',\n",
       "   'accessions': 0,\n",
       "   'organization_id': 'org1amxh23ednpz',\n",
       "   'slot': None,\n",
       "   'cover': None,\n",
       "   'test_mode': True,\n",
       "   'label': 'danb_test_plate',\n",
       "   'location_id': None,\n",
       "   'shipment_id': 'sr1eb96btbk95j5',\n",
       "   'storage_condition': 'cold_4',\n",
       "   'shipment_code': 'HNX',\n",
       "   'status': 'inbound',\n",
       "   'expires_at': None,\n",
       "   'container_type': {'id': '384-flat-white-white-proxiplate-plus',\n",
       "    'name': '384-well flat-bottom polystyrene proximity plus plate',\n",
       "    'well_count': 384,\n",
       "    'well_depth_mm': '5.3',\n",
       "    'well_volume_ul': '28.0',\n",
       "    'capabilities': ['incubate',\n",
       "     'seal',\n",
       "     'unseal',\n",
       "     'image_plate',\n",
       "     'stamp',\n",
       "     'dispense',\n",
       "     'spin',\n",
       "     'flash_freeze',\n",
       "     'echo_dest',\n",
       "     'liquid_handle',\n",
       "     'cover',\n",
       "     'fluorescence',\n",
       "     'luminescence',\n",
       "     'pipette',\n",
       "     'uncover',\n",
       "     'envision',\n",
       "     'dispense-destination'],\n",
       "    'shortname': '384-flat-white-white-proxiplate-plus',\n",
       "    'col_count': 24,\n",
       "    'is_tube': False,\n",
       "    'acceptable_lids': ['universal', 'ultra-clear', 'foil'],\n",
       "    'height_mm': '14.35',\n",
       "    'vendor': 'PerkinElmer',\n",
       "    'catalog_number': '6008280',\n",
       "    'retired_at': None,\n",
       "    'sale_price': '9.6866'},\n",
       "   'aliquots': [{'id': 'aq1eb96btb92ccu',\n",
       "     'container_id': 'ct1eb96btb4gjuq',\n",
       "     'well_idx': 2,\n",
       "     'created_at': '2020-04-13T18:14:16.444-07:00',\n",
       "     'volume_ul': '8.0',\n",
       "     'name': 'o-Chloronitrobenzene',\n",
       "     'properties': {},\n",
       "     'lot_no': None},\n",
       "    {'id': 'aq1eb96btb7w68u',\n",
       "     'container_id': 'ct1eb96btb4gjuq',\n",
       "     'well_idx': 1,\n",
       "     'created_at': '2020-04-13T18:14:16.444-07:00',\n",
       "     'volume_ul': '8.0',\n",
       "     'name': 'Dimefuron',\n",
       "     'properties': {},\n",
       "     'lot_no': None},\n",
       "    {'id': 'aq1eb96btb7w68t',\n",
       "     'container_id': 'ct1eb96btb4gjuq',\n",
       "     'well_idx': 0,\n",
       "     'created_at': '2020-04-13T18:14:16.444-07:00',\n",
       "     'volume_ul': '8.0',\n",
       "     'name': 'Chlorodibromethane',\n",
       "     'properties': {},\n",
       "     'lot_no': None}]}],\n",
       " 'shipment': {'id': 'sr1eb96btbk95j5',\n",
       "  'shipment_type': 'sample',\n",
       "  'organization_id': 'org1amxh23ednpz',\n",
       "  'data': {},\n",
       "  'checked_in_at': None,\n",
       "  'created_at': '2020-04-13T18:14:16.453-07:00',\n",
       "  'label': 'VUYZ',\n",
       "  'editable': True,\n",
       "  'name': None,\n",
       "  'packing_url': None,\n",
       "  'created_by': None,\n",
       "  'user_id': 'u1b64bbpxftks',\n",
       "  'status': 'pending',\n",
       "  'organization': {'id': 'org1amxh23ednpz', 'name': 'DARPA SD2'},\n",
       "  'user': {'id': 'u1b64bbpxftks',\n",
       "   'first_name': 'Dan',\n",
       "   'last_name': 'Bryce',\n",
       "   'profile_img_url': None,\n",
       "   'name': 'Dan Bryce'}}}"
      ]
     },
     "execution_count": 27,
     "metadata": {},
     "output_type": "execute_result"
    }
   ],
   "source": [
    "resp"
   ]
  },
  {
   "cell_type": "markdown",
   "metadata": {},
   "source": [
    "Access the shipment"
   ]
  },
  {
   "cell_type": "code",
   "execution_count": 85,
   "metadata": {},
   "outputs": [
    {
     "data": {
      "text/plain": [
       "{'id': 'sr1chmnspg3vrm',\n",
       " 'shipment_type': 'sample',\n",
       " 'organization_id': 'org18qrjdh7jn27',\n",
       " 'data': {},\n",
       " 'checked_in_at': None,\n",
       " 'created_at': '2019-03-02T11:11:16.595-08:00',\n",
       " 'label': 'TWZU',\n",
       " 'editable': True,\n",
       " 'name': None,\n",
       " 'packing_url': None,\n",
       " 'created_by': None,\n",
       " 'user_id': 'u16r2fqgpp93m',\n",
       " 'status': 'pending',\n",
       " 'organization': {'id': 'org18qrjdh7jn27', 'name': 'Swift on Pharma'},\n",
       " 'user': {'id': 'u16r2fqgpp93m',\n",
       "  'first_name': 'Ben',\n",
       "  'last_name': 'Miles',\n",
       "  'profile_img_url': 'https://static-public.transcriptic.com/profile_pics/6197c3d7-ab0a-41ac-b3b2-59c173d00e02/profile_pic.jpg',\n",
       "  'name': 'Ben Miles'}}"
      ]
     },
     "execution_count": 85,
     "metadata": {},
     "output_type": "execute_result"
    }
   ],
   "source": [
    "resp[\"shipment\"]"
   ]
  },
  {
   "cell_type": "markdown",
   "metadata": {},
   "source": [
    "Access the array of containers in the shipment"
   ]
  },
  {
   "cell_type": "code",
   "execution_count": 87,
   "metadata": {},
   "outputs": [],
   "source": [
    "containers = resp[\"containers\"]"
   ]
  },
  {
   "cell_type": "markdown",
   "metadata": {},
   "source": [
    "You will want to pull out the 3 letter identifier to be physically added to the corresponding container."
   ]
  },
  {
   "cell_type": "code",
   "execution_count": 88,
   "metadata": {},
   "outputs": [
    {
     "name": "stdout",
     "output_type": "stream",
     "text": [
      "my_plate -> TAR\n"
     ]
    }
   ],
   "source": [
    "for container in containers:\n",
    "    print(container[\"label\"], \"->\", container[\"shipment_code\"])"
   ]
  },
  {
   "cell_type": "markdown",
   "metadata": {},
   "source": [
    "Then grab the accessioning code which will go on the shipping label"
   ]
  },
  {
   "cell_type": "code",
   "execution_count": 89,
   "metadata": {},
   "outputs": [
    {
     "name": "stdout",
     "output_type": "stream",
     "text": [
      "Transcriptic, Inc\n",
      "      \n",
      "ATTN: Accessioning TWZU\n",
      "      \n",
      "3565 Haven Avenue Suite 3\n",
      "      \n",
      "Menlo Park, CA 94025\n"
     ]
    }
   ],
   "source": [
    "print(f'''Transcriptic, Inc\n",
    "      \\nATTN: Accessioning {resp['shipment'][\"label\"]}\n",
    "      \\n3565 Haven Avenue Suite 3\n",
    "      \\nMenlo Park, CA 94025''')"
   ]
  },
  {
   "cell_type": "code",
   "execution_count": 90,
   "metadata": {},
   "outputs": [
    {
     "name": "stdout",
     "output_type": "stream",
     "text": [
      "my_plate\n"
     ]
    },
    {
     "data": {
      "text/plain": [
       "25.0"
      ]
     },
     "execution_count": 90,
     "metadata": {},
     "output_type": "execute_result"
    }
   ],
   "source": [
    "p = ap.Protocol()\n",
    "ben = p.ref(\"my_plate\",\n",
    "            cont_type=\"96-flat\",\n",
    "            storage=\"cold_4\",\n",
    "            discard=False)\n",
    "print(ben.name)\n",
    "for well in ben.all_wells():\n",
    "    well.name = \"cool_compound\"\n",
    "    well.volume = \"25:uL\"\n",
    "float(ap.Unit(ben.all_wells()[0].volume).magnitude)"
   ]
  },
  {
   "cell_type": "code",
   "execution_count": 91,
   "metadata": {},
   "outputs": [
    {
     "data": {
      "text/plain": [
       "ContainerType(name='96-well flat-bottom plate', is_tube=False, well_count=96, well_depth_mm=None, well_volume_ul=Unit(340.0, 'microliter'), well_coating=None, sterile=False, cover_types=['low_evaporation', 'standard', 'universal'], seal_types=None, capabilities=['liquid_handle', 'spin', 'absorbance', 'fluorescence', 'luminescence', 'incubate', 'gel_separate', 'gel_purify', 'cover', 'dispense'], shortname='96-flat', col_count=12, dead_volume_ul=Unit(25, 'microliter'), safe_min_volume_ul=Unit(65, 'microliter'), true_max_vol_ul=Unit(340.0, 'microliter'), vendor='Corning', cat_no='3632', prioritize_seal_or_cover='seal')"
      ]
     },
     "execution_count": 91,
     "metadata": {},
     "output_type": "execute_result"
    }
   ],
   "source": [
    "ben.container_type"
   ]
  },
  {
   "cell_type": "code",
   "execution_count": 75,
   "metadata": {},
   "outputs": [],
   "source": [
    "def create_shipment(refs):\n",
    "    containers = []\n",
    "    for ref in refs:\n",
    "        aliquots = []\n",
    "        for well in ref.all_wells():\n",
    "            aliquot = {\n",
    "                str(well.index): {\n",
    "                    \"name\": well.name,\n",
    "                    \"volume_ul\": float(ap.Unit(well.volume).magnitude),\n",
    "                    \"properties\": {}\n",
    "                }\n",
    "            }\n",
    "            aliquots.append(aliquot)\n",
    "        container = {\n",
    "            \"label\": ref.name,\n",
    "            \"container_type\": ref.container_type,\n",
    "            \"storage_condition\": ref.storage,\n",
    "            \"test_mode\": False,\n",
    "            \"aliquots\": aliquots\n",
    "        }\n",
    "        containers.append(container)\n",
    "    shipment_object = containers\n",
    "    return shipment_object"
   ]
  },
  {
   "cell_type": "code",
   "execution_count": 76,
   "metadata": {},
   "outputs": [],
   "source": [
    "ship = create_shipment([ben])"
   ]
  },
  {
   "cell_type": "code",
   "execution_count": 71,
   "metadata": {},
   "outputs": [
    {
     "data": {
      "text/plain": [
       "{'label': 'my_plate',\n",
       " 'container_type': '384-flat-white-white-proxiplate-plus',\n",
       " 'storage_condition': 'cold_4',\n",
       " 'test_mode': False,\n",
       " 'aliquots': [{'0': {'name': 'alex', 'volume_ul': 25.0, 'properties': {}}},\n",
       "  {'1': {'name': 'alex', 'volume_ul': 25.0, 'properties': {}}},\n",
       "  {'2': {'name': 'alex', 'volume_ul': 25.0, 'properties': {}}},\n",
       "  {'3': {'name': 'alex', 'volume_ul': 25.0, 'properties': {}}},\n",
       "  {'4': {'name': 'alex', 'volume_ul': 25.0, 'properties': {}}},\n",
       "  {'5': {'name': 'alex', 'volume_ul': 25.0, 'properties': {}}},\n",
       "  {'6': {'name': 'alex', 'volume_ul': 25.0, 'properties': {}}},\n",
       "  {'7': {'name': 'alex', 'volume_ul': 25.0, 'properties': {}}},\n",
       "  {'8': {'name': 'alex', 'volume_ul': 25.0, 'properties': {}}},\n",
       "  {'9': {'name': 'alex', 'volume_ul': 25.0, 'properties': {}}},\n",
       "  {'10': {'name': 'alex', 'volume_ul': 25.0, 'properties': {}}},\n",
       "  {'11': {'name': 'alex', 'volume_ul': 25.0, 'properties': {}}},\n",
       "  {'12': {'name': 'alex', 'volume_ul': 25.0, 'properties': {}}},\n",
       "  {'13': {'name': 'alex', 'volume_ul': 25.0, 'properties': {}}},\n",
       "  {'14': {'name': 'alex', 'volume_ul': 25.0, 'properties': {}}},\n",
       "  {'15': {'name': 'alex', 'volume_ul': 25.0, 'properties': {}}},\n",
       "  {'16': {'name': 'alex', 'volume_ul': 25.0, 'properties': {}}},\n",
       "  {'17': {'name': 'alex', 'volume_ul': 25.0, 'properties': {}}},\n",
       "  {'18': {'name': 'alex', 'volume_ul': 25.0, 'properties': {}}},\n",
       "  {'19': {'name': 'alex', 'volume_ul': 25.0, 'properties': {}}},\n",
       "  {'20': {'name': 'alex', 'volume_ul': 25.0, 'properties': {}}},\n",
       "  {'21': {'name': 'alex', 'volume_ul': 25.0, 'properties': {}}},\n",
       "  {'22': {'name': 'alex', 'volume_ul': 25.0, 'properties': {}}},\n",
       "  {'23': {'name': 'alex', 'volume_ul': 25.0, 'properties': {}}},\n",
       "  {'24': {'name': 'alex', 'volume_ul': 25.0, 'properties': {}}},\n",
       "  {'25': {'name': 'alex', 'volume_ul': 25.0, 'properties': {}}},\n",
       "  {'26': {'name': 'alex', 'volume_ul': 25.0, 'properties': {}}},\n",
       "  {'27': {'name': 'alex', 'volume_ul': 25.0, 'properties': {}}},\n",
       "  {'28': {'name': 'alex', 'volume_ul': 25.0, 'properties': {}}},\n",
       "  {'29': {'name': 'alex', 'volume_ul': 25.0, 'properties': {}}},\n",
       "  {'30': {'name': 'alex', 'volume_ul': 25.0, 'properties': {}}},\n",
       "  {'31': {'name': 'alex', 'volume_ul': 25.0, 'properties': {}}},\n",
       "  {'32': {'name': 'alex', 'volume_ul': 25.0, 'properties': {}}},\n",
       "  {'33': {'name': 'alex', 'volume_ul': 25.0, 'properties': {}}},\n",
       "  {'34': {'name': 'alex', 'volume_ul': 25.0, 'properties': {}}},\n",
       "  {'35': {'name': 'alex', 'volume_ul': 25.0, 'properties': {}}},\n",
       "  {'36': {'name': 'alex', 'volume_ul': 25.0, 'properties': {}}},\n",
       "  {'37': {'name': 'alex', 'volume_ul': 25.0, 'properties': {}}},\n",
       "  {'38': {'name': 'alex', 'volume_ul': 25.0, 'properties': {}}},\n",
       "  {'39': {'name': 'alex', 'volume_ul': 25.0, 'properties': {}}},\n",
       "  {'40': {'name': 'alex', 'volume_ul': 25.0, 'properties': {}}},\n",
       "  {'41': {'name': 'alex', 'volume_ul': 25.0, 'properties': {}}},\n",
       "  {'42': {'name': 'alex', 'volume_ul': 25.0, 'properties': {}}},\n",
       "  {'43': {'name': 'alex', 'volume_ul': 25.0, 'properties': {}}},\n",
       "  {'44': {'name': 'alex', 'volume_ul': 25.0, 'properties': {}}},\n",
       "  {'45': {'name': 'alex', 'volume_ul': 25.0, 'properties': {}}},\n",
       "  {'46': {'name': 'alex', 'volume_ul': 25.0, 'properties': {}}},\n",
       "  {'47': {'name': 'alex', 'volume_ul': 25.0, 'properties': {}}},\n",
       "  {'48': {'name': 'alex', 'volume_ul': 25.0, 'properties': {}}},\n",
       "  {'49': {'name': 'alex', 'volume_ul': 25.0, 'properties': {}}},\n",
       "  {'50': {'name': 'alex', 'volume_ul': 25.0, 'properties': {}}},\n",
       "  {'51': {'name': 'alex', 'volume_ul': 25.0, 'properties': {}}},\n",
       "  {'52': {'name': 'alex', 'volume_ul': 25.0, 'properties': {}}},\n",
       "  {'53': {'name': 'alex', 'volume_ul': 25.0, 'properties': {}}},\n",
       "  {'54': {'name': 'alex', 'volume_ul': 25.0, 'properties': {}}},\n",
       "  {'55': {'name': 'alex', 'volume_ul': 25.0, 'properties': {}}},\n",
       "  {'56': {'name': 'alex', 'volume_ul': 25.0, 'properties': {}}},\n",
       "  {'57': {'name': 'alex', 'volume_ul': 25.0, 'properties': {}}},\n",
       "  {'58': {'name': 'alex', 'volume_ul': 25.0, 'properties': {}}},\n",
       "  {'59': {'name': 'alex', 'volume_ul': 25.0, 'properties': {}}},\n",
       "  {'60': {'name': 'alex', 'volume_ul': 25.0, 'properties': {}}},\n",
       "  {'61': {'name': 'alex', 'volume_ul': 25.0, 'properties': {}}},\n",
       "  {'62': {'name': 'alex', 'volume_ul': 25.0, 'properties': {}}},\n",
       "  {'63': {'name': 'alex', 'volume_ul': 25.0, 'properties': {}}},\n",
       "  {'64': {'name': 'alex', 'volume_ul': 25.0, 'properties': {}}},\n",
       "  {'65': {'name': 'alex', 'volume_ul': 25.0, 'properties': {}}},\n",
       "  {'66': {'name': 'alex', 'volume_ul': 25.0, 'properties': {}}},\n",
       "  {'67': {'name': 'alex', 'volume_ul': 25.0, 'properties': {}}},\n",
       "  {'68': {'name': 'alex', 'volume_ul': 25.0, 'properties': {}}},\n",
       "  {'69': {'name': 'alex', 'volume_ul': 25.0, 'properties': {}}},\n",
       "  {'70': {'name': 'alex', 'volume_ul': 25.0, 'properties': {}}},\n",
       "  {'71': {'name': 'alex', 'volume_ul': 25.0, 'properties': {}}},\n",
       "  {'72': {'name': 'alex', 'volume_ul': 25.0, 'properties': {}}},\n",
       "  {'73': {'name': 'alex', 'volume_ul': 25.0, 'properties': {}}},\n",
       "  {'74': {'name': 'alex', 'volume_ul': 25.0, 'properties': {}}},\n",
       "  {'75': {'name': 'alex', 'volume_ul': 25.0, 'properties': {}}},\n",
       "  {'76': {'name': 'alex', 'volume_ul': 25.0, 'properties': {}}},\n",
       "  {'77': {'name': 'alex', 'volume_ul': 25.0, 'properties': {}}},\n",
       "  {'78': {'name': 'alex', 'volume_ul': 25.0, 'properties': {}}},\n",
       "  {'79': {'name': 'alex', 'volume_ul': 25.0, 'properties': {}}},\n",
       "  {'80': {'name': 'alex', 'volume_ul': 25.0, 'properties': {}}},\n",
       "  {'81': {'name': 'alex', 'volume_ul': 25.0, 'properties': {}}},\n",
       "  {'82': {'name': 'alex', 'volume_ul': 25.0, 'properties': {}}},\n",
       "  {'83': {'name': 'alex', 'volume_ul': 25.0, 'properties': {}}},\n",
       "  {'84': {'name': 'alex', 'volume_ul': 25.0, 'properties': {}}},\n",
       "  {'85': {'name': 'alex', 'volume_ul': 25.0, 'properties': {}}},\n",
       "  {'86': {'name': 'alex', 'volume_ul': 25.0, 'properties': {}}},\n",
       "  {'87': {'name': 'alex', 'volume_ul': 25.0, 'properties': {}}},\n",
       "  {'88': {'name': 'alex', 'volume_ul': 25.0, 'properties': {}}},\n",
       "  {'89': {'name': 'alex', 'volume_ul': 25.0, 'properties': {}}},\n",
       "  {'90': {'name': 'alex', 'volume_ul': 25.0, 'properties': {}}},\n",
       "  {'91': {'name': 'alex', 'volume_ul': 25.0, 'properties': {}}},\n",
       "  {'92': {'name': 'alex', 'volume_ul': 25.0, 'properties': {}}},\n",
       "  {'93': {'name': 'alex', 'volume_ul': 25.0, 'properties': {}}},\n",
       "  {'94': {'name': 'alex', 'volume_ul': 25.0, 'properties': {}}},\n",
       "  {'95': {'name': 'alex', 'volume_ul': 25.0, 'properties': {}}}]}"
      ]
     },
     "execution_count": 71,
     "metadata": {},
     "output_type": "execute_result"
    }
   ],
   "source": [
    "ship[0]"
   ]
  },
  {
   "cell_type": "code",
   "execution_count": 4,
   "metadata": {},
   "outputs": [],
   "source": [
    "import transcriptic as tx"
   ]
  },
  {
   "cell_type": "code",
   "execution_count": 15,
   "metadata": {},
   "outputs": [],
   "source": [
    "from transcriptic.config import Connection\n",
    "api = Connection.from_file(\"~/.transcriptic\")\n"
   ]
  },
  {
   "cell_type": "code",
   "execution_count": 17,
   "metadata": {},
   "outputs": [
    {
     "name": "stderr",
     "output_type": "stream",
     "text": [
      "/anaconda3/envs/my-rdkit-env/lib/python3.6/site-packages/transcriptic-5.6.5-py3.6.egg/transcriptic/jupyter/objects.py:886: UserWarning: ContainerType given is not supported yet in AP-Py\n",
      "  warnings.warn(\"ContainerType given is not supported yet in AP-Py\")\n"
     ]
    }
   ],
   "source": [
    "my_cont = tx.container(\"ct1ce7rfxvata2\")"
   ]
  },
  {
   "cell_type": "code",
   "execution_count": 18,
   "metadata": {},
   "outputs": [
    {
     "data": {
      "text/plain": [
       "Container(Plate 1_test_ben)"
      ]
     },
     "execution_count": 18,
     "metadata": {},
     "output_type": "execute_result"
    }
   ],
   "source": [
    "my_cont"
   ]
  },
  {
   "cell_type": "code",
   "execution_count": 20,
   "metadata": {},
   "outputs": [
    {
     "data": {
      "text/plain": [
       "{}"
      ]
     },
     "execution_count": 20,
     "metadata": {},
     "output_type": "execute_result"
    }
   ],
   "source": [
    "my_cont.attributes[\"properties\"]"
   ]
  },
  {
   "cell_type": "code",
   "execution_count": 21,
   "metadata": {},
   "outputs": [],
   "source": [
    "my_cont.attributes[\"properties\"] = {\"tare_mass\": \"1.0:gram\"}"
   ]
  },
  {
   "cell_type": "code",
   "execution_count": 22,
   "metadata": {},
   "outputs": [
    {
     "data": {
      "text/plain": [
       "{'tare_mass': '1.0:gram'}"
      ]
     },
     "execution_count": 22,
     "metadata": {},
     "output_type": "execute_result"
    }
   ],
   "source": [
    "my_cont.attributes[\"properties\"]"
   ]
  },
  {
   "cell_type": "code",
   "execution_count": null,
   "metadata": {},
   "outputs": [],
   "source": []
  }
 ],
 "metadata": {
  "kernelspec": {
   "display_name": "xplan-dev-env",
   "language": "python",
   "name": "xplan-dev-env"
  },
  "language_info": {
   "codemirror_mode": {
    "name": "ipython",
    "version": 3
   },
   "file_extension": ".py",
   "mimetype": "text/x-python",
   "name": "python",
   "nbconvert_exporter": "python",
   "pygments_lexer": "ipython3",
   "version": "3.7.0"
  }
 },
 "nbformat": 4,
 "nbformat_minor": 2
}
